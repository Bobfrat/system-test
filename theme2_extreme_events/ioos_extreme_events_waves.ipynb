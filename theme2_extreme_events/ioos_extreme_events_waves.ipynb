{
 "metadata": {
  "name": ""
 },
 "nbformat": 3,
 "nbformat_minor": 0,
 "worksheets": [
  {
   "cells": [
    {
     "cell_type": "markdown",
     "metadata": {},
     "source": [
      "># IOOS System Test: [Extreme Events Theme:](https://github.com/ioos/system-test/wiki/Development-of-Test-Themes#theme-2-extreme-events) Inundation"
     ]
    },
    {
     "cell_type": "markdown",
     "metadata": {},
     "source": [
      "### Can we estimate the return period of a wave height by comparing modeled and/or observed wave heights with NOAA exceedance probability plots?"
     ]
    },
    {
     "cell_type": "heading",
     "level": 4,
     "metadata": {},
     "source": [
      "import required libraries"
     ]
    },
    {
     "cell_type": "code",
     "collapsed": false,
     "input": [
      "%pylab inline\n",
      "import matplotlib.pyplot as plt\n",
      "from pylab import *\n",
      "import sys\n",
      "import csv\n",
      "import json\n",
      "from scipy.stats import genextreme\n",
      "import scipy.stats as ss\n",
      "import numpy as np\n",
      "\n",
      "from owslib.csw import CatalogueServiceWeb\n",
      "from owslib import fes\n",
      "import random\n",
      "import netCDF4\n",
      "import pandas as pd\n",
      "import datetime as dt\n",
      "from pyoos.collectors.ndbc.ndbc_sos import NdbcSos\n",
      "import cStringIO\n",
      "import iris\n",
      "import urllib2\n",
      "import parser\n",
      "from lxml import etree       #TODO suggest using bs4 instead for ease of access to XML objects\n",
      "\n",
      "#generated for csw interface\n",
      "#from date_range_formatter import dateRange  #date formatter (R.Signell)\n",
      "import requests              #required for the processing of requests\n",
      "from bs4 import *            #required for the xml parsing of getcaps and get obs\n",
      "from signell_search_functions import * \n",
      "\n",
      "from IPython.display import HTML\n",
      "import folium #required for leaflet mapping\n",
      "from map_bb import get_coordinates # required for mapping the coordinates\n",
      "import calendar #used to get number of days in a month and year"
     ],
     "language": "python",
     "metadata": {},
     "outputs": [
      {
       "output_type": "stream",
       "stream": "stdout",
       "text": [
        "Populating the interactive namespace from numpy and matplotlib\n"
       ]
      },
      {
       "output_type": "stream",
       "stream": "stderr",
       "text": [
        "WARNING: pylab import has clobbered these variables: ['power', 'box', 'linalg', 'random', 'Polygon', 'poly', 'fft', 'info']\n",
        "`%pylab --no-import-all` prevents importing * from pylab and numpy\n"
       ]
      }
     ],
     "prompt_number": 110
    },
    {
     "cell_type": "markdown",
     "metadata": {},
     "source": [
      "some functions from [Rich Signell Notebook](http://nbviewer.ipython.org/github/rsignell-usgs/notebook/blob/fef9438303b49a923024892db1ef3115e34d8271/CSW/IOOS_inundation.ipynb)"
     ]
    },
    {
     "cell_type": "heading",
     "level": 4,
     "metadata": {},
     "source": [
      "Speficy Temporal and Spatial conditions"
     ]
    },
    {
     "cell_type": "code",
     "collapsed": false,
     "input": [
      "#bounding box of interest,[bottom right[lat,lon], top left[lat,lon]]\n",
      "bounding_box_type = \"box\" \n",
      "bounding_box = [[-73.94,40.67],[-69.94,42]]\n",
      "\n",
      "#temporal range\n",
      "start_date = dt.datetime(1991,5,1).strftime('%Y-%m-%d %H:00')\n",
      "end_date = dt.datetime(2014,5,10).strftime('%Y-%m-%d %H:00')\n",
      "time_date_range = [start_date,end_date]  #start_date_end_date\n",
      "\n",
      "print start_date,'to',end_date"
     ],
     "language": "python",
     "metadata": {},
     "outputs": [
      {
       "output_type": "stream",
       "stream": "stdout",
       "text": [
        "1991-05-01 00:00 to 2014-05-10 00:00\n"
       ]
      }
     ],
     "prompt_number": 111
    },
    {
     "cell_type": "code",
     "collapsed": false,
     "input": [
      "endpoint = 'http://www.ngdc.noaa.gov/geoportal/csw' # NGDC Geoportal\n",
      "csw = CatalogueServiceWeb(endpoint,timeout=60)\n",
      "\n",
      "for oper in csw.operations:\n",
      "    if oper.name == 'GetRecords':\n",
      "        #print '\\nISO Queryables:\\n',oper.constraints['SupportedISOQueryables']['values']\n",
      "        pass\n",
      "        \n",
      "#put the names in a dict for ease of access \n",
      "data_dict = {}\n",
      "data_dict[\"waves\"] = {\"names\":['sea_surface_wave_significant_height','significant_wave_height'], \n",
      "                      \"sos_name\":[\"waves\"]}      "
     ],
     "language": "python",
     "metadata": {},
     "outputs": [],
     "prompt_number": 112
    },
    {
     "cell_type": "code",
     "collapsed": false,
     "input": [
      "def dateRange(start_date='1900-01-01',stop_date='2100-01-01',constraint='overlaps'):\n",
      "    if constraint == 'overlaps':\n",
      "        start = fes.PropertyIsLessThanOrEqualTo(propertyname='apiso:TempExtent_begin', literal=stop_date)\n",
      "        stop = fes.PropertyIsGreaterThanOrEqualTo(propertyname='apiso:TempExtent_end', literal=start_date)\n",
      "    elif constraint == 'within':\n",
      "        start = fes.PropertyIsGreaterThanOrEqualTo(propertyname='apiso:TempExtent_begin', literal=start_date)\n",
      "        stop = fes.PropertyIsLessThanOrEqualTo(propertyname='apiso:TempExtent_end', literal=stop_date)\n",
      "    return start,stop"
     ],
     "language": "python",
     "metadata": {},
     "outputs": [],
     "prompt_number": 113
    },
    {
     "cell_type": "code",
     "collapsed": false,
     "input": [
      "# convert User Input into FES filters\n",
      "start,stop = dateRange(start_date,end_date)\n",
      "box = []\n",
      "box.append(bounding_box[0][0])\n",
      "box.append(bounding_box[0][1])\n",
      "box.append(bounding_box[1][0])\n",
      "box.append(bounding_box[1][1])\n",
      "bbox = fes.BBox(box)\n",
      "\n",
      "#use the search name to create search filter\n",
      "or_filt = fes.Or([fes.PropertyIsLike(propertyname='apiso:AnyText',literal=('*%s*' % val),\n",
      "                    escapeChar='\\\\',wildCard='*',singleChar='?') for val in data_dict[\"waves\"][\"names\"]])\n",
      "val = 'Averages'\n",
      "not_filt = fes.Not([fes.PropertyIsLike(propertyname='apiso:AnyText',literal=('*%s*' % val),\n",
      "                        escapeChar='\\\\',wildCard='*',singleChar='?')])"
     ],
     "language": "python",
     "metadata": {},
     "outputs": [],
     "prompt_number": 114
    },
    {
     "cell_type": "code",
     "collapsed": false,
     "input": [
      "filter_list = [fes.And([ bbox, start, stop, or_filt, not_filt]) ]\n",
      "# connect to CSW, explore it's properties\n",
      "# try request using multiple filters \"and\" syntax: [[filter1,filter2]]\n",
      "csw.getrecords2(constraints=filter_list,maxrecords=1000,esn='full')"
     ],
     "language": "python",
     "metadata": {},
     "outputs": [],
     "prompt_number": 115
    },
    {
     "cell_type": "code",
     "collapsed": false,
     "input": [
      "def service_urls(records,service_string='urn:x-esri:specification:ServiceType:odp:url'):\n",
      "    \"\"\"\n",
      "    extract service_urls of a specific type (DAP, SOS) from records\n",
      "    \"\"\"\n",
      "    urls=[]\n",
      "    for key,rec in records.iteritems():        \n",
      "        #create a generator object, and iterate through it until the match is found\n",
      "        #if not found, gets the default value (here \"none\")\n",
      "        url = next((d['url'] for d in rec.references if d['scheme'] == service_string), None)\n",
      "        if url is not None:\n",
      "            urls.append(url)\n",
      "    return urls"
     ],
     "language": "python",
     "metadata": {},
     "outputs": [],
     "prompt_number": 116
    },
    {
     "cell_type": "code",
     "collapsed": false,
     "input": [
      "#print records that are available\n",
      "print \"number of datasets available: \",len(csw.records.keys())"
     ],
     "language": "python",
     "metadata": {},
     "outputs": [
      {
       "output_type": "stream",
       "stream": "stdout",
       "text": [
        "number of datasets available:  12\n"
       ]
      }
     ],
     "prompt_number": 117
    },
    {
     "cell_type": "markdown",
     "metadata": {},
     "source": [
      "Print all the records (should you want too)"
     ]
    },
    {
     "cell_type": "code",
     "collapsed": false,
     "input": [
      "print \"\\n\".join(csw.records)"
     ],
     "language": "python",
     "metadata": {},
     "outputs": [
      {
       "output_type": "stream",
       "stream": "stdout",
       "text": [
        "WW3/Forecasts/GulfOfMaine.nc\n",
        "necofs_gom3_wave\n",
        "WW3/Forecasts/EastCoast.nc\n",
        "inundation_tropical.VIMS_SELFE.Hurricane_Ike_2D_final_run_wave_only\n",
        "inundation_tropical.VIMS_SELFE.Hurricane_Ike_3D_final_run_with_waves\n",
        "inundation_tropical.VIMS_SELFE.Hurricane_Rita_2D_final_run_waves_only\n",
        "inundation_tropical.VIMS_SELFE.Hurricane_Rita_2D_final_run_with_waves\n",
        "inundation_tropical.VIMS_SELFE.Hurricane_Rita_3D_final_run_with_waves\n",
        "coawst_4/use/fmrc/coawst_4_use_best.ncd\n",
        "WW3/Forecasts/NorthAtlantic.nc\n",
        "inundation_tropical.VIMS_SELFE.Hurricane_Ike_2D_final_run_with_waves\n",
        "ww3_global\n"
       ]
      }
     ],
     "prompt_number": 118
    },
    {
     "cell_type": "markdown",
     "metadata": {},
     "source": [
      "Dap URLS"
     ]
    },
    {
     "cell_type": "code",
     "collapsed": false,
     "input": [
      "dap_urls = service_urls(csw.records,service_string='urn:x-esri:specification:ServiceType:odp:url')\n",
      "#remove duplicates and organize\n",
      "dap_urls = sorted(set(dap_urls))\n",
      "print \"Total DAP:\",len(dap_urls)\n",
      "#print the first 5...\n",
      "print \"\\n\".join(dap_urls[:])"
     ],
     "language": "python",
     "metadata": {},
     "outputs": [
      {
       "output_type": "stream",
       "stream": "stdout",
       "text": [
        "Total DAP: 12\n",
        "http://comt.sura.org/thredds/dodsC/data/comt_1_archive/inundation_tropical/VIMS_SELFE/Hurricane_Ike_2D_final_run_wave_only\n",
        "http://comt.sura.org/thredds/dodsC/data/comt_1_archive/inundation_tropical/VIMS_SELFE/Hurricane_Ike_2D_final_run_with_waves\n",
        "http://comt.sura.org/thredds/dodsC/data/comt_1_archive/inundation_tropical/VIMS_SELFE/Hurricane_Ike_3D_final_run_with_waves\n",
        "http://comt.sura.org/thredds/dodsC/data/comt_1_archive/inundation_tropical/VIMS_SELFE/Hurricane_Rita_2D_final_run_waves_only\n",
        "http://comt.sura.org/thredds/dodsC/data/comt_1_archive/inundation_tropical/VIMS_SELFE/Hurricane_Rita_2D_final_run_with_waves\n",
        "http://comt.sura.org/thredds/dodsC/data/comt_1_archive/inundation_tropical/VIMS_SELFE/Hurricane_Rita_3D_final_run_with_waves\n",
        "http://geoport.whoi.edu/thredds/dodsC/coawst_4/use/fmrc/coawst_4_use_best.ncd\n",
        "http://oos.soest.hawaii.edu/thredds/dodsC/hioos/model/wav/ww3/WaveWatch_III_Global_Wave_Model_best.ncd\n",
        "http://www.neracoos.org/thredds/dodsC/WW3/EastCoast.nc\n",
        "http://www.neracoos.org/thredds/dodsC/WW3/GulfOfMaine.nc\n",
        "http://www.neracoos.org/thredds/dodsC/WW3/NorthAtlantic.nc\n",
        "http://www.smast.umassd.edu:8080/thredds/dodsC/FVCOM/NECOFS/Forecasts/NECOFS_WAVE_FORECAST.nc\n"
       ]
      }
     ],
     "prompt_number": 119
    },
    {
     "cell_type": "markdown",
     "metadata": {},
     "source": [
      "SOS URLs"
     ]
    },
    {
     "cell_type": "markdown",
     "metadata": {},
     "source": [
      "#### TODO: Fix waves not being found in catalog"
     ]
    },
    {
     "cell_type": "code",
     "collapsed": false,
     "input": [
      "sos_urls = service_urls(csw.records,service_string='urn:x-esri:specification:ServiceType:sos:url')\n",
      "#remove duplicates and organize\n",
      "if len(sos_urls) ==0:\n",
      "    sos_urls.append(\"http://sdf.ndbc.noaa.gov/sos/server.php\")  #?request=GetCapabilities&service=SOS\n",
      "\n",
      "sos_urls = sorted(set(sos_urls))\n",
      "print \"Total SOS:\",len(sos_urls)\n",
      "print \"\\n\".join(sos_urls)"
     ],
     "language": "python",
     "metadata": {},
     "outputs": [
      {
       "output_type": "stream",
       "stream": "stdout",
       "text": [
        "Total SOS: 1\n",
        "http://sdf.ndbc.noaa.gov/sos/server.php\n"
       ]
      }
     ],
     "prompt_number": 120
    },
    {
     "cell_type": "markdown",
     "metadata": {},
     "source": [
      "### SOS Requirements"
     ]
    },
    {
     "cell_type": "code",
     "collapsed": false,
     "input": [
      "#use the get caps to get station start and get time"
     ],
     "language": "python",
     "metadata": {},
     "outputs": [],
     "prompt_number": 121
    },
    {
     "cell_type": "code",
     "collapsed": false,
     "input": [
      "start_time = dt.datetime.strptime(start_date,'%Y-%m-%d %H:%M')\n",
      "end_time = dt.datetime.strptime(end_date,'%Y-%m-%d %H:%M')"
     ],
     "language": "python",
     "metadata": {},
     "outputs": [],
     "prompt_number": 122
    },
    {
     "cell_type": "code",
     "collapsed": false,
     "input": [
      "iso_start = start_time.strftime('%Y-%m-%dT%H:%M:%SZ')\n",
      "iso_end = end_time.strftime('%Y-%m-%dT%H:%M:%SZ')\n",
      "\n",
      "collector = NdbcSos()\n",
      "collector.start_time = start_time\n",
      "collector.end_time = end_time\n",
      "collector.variables = data_dict[\"waves\"][\"sos_name\"]\n",
      "collector.server.identification.title\n",
      "print collector.start_time,\":\", collector.end_time"
     ],
     "language": "python",
     "metadata": {},
     "outputs": [
      {
       "output_type": "stream",
       "stream": "stdout",
       "text": [
        "1991-05-01 00:00:00+00:00 : 2014-05-10 00:00:00+00:00\n"
       ]
      }
     ],
     "prompt_number": 123
    },
    {
     "cell_type": "code",
     "collapsed": false,
     "input": [
      "print \"Date: \",iso_start,\" to \", iso_end\n",
      "box_str=','.join(str(e) for e in box)\n",
      "print \"Lat/Lon Box: \",box_str\n",
      "#grab the sos url and use it for the service\n",
      "url=(sos_urls[0]+'?'\n",
      "     'service=SOS&request=GetObservation&version=1.0.0&'\n",
      "     'observedProperty=%s&offering=urn:ioos:network:noaa.nws.ndbc:all&'\n",
      "     'featureOfInterest=BBOX:%s&responseFormat=text/tab-separated-values&eventTime=%s') % (\"waves\",box_str,iso_end)\n",
      "print url\n",
      "r = requests.get(url)\n",
      "data = r.text\n",
      "#get the headers for the cols\n",
      "data = data.split(\"\\n\")\n",
      "headers =  data[0]\n",
      "station_list_dict = dict()\n",
      "#parse the headers so i can create a dict\n",
      "c = 0\n",
      "for h in headers.split(\"\\t\"):\n",
      "    field = h.split(\":\")[0].split(\" \")[0]\n",
      "    station_list_dict[field] = {\"id\":c}\n",
      "    c+=1\n",
      "print \"Num of fields:\", c"
     ],
     "language": "python",
     "metadata": {},
     "outputs": [
      {
       "output_type": "stream",
       "stream": "stdout",
       "text": [
        "Date:  1991-05-01T00:00:00Z  to  2014-05-10T00:00:00Z\n",
        "Lat/Lon Box:  -73.94,40.67,-69.94,42\n",
        "http://sdf.ndbc.noaa.gov/sos/server.php?service=SOS&request=GetObservation&version=1.0.0&observedProperty=waves&offering=urn:ioos:network:noaa.nws.ndbc:all&featureOfInterest=BBOX:-73.94,40.67,-69.94,42&responseFormat=text/tab-separated-values&eventTime=2014-05-10T00:00:00Z\n",
        "Num of fields:"
       ]
      },
      {
       "output_type": "stream",
       "stream": "stdout",
       "text": [
        " 26\n"
       ]
      }
     ],
     "prompt_number": 124
    },
    {
     "cell_type": "code",
     "collapsed": false,
     "input": [
      "#create dict of stations\n",
      "station_list = []\n",
      "for i in range(1,len(data)):\n",
      "    station_info = data[i].split(\"\\t\")\n",
      "    if len(station_info)>1:\n",
      "        station = dict()\n",
      "        for field in station_list_dict.keys():        \n",
      "            col = station_list_dict[field][\"id\"]\n",
      "            if col < len(station_info):\n",
      "                station[field] = station_info[col]     \n",
      "        station[\"type\"] = \"obs\"        \n",
      "        station_list.append(station)"
     ],
     "language": "python",
     "metadata": {},
     "outputs": [],
     "prompt_number": 125
    },
    {
     "cell_type": "markdown",
     "metadata": {},
     "source": [
      "#### Add wis site infotmation to station list"
     ]
    },
    {
     "cell_type": "code",
     "collapsed": false,
     "input": [
      "print len(station_list)        "
     ],
     "language": "python",
     "metadata": {},
     "outputs": [
      {
       "output_type": "stream",
       "stream": "stdout",
       "text": [
        "1\n"
       ]
      }
     ],
     "prompt_number": 126
    },
    {
     "cell_type": "code",
     "collapsed": false,
     "input": [
      "from shapely.geometry import Polygon,Point,LineString\n",
      "import sqlite3 as lite"
     ],
     "language": "python",
     "metadata": {},
     "outputs": [],
     "prompt_number": 127
    },
    {
     "cell_type": "code",
     "collapsed": false,
     "input": [
      "#get the WIS stations that are in the bounding box\n",
      "#generate polygon that matches that of the bounding box\n",
      "poly = Polygon(get_coordinates(bounding_box,bounding_box_type))\n",
      "db = r'/Users/rpsdev/Documents/d3/wis_data/wis_stations.db'\n",
      "print poly\n",
      "try:\n",
      "    conn = lite.connect(db)\n",
      "    cur = conn.cursor()\n",
      "    cur.execute(\"SELECT NAME,LAT,LON FROM station_list\")\n",
      "    records = cur.fetchall()\n",
      "    st_yr =int(collector.start_time.year)\n",
      "    ed_yr =int(collector.end_time.year+1)\n",
      "    for r in records:\n",
      "        #name,lat,lon\n",
      "        station_is_contained = poly.contains(Point(float(r[1]),float(r[2])))\n",
      "        #if the station is in the bounds, store it as such\n",
      "        if station_is_contained:\n",
      "            station = dict()\n",
      "            station[\"latitude\"] = float(r[1])\n",
      "            station[\"longitude\"] = float(r[2])\n",
      "            st_name = r[0]\n",
      "            station[\"long_name\"] = \"WIS:\"+ st_name\n",
      "            station[\"id\"] = st_name\n",
      "            station[\"station_id\"] = st_name\n",
      "            station[\"type\"] = \"model\"\n",
      "            station_data = dict()\n",
      "            for yr in range(st_yr,ed_yr+1):\n",
      "                #get the max value from the monthly max to give yearly max\n",
      "                cur.execute(\"select MAX(hmax) from station_data where name=\"+ str(st_name) +\" and date >=\"+str(yr)+\"01 and date <=\"+str(yr)+\"12\")\n",
      "                yearmax = cur.fetchall()\n",
      "                station_data[str(yr)] = {\"max\":yearmax[0],\"num_samples\":0,\"date_string\":\"\"}\n",
      "            station[\"data\"] = station_data\n",
      "            station_list.append(station)\n",
      "except lite.Error:\n",
      "    print \"Error open db.\\n\"\n",
      "\n"
     ],
     "language": "python",
     "metadata": {},
     "outputs": [
      {
       "output_type": "stream",
       "stream": "stdout",
       "text": [
        "POLYGON ((40.67 -73.94, 40.67 -69.94, 42 -69.94, 42 -73.94, 40.67 -73.94))\n"
       ]
      }
     ],
     "prompt_number": 128
    },
    {
     "cell_type": "code",
     "collapsed": false,
     "input": [
      "#print out the station name\n",
      "print station_list[0][\"sensor_id\"]"
     ],
     "language": "python",
     "metadata": {},
     "outputs": [
      {
       "output_type": "stream",
       "stream": "stdout",
       "text": [
        "urn:ioos:sensor:wmo:44039::summarywav1\n"
       ]
      }
     ],
     "prompt_number": 129
    },
    {
     "cell_type": "code",
     "collapsed": false,
     "input": [
      "def get_station_long_name(sta):\n",
      "    \"\"\"\n",
      "    get longName for specific station\n",
      "    \"\"\"\n",
      "    url=(sos_urls[0]+'?service=SOS&'\n",
      "        'request=DescribeSensor&version=1.0.0&outputFormat=text/xml;subtype=\"sensorML/1.0.1\"&'\n",
      "        'procedure=%s') % sta    \n",
      "    tree = etree.parse(urllib2.urlopen(url))\n",
      "    root = tree.getroot()\n",
      "    longName=root.xpath(\"//sml:identifier[@name='longName']/sml:Term/sml:value/text()\", namespaces={'sml':\"http://www.opengis.net/sensorML/1.0.1\"})\n",
      "    return longName"
     ],
     "language": "python",
     "metadata": {},
     "outputs": [],
     "prompt_number": 130
    },
    {
     "cell_type": "code",
     "collapsed": false,
     "input": [
      "def get_sos_data(collector,station_id,sos_name,date_time,field_of_interest):\n",
      "    print \"Station:\",station_id\n",
      "    collector.features = [station_id]\n",
      "    collector.variables = [sos_name] \n",
      "    station_data = dict()\n",
      "    #loop through the years and get the data needed\n",
      "    st_yr =int(collector.start_time.year)\n",
      "    ed_yr =int(collector.end_time.year+1)\n",
      "    #only 31 days are allowed to be requested at once\n",
      "    for year_station in range(st_yr,ed_yr):    \n",
      "        year_station_data = []\n",
      "        date_list = []\n",
      "        for month in range (1,13):\n",
      "                num_days = calendar.monthrange(year_station, month)[1]     \n",
      "\n",
      "                st = dt.datetime(year_station,month,1,0,0,0)\n",
      "                ed = dt.datetime(year_station,month,num_days,23,59,59)\n",
      "\n",
      "                start_time1 = dt.datetime.strptime(str(st),'%Y-%m-%d %H:%M:%S')\n",
      "                end_time1 = dt.datetime.strptime(str(ed),'%Y-%m-%d %H:%M:%S')\n",
      "                \n",
      "                collector.start_time = start_time1\n",
      "                collector.end_time = end_time1\n",
      "                 \n",
      "                try:\n",
      "                    response = collector.raw(responseFormat=\"text/csv\")\n",
      "                    #get the response then get the data\n",
      "                    data =  response.split(\"\\n\")\n",
      "                    first_row = True\n",
      "                    if len(data)>2:\n",
      "                        for d in data:\n",
      "                            d_row = (d.split(\",\"))\n",
      "                            \n",
      "                            if first_row:\n",
      "                                #find the field of interest\n",
      "                                idx1 = [d_row.index(i) for i in d_row if field_of_interest in i][0]\n",
      "                                idx2 = [d_row.index(i) for i in d_row if date_time in i][0]\n",
      "                                first_row = False\n",
      "                            else:  \n",
      "                                if idx1<len(d_row):\n",
      "                                    year_station_data.append(d_row[idx1])\n",
      "                                else:\n",
      "                                    #print idx1,\":\",d_row\n",
      "                                    pass\n",
      "                                    \n",
      "                                if idx2<len(d_row):\n",
      "                                    date_list.append(d_row[idx2])\n",
      "                                else:\n",
      "                                    #print idx2,\":\",d_row\n",
      "                                    pass\n",
      "    \n",
      "                    else:\n",
      "                        #print \"no data...:\",year_station,\":\",month\n",
      "                        pass\n",
      "                except Exception, e: #should only fail if the data is not there\n",
      "                    print e,\":\",year_station,\":\",month\n",
      "\n",
      "        #caluclate the max values   \n",
      "        p = np.array(year_station_data,dtype=np.float)     \n",
      "        if len(p)>2:\n",
      "            station_data[str(year_station)] = {\"max\":np.amax(p),\"num_samples\":len(p),\"date_string\":date_list[np.argmax(p)]}\n",
      "            \n",
      "                    \n",
      "    #reset the collector once complete            \n",
      "    collector.start_time = start_time\n",
      "    collector.end_time = end_time    \n",
      "    return station_data"
     ],
     "language": "python",
     "metadata": {},
     "outputs": [],
     "prompt_number": 131
    },
    {
     "cell_type": "code",
     "collapsed": false,
     "input": [
      "from pydap.client import open_url"
     ],
     "language": "python",
     "metadata": {},
     "outputs": [],
     "prompt_number": 132
    },
    {
     "cell_type": "code",
     "collapsed": false,
     "input": [
      "def get_model_data(dap_urls,st_lat,st_lon):\n",
      "    # use only data within 0.04 degrees (about 4 km)\n",
      "    max_dist=0.04 \n",
      "    \n",
      "    # use only data where the standard deviation of the time series exceeds 0.01 m (1 cm)\n",
      "    # this eliminates flat line model time series that come from land points that \n",
      "    # should have had missing values.\n",
      "    min_var=0.01\n",
      "    for url in dap_urls:\n",
      "        try:\n",
      "           pass            \n",
      "        except:\n",
      "            pass\n",
      "        "
     ],
     "language": "python",
     "metadata": {},
     "outputs": [],
     "prompt_number": 133
    },
    {
     "cell_type": "code",
     "collapsed": false,
     "input": [
      "#get model data for a station\n",
      "get_model_data(dap_urls,41.138,-72.665)"
     ],
     "language": "python",
     "metadata": {},
     "outputs": [],
     "prompt_number": 134
    },
    {
     "cell_type": "code",
     "collapsed": false,
     "input": [
      "#Embeds the HTML source of the map directly into the IPython notebook.\n",
      "\n",
      "def inline_map(map):   \n",
      "    map._build_map()\n",
      "    return HTML('<iframe srcdoc=\"{srcdoc}\" style=\"width: 100%; height: 500px; border: none\"></iframe>'.format(srcdoc=map.HTML.replace('\"', '&quot;')))\n",
      "\n",
      "map = folium.Map(location=[bounding_box[0][1], bounding_box[0][0]], zoom_start=6)\n",
      "\n",
      "station_yearly_max = []\n",
      "for s in station_list:\n",
      "    #get the station data from the sos end point\n",
      "    if s[\"type\"] is \"obs\":\n",
      "        #get the long name        \n",
      "        station_num = str(s['station_id']).split(':')[-1]\n",
      "        s[\"station_num\"] = station_num\n",
      "        s[\"long_name\"] = get_station_long_name(s['station_id'])\n",
      "        raw_data = get_sos_data(collector,station_num,\"waves\",\"date_time\",\"sea_surface_wave_significant_height (m)\")    \n",
      "        s[\"data\"] = raw_data\n",
      "    if \"latitude\" in s:\n",
      "        popup_string = '<b>Station:</b><br>'+str(s['station_id']) + \"<br><b>Long Name:</b><br>\"+str(s[\"long_name\"])+\"<br><br>\"+str(s[\"type\"])\n",
      "        map.simple_marker([s[\"latitude\"],s[\"longitude\"]],popup=popup_string)\n",
      "# Create the map and add the bounding box line\n",
      "map.line(get_coordinates(bounding_box,bounding_box_type), line_color='#FF0000', line_weight=5)\n",
      "\n",
      "inline_map(map)"
     ],
     "language": "python",
     "metadata": {},
     "outputs": [
      {
       "output_type": "stream",
       "stream": "stdout",
       "text": [
        "Station: 44039\n"
       ]
      },
      {
       "html": [
        "<iframe srcdoc=\"<!DOCTYPE html>\n",
        "<head>\n",
        "   <meta http-equiv=&quot;content-type&quot; content=&quot;text/html; charset=UTF-8&quot; />\n",
        "   <link rel=&quot;stylesheet&quot; href=&quot;http://cdn.leafletjs.com/leaflet-0.7.2/leaflet.css&quot; />\n",
        "   <script src=&quot;http://cdn.leafletjs.com/leaflet-0.7.2/leaflet.js&quot;></script>\n",
        "\n",
        "   \n",
        "   \n",
        "   \n",
        "   \n",
        "\n",
        "\n",
        "   <style>\n",
        "\n",
        "      #map {\n",
        "        position:absolute;\n",
        "        top:0;\n",
        "        bottom:0;\n",
        "        right:0;\n",
        "        left:0;\n",
        "      }\n",
        "\n",
        "   </style>\n",
        "</head>\n",
        "\n",
        "<body>\n",
        "\n",
        "   <div class=&quot;folium-map&quot; id=&quot;folium_8c4e260bd7d447aba0449df3c116f85f&quot; style=&quot;width: 960px; height: 500px&quot;></div>\n",
        "\n",
        "   <script>\n",
        "\n",
        "      \n",
        "\n",
        "      var map = L.map('folium_8c4e260bd7d447aba0449df3c116f85f').setView([40.67, -73.94], 6);\n",
        "\n",
        "      L.tileLayer('http://{s}.tile.openstreetmap.org/{z}/{x}/{y}.png', {\n",
        "          maxZoom: 18,\n",
        "          attribution: 'Map data (c) <a href=&quot;http://openstreetmap.org&quot;>OpenStreetMap</a> contributors'\n",
        "      }).addTo(map);\n",
        "\n",
        "      \n",
        "      var marker_1 = L.marker([41.138, -72.655]);\n",
        "      marker_1.bindPopup(&quot;<b>Station:</b><br>urn:ioos:station:wmo:44039<br><b>Long Name:</b><br>['Central Long Island Sound']<br><br>obs&quot;);\n",
        "      map.addLayer(marker_1)\n",
        "      \n",
        "      var marker_2 = L.marker([41.25, -71.0]);\n",
        "      marker_2.bindPopup(&quot;<b>Station:</b><br>63074<br><b>Long Name:</b><br>WIS:63074<br><br>model&quot;);\n",
        "      map.addLayer(marker_2)\n",
        "      \n",
        "      var marker_3 = L.marker([41.25, -71.08]);\n",
        "      marker_3.bindPopup(&quot;<b>Station:</b><br>63075<br><b>Long Name:</b><br>WIS:63075<br><br>model&quot;);\n",
        "      map.addLayer(marker_3)\n",
        "      \n",
        "      var marker_4 = L.marker([41.25, -71.17]);\n",
        "      marker_4.bindPopup(&quot;<b>Station:</b><br>63076<br><b>Long Name:</b><br>WIS:63076<br><br>model&quot;);\n",
        "      map.addLayer(marker_4)\n",
        "      \n",
        "      var marker_5 = L.marker([41.25, -71.25]);\n",
        "      marker_5.bindPopup(&quot;<b>Station:</b><br>63077<br><b>Long Name:</b><br>WIS:63077<br><br>model&quot;);\n",
        "      map.addLayer(marker_5)\n",
        "      \n",
        "      var marker_6 = L.marker([41.25, -71.33]);\n",
        "      marker_6.bindPopup(&quot;<b>Station:</b><br>63078<br><b>Long Name:</b><br>WIS:63078<br><br>model&quot;);\n",
        "      map.addLayer(marker_6)\n",
        "      \n",
        "      var marker_7 = L.marker([41.25, -71.42]);\n",
        "      marker_7.bindPopup(&quot;<b>Station:</b><br>63079<br><b>Long Name:</b><br>WIS:63079<br><br>model&quot;);\n",
        "      map.addLayer(marker_7)\n",
        "      \n",
        "      var marker_8 = L.marker([41.17, -70.33]);\n",
        "      marker_8.bindPopup(&quot;<b>Station:</b><br>63081<br><b>Long Name:</b><br>WIS:63081<br><br>model&quot;);\n",
        "      map.addLayer(marker_8)\n",
        "      \n",
        "      var marker_9 = L.marker([41.17, -70.42]);\n",
        "      marker_9.bindPopup(&quot;<b>Station:</b><br>63082<br><b>Long Name:</b><br>WIS:63082<br><br>model&quot;);\n",
        "      map.addLayer(marker_9)\n",
        "      \n",
        "      var marker_10 = L.marker([41.17, -70.5]);\n",
        "      marker_10.bindPopup(&quot;<b>Station:</b><br>63083<br><b>Long Name:</b><br>WIS:63083<br><br>model&quot;);\n",
        "      map.addLayer(marker_10)\n",
        "      \n",
        "      var marker_11 = L.marker([41.17, -70.58]);\n",
        "      marker_11.bindPopup(&quot;<b>Station:</b><br>63084<br><b>Long Name:</b><br>WIS:63084<br><br>model&quot;);\n",
        "      map.addLayer(marker_11)\n",
        "      \n",
        "      var marker_12 = L.marker([41.17, -70.67]);\n",
        "      marker_12.bindPopup(&quot;<b>Station:</b><br>63085<br><b>Long Name:</b><br>WIS:63085<br><br>model&quot;);\n",
        "      map.addLayer(marker_12)\n",
        "      \n",
        "      var marker_13 = L.marker([41.17, -70.75]);\n",
        "      marker_13.bindPopup(&quot;<b>Station:</b><br>63086<br><b>Long Name:</b><br>WIS:63086<br><br>model&quot;);\n",
        "      map.addLayer(marker_13)\n",
        "      \n",
        "      var marker_14 = L.marker([41.17, -70.83]);\n",
        "      marker_14.bindPopup(&quot;<b>Station:</b><br>63087<br><b>Long Name:</b><br>WIS:63087<br><br>model&quot;);\n",
        "      map.addLayer(marker_14)\n",
        "      \n",
        "      var marker_15 = L.marker([41.17, -70.92]);\n",
        "      marker_15.bindPopup(&quot;<b>Station:</b><br>63088<br><b>Long Name:</b><br>WIS:63088<br><br>model&quot;);\n",
        "      map.addLayer(marker_15)\n",
        "      \n",
        "      var marker_16 = L.marker([41.17, -71.42]);\n",
        "      marker_16.bindPopup(&quot;<b>Station:</b><br>63089<br><b>Long Name:</b><br>WIS:63089<br><br>model&quot;);\n",
        "      map.addLayer(marker_16)\n",
        "      \n",
        "      var marker_17 = L.marker([41.08, -70.0]);\n",
        "      marker_17.bindPopup(&quot;<b>Station:</b><br>63091<br><b>Long Name:</b><br>WIS:63091<br><br>model&quot;);\n",
        "      map.addLayer(marker_17)\n",
        "      \n",
        "      var marker_18 = L.marker([41.08, -70.08]);\n",
        "      marker_18.bindPopup(&quot;<b>Station:</b><br>63092<br><b>Long Name:</b><br>WIS:63092<br><br>model&quot;);\n",
        "      map.addLayer(marker_18)\n",
        "      \n",
        "      var marker_19 = L.marker([41.08, -70.17]);\n",
        "      marker_19.bindPopup(&quot;<b>Station:</b><br>63093<br><b>Long Name:</b><br>WIS:63093<br><br>model&quot;);\n",
        "      map.addLayer(marker_19)\n",
        "      \n",
        "      var marker_20 = L.marker([41.08, -70.25]);\n",
        "      marker_20.bindPopup(&quot;<b>Station:</b><br>63094<br><b>Long Name:</b><br>WIS:63094<br><br>model&quot;);\n",
        "      map.addLayer(marker_20)\n",
        "      \n",
        "      var marker_21 = L.marker([41.08, -71.42]);\n",
        "      marker_21.bindPopup(&quot;<b>Station:</b><br>63095<br><b>Long Name:</b><br>WIS:63095<br><br>model&quot;);\n",
        "      map.addLayer(marker_21)\n",
        "      \n",
        "      var marker_22 = L.marker([41.0, -71.58]);\n",
        "      marker_22.bindPopup(&quot;<b>Station:</b><br>63100<br><b>Long Name:</b><br>WIS:63100<br><br>model&quot;);\n",
        "      map.addLayer(marker_22)\n",
        "      \n",
        "      var marker_23 = L.marker([41.0, -71.67]);\n",
        "      marker_23.bindPopup(&quot;<b>Station:</b><br>63101<br><b>Long Name:</b><br>WIS:63101<br><br>model&quot;);\n",
        "      map.addLayer(marker_23)\n",
        "      \n",
        "      var marker_24 = L.marker([40.92, -71.83]);\n",
        "      marker_24.bindPopup(&quot;<b>Station:</b><br>63102<br><b>Long Name:</b><br>WIS:63102<br><br>model&quot;);\n",
        "      map.addLayer(marker_24)\n",
        "      \n",
        "      var marker_25 = L.marker([40.83, -71.92]);\n",
        "      marker_25.bindPopup(&quot;<b>Station:</b><br>63103<br><b>Long Name:</b><br>WIS:63103<br><br>model&quot;);\n",
        "      map.addLayer(marker_25)\n",
        "      \n",
        "      var marker_26 = L.marker([40.83, -72.0]);\n",
        "      marker_26.bindPopup(&quot;<b>Station:</b><br>63104<br><b>Long Name:</b><br>WIS:63104<br><br>model&quot;);\n",
        "      map.addLayer(marker_26)\n",
        "      \n",
        "      var marker_27 = L.marker([40.83, -72.08]);\n",
        "      marker_27.bindPopup(&quot;<b>Station:</b><br>63105<br><b>Long Name:</b><br>WIS:63105<br><br>model&quot;);\n",
        "      map.addLayer(marker_27)\n",
        "      \n",
        "      var marker_28 = L.marker([40.75, -72.17]);\n",
        "      marker_28.bindPopup(&quot;<b>Station:</b><br>63106<br><b>Long Name:</b><br>WIS:63106<br><br>model&quot;);\n",
        "      map.addLayer(marker_28)\n",
        "      \n",
        "      var marker_29 = L.marker([40.75, -72.25]);\n",
        "      marker_29.bindPopup(&quot;<b>Station:</b><br>63107<br><b>Long Name:</b><br>WIS:63107<br><br>model&quot;);\n",
        "      map.addLayer(marker_29)\n",
        "      \n",
        "      var marker_30 = L.marker([40.75, -72.33]);\n",
        "      marker_30.bindPopup(&quot;<b>Station:</b><br>63108<br><b>Long Name:</b><br>WIS:63108<br><br>model&quot;);\n",
        "      map.addLayer(marker_30)\n",
        "      \n",
        "\n",
        "      \n",
        "      var latLngs = [ [40.67, -73.94],  [40.67, -69.94],  [42, -69.94],  [42, -73.94],  [40.67, -73.94], ];\n",
        "var line_1 = L.polyline(latLngs,{\n",
        "color: '#FF0000',\n",
        "weight: 5,\n",
        "\n",
        "});\n",
        "      map.addLayer(line_1);\n",
        "      \n",
        "\n",
        "      \n",
        "\n",
        "      \n",
        "\n",
        "   </script>\n",
        "\n",
        "</body>\" style=\"width: 100%; height: 500px; border: none\"></iframe>"
       ],
       "metadata": {},
       "output_type": "pyout",
       "prompt_number": 138,
       "text": [
        "<IPython.core.display.HTML at 0x1083e2f90>"
       ]
      }
     ],
     "prompt_number": 138
    },
    {
     "cell_type": "code",
     "collapsed": false,
     "input": [
      "import prettyplotlib as ppl\n",
      "fig, ax = plt.subplots(1)\n",
      "\n",
      "# Show the whole color range\n",
      "for s in station_list:\n",
      "    if \"data\" in s:\n",
      "        years = s[\"data\"].keys()\n",
      "        xx = []\n",
      "        yx = []\n",
      "        for y in years:                \n",
      "            val = s[\"data\"][y][\"max\"]            \n",
      "            if val is not None:\n",
      "                try:\n",
      "                    #round to 2dp                    \n",
      "                    val = \"%.2f\" % val\n",
      "                    yx.append(val)\n",
      "                    xx.append(int(y))\n",
      "                except:\n",
      "                    pass\n",
      "                    \n",
      "        #ppl.scatter(ax, xx, yx,alpha=0.8,edgecolor='black',linewidth=0.15 ,label=str(s[\"station_num\"])+\":\"+str(s[\"long_name\"][0]))\n",
      "        ppl.scatter(ax, xx, yx,alpha=0.8,edgecolor='black',linewidth=0.15 ,label=str(s[\"long_name\"]))  \n",
      "     \n",
      "        \n",
      "ax.legend(loc=1)\n",
      "ax.set_title('Annual Max sea surface wave significant height (m) (Observed & Model)')\n",
      "ax.set_xlabel('Year')\n",
      "ax.set_ylabel('sea surface wave significant height (m)')\n",
      "\n",
      "ax.set_xticks(numpy.arange(st_yr,ed_yr,2))\n",
      "fig.set_size_inches(14,8)\n",
      "\n",
      "# Shink current axis by 20%\n",
      "box = ax.get_position()\n",
      "ax.set_position([box.x0, box.y0, box.width * 0.8, box.height])\n",
      "# Put a legend to the right of the current axis\n",
      "ax.legend(loc='center left', bbox_to_anchor=(1, 0.5))\n"
     ],
     "language": "python",
     "metadata": {},
     "outputs": [
      {
       "metadata": {},
       "output_type": "pyout",
       "prompt_number": 140,
       "text": [
        "<matplotlib.legend.Legend at 0x108476bd0>"
       ]
      },
      {
       "metadata": {},
       "output_type": "display_data",
       "png": "[encoded data removed]",
       "text": [
        "<matplotlib.figure.Figure at 0x108b1bd10>"
       ]
      }
     ],
     "prompt_number": 140
    },
    {
     "cell_type": "heading",
     "level": 3,
     "metadata": {},
     "source": [
      "Extreme Value Analysis:"
     ]
    },
    {
     "cell_type": "code",
     "collapsed": false,
     "input": [
      "annual_max = yx\n",
      "data_levels = []\n",
      "for i in annual_max:\n",
      "    data_levels.append(float(i))\n",
      "annual_max = data_levels    "
     ],
     "language": "python",
     "metadata": {},
     "outputs": [],
     "prompt_number": 153
    },
    {
     "cell_type": "heading",
     "level": 4,
     "metadata": {},
     "source": [
      "Fit data to GEV distribution"
     ]
    },
    {
     "cell_type": "code",
     "collapsed": false,
     "input": [
      "def gev_pdf(x):\n",
      "    return genextreme.pdf(x, xi, loc=mu, scale=sigma)"
     ],
     "language": "python",
     "metadata": {},
     "outputs": [],
     "prompt_number": 154
    },
    {
     "cell_type": "code",
     "collapsed": false,
     "input": [
      "mle = genextreme.fit(sorted(annual_max), 0)\n",
      "mu = mle[1]\n",
      "sigma = mle[2]\n",
      "xi = mle[0]\n",
      "print \"The mean, sigma, and shape parameters are %s, %s, and %s, resp.\" % (mu, sigma, xi)"
     ],
     "language": "python",
     "metadata": {},
     "outputs": [
      {
       "output_type": "stream",
       "stream": "stdout",
       "text": [
        "The mean, sigma, and shape parameters are 5.40883650165, 0.555077077245, and -0.18183077744, resp.\n"
       ]
      }
     ],
     "prompt_number": 155
    },
    {
     "cell_type": "heading",
     "level": 4,
     "metadata": {},
     "source": [
      "Probability Density Plot"
     ]
    },
    {
     "cell_type": "code",
     "collapsed": false,
     "input": [
      "min_x = min(annual_max_levels)-0.5\n",
      "max_x = max(annual_max_levels)+0.5\n",
      "x = np.linspace(min_x, max_x, num=100)\n",
      "y = [gev_pdf(z) for z in x]\n",
      "\n",
      "fig = plt.figure(figsize=(12,6))\n",
      "axes = fig.add_axes([0.1, 0.1, 0.8, 0.8])\n",
      "xlabel = (s[\"long_name\"] + \" - Annual max Wave Height (m)\")\n",
      "axes.set_title(\"Probability Density & Normalized Histogram\")\n",
      "axes.set_xlabel(xlabel)\n",
      "axes.plot(x, y, color='Red')\n",
      "axes.hist(annual_max_levels, bins=arange(min_x, max_x, abs((max_x-min_x)/10)), normed=1, color='Yellow')"
     ],
     "language": "python",
     "metadata": {},
     "outputs": [
      {
       "metadata": {},
       "output_type": "pyout",
       "prompt_number": 160,
       "text": [
        "(array([ 0.        ,  0.25601639,  0.76804916,  0.76804916,  0.25601639,\n",
        "        0.        ,  0.        ,  0.        ,  0.25601639]),\n",
        " array([ 4.29 ,  4.724,  5.158,  5.592,  6.026,  6.46 ,  6.894,  7.328,\n",
        "        7.762,  8.196]),\n",
        " <a list of 9 Patch objects>)"
       ]
      },
      {
       "metadata": {},
       "output_type": "display_data",
       "png": "[encoded data removed]",
       "text": [
        "<matplotlib.figure.Figure at 0x10901e1d0>"
       ]
      }
     ],
     "prompt_number": 160
    },
    {
     "cell_type": "heading",
     "level": 4,
     "metadata": {},
     "source": [
      "Return Value Plot"
     ]
    },
    {
     "cell_type": "code",
     "collapsed": false,
     "input": [
      "fig = plt.figure(figsize=(20,6))\n",
      "axes = fig.add_axes([0.1, 0.1, 0.8, 0.8])\n",
      "T=np.r_[1:500]\n",
      "sT = genextreme.isf(1./T, 0, mu, sigma)\n",
      "axes.semilogx(T, sT, 'r'), hold\n",
      "N=np.r_[1:len(annual_max_levels)+1]; \n",
      "Nmax=max(N);\n",
      "axes.plot(Nmax/N, sorted(annual_max_levels)[::-1], 'bo')\n",
      "title = s[\"long_name\"][0] \n",
      "axes.set_title(title)\n",
      "axes.set_xlabel('Return Period (yrs)')\n",
      "axes.set_ylabel('Return Value') \n",
      "axes.grid(True)"
     ],
     "language": "python",
     "metadata": {},
     "outputs": [
      {
       "metadata": {},
       "output_type": "display_data",
       "png": "[encoded data removed]",
       "text": [
        "<matplotlib.figure.Figure at 0x108fef810>"
       ]
      }
     ],
     "prompt_number": 161
    },
    {
     "cell_type": "heading",
     "level": 4,
     "metadata": {},
     "source": [
      "Compute Confidence Intervals"
     ]
    },
    {
     "cell_type": "code",
     "collapsed": false,
     "input": [
      "def conf_int_scipy(x, ci=0.95):\n",
      "  low_per = 100*(1-ci)/2.\n",
      "  high_per = 100*ci + low_per\n",
      "  mn = x.mean()\n",
      "  cis = ss.scoreatpercentile(x, low_per, high_per)\n",
      "  return mn, cis"
     ],
     "language": "python",
     "metadata": {},
     "outputs": [],
     "prompt_number": 162
    },
    {
     "cell_type": "code",
     "collapsed": false,
     "input": [],
     "language": "python",
     "metadata": {},
     "outputs": []
    }
   ],
   "metadata": {}
  }
 ]
}