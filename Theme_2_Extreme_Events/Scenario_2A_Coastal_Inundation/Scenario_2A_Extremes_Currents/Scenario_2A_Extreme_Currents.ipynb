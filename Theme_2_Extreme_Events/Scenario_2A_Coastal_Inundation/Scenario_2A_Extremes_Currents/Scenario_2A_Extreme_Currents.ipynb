{
 "metadata": {
  "name": "",
  "signature": "sha256:7f1f2d3b4a698353adc131448939e3b251d7217bae3147113599b3983f2da6e9"
 },
 "nbformat": 3,
 "nbformat_minor": 0,
 "worksheets": [
  {
   "cells": [
    {
     "cell_type": "code",
     "collapsed": false,
     "input": [
      "import datetime as dt\n",
      "from warnings import warn\n",
      "\n",
      "import iris\n",
      "from iris.exceptions import CoordinateNotFoundError, ConstraintMismatchError\n",
      "\n",
      "import uuid\n",
      "import folium\n",
      "from IPython.display import HTML, Javascript, display\n",
      "\n",
      "import matplotlib.pyplot as plt\n",
      "from owslib.csw import CatalogueServiceWeb\n",
      "from owslib import fes\n",
      "\n",
      "import numpy as np\n",
      "import pandas as pd\n",
      "from pyoos.collectors.ndbc.ndbc_sos import NdbcSos\n",
      "from pyoos.collectors.coops.coops_sos import CoopsSos\n",
      "import requests\n",
      "\n",
      "from utilities import (date_range, coops2df, coops2data, find_timevar, find_ij, nearxy, service_urls, mod_df, \n",
      "                       get_coordinates, get_Coops_longName, inline_map, get_coops_sensor_name)\n",
      "\n",
      "import cStringIO\n",
      "from lxml import etree\n",
      "import urllib2"
     ],
     "language": "python",
     "metadata": {},
     "outputs": [],
     "prompt_number": 1
    },
    {
     "cell_type": "code",
     "collapsed": false,
     "input": [
      "bounding_box_type = \"box\" \n",
      "\n",
      "# Bounding Box [lon_min, lat_min, lon_max, lat_max]\n",
      "area = {'Hawaii': [-160.0, 18.0, -154., 23.0],\n",
      "        'Gulf of Maine': [-72.0, 41.0, -69.0, 43.0],\n",
      "        'New York harbor region': [-75., 39., -71., 41.5],\n",
      "        'Puerto Rico': [-71, 14, -60, 24],\n",
      "        'East Coast': [-77, 34, -70, 40],\n",
      "        'North West': [-130, 38, -121, 50]}\n",
      "\n",
      "bounding_box = area['North West']\n",
      "\n",
      "#temporal range\n",
      "jd_now = dt.datetime.utcnow()\n",
      "jd_start,  jd_stop = jd_now - dt.timedelta(days=(365*4)), jd_now\n",
      "\n",
      "start_date = jd_start.strftime('%Y-%m-%d %H:00')\n",
      "stop_date = jd_stop.strftime('%Y-%m-%d %H:00')\n",
      "\n",
      "jd_start = dt.datetime.strptime(start_date, '%Y-%m-%d %H:%M')\n",
      "jd_stop = dt.datetime.strptime(stop_date, '%Y-%m-%d %H:%M')\n",
      "print start_date,'to',stop_date"
     ],
     "language": "python",
     "metadata": {},
     "outputs": [
      {
       "output_type": "stream",
       "stream": "stdout",
       "text": [
        "2010-07-11 19:00 to 2014-07-10 19:00\n"
       ]
      }
     ],
     "prompt_number": 2
    },
    {
     "cell_type": "code",
     "collapsed": false,
     "input": [
      "#put the names in a dict for ease of access \n",
      "data_dict = {}\n",
      "sos_name = 'Currents'\n",
      "data_dict['currents'] = {\"names\":['currents',\n",
      "                                  'surface_eastward_sea_water_velocity',\n",
      "                                  '*surface_eastward_sea_water_velocity*'], \n",
      "                         \"sos_name\":['currents']}  "
     ],
     "language": "python",
     "metadata": {},
     "outputs": [],
     "prompt_number": 3
    },
    {
     "cell_type": "markdown",
     "metadata": {},
     "source": [
      "CSW Search"
     ]
    },
    {
     "cell_type": "code",
     "collapsed": false,
     "input": [
      "endpoint = 'http://www.ngdc.noaa.gov/geoportal/csw' # NGDC Geoportal\n",
      "csw = CatalogueServiceWeb(endpoint,timeout=60)\n",
      "\n",
      "for oper in csw.operations:\n",
      "    if oper.name == 'GetRecords':\n",
      "        cnstr = oper.constraints['SupportedISOQueryables']['values']\n",
      "        #print('\\nISO Queryables:%s\\n' % '\\n'.join(cnstr))"
     ],
     "language": "python",
     "metadata": {},
     "outputs": [],
     "prompt_number": 4
    },
    {
     "cell_type": "markdown",
     "metadata": {},
     "source": [
      "Search"
     ]
    },
    {
     "cell_type": "code",
     "collapsed": false,
     "input": [
      "# convert User Input into FES filters\n",
      "start,stop = date_range(start_date,stop_date)\n",
      "bbox = fes.BBox(bounding_box)\n",
      "\n",
      "#use the search name to create search filter\n",
      "or_filt = fes.Or([fes.PropertyIsLike(propertyname='apiso:AnyText',literal=('*%s*' % val),\n",
      "                    escapeChar='\\\\',wildCard='*',singleChar='?') for val in data_dict['currents']['names']])\n",
      "\n",
      "val = 'Averages'\n",
      "not_filt = fes.Not([fes.PropertyIsLike(propertyname='apiso:AnyText',\n",
      "                                       literal=('*%s*' % val),\n",
      "                                       escapeChar='\\\\',\n",
      "                                       wildCard='*',\n",
      "                                       singleChar='?')])\n",
      "filter_list = [fes.And([ bbox, start, stop, or_filt, not_filt]) ]\n",
      "# connect to CSW, explore it's properties\n",
      "# try request using multiple filters \"and\" syntax: [[filter1,filter2]]\n",
      "csw.getrecords2(constraints=filter_list, maxrecords=1000, esn='full')\n",
      "print str(len(csw.records)) + \" csw records found\"\n",
      "for rec, item in csw.records.items():\n",
      "    print(item.title)"
     ],
     "language": "python",
     "metadata": {},
     "outputs": [
      {
       "output_type": "stream",
       "stream": "stdout",
       "text": [
        "25 csw records found\n",
        "Near-Real Time Surface Ocean Velocity\n",
        "Near-Real Time Surface Ocean Velocity\n",
        "Near-Real Time Surface Ocean Velocity\n",
        "Near-Real Time Surface Ocean Velocity\n",
        "Near-Real Time Surface Ocean Velocity\n",
        "Near-Real Time Surface Ocean Velocity\n",
        "Near-Real Time Surface Ocean Velocity\n",
        "Near-Real Time Surface Ocean Velocity\n",
        "Near-Real Time Surface Ocean Velocity\n",
        "Near-Real Time Surface Ocean Velocity\n",
        "Near-Real Time Surface Ocean Velocity\n",
        "Near-Real Time Surface Ocean Velocity\n",
        "Near-Real Time Surface Ocean Velocity\n",
        "Near-Real Time Surface Ocean Velocity\n",
        "Near-Real Time Surface Ocean Velocity\n",
        "Near-Real Time Surface Ocean Velocity\n",
        "Surface CUrrents from a Diagnostic model (SCUD): Pacific\n",
        "Barotropic Tide Model for the Pacific Basin\n",
        "NOAA.NOS.CO-OPS SOS\n",
        "National Data Buoy Center SOS\n",
        "HYbrid Coordinate Ocean Model (HYCOM): Global\n",
        "Near-Real Time Surface Ocean Velocity\n",
        "Near-Real Time Surface Ocean Velocity\n",
        "Near-Real Time Surface Ocean Velocity\n",
        "Near-Real Time Surface Ocean Velocity\n"
       ]
      }
     ],
     "prompt_number": 5
    },
    {
     "cell_type": "markdown",
     "metadata": {},
     "source": [
      "DAP"
     ]
    },
    {
     "cell_type": "code",
     "collapsed": false,
     "input": [
      "dap_urls = service_urls(csw.records)\n",
      "#remove duplicates and organize\n",
      "dap_urls = sorted(set(dap_urls))\n",
      "print \"Total DAP:\",len(dap_urls)\n",
      "#print the first 5...\n",
      "print \"\\n\".join(dap_urls[:])"
     ],
     "language": "python",
     "metadata": {},
     "outputs": [
      {
       "output_type": "stream",
       "stream": "stdout",
       "text": [
        "Total DAP: 11\n",
        "http://hfrnet.ucsd.edu/thredds/dodsC/HFRNet/USWC/1km/hourly/GNOME\n",
        "http://hfrnet.ucsd.edu/thredds/dodsC/HFRNet/USWC/1km/hourly/RTV\n",
        "http://hfrnet.ucsd.edu/thredds/dodsC/HFRNet/USWC/2km/hourly/GNOME\n",
        "http://hfrnet.ucsd.edu/thredds/dodsC/HFRNet/USWC/2km/hourly/RTV\n",
        "http://hfrnet.ucsd.edu/thredds/dodsC/HFRNet/USWC/500m/hourly/GNOME\n",
        "http://hfrnet.ucsd.edu/thredds/dodsC/HFRNet/USWC/500m/hourly/RTV\n",
        "http://hfrnet.ucsd.edu/thredds/dodsC/HFRNet/USWC/6km/hourly/GNOME\n",
        "http://hfrnet.ucsd.edu/thredds/dodsC/HFRNet/USWC/6km/hourly/RTV\n",
        "http://oos.soest.hawaii.edu/thredds/dodsC/hioos/tide_pac\n",
        "http://oos.soest.hawaii.edu/thredds/dodsC/pacioos/hycom/global\n",
        "http://oos.soest.hawaii.edu/thredds/dodsC/pacioos/scud/pac\n"
       ]
      }
     ],
     "prompt_number": 6
    },
    {
     "cell_type": "markdown",
     "metadata": {},
     "source": [
      "Get SOS links, NDBC is not available so add it..."
     ]
    },
    {
     "cell_type": "code",
     "collapsed": false,
     "input": [
      "sos_urls = service_urls(csw.records,service='sos:url')\n",
      "#remove duplicates and organize\n",
      "sos_urls.append(\"http://sdf.ndbc.noaa.gov/sos/server.php\") \n",
      "sos_urls = sorted(set(sos_urls))\n",
      "print \"Total SOS:\",len(sos_urls)\n",
      "print \"\\n\".join(sos_urls)"
     ],
     "language": "python",
     "metadata": {},
     "outputs": [
      {
       "output_type": "stream",
       "stream": "stdout",
       "text": [
        "Total SOS: 2\n",
        "http://opendap.co-ops.nos.noaa.gov/ioos-dif-sos/SOS?service=SOS&request=GetCapabilities\n",
        "http://sdf.ndbc.noaa.gov/sos/server.php\n"
       ]
      }
     ],
     "prompt_number": 7
    },
    {
     "cell_type": "markdown",
     "metadata": {},
     "source": [
      "#### Update SOS timedate"
     ]
    },
    {
     "cell_type": "code",
     "collapsed": false,
     "input": [
      "start_time = dt.datetime.strptime(start_date,'%Y-%m-%d %H:%M')\n",
      "end_time = dt.datetime.strptime(stop_date,'%Y-%m-%d %H:%M')\n",
      "iso_start = start_time.strftime('%Y-%m-%dT%H:%M:%SZ')\n",
      "iso_end = end_time.strftime('%Y-%m-%dT%H:%M:%SZ')"
     ],
     "language": "python",
     "metadata": {},
     "outputs": [],
     "prompt_number": 8
    },
    {
     "cell_type": "markdown",
     "metadata": {},
     "source": [
      "#### Initalize Station Data List"
     ]
    },
    {
     "cell_type": "code",
     "collapsed": false,
     "input": [
      "st_list = {}"
     ],
     "language": "python",
     "metadata": {},
     "outputs": [],
     "prompt_number": 9
    },
    {
     "cell_type": "code",
     "collapsed": false,
     "input": [
      "def processStationInfo(obs_loc_df,st_list,source):\n",
      "    st_data = obs_loc_df['station_id']\n",
      "    lat_data = obs_loc_df['latitude (degree)']\n",
      "    lon_data = obs_loc_df['longitude (degree)']\n",
      "\n",
      "    for i in range(0,len(st_data)):\n",
      "        station_name = st_data[i]\n",
      "        if station_name in st_list:\n",
      "            pass\n",
      "        else:\n",
      "            st_list[station_name] = {}\n",
      "            st_list[station_name][\"lat\"] = lat_data[i]\n",
      "            st_list[station_name][\"source\"] = source\n",
      "            st_list[station_name][\"lon\"] = lon_data[i]\n",
      "            print station_name\n",
      "\n",
      "    print \"number of stations in bbox\",len(st_list.keys())\n",
      "    return st_list"
     ],
     "language": "python",
     "metadata": {},
     "outputs": [],
     "prompt_number": 10
    },
    {
     "cell_type": "markdown",
     "metadata": {},
     "source": [
      "#### Get CO-OPS Station Data"
     ]
    },
    {
     "cell_type": "code",
     "collapsed": false,
     "input": [
      "coops_collector = CoopsSos()\n",
      "coops_collector.start_time = start_time\n",
      "coops_collector.end_time = end_time\n",
      "coops_collector.variables = data_dict[\"currents\"][\"sos_name\"]\n",
      "coops_collector.server.identification.title\n",
      "print coops_collector.start_time,\":\", coops_collector.end_time\n",
      "ofrs = coops_collector.server.offerings\n",
      "print(len(ofrs))"
     ],
     "language": "python",
     "metadata": {},
     "outputs": [
      {
       "output_type": "stream",
       "stream": "stdout",
       "text": [
        "2010-07-11 19:00:00+00:00 : 2014-07-10 19:00:00+00:00\n",
        "1030\n"
       ]
      }
     ],
     "prompt_number": 11
    },
    {
     "cell_type": "code",
     "collapsed": false,
     "input": [
      "print \"Date: \",iso_start,\" to \", iso_end\n",
      "box_str=','.join(str(e) for e in bounding_box)\n",
      "print \"Lat/Lon Box: \",box_str\n",
      "\n",
      "url = (('http://opendap.co-ops.nos.noaa.gov/ioos-dif-sos/SOS?'\n",
      "       'service=SOS&request=GetObservation&version=1.0.0&'\n",
      "       'observedProperty=%s&bin=1&'\n",
      "       'offering=urn:ioos:network:NOAA.NOS.CO-OPS:CurrentsActive&'\n",
      "       'featureOfInterest=BBOX:%s&responseFormat=text/csv') % (sos_name, box_str))\n",
      "\n",
      "print url\n",
      "obs_loc_df = pd.read_csv(url)"
     ],
     "language": "python",
     "metadata": {},
     "outputs": [
      {
       "output_type": "stream",
       "stream": "stdout",
       "text": [
        "Date:  2010-07-11T19:00:00Z  to  2014-07-10T19:00:00Z\n",
        "Lat/Lon Box:  -130,38,-121,50\n",
        "http://opendap.co-ops.nos.noaa.gov/ioos-dif-sos/SOS?service=SOS&request=GetObservation&version=1.0.0&observedProperty=Currents&bin=1&offering=urn:ioos:network:NOAA.NOS.CO-OPS:CurrentsActive&featureOfInterest=BBOX:-130,38,-121,50&responseFormat=text/csv\n"
       ]
      }
     ],
     "prompt_number": 12
    },
    {
     "cell_type": "markdown",
     "metadata": {},
     "source": [
      "#### COOPS Station Information"
     ]
    },
    {
     "cell_type": "code",
     "collapsed": false,
     "input": [
      "st_list = processStationInfo(obs_loc_df,st_list,\"coops\")"
     ],
     "language": "python",
     "metadata": {},
     "outputs": [
      {
       "output_type": "stream",
       "stream": "stdout",
       "text": [
        "urn:ioos:station:NOAA.NOS.CO-OPS:cp0101\n",
        "urn:ioos:station:NOAA.NOS.CO-OPS:hb0301\n",
        "urn:ioos:station:NOAA.NOS.CO-OPS:hb0401\n",
        "urn:ioos:station:NOAA.NOS.CO-OPS:s06010\n",
        "number of stations in bbox 4\n"
       ]
      }
     ],
     "prompt_number": 13
    },
    {
     "cell_type": "code",
     "collapsed": false,
     "input": [
      "print st_list"
     ],
     "language": "python",
     "metadata": {},
     "outputs": [
      {
       "output_type": "stream",
       "stream": "stdout",
       "text": [
        "{'urn:ioos:station:NOAA.NOS.CO-OPS:s06010': {'lat': 38.034599999999998, 'source': 'coops', 'lon': -122.12520000000001}, 'urn:ioos:station:NOAA.NOS.CO-OPS:cp0101': {'lat': 48.8628, 'source': 'coops', 'lon': -122.761}, 'urn:ioos:station:NOAA.NOS.CO-OPS:hb0401': {'lat': 40.777500000000003, 'source': 'coops', 'lon': -124.1966}, 'urn:ioos:station:NOAA.NOS.CO-OPS:hb0301': {'lat': 40.7423, 'source': 'coops', 'lon': -124.2251}}\n"
       ]
      }
     ],
     "prompt_number": 14
    },
    {
     "cell_type": "markdown",
     "metadata": {},
     "source": [
      "#### Get NDBC Station Data"
     ]
    },
    {
     "cell_type": "code",
     "collapsed": false,
     "input": [
      "ndbc_collector = NdbcSos()\n",
      "ndbc_collector.start_time = start_time\n",
      "ndbc_collector.end_time = end_time\n",
      "ndbc_collector.variables = data_dict[\"currents\"][\"sos_name\"]\n",
      "ndbc_collector.server.identification.title\n",
      "print ndbc_collector.start_time,\":\", ndbc_collector.end_time\n",
      "ofrs = ndbc_collector.server.offerings\n",
      "print(len(ofrs))"
     ],
     "language": "python",
     "metadata": {},
     "outputs": [
      {
       "output_type": "stream",
       "stream": "stdout",
       "text": [
        "2010-07-11 19:00:00+00:00 : 2014-07-10 19:00:00+00:00\n",
        "886\n"
       ]
      }
     ],
     "prompt_number": 15
    },
    {
     "cell_type": "code",
     "collapsed": false,
     "input": [
      "print \"Date: \",iso_start,\" to \", iso_end\n",
      "box_str=','.join(str(e) for e in bounding_box)\n",
      "print \"Lat/Lon Box: \",box_str\n",
      "\n",
      "url = (('http://sdf.ndbc.noaa.gov/sos/server.php?'\n",
      "       'request=GetObservation&service=SOS&'\n",
      "       'version=1.0.0&'\n",
      "       'offering=urn:ioos:network:noaa.nws.ndbc:all&'\n",
      "       'featureofinterest=BBOX:%s&'\n",
      "       'observedproperty=%s&'\n",
      "       'responseformat=text/csv&')% (box_str,sos_name))\n",
      "\n",
      "\n",
      "print url\n",
      "obs_loc_df = pd.read_csv(url)"
     ],
     "language": "python",
     "metadata": {},
     "outputs": [
      {
       "output_type": "stream",
       "stream": "stdout",
       "text": [
        "Date:  2010-07-11T19:00:00Z  to  2014-07-10T19:00:00Z\n",
        "Lat/Lon Box:  -130,38,-121,50\n",
        "http://sdf.ndbc.noaa.gov/sos/server.php?request=GetObservation&service=SOS&version=1.0.0&offering=urn:ioos:network:noaa.nws.ndbc:all&featureofinterest=BBOX:-130,38,-121,50&observedproperty=Currents&responseformat=text/csv&\n"
       ]
      }
     ],
     "prompt_number": 16
    },
    {
     "cell_type": "markdown",
     "metadata": {},
     "source": [
      "#### NDBC Station information"
     ]
    },
    {
     "cell_type": "code",
     "collapsed": false,
     "input": [
      "st_list = processStationInfo(obs_loc_df,st_list,\"ndbc\")"
     ],
     "language": "python",
     "metadata": {},
     "outputs": [
      {
       "output_type": "stream",
       "stream": "stdout",
       "text": [
        "urn:ioos:station:wmo:46013\n",
        "urn:ioos:station:wmo:46015\n",
        "urn:ioos:station:wmo:46022\n",
        "urn:ioos:station:wmo:46029\n",
        "urn:ioos:station:wmo:46087\n",
        "urn:ioos:station:wmo:46088\n",
        "urn:ioos:station:wmo:46089\n",
        "number of stations in bbox 11\n"
       ]
      }
     ],
     "prompt_number": 17
    },
    {
     "cell_type": "code",
     "collapsed": false,
     "input": [
      "print st_list"
     ],
     "language": "python",
     "metadata": {},
     "outputs": [
      {
       "output_type": "stream",
       "stream": "stdout",
       "text": [
        "{'urn:ioos:station:NOAA.NOS.CO-OPS:s06010': {'lat': 38.034599999999998, 'source': 'coops', 'lon': -122.12520000000001}, 'urn:ioos:station:NOAA.NOS.CO-OPS:cp0101': {'lat': 48.8628, 'source': 'coops', 'lon': -122.761}, 'urn:ioos:station:wmo:46022': {'lat': 40.780000000000001, 'source': 'ndbc', 'lon': -124.54000000000001}, 'urn:ioos:station:NOAA.NOS.CO-OPS:hb0401': {'lat': 40.777500000000003, 'source': 'coops', 'lon': -124.1966}, 'urn:ioos:station:wmo:46087': {'lat': 49.890000000000001, 'source': 'ndbc', 'lon': -124.73}, 'urn:ioos:station:wmo:46015': {'lat': 42.759999999999998, 'source': 'ndbc', 'lon': -124.83}, 'urn:ioos:station:wmo:46029': {'lat': 46.140000000000001, 'source': 'ndbc', 'lon': -124.51000000000001}, 'urn:ioos:station:NOAA.NOS.CO-OPS:hb0301': {'lat': 40.7423, 'source': 'coops', 'lon': -124.2251}, 'urn:ioos:station:wmo:46013': {'lat': 38.229999999999997, 'source': 'ndbc', 'lon': -123.31999999999999}, 'urn:ioos:station:wmo:46089': {'lat': 45.909999999999997, 'source': 'ndbc', 'lon': -125.76000000000001}, 'urn:ioos:station:wmo:46088': {'lat': 48.329999999999998, 'source': 'ndbc', 'lon': -123.17}}\n"
       ]
      }
     ],
     "prompt_number": 18
    },
    {
     "cell_type": "markdown",
     "metadata": {},
     "source": [
      "#### NDBC Data Access"
     ]
    },
    {
     "cell_type": "code",
     "collapsed": false,
     "input": [
      "def ndbc2data2(collector,station_id,sos_name,iso_start, iso_end):\n",
      "    \"\"\"Extract the Observation Data from the collector.\"\"\"\n",
      "    collector.features = [station_id]\n",
      "    collector.variables = [sos_name]\n",
      "    \n",
      "    url = (('http://sdf.ndbc.noaa.gov/sos/server.php?'\n",
      "       'request=GetObservation&service=SOS&'\n",
      "       'version=1.0.0&'\n",
      "       'offering=%s&'\n",
      "       'featureofinterest=BBOX:%s&'\n",
      "       'observedproperty=%s&'\n",
      "       'responseformat=text/csv&'\n",
      "       'eventtime=%s/%s')% (station_id,box_str,sos_name,iso_start,iso_end))\n",
      "   \n",
      "    \n",
      "    print url\n",
      "    data_df = pd.read_csv(url, parse_dates=True, index_col='date_time')\n",
      "    data_df.name = station_id\n",
      "    return data_df"
     ],
     "language": "python",
     "metadata": {},
     "outputs": [],
     "prompt_number": 19
    },
    {
     "cell_type": "markdown",
     "metadata": {},
     "source": [
      "#### The function only support who date time differences"
     ]
    },
    {
     "cell_type": "code",
     "collapsed": false,
     "input": [
      "def isInteger(n):\n",
      "    \"\"\"Return True if argument is a whole number, False if argument has a fractional part.\"\"\"\n",
      "    if n%2 == 0 or (n+1)%2 == 0:\n",
      "        return True\n",
      "    return False"
     ],
     "language": "python",
     "metadata": {},
     "outputs": [],
     "prompt_number": 20
    },
    {
     "cell_type": "code",
     "collapsed": false,
     "input": [
      "def breakdownCurrentRequest(collector,station_id,max_days,sos_name,divid):\n",
      "    responseFormat = \"csv\"\n",
      "    \n",
      "    #loop through the years and get the data needed\n",
      "    st_time =(collector.start_time)\n",
      "    ed_time =(collector.end_time)\n",
      "    #only max_days days are allowed to be requested at once\n",
      "    #end-start gives days in date time object\n",
      "    dt_diff = ed_time - st_time\n",
      "    num_days = dt_diff.days\n",
      "    num_requests = num_days/max_days\n",
      "    print \"Num requests:\", num_requests\n",
      "    #if its whole days\n",
      "    master_df = pd.DataFrame()\n",
      "    if isInteger(num_requests):\n",
      "        #need to add one to the range\n",
      "        for i in range(1,num_requests+1):\n",
      "            percent_compelte = (float(i)/float(num_requests))*100\n",
      "            display(Javascript(\"$('div#%s').width('%i%%')\" % (divid, int(percent_compelte))))\n",
      "                        \n",
      "            st_days = (i-1)*max_days\n",
      "            ed_days = i*max_days\n",
      "            req_st = st_time + dt.timedelta(days=st_days)\n",
      "            req_end = st_time + dt.timedelta(days=ed_days)\n",
      "            \n",
      "            print req_st,st_days,req_end,ed_days\n",
      "            \n",
      "            iso_start = req_st.strftime('%Y-%m-%dT%H:%M:%SZ')\n",
      "            iso_end = req_end.strftime('%Y-%m-%dT%H:%M:%SZ')\n",
      "                    \n",
      "            if isinstance(collector, CoopsSos):\n",
      "                print \"coops\"\n",
      "                try:\n",
      "                    #use the procedure to get the point over the profile\n",
      "                    procedure = True\n",
      "                    df = coops2df(collector, station_id, sos_name, iso_start, iso_end,procedure)\n",
      "                    master_df = master_df.append(df)\n",
      "                except Exception,e:\n",
      "                    print\"error getting data\",str(e)\n",
      "            elif isinstance(collector, NdbcSos):\n",
      "                print \"ndbc\"\n",
      "        return master_df\n",
      "            \n",
      "    else:\n",
      "        print \"TODO.....\""
     ],
     "language": "python",
     "metadata": {},
     "outputs": [],
     "prompt_number": 21
    },
    {
     "cell_type": "code",
     "collapsed": false,
     "input": [
      "#profile is all the available bins for a sensor (i.e multiple points at a given point in time)\n",
      "#profile will N number of enteries per timedata stamp\n",
      "coops_profile_max_days = 4\n",
      "#point is a single bin (point) for a sensor at a given time\n",
      "#point will 1 entry per timedata stamp\n",
      "coops_point_max_days = 30\n",
      "\n",
      "st = st_list.keys()[0]\n",
      "st =  st.split(\":\")[-1]\n",
      "print st"
     ],
     "language": "python",
     "metadata": {},
     "outputs": [
      {
       "output_type": "stream",
       "stream": "stdout",
       "text": [
        "s06010\n"
       ]
      }
     ],
     "prompt_number": 22
    },
    {
     "cell_type": "code",
     "collapsed": false,
     "input": [
      "divid = str(uuid.uuid4())\n",
      "pb = HTML(\n",
      "\"\"\"\n",
      "<div style=\"border: 1px solid black; width:500px\">\n",
      "  <div id=\"%s\" style=\"background-color:blue; width:0%%\">&nbsp;</div>\n",
      "</div> \n",
      "\"\"\" % divid)\n",
      "display(pb) \n",
      "master_df = breakdownCurrentRequest(coops_collector,st,coops_point_max_days,sos_name,divid)\n",
      "st_list[st]['hasData'] = True"
     ],
     "language": "python",
     "metadata": {},
     "outputs": [
      {
       "html": [
        "\n",
        "<div style=\"border: 1px solid black; width:500px\">\n",
        "  <div id=\"210a4884-1e68-4130-9fbe-752408fef7d0\" style=\"background-color:blue; width:0%\">&nbsp;</div>\n",
        "</div> \n"
       ],
       "metadata": {},
       "output_type": "display_data",
       "text": [
        "<IPython.core.display.HTML at 0x109c4d2d0>"
       ]
      },
      {
       "output_type": "stream",
       "stream": "stdout",
       "text": [
        "Num requests: 48\n"
       ]
      },
      {
       "javascript": [
        "$('div#210a4884-1e68-4130-9fbe-752408fef7d0').width('2%')"
       ],
       "metadata": {},
       "output_type": "display_data",
       "text": [
        "<IPython.core.display.Javascript at 0x109c4d3d0>"
       ]
      },
      {
       "output_type": "stream",
       "stream": "stdout",
       "text": [
        "2010-07-11 16:00:00+00:00 0 2010-08-10 16:00:00+00:00 30\n",
        "coops\n",
        "http://opendap.co-ops.nos.noaa.gov/ioos-dif-sos/SOS?service=SOS&request=GetObservation&version=1.0.0&observedProperty=currents&offering=urn:ioos:station:NOAA.NOS.CO-OPS:s06010&procedure=urn:ioos:sensor:NOAA.NOS.CO-OPS:s06010:SONTEK-ADP-877:rtb&responseFormat=text/csv&eventTime=2010-07-11T16:00:00Z/2010-08-10T16:00:00Z"
       ]
      },
      {
       "output_type": "stream",
       "stream": "stdout",
       "text": [
        "\n"
       ]
      },
      {
       "javascript": [
        "$('div#210a4884-1e68-4130-9fbe-752408fef7d0').width('4%')"
       ],
       "metadata": {},
       "output_type": "display_data",
       "text": [
        "<IPython.core.display.Javascript at 0x10aecdd10>"
       ]
      },
      {
       "output_type": "stream",
       "stream": "stdout",
       "text": [
        "2010-08-10 16:00:00+00:00 30 2010-09-09 16:00:00+00:00 60\n",
        "coops\n",
        "http://opendap.co-ops.nos.noaa.gov/ioos-dif-sos/SOS?service=SOS&request=GetObservation&version=1.0.0&observedProperty=currents&offering=urn:ioos:station:NOAA.NOS.CO-OPS:s06010&procedure=urn:ioos:sensor:NOAA.NOS.CO-OPS:s06010:SONTEK-ADP-877:rtb&responseFormat=text/csv&eventTime=2010-08-10T16:00:00Z/2010-09-09T16:00:00Z"
       ]
      },
      {
       "output_type": "stream",
       "stream": "stdout",
       "text": [
        "\n"
       ]
      },
      {
       "javascript": [
        "$('div#210a4884-1e68-4130-9fbe-752408fef7d0').width('6%')"
       ],
       "metadata": {},
       "output_type": "display_data",
       "text": [
        "<IPython.core.display.Javascript at 0x10aecde90>"
       ]
      },
      {
       "output_type": "stream",
       "stream": "stdout",
       "text": [
        "2010-09-09 16:00:00+00:00 60 2010-10-09 16:00:00+00:00 90\n",
        "coops\n",
        "http://opendap.co-ops.nos.noaa.gov/ioos-dif-sos/SOS?service=SOS&request=GetObservation&version=1.0.0&observedProperty=currents&offering=urn:ioos:station:NOAA.NOS.CO-OPS:s06010&procedure=urn:ioos:sensor:NOAA.NOS.CO-OPS:s06010:SONTEK-ADP-877:rtb&responseFormat=text/csv&eventTime=2010-09-09T16:00:00Z/2010-10-09T16:00:00Z"
       ]
      },
      {
       "output_type": "stream",
       "stream": "stdout",
       "text": [
        "\n"
       ]
      },
      {
       "javascript": [
        "$('div#210a4884-1e68-4130-9fbe-752408fef7d0').width('8%')"
       ],
       "metadata": {},
       "output_type": "display_data",
       "text": [
        "<IPython.core.display.Javascript at 0x10aef7890>"
       ]
      },
      {
       "output_type": "stream",
       "stream": "stdout",
       "text": [
        "2010-10-09 16:00:00+00:00 90 2010-11-08 16:00:00+00:00 120\n",
        "coops\n",
        "http://opendap.co-ops.nos.noaa.gov/ioos-dif-sos/SOS?service=SOS&request=GetObservation&version=1.0.0&observedProperty=currents&offering=urn:ioos:station:NOAA.NOS.CO-OPS:s06010&procedure=urn:ioos:sensor:NOAA.NOS.CO-OPS:s06010:SONTEK-ADP-877:rtb&responseFormat=text/csv&eventTime=2010-10-09T16:00:00Z/2010-11-08T16:00:00Z"
       ]
      },
      {
       "output_type": "stream",
       "stream": "stdout",
       "text": [
        "\n"
       ]
      },
      {
       "javascript": [
        "$('div#210a4884-1e68-4130-9fbe-752408fef7d0').width('10%')"
       ],
       "metadata": {},
       "output_type": "display_data",
       "text": [
        "<IPython.core.display.Javascript at 0x107f7dd50>"
       ]
      },
      {
       "output_type": "stream",
       "stream": "stdout",
       "text": [
        "2010-11-08 16:00:00+00:00 120 2010-12-08 16:00:00+00:00 150\n",
        "coops\n",
        "http://opendap.co-ops.nos.noaa.gov/ioos-dif-sos/SOS?service=SOS&request=GetObservation&version=1.0.0&observedProperty=currents&offering=urn:ioos:station:NOAA.NOS.CO-OPS:s06010&procedure=urn:ioos:sensor:NOAA.NOS.CO-OPS:s06010:SONTEK-ADP-877:rtb&responseFormat=text/csv&eventTime=2010-11-08T16:00:00Z/2010-12-08T16:00:00Z"
       ]
      },
      {
       "output_type": "stream",
       "stream": "stdout",
       "text": [
        "\n"
       ]
      },
      {
       "javascript": [
        "$('div#210a4884-1e68-4130-9fbe-752408fef7d0').width('12%')"
       ],
       "metadata": {},
       "output_type": "display_data",
       "text": [
        "<IPython.core.display.Javascript at 0x10807e1d0>"
       ]
      },
      {
       "output_type": "stream",
       "stream": "stdout",
       "text": [
        "2010-12-08 16:00:00+00:00 150 2011-01-07 16:00:00+00:00 180\n",
        "coops\n",
        "http://opendap.co-ops.nos.noaa.gov/ioos-dif-sos/SOS?service=SOS&request=GetObservation&version=1.0.0&observedProperty=currents&offering=urn:ioos:station:NOAA.NOS.CO-OPS:s06010&procedure=urn:ioos:sensor:NOAA.NOS.CO-OPS:s06010:SONTEK-ADP-877:rtb&responseFormat=text/csv&eventTime=2010-12-08T16:00:00Z/2011-01-07T16:00:00Z"
       ]
      },
      {
       "output_type": "stream",
       "stream": "stdout",
       "text": [
        "\n"
       ]
      },
      {
       "javascript": [
        "$('div#210a4884-1e68-4130-9fbe-752408fef7d0').width('14%')"
       ],
       "metadata": {},
       "output_type": "display_data",
       "text": [
        "<IPython.core.display.Javascript at 0x107f6a050>"
       ]
      },
      {
       "output_type": "stream",
       "stream": "stdout",
       "text": [
        "2011-01-07 16:00:00+00:00 180 2011-02-06 16:00:00+00:00 210\n",
        "coops\n",
        "http://opendap.co-ops.nos.noaa.gov/ioos-dif-sos/SOS?service=SOS&request=GetObservation&version=1.0.0&observedProperty=currents&offering=urn:ioos:station:NOAA.NOS.CO-OPS:s06010&procedure=urn:ioos:sensor:NOAA.NOS.CO-OPS:s06010:SONTEK-ADP-877:rtb&responseFormat=text/csv&eventTime=2011-01-07T16:00:00Z/2011-02-06T16:00:00Z"
       ]
      },
      {
       "output_type": "stream",
       "stream": "stdout",
       "text": [
        "\n"
       ]
      },
      {
       "javascript": [
        "$('div#210a4884-1e68-4130-9fbe-752408fef7d0').width('16%')"
       ],
       "metadata": {},
       "output_type": "display_data",
       "text": [
        "<IPython.core.display.Javascript at 0x107f7d350>"
       ]
      },
      {
       "output_type": "stream",
       "stream": "stdout",
       "text": [
        "2011-02-06 16:00:00+00:00 210 2011-03-08 16:00:00+00:00 240\n",
        "coops\n",
        "http://opendap.co-ops.nos.noaa.gov/ioos-dif-sos/SOS?service=SOS&request=GetObservation&version=1.0.0&observedProperty=currents&offering=urn:ioos:station:NOAA.NOS.CO-OPS:s06010&procedure=urn:ioos:sensor:NOAA.NOS.CO-OPS:s06010:SONTEK-ADP-877:rtb&responseFormat=text/csv&eventTime=2011-02-06T16:00:00Z/2011-03-08T16:00:00Z"
       ]
      },
      {
       "output_type": "stream",
       "stream": "stdout",
       "text": [
        "\n"
       ]
      },
      {
       "javascript": [
        "$('div#210a4884-1e68-4130-9fbe-752408fef7d0').width('18%')"
       ],
       "metadata": {},
       "output_type": "display_data",
       "text": [
        "<IPython.core.display.Javascript at 0x10807e290>"
       ]
      },
      {
       "output_type": "stream",
       "stream": "stdout",
       "text": [
        "2011-03-08 16:00:00+00:00 240 2011-04-07 16:00:00+00:00 270\n",
        "coops\n",
        "http://opendap.co-ops.nos.noaa.gov/ioos-dif-sos/SOS?service=SOS&request=GetObservation&version=1.0.0&observedProperty=currents&offering=urn:ioos:station:NOAA.NOS.CO-OPS:s06010&procedure=urn:ioos:sensor:NOAA.NOS.CO-OPS:s06010:SONTEK-ADP-877:rtb&responseFormat=text/csv&eventTime=2011-03-08T16:00:00Z/2011-04-07T16:00:00Z"
       ]
      },
      {
       "output_type": "stream",
       "stream": "stdout",
       "text": [
        "\n"
       ]
      },
      {
       "javascript": [
        "$('div#210a4884-1e68-4130-9fbe-752408fef7d0').width('20%')"
       ],
       "metadata": {},
       "output_type": "display_data",
       "text": [
        "<IPython.core.display.Javascript at 0x107f7ddd0>"
       ]
      },
      {
       "output_type": "stream",
       "stream": "stdout",
       "text": [
        "2011-04-07 16:00:00+00:00 270 2011-05-07 16:00:00+00:00 300\n",
        "coops\n",
        "http://opendap.co-ops.nos.noaa.gov/ioos-dif-sos/SOS?service=SOS&request=GetObservation&version=1.0.0&observedProperty=currents&offering=urn:ioos:station:NOAA.NOS.CO-OPS:s06010&procedure=urn:ioos:sensor:NOAA.NOS.CO-OPS:s06010:SONTEK-ADP-877:rtb&responseFormat=text/csv&eventTime=2011-04-07T16:00:00Z/2011-05-07T16:00:00Z"
       ]
      },
      {
       "output_type": "stream",
       "stream": "stdout",
       "text": [
        "\n",
        "error getting data"
       ]
      },
      {
       "output_type": "stream",
       "stream": "stdout",
       "text": [
        " Index date_time invalid\n"
       ]
      },
      {
       "javascript": [
        "$('div#210a4884-1e68-4130-9fbe-752408fef7d0').width('22%')"
       ],
       "metadata": {},
       "output_type": "display_data",
       "text": [
        "<IPython.core.display.Javascript at 0x107f7d390>"
       ]
      },
      {
       "output_type": "stream",
       "stream": "stdout",
       "text": [
        "2011-05-07 16:00:00+00:00 300 2011-06-06 16:00:00+00:00 330\n",
        "coops\n",
        "http://opendap.co-ops.nos.noaa.gov/ioos-dif-sos/SOS?service=SOS&request=GetObservation&version=1.0.0&observedProperty=currents&offering=urn:ioos:station:NOAA.NOS.CO-OPS:s06010&procedure=urn:ioos:sensor:NOAA.NOS.CO-OPS:s06010:SONTEK-ADP-877:rtb&responseFormat=text/csv&eventTime=2011-05-07T16:00:00Z/2011-06-06T16:00:00Z"
       ]
      },
      {
       "output_type": "stream",
       "stream": "stdout",
       "text": [
        "\n",
        "error getting data"
       ]
      },
      {
       "output_type": "stream",
       "stream": "stdout",
       "text": [
        " Index date_time invalid\n"
       ]
      },
      {
       "javascript": [
        "$('div#210a4884-1e68-4130-9fbe-752408fef7d0').width('25%')"
       ],
       "metadata": {},
       "output_type": "display_data",
       "text": [
        "<IPython.core.display.Javascript at 0x107f7d0d0>"
       ]
      },
      {
       "output_type": "stream",
       "stream": "stdout",
       "text": [
        "2011-06-06 16:00:00+00:00 330 2011-07-06 16:00:00+00:00 360\n",
        "coops\n",
        "http://opendap.co-ops.nos.noaa.gov/ioos-dif-sos/SOS?service=SOS&request=GetObservation&version=1.0.0&observedProperty=currents&offering=urn:ioos:station:NOAA.NOS.CO-OPS:s06010&procedure=urn:ioos:sensor:NOAA.NOS.CO-OPS:s06010:SONTEK-ADP-877:rtb&responseFormat=text/csv&eventTime=2011-06-06T16:00:00Z/2011-07-06T16:00:00Z"
       ]
      },
      {
       "output_type": "stream",
       "stream": "stdout",
       "text": [
        "\n"
       ]
      },
      {
       "javascript": [
        "$('div#210a4884-1e68-4130-9fbe-752408fef7d0').width('27%')"
       ],
       "metadata": {},
       "output_type": "display_data",
       "text": [
        "<IPython.core.display.Javascript at 0x107f7de10>"
       ]
      },
      {
       "output_type": "stream",
       "stream": "stdout",
       "text": [
        "2011-07-06 16:00:00+00:00 360 2011-08-05 16:00:00+00:00 390\n",
        "coops\n",
        "http://opendap.co-ops.nos.noaa.gov/ioos-dif-sos/SOS?service=SOS&request=GetObservation&version=1.0.0&observedProperty=currents&offering=urn:ioos:station:NOAA.NOS.CO-OPS:s06010&procedure=urn:ioos:sensor:NOAA.NOS.CO-OPS:s06010:SONTEK-ADP-877:rtb&responseFormat=text/csv&eventTime=2011-07-06T16:00:00Z/2011-08-05T16:00:00Z"
       ]
      },
      {
       "output_type": "stream",
       "stream": "stdout",
       "text": [
        "\n"
       ]
      },
      {
       "javascript": [
        "$('div#210a4884-1e68-4130-9fbe-752408fef7d0').width('29%')"
       ],
       "metadata": {},
       "output_type": "display_data",
       "text": [
        "<IPython.core.display.Javascript at 0x101f9ea10>"
       ]
      },
      {
       "output_type": "stream",
       "stream": "stdout",
       "text": [
        "2011-08-05 16:00:00+00:00 390 2011-09-04 16:00:00+00:00 420\n",
        "coops\n",
        "http://opendap.co-ops.nos.noaa.gov/ioos-dif-sos/SOS?service=SOS&request=GetObservation&version=1.0.0&observedProperty=currents&offering=urn:ioos:station:NOAA.NOS.CO-OPS:s06010&procedure=urn:ioos:sensor:NOAA.NOS.CO-OPS:s06010:SONTEK-ADP-877:rtb&responseFormat=text/csv&eventTime=2011-08-05T16:00:00Z/2011-09-04T16:00:00Z"
       ]
      },
      {
       "output_type": "stream",
       "stream": "stdout",
       "text": [
        "\n"
       ]
      },
      {
       "javascript": [
        "$('div#210a4884-1e68-4130-9fbe-752408fef7d0').width('31%')"
       ],
       "metadata": {},
       "output_type": "display_data",
       "text": [
        "<IPython.core.display.Javascript at 0x1086a4710>"
       ]
      },
      {
       "output_type": "stream",
       "stream": "stdout",
       "text": [
        "2011-09-04 16:00:00+00:00 420 2011-10-04 16:00:00+00:00 450\n",
        "coops\n",
        "http://opendap.co-ops.nos.noaa.gov/ioos-dif-sos/SOS?service=SOS&request=GetObservation&version=1.0.0&observedProperty=currents&offering=urn:ioos:station:NOAA.NOS.CO-OPS:s06010&procedure=urn:ioos:sensor:NOAA.NOS.CO-OPS:s06010:SONTEK-ADP-877:rtb&responseFormat=text/csv&eventTime=2011-09-04T16:00:00Z/2011-10-04T16:00:00Z"
       ]
      },
      {
       "output_type": "stream",
       "stream": "stdout",
       "text": [
        "\n"
       ]
      },
      {
       "javascript": [
        "$('div#210a4884-1e68-4130-9fbe-752408fef7d0').width('33%')"
       ],
       "metadata": {},
       "output_type": "display_data",
       "text": [
        "<IPython.core.display.Javascript at 0x107ada390>"
       ]
      },
      {
       "output_type": "stream",
       "stream": "stdout",
       "text": [
        "2011-10-04 16:00:00+00:00 450 2011-11-03 16:00:00+00:00 480\n",
        "coops\n",
        "http://opendap.co-ops.nos.noaa.gov/ioos-dif-sos/SOS?service=SOS&request=GetObservation&version=1.0.0&observedProperty=currents&offering=urn:ioos:station:NOAA.NOS.CO-OPS:s06010&procedure=urn:ioos:sensor:NOAA.NOS.CO-OPS:s06010:SONTEK-ADP-877:rtb&responseFormat=text/csv&eventTime=2011-10-04T16:00:00Z/2011-11-03T16:00:00Z"
       ]
      },
      {
       "output_type": "stream",
       "stream": "stdout",
       "text": [
        "\n"
       ]
      },
      {
       "javascript": [
        "$('div#210a4884-1e68-4130-9fbe-752408fef7d0').width('35%')"
       ],
       "metadata": {},
       "output_type": "display_data",
       "text": [
        "<IPython.core.display.Javascript at 0x107d09f90>"
       ]
      },
      {
       "output_type": "stream",
       "stream": "stdout",
       "text": [
        "2011-11-03 16:00:00+00:00 480 2011-12-03 16:00:00+00:00 510\n",
        "coops\n",
        "http://opendap.co-ops.nos.noaa.gov/ioos-dif-sos/SOS?service=SOS&request=GetObservation&version=1.0.0&observedProperty=currents&offering=urn:ioos:station:NOAA.NOS.CO-OPS:s06010&procedure=urn:ioos:sensor:NOAA.NOS.CO-OPS:s06010:SONTEK-ADP-877:rtb&responseFormat=text/csv&eventTime=2011-11-03T16:00:00Z/2011-12-03T16:00:00Z"
       ]
      },
      {
       "output_type": "stream",
       "stream": "stdout",
       "text": [
        "\n"
       ]
      },
      {
       "javascript": [
        "$('div#210a4884-1e68-4130-9fbe-752408fef7d0').width('37%')"
       ],
       "metadata": {},
       "output_type": "display_data",
       "text": [
        "<IPython.core.display.Javascript at 0x108092d50>"
       ]
      },
      {
       "output_type": "stream",
       "stream": "stdout",
       "text": [
        "2011-12-03 16:00:00+00:00 510 2012-01-02 16:00:00+00:00 540\n",
        "coops\n",
        "http://opendap.co-ops.nos.noaa.gov/ioos-dif-sos/SOS?service=SOS&request=GetObservation&version=1.0.0&observedProperty=currents&offering=urn:ioos:station:NOAA.NOS.CO-OPS:s06010&procedure=urn:ioos:sensor:NOAA.NOS.CO-OPS:s06010:SONTEK-ADP-877:rtb&responseFormat=text/csv&eventTime=2011-12-03T16:00:00Z/2012-01-02T16:00:00Z"
       ]
      },
      {
       "output_type": "stream",
       "stream": "stdout",
       "text": [
        "\n"
       ]
      },
      {
       "javascript": [
        "$('div#210a4884-1e68-4130-9fbe-752408fef7d0').width('39%')"
       ],
       "metadata": {},
       "output_type": "display_data",
       "text": [
        "<IPython.core.display.Javascript at 0x107d09e10>"
       ]
      },
      {
       "output_type": "stream",
       "stream": "stdout",
       "text": [
        "2012-01-02 16:00:00+00:00 540 2012-02-01 16:00:00+00:00 570\n",
        "coops\n",
        "http://opendap.co-ops.nos.noaa.gov/ioos-dif-sos/SOS?service=SOS&request=GetObservation&version=1.0.0&observedProperty=currents&offering=urn:ioos:station:NOAA.NOS.CO-OPS:s06010&procedure=urn:ioos:sensor:NOAA.NOS.CO-OPS:s06010:SONTEK-ADP-877:rtb&responseFormat=text/csv&eventTime=2012-01-02T16:00:00Z/2012-02-01T16:00:00Z"
       ]
      },
      {
       "output_type": "stream",
       "stream": "stdout",
       "text": [
        "\n"
       ]
      },
      {
       "javascript": [
        "$('div#210a4884-1e68-4130-9fbe-752408fef7d0').width('41%')"
       ],
       "metadata": {},
       "output_type": "display_data",
       "text": [
        "<IPython.core.display.Javascript at 0x107d09e50>"
       ]
      },
      {
       "output_type": "stream",
       "stream": "stdout",
       "text": [
        "2012-02-01 16:00:00+00:00 570 2012-03-02 16:00:00+00:00 600\n",
        "coops\n",
        "http://opendap.co-ops.nos.noaa.gov/ioos-dif-sos/SOS?service=SOS&request=GetObservation&version=1.0.0&observedProperty=currents&offering=urn:ioos:station:NOAA.NOS.CO-OPS:s06010&procedure=urn:ioos:sensor:NOAA.NOS.CO-OPS:s06010:SONTEK-ADP-877:rtb&responseFormat=text/csv&eventTime=2012-02-01T16:00:00Z/2012-03-02T16:00:00Z"
       ]
      },
      {
       "output_type": "stream",
       "stream": "stdout",
       "text": [
        "\n"
       ]
      },
      {
       "javascript": [
        "$('div#210a4884-1e68-4130-9fbe-752408fef7d0').width('43%')"
       ],
       "metadata": {},
       "output_type": "display_data",
       "text": [
        "<IPython.core.display.Javascript at 0x107d09790>"
       ]
      },
      {
       "output_type": "stream",
       "stream": "stdout",
       "text": [
        "2012-03-02 16:00:00+00:00 600 2012-04-01 16:00:00+00:00 630\n",
        "coops\n",
        "http://opendap.co-ops.nos.noaa.gov/ioos-dif-sos/SOS?service=SOS&request=GetObservation&version=1.0.0&observedProperty=currents&offering=urn:ioos:station:NOAA.NOS.CO-OPS:s06010&procedure=urn:ioos:sensor:NOAA.NOS.CO-OPS:s06010:SONTEK-ADP-877:rtb&responseFormat=text/csv&eventTime=2012-03-02T16:00:00Z/2012-04-01T16:00:00Z"
       ]
      },
      {
       "output_type": "stream",
       "stream": "stdout",
       "text": [
        "\n"
       ]
      },
      {
       "javascript": [
        "$('div#210a4884-1e68-4130-9fbe-752408fef7d0').width('45%')"
       ],
       "metadata": {},
       "output_type": "display_data",
       "text": [
        "<IPython.core.display.Javascript at 0x108092250>"
       ]
      },
      {
       "output_type": "stream",
       "stream": "stdout",
       "text": [
        "2012-04-01 16:00:00+00:00 630 2012-05-01 16:00:00+00:00 660\n",
        "coops\n",
        "http://opendap.co-ops.nos.noaa.gov/ioos-dif-sos/SOS?service=SOS&request=GetObservation&version=1.0.0&observedProperty=currents&offering=urn:ioos:station:NOAA.NOS.CO-OPS:s06010&procedure=urn:ioos:sensor:NOAA.NOS.CO-OPS:s06010:SONTEK-ADP-877:rtb&responseFormat=text/csv&eventTime=2012-04-01T16:00:00Z/2012-05-01T16:00:00Z"
       ]
      },
      {
       "output_type": "stream",
       "stream": "stdout",
       "text": [
        "\n"
       ]
      },
      {
       "javascript": [
        "$('div#210a4884-1e68-4130-9fbe-752408fef7d0').width('47%')"
       ],
       "metadata": {},
       "output_type": "display_data",
       "text": [
        "<IPython.core.display.Javascript at 0x107ad4590>"
       ]
      },
      {
       "output_type": "stream",
       "stream": "stdout",
       "text": [
        "2012-05-01 16:00:00+00:00 660 2012-05-31 16:00:00+00:00 690\n",
        "coops\n",
        "http://opendap.co-ops.nos.noaa.gov/ioos-dif-sos/SOS?service=SOS&request=GetObservation&version=1.0.0&observedProperty=currents&offering=urn:ioos:station:NOAA.NOS.CO-OPS:s06010&procedure=urn:ioos:sensor:NOAA.NOS.CO-OPS:s06010:SONTEK-ADP-877:rtb&responseFormat=text/csv&eventTime=2012-05-01T16:00:00Z/2012-05-31T16:00:00Z"
       ]
      },
      {
       "output_type": "stream",
       "stream": "stdout",
       "text": [
        "\n"
       ]
      },
      {
       "javascript": [
        "$('div#210a4884-1e68-4130-9fbe-752408fef7d0').width('50%')"
       ],
       "metadata": {},
       "output_type": "display_data",
       "text": [
        "<IPython.core.display.Javascript at 0x1080baad0>"
       ]
      },
      {
       "output_type": "stream",
       "stream": "stdout",
       "text": [
        "2012-05-31 16:00:00+00:00 690 2012-06-30 16:00:00+00:00 720\n",
        "coops\n",
        "http://opendap.co-ops.nos.noaa.gov/ioos-dif-sos/SOS?service=SOS&request=GetObservation&version=1.0.0&observedProperty=currents&offering=urn:ioos:station:NOAA.NOS.CO-OPS:s06010&procedure=urn:ioos:sensor:NOAA.NOS.CO-OPS:s06010:SONTEK-ADP-877:rtb&responseFormat=text/csv&eventTime=2012-05-31T16:00:00Z/2012-06-30T16:00:00Z"
       ]
      },
      {
       "output_type": "stream",
       "stream": "stdout",
       "text": [
        "\n"
       ]
      },
      {
       "javascript": [
        "$('div#210a4884-1e68-4130-9fbe-752408fef7d0').width('52%')"
       ],
       "metadata": {},
       "output_type": "display_data",
       "text": [
        "<IPython.core.display.Javascript at 0x1080badd0>"
       ]
      },
      {
       "output_type": "stream",
       "stream": "stdout",
       "text": [
        "2012-06-30 16:00:00+00:00 720 2012-07-30 16:00:00+00:00 750\n",
        "coops\n",
        "http://opendap.co-ops.nos.noaa.gov/ioos-dif-sos/SOS?service=SOS&request=GetObservation&version=1.0.0&observedProperty=currents&offering=urn:ioos:station:NOAA.NOS.CO-OPS:s06010&procedure=urn:ioos:sensor:NOAA.NOS.CO-OPS:s06010:SONTEK-ADP-877:rtb&responseFormat=text/csv&eventTime=2012-06-30T16:00:00Z/2012-07-30T16:00:00Z"
       ]
      },
      {
       "output_type": "stream",
       "stream": "stdout",
       "text": [
        "\n"
       ]
      },
      {
       "javascript": [
        "$('div#210a4884-1e68-4130-9fbe-752408fef7d0').width('54%')"
       ],
       "metadata": {},
       "output_type": "display_data",
       "text": [
        "<IPython.core.display.Javascript at 0x108026fd0>"
       ]
      },
      {
       "output_type": "stream",
       "stream": "stdout",
       "text": [
        "2012-07-30 16:00:00+00:00 750 2012-08-29 16:00:00+00:00 780\n",
        "coops\n",
        "http://opendap.co-ops.nos.noaa.gov/ioos-dif-sos/SOS?service=SOS&request=GetObservation&version=1.0.0&observedProperty=currents&offering=urn:ioos:station:NOAA.NOS.CO-OPS:s06010&procedure=urn:ioos:sensor:NOAA.NOS.CO-OPS:s06010:SONTEK-ADP-877:rtb&responseFormat=text/csv&eventTime=2012-07-30T16:00:00Z/2012-08-29T16:00:00Z"
       ]
      },
      {
       "output_type": "stream",
       "stream": "stdout",
       "text": [
        "\n"
       ]
      },
      {
       "javascript": [
        "$('div#210a4884-1e68-4130-9fbe-752408fef7d0').width('56%')"
       ],
       "metadata": {},
       "output_type": "display_data",
       "text": [
        "<IPython.core.display.Javascript at 0x107aa4c50>"
       ]
      },
      {
       "output_type": "stream",
       "stream": "stdout",
       "text": [
        "2012-08-29 16:00:00+00:00 780 2012-09-28 16:00:00+00:00 810\n",
        "coops\n",
        "http://opendap.co-ops.nos.noaa.gov/ioos-dif-sos/SOS?service=SOS&request=GetObservation&version=1.0.0&observedProperty=currents&offering=urn:ioos:station:NOAA.NOS.CO-OPS:s06010&procedure=urn:ioos:sensor:NOAA.NOS.CO-OPS:s06010:SONTEK-ADP-877:rtb&responseFormat=text/csv&eventTime=2012-08-29T16:00:00Z/2012-09-28T16:00:00Z"
       ]
      },
      {
       "output_type": "stream",
       "stream": "stdout",
       "text": [
        "\n"
       ]
      },
      {
       "javascript": [
        "$('div#210a4884-1e68-4130-9fbe-752408fef7d0').width('58%')"
       ],
       "metadata": {},
       "output_type": "display_data",
       "text": [
        "<IPython.core.display.Javascript at 0x107aa4d90>"
       ]
      },
      {
       "output_type": "stream",
       "stream": "stdout",
       "text": [
        "2012-09-28 16:00:00+00:00 810 2012-10-28 16:00:00+00:00 840\n",
        "coops\n",
        "http://opendap.co-ops.nos.noaa.gov/ioos-dif-sos/SOS?service=SOS&request=GetObservation&version=1.0.0&observedProperty=currents&offering=urn:ioos:station:NOAA.NOS.CO-OPS:s06010&procedure=urn:ioos:sensor:NOAA.NOS.CO-OPS:s06010:SONTEK-ADP-877:rtb&responseFormat=text/csv&eventTime=2012-09-28T16:00:00Z/2012-10-28T16:00:00Z"
       ]
      },
      {
       "output_type": "stream",
       "stream": "stdout",
       "text": [
        "\n"
       ]
      },
      {
       "javascript": [
        "$('div#210a4884-1e68-4130-9fbe-752408fef7d0').width('60%')"
       ],
       "metadata": {},
       "output_type": "display_data",
       "text": [
        "<IPython.core.display.Javascript at 0x107d09b10>"
       ]
      },
      {
       "output_type": "stream",
       "stream": "stdout",
       "text": [
        "2012-10-28 16:00:00+00:00 840 2012-11-27 16:00:00+00:00 870\n",
        "coops\n",
        "http://opendap.co-ops.nos.noaa.gov/ioos-dif-sos/SOS?service=SOS&request=GetObservation&version=1.0.0&observedProperty=currents&offering=urn:ioos:station:NOAA.NOS.CO-OPS:s06010&procedure=urn:ioos:sensor:NOAA.NOS.CO-OPS:s06010:SONTEK-ADP-877:rtb&responseFormat=text/csv&eventTime=2012-10-28T16:00:00Z/2012-11-27T16:00:00Z"
       ]
      },
      {
       "output_type": "stream",
       "stream": "stdout",
       "text": [
        "\n"
       ]
      },
      {
       "javascript": [
        "$('div#210a4884-1e68-4130-9fbe-752408fef7d0').width('62%')"
       ],
       "metadata": {},
       "output_type": "display_data",
       "text": [
        "<IPython.core.display.Javascript at 0x107d09650>"
       ]
      },
      {
       "output_type": "stream",
       "stream": "stdout",
       "text": [
        "2012-11-27 16:00:00+00:00 870 2012-12-27 16:00:00+00:00 900\n",
        "coops\n",
        "http://opendap.co-ops.nos.noaa.gov/ioos-dif-sos/SOS?service=SOS&request=GetObservation&version=1.0.0&observedProperty=currents&offering=urn:ioos:station:NOAA.NOS.CO-OPS:s06010&procedure=urn:ioos:sensor:NOAA.NOS.CO-OPS:s06010:SONTEK-ADP-877:rtb&responseFormat=text/csv&eventTime=2012-11-27T16:00:00Z/2012-12-27T16:00:00Z"
       ]
      },
      {
       "output_type": "stream",
       "stream": "stdout",
       "text": [
        "\n"
       ]
      },
      {
       "javascript": [
        "$('div#210a4884-1e68-4130-9fbe-752408fef7d0').width('64%')"
       ],
       "metadata": {},
       "output_type": "display_data",
       "text": [
        "<IPython.core.display.Javascript at 0x108092410>"
       ]
      },
      {
       "output_type": "stream",
       "stream": "stdout",
       "text": [
        "2012-12-27 16:00:00+00:00 900 2013-01-26 16:00:00+00:00 930\n",
        "coops\n",
        "http://opendap.co-ops.nos.noaa.gov/ioos-dif-sos/SOS?service=SOS&request=GetObservation&version=1.0.0&observedProperty=currents&offering=urn:ioos:station:NOAA.NOS.CO-OPS:s06010&procedure=urn:ioos:sensor:NOAA.NOS.CO-OPS:s06010:SONTEK-ADP-877:rtb&responseFormat=text/csv&eventTime=2012-12-27T16:00:00Z/2013-01-26T16:00:00Z"
       ]
      },
      {
       "output_type": "stream",
       "stream": "stdout",
       "text": [
        "\n"
       ]
      },
      {
       "javascript": [
        "$('div#210a4884-1e68-4130-9fbe-752408fef7d0').width('66%')"
       ],
       "metadata": {},
       "output_type": "display_data",
       "text": [
        "<IPython.core.display.Javascript at 0x108092d10>"
       ]
      },
      {
       "output_type": "stream",
       "stream": "stdout",
       "text": [
        "2013-01-26 16:00:00+00:00 930 2013-02-25 16:00:00+00:00 960\n",
        "coops\n",
        "http://opendap.co-ops.nos.noaa.gov/ioos-dif-sos/SOS?service=SOS&request=GetObservation&version=1.0.0&observedProperty=currents&offering=urn:ioos:station:NOAA.NOS.CO-OPS:s06010&procedure=urn:ioos:sensor:NOAA.NOS.CO-OPS:s06010:SONTEK-ADP-877:rtb&responseFormat=text/csv&eventTime=2013-01-26T16:00:00Z/2013-02-25T16:00:00Z"
       ]
      },
      {
       "output_type": "stream",
       "stream": "stdout",
       "text": [
        "\n"
       ]
      },
      {
       "javascript": [
        "$('div#210a4884-1e68-4130-9fbe-752408fef7d0').width('68%')"
       ],
       "metadata": {},
       "output_type": "display_data",
       "text": [
        "<IPython.core.display.Javascript at 0x1080ae2d0>"
       ]
      },
      {
       "output_type": "stream",
       "stream": "stdout",
       "text": [
        "2013-02-25 16:00:00+00:00 960 2013-03-27 16:00:00+00:00 990\n",
        "coops\n",
        "http://opendap.co-ops.nos.noaa.gov/ioos-dif-sos/SOS?service=SOS&request=GetObservation&version=1.0.0&observedProperty=currents&offering=urn:ioos:station:NOAA.NOS.CO-OPS:s06010&procedure=urn:ioos:sensor:NOAA.NOS.CO-OPS:s06010:SONTEK-ADP-877:rtb&responseFormat=text/csv&eventTime=2013-02-25T16:00:00Z/2013-03-27T16:00:00Z"
       ]
      },
      {
       "output_type": "stream",
       "stream": "stdout",
       "text": [
        "\n"
       ]
      },
      {
       "javascript": [
        "$('div#210a4884-1e68-4130-9fbe-752408fef7d0').width('70%')"
       ],
       "metadata": {},
       "output_type": "display_data",
       "text": [
        "<IPython.core.display.Javascript at 0x1096cf050>"
       ]
      },
      {
       "output_type": "stream",
       "stream": "stdout",
       "text": [
        "2013-03-27 16:00:00+00:00 990 2013-04-26 16:00:00+00:00 1020\n",
        "coops\n",
        "http://opendap.co-ops.nos.noaa.gov/ioos-dif-sos/SOS?service=SOS&request=GetObservation&version=1.0.0&observedProperty=currents&offering=urn:ioos:station:NOAA.NOS.CO-OPS:s06010&procedure=urn:ioos:sensor:NOAA.NOS.CO-OPS:s06010:SONTEK-ADP-877:rtb&responseFormat=text/csv&eventTime=2013-03-27T16:00:00Z/2013-04-26T16:00:00Z"
       ]
      },
      {
       "output_type": "stream",
       "stream": "stdout",
       "text": [
        "\n"
       ]
      },
      {
       "javascript": [
        "$('div#210a4884-1e68-4130-9fbe-752408fef7d0').width('72%')"
       ],
       "metadata": {},
       "output_type": "display_data",
       "text": [
        "<IPython.core.display.Javascript at 0x101fa8950>"
       ]
      },
      {
       "output_type": "stream",
       "stream": "stdout",
       "text": [
        "2013-04-26 16:00:00+00:00 1020 2013-05-26 16:00:00+00:00 1050\n",
        "coops\n",
        "http://opendap.co-ops.nos.noaa.gov/ioos-dif-sos/SOS?service=SOS&request=GetObservation&version=1.0.0&observedProperty=currents&offering=urn:ioos:station:NOAA.NOS.CO-OPS:s06010&procedure=urn:ioos:sensor:NOAA.NOS.CO-OPS:s06010:SONTEK-ADP-877:rtb&responseFormat=text/csv&eventTime=2013-04-26T16:00:00Z/2013-05-26T16:00:00Z"
       ]
      },
      {
       "output_type": "stream",
       "stream": "stdout",
       "text": [
        "\n"
       ]
      },
      {
       "javascript": [
        "$('div#210a4884-1e68-4130-9fbe-752408fef7d0').width('75%')"
       ],
       "metadata": {},
       "output_type": "display_data",
       "text": [
        "<IPython.core.display.Javascript at 0x1096b9150>"
       ]
      },
      {
       "output_type": "stream",
       "stream": "stdout",
       "text": [
        "2013-05-26 16:00:00+00:00 1050 2013-06-25 16:00:00+00:00 1080\n",
        "coops\n",
        "http://opendap.co-ops.nos.noaa.gov/ioos-dif-sos/SOS?service=SOS&request=GetObservation&version=1.0.0&observedProperty=currents&offering=urn:ioos:station:NOAA.NOS.CO-OPS:s06010&procedure=urn:ioos:sensor:NOAA.NOS.CO-OPS:s06010:SONTEK-ADP-877:rtb&responseFormat=text/csv&eventTime=2013-05-26T16:00:00Z/2013-06-25T16:00:00Z"
       ]
      },
      {
       "output_type": "stream",
       "stream": "stdout",
       "text": [
        "\n"
       ]
      },
      {
       "javascript": [
        "$('div#210a4884-1e68-4130-9fbe-752408fef7d0').width('77%')"
       ],
       "metadata": {},
       "output_type": "display_data",
       "text": [
        "<IPython.core.display.Javascript at 0x1096b9090>"
       ]
      },
      {
       "output_type": "stream",
       "stream": "stdout",
       "text": [
        "2013-06-25 16:00:00+00:00 1080 2013-07-25 16:00:00+00:00 1110\n",
        "coops\n",
        "http://opendap.co-ops.nos.noaa.gov/ioos-dif-sos/SOS?service=SOS&request=GetObservation&version=1.0.0&observedProperty=currents&offering=urn:ioos:station:NOAA.NOS.CO-OPS:s06010&procedure=urn:ioos:sensor:NOAA.NOS.CO-OPS:s06010:SONTEK-ADP-877:rtb&responseFormat=text/csv&eventTime=2013-06-25T16:00:00Z/2013-07-25T16:00:00Z"
       ]
      },
      {
       "output_type": "stream",
       "stream": "stdout",
       "text": [
        "\n"
       ]
      },
      {
       "javascript": [
        "$('div#210a4884-1e68-4130-9fbe-752408fef7d0').width('79%')"
       ],
       "metadata": {},
       "output_type": "display_data",
       "text": [
        "<IPython.core.display.Javascript at 0x1096d3a50>"
       ]
      },
      {
       "output_type": "stream",
       "stream": "stdout",
       "text": [
        "2013-07-25 16:00:00+00:00 1110 2013-08-24 16:00:00+00:00 1140\n",
        "coops\n",
        "http://opendap.co-ops.nos.noaa.gov/ioos-dif-sos/SOS?service=SOS&request=GetObservation&version=1.0.0&observedProperty=currents&offering=urn:ioos:station:NOAA.NOS.CO-OPS:s06010&procedure=urn:ioos:sensor:NOAA.NOS.CO-OPS:s06010:SONTEK-ADP-877:rtb&responseFormat=text/csv&eventTime=2013-07-25T16:00:00Z/2013-08-24T16:00:00Z"
       ]
      },
      {
       "output_type": "stream",
       "stream": "stdout",
       "text": [
        "\n"
       ]
      },
      {
       "javascript": [
        "$('div#210a4884-1e68-4130-9fbe-752408fef7d0').width('81%')"
       ],
       "metadata": {},
       "output_type": "display_data",
       "text": [
        "<IPython.core.display.Javascript at 0x1079acc10>"
       ]
      },
      {
       "output_type": "stream",
       "stream": "stdout",
       "text": [
        "2013-08-24 16:00:00+00:00 1140 2013-09-23 16:00:00+00:00 1170\n",
        "coops\n",
        "http://opendap.co-ops.nos.noaa.gov/ioos-dif-sos/SOS?service=SOS&request=GetObservation&version=1.0.0&observedProperty=currents&offering=urn:ioos:station:NOAA.NOS.CO-OPS:s06010&procedure=urn:ioos:sensor:NOAA.NOS.CO-OPS:s06010:SONTEK-ADP-877:rtb&responseFormat=text/csv&eventTime=2013-08-24T16:00:00Z/2013-09-23T16:00:00Z"
       ]
      },
      {
       "output_type": "stream",
       "stream": "stdout",
       "text": [
        "\n"
       ]
      },
      {
       "javascript": [
        "$('div#210a4884-1e68-4130-9fbe-752408fef7d0').width('83%')"
       ],
       "metadata": {},
       "output_type": "display_data",
       "text": [
        "<IPython.core.display.Javascript at 0x1096be0d0>"
       ]
      },
      {
       "output_type": "stream",
       "stream": "stdout",
       "text": [
        "2013-09-23 16:00:00+00:00 1170 2013-10-23 16:00:00+00:00 1200\n",
        "coops\n",
        "http://opendap.co-ops.nos.noaa.gov/ioos-dif-sos/SOS?service=SOS&request=GetObservation&version=1.0.0&observedProperty=currents&offering=urn:ioos:station:NOAA.NOS.CO-OPS:s06010&procedure=urn:ioos:sensor:NOAA.NOS.CO-OPS:s06010:SONTEK-ADP-877:rtb&responseFormat=text/csv&eventTime=2013-09-23T16:00:00Z/2013-10-23T16:00:00Z"
       ]
      },
      {
       "output_type": "stream",
       "stream": "stdout",
       "text": [
        "\n"
       ]
      },
      {
       "javascript": [
        "$('div#210a4884-1e68-4130-9fbe-752408fef7d0').width('85%')"
       ],
       "metadata": {},
       "output_type": "display_data",
       "text": [
        "<IPython.core.display.Javascript at 0x10b001350>"
       ]
      },
      {
       "output_type": "stream",
       "stream": "stdout",
       "text": [
        "2013-10-23 16:00:00+00:00 1200 2013-11-22 16:00:00+00:00 1230\n",
        "coops\n",
        "http://opendap.co-ops.nos.noaa.gov/ioos-dif-sos/SOS?service=SOS&request=GetObservation&version=1.0.0&observedProperty=currents&offering=urn:ioos:station:NOAA.NOS.CO-OPS:s06010&procedure=urn:ioos:sensor:NOAA.NOS.CO-OPS:s06010:SONTEK-ADP-877:rtb&responseFormat=text/csv&eventTime=2013-10-23T16:00:00Z/2013-11-22T16:00:00Z"
       ]
      },
      {
       "output_type": "stream",
       "stream": "stdout",
       "text": [
        "\n"
       ]
      },
      {
       "javascript": [
        "$('div#210a4884-1e68-4130-9fbe-752408fef7d0').width('87%')"
       ],
       "metadata": {},
       "output_type": "display_data",
       "text": [
        "<IPython.core.display.Javascript at 0x1080ae350>"
       ]
      },
      {
       "output_type": "stream",
       "stream": "stdout",
       "text": [
        "2013-11-22 16:00:00+00:00 1230 2013-12-22 16:00:00+00:00 1260\n",
        "coops\n",
        "http://opendap.co-ops.nos.noaa.gov/ioos-dif-sos/SOS?service=SOS&request=GetObservation&version=1.0.0&observedProperty=currents&offering=urn:ioos:station:NOAA.NOS.CO-OPS:s06010&procedure=urn:ioos:sensor:NOAA.NOS.CO-OPS:s06010:SONTEK-ADP-877:rtb&responseFormat=text/csv&eventTime=2013-11-22T16:00:00Z/2013-12-22T16:00:00Z"
       ]
      },
      {
       "output_type": "stream",
       "stream": "stdout",
       "text": [
        "\n"
       ]
      },
      {
       "javascript": [
        "$('div#210a4884-1e68-4130-9fbe-752408fef7d0').width('89%')"
       ],
       "metadata": {},
       "output_type": "display_data",
       "text": [
        "<IPython.core.display.Javascript at 0x107ad4dd0>"
       ]
      },
      {
       "output_type": "stream",
       "stream": "stdout",
       "text": [
        "2013-12-22 16:00:00+00:00 1260 2014-01-21 16:00:00+00:00 1290\n",
        "coops\n",
        "http://opendap.co-ops.nos.noaa.gov/ioos-dif-sos/SOS?service=SOS&request=GetObservation&version=1.0.0&observedProperty=currents&offering=urn:ioos:station:NOAA.NOS.CO-OPS:s06010&procedure=urn:ioos:sensor:NOAA.NOS.CO-OPS:s06010:SONTEK-ADP-877:rtb&responseFormat=text/csv&eventTime=2013-12-22T16:00:00Z/2014-01-21T16:00:00Z"
       ]
      },
      {
       "output_type": "stream",
       "stream": "stdout",
       "text": [
        "\n"
       ]
      },
      {
       "javascript": [
        "$('div#210a4884-1e68-4130-9fbe-752408fef7d0').width('91%')"
       ],
       "metadata": {},
       "output_type": "display_data",
       "text": [
        "<IPython.core.display.Javascript at 0x101f83610>"
       ]
      },
      {
       "output_type": "stream",
       "stream": "stdout",
       "text": [
        "2014-01-21 16:00:00+00:00 1290 2014-02-20 16:00:00+00:00 1320\n",
        "coops\n",
        "http://opendap.co-ops.nos.noaa.gov/ioos-dif-sos/SOS?service=SOS&request=GetObservation&version=1.0.0&observedProperty=currents&offering=urn:ioos:station:NOAA.NOS.CO-OPS:s06010&procedure=urn:ioos:sensor:NOAA.NOS.CO-OPS:s06010:SONTEK-ADP-877:rtb&responseFormat=text/csv&eventTime=2014-01-21T16:00:00Z/2014-02-20T16:00:00Z"
       ]
      },
      {
       "output_type": "stream",
       "stream": "stdout",
       "text": [
        "\n"
       ]
      },
      {
       "javascript": [
        "$('div#210a4884-1e68-4130-9fbe-752408fef7d0').width('93%')"
       ],
       "metadata": {},
       "output_type": "display_data",
       "text": [
        "<IPython.core.display.Javascript at 0x10802d050>"
       ]
      },
      {
       "output_type": "stream",
       "stream": "stdout",
       "text": [
        "2014-02-20 16:00:00+00:00 1320 2014-03-22 16:00:00+00:00 1350\n",
        "coops\n",
        "http://opendap.co-ops.nos.noaa.gov/ioos-dif-sos/SOS?service=SOS&request=GetObservation&version=1.0.0&observedProperty=currents&offering=urn:ioos:station:NOAA.NOS.CO-OPS:s06010&procedure=urn:ioos:sensor:NOAA.NOS.CO-OPS:s06010:SONTEK-ADP-877:rtb&responseFormat=text/csv&eventTime=2014-02-20T16:00:00Z/2014-03-22T16:00:00Z"
       ]
      },
      {
       "output_type": "stream",
       "stream": "stdout",
       "text": [
        "\n"
       ]
      },
      {
       "javascript": [
        "$('div#210a4884-1e68-4130-9fbe-752408fef7d0').width('95%')"
       ],
       "metadata": {},
       "output_type": "display_data",
       "text": [
        "<IPython.core.display.Javascript at 0x10aee1450>"
       ]
      },
      {
       "output_type": "stream",
       "stream": "stdout",
       "text": [
        "2014-03-22 16:00:00+00:00 1350 2014-04-21 16:00:00+00:00 1380\n",
        "coops\n",
        "http://opendap.co-ops.nos.noaa.gov/ioos-dif-sos/SOS?service=SOS&request=GetObservation&version=1.0.0&observedProperty=currents&offering=urn:ioos:station:NOAA.NOS.CO-OPS:s06010&procedure=urn:ioos:sensor:NOAA.NOS.CO-OPS:s06010:SONTEK-ADP-877:rtb&responseFormat=text/csv&eventTime=2014-03-22T16:00:00Z/2014-04-21T16:00:00Z"
       ]
      },
      {
       "output_type": "stream",
       "stream": "stdout",
       "text": [
        "\n"
       ]
      },
      {
       "javascript": [
        "$('div#210a4884-1e68-4130-9fbe-752408fef7d0').width('97%')"
       ],
       "metadata": {},
       "output_type": "display_data",
       "text": [
        "<IPython.core.display.Javascript at 0x10aee1490>"
       ]
      },
      {
       "output_type": "stream",
       "stream": "stdout",
       "text": [
        "2014-04-21 16:00:00+00:00 1380 2014-05-21 16:00:00+00:00 1410\n",
        "coops\n",
        "http://opendap.co-ops.nos.noaa.gov/ioos-dif-sos/SOS?service=SOS&request=GetObservation&version=1.0.0&observedProperty=currents&offering=urn:ioos:station:NOAA.NOS.CO-OPS:s06010&procedure=urn:ioos:sensor:NOAA.NOS.CO-OPS:s06010:SONTEK-ADP-877:rtb&responseFormat=text/csv&eventTime=2014-04-21T16:00:00Z/2014-05-21T16:00:00Z"
       ]
      },
      {
       "output_type": "stream",
       "stream": "stdout",
       "text": [
        "\n"
       ]
      },
      {
       "javascript": [
        "$('div#210a4884-1e68-4130-9fbe-752408fef7d0').width('100%')"
       ],
       "metadata": {},
       "output_type": "display_data",
       "text": [
        "<IPython.core.display.Javascript at 0x10345c4d0>"
       ]
      },
      {
       "output_type": "stream",
       "stream": "stdout",
       "text": [
        "2014-05-21 16:00:00+00:00 1410 2014-06-20 16:00:00+00:00 1440\n",
        "coops\n",
        "http://opendap.co-ops.nos.noaa.gov/ioos-dif-sos/SOS?service=SOS&request=GetObservation&version=1.0.0&observedProperty=currents&offering=urn:ioos:station:NOAA.NOS.CO-OPS:s06010&procedure=urn:ioos:sensor:NOAA.NOS.CO-OPS:s06010:SONTEK-ADP-877:rtb&responseFormat=text/csv&eventTime=2014-05-21T16:00:00Z/2014-06-20T16:00:00Z"
       ]
      },
      {
       "output_type": "stream",
       "stream": "stdout",
       "text": [
        "\n"
       ]
      }
     ],
     "prompt_number": 75
    },
    {
     "cell_type": "code",
     "collapsed": false,
     "input": [
      "master_df.keys()\n",
      "print \"num rows:\",len(master_df)"
     ],
     "language": "python",
     "metadata": {},
     "outputs": [
      {
       "output_type": "stream",
       "stream": "stdout",
       "text": [
        "num rows: 304492\n"
       ]
      }
     ],
     "prompt_number": 93
    },
    {
     "cell_type": "code",
     "collapsed": false,
     "input": [
      "fig, axes = plt.subplots(1, 1, figsize=(20,6))\n",
      "# Only plot the first bin\n",
      "ax = master_df.loc[master_df['sensor_depth (m)']==(5),'sea_water_temperature (C)'].plot(figsize=(14, 6), title=\"sea_water_temperature\", legend=False)\n",
      "plt.setp(ax.lines[0], linewidth=1.0, zorder=1)\n",
      "ax.legend()\n",
      "ax.set_ylabel('sea_water_temperature (C)')"
     ],
     "language": "python",
     "metadata": {},
     "outputs": [
      {
       "metadata": {},
       "output_type": "pyout",
       "prompt_number": 81,
       "text": [
        "<matplotlib.text.Text at 0x10a7e2c90>"
       ]
      },
      {
       "metadata": {},
       "output_type": "display_data",
       "png": "[encoded data removed]",
       "text": [
        "<matplotlib.figure.Figure at 0x107f5f450>"
       ]
      }
     ],
     "prompt_number": 81
    },
    {
     "cell_type": "code",
     "collapsed": false,
     "input": [
      "fig, axes = plt.subplots(1, 1, figsize=(18,6))\n",
      "    \n",
      "# Only plot the first bin\n",
      "axes = master_df.loc[master_df['sensor_depth (m)']==(5),'sea_water_speed (cm/s)'].plot(title=\"Current Speed\", legend=False, color='b')\n",
      "plt.setp(axes.lines[0], linewidth=1.0, zorder=1)\n",
      "axes.set_ylabel('Current Speed (cm/s)')\n",
      "for tl in axes.get_yticklabels():\n",
      "    tl.set_color('b')\n",
      "axes.yaxis.label.set_color('blue')\n",
      "\n",
      "fig, axes = plt.subplots(1, 1, figsize=(18,6))\n",
      "    \n",
      "# Only plot the first bin\n",
      "axes = master_df.loc[master_df['sensor_depth (m)']==(5),'direction_of_sea_water_velocity (degree)'].plot(title=\"Current Direction\", legend=False, color='r')\n",
      "plt.setp(axes.lines[0], linewidth=1.0, zorder=1)\n",
      "axes.set_ylabel('Current Direction (degrees)')\n",
      "for tl in axes.get_yticklabels():\n",
      "    tl.set_color('r')\n",
      "axes.yaxis.label.set_color('red')"
     ],
     "language": "python",
     "metadata": {},
     "outputs": [
      {
       "metadata": {},
       "output_type": "display_data",
       "png": "[encoded data removed]",
       "text": [
        "<matplotlib.figure.Figure at 0x110131690>"
       ]
      },
      {
       "metadata": {},
       "output_type": "display_data",
       "png": "[encoded data removed]",
       "text": [
        "<matplotlib.figure.Figure at 0x1129f1e90>"
       ]
      }
     ],
     "prompt_number": 88
    },
    {
     "cell_type": "markdown",
     "metadata": {},
     "source": [
      "#### Get DAP Obs/Model Data from found stations"
     ]
    },
    {
     "cell_type": "code",
     "collapsed": false,
     "input": [
      "def get_dap_data(dap_urls,constraint,obs_lat,obs_lon,ts):\n",
      "    # Use only data within 0.04 degrees (about 4 km).\n",
      "    obs_df = []\n",
      "    obs_or_model = False\n",
      "    max_dist = 1.4\n",
      "    # Use only data where the standard deviation of the time series exceeds 0.01 m (1 cm).\n",
      "    # This eliminates flat line model time series that come from land points that should have had missing values.\n",
      "    min_var = 0.01\n",
      "    data_idx = []\n",
      "    for url in dap_urls:\n",
      "        print url\n",
      "        try:\n",
      "            a = iris.load_cube(url, constraint)\n",
      "            # convert to units of meters\n",
      "            # a.convert_units('m')     # this isn't working for unstructured data\n",
      "            # take first 20 chars for model name\n",
      "            mod_name = a.attributes['title'][0:20]\n",
      "            print mod_name\n",
      "            \n",
      "            if 'from HF-Radar' in a.attributes['summary']:\n",
      "                 obs_or_model = True\n",
      "            \n",
      "            r = a.shape\n",
      "            timevar = find_timevar(a)\n",
      "            lat = a.coord(axis='Y').points\n",
      "            lon = a.coord(axis='X').points\n",
      "            jd = timevar.units.num2date(timevar.points)\n",
      "            start = timevar.units.date2num(jd_start)\n",
      "            istart = timevar.nearest_neighbour_index(start)\n",
      "            stop = timevar.units.date2num(jd_stop)\n",
      "            istop = timevar.nearest_neighbour_index(stop)\n",
      "\n",
      "            # Only proceed if we have data in the range requested.\n",
      "            if istart != istop:\n",
      "                nsta = len(obs_lon)\n",
      "                if len(r) == 3:\n",
      "                    try:\n",
      "                        print('[Structured grid model]:', url)\n",
      "                        d = a[0, :, :].data\n",
      "                        # Find the closest non-land point from a structured grid model.\n",
      "                        if len(lon.shape) == 1:\n",
      "                            print \"lats:\",(lat.shape),\"lons:\",len(lon.shape)\n",
      "                            lon, lat = np.meshgrid(lon, lat)\n",
      "                        j, i, dd = find_ij(lon, lat, d, obs_lon, obs_lat)\n",
      "                        for n in range(nsta):\n",
      "                            # Only use if model cell is within 0.01 degree of requested\n",
      "                            # location.                       \n",
      "                            if dd[n] <= max_dist:\n",
      "                                try:\n",
      "                                    len(j)\n",
      "                                except:\n",
      "                                    j = [j]\n",
      "\n",
      "                                try:\n",
      "                                    len(i)\n",
      "                                except:\n",
      "                                    i = [i]\n",
      "\n",
      "                                arr = a[istart:istop, j[n], i[n]].data                                \n",
      "                                if arr.std() >= min_var:                                \n",
      "                                    c = mod_df(arr, timevar, istart, istop,mod_name, ts)\n",
      "                                    name = obs_df[n].name\n",
      "                                    obs_df[n] = pd.concat([obs_df[n], c], axis=1)\n",
      "                                    obs_df[n].name = name\n",
      "                                    data_idx.append(obs_df)\n",
      "                    except:\n",
      "                        pass\n",
      "                                \n",
      "                elif len(r) == 2:\n",
      "                    try:\n",
      "                        print('[Unstructured grid model]:', url)\n",
      "                        # Find the closest point from an unstructured grid model.\n",
      "                        index, dd = nearxy(lon.flatten(), lat.flatten(),obs_lon, obs_lat)\n",
      "                        for n in range(nsta):\n",
      "                            # Only use if model cell is within 0.1 degree of requested\n",
      "                            # location.\n",
      "                            if dd[n] <= max_dist:\n",
      "                                arr = a[istart:istop, index[n]].data\n",
      "                                if arr.std() >= min_var:\n",
      "                                    c = mod_df(arr, timevar, istart, istop,mod_name, ts)\n",
      "                                    name = obs_df[n].name\n",
      "                                    obs_df[n] = pd.concat([obs_df[n], c], axis=1)\n",
      "                                    obs_df[n].name = name\n",
      "                                    data_idx.append(obs_df)\n",
      "                    except:\n",
      "                        pass\n",
      "                elif len(r) == 1:\n",
      "                    print('[Data]:', url)\n",
      "                \n",
      "                return data_idx,obs_or_model\n",
      "        except (ValueError, RuntimeError, CoordinateNotFoundError,\n",
      "                ConstraintMismatchError) as e:\n",
      "            warn(\"\\n%s\\n\" % e)\n",
      "            pass\n",
      "        \n",
      "    return data_idx,obs_or_model"
     ],
     "language": "python",
     "metadata": {},
     "outputs": [],
     "prompt_number": 23
    },
    {
     "cell_type": "code",
     "collapsed": false,
     "input": [
      "print data_dict['currents']['names']\n",
      "name_in_list = lambda cube: cube.standard_name in data_dict['currents']['names']\n",
      "ir_constraint = iris.Constraint(cube_func=name_in_list)\n",
      "\n",
      "ts_rng = pd.date_range(start=jd_start, end=jd_stop, freq='6Min')\n",
      "ts = pd.DataFrame(index=ts_rng)\n",
      "\n",
      "lat_list = []\n",
      "lon_list = []\n",
      "for st in st_list:\n",
      "    station = st_list[st]\n",
      "    lat_list.append(station[\"lat\"])\n",
      "    lon_list.append(station[\"lon\"])"
     ],
     "language": "python",
     "metadata": {},
     "outputs": [
      {
       "output_type": "stream",
       "stream": "stdout",
       "text": [
        "['currents', 'surface_eastward_sea_water_velocity', '*surface_eastward_sea_water_velocity*']\n"
       ]
      }
     ],
     "prompt_number": 24
    },
    {
     "cell_type": "code",
     "collapsed": false,
     "input": [
      "try:\n",
      "    dap_data,obs_or_model = get_dap_data(dap_urls,ir_constraint, lat_list, lon_list,ts)\n",
      "except Exception as e:\n",
      "    print \"Error: \" + str(e)"
     ],
     "language": "python",
     "metadata": {},
     "outputs": []
    },
    {
     "cell_type": "code",
     "collapsed": false,
     "input": [
      "print len(dap_data)"
     ],
     "language": "python",
     "metadata": {},
     "outputs": []
    },
    {
     "cell_type": "code",
     "collapsed": false,
     "input": [
      "import netCDF4\n",
      "nc = netCDF4.Dataset(dap_urls[0], 'r')\n",
      "print nc.variables.keys()"
     ],
     "language": "python",
     "metadata": {},
     "outputs": [
      {
       "output_type": "stream",
       "stream": "stdout",
       "text": [
        "[u'lat', u'lon', u'site_lat', u'site_lon', u'site_code', u'site_netCode', u'procParams', u'time', u'water_u', u'water_v', u'DOPx', u'DOPy']\n"
       ]
      }
     ],
     "prompt_number": 28
    },
    {
     "cell_type": "code",
     "collapsed": false,
     "input": [
      "lat_dim = nc.variables['lat']  \n",
      "print \"lat shape\",lat_dim.shape\n",
      "lon_dim = nc.variables['lon']  \n",
      "print \"lon shape\",lon_dim.shape\n",
      "time_dim = nc.variables['time']\n",
      "\n",
      "print \"find:\",st_list[st][\"lat\"],st_list[st][\"lon\"]\n",
      "\n",
      "lat_list = lat_dim[:]\n",
      "lon_list = lon_dim[:]\n",
      "\n",
      "def find_nearest(array, values):\n",
      "    indices = np.abs(np.subtract.outer(array, values)).argmin(0)\n",
      "    return indices\n",
      "\n",
      "lat_idx = find_nearest(lat_list,st_list[st][\"lat\"])\n",
      "lon_idx = find_nearest(lon_list,st_list[st][\"lon\"])\n",
      "\n",
      "print \"found:\",lat_list[lat_idx],lon_list[lon_idx]\n",
      "\n",
      "v_dim = nc.variables['water_v']\n",
      "u_dim = nc.variables['water_u']\n",
      "\n",
      "print v_dim.shape\n",
      "u_data = u_dim[:,lat_idx,lon_idx]\n",
      "v_data = v_dim[:,lat_idx,lon_idx]\n"
     ],
     "language": "python",
     "metadata": {},
     "outputs": [
      {
       "output_type": "stream",
       "stream": "stdout",
       "text": [
        "lat shape (2197,)\n",
        "lon shape (1399,)\n",
        "find: 48.33 -123.17\n",
        "found:"
       ]
      },
      {
       "output_type": "stream",
       "stream": "stdout",
       "text": [
        " 48.3289 -123.166\n",
        "(24316, 2197, 1399)\n"
       ]
      }
     ],
     "prompt_number": 52
    },
    {
     "cell_type": "code",
     "collapsed": false,
     "input": [
      "print u_data.shape"
     ],
     "language": "python",
     "metadata": {},
     "outputs": [
      {
       "output_type": "stream",
       "stream": "stdout",
       "text": [
        "(24316,)\n"
       ]
      }
     ],
     "prompt_number": 53
    },
    {
     "cell_type": "markdown",
     "metadata": {},
     "source": [
      "#### Produce Interactive Map"
     ]
    },
    {
     "cell_type": "code",
     "collapsed": false,
     "input": [
      "station =  st_list[st_list.keys()[0]]\n",
      "map = folium.Map(location=[station[\"lat\"], station[\"lon\"]], zoom_start=5)\n",
      "map.line(get_coordinates(bounding_box, bounding_box_type), line_color='#FF0000', line_weight=5)\n",
      "\n",
      "#plot the obs station, \n",
      "for st in st_list: \n",
      "    if 'hasData' in st_list[st].keys():\n",
      "        map.simple_marker([st_list[st][\"lat\"], st_list[st][\"lon\"]], popup='Obs Location:<br>'+st,marker_color=\"green\",marker_icon=\"ok\")\n",
      "    else:    \n",
      "        \n",
      "        map.simple_marker([st_list[st][\"lat\"], st_list[st][\"lon\"]], popup='Obs Location:<br>'+st,marker_color=\"red\",marker_icon=\"remove\")"
     ],
     "language": "python",
     "metadata": {},
     "outputs": [],
     "prompt_number": 119
    },
    {
     "cell_type": "code",
     "collapsed": false,
     "input": [
      "inline_map(map)"
     ],
     "language": "python",
     "metadata": {},
     "outputs": [
      {
       "html": [
        "<iframe srcdoc=\"<!DOCTYPE html>\n",
        "<head>\n",
        "   <meta http-equiv=&quot;content-type&quot; content=&quot;text/html; charset=UTF-8&quot; />\n",
        "   <link rel=&quot;stylesheet&quot; href=&quot;http://cdn.leafletjs.com/leaflet-0.7.2/leaflet.css&quot; />\n",
        "   <script src=&quot;http://cdn.leafletjs.com/leaflet-0.7.2/leaflet.js&quot;></script>\n",
        "\n",
        "   <script src=&quot;https://ajax.googleapis.com/ajax/libs/jquery/1.11.1/jquery.min.js&quot;></script>\n",
        "\n",
        "   <link rel=&quot;stylesheet&quot; href=&quot;//maxcdn.bootstrapcdn.com/bootstrap/3.2.0/css/bootstrap.min.css&quot;>\n",
        "   <link rel=&quot;stylesheet&quot; href=&quot;//maxcdn.bootstrapcdn.com/bootstrap/3.2.0/css/bootstrap-theme.min.css&quot;>\n",
        "   <script src=&quot;//maxcdn.bootstrapcdn.com/bootstrap/3.2.0/js/bootstrap.min.js&quot;></script>\n",
        "\n",
        "   <link rel=&quot;stylesheet&quot; href=&quot;//cdnjs.cloudflare.com/ajax/libs/Leaflet.awesome-markers/2.0.0/leaflet.awesome-markers.css&quot;>\n",
        "   <script src=&quot;//cdnjs.cloudflare.com/ajax/libs/Leaflet.awesome-markers/2.0.0/leaflet.awesome-markers.js&quot;></script>\n",
        "\n",
        "   \n",
        "\n",
        "   \n",
        "   \n",
        "   \n",
        "   \n",
        "\n",
        "\n",
        "   <style>\n",
        "\n",
        "      #map {\n",
        "        position:absolute;\n",
        "        top:0;\n",
        "        bottom:0;\n",
        "        right:0;\n",
        "        left:0;\n",
        "      }\n",
        "\n",
        "   </style>\n",
        "</head>\n",
        "\n",
        "<body>\n",
        "\n",
        "   <div class=&quot;folium-map&quot; id=&quot;folium_58ec679c27e546c6bfe1ee80d7e36a10&quot; style=&quot;width: 960px; height: 500px&quot;></div>\n",
        "\n",
        "   <script>\n",
        "\n",
        "      \n",
        "\n",
        "      var map = L.map('folium_58ec679c27e546c6bfe1ee80d7e36a10').setView([38.0346, -122.1252], 5);\n",
        "\n",
        "      L.tileLayer('http://{s}.tile.openstreetmap.org/{z}/{x}/{y}.png', {\n",
        "          maxZoom: 18,\n",
        "          attribution: 'Map data (c) <a href=&quot;http://openstreetmap.org&quot;>OpenStreetMap</a> contributors'\n",
        "      }).addTo(map);\n",
        "\n",
        "      \n",
        "      var marker_1_icon = L.AwesomeMarkers.icon({ icon: 'ok',markerColor: 'green',prefix: 'glyphicon' });\n",
        "      var marker_1 = L.marker([38.0346, \n",
        "\t\t\t\t\t\t\t-122.1252],\n",
        "\t\t\t\t\t\t\t{'icon':marker_1_icon}\n",
        "\t\t\t\t\t\t\t);\n",
        "      marker_1.bindPopup(&quot;Obs Location:<br>urn:ioos:station:NOAA.NOS.CO-OPS:s06010&quot;);\n",
        "      map.addLayer(marker_1)\n",
        "      \n",
        "      var marker_2_icon = L.AwesomeMarkers.icon({ icon: 'remove',markerColor: 'red',prefix: 'glyphicon' });\n",
        "      var marker_2 = L.marker([48.8628, \n",
        "\t\t\t\t\t\t\t-122.761],\n",
        "\t\t\t\t\t\t\t{'icon':marker_2_icon}\n",
        "\t\t\t\t\t\t\t);\n",
        "      marker_2.bindPopup(&quot;Obs Location:<br>urn:ioos:station:NOAA.NOS.CO-OPS:cp0101&quot;);\n",
        "      map.addLayer(marker_2)\n",
        "      \n",
        "      var marker_3_icon = L.AwesomeMarkers.icon({ icon: 'remove',markerColor: 'red',prefix: 'glyphicon' });\n",
        "      var marker_3 = L.marker([40.78, \n",
        "\t\t\t\t\t\t\t-124.54],\n",
        "\t\t\t\t\t\t\t{'icon':marker_3_icon}\n",
        "\t\t\t\t\t\t\t);\n",
        "      marker_3.bindPopup(&quot;Obs Location:<br>urn:ioos:station:wmo:46022&quot;);\n",
        "      map.addLayer(marker_3)\n",
        "      \n",
        "      var marker_4_icon = L.AwesomeMarkers.icon({ icon: 'remove',markerColor: 'red',prefix: 'glyphicon' });\n",
        "      var marker_4 = L.marker([40.7775, \n",
        "\t\t\t\t\t\t\t-124.1966],\n",
        "\t\t\t\t\t\t\t{'icon':marker_4_icon}\n",
        "\t\t\t\t\t\t\t);\n",
        "      marker_4.bindPopup(&quot;Obs Location:<br>urn:ioos:station:NOAA.NOS.CO-OPS:hb0401&quot;);\n",
        "      map.addLayer(marker_4)\n",
        "      \n",
        "      var marker_5_icon = L.AwesomeMarkers.icon({ icon: 'remove',markerColor: 'red',prefix: 'glyphicon' });\n",
        "      var marker_5 = L.marker([49.89, \n",
        "\t\t\t\t\t\t\t-124.73],\n",
        "\t\t\t\t\t\t\t{'icon':marker_5_icon}\n",
        "\t\t\t\t\t\t\t);\n",
        "      marker_5.bindPopup(&quot;Obs Location:<br>urn:ioos:station:wmo:46087&quot;);\n",
        "      map.addLayer(marker_5)\n",
        "      \n",
        "      var marker_6_icon = L.AwesomeMarkers.icon({ icon: 'remove',markerColor: 'red',prefix: 'glyphicon' });\n",
        "      var marker_6 = L.marker([42.76, \n",
        "\t\t\t\t\t\t\t-124.83],\n",
        "\t\t\t\t\t\t\t{'icon':marker_6_icon}\n",
        "\t\t\t\t\t\t\t);\n",
        "      marker_6.bindPopup(&quot;Obs Location:<br>urn:ioos:station:wmo:46015&quot;);\n",
        "      map.addLayer(marker_6)\n",
        "      \n",
        "      var marker_7_icon = L.AwesomeMarkers.icon({ icon: 'remove',markerColor: 'red',prefix: 'glyphicon' });\n",
        "      var marker_7 = L.marker([46.14, \n",
        "\t\t\t\t\t\t\t-124.51],\n",
        "\t\t\t\t\t\t\t{'icon':marker_7_icon}\n",
        "\t\t\t\t\t\t\t);\n",
        "      marker_7.bindPopup(&quot;Obs Location:<br>urn:ioos:station:wmo:46029&quot;);\n",
        "      map.addLayer(marker_7)\n",
        "      \n",
        "      var marker_8_icon = L.AwesomeMarkers.icon({ icon: 'remove',markerColor: 'red',prefix: 'glyphicon' });\n",
        "      var marker_8 = L.marker([40.7423, \n",
        "\t\t\t\t\t\t\t-124.2251],\n",
        "\t\t\t\t\t\t\t{'icon':marker_8_icon}\n",
        "\t\t\t\t\t\t\t);\n",
        "      marker_8.bindPopup(&quot;Obs Location:<br>urn:ioos:station:NOAA.NOS.CO-OPS:hb0301&quot;);\n",
        "      map.addLayer(marker_8)\n",
        "      \n",
        "      var marker_9_icon = L.AwesomeMarkers.icon({ icon: 'remove',markerColor: 'red',prefix: 'glyphicon' });\n",
        "      var marker_9 = L.marker([38.23, \n",
        "\t\t\t\t\t\t\t-123.32],\n",
        "\t\t\t\t\t\t\t{'icon':marker_9_icon}\n",
        "\t\t\t\t\t\t\t);\n",
        "      marker_9.bindPopup(&quot;Obs Location:<br>urn:ioos:station:wmo:46013&quot;);\n",
        "      map.addLayer(marker_9)\n",
        "      \n",
        "      var marker_10_icon = L.AwesomeMarkers.icon({ icon: 'remove',markerColor: 'red',prefix: 'glyphicon' });\n",
        "      var marker_10 = L.marker([45.91, \n",
        "\t\t\t\t\t\t\t-125.76],\n",
        "\t\t\t\t\t\t\t{'icon':marker_10_icon}\n",
        "\t\t\t\t\t\t\t);\n",
        "      marker_10.bindPopup(&quot;Obs Location:<br>urn:ioos:station:wmo:46089&quot;);\n",
        "      map.addLayer(marker_10)\n",
        "      \n",
        "      var marker_11_icon = L.AwesomeMarkers.icon({ icon: 'remove',markerColor: 'red',prefix: 'glyphicon' });\n",
        "      var marker_11 = L.marker([48.33, \n",
        "\t\t\t\t\t\t\t-123.17],\n",
        "\t\t\t\t\t\t\t{'icon':marker_11_icon}\n",
        "\t\t\t\t\t\t\t);\n",
        "      marker_11.bindPopup(&quot;Obs Location:<br>urn:ioos:station:wmo:46088&quot;);\n",
        "      map.addLayer(marker_11)\n",
        "      \n",
        "\n",
        "      \n",
        "      var latLngs = [ [38, -130],  [38, -121],  [50, -121],  [50, -130],  [38, -130], ];\n",
        "var line_1 = L.polyline(latLngs,{\n",
        "color: '#FF0000',\n",
        "weight: 5,\n",
        "\n",
        "});\n",
        "      map.addLayer(line_1);\n",
        "      \n",
        "\n",
        "      \n",
        "\n",
        "      \n",
        "\n",
        "   </script>\n",
        "\n",
        "</body>\" style=\"width: 100%; height: 500px; border: none\"></iframe>"
       ],
       "metadata": {},
       "output_type": "pyout",
       "prompt_number": 120,
       "text": [
        "<IPython.core.display.HTML at 0x10aef2990>"
       ]
      }
     ],
     "prompt_number": 120
    },
    {
     "cell_type": "code",
     "collapsed": false,
     "input": [],
     "language": "python",
     "metadata": {},
     "outputs": []
    }
   ],
   "metadata": {}
  }
 ]
}