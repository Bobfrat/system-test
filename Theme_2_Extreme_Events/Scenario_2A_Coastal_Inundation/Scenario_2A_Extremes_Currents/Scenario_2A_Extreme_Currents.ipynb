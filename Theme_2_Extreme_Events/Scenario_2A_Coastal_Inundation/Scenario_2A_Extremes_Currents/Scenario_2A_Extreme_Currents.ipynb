{
 "metadata": {
  "name": "",
  "signature": "sha256:779f50363fc9209fc34f3e64a2a9eb8e2a0ead03dd921de3f13d1fd3eb9c8b32"
 },
 "nbformat": 3,
 "nbformat_minor": 0,
 "worksheets": [
  {
   "cells": [
    {
     "cell_type": "markdown",
     "metadata": {},
     "source": [
      "># IOOS System Test: [Extreme Events Theme:](https://github.com/ioos/system-test/wiki/Development-of-Test-Themes#theme-2-extreme-events) Coastal Inundation"
     ]
    },
    {
     "cell_type": "markdown",
     "metadata": {},
     "source": [
      "### Can we obtain observed current data at stations located within a bounding box?\n",
      "This notebook is based on IOOS System Test: Inundation"
     ]
    },
    {
     "cell_type": "markdown",
     "metadata": {},
     "source": [
      "Methodology:\n",
      "* Define temporal and spatial bounds of interest, as well as\n",
      "  parameters of interest\n",
      "* Search for available service endpoints in the NGDC CSW catalog\n",
      "  meeting search criteria\n",
      "* Search for available OPeNDAP data endpoints\n",
      "* Obtain observation data sets from stations within the spatial\n",
      "  boundaries (from CO-OPS and NDBC)\n",
      "* Extract time series for identified stations\n",
      "* Plot time series data, current rose, annual max values per station\n",
      "* Plot observation stations on a map"
     ]
    },
    {
     "cell_type": "markdown",
     "metadata": {},
     "source": [
      "#### import required libraries"
     ]
    },
    {
     "cell_type": "code",
     "collapsed": false,
     "input": [
      "from datetime import datetime, timedelta\n",
      "\n",
      "import os\n",
      "import os.path\n",
      "\n",
      "import netCDF4\n",
      "from netCDF4 import num2date\n",
      "\n",
      "import uuid\n",
      "import folium\n",
      "from IPython.display import HTML, Javascript, display\n",
      "\n",
      "import matplotlib.pyplot as plt\n",
      "from owslib.csw import CatalogueServiceWeb\n",
      "from owslib import fes\n",
      "\n",
      "import numpy as np\n",
      "from pandas import DataFrame, read_csv\n",
      "from pyoos.collectors.ndbc.ndbc_sos import NdbcSos\n",
      "from pyoos.collectors.coops.coops_sos import CoopsSos\n",
      "import requests\n",
      "\n",
      "from utilities import (date_range, service_urls, get_coordinates,\n",
      "                       inline_map, css_styles)\n",
      "\n",
      "import time as ttime\n",
      "from io import BytesIO\n",
      "\n",
      "# For plotting.\n",
      "from windrose import WindroseAxes\n",
      "\n",
      "css_styles()"
     ],
     "language": "python",
     "metadata": {},
     "outputs": [
      {
       "html": [
        "\n",
        "        <style>\n",
        "        .info {\n",
        "            background-color: #fcf8e3; border-color: #faebcc;\n",
        "                border-left: 5px solid #8a6d3b; padding: 0.5em; color: #8a6d3b;\n",
        "        }\n",
        "        .success {\n",
        "            background-color: #d9edf7; border-color: #bce8f1;\n",
        "                border-left: 5px solid #31708f; padding: 0.5em; color: #31708f;\n",
        "        }\n",
        "        .error {\n",
        "            background-color: #f2dede; border-color: #ebccd1;\n",
        "                border-left: 5px solid #a94442; padding: 0.5em; color: #a94442;\n",
        "        }\n",
        "        .warning {\n",
        "            background-color: #fcf8e3; border-color: #faebcc;\n",
        "                border-left: 5px solid #8a6d3b; padding: 0.5em; color: #8a6d3b;\n",
        "        }\n",
        "        </style>\n",
        "    "
       ],
       "metadata": {},
       "output_type": "pyout",
       "prompt_number": 1,
       "text": [
        "<IPython.core.display.HTML at 0x40e67d0>"
       ]
      }
     ],
     "prompt_number": 1
    },
    {
     "cell_type": "markdown",
     "metadata": {},
     "source": [
      "<div class=\"warning\"><strong>Temporal Bounds</strong> -\n",
      "Anything longer than one year kills the CO-OPS service</div>"
     ]
    },
    {
     "cell_type": "code",
     "collapsed": false,
     "input": [
      "bounding_box_type = \"box\"\n",
      "\n",
      "# Bounding Box [lon_min, lat_min, lon_max, lat_max]\n",
      "area = {'Hawaii': [-160.0, 18.0, -154., 23.0],\n",
      "        'Gulf of Maine': [-72.0, 41.0, -69.0, 43.0],\n",
      "        'New York harbor region': [-75., 39., -71., 41.5],\n",
      "        'Puerto Rico': [-71, 14, -60, 24],\n",
      "        'East Coast': [-77, 34, -70, 40],\n",
      "        'North West': [-130, 38, -121, 50]}\n",
      "\n",
      "bounding_box = area['North West']\n",
      "\n",
      "# Temporal range.\n",
      "jd_now = datetime.utcnow()\n",
      "jd_start,  jd_stop = jd_now - timedelta(days=(365*10)), jd_now\n",
      "\n",
      "start_date = jd_start.strftime('%Y-%m-%d %H:00')\n",
      "stop_date = jd_stop.strftime('%Y-%m-%d %H:00')\n",
      "\n",
      "jd_start = datetime.strptime(start_date, '%Y-%m-%d %H:%M')\n",
      "jd_stop = datetime.strptime(stop_date, '%Y-%m-%d %H:%M')\n",
      "print('%s to %s ' % (start_date, stop_date))"
     ],
     "language": "python",
     "metadata": {},
     "outputs": [
      {
       "output_type": "stream",
       "stream": "stdout",
       "text": [
        "2004-08-08 21:00 to 2014-08-06 21:00 \n"
       ]
      }
     ],
     "prompt_number": 2
    },
    {
     "cell_type": "code",
     "collapsed": false,
     "input": [
      "# Put the names in a dict for ease of access .\n",
      "data_dict = {}\n",
      "sos_name = 'Currents'\n",
      "data_dict['currents'] = {\"names\": ['currents',\n",
      "                                   'surface_eastward_sea_water_velocity',\n",
      "                                   '*surface_eastward_sea_water_velocity*'],\n",
      "                         \"sos_name\": ['currents']}"
     ],
     "language": "python",
     "metadata": {},
     "outputs": [],
     "prompt_number": 3
    },
    {
     "cell_type": "markdown",
     "metadata": {},
     "source": [
      "CSW Search"
     ]
    },
    {
     "cell_type": "code",
     "collapsed": false,
     "input": [
      "endpoint = 'http://www.ngdc.noaa.gov/geoportal/csw'  # NGDC Geoportal.\n",
      "csw = CatalogueServiceWeb(endpoint, timeout=60)"
     ],
     "language": "python",
     "metadata": {},
     "outputs": [],
     "prompt_number": 4
    },
    {
     "cell_type": "markdown",
     "metadata": {},
     "source": [
      "Search"
     ]
    },
    {
     "cell_type": "code",
     "collapsed": false,
     "input": [
      "# Convert User Input into FES filters.\n",
      "start, stop = date_range(start_date, stop_date)\n",
      "bbox = fes.BBox(bounding_box)\n",
      "\n",
      "# Use the search name to create search filter.\n",
      "kw = dict(propertyname='apiso:AnyText', escapeChar='\\\\',\n",
      "          wildCard='*', singleChar='?')\n",
      "or_filt = fes.Or([fes.PropertyIsLike(literal=('*%s*' % val), **kw) for\n",
      "                  val in data_dict['currents']['names']])\n",
      "\n",
      "val = 'Averages'\n",
      "not_filt = fes.Not([fes.PropertyIsLike(literal=('*%s*' % val), **kw)])\n",
      "\n",
      "filter_list = [fes.And([bbox, start, stop, or_filt, not_filt])]\n",
      "# Connect to CSW, explore it's properties\n",
      "# try request using multiple filters \"and\" syntax: [[filter1, filter2]]\n",
      "csw.getrecords2(constraints=filter_list, maxrecords=1000, esn='full')\n",
      "print(\"%s csw records found\" % len(csw.records))\n",
      "for rec, item in csw.records.items():\n",
      "    print(item.title)"
     ],
     "language": "python",
     "metadata": {},
     "outputs": [
      {
       "output_type": "stream",
       "stream": "stdout",
       "text": [
        "26 csw records found\n",
        "Near-Real Time Surface Ocean Velocity\n",
        "Near-Real Time Surface Ocean Velocity\n",
        "Near-Real Time Surface Ocean Velocity\n",
        "Near-Real Time Surface Ocean Velocity\n",
        "Near-Real Time Surface Ocean Velocity, U.S. West Coast, 1 km Resolution (GNOME)\n",
        "Near-Real Time Surface Ocean Velocity, U.S. West Coast,\n",
        "1 km Resolution\n",
        "Near-Real Time Surface Ocean Velocity, U.S. West Coast, 2 km Resolution (GNOME)\n",
        "Near-Real Time Surface Ocean Velocity, U.S. West Coast,\n",
        "2 km Resolution\n",
        "Near-Real Time Surface Ocean Velocity, U.S. West Coast, 6 km Resolution (GNOME)\n",
        "Near-Real Time Surface Ocean Velocity, U.S. West Coast,\n",
        "6 km Resolution\n",
        "Near-Real Time Surface Ocean Velocity, U.S. West Coast, 1 km Resolution (GNOME)\n",
        "Near-Real Time Surface Ocean Velocity, U.S. West Coast,\n",
        "1 km Resolution\n",
        "Near-Real Time Surface Ocean Velocity, U.S. West Coast, 2 km Resolution (GNOME)\n",
        "Near-Real Time Surface Ocean Velocity, U.S. West Coast,\n",
        "2 km Resolution\n",
        "Near-Real Time Surface Ocean Velocity, U.S. West Coast, 6 km Resolution (GNOME)\n",
        "Near-Real Time Surface Ocean Velocity, U.S. West Coast,\n",
        "6 km Resolution\n",
        "Surface CUrrents from a Diagnostic model (SCUD): Pacific\n",
        "Barotropic Tide Model for the Pacific Basin\n",
        "NOAA.NOS.CO-OPS SOS\n",
        "National Data Buoy Center SOS\n",
        "Solar Geophysical Data (SGD) Reports (1955-2009)\n",
        "HYbrid Coordinate Ocean Model (HYCOM): Global\n",
        "Near-Real Time Surface Ocean Velocity, U.S. West Coast, 500 m Resolution (GNOME)\n",
        "Near-Real Time Surface Ocean Velocity, U.S. West Coast,\n",
        "500 m Resolution\n",
        "Near-Real Time Surface Ocean Velocity, U.S. West Coast, 500 m Resolution (GNOME)\n",
        "Near-Real Time Surface Ocean Velocity, U.S. West Coast,\n",
        "500 m Resolution\n"
       ]
      }
     ],
     "prompt_number": 5
    },
    {
     "cell_type": "markdown",
     "metadata": {},
     "source": [
      "DAP"
     ]
    },
    {
     "cell_type": "code",
     "collapsed": false,
     "input": [
      "dap_urls = service_urls(csw.records)\n",
      "# Remove duplicates and organize.\n",
      "dap_urls = sorted(set(dap_urls))\n",
      "print(\"Total DAP: %s\" % len(dap_urls))\n",
      "# Print the first 5:\n",
      "print(\"\\n\".join(dap_urls[:]))"
     ],
     "language": "python",
     "metadata": {},
     "outputs": [
      {
       "output_type": "stream",
       "stream": "stdout",
       "text": [
        "Total DAP: 11\n",
        "http://hfrnet.ucsd.edu/thredds/dodsC/HFRNet/USWC/1km/hourly/GNOME\n",
        "http://hfrnet.ucsd.edu/thredds/dodsC/HFRNet/USWC/1km/hourly/RTV\n",
        "http://hfrnet.ucsd.edu/thredds/dodsC/HFRNet/USWC/2km/hourly/GNOME\n",
        "http://hfrnet.ucsd.edu/thredds/dodsC/HFRNet/USWC/2km/hourly/RTV\n",
        "http://hfrnet.ucsd.edu/thredds/dodsC/HFRNet/USWC/500m/hourly/GNOME\n",
        "http://hfrnet.ucsd.edu/thredds/dodsC/HFRNet/USWC/500m/hourly/RTV\n",
        "http://hfrnet.ucsd.edu/thredds/dodsC/HFRNet/USWC/6km/hourly/GNOME\n",
        "http://hfrnet.ucsd.edu/thredds/dodsC/HFRNet/USWC/6km/hourly/RTV\n",
        "http://oos.soest.hawaii.edu/thredds/dodsC/hioos/tide_pac\n",
        "http://oos.soest.hawaii.edu/thredds/dodsC/pacioos/hycom/global\n",
        "http://oos.soest.hawaii.edu/thredds/dodsC/pacioos/scud/pac\n"
       ]
      }
     ],
     "prompt_number": 6
    },
    {
     "cell_type": "markdown",
     "metadata": {},
     "source": [
      "Get SOS links, NDBC is not available so add it..."
     ]
    },
    {
     "cell_type": "code",
     "collapsed": false,
     "input": [
      "sos_urls = service_urls(csw.records, service='sos:url')\n",
      "# Remove duplicates and organize.\n",
      "sos_urls = sorted(set(sos_urls))\n",
      "print(\"Total SOS: %s\" % len(sos_urls))\n",
      "print(\"\\n\".join(sos_urls))"
     ],
     "language": "python",
     "metadata": {},
     "outputs": [
      {
       "output_type": "stream",
       "stream": "stdout",
       "text": [
        "Total SOS: 2\n",
        "http://opendap.co-ops.nos.noaa.gov/ioos-dif-sos/SOS?service=SOS&request=GetCapabilities\n",
        "http://sdf.ndbc.noaa.gov/sos/server.php?service=SOS&request=GetCapabilities&acceptVersions=1.0.0\n"
       ]
      }
     ],
     "prompt_number": 7
    },
    {
     "cell_type": "markdown",
     "metadata": {},
     "source": [
      "#### Update SOS timedate"
     ]
    },
    {
     "cell_type": "code",
     "collapsed": false,
     "input": [
      "start_time = datetime.strptime(start_date, '%Y-%m-%d %H:%M')\n",
      "end_time = datetime.strptime(stop_date, '%Y-%m-%d %H:%M')\n",
      "iso_start = start_time.strftime('%Y-%m-%dT%H:%M:%SZ')\n",
      "iso_end = end_time.strftime('%Y-%m-%dT%H:%M:%SZ')"
     ],
     "language": "python",
     "metadata": {},
     "outputs": [],
     "prompt_number": 8
    },
    {
     "cell_type": "markdown",
     "metadata": {},
     "source": [
      "<div class=\"success\"><strong>Get list of stations</strong>\n",
      "- we get a list of the available stations from NOAA and COOPS</div>"
     ]
    },
    {
     "cell_type": "markdown",
     "metadata": {},
     "source": [
      "#### Initalize Station Data List"
     ]
    },
    {
     "cell_type": "code",
     "collapsed": false,
     "input": [
      "st_list = {}"
     ],
     "language": "python",
     "metadata": {},
     "outputs": [],
     "prompt_number": 9
    },
    {
     "cell_type": "code",
     "collapsed": false,
     "input": [
      "\n",
      "def processStationInfo(obs_loc_df, st_list, source):\n",
      "    st_data = obs_loc_df['station_id']\n",
      "    lat_data = obs_loc_df['latitude (degree)']\n",
      "    lon_data = obs_loc_df['longitude (degree)']\n",
      "\n",
      "    for i in range(0, len(st_data)):\n",
      "        station_name = st_data[i]\n",
      "        if station_name in st_list:\n",
      "            pass\n",
      "        else:\n",
      "            st_list[station_name] = {}\n",
      "            st_list[station_name][\"lat\"] = lat_data[i]\n",
      "            st_list[station_name][\"source\"] = source\n",
      "            st_list[station_name][\"lon\"] = lon_data[i]\n",
      "            print(station_name)\n",
      "\n",
      "    print(\"number of stations in bbox %s\" % len(st_list.keys()))\n",
      "    return(st_list)"
     ],
     "language": "python",
     "metadata": {},
     "outputs": [],
     "prompt_number": 10
    },
    {
     "cell_type": "markdown",
     "metadata": {},
     "source": [
      "#### Get CO-OPS Station Data"
     ]
    },
    {
     "cell_type": "code",
     "collapsed": false,
     "input": [
      "coops_collector = CoopsSos()\n",
      "coops_collector.start_time = start_time\n",
      "coops_collector.end_time = end_time\n",
      "coops_collector.variables = data_dict[\"currents\"][\"sos_name\"]\n",
      "coops_collector.server.identification.title\n",
      "print(\"%s:%s\" % (coops_collector.start_time, coops_collector.end_time))\n",
      "ofrs = coops_collector.server.offerings\n",
      "print(len(ofrs))"
     ],
     "language": "python",
     "metadata": {},
     "outputs": [
      {
       "output_type": "stream",
       "stream": "stdout",
       "text": [
        "2004-08-08 21:00:00+00:00:2014-08-06 21:00:00+00:00\n",
        "1026\n"
       ]
      }
     ],
     "prompt_number": 11
    },
    {
     "cell_type": "markdown",
     "metadata": {},
     "source": [
      "#### gets a list of the active stations from coops"
     ]
    },
    {
     "cell_type": "code",
     "collapsed": false,
     "input": [
      "print(\"Date: %s to %s\" % (iso_start, iso_end))\n",
      "box_str = ','.join(str(e) for e in bounding_box)\n",
      "print(\"Lat/Lon Box: %s\" % box_str)\n",
      "\n",
      "url = (('http://opendap.co-ops.nos.noaa.gov/ioos-dif-sos/SOS?'\n",
      "        'service=SOS&request=GetObservation&version=1.0.0&'\n",
      "        'observedProperty=%s&bin=1&'\n",
      "        'offering=urn:ioos:network:NOAA.NOS.CO-OPS:CurrentsActive&'\n",
      "        'featureOfInterest=BBOX:%s&responseFormat=text/csv') %\n",
      "       (sos_name, box_str))\n",
      "\n",
      "print(url)\n",
      "obs_loc_df = read_csv(url)"
     ],
     "language": "python",
     "metadata": {},
     "outputs": [
      {
       "output_type": "stream",
       "stream": "stdout",
       "text": [
        "Date: 2004-08-08T21:00:00Z to 2014-08-06T21:00:00Z\n",
        "Lat/Lon Box: -130,38,-121,50\n",
        "http://opendap.co-ops.nos.noaa.gov/ioos-dif-sos/SOS?service=SOS&request=GetObservation&version=1.0.0&observedProperty=Currents&bin=1&offering=urn:ioos:network:NOAA.NOS.CO-OPS:CurrentsActive&featureOfInterest=BBOX:-130,38,-121,50&responseFormat=text/csv\n"
       ]
      }
     ],
     "prompt_number": 12
    },
    {
     "cell_type": "markdown",
     "metadata": {},
     "source": [
      "#### COOPS Station Information"
     ]
    },
    {
     "cell_type": "code",
     "collapsed": false,
     "input": [
      "st_list = processStationInfo(obs_loc_df, st_list, \"coops\")"
     ],
     "language": "python",
     "metadata": {},
     "outputs": [
      {
       "output_type": "stream",
       "stream": "stdout",
       "text": [
        "urn:ioos:station:NOAA.NOS.CO-OPS:cp0101\n",
        "urn:ioos:station:NOAA.NOS.CO-OPS:hb0301\n",
        "urn:ioos:station:NOAA.NOS.CO-OPS:hb0401\n",
        "urn:ioos:station:NOAA.NOS.CO-OPS:s06010\n",
        "number of stations in bbox 4\n"
       ]
      }
     ],
     "prompt_number": 13
    },
    {
     "cell_type": "code",
     "collapsed": false,
     "input": [
      "st_list"
     ],
     "language": "python",
     "metadata": {},
     "outputs": [
      {
       "metadata": {},
       "output_type": "pyout",
       "prompt_number": 14,
       "text": [
        "{'urn:ioos:station:NOAA.NOS.CO-OPS:cp0101': {'lat': 48.8628,\n",
        "  'lon': -122.761,\n",
        "  'source': 'coops'},\n",
        " 'urn:ioos:station:NOAA.NOS.CO-OPS:hb0301': {'lat': 40.7423,\n",
        "  'lon': -124.2251,\n",
        "  'source': 'coops'},\n",
        " 'urn:ioos:station:NOAA.NOS.CO-OPS:hb0401': {'lat': 40.777500000000003,\n",
        "  'lon': -124.1966,\n",
        "  'source': 'coops'},\n",
        " 'urn:ioos:station:NOAA.NOS.CO-OPS:s06010': {'lat': 38.034599999999998,\n",
        "  'lon': -122.12520000000001,\n",
        "  'source': 'coops'}}"
       ]
      }
     ],
     "prompt_number": 14
    },
    {
     "cell_type": "markdown",
     "metadata": {},
     "source": [
      "#### Get NDBC Station Data"
     ]
    },
    {
     "cell_type": "code",
     "collapsed": false,
     "input": [
      "ndbc_collector = NdbcSos()\n",
      "ndbc_collector.start_time = start_time\n",
      "ndbc_collector.end_time = end_time\n",
      "ndbc_collector.variables = data_dict[\"currents\"][\"sos_name\"]\n",
      "ndbc_collector.server.identification.title\n",
      "print(\"%s:%s\" % (ndbc_collector.start_time, ndbc_collector.end_time))\n",
      "ofrs = ndbc_collector.server.offerings\n",
      "print(len(ofrs))"
     ],
     "language": "python",
     "metadata": {},
     "outputs": [
      {
       "output_type": "stream",
       "stream": "stdout",
       "text": [
        "2004-08-08 21:00:00+00:00:2014-08-06 21:00:00+00:00\n",
        "891\n"
       ]
      }
     ],
     "prompt_number": 15
    },
    {
     "cell_type": "code",
     "collapsed": false,
     "input": [
      "print(\"Date: %s to %s\" % (iso_start, iso_end))\n",
      "box_str = ','.join(str(e) for e in bounding_box)\n",
      "print(\"Lat/Lon Box: %s\" % box_str)\n",
      "\n",
      "url = (('http://sdf.ndbc.noaa.gov/sos/server.php?'\n",
      "        'request=GetObservation&service=SOS&'\n",
      "        'version=1.0.0&'\n",
      "        'offering=urn:ioos:network:noaa.nws.ndbc:all&'\n",
      "        'featureofinterest=BBOX:%s&'\n",
      "        'observedproperty=%s&'\n",
      "        'responseformat=text/csv&') % (box_str, sos_name))\n",
      "\n",
      "print(url)\n",
      "obs_loc_df = read_csv(url)"
     ],
     "language": "python",
     "metadata": {},
     "outputs": [
      {
       "output_type": "stream",
       "stream": "stdout",
       "text": [
        "Date: 2004-08-08T21:00:00Z to 2014-08-06T21:00:00Z\n",
        "Lat/Lon Box: -130,38,-121,50\n",
        "http://sdf.ndbc.noaa.gov/sos/server.php?request=GetObservation&service=SOS&version=1.0.0&offering=urn:ioos:network:noaa.nws.ndbc:all&featureofinterest=BBOX:-130,38,-121,50&observedproperty=Currents&responseformat=text/csv&\n"
       ]
      }
     ],
     "prompt_number": 16
    },
    {
     "cell_type": "markdown",
     "metadata": {},
     "source": [
      "#### NDBC Station information"
     ]
    },
    {
     "cell_type": "code",
     "collapsed": false,
     "input": [
      "st_list = processStationInfo(obs_loc_df, st_list, \"ndbc\")\n",
      "print(st_list)"
     ],
     "language": "python",
     "metadata": {},
     "outputs": [
      {
       "output_type": "stream",
       "stream": "stdout",
       "text": [
        "urn:ioos:station:wmo:46013\n",
        "urn:ioos:station:wmo:46015\n",
        "urn:ioos:station:wmo:46022\n",
        "urn:ioos:station:wmo:46029\n",
        "urn:ioos:station:wmo:46087\n",
        "urn:ioos:station:wmo:46088\n",
        "urn:ioos:station:wmo:46089\n",
        "number of stations in bbox 11\n",
        "{'urn:ioos:station:NOAA.NOS.CO-OPS:s06010': {'lat': 38.034599999999998, 'source': 'coops', 'lon': -122.12520000000001}, 'urn:ioos:station:NOAA.NOS.CO-OPS:cp0101': {'lat': 48.8628, 'source': 'coops', 'lon': -122.761}, 'urn:ioos:station:wmo:46022': {'lat': 40.780000000000001, 'source': 'ndbc', 'lon': -124.54000000000001}, 'urn:ioos:station:NOAA.NOS.CO-OPS:hb0401': {'lat': 40.777500000000003, 'source': 'coops', 'lon': -124.1966}, 'urn:ioos:station:wmo:46087': {'lat': 49.890000000000001, 'source': 'ndbc', 'lon': -124.73}, 'urn:ioos:station:wmo:46015': {'lat': 42.759999999999998, 'source': 'ndbc', 'lon': -124.83}, 'urn:ioos:station:wmo:46029': {'lat': 46.140000000000001, 'source': 'ndbc', 'lon': -124.51000000000001}, 'urn:ioos:station:NOAA.NOS.CO-OPS:hb0301': {'lat': 40.7423, 'source': 'coops', 'lon': -124.2251}, 'urn:ioos:station:wmo:46013': {'lat': 38.229999999999997, 'source': 'ndbc', 'lon': -123.31999999999999}, 'urn:ioos:station:wmo:46089': {'lat': 45.909999999999997, 'source': 'ndbc', 'lon': -125.76000000000001}, 'urn:ioos:station:wmo:46088': {'lat': 48.329999999999998, 'source': 'ndbc', 'lon': -123.17}}\n"
       ]
      }
     ],
     "prompt_number": 17
    },
    {
     "cell_type": "code",
     "collapsed": false,
     "input": [
      "print(st_list[st_list.keys()[0]]['lat'])\n",
      "print(st_list[st_list.keys()[0]]['lon'])"
     ],
     "language": "python",
     "metadata": {},
     "outputs": [
      {
       "output_type": "stream",
       "stream": "stdout",
       "text": [
        "38.0346\n",
        "-122.1252\n"
       ]
      }
     ],
     "prompt_number": 18
    },
    {
     "cell_type": "markdown",
     "metadata": {},
     "source": [
      "#### NDBC Data Access"
     ]
    },
    {
     "cell_type": "code",
     "collapsed": false,
     "input": [
      "\n",
      "def ndbc2data2(collector, station_id, sos_name, iso_start, iso_end):\n",
      "    \"\"\"Extract the Observation Data from the collector.\"\"\"\n",
      "    collector.features = [station_id]\n",
      "    collector.variables = [sos_name]\n",
      "\n",
      "    url = (('http://sdf.ndbc.noaa.gov/sos/server.php?'\n",
      "            'request=GetObservation&service=SOS&'\n",
      "            'version=1.0.0&'\n",
      "            'offering=%s&'\n",
      "            'featureofinterest=BBOX:%s&'\n",
      "            'observedproperty=%s&'\n",
      "            'responseformat=text/csv&'\n",
      "            'eventtime=%s/%s') %\n",
      "           (station_id, box_str, sos_name, iso_start, iso_end))\n",
      "\n",
      "    print(url)\n",
      "\n",
      "    data_df = read_csv(url, parse_dates=True, index_col='date_time')\n",
      "    data_df.name = station_id\n",
      "    return data_df"
     ],
     "language": "python",
     "metadata": {},
     "outputs": [],
     "prompt_number": 19
    },
    {
     "cell_type": "markdown",
     "metadata": {},
     "source": [
      "#### The function only support who date time differences"
     ]
    },
    {
     "cell_type": "code",
     "collapsed": false,
     "input": [
      "\n",
      "def isInteger(n):\n",
      "    \"\"\"Return True if argument is a whole number, False if argument\n",
      "    has a fractional part.\"\"\"\n",
      "    if n % 2 == 0 or (n + 1) % 2 == 0:\n",
      "        return True\n",
      "    return False"
     ],
     "language": "python",
     "metadata": {},
     "outputs": [],
     "prompt_number": 20
    },
    {
     "cell_type": "markdown",
     "metadata": {},
     "source": [
      "<div class=\"error\">\n",
      "<strong>Large Temporal Requests Need To Be Broken Down</strong> -\n",
      "When requesting a large temporal range outside the SOS limit, the sos\n",
      "request needs to be broken down.  See issues in\n",
      "[ioos](https://github.com/ioos/system-test/issues/81),\n",
      "[ioos](https://github.com/ioos/system-test/issues/101),\n",
      "[ioos](https://github.com/ioos/system-test/issues/116)\n",
      "and\n",
      "[pyoos](https://github.com/ioos/pyoos/issues/35).  Unfortunatly currents\n",
      "is not available via DAP\n",
      "([ioos](https://github.com/ioos/system-test/issues/116))</div>"
     ]
    },
    {
     "cell_type": "markdown",
     "metadata": {},
     "source": [
      "<div class=\"error\">\n",
      "<strong>Large Temporal Requests Need To Be Broken Down</strong> -\n",
      "Obtaining long time series from COOPS via SOS is not ideal and the opendap\n",
      "links are not available, so we use the tides and currents api to get the\n",
      "currents in json format. The api response provides in default bin, unless a\n",
      "bin is specified (i.e bin=1)</div>"
     ]
    },
    {
     "cell_type": "code",
     "collapsed": false,
     "input": [
      "\n",
      "def breakdownCurrentRequest(collector, station_id, max_days,\n",
      "                            sos_name, divid):\n",
      "    # responseFormat = \"csv\"\n",
      "\n",
      "    # Loop through the years and get the data needed.\n",
      "    st_time = (collector.start_time)\n",
      "    ed_time = (collector.end_time)\n",
      "    # Only max_days days are allowed to be requested at once\n",
      "    # end-start gives days in date time object.\n",
      "    dt_diff = ed_time - st_time\n",
      "    num_days = dt_diff.days\n",
      "    print(num_days)\n",
      "    num_requests = num_days/max_days\n",
      "    print(\"Num requests: %s\" % num_requests)\n",
      "    # If its whole days.\n",
      "    master_df = DataFrame()\n",
      "\n",
      "    print(num_requests)\n",
      "\n",
      "    if isInteger(num_requests):\n",
      "        # Need to add one to the range.\n",
      "        for i in range(1, num_requests + 1):\n",
      "            percent_compelte = (float(i)/float(num_requests))*100\n",
      "            display(Javascript(\"$('div#%s').width('%i%%')\" %\n",
      "                               (divid, int(percent_compelte))))\n",
      "\n",
      "            st_days = (i-1) * max_days\n",
      "            ed_days = i * max_days\n",
      "            req_st = st_time + timedelta(days=st_days)\n",
      "            req_end = st_time + timedelta(days=ed_days)\n",
      "\n",
      "            # iso_start = req_st.strftime('%Y-%m-%dT%H:%M:%SZ')\n",
      "            # iso_end = req_end.strftime('%Y-%m-%dT%H:%M:%SZ')\n",
      "\n",
      "            tides_dt_start = req_st.strftime('%Y%m%d %H:%M')\n",
      "            tides_dt_end = req_end.strftime('%Y%m%d %H:%M')\n",
      "\n",
      "            if isinstance(collector, CoopsSos):\n",
      "                # print(\"coops\")\n",
      "                try:\n",
      "                    # CANNOT USE THIS AS ITS NOT READY.\n",
      "                    # df = coops2df(collector, station_id, sos_name,\n",
      "                    #               iso_start, iso_end, procedure)\n",
      "                    # or\n",
      "                    # df = coopsCurrentRequest2(collector, station_id,\n",
      "                    #                           req_st, req_end)\n",
      "                    df = coopsCurrentRequest(station_id,\n",
      "                                             tides_dt_start, tides_dt_end)\n",
      "                    # If the frame is not empty add it.\n",
      "                    if df is not None:\n",
      "                        master_df.append(df)\n",
      "                        # wait on the request.\n",
      "                        ttime.sleep(5)\n",
      "                except Exception as e:\n",
      "                    print(\"error getting data %s\" % e)\n",
      "            elif isinstance(collector, NdbcSos):\n",
      "                # print(\"ndbc\")\n",
      "                try:\n",
      "                    # df = ndbcCurrentRequest2(collector,\n",
      "                    #                          station_id, req_st, req_end)\n",
      "                    # if the frame is not empty add it\n",
      "                    if df is not None:\n",
      "                        master_df.append(df)\n",
      "                except Exception as e:\n",
      "                    print(\"error getting data %s\" % e)\n",
      "        return master_df"
     ],
     "language": "python",
     "metadata": {},
     "outputs": [],
     "prompt_number": 21
    },
    {
     "cell_type": "markdown",
     "metadata": {},
     "source": [
      "<div class=\"warning\"><strong>Pyoos</strong> -\n",
      "Should be able to use the collector but does not work?</div>"
     ]
    },
    {
     "cell_type": "code",
     "collapsed": false,
     "input": [
      "\n",
      "def ndbcCurrentRequest2(collector, station_id, dt_start, dt_end):\n",
      "    try:\n",
      "        # Uses date time object.\n",
      "        collector = NdbcSos()\n",
      "        collector.variables = ['currents']\n",
      "        collector.filter(start=dt_start, end=dt_start, features=[station_id])\n",
      "        response = collector.raw(responseFormat=\"text/csv\")\n",
      "        obs_loc_df = read_csv(BytesIO(response.encode('utf-8')),\n",
      "                              parse_dates=True, index_col='date_time')\n",
      "        return obs_loc_df\n",
      "    except:\n",
      "        return None"
     ],
     "language": "python",
     "metadata": {},
     "outputs": [],
     "prompt_number": 22
    },
    {
     "cell_type": "markdown",
     "metadata": {},
     "source": [
      "<div class=\"warning\"><strong>Pyoos</strong> -\n",
      "Should be able to use the collector, but does not work?</div>"
     ]
    },
    {
     "cell_type": "code",
     "collapsed": false,
     "input": [
      "\n",
      "def coopsCurrentRequest2(collector, station_id, dt_start, dt_end):\n",
      "    try:\n",
      "        # Uses date time object.\n",
      "        collector = CoopsSos()\n",
      "        collector.variables = ['currents']\n",
      "\n",
      "        station_name = station_id.split(\":\")\n",
      "        station_name = station_name[-1]\n",
      "\n",
      "        collector.filter(start=dt_start, end=dt_start,\n",
      "                         features=[station_name])\n",
      "        response = collector.raw(responseFormat=\"text/csv\")\n",
      "        obs_loc_df = read_csv(BytesIO(response.encode('utf-8')),\n",
      "                              parse_dates=True, index_col='date_time')\n",
      "        return obs_loc_df\n",
      "    except:\n",
      "        return None"
     ],
     "language": "python",
     "metadata": {},
     "outputs": [],
     "prompt_number": 23
    },
    {
     "cell_type": "code",
     "collapsed": false,
     "input": [
      "\n",
      "def coopsCurrentRequest(station_id, tides_dt_start, tides_dt_end):\n",
      "    tides_data_options = \"time_zone=gmt&application=ports_screen&format=json\"\n",
      "    tides_url = \"http://tidesandcurrents.noaa.gov/api/datagetter?\"\n",
      "    begin_datetime = \"begin_date=\" + tides_dt_start\n",
      "    end_datetime = \"&end_date=\" + tides_dt_end\n",
      "    current_dp = \"&station=\" + station_id\n",
      "    full_url = (tides_url + begin_datetime + end_datetime + current_dp +\n",
      "                \"&application=web_services&product=currents&units=english&\" +\n",
      "                tides_data_options)\n",
      "    t0 = ttime.time()\n",
      "    r = requests.get(full_url)\n",
      "    t1 = ttime.time()\n",
      "    total = t1 - t0\n",
      "    print(\"Time request %s\" % total)\n",
      "    try:\n",
      "        r = r.json()\n",
      "    except:\n",
      "        return None\n",
      "    if 'data' in r:\n",
      "        r = r['data']\n",
      "        data_dt = []\n",
      "        data_spd = []\n",
      "        data_dir = []\n",
      "        for row in r:\n",
      "            data_spd.append(float(row['s']))\n",
      "            data_dir.append(float(row['d']))\n",
      "            date_time_val = datetime.strptime(row['t'], '%Y-%m-%d %H:%M')\n",
      "            data_dt.append(date_time_val)\n",
      "\n",
      "        data = {}\n",
      "        data['sea_water_speed (cm/s)'] = np.array(data_spd)\n",
      "        data['direction_of_sea_water_velocity (degree)'] = np.array(data_dir)\n",
      "        time = np.array(data_dt)\n",
      "\n",
      "        df = DataFrame(data=data, index=time,\n",
      "                       columns=['sea_water_speed (cm/s)',\n",
      "                                'direction_of_sea_water_velocity (degree)'])\n",
      "        return df\n",
      "    else:\n",
      "        return None"
     ],
     "language": "python",
     "metadata": {},
     "outputs": [],
     "prompt_number": 24
    },
    {
     "cell_type": "markdown",
     "metadata": {},
     "source": [
      "<div class=\"info\">\n",
      "<strong>Use NDBC DAP endpoints to get timeseries data</strong> -\n",
      "The DAP server for currents is available for NDBC data, we use that\n",
      "to get long time series data.</div>"
     ]
    },
    {
     "cell_type": "code",
     "collapsed": false,
     "input": [
      "\n",
      "def ndbcCurrentRequest(station_id, dt_start, dt_end):\n",
      "\n",
      "    # year_max = {}\n",
      "\n",
      "    main_df = DataFrame()\n",
      "    for year in range(dt_start.year, (dt_end.year+1)):\n",
      "        percent_compelte = (float(year - dt_start.year) /\n",
      "                            float((dt_end.year) - dt_start.year)) * 100.\n",
      "        display(Javascript(\"$('div#%s').width('%i%%')\" %\n",
      "                           (divid, int(percent_compelte))))\n",
      "        try:\n",
      "            station_name = station_id.split(\":\")[-1]\n",
      "            url = ('http://dods.ndbc.noaa.gov/thredds/dodsC/data/adcp/' +\n",
      "                   station_name + '/' + station_name + 'a' + str(year) + '.nc')\n",
      "\n",
      "            nc = netCDF4.Dataset(url, 'r')\n",
      "            # Zero depth is the shallowest.\n",
      "            # depth_dim = nc.variables['depth'][:]\n",
      "\n",
      "            dir_dim = nc.variables['water_dir'][:]\n",
      "            speed_dim = nc.variables['water_spd'][:]\n",
      "            time_dim = nc.variables['time']\n",
      "\n",
      "            # data_dt = []\n",
      "            data_spd = data_dir = []\n",
      "            for i in range(0, len(speed_dim)):\n",
      "                data_spd.append(speed_dim[i][0][0][0])\n",
      "                data_dir.append(dir_dim[i][0][0][0])\n",
      "\n",
      "            dates = num2date(time_dim[:], units=time_dim.units,\n",
      "                             calendar='gregorian')\n",
      "\n",
      "            data = {}\n",
      "            data['sea_water_speed (cm/s)'] = np.array(data_spd)\n",
      "            col = 'direction_of_sea_water_velocity (degree)'\n",
      "            data[col] = np.array(data_dir)\n",
      "            time = np.array(dates)\n",
      "            columns = ['sea_water_speed (cm/s)',\n",
      "                       'direction_of_sea_water_velocity (degree)']\n",
      "            df = DataFrame(data=data, index=time,\n",
      "                           columns=columns)\n",
      "            main_df = main_df.append(df)\n",
      "        except Exception as e:\n",
      "            print(\"No data for %s, %s found: %s \" % (station_name, year, e))\n",
      "\n",
      "    return main_df"
     ],
     "language": "python",
     "metadata": {},
     "outputs": [],
     "prompt_number": 25
    },
    {
     "cell_type": "markdown",
     "metadata": {},
     "source": [
      "<div class=\"info\"><strong>Progress Information For Large Requests</strong> -\n",
      "Shows the user a progress bar for each stations as its processed.  Click\n",
      "[here]('http://www.tidesandcurrents.noaa.gov/cdata/StationList?type=Current+Data&filter=active')\n",
      "to show more information on the CO-OPS locations</div>"
     ]
    },
    {
     "cell_type": "markdown",
     "metadata": {},
     "source": [
      "<div class=\"error\"><strong>Processing long time series</strong> -\n",
      "The CO-OPS Server responds really slow (> 30secs, for what should be\n",
      "a 5 sec request) to multiple requests, so getting long time series\n",
      "data is almost impossible.</div>"
     ]
    },
    {
     "cell_type": "markdown",
     "metadata": {},
     "source": [
      "#### get CO-OPS station data"
     ]
    },
    {
     "cell_type": "code",
     "collapsed": false,
     "input": [
      "# Used to define the number of days allowable by the service.\n",
      "coops_point_max_days = 30\n",
      "ndbc_point_max_days = 30\n",
      "\n",
      "print(\"start & end dates: %s, %s\\n\" % (jd_start, jd_stop))\n",
      "\n",
      "for station_index in st_list.keys():\n",
      "    # Set it so we can use it later.\n",
      "    st = station_index.split(\":\")[-1]\n",
      "    print(station_index, st_list[station_index]['source'])\n",
      "    divid = str(uuid.uuid4())\n",
      "    pb = HTML(\"\"\"\n",
      "    <div style=\"border: 1px solid black; width:500px\">\n",
      "      <div id=\"%s\" style=\"background-color:blue; width:0%%\">&nbsp;</div>\n",
      "    </div>\"\"\" % divid)\n",
      "    display(pb)\n",
      "\n",
      "    if st_list[station_index]['source'] == 'coops':\n",
      "        # Coops fails for large requests.\n",
      "        master_df = []\n",
      "        # master_df = breakdownCurrentRequest(coops_collector, st,\n",
      "        #                                     coops_point_max_days,\n",
      "        #                                     sos_name, divid)\n",
      "    elif st_list[station_index]['source'] == 'ndbc':\n",
      "        # Use the dap catalog to get the data.\n",
      "        master_df = ndbcCurrentRequest(station_index, jd_start, jd_stop)\n",
      "    if len(master_df) > 0:\n",
      "        st_list[station_index]['hasObsData'] = True\n",
      "    st_list[station_index]['obsData'] = master_df"
     ],
     "language": "python",
     "metadata": {},
     "outputs": [
      {
       "output_type": "stream",
       "stream": "stdout",
       "text": [
        "start & end dates: 2004-08-08 21:00:00, 2014-08-06 21:00:00\n",
        "\n",
        "('urn:ioos:station:NOAA.NOS.CO-OPS:s06010', 'coops')\n"
       ]
      },
      {
       "html": [
        "\n",
        "    <div style=\"border: 1px solid black; width:500px\">\n",
        "      <div id=\"f705998b-45d9-4042-9d9e-d5e3da52222e\" style=\"background-color:blue; width:0%\">&nbsp;</div>\n",
        "    </div>"
       ],
       "metadata": {},
       "output_type": "display_data",
       "text": [
        "<IPython.core.display.HTML at 0x6b60bd0>"
       ]
      },
      {
       "output_type": "stream",
       "stream": "stdout",
       "text": [
        "('urn:ioos:station:NOAA.NOS.CO-OPS:cp0101', 'coops')\n"
       ]
      },
      {
       "html": [
        "\n",
        "    <div style=\"border: 1px solid black; width:500px\">\n",
        "      <div id=\"5567fe12-9cc4-42e4-83d8-2cb779b5dcb4\" style=\"background-color:blue; width:0%\">&nbsp;</div>\n",
        "    </div>"
       ],
       "metadata": {},
       "output_type": "display_data",
       "text": [
        "<IPython.core.display.HTML at 0x6b4e8d0>"
       ]
      },
      {
       "output_type": "stream",
       "stream": "stdout",
       "text": [
        "('urn:ioos:station:wmo:46022', 'ndbc')\n"
       ]
      },
      {
       "html": [
        "\n",
        "    <div style=\"border: 1px solid black; width:500px\">\n",
        "      <div id=\"3db972f3-3e7f-4f3c-99ac-e232632f47a5\" style=\"background-color:blue; width:0%\">&nbsp;</div>\n",
        "    </div>"
       ],
       "metadata": {},
       "output_type": "display_data",
       "text": [
        "<IPython.core.display.HTML at 0x6b4e910>"
       ]
      },
      {
       "javascript": [
        "$('div#3db972f3-3e7f-4f3c-99ac-e232632f47a5').width('0%')"
       ],
       "metadata": {},
       "output_type": "display_data",
       "text": [
        "<IPython.core.display.Javascript at 0x6b60c90>"
       ]
      },
      {
       "output_type": "stream",
       "stream": "stdout",
       "text": [
        "No data for 46022, 2004 found: NetCDF: file not found \n"
       ]
      },
      {
       "javascript": [
        "$('div#3db972f3-3e7f-4f3c-99ac-e232632f47a5').width('10%')"
       ],
       "metadata": {},
       "output_type": "display_data",
       "text": [
        "<IPython.core.display.Javascript at 0x6b60dd0>"
       ]
      },
      {
       "output_type": "stream",
       "stream": "stdout",
       "text": [
        "No data for 46022, 2005 found: NetCDF: file not found \n"
       ]
      },
      {
       "javascript": [
        "$('div#3db972f3-3e7f-4f3c-99ac-e232632f47a5').width('20%')"
       ],
       "metadata": {},
       "output_type": "display_data",
       "text": [
        "<IPython.core.display.Javascript at 0x6b60cd0>"
       ]
      },
      {
       "output_type": "stream",
       "stream": "stdout",
       "text": [
        "No data for 46022, 2006 found: NetCDF: file not found \n"
       ]
      },
      {
       "javascript": [
        "$('div#3db972f3-3e7f-4f3c-99ac-e232632f47a5').width('30%')"
       ],
       "metadata": {},
       "output_type": "display_data",
       "text": [
        "<IPython.core.display.Javascript at 0x6b60d10>"
       ]
      },
      {
       "output_type": "stream",
       "stream": "stdout",
       "text": [
        "No data for 46022, 2007 found: NetCDF: file not found \n"
       ]
      },
      {
       "javascript": [
        "$('div#3db972f3-3e7f-4f3c-99ac-e232632f47a5').width('40%')"
       ],
       "metadata": {},
       "output_type": "display_data",
       "text": [
        "<IPython.core.display.Javascript at 0x6b60e50>"
       ]
      },
      {
       "output_type": "stream",
       "stream": "stdout",
       "text": [
        "No data for 46022, 2008 found: NetCDF: file not found \n"
       ]
      },
      {
       "javascript": [
        "$('div#3db972f3-3e7f-4f3c-99ac-e232632f47a5').width('50%')"
       ],
       "metadata": {},
       "output_type": "display_data",
       "text": [
        "<IPython.core.display.Javascript at 0x6b60d50>"
       ]
      },
      {
       "output_type": "stream",
       "stream": "stdout",
       "text": [
        "No data for 46022, 2009 found: NetCDF: file not found \n"
       ]
      },
      {
       "javascript": [
        "$('div#3db972f3-3e7f-4f3c-99ac-e232632f47a5').width('60%')"
       ],
       "metadata": {},
       "output_type": "display_data",
       "text": [
        "<IPython.core.display.Javascript at 0x6b60d90>"
       ]
      },
      {
       "output_type": "stream",
       "stream": "stdout",
       "text": [
        "No data for 46022, 2010 found: Shape of passed values is (2,), indices imply (2, 2341) \n"
       ]
      },
      {
       "output_type": "stream",
       "stream": "stderr",
       "text": [
        "/home/filipe/.virtualenvs/iris/lib/python2.7/site-packages/numpy/ma/core.py:3847: UserWarning: Warning: converting a masked element to nan.\n",
        "  warnings.warn(\"Warning: converting a masked element to nan.\")\n"
       ]
      },
      {
       "javascript": [
        "$('div#3db972f3-3e7f-4f3c-99ac-e232632f47a5').width('70%')"
       ],
       "metadata": {},
       "output_type": "display_data",
       "text": [
        "<IPython.core.display.Javascript at 0x6df5b90>"
       ]
      },
      {
       "output_type": "stream",
       "stream": "stdout",
       "text": [
        "No data for 46022, 2011 found: Shape of passed values is (2,), indices imply (2, 36) \n"
       ]
      },
      {
       "javascript": [
        "$('div#3db972f3-3e7f-4f3c-99ac-e232632f47a5').width('80%')"
       ],
       "metadata": {},
       "output_type": "display_data",
       "text": [
        "<IPython.core.display.Javascript at 0x6df5b10>"
       ]
      },
      {
       "output_type": "stream",
       "stream": "stdout",
       "text": [
        "No data for 46022, 2012 found: NetCDF: file not found \n"
       ]
      },
      {
       "javascript": [
        "$('div#3db972f3-3e7f-4f3c-99ac-e232632f47a5').width('90%')"
       ],
       "metadata": {},
       "output_type": "display_data",
       "text": [
        "<IPython.core.display.Javascript at 0x6df5b50>"
       ]
      },
      {
       "output_type": "stream",
       "stream": "stdout",
       "text": [
        "No data for 46022, 2013 found: NetCDF: file not found \n"
       ]
      },
      {
       "javascript": [
        "$('div#3db972f3-3e7f-4f3c-99ac-e232632f47a5').width('100%')"
       ],
       "metadata": {},
       "output_type": "display_data",
       "text": [
        "<IPython.core.display.Javascript at 0x6df5c50>"
       ]
      },
      {
       "output_type": "stream",
       "stream": "stdout",
       "text": [
        "No data for 46022, 2014 found: NetCDF: file not found \n",
        "('urn:ioos:station:NOAA.NOS.CO-OPS:hb0401', 'coops')\n"
       ]
      },
      {
       "html": [
        "\n",
        "    <div style=\"border: 1px solid black; width:500px\">\n",
        "      <div id=\"00c656db-a820-47fd-864c-7b6f1fd6c360\" style=\"background-color:blue; width:0%\">&nbsp;</div>\n",
        "    </div>"
       ],
       "metadata": {},
       "output_type": "display_data",
       "text": [
        "<IPython.core.display.HTML at 0x6b60c50>"
       ]
      },
      {
       "output_type": "stream",
       "stream": "stdout",
       "text": [
        "('urn:ioos:station:wmo:46087', 'ndbc')\n"
       ]
      },
      {
       "html": [
        "\n",
        "    <div style=\"border: 1px solid black; width:500px\">\n",
        "      <div id=\"69a4d8ff-9ea8-4845-b31b-17bec4dd07f8\" style=\"background-color:blue; width:0%\">&nbsp;</div>\n",
        "    </div>"
       ],
       "metadata": {},
       "output_type": "display_data",
       "text": [
        "<IPython.core.display.HTML at 0x6df5c10>"
       ]
      },
      {
       "javascript": [
        "$('div#69a4d8ff-9ea8-4845-b31b-17bec4dd07f8').width('0%')"
       ],
       "metadata": {},
       "output_type": "display_data",
       "text": [
        "<IPython.core.display.Javascript at 0x6df5d50>"
       ]
      },
      {
       "output_type": "stream",
       "stream": "stdout",
       "text": [
        "No data for 46087, 2004 found: NetCDF: file not found \n"
       ]
      },
      {
       "javascript": [
        "$('div#69a4d8ff-9ea8-4845-b31b-17bec4dd07f8').width('10%')"
       ],
       "metadata": {},
       "output_type": "display_data",
       "text": [
        "<IPython.core.display.Javascript at 0x6df5ed0>"
       ]
      },
      {
       "output_type": "stream",
       "stream": "stdout",
       "text": [
        "No data for 46087, 2005 found: NetCDF: file not found \n"
       ]
      },
      {
       "javascript": [
        "$('div#69a4d8ff-9ea8-4845-b31b-17bec4dd07f8').width('20%')"
       ],
       "metadata": {},
       "output_type": "display_data",
       "text": [
        "<IPython.core.display.Javascript at 0x6df5d90>"
       ]
      },
      {
       "output_type": "stream",
       "stream": "stdout",
       "text": [
        "No data for 46087, 2006 found: NetCDF: file not found \n"
       ]
      },
      {
       "javascript": [
        "$('div#69a4d8ff-9ea8-4845-b31b-17bec4dd07f8').width('30%')"
       ],
       "metadata": {},
       "output_type": "display_data",
       "text": [
        "<IPython.core.display.Javascript at 0x6df5f10>"
       ]
      },
      {
       "output_type": "stream",
       "stream": "stdout",
       "text": [
        "No data for 46087, 2007 found: NetCDF: file not found \n"
       ]
      },
      {
       "javascript": [
        "$('div#69a4d8ff-9ea8-4845-b31b-17bec4dd07f8').width('40%')"
       ],
       "metadata": {},
       "output_type": "display_data",
       "text": [
        "<IPython.core.display.Javascript at 0x6df5e10>"
       ]
      },
      {
       "output_type": "stream",
       "stream": "stdout",
       "text": [
        "No data for 46087, 2008 found: NetCDF: file not found \n"
       ]
      },
      {
       "javascript": [
        "$('div#69a4d8ff-9ea8-4845-b31b-17bec4dd07f8').width('50%')"
       ],
       "metadata": {},
       "output_type": "display_data",
       "text": [
        "<IPython.core.display.Javascript at 0x6df5e50>"
       ]
      },
      {
       "output_type": "stream",
       "stream": "stdout",
       "text": [
        "No data for 46087, 2009 found: NetCDF: file not found \n"
       ]
      },
      {
       "javascript": [
        "$('div#69a4d8ff-9ea8-4845-b31b-17bec4dd07f8').width('60%')"
       ],
       "metadata": {},
       "output_type": "display_data",
       "text": [
        "<IPython.core.display.Javascript at 0x6df5e90>"
       ]
      },
      {
       "output_type": "stream",
       "stream": "stdout",
       "text": [
        "No data for 46087, 2010 found: NetCDF: file not found \n"
       ]
      },
      {
       "javascript": [
        "$('div#69a4d8ff-9ea8-4845-b31b-17bec4dd07f8').width('70%')"
       ],
       "metadata": {},
       "output_type": "display_data",
       "text": [
        "<IPython.core.display.Javascript at 0x6df5f50>"
       ]
      },
      {
       "output_type": "stream",
       "stream": "stdout",
       "text": [
        "No data for 46087, 2011 found: Shape of passed values is (2,), indices imply (2, 7805) \n"
       ]
      },
      {
       "javascript": [
        "$('div#69a4d8ff-9ea8-4845-b31b-17bec4dd07f8').width('80%')"
       ],
       "metadata": {},
       "output_type": "display_data",
       "text": [
        "<IPython.core.display.Javascript at 0x6b4e8d0>"
       ]
      },
      {
       "output_type": "stream",
       "stream": "stdout",
       "text": [
        "No data for 46087, 2012 found: Shape of passed values is (2,), indices imply (2, 8496) \n"
       ]
      },
      {
       "javascript": [
        "$('div#69a4d8ff-9ea8-4845-b31b-17bec4dd07f8').width('90%')"
       ],
       "metadata": {},
       "output_type": "display_data",
       "text": [
        "<IPython.core.display.Javascript at 0x6b4e910>"
       ]
      },
      {
       "output_type": "stream",
       "stream": "stdout",
       "text": [
        "No data for 46087, 2013 found: Shape of passed values is (2,), indices imply (2, 10202) \n"
       ]
      },
      {
       "javascript": [
        "$('div#69a4d8ff-9ea8-4845-b31b-17bec4dd07f8').width('100%')"
       ],
       "metadata": {},
       "output_type": "display_data",
       "text": [
        "<IPython.core.display.Javascript at 0x6b60c50>"
       ]
      },
      {
       "output_type": "stream",
       "stream": "stdout",
       "text": [
        "No data for 46087, 2014 found: Shape of passed values is (2,), indices imply (2, 8636) \n",
        "('urn:ioos:station:wmo:46015', 'ndbc')\n"
       ]
      },
      {
       "html": [
        "\n",
        "    <div style=\"border: 1px solid black; width:500px\">\n",
        "      <div id=\"3b21abe9-a4b4-4591-acd6-0f9364d41487\" style=\"background-color:blue; width:0%\">&nbsp;</div>\n",
        "    </div>"
       ],
       "metadata": {},
       "output_type": "display_data",
       "text": [
        "<IPython.core.display.HTML at 0x6b60d10>"
       ]
      },
      {
       "javascript": [
        "$('div#3b21abe9-a4b4-4591-acd6-0f9364d41487').width('0%')"
       ],
       "metadata": {},
       "output_type": "display_data",
       "text": [
        "<IPython.core.display.Javascript at 0x6b60d50>"
       ]
      },
      {
       "output_type": "stream",
       "stream": "stdout",
       "text": [
        "No data for 46015, 2004 found: NetCDF: file not found \n"
       ]
      },
      {
       "javascript": [
        "$('div#3b21abe9-a4b4-4591-acd6-0f9364d41487').width('10%')"
       ],
       "metadata": {},
       "output_type": "display_data",
       "text": [
        "<IPython.core.display.Javascript at 0x6df5d10>"
       ]
      },
      {
       "output_type": "stream",
       "stream": "stdout",
       "text": [
        "No data for 46015, 2005 found: NetCDF: file not found \n"
       ]
      },
      {
       "javascript": [
        "$('div#3b21abe9-a4b4-4591-acd6-0f9364d41487').width('20%')"
       ],
       "metadata": {},
       "output_type": "display_data",
       "text": [
        "<IPython.core.display.Javascript at 0x6df5c10>"
       ]
      },
      {
       "output_type": "stream",
       "stream": "stdout",
       "text": [
        "No data for 46015, 2006 found: NetCDF: file not found \n"
       ]
      },
      {
       "javascript": [
        "$('div#3b21abe9-a4b4-4591-acd6-0f9364d41487').width('30%')"
       ],
       "metadata": {},
       "output_type": "display_data",
       "text": [
        "<IPython.core.display.Javascript at 0x6df5e10>"
       ]
      },
      {
       "output_type": "stream",
       "stream": "stdout",
       "text": [
        "No data for 46015, 2007 found: NetCDF: file not found \n"
       ]
      },
      {
       "javascript": [
        "$('div#3b21abe9-a4b4-4591-acd6-0f9364d41487').width('40%')"
       ],
       "metadata": {},
       "output_type": "display_data",
       "text": [
        "<IPython.core.display.Javascript at 0x6df5f50>"
       ]
      },
      {
       "output_type": "stream",
       "stream": "stdout",
       "text": [
        "No data for 46015, 2008 found: NetCDF: file not found \n"
       ]
      },
      {
       "javascript": [
        "$('div#3b21abe9-a4b4-4591-acd6-0f9364d41487').width('50%')"
       ],
       "metadata": {},
       "output_type": "display_data",
       "text": [
        "<IPython.core.display.Javascript at 0x6df5e90>"
       ]
      },
      {
       "output_type": "stream",
       "stream": "stdout",
       "text": [
        "No data for 46015, 2009 found: NetCDF: file not found \n"
       ]
      },
      {
       "javascript": [
        "$('div#3b21abe9-a4b4-4591-acd6-0f9364d41487').width('60%')"
       ],
       "metadata": {},
       "output_type": "display_data",
       "text": [
        "<IPython.core.display.Javascript at 0x6df5e50>"
       ]
      },
      {
       "output_type": "stream",
       "stream": "stdout",
       "text": [
        "No data for 46015, 2010 found: NetCDF: file not found \n"
       ]
      },
      {
       "javascript": [
        "$('div#3b21abe9-a4b4-4591-acd6-0f9364d41487').width('70%')"
       ],
       "metadata": {},
       "output_type": "display_data",
       "text": [
        "<IPython.core.display.Javascript at 0x6df5f10>"
       ]
      },
      {
       "output_type": "stream",
       "stream": "stdout",
       "text": [
        "No data for 46015, 2011 found: Shape of passed values is (2,), indices imply (2, 4130) \n"
       ]
      },
      {
       "javascript": [
        "$('div#3b21abe9-a4b4-4591-acd6-0f9364d41487').width('80%')"
       ],
       "metadata": {},
       "output_type": "display_data",
       "text": [
        "<IPython.core.display.Javascript at 0x6df5d50>"
       ]
      },
      {
       "output_type": "stream",
       "stream": "stdout",
       "text": [
        "No data for 46015, 2012 found: NetCDF: file not found \n"
       ]
      },
      {
       "javascript": [
        "$('div#3b21abe9-a4b4-4591-acd6-0f9364d41487').width('90%')"
       ],
       "metadata": {},
       "output_type": "display_data",
       "text": [
        "<IPython.core.display.Javascript at 0x6df5d90>"
       ]
      },
      {
       "output_type": "stream",
       "stream": "stdout",
       "text": [
        "No data for 46015, 2013 found: NetCDF: file not found \n"
       ]
      },
      {
       "javascript": [
        "$('div#3b21abe9-a4b4-4591-acd6-0f9364d41487').width('100%')"
       ],
       "metadata": {},
       "output_type": "display_data",
       "text": [
        "<IPython.core.display.Javascript at 0x6df5ed0>"
       ]
      },
      {
       "output_type": "stream",
       "stream": "stdout",
       "text": [
        "No data for 46015, 2014 found: NetCDF: file not found \n",
        "('urn:ioos:station:wmo:46029', 'ndbc')\n"
       ]
      },
      {
       "html": [
        "\n",
        "    <div style=\"border: 1px solid black; width:500px\">\n",
        "      <div id=\"ff2ab907-8144-425f-af94-8c3a0f79707d\" style=\"background-color:blue; width:0%\">&nbsp;</div>\n",
        "    </div>"
       ],
       "metadata": {},
       "output_type": "display_data",
       "text": [
        "<IPython.core.display.HTML at 0x6b60dd0>"
       ]
      },
      {
       "javascript": [
        "$('div#ff2ab907-8144-425f-af94-8c3a0f79707d').width('0%')"
       ],
       "metadata": {},
       "output_type": "display_data",
       "text": [
        "<IPython.core.display.Javascript at 0x6df5b10>"
       ]
      },
      {
       "output_type": "stream",
       "stream": "stdout",
       "text": [
        "No data for 46029, 2004 found: NetCDF: file not found \n"
       ]
      },
      {
       "javascript": [
        "$('div#ff2ab907-8144-425f-af94-8c3a0f79707d').width('10%')"
       ],
       "metadata": {},
       "output_type": "display_data",
       "text": [
        "<IPython.core.display.Javascript at 0x6df5b90>"
       ]
      },
      {
       "output_type": "stream",
       "stream": "stdout",
       "text": [
        "No data for 46029, 2005 found: NetCDF: file not found \n"
       ]
      },
      {
       "javascript": [
        "$('div#ff2ab907-8144-425f-af94-8c3a0f79707d').width('20%')"
       ],
       "metadata": {},
       "output_type": "display_data",
       "text": [
        "<IPython.core.display.Javascript at 0x6df5fd0>"
       ]
      },
      {
       "output_type": "stream",
       "stream": "stdout",
       "text": [
        "No data for 46029, 2006 found: NetCDF: file not found \n"
       ]
      },
      {
       "javascript": [
        "$('div#ff2ab907-8144-425f-af94-8c3a0f79707d').width('30%')"
       ],
       "metadata": {},
       "output_type": "display_data",
       "text": [
        "<IPython.core.display.Javascript at 0x6df5dd0>"
       ]
      },
      {
       "output_type": "stream",
       "stream": "stdout",
       "text": [
        "No data for 46029, 2007 found: NetCDF: file not found \n"
       ]
      },
      {
       "javascript": [
        "$('div#ff2ab907-8144-425f-af94-8c3a0f79707d').width('40%')"
       ],
       "metadata": {},
       "output_type": "display_data",
       "text": [
        "<IPython.core.display.Javascript at 0x6e11050>"
       ]
      },
      {
       "output_type": "stream",
       "stream": "stdout",
       "text": [
        "No data for 46029, 2008 found: Shape of passed values is (2,), indices imply (2, 7701) \n"
       ]
      },
      {
       "javascript": [
        "$('div#ff2ab907-8144-425f-af94-8c3a0f79707d').width('50%')"
       ],
       "metadata": {},
       "output_type": "display_data",
       "text": [
        "<IPython.core.display.Javascript at 0x6e11150>"
       ]
      },
      {
       "output_type": "stream",
       "stream": "stdout",
       "text": [
        "No data for 46029, 2009 found: Shape of passed values is (2,), indices imply (2, 2301) \n"
       ]
      },
      {
       "javascript": [
        "$('div#ff2ab907-8144-425f-af94-8c3a0f79707d').width('60%')"
       ],
       "metadata": {},
       "output_type": "display_data",
       "text": [
        "<IPython.core.display.Javascript at 0x6e110d0>"
       ]
      },
      {
       "output_type": "stream",
       "stream": "stdout",
       "text": [
        "No data for 46029, 2010 found: NetCDF: file not found \n"
       ]
      },
      {
       "javascript": [
        "$('div#ff2ab907-8144-425f-af94-8c3a0f79707d').width('70%')"
       ],
       "metadata": {},
       "output_type": "display_data",
       "text": [
        "<IPython.core.display.Javascript at 0x6e11110>"
       ]
      },
      {
       "output_type": "stream",
       "stream": "stdout",
       "text": [
        "No data for 46029, 2011 found: NetCDF: file not found \n"
       ]
      },
      {
       "javascript": [
        "$('div#ff2ab907-8144-425f-af94-8c3a0f79707d').width('80%')"
       ],
       "metadata": {},
       "output_type": "display_data",
       "text": [
        "<IPython.core.display.Javascript at 0x6e111d0>"
       ]
      },
      {
       "output_type": "stream",
       "stream": "stdout",
       "text": [
        "No data for 46029, 2012 found: NetCDF: file not found \n"
       ]
      },
      {
       "javascript": [
        "$('div#ff2ab907-8144-425f-af94-8c3a0f79707d').width('90%')"
       ],
       "metadata": {},
       "output_type": "display_data",
       "text": [
        "<IPython.core.display.Javascript at 0x6e11090>"
       ]
      },
      {
       "output_type": "stream",
       "stream": "stdout",
       "text": [
        "No data for 46029, 2013 found: NetCDF: file not found \n"
       ]
      },
      {
       "javascript": [
        "$('div#ff2ab907-8144-425f-af94-8c3a0f79707d').width('100%')"
       ],
       "metadata": {},
       "output_type": "display_data",
       "text": [
        "<IPython.core.display.Javascript at 0x6e11210>"
       ]
      },
      {
       "output_type": "stream",
       "stream": "stdout",
       "text": [
        "No data for 46029, 2014 found: NetCDF: file not found \n",
        "('urn:ioos:station:NOAA.NOS.CO-OPS:hb0301', 'coops')\n"
       ]
      },
      {
       "html": [
        "\n",
        "    <div style=\"border: 1px solid black; width:500px\">\n",
        "      <div id=\"0fdb1fa7-5eb9-4f72-9dea-d24d42f7ede1\" style=\"background-color:blue; width:0%\">&nbsp;</div>\n",
        "    </div>"
       ],
       "metadata": {},
       "output_type": "display_data",
       "text": [
        "<IPython.core.display.HTML at 0x6df5b50>"
       ]
      },
      {
       "output_type": "stream",
       "stream": "stdout",
       "text": [
        "('urn:ioos:station:wmo:46013', 'ndbc')\n"
       ]
      },
      {
       "html": [
        "\n",
        "    <div style=\"border: 1px solid black; width:500px\">\n",
        "      <div id=\"1ff22e1d-9bac-4e73-a62b-9721f985e2f8\" style=\"background-color:blue; width:0%\">&nbsp;</div>\n",
        "    </div>"
       ],
       "metadata": {},
       "output_type": "display_data",
       "text": [
        "<IPython.core.display.HTML at 0x6e11290>"
       ]
      },
      {
       "javascript": [
        "$('div#1ff22e1d-9bac-4e73-a62b-9721f985e2f8').width('0%')"
       ],
       "metadata": {},
       "output_type": "display_data",
       "text": [
        "<IPython.core.display.Javascript at 0x6e112d0>"
       ]
      },
      {
       "output_type": "stream",
       "stream": "stdout",
       "text": [
        "No data for 46013, 2004 found: NetCDF: file not found \n"
       ]
      },
      {
       "javascript": [
        "$('div#1ff22e1d-9bac-4e73-a62b-9721f985e2f8').width('10%')"
       ],
       "metadata": {},
       "output_type": "display_data",
       "text": [
        "<IPython.core.display.Javascript at 0x6e114d0>"
       ]
      },
      {
       "output_type": "stream",
       "stream": "stdout",
       "text": [
        "No data for 46013, 2005 found: NetCDF: file not found \n"
       ]
      },
      {
       "javascript": [
        "$('div#1ff22e1d-9bac-4e73-a62b-9721f985e2f8').width('20%')"
       ],
       "metadata": {},
       "output_type": "display_data",
       "text": [
        "<IPython.core.display.Javascript at 0x6e11390>"
       ]
      },
      {
       "output_type": "stream",
       "stream": "stdout",
       "text": [
        "No data for 46013, 2006 found: NetCDF: file not found \n"
       ]
      },
      {
       "javascript": [
        "$('div#1ff22e1d-9bac-4e73-a62b-9721f985e2f8').width('30%')"
       ],
       "metadata": {},
       "output_type": "display_data",
       "text": [
        "<IPython.core.display.Javascript at 0x6e11510>"
       ]
      },
      {
       "output_type": "stream",
       "stream": "stdout",
       "text": [
        "No data for 46013, 2007 found: NetCDF: file not found \n"
       ]
      },
      {
       "javascript": [
        "$('div#1ff22e1d-9bac-4e73-a62b-9721f985e2f8').width('40%')"
       ],
       "metadata": {},
       "output_type": "display_data",
       "text": [
        "<IPython.core.display.Javascript at 0x6e11410>"
       ]
      },
      {
       "output_type": "stream",
       "stream": "stdout",
       "text": [
        "No data for 46013, 2008 found: NetCDF: file not found \n"
       ]
      },
      {
       "javascript": [
        "$('div#1ff22e1d-9bac-4e73-a62b-9721f985e2f8').width('50%')"
       ],
       "metadata": {},
       "output_type": "display_data",
       "text": [
        "<IPython.core.display.Javascript at 0x6e11450>"
       ]
      },
      {
       "output_type": "stream",
       "stream": "stdout",
       "text": [
        "No data for 46013, 2009 found: NetCDF: file not found \n"
       ]
      },
      {
       "javascript": [
        "$('div#1ff22e1d-9bac-4e73-a62b-9721f985e2f8').width('60%')"
       ],
       "metadata": {},
       "output_type": "display_data",
       "text": [
        "<IPython.core.display.Javascript at 0x6e11490>"
       ]
      },
      {
       "output_type": "stream",
       "stream": "stdout",
       "text": [
        "No data for 46013, 2010 found: NetCDF: file not found \n"
       ]
      },
      {
       "javascript": [
        "$('div#1ff22e1d-9bac-4e73-a62b-9721f985e2f8').width('70%')"
       ],
       "metadata": {},
       "output_type": "display_data",
       "text": [
        "<IPython.core.display.Javascript at 0x6e11550>"
       ]
      },
      {
       "output_type": "stream",
       "stream": "stdout",
       "text": [
        "No data for 46013, 2011 found: Shape of passed values is (2,), indices imply (2, 1999) \n"
       ]
      },
      {
       "javascript": [
        "$('div#1ff22e1d-9bac-4e73-a62b-9721f985e2f8').width('80%')"
       ],
       "metadata": {},
       "output_type": "display_data",
       "text": [
        "<IPython.core.display.Javascript at 0x6df5dd0>"
       ]
      },
      {
       "output_type": "stream",
       "stream": "stdout",
       "text": [
        "No data for 46013, 2012 found: Shape of passed values is (2,), indices imply (2, 117) \n"
       ]
      },
      {
       "javascript": [
        "$('div#1ff22e1d-9bac-4e73-a62b-9721f985e2f8').width('90%')"
       ],
       "metadata": {},
       "output_type": "display_data",
       "text": [
        "<IPython.core.display.Javascript at 0x6df5b10>"
       ]
      },
      {
       "output_type": "stream",
       "stream": "stdout",
       "text": [
        "No data for 46013, 2013 found: Shape of passed values is (2,), indices imply (2, 38) \n"
       ]
      },
      {
       "javascript": [
        "$('div#1ff22e1d-9bac-4e73-a62b-9721f985e2f8').width('100%')"
       ],
       "metadata": {},
       "output_type": "display_data",
       "text": [
        "<IPython.core.display.Javascript at 0x6df5b50>"
       ]
      },
      {
       "output_type": "stream",
       "stream": "stdout",
       "text": [
        "No data for 46013, 2014 found: NetCDF: file not found \n",
        "('urn:ioos:station:wmo:46089', 'ndbc')\n"
       ]
      },
      {
       "html": [
        "\n",
        "    <div style=\"border: 1px solid black; width:500px\">\n",
        "      <div id=\"2b58e5c8-26c6-4bb1-b1b7-c92dc2d3a230\" style=\"background-color:blue; width:0%\">&nbsp;</div>\n",
        "    </div>"
       ],
       "metadata": {},
       "output_type": "display_data",
       "text": [
        "<IPython.core.display.HTML at 0x6df5b90>"
       ]
      },
      {
       "javascript": [
        "$('div#2b58e5c8-26c6-4bb1-b1b7-c92dc2d3a230').width('0%')"
       ],
       "metadata": {},
       "output_type": "display_data",
       "text": [
        "<IPython.core.display.Javascript at 0x6df5f10>"
       ]
      },
      {
       "output_type": "stream",
       "stream": "stdout",
       "text": [
        "No data for 46089, 2004 found: Shape of passed values is (2,), indices imply (2, 1162) \n"
       ]
      },
      {
       "javascript": [
        "$('div#2b58e5c8-26c6-4bb1-b1b7-c92dc2d3a230').width('10%')"
       ],
       "metadata": {},
       "output_type": "display_data",
       "text": [
        "<IPython.core.display.Javascript at 0x6df5e10>"
       ]
      },
      {
       "output_type": "stream",
       "stream": "stdout",
       "text": [
        "No data for 46089, 2005 found: Shape of passed values is (2,), indices imply (2, 1865) \n"
       ]
      },
      {
       "javascript": [
        "$('div#2b58e5c8-26c6-4bb1-b1b7-c92dc2d3a230').width('20%')"
       ],
       "metadata": {},
       "output_type": "display_data",
       "text": [
        "<IPython.core.display.Javascript at 0x6df5e90>"
       ]
      },
      {
       "output_type": "stream",
       "stream": "stdout",
       "text": [
        "No data for 46089, 2006 found: NetCDF: file not found \n"
       ]
      },
      {
       "javascript": [
        "$('div#2b58e5c8-26c6-4bb1-b1b7-c92dc2d3a230').width('30%')"
       ],
       "metadata": {},
       "output_type": "display_data",
       "text": [
        "<IPython.core.display.Javascript at 0x6df5f50>"
       ]
      },
      {
       "output_type": "stream",
       "stream": "stdout",
       "text": [
        "No data for 46089, 2007 found: Shape of passed values is (2,), indices imply (2, 2610) \n"
       ]
      },
      {
       "javascript": [
        "$('div#2b58e5c8-26c6-4bb1-b1b7-c92dc2d3a230').width('40%')"
       ],
       "metadata": {},
       "output_type": "display_data",
       "text": [
        "<IPython.core.display.Javascript at 0x6b60dd0>"
       ]
      },
      {
       "output_type": "stream",
       "stream": "stdout",
       "text": [
        "No data for 46089, 2008 found: Shape of passed values is (2,), indices imply (2, 4352) \n"
       ]
      },
      {
       "javascript": [
        "$('div#2b58e5c8-26c6-4bb1-b1b7-c92dc2d3a230').width('50%')"
       ],
       "metadata": {},
       "output_type": "display_data",
       "text": [
        "<IPython.core.display.Javascript at 0x6df5c10>"
       ]
      },
      {
       "output_type": "stream",
       "stream": "stdout",
       "text": [
        "No data for 46089, 2009 found: Shape of passed values is (2,), indices imply (2, 553) \n"
       ]
      },
      {
       "javascript": [
        "$('div#2b58e5c8-26c6-4bb1-b1b7-c92dc2d3a230').width('60%')"
       ],
       "metadata": {},
       "output_type": "display_data",
       "text": [
        "<IPython.core.display.Javascript at 0x6b60d50>"
       ]
      },
      {
       "output_type": "stream",
       "stream": "stdout",
       "text": [
        "No data for 46089, 2010 found: NetCDF: file not found \n"
       ]
      },
      {
       "javascript": [
        "$('div#2b58e5c8-26c6-4bb1-b1b7-c92dc2d3a230').width('70%')"
       ],
       "metadata": {},
       "output_type": "display_data",
       "text": [
        "<IPython.core.display.Javascript at 0x6b4e8d0>"
       ]
      },
      {
       "output_type": "stream",
       "stream": "stdout",
       "text": [
        "No data for 46089, 2011 found: Shape of passed values is (2,), indices imply (2, 530) \n"
       ]
      },
      {
       "javascript": [
        "$('div#2b58e5c8-26c6-4bb1-b1b7-c92dc2d3a230').width('80%')"
       ],
       "metadata": {},
       "output_type": "display_data",
       "text": [
        "<IPython.core.display.Javascript at 0x6e11590>"
       ]
      },
      {
       "output_type": "stream",
       "stream": "stdout",
       "text": [
        "No data for 46089, 2012 found: NetCDF: file not found \n"
       ]
      },
      {
       "javascript": [
        "$('div#2b58e5c8-26c6-4bb1-b1b7-c92dc2d3a230').width('90%')"
       ],
       "metadata": {},
       "output_type": "display_data",
       "text": [
        "<IPython.core.display.Javascript at 0x6b4e910>"
       ]
      },
      {
       "output_type": "stream",
       "stream": "stdout",
       "text": [
        "No data for 46089, 2013 found: NetCDF: file not found \n"
       ]
      },
      {
       "javascript": [
        "$('div#2b58e5c8-26c6-4bb1-b1b7-c92dc2d3a230').width('100%')"
       ],
       "metadata": {},
       "output_type": "display_data",
       "text": [
        "<IPython.core.display.Javascript at 0x6e11290>"
       ]
      },
      {
       "output_type": "stream",
       "stream": "stdout",
       "text": [
        "No data for 46089, 2014 found: NetCDF: file not found \n",
        "('urn:ioos:station:wmo:46088', 'ndbc')\n"
       ]
      },
      {
       "html": [
        "\n",
        "    <div style=\"border: 1px solid black; width:500px\">\n",
        "      <div id=\"d138cdc3-0563-45fe-826a-f061c3c2db01\" style=\"background-color:blue; width:0%\">&nbsp;</div>\n",
        "    </div>"
       ],
       "metadata": {},
       "output_type": "display_data",
       "text": [
        "<IPython.core.display.HTML at 0x6df5ed0>"
       ]
      },
      {
       "javascript": [
        "$('div#d138cdc3-0563-45fe-826a-f061c3c2db01').width('0%')"
       ],
       "metadata": {},
       "output_type": "display_data",
       "text": [
        "<IPython.core.display.Javascript at 0x6e11410>"
       ]
      },
      {
       "output_type": "stream",
       "stream": "stdout",
       "text": [
        "No data for 46088, 2004 found: NetCDF: file not found \n"
       ]
      },
      {
       "javascript": [
        "$('div#d138cdc3-0563-45fe-826a-f061c3c2db01').width('10%')"
       ],
       "metadata": {},
       "output_type": "display_data",
       "text": [
        "<IPython.core.display.Javascript at 0x6e11510>"
       ]
      },
      {
       "output_type": "stream",
       "stream": "stdout",
       "text": [
        "No data for 46088, 2005 found: NetCDF: file not found \n"
       ]
      },
      {
       "javascript": [
        "$('div#d138cdc3-0563-45fe-826a-f061c3c2db01').width('20%')"
       ],
       "metadata": {},
       "output_type": "display_data",
       "text": [
        "<IPython.core.display.Javascript at 0x6e11390>"
       ]
      },
      {
       "output_type": "stream",
       "stream": "stdout",
       "text": [
        "No data for 46088, 2006 found: NetCDF: file not found \n"
       ]
      },
      {
       "javascript": [
        "$('div#d138cdc3-0563-45fe-826a-f061c3c2db01').width('30%')"
       ],
       "metadata": {},
       "output_type": "display_data",
       "text": [
        "<IPython.core.display.Javascript at 0x6e111d0>"
       ]
      },
      {
       "output_type": "stream",
       "stream": "stdout",
       "text": [
        "No data for 46088, 2007 found: Shape of passed values is (2,), indices imply (2, 1457) \n"
       ]
      },
      {
       "javascript": [
        "$('div#d138cdc3-0563-45fe-826a-f061c3c2db01').width('40%')"
       ],
       "metadata": {},
       "output_type": "display_data",
       "text": [
        "<IPython.core.display.Javascript at 0x6e11090>"
       ]
      },
      {
       "output_type": "stream",
       "stream": "stdout",
       "text": [
        "No data for 46088, 2008 found: NetCDF: file not found \n"
       ]
      },
      {
       "javascript": [
        "$('div#d138cdc3-0563-45fe-826a-f061c3c2db01').width('50%')"
       ],
       "metadata": {},
       "output_type": "display_data",
       "text": [
        "<IPython.core.display.Javascript at 0x6e112d0>"
       ]
      },
      {
       "output_type": "stream",
       "stream": "stdout",
       "text": [
        "No data for 46088, 2009 found: NetCDF: file not found \n"
       ]
      },
      {
       "javascript": [
        "$('div#d138cdc3-0563-45fe-826a-f061c3c2db01').width('60%')"
       ],
       "metadata": {},
       "output_type": "display_data",
       "text": [
        "<IPython.core.display.Javascript at 0x6e11210>"
       ]
      },
      {
       "output_type": "stream",
       "stream": "stdout",
       "text": [
        "No data for 46088, 2010 found: Shape of passed values is (2,), indices imply (2, 13460) \n"
       ]
      },
      {
       "javascript": [
        "$('div#d138cdc3-0563-45fe-826a-f061c3c2db01').width('70%')"
       ],
       "metadata": {},
       "output_type": "display_data",
       "text": [
        "<IPython.core.display.Javascript at 0x6b4e8d0>"
       ]
      },
      {
       "output_type": "stream",
       "stream": "stdout",
       "text": [
        "No data for 46088, 2011 found: Shape of passed values is (2,), indices imply (2, 15971) \n"
       ]
      },
      {
       "javascript": [
        "$('div#d138cdc3-0563-45fe-826a-f061c3c2db01').width('80%')"
       ],
       "metadata": {},
       "output_type": "display_data",
       "text": [
        "<IPython.core.display.Javascript at 0x6b4e910>"
       ]
      },
      {
       "output_type": "stream",
       "stream": "stdout",
       "text": [
        "No data for 46088, 2012 found: Shape of passed values is (2,), indices imply (2, 16451) \n"
       ]
      },
      {
       "javascript": [
        "$('div#d138cdc3-0563-45fe-826a-f061c3c2db01').width('90%')"
       ],
       "metadata": {},
       "output_type": "display_data",
       "text": [
        "<IPython.core.display.Javascript at 0x6b60d50>"
       ]
      },
      {
       "output_type": "stream",
       "stream": "stdout",
       "text": [
        "No data for 46088, 2013 found: Shape of passed values is (2,), indices imply (2, 15304) \n"
       ]
      },
      {
       "javascript": [
        "$('div#d138cdc3-0563-45fe-826a-f061c3c2db01').width('100%')"
       ],
       "metadata": {},
       "output_type": "display_data",
       "text": [
        "<IPython.core.display.Javascript at 0x6df5f50>"
       ]
      },
      {
       "output_type": "stream",
       "stream": "stdout",
       "text": [
        "No data for 46088, 2014 found: Shape of passed values is (2,), indices imply (2, 6324) \n"
       ]
      }
     ],
     "prompt_number": 26
    },
    {
     "cell_type": "code",
     "collapsed": false,
     "input": [
      "# Check theres data in there.\n",
      "print(st_list[st_list.keys()[2]])"
     ],
     "language": "python",
     "metadata": {},
     "outputs": [
      {
       "output_type": "stream",
       "stream": "stdout",
       "text": [
        "{'lat': 40.780000000000001, 'source': 'ndbc', 'lon': -124.54000000000001, 'obsData': Empty DataFrame\n",
        "Columns: []\n",
        "Index: []}\n"
       ]
      }
     ],
     "prompt_number": 27
    },
    {
     "cell_type": "markdown",
     "metadata": {},
     "source": [
      "### Plot the pandas data frames for the stations"
     ]
    },
    {
     "cell_type": "markdown",
     "metadata": {},
     "source": [
      "<div class=\"error\"><strong>Station Data Plot</strong> -\n",
      "There might be an issue with some of the NDBC station data...</div>"
     ]
    },
    {
     "cell_type": "code",
     "collapsed": false,
     "input": [
      "for station_index in st_list.keys():\n",
      "    df = st_list[station_index]['obsData']\n",
      "    if len(df) > 1:\n",
      "        st_list[station_index]['hasObsData'] = True\n",
      "        print(\"num rows: %s\" % len(df))\n",
      "        fig = plt.figure(figsize=(18, 3))\n",
      "        plt.scatter(df.index, df['sea_water_speed (cm/s)'])\n",
      "        fig.suptitle('Station:'+station_index, fontsize=20)\n",
      "        plt.xlabel('Date', fontsize=18)\n",
      "        plt.ylabel('sea_water_speed (cm/s)', fontsize=16)\n",
      "    else:\n",
      "        st_list[station_index]['hasObsData'] = False"
     ],
     "language": "python",
     "metadata": {},
     "outputs": [],
     "prompt_number": 28
    },
    {
     "cell_type": "markdown",
     "metadata": {},
     "source": [
      "#### Find the min and max data values"
     ]
    },
    {
     "cell_type": "markdown",
     "metadata": {},
     "source": [
      "<div class=\"warning\"><strong>Station Data Plot</strong> -\n",
      "Some stations might not plot due to the data.</div>"
     ]
    },
    {
     "cell_type": "code",
     "collapsed": false,
     "input": [
      "# ...and adjust the legend box.\n",
      "\n",
      "\n",
      "def set_legend(ax):\n",
      "    l = ax.legend()\n",
      "    plt.setp(l.get_texts(), fontsize=8)\n",
      "\n",
      "\n",
      "def new_axes():\n",
      "    fig = plt.figure(figsize=(8, 8), dpi=80, facecolor='w', edgecolor='w')\n",
      "    rect = [0.1, 0.1, 0.8, 0.8]\n",
      "    ax = WindroseAxes(fig, rect, axisbg='w')\n",
      "    fig.add_axes(ax)\n",
      "    return ax"
     ],
     "language": "python",
     "metadata": {},
     "outputs": [],
     "prompt_number": 29
    },
    {
     "cell_type": "code",
     "collapsed": false,
     "input": [
      "# Build current roses.\n",
      "filelist = [f for f in os.listdir(\"./images\") if f.endswith(\".png\")]\n",
      "for f in filelist:\n",
      "    os.remove(\"./images/\"+f)\n",
      "\n",
      "station_min_max = {}\n",
      "for station_index in st_list.keys():\n",
      "    all_spd_data = {}\n",
      "    all_dir_data = {}\n",
      "    all_time_spd = []\n",
      "    all_time_dir = []\n",
      "    df = st_list[station_index]['obsData']\n",
      "    if len(df) > 1:\n",
      "        try:\n",
      "            spd_data = df['sea_water_speed (cm/s)'].values\n",
      "            spd_data = np.array(spd_data)\n",
      "\n",
      "            dir_data = df['direction_of_sea_water_velocity (degree)'].values\n",
      "            dir_data = np.array(dir_data)\n",
      "\n",
      "            time_data = df.index.tolist()\n",
      "            time_data = np.array(time_data)\n",
      "\n",
      "            for idx in range(0, len(spd_data)):\n",
      "                if spd_data[idx] > 998:\n",
      "                    continue\n",
      "                elif np.isnan(spd_data[idx]):\n",
      "                    continue\n",
      "                elif dir_data[idx] == 0:\n",
      "                    continue\n",
      "                else:\n",
      "                    dt_year = time_data[idx].year\n",
      "                    dt_year = str(dt_year)\n",
      "                    if dt_year not in all_spd_data.keys():\n",
      "                        all_spd_data[dt_year] = []\n",
      "                        all_dir_data[dt_year] = []\n",
      "                    # Convert to knots.\n",
      "                    knot_val = (spd_data[idx] * 0.0194384449)\n",
      "                    knot_val = \"%.4f\" % knot_val\n",
      "                    knot_val = float(knot_val)\n",
      "\n",
      "                    all_spd_data[dt_year].append(knot_val)\n",
      "                    all_dir_data[dt_year].append(dir_data[idx])\n",
      "\n",
      "                    all_time_spd.append(knot_val)\n",
      "                    all_time_dir.append(dir_data[idx])\n",
      "\n",
      "            all_time_spd = np.array(all_time_spd, dtype=np.float)\n",
      "            all_time_dir = np.array(all_time_dir, dtype=np.float)\n",
      "\n",
      "            station_min_max[station_index] = {}\n",
      "            for year in all_spd_data.keys():\n",
      "                year_spd = np.array(all_spd_data[year])\n",
      "                year_dir = np.array(all_dir_data[year])\n",
      "                station_min_max[station_index][year] = {}\n",
      "                station_min_max[station_index][year]['pts'] = len(year_spd)\n",
      "                min_spd, max_spd = np.min(year_spd), np.max(year_spd)\n",
      "                station_min_max[station_index][year]['spd_min'] = min_spd\n",
      "                station_min_max[station_index][year]['spd_max'] = max_spd\n",
      "                dir_min, dir_max = np.argmin(year_spd), np.argmax(year_spd)\n",
      "                yr_dir_min, yr_dir_max = year_dir[dir_min], year_dir[dir_max]\n",
      "                station_min_max[station_index][year]['dir_at_min'] = yr_dir_min\n",
      "                station_min_max[station_index][year]['dir_at_max'] = yr_dir_max\n",
      "            try:\n",
      "                # A stacked histogram with normed\n",
      "                # (displayed in percent) results.\n",
      "                ax = new_axes()\n",
      "                ax.set_title(station_index.split(\":\")[-1] +\n",
      "                             \" stacked histogram with normed (displayed in %)\"\n",
      "                             \"\\nresults (spd in knots), All Time.\")\n",
      "                ax.bar(all_time_dir, all_time_spd, normed=True,\n",
      "                       opening=0.8, edgecolor='white')\n",
      "                set_legend(ax)\n",
      "\n",
      "                fig = plt.gcf()\n",
      "                fig.set_size_inches(8, 8)\n",
      "                fname = './images/%s.png' % station_index.split(\":\")[-1]\n",
      "                fig.savefig(fname, dpi=100)\n",
      "            except Exception as e:\n",
      "                print(\"Error when plotting %s\" % e)\n",
      "                pass\n",
      "\n",
      "        except Exception as e:  # Be specifc here!\n",
      "            print(\"Error: %s\" % e)\n",
      "            pass"
     ],
     "language": "python",
     "metadata": {},
     "outputs": [],
     "prompt_number": 30
    },
    {
     "cell_type": "code",
     "collapsed": false,
     "input": [
      "# Plot the min and max from each station.\n",
      "fields = ['spd_']\n",
      "\n",
      "for idx in range(0, len(fields)):\n",
      "    d_field = fields[idx]\n",
      "    fig, ax = plt.subplots(1, 1, figsize=(18, 5))\n",
      "    for st in station_min_max:\n",
      "        x = y_min = y_max = []\n",
      "        for year in station_min_max[st]:\n",
      "            x.append(year)\n",
      "            y_max.append(station_min_max[st][year][d_field+'max'])\n",
      "        marker_size = station_min_max[st][year]['pts'] / 80\n",
      "        marker_size += 20\n",
      "        station_label = st.split(\":\")[-1]\n",
      "\n",
      "        ax.scatter(np.array(x), np.array(y_max),\n",
      "                   label=station_label, s=marker_size,\n",
      "                   c=np.random.rand(3, 1), marker=\"o\")\n",
      "        ax.set_xlim([2000, 2015])\n",
      "        ax.set_title(\"Yearly Max Speed Per Station, Marker Scaled Per\"\n",
      "                     \"Annual Pts (bigger = more pts per year)\")\n",
      "        ax.set_ylabel(\"speed (knots)\")\n",
      "        ax.set_xlabel(\"Year\")\n",
      "        ax.legend(loc='upper left')"
     ],
     "language": "python",
     "metadata": {},
     "outputs": [
      {
       "metadata": {},
       "output_type": "display_data",
       "png": "[encoded data removed]",
       "text": [
        "<matplotlib.figure.Figure at 0x5acb5d0>"
       ]
      }
     ],
     "prompt_number": 31
    },
    {
     "cell_type": "markdown",
     "metadata": {},
     "source": [
      "#### Produce Interactive Map"
     ]
    },
    {
     "cell_type": "code",
     "collapsed": false,
     "input": [
      "station = st_list[st_list.keys()[0]]\n",
      "m = folium.Map(location=[station[\"lat\"], station[\"lon\"]], zoom_start=4)\n",
      "m.line(get_coordinates(bounding_box, bounding_box_type),\n",
      "       line_color='#FF0000', line_weight=5)\n",
      "\n",
      "# Plot the obs station.\n",
      "for st in st_list:\n",
      "    hasObs = st_list[st]['hasObsData']\n",
      "    if hasObs:\n",
      "        fname = './images/%s.png' % st.split(\":\")[-1]\n",
      "        if os.path.isfile(fname):\n",
      "            popup = ('Obs Location:<br>%s<br><img border=120 src=\"'\n",
      "                     './images/%s.png\" width=\"242\" height=\"242\">' %\n",
      "                     (st, st.split(\":\")[-1]))\n",
      "            m.simple_marker([st_list[st][\"lat\"], st_list[st][\"lon\"]],\n",
      "                            popup=popup,\n",
      "                            marker_color=\"green\",\n",
      "                            marker_icon=\"ok\")\n",
      "        else:\n",
      "            popup = 'Obs Location:<br>%s' % st\n",
      "            m.simple_marker([st_list[st][\"lat\"], st_list[st][\"lon\"]],\n",
      "                            popup=popup,\n",
      "                            marker_color=\"green\",\n",
      "                            marker_icon=\"ok\")\n",
      "    else:\n",
      "        popup = 'Obs Location:<br>%s' % st\n",
      "        m.simple_marker([st_list[st][\"lat\"], st_list[st][\"lon\"]],\n",
      "                        popup=popup,\n",
      "                        marker_color=\"red\",\n",
      "                        marker_icon=\"remove\")\n",
      "inline_map(m)"
     ],
     "language": "python",
     "metadata": {},
     "outputs": [
      {
       "html": [
        "<iframe srcdoc=\"<!DOCTYPE html>\n",
        "<head>\n",
        "   <meta http-equiv=&quot;content-type&quot; content=&quot;text/html; charset=UTF-8&quot; />\n",
        "   <link rel=&quot;stylesheet&quot; href=&quot;http://cdn.leafletjs.com/leaflet-0.7.2/leaflet.css&quot; />\n",
        "   <script src=&quot;http://cdn.leafletjs.com/leaflet-0.7.2/leaflet.js&quot;></script>\n",
        "\n",
        "   <script src=&quot;https://ajax.googleapis.com/ajax/libs/jquery/1.11.1/jquery.min.js&quot;></script>\n",
        "\n",
        "   <link rel=&quot;stylesheet&quot; href=&quot;//maxcdn.bootstrapcdn.com/bootstrap/3.2.0/css/bootstrap.min.css&quot;>\n",
        "   <link rel=&quot;stylesheet&quot; href=&quot;//maxcdn.bootstrapcdn.com/bootstrap/3.2.0/css/bootstrap-theme.min.css&quot;>\n",
        "   <script src=&quot;//maxcdn.bootstrapcdn.com/bootstrap/3.2.0/js/bootstrap.min.js&quot;></script>\n",
        "\n",
        "   <link rel=&quot;stylesheet&quot; href=&quot;//cdnjs.cloudflare.com/ajax/libs/Leaflet.awesome-markers/2.0.0/leaflet.awesome-markers.css&quot;>\n",
        "   <script src=&quot;//cdnjs.cloudflare.com/ajax/libs/Leaflet.awesome-markers/2.0.0/leaflet.awesome-markers.js&quot;></script>\n",
        "\n",
        "\n",
        "   <link rel=&quot;stylesheet&quot; href=&quot;//cdnjs.cloudflare.com/ajax/libs/leaflet.markercluster/0.4.0/MarkerCluster.Default.css&quot;>\n",
        "   <link rel=&quot;stylesheet&quot; href=&quot;//cdnjs.cloudflare.com/ajax/libs/leaflet.markercluster/0.4.0/MarkerCluster.css&quot;>\n",
        "   <script src=&quot;//cdnjs.cloudflare.com/ajax/libs/leaflet.markercluster/0.4.0/leaflet.markercluster-src.js&quot;></script>\n",
        "   <script src=&quot;//cdnjs.cloudflare.com/ajax/libs/leaflet.markercluster/0.4.0/leaflet.markercluster.js&quot;></script>\n",
        "\n",
        "   \n",
        "\n",
        "   \n",
        "   \n",
        "   \n",
        "   \n",
        "\n",
        "\n",
        "   <style>\n",
        "\n",
        "      #map {\n",
        "        position:absolute;\n",
        "        top:0;\n",
        "        bottom:0;\n",
        "        right:0;\n",
        "        left:0;\n",
        "      }\n",
        "\n",
        "   </style>\n",
        "</head>\n",
        "\n",
        "<body>\n",
        "\n",
        "   <div class=&quot;folium-map&quot; id=&quot;folium_cb954fa742a7412fb554c4658a9ce9bf&quot; style=&quot;width: 960px; height: 500px&quot;></div>\n",
        "\n",
        "   <script>\n",
        "\n",
        "      \n",
        "\n",
        "      var map = L.map('folium_cb954fa742a7412fb554c4658a9ce9bf').setView([38.0346, -122.1252], 4);\n",
        "\n",
        "      L.tileLayer('http://{s}.tile.openstreetmap.org/{z}/{x}/{y}.png', {\n",
        "          maxZoom: 18,\n",
        "          attribution: 'Map data (c) <a href=&quot;http://openstreetmap.org&quot;>OpenStreetMap</a> contributors'\n",
        "      }).addTo(map);\n",
        "\n",
        "      //cluster group\n",
        "      var clusteredmarkers = L.markerClusterGroup();\n",
        "      //section for adding clustered markers\n",
        "      \n",
        "      //add the clustered markers to the group anyway\n",
        "      map.addLayer(clusteredmarkers);\n",
        "\n",
        "      \n",
        "      var marker_1_icon = L.AwesomeMarkers.icon({ icon: 'remove',markerColor: 'red',prefix: 'glyphicon' });\n",
        "      var marker_1 = L.marker([38.0346, \n",
        "\t\t\t\t\t\t\t-122.1252],\n",
        "\t\t\t\t\t\t\t{'icon':marker_1_icon}\n",
        "\t\t\t\t\t\t\t);\n",
        "      marker_1.bindPopup(&quot;Obs Location:<br>urn:ioos:station:NOAA.NOS.CO-OPS:s06010&quot;);\n",
        "      map.addLayer(marker_1)\n",
        "      \n",
        "      var marker_2_icon = L.AwesomeMarkers.icon({ icon: 'remove',markerColor: 'red',prefix: 'glyphicon' });\n",
        "      var marker_2 = L.marker([48.8628, \n",
        "\t\t\t\t\t\t\t-122.761],\n",
        "\t\t\t\t\t\t\t{'icon':marker_2_icon}\n",
        "\t\t\t\t\t\t\t);\n",
        "      marker_2.bindPopup(&quot;Obs Location:<br>urn:ioos:station:NOAA.NOS.CO-OPS:cp0101&quot;);\n",
        "      map.addLayer(marker_2)\n",
        "      \n",
        "      var marker_3_icon = L.AwesomeMarkers.icon({ icon: 'remove',markerColor: 'red',prefix: 'glyphicon' });\n",
        "      var marker_3 = L.marker([40.78, \n",
        "\t\t\t\t\t\t\t-124.54],\n",
        "\t\t\t\t\t\t\t{'icon':marker_3_icon}\n",
        "\t\t\t\t\t\t\t);\n",
        "      marker_3.bindPopup(&quot;Obs Location:<br>urn:ioos:station:wmo:46022&quot;);\n",
        "      map.addLayer(marker_3)\n",
        "      \n",
        "      var marker_4_icon = L.AwesomeMarkers.icon({ icon: 'remove',markerColor: 'red',prefix: 'glyphicon' });\n",
        "      var marker_4 = L.marker([40.7775, \n",
        "\t\t\t\t\t\t\t-124.1966],\n",
        "\t\t\t\t\t\t\t{'icon':marker_4_icon}\n",
        "\t\t\t\t\t\t\t);\n",
        "      marker_4.bindPopup(&quot;Obs Location:<br>urn:ioos:station:NOAA.NOS.CO-OPS:hb0401&quot;);\n",
        "      map.addLayer(marker_4)\n",
        "      \n",
        "      var marker_5_icon = L.AwesomeMarkers.icon({ icon: 'remove',markerColor: 'red',prefix: 'glyphicon' });\n",
        "      var marker_5 = L.marker([49.89, \n",
        "\t\t\t\t\t\t\t-124.73],\n",
        "\t\t\t\t\t\t\t{'icon':marker_5_icon}\n",
        "\t\t\t\t\t\t\t);\n",
        "      marker_5.bindPopup(&quot;Obs Location:<br>urn:ioos:station:wmo:46087&quot;);\n",
        "      map.addLayer(marker_5)\n",
        "      \n",
        "      var marker_6_icon = L.AwesomeMarkers.icon({ icon: 'remove',markerColor: 'red',prefix: 'glyphicon' });\n",
        "      var marker_6 = L.marker([42.76, \n",
        "\t\t\t\t\t\t\t-124.83],\n",
        "\t\t\t\t\t\t\t{'icon':marker_6_icon}\n",
        "\t\t\t\t\t\t\t);\n",
        "      marker_6.bindPopup(&quot;Obs Location:<br>urn:ioos:station:wmo:46015&quot;);\n",
        "      map.addLayer(marker_6)\n",
        "      \n",
        "      var marker_7_icon = L.AwesomeMarkers.icon({ icon: 'remove',markerColor: 'red',prefix: 'glyphicon' });\n",
        "      var marker_7 = L.marker([46.14, \n",
        "\t\t\t\t\t\t\t-124.51],\n",
        "\t\t\t\t\t\t\t{'icon':marker_7_icon}\n",
        "\t\t\t\t\t\t\t);\n",
        "      marker_7.bindPopup(&quot;Obs Location:<br>urn:ioos:station:wmo:46029&quot;);\n",
        "      map.addLayer(marker_7)\n",
        "      \n",
        "      var marker_8_icon = L.AwesomeMarkers.icon({ icon: 'remove',markerColor: 'red',prefix: 'glyphicon' });\n",
        "      var marker_8 = L.marker([40.7423, \n",
        "\t\t\t\t\t\t\t-124.2251],\n",
        "\t\t\t\t\t\t\t{'icon':marker_8_icon}\n",
        "\t\t\t\t\t\t\t);\n",
        "      marker_8.bindPopup(&quot;Obs Location:<br>urn:ioos:station:NOAA.NOS.CO-OPS:hb0301&quot;);\n",
        "      map.addLayer(marker_8)\n",
        "      \n",
        "      var marker_9_icon = L.AwesomeMarkers.icon({ icon: 'remove',markerColor: 'red',prefix: 'glyphicon' });\n",
        "      var marker_9 = L.marker([38.23, \n",
        "\t\t\t\t\t\t\t-123.32],\n",
        "\t\t\t\t\t\t\t{'icon':marker_9_icon}\n",
        "\t\t\t\t\t\t\t);\n",
        "      marker_9.bindPopup(&quot;Obs Location:<br>urn:ioos:station:wmo:46013&quot;);\n",
        "      map.addLayer(marker_9)\n",
        "      \n",
        "      var marker_10_icon = L.AwesomeMarkers.icon({ icon: 'remove',markerColor: 'red',prefix: 'glyphicon' });\n",
        "      var marker_10 = L.marker([45.91, \n",
        "\t\t\t\t\t\t\t-125.76],\n",
        "\t\t\t\t\t\t\t{'icon':marker_10_icon}\n",
        "\t\t\t\t\t\t\t);\n",
        "      marker_10.bindPopup(&quot;Obs Location:<br>urn:ioos:station:wmo:46089&quot;);\n",
        "      map.addLayer(marker_10)\n",
        "      \n",
        "      var marker_11_icon = L.AwesomeMarkers.icon({ icon: 'remove',markerColor: 'red',prefix: 'glyphicon' });\n",
        "      var marker_11 = L.marker([48.33, \n",
        "\t\t\t\t\t\t\t-123.17],\n",
        "\t\t\t\t\t\t\t{'icon':marker_11_icon}\n",
        "\t\t\t\t\t\t\t);\n",
        "      marker_11.bindPopup(&quot;Obs Location:<br>urn:ioos:station:wmo:46088&quot;);\n",
        "      map.addLayer(marker_11)\n",
        "      \n",
        "\n",
        "      \n",
        "\n",
        "      \n",
        "      var latLngs = [ [38, -130],  [38, -121],  [50, -121],  [50, -130],  [38, -130], ];\n",
        "var line_1 = L.polyline(latLngs,{\n",
        "color: '#FF0000',\n",
        "weight: 5,\n",
        "\n",
        "});\n",
        "      map.addLayer(line_1);\n",
        "      \n",
        "\n",
        "      \n",
        "\n",
        "      \n",
        "\n",
        "   </script>\n",
        "\n",
        "</body>\" style=\"width: 100%; height: 500px; border: none\"></iframe>"
       ],
       "metadata": {},
       "output_type": "pyout",
       "prompt_number": 32,
       "text": [
        "<IPython.core.display.HTML at 0x6e16710>"
       ]
      }
     ],
     "prompt_number": 32
    }
   ],
   "metadata": {}
  }
 ]
}