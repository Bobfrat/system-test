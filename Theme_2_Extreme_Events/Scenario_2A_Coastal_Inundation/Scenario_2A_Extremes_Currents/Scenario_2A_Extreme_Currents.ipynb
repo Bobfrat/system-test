{
 "metadata": {
  "name": "",
  "signature": "sha256:651de4b93fc4461848da359f07b62cc0dc57784d822f5fbfceb5dca8c215798d"
 },
 "nbformat": 3,
 "nbformat_minor": 0,
 "worksheets": [
  {
   "cells": [
    {
     "cell_type": "code",
     "collapsed": false,
     "input": [
      "import datetime as dt\n",
      "from warnings import warn\n",
      "\n",
      "import folium\n",
      "from IPython.display import HTML\n",
      "import iris\n",
      "from iris.exceptions import CoordinateNotFoundError, ConstraintMismatchError\n",
      "import matplotlib.pyplot as plt\n",
      "from owslib.csw import CatalogueServiceWeb\n",
      "from owslib import fes\n",
      "\n",
      "import numpy as np\n",
      "import pandas as pd\n",
      "from pyoos.collectors.ndbc.ndbc_sos import NdbcSos\n",
      "from pyoos.collectors.coops.coops_sos import CoopsSos\n",
      "import requests\n",
      "\n",
      "from utilities import (date_range, coops2df, coops2data, find_timevar, find_ij, nearxy, service_urls, mod_df, \n",
      "                       get_coordinates, get_Coops_longName, inline_map)\n",
      "\n",
      "import cStringIO\n",
      "from lxml import etree\n",
      "import urllib2"
     ],
     "language": "python",
     "metadata": {},
     "outputs": [],
     "prompt_number": 187
    },
    {
     "cell_type": "code",
     "collapsed": false,
     "input": [
      "bounding_box_type = \"box\" \n",
      "\n",
      "# Bounding Box [lon_min, lat_min, lon_max, lat_max]\n",
      "area = {'Hawaii': [-160.0, 18.0, -154., 23.0],\n",
      "        'Gulf of Maine': [-72.0, 41.0, -69.0, 43.0],\n",
      "        'New York harbor region': [-75., 39., -71., 41.5],\n",
      "        'Puerto Rico': [-71, 14, -60, 24],\n",
      "        'East Coast': [-77, 34, -70, 40],\n",
      "        'North West': [-130, 38, -121, 50]}\n",
      "\n",
      "bounding_box = area['North West']\n",
      "\n",
      "#temporal range\n",
      "jd_now = dt.datetime.utcnow()\n",
      "jd_start,  jd_stop = jd_now - dt.timedelta(days=5), jd_now\n",
      "\n",
      "start_date = jd_start.strftime('%Y-%m-%d %H:00')\n",
      "stop_date = jd_stop.strftime('%Y-%m-%d %H:00')\n",
      "\n",
      "jd_start = dt.datetime.strptime(start_date, '%Y-%m-%d %H:%M')\n",
      "jd_stop = dt.datetime.strptime(stop_date, '%Y-%m-%d %H:%M')\n",
      "print start_date,'to',stop_date"
     ],
     "language": "python",
     "metadata": {},
     "outputs": [
      {
       "output_type": "stream",
       "stream": "stdout",
       "text": [
        "2014-06-22 18:00 to 2014-06-27 18:00\n"
       ]
      }
     ],
     "prompt_number": 206
    },
    {
     "cell_type": "code",
     "collapsed": false,
     "input": [
      "#put the names in a dict for ease of access \n",
      "data_dict = {}\n",
      "sos_name = 'Currents'\n",
      "data_dict['currents'] = {\"names\":['currents',\n",
      "                                  'surface_eastward_sea_water_velocity',\n",
      "                                  '*surface_eastward_sea_water_velocity*'], \n",
      "                         \"sos_name\":['currents']}  "
     ],
     "language": "python",
     "metadata": {},
     "outputs": [],
     "prompt_number": 207
    },
    {
     "cell_type": "markdown",
     "metadata": {},
     "source": [
      "CSW Search"
     ]
    },
    {
     "cell_type": "code",
     "collapsed": false,
     "input": [
      "endpoint = 'http://www.ngdc.noaa.gov/geoportal/csw' # NGDC Geoportal\n",
      "csw = CatalogueServiceWeb(endpoint,timeout=60)\n",
      "\n",
      "for oper in csw.operations:\n",
      "    if oper.name == 'GetRecords':\n",
      "        cnstr = oper.constraints['SupportedISOQueryables']['values']\n",
      "        #print('\\nISO Queryables:%s\\n' % '\\n'.join(cnstr))"
     ],
     "language": "python",
     "metadata": {},
     "outputs": [],
     "prompt_number": 208
    },
    {
     "cell_type": "markdown",
     "metadata": {},
     "source": [
      "Search"
     ]
    },
    {
     "cell_type": "code",
     "collapsed": false,
     "input": [
      "# convert User Input into FES filters\n",
      "start,stop = date_range(start_date,stop_date)\n",
      "bbox = fes.BBox(bounding_box)\n",
      "\n",
      "#use the search name to create search filter\n",
      "or_filt = fes.Or([fes.PropertyIsLike(propertyname='apiso:AnyText',literal=('*%s*' % val),\n",
      "                    escapeChar='\\\\',wildCard='*',singleChar='?') for val in data_dict['currents']['names']])\n",
      "\n",
      "val = 'Averages'\n",
      "not_filt = fes.Not([fes.PropertyIsLike(propertyname='apiso:AnyText',\n",
      "                                       literal=('*%s*' % val),\n",
      "                                       escapeChar='\\\\',\n",
      "                                       wildCard='*',\n",
      "                                       singleChar='?')])\n",
      "filter_list = [fes.And([ bbox, start, stop, or_filt, not_filt]) ]\n",
      "# connect to CSW, explore it's properties\n",
      "# try request using multiple filters \"and\" syntax: [[filter1,filter2]]\n",
      "csw.getrecords2(constraints=filter_list, maxrecords=1000, esn='full')\n",
      "print str(len(csw.records)) + \" csw records found\"\n",
      "for rec, item in csw.records.items():\n",
      "    print(item.title)"
     ],
     "language": "python",
     "metadata": {},
     "outputs": [
      {
       "output_type": "stream",
       "stream": "stdout",
       "text": [
        "14 csw records found\n",
        "Near-Real Time Surface Ocean Velocity\n",
        "Near-Real Time Surface Ocean Velocity\n",
        "Near-Real Time Surface Ocean Velocity\n",
        "Near-Real Time Surface Ocean Velocity\n",
        "Near-Real Time Surface Ocean Velocity\n",
        "Near-Real Time Surface Ocean Velocity\n",
        "Near-Real Time Surface Ocean Velocity\n",
        "Near-Real Time Surface Ocean Velocity\n",
        "Surface CUrrents from a Diagnostic model (SCUD): Pacific\n",
        "Barotropic Tide Model for the Pacific Basin\n",
        "National Data Buoy Center SOS\n",
        "HYbrid Coordinate Ocean Model (HYCOM): Global\n",
        "Near-Real Time Surface Ocean Velocity\n",
        "Near-Real Time Surface Ocean Velocity\n"
       ]
      }
     ],
     "prompt_number": 209
    },
    {
     "cell_type": "markdown",
     "metadata": {},
     "source": [
      "DAP"
     ]
    },
    {
     "cell_type": "code",
     "collapsed": false,
     "input": [
      "dap_urls = service_urls(csw.records)\n",
      "#remove duplicates and organize\n",
      "dap_urls = sorted(set(dap_urls))\n",
      "print \"Total DAP:\",len(dap_urls)\n",
      "#print the first 5...\n",
      "print \"\\n\".join(dap_urls[:])"
     ],
     "language": "python",
     "metadata": {},
     "outputs": [
      {
       "output_type": "stream",
       "stream": "stdout",
       "text": [
        "Total DAP: 11\n",
        "http://hfrnet.ucsd.edu/thredds/dodsC/HFRNet/USWC/1km/hourly/GNOME\n",
        "http://hfrnet.ucsd.edu/thredds/dodsC/HFRNet/USWC/1km/hourly/RTV\n",
        "http://hfrnet.ucsd.edu/thredds/dodsC/HFRNet/USWC/2km/hourly/GNOME\n",
        "http://hfrnet.ucsd.edu/thredds/dodsC/HFRNet/USWC/2km/hourly/RTV\n",
        "http://hfrnet.ucsd.edu/thredds/dodsC/HFRNet/USWC/500m/hourly/GNOME\n",
        "http://hfrnet.ucsd.edu/thredds/dodsC/HFRNet/USWC/500m/hourly/RTV\n",
        "http://hfrnet.ucsd.edu/thredds/dodsC/HFRNet/USWC/6km/hourly/GNOME\n",
        "http://hfrnet.ucsd.edu/thredds/dodsC/HFRNet/USWC/6km/hourly/RTV\n",
        "http://oos.soest.hawaii.edu/thredds/dodsC/hioos/tide_pac\n",
        "http://oos.soest.hawaii.edu/thredds/dodsC/pacioos/hycom/global\n",
        "http://oos.soest.hawaii.edu/thredds/dodsC/pacioos/scud/pac\n"
       ]
      }
     ],
     "prompt_number": 227
    },
    {
     "cell_type": "markdown",
     "metadata": {},
     "source": [
      "SOS"
     ]
    },
    {
     "cell_type": "code",
     "collapsed": false,
     "input": [
      "sos_urls = service_urls(csw.records,service='sos:url')\n",
      "#remove duplicates and organize\n",
      "#if len(sos_urls) ==0:\n",
      "sos_urls.append(\"http://sdf.ndbc.noaa.gov/sos/server.php\")  #?request=GetCapabilities&service=SOS\n",
      "\n",
      "sos_urls = sorted(set(sos_urls))\n",
      "print \"Total SOS:\",len(sos_urls)\n",
      "print \"\\n\".join(sos_urls)"
     ],
     "language": "python",
     "metadata": {},
     "outputs": [
      {
       "output_type": "stream",
       "stream": "stdout",
       "text": [
        "Total SOS: 1\n",
        "http://sdf.ndbc.noaa.gov/sos/server.php\n"
       ]
      }
     ],
     "prompt_number": 228
    },
    {
     "cell_type": "markdown",
     "metadata": {},
     "source": [
      "SOS"
     ]
    },
    {
     "cell_type": "code",
     "collapsed": false,
     "input": [
      "start_time = dt.datetime.strptime(start_date,'%Y-%m-%d %H:%M')\n",
      "end_time = dt.datetime.strptime(stop_date,'%Y-%m-%d %H:%M')\n",
      "iso_start = start_time.strftime('%Y-%m-%dT%H:%M:%SZ')\n",
      "iso_end = end_time.strftime('%Y-%m-%dT%H:%M:%SZ')"
     ],
     "language": "python",
     "metadata": {},
     "outputs": [],
     "prompt_number": 229
    },
    {
     "cell_type": "markdown",
     "metadata": {},
     "source": [
      "#### CO-OPS"
     ]
    },
    {
     "cell_type": "code",
     "collapsed": false,
     "input": [
      "coops_collector = CoopsSos()\n",
      "coops_collector.start_time = start_time\n",
      "coops_collector.end_time = end_time\n",
      "coops_collector.variables = data_dict[\"currents\"][\"sos_name\"]\n",
      "coops_collector.server.identification.title\n",
      "print coops_collector.start_time,\":\", coops_collector.end_time\n",
      "ofrs = coops_collector.server.offerings\n",
      "print(len(ofrs))"
     ],
     "language": "python",
     "metadata": {},
     "outputs": [
      {
       "output_type": "stream",
       "stream": "stdout",
       "text": [
        "2014-06-22 18:00:00+00:00 : 2014-06-27 18:00:00+00:00\n",
        "1026\n"
       ]
      }
     ],
     "prompt_number": 230
    },
    {
     "cell_type": "code",
     "collapsed": false,
     "input": [
      "print \"Date: \",iso_start,\" to \", iso_end\n",
      "box_str=','.join(str(e) for e in bounding_box)\n",
      "print \"Lat/Lon Box: \",box_str\n",
      "\n",
      "url = (('http://opendap.co-ops.nos.noaa.gov/ioos-dif-sos/SOS?'\n",
      "       'service=SOS&request=GetObservation&version=1.0.0&'\n",
      "       'observedProperty=%s&bin=1&'\n",
      "       'offering=urn:ioos:network:NOAA.NOS.CO-OPS:Currents&'\n",
      "       'featureOfInterest=BBOX:%s&responseFormat=text/csv') % (sos_name, box_str))\n",
      "\n",
      "print url\n",
      "#obs_loc_df = pd.read_csv(url)"
     ],
     "language": "python",
     "metadata": {},
     "outputs": [
      {
       "output_type": "stream",
       "stream": "stdout",
       "text": [
        "Date:  2014-06-22T18:00:00Z  to  2014-06-27T18:00:00Z\n",
        "Lat/Lon Box:  -130,38,-121,50\n",
        "http://opendap.co-ops.nos.noaa.gov/ioos-dif-sos/SOS?service=SOS&request=GetObservation&version=1.0.0&observedProperty=Currents&bin=1&offering=urn:ioos:network:NOAA.NOS.CO-OPS:Currents&featureOfInterest=BBOX:-130,38,-121,50&responseFormat=text/csv\n"
       ]
      }
     ],
     "prompt_number": 231
    },
    {
     "cell_type": "markdown",
     "metadata": {},
     "source": [
      "#### NDBC"
     ]
    },
    {
     "cell_type": "code",
     "collapsed": false,
     "input": [
      "ndbc_collector = NdbcSos()\n",
      "ndbc_collector.start_time = start_time\n",
      "ndbc_collector.end_time = end_time\n",
      "ndbc_collector.variables = data_dict[\"currents\"][\"sos_name\"]\n",
      "ndbc_collector.server.identification.title\n",
      "print ndbc_collector.start_time,\":\", ndbc_collector.end_time\n",
      "ofrs = ndbc_collector.server.offerings\n",
      "print(len(ofrs))"
     ],
     "language": "python",
     "metadata": {},
     "outputs": [
      {
       "output_type": "stream",
       "stream": "stdout",
       "text": [
        "2014-06-22 18:00:00+00:00 : 2014-06-27 18:00:00+00:00\n",
        "884\n"
       ]
      }
     ],
     "prompt_number": 232
    },
    {
     "cell_type": "code",
     "collapsed": false,
     "input": [
      "print \"Date: \",iso_start,\" to \", iso_end\n",
      "box_str=','.join(str(e) for e in bounding_box)\n",
      "print \"Lat/Lon Box: \",box_str\n",
      "\n",
      "#how the query should look\n",
      "'''\n",
      "url = (('http://sdf.ndbc.noaa.gov/sos/server.php?'\n",
      "       'request=GetObservation&service=SOS&'\n",
      "       'version=1.0.0&'\n",
      "       'offering=urn:ioos:network:noaa.nws.ndbc:all&'\n",
      "       'featureofinterest=BBOX:%s&'\n",
      "       'observedproperty=%s&'\n",
      "       'responseformat=text/csv&'\n",
      "       'eventtime=%s')% (box_str,sos_name,iso_start,iso_end))\n",
      "'''\n",
      "\n",
      "url = (('http://sdf.ndbc.noaa.gov/sos/server.php?'\n",
      "       'request=GetObservation&service=SOS&'\n",
      "       'version=1.0.0&'\n",
      "       'offering=urn:ioos:network:noaa.nws.ndbc:all&'\n",
      "       'featureofinterest=BBOX:%s&'\n",
      "       'observedproperty=%s&'\n",
      "       'responseformat=text/csv&')% (box_str,sos_name))\n",
      "\n",
      "\n",
      "print url\n",
      "obs_loc_df = pd.read_csv(url)"
     ],
     "language": "python",
     "metadata": {},
     "outputs": [
      {
       "output_type": "stream",
       "stream": "stdout",
       "text": [
        "Date:  2014-06-22T18:00:00Z  to  2014-06-27T18:00:00Z\n",
        "Lat/Lon Box:  -130,38,-121,50\n",
        "http://sdf.ndbc.noaa.gov/sos/server.php?request=GetObservation&service=SOS&version=1.0.0&offering=urn:ioos:network:noaa.nws.ndbc:all&featureofinterest=BBOX:-130,38,-121,50&observedproperty=Currents&responseformat=text/csv&\n"
       ]
      }
     ],
     "prompt_number": 233
    },
    {
     "cell_type": "markdown",
     "metadata": {},
     "source": [
      "#### NDBC Station information"
     ]
    },
    {
     "cell_type": "code",
     "collapsed": false,
     "input": [
      "st_data = obs_loc_df['station_id']\n",
      "lat_data = obs_loc_df['latitude (degree)']\n",
      "lon_data = obs_loc_df['longitude (degree)']\n",
      "\n",
      "st_list = {}\n",
      "for i in range(0,len(st_data)):\n",
      "    station_name = st_data[i]\n",
      "    if station_name in st_list:\n",
      "        pass\n",
      "    else:\n",
      "        st_list[station_name] = {}\n",
      "        st_list[station_name][\"lat\"] = lat_data[i]\n",
      "        st_list[station_name][\"lon\"] = lon_data[i]\n",
      "        print station_name\n",
      "\n",
      "print \"number of stations in bbox\",len(st_list.keys())"
     ],
     "language": "python",
     "metadata": {},
     "outputs": [
      {
       "output_type": "stream",
       "stream": "stdout",
       "text": [
        "urn:ioos:station:wmo:46013\n",
        "urn:ioos:station:wmo:46015\n",
        "urn:ioos:station:wmo:46022\n",
        "urn:ioos:station:wmo:46029\n",
        "urn:ioos:station:wmo:46087\n",
        "urn:ioos:station:wmo:46088\n",
        "urn:ioos:station:wmo:46089\n",
        "number of stations in bbox 7\n"
       ]
      }
     ],
     "prompt_number": 234
    },
    {
     "cell_type": "markdown",
     "metadata": {},
     "source": [
      "#### NDBC Map"
     ]
    },
    {
     "cell_type": "code",
     "collapsed": false,
     "input": [
      "def ndbc2data2(collector,station_id,sos_name,iso_start, iso_end):\n",
      "    \"\"\"Extract the Observation Data from the collector.\"\"\"\n",
      "    collector.features = [station_id]\n",
      "    collector.variables = [sos_name]\n",
      "    \n",
      "    url = (('http://sdf.ndbc.noaa.gov/sos/server.php?'\n",
      "       'request=GetObservation&service=SOS&'\n",
      "       'version=1.0.0&'\n",
      "       'offering=%s&'\n",
      "       'featureofinterest=BBOX:%s&'\n",
      "       'observedproperty=%s&'\n",
      "       'responseformat=text/csv&'\n",
      "       'eventtime=%s/%s')% (station_id,box_str,sos_name,iso_start,iso_end))\n",
      "   \n",
      "    \n",
      "    print url\n",
      "    data_df = pd.read_csv(url, parse_dates=True, index_col='date_time')\n",
      "    data_df.name = station_id\n",
      "    return data_df"
     ],
     "language": "python",
     "metadata": {},
     "outputs": [],
     "prompt_number": 235
    },
    {
     "cell_type": "markdown",
     "metadata": {},
     "source": [
      "#### Get Obs Data"
     ]
    },
    {
     "cell_type": "code",
     "collapsed": false,
     "input": [
      "#add to existing data struct\n",
      "for st in st_list:\n",
      "    try:\n",
      "        print \"working on \",st\n",
      "        df = ndbc2data2(ndbc_collector, st, sos_name,iso_start, iso_end)\n",
      "        if df.empty:\n",
      "            st_list[name][\"hasdata\"] = False\n",
      "            print st,\"empty...\"\n",
      "            pass\n",
      "        else:\n",
      "            name = df.name\n",
      "            st_list[name][\"hasdata\"] = True\n",
      "            st_list[name][\"data\"] = df\n",
      "            st_list[name][\"type\"] = \"obs\"\n",
      "            st_list[name][\"bins\"] = max(df['bin (count)'].values)  \n",
      "        break    \n",
      "    except Exception as e:\n",
      "        print \"Error\" + str(e)\n",
      "        continue\n",
      "      "
     ],
     "language": "python",
     "metadata": {},
     "outputs": [
      {
       "output_type": "stream",
       "stream": "stdout",
       "text": [
        "working on  urn:ioos:station:wmo:46087\n",
        "http://sdf.ndbc.noaa.gov/sos/server.php?request=GetObservation&service=SOS&version=1.0.0&offering=urn:ioos:station:wmo:46087&featureofinterest=BBOX:-130,38,-121,50&observedproperty=Currents&responseformat=text/csv&eventtime=2014-06-22T18:00:00Z/2014-06-27T18:00:00Z\n"
       ]
      }
     ],
     "prompt_number": 236
    },
    {
     "cell_type": "code",
     "collapsed": false,
     "input": [
      "def get_dap_data(dap_urls,constraint,obs_lat,obs_lon,ts):\n",
      "    # Use only data within 0.04 degrees (about 4 km).\n",
      "    obs_df = []\n",
      "    obs_or_model = False\n",
      "    max_dist = 1.4\n",
      "    # Use only data where the standard deviation of the time series exceeds 0.01 m (1 cm).\n",
      "    # This eliminates flat line model time series that come from land points that should have had missing values.\n",
      "    min_var = 0.01\n",
      "    data_idx = []\n",
      "    for url in dap_urls:\n",
      "        print url\n",
      "        try:\n",
      "            a = iris.load_cube(url, constraint)\n",
      "            # convert to units of meters\n",
      "            # a.convert_units('m')     # this isn't working for unstructured data\n",
      "            # take first 20 chars for model name\n",
      "            mod_name = a.attributes['title'][0:20]\n",
      "            print mod_name\n",
      "            \n",
      "            if 'from HF-Radar' in a.attributes['summary']:\n",
      "                 obs_or_model = True\n",
      "            \n",
      "            r = a.shape\n",
      "            timevar = find_timevar(a)\n",
      "            lat = a.coord(axis='Y').points\n",
      "            lon = a.coord(axis='X').points\n",
      "            jd = timevar.units.num2date(timevar.points)\n",
      "            start = timevar.units.date2num(jd_start)\n",
      "            istart = timevar.nearest_neighbour_index(start)\n",
      "            stop = timevar.units.date2num(jd_stop)\n",
      "            istop = timevar.nearest_neighbour_index(stop)\n",
      "\n",
      "            # Only proceed if we have data in the range requested.\n",
      "            if istart != istop:\n",
      "                nsta = len(obs_lon)\n",
      "                if len(r) == 3:\n",
      "                    try:\n",
      "                        print('[Structured grid model]:', url)\n",
      "                        d = a[0, :, :].data\n",
      "                        # Find the closest non-land point from a structured grid model.\n",
      "                        if len(lon.shape) == 1:\n",
      "                            lon, lat = np.meshgrid(lon, lat)\n",
      "                        j, i, dd = find_ij(lon, lat, d, obs_lon, obs_lat)\n",
      "                        for n in range(nsta):\n",
      "                            # Only use if model cell is within 0.01 degree of requested\n",
      "                            # location.                       \n",
      "                            if dd[n] <= max_dist:\n",
      "                                try:\n",
      "                                    len(j)\n",
      "                                except:\n",
      "                                    j = [j]\n",
      "\n",
      "                                try:\n",
      "                                    len(i)\n",
      "                                except:\n",
      "                                    i = [i]\n",
      "\n",
      "                                arr = a[istart:istop, j[n], i[n]].data\n",
      "                                print arr\n",
      "                                if arr.std() >= min_var:                                \n",
      "                                    c = mod_df(arr, timevar, istart, istop,mod_name, ts)\n",
      "                                    name = obs_df[n].name\n",
      "                                    obs_df[n] = pd.concat([obs_df[n], c], axis=1)\n",
      "                                    obs_df[n].name = name\n",
      "                                    data_idx.append(obs_df)\n",
      "                    except:\n",
      "                        pass\n",
      "                                \n",
      "                elif len(r) == 2:\n",
      "                    try:\n",
      "                        print('[Unstructured grid model]:', url)\n",
      "                        # Find the closest point from an unstructured grid model.\n",
      "                        index, dd = nearxy(lon.flatten(), lat.flatten(),obs_lon, obs_lat)\n",
      "                        for n in range(nsta):\n",
      "                            # Only use if model cell is within 0.1 degree of requested\n",
      "                            # location.\n",
      "                            if dd[n] <= max_dist:\n",
      "                                arr = a[istart:istop, index[n]].data\n",
      "                                if arr.std() >= min_var:\n",
      "                                    c = mod_df(arr, timevar, istart, istop,mod_name, ts)\n",
      "                                    name = obs_df[n].name\n",
      "                                    obs_df[n] = pd.concat([obs_df[n], c], axis=1)\n",
      "                                    obs_df[n].name = name\n",
      "                                    data_idx.append(obs_df)\n",
      "                    except:\n",
      "                        pass\n",
      "                elif len(r) == 1:\n",
      "                    print('[Data]:', url)\n",
      "        except (ValueError, RuntimeError, CoordinateNotFoundError,\n",
      "                ConstraintMismatchError) as e:\n",
      "            warn(\"\\n%s\\n\" % e)\n",
      "            pass\n",
      "        \n",
      "    return data_idx,obs_or_model"
     ],
     "language": "python",
     "metadata": {},
     "outputs": [],
     "prompt_number": 259
    },
    {
     "cell_type": "code",
     "collapsed": false,
     "input": [
      "print data_dict['currents']['names']\n",
      "name_in_list = lambda cube: cube.standard_name in data_dict['currents']['names']\n",
      "constraint = iris.Constraint(cube_func=name_in_list)\n",
      "\n",
      "ts_rng = pd.date_range(start=jd_start, end=jd_stop, freq='6Min')\n",
      "ts = pd.DataFrame(index=ts_rng)\n",
      "\n",
      "lat_list = []\n",
      "lon_list = []\n",
      "for st in st_list:\n",
      "    station = st_list[st]\n",
      "    lat_list.append(station[\"lat\"])\n",
      "    lon_list.append(station[\"lon\"])"
     ],
     "language": "python",
     "metadata": {},
     "outputs": [
      {
       "output_type": "stream",
       "stream": "stdout",
       "text": [
        "['currents', 'surface_eastward_sea_water_velocity', '*surface_eastward_sea_water_velocity*']\n"
       ]
      }
     ],
     "prompt_number": 261
    },
    {
     "cell_type": "code",
     "collapsed": false,
     "input": [
      "try:\n",
      "    dap_data,obs_or_model = get_dap_data(dap_urls,constraint, lat_list, lon_list,ts)\n",
      "except Exception as e:\n",
      "    print \"Error: \" + str(e)"
     ],
     "language": "python",
     "metadata": {},
     "outputs": [
      {
       "output_type": "stream",
       "stream": "stdout",
       "text": [
        "http://hfrnet.ucsd.edu/thredds/dodsC/HFRNet/USWC/1km/hourly/GNOME\n",
        "Near-Real Time Surfa"
       ]
      },
      {
       "output_type": "stream",
       "stream": "stdout",
       "text": [
        "\n",
        "('[Structured grid model]:', 'http://hfrnet.ucsd.edu/thredds/dodsC/HFRNet/USWC/1km/hourly/GNOME')"
       ]
      },
      {
       "output_type": "stream",
       "stream": "stdout",
       "text": [
        "\n",
        "[-- -- -- -- -- -- -- -- -- -- -- -- -- -- -- -- -- -- -- -- -- -- -- -- --\n",
        " -- -- -- -- -- -- -- -- -- -- -- -- -- -- -- -- -- -- -- -- -- -- -- -- --\n",
        " -- -- -- -- -- -- -- -- -- -- -- -- -- -- -- -- -- -- -- -- -- -- -- -- --\n",
        " -- -- -- -- -- -- -- -- -- -- -- -- -- -- -- -- -- -- -- -- -- -- -- -- --\n",
        " -- -- -- -- -- -- -- -- -- -- -- -- -- -- -- -- -- -- -- --]"
       ]
      },
      {
       "output_type": "stream",
       "stream": "stdout",
       "text": [
        "\n",
        "[-- -- -- -- -- -- -- -- -- -- -- -- -- -- -- -- -- -- -- -- -- -- -- -- --\n",
        " -- -- -- -- -- -- -- -- -- -- -- -- -- -- -- -- -- -- -- -- -- -- -- -- --\n",
        " -- -- -- -- -- -- -- -- -- -- -- -- -- -- -- -- -- -- -- -- -- -- -- -- --\n",
        " -- -- -- -- -- -- -- -- -- -- -- -- -- -- -- -- -- -- -- -- -- -- -- -- --\n",
        " -- -- -- -- -- -- -- -- -- -- -- -- -- -- -- -- -- -- -- --]"
       ]
      },
      {
       "output_type": "stream",
       "stream": "stdout",
       "text": [
        "\n",
        "[-- -- -- -- -- -- -- -- -- -- -- -- -- -- -- -- -- -- -- -- -- -- -- -- --\n",
        " -- -- -- -- -- -- -- -- -- -- -- -- -- -- -- -- -- -- -- -- -- -- -- -- --\n",
        " -- -- -- -- -- -- -- -- -- -- -- -- -- -- -- -- -- -- -- -- -- -- -- -- --\n",
        " -- -- -- -- -- -- -- -- -- -- -- -- -- -- -- -- -- -- -- -- -- -- -- -- --\n",
        " -- -- -- -- -- -- -- -- -- -- -- -- -- -- -- -- -- -- -- --]"
       ]
      },
      {
       "output_type": "stream",
       "stream": "stdout",
       "text": [
        "\n",
        "[-- -- -- -- -- -- -- -- -- -- -- -- -- -- -- -- -- -- -- -- -- -- -- -- --\n",
        " -- -- -- -- -- -- -- -- -- -- -- -- -- -- -- -- -- -- -- -- -- -- -- -- --\n",
        " -- -- -- -- -- -- -- -- -- -- -- -- -- -- -- -- -- -- -- -- -- -- -- -- --\n",
        " -- -- -- -- -- -- -- -- -- -- -- -- -- -- -- -- -- -- -- -- -- -- -- -- --\n",
        " -- -- -- -- -- -- -- -- -- -- -- -- -- -- -- -- -- -- -- --]"
       ]
      },
      {
       "output_type": "stream",
       "stream": "stdout",
       "text": [
        "\n",
        "[-- -- -- -- -- -- -- -- -- -- -- -- -- -- -- -- -- -- -- -- -- -- -- -- --\n",
        " -- -- -- -- -- -- -- -- -- -- -- -- -- -- -- -- -- -- -- -- -- -- -- -- --\n",
        " -- -- -- -- -- -- -- -- -- -- -- -- -- -- -- -- -- -- -- -- -- -- -- -- --\n",
        " -- -- -- -- -- -- -- -- -- -- -- -- -- -- -- -- -- -- -- -- -- -- -- -- --\n",
        " -- -- -- -- -- -- -- -- -- -- -- -- -- -- -- -- -- -- -- --]"
       ]
      },
      {
       "output_type": "stream",
       "stream": "stdout",
       "text": [
        "\n",
        "[-- -- -- -- -- -- -- -- -- -- -- -- -- -- -- -- -- -- -- -- -- -- -- -- --\n",
        " -- -- -- -- -- -- -- -- -- -- -- -- -- -- -- -- -- -- -- -- -- -- -- -- --\n",
        " -- -- -- -- -- -- -- -- -- -- -- -- -- -- -- -- -- -- -- -- -- -- -- -- --\n",
        " -- -- -- -- -- -- -- -- -- -- -- -- -- -- -- -- -- -- -- -- -- -- -- -- --\n",
        " -- -- -- -- -- -- -- -- -- -- -- -- -- -- -- -- -- -- -- --]"
       ]
      },
      {
       "output_type": "stream",
       "stream": "stdout",
       "text": [
        "\n",
        "[-- -- -- -- -- -- -- -- -- -- -- -- -- -- -- -- -- -- -- -- -- -- -- -- --\n",
        " -- -- -- -- -- -- -- -- -- -- -- -- -- -- -- -- -- -- -- -- -- -- -- -- --\n",
        " -- -- -- -- -- -- -- -- -- -- -- -- -- -- -- -- -- -- -- -- -- -- -- -- --\n",
        " -- -- -- -- -- -- -- -- -- -- -- -- -- -- -- -- -- -- -- -- -- -- -- -- --\n",
        " -- -- -- -- -- -- -- -- -- -- -- -- -- -- -- -- -- -- -- --]"
       ]
      },
      {
       "output_type": "stream",
       "stream": "stdout",
       "text": [
        "\n",
        "http://hfrnet.ucsd.edu/thredds/dodsC/HFRNet/USWC/1km/hourly/RTV\n",
        "Near-Real Time Surfa"
       ]
      },
      {
       "output_type": "stream",
       "stream": "stdout",
       "text": [
        "\n",
        "('[Structured grid model]:', 'http://hfrnet.ucsd.edu/thredds/dodsC/HFRNet/USWC/1km/hourly/RTV')"
       ]
      },
      {
       "output_type": "stream",
       "stream": "stdout",
       "text": [
        "\n",
        "[-- -- -- -- -- -- -- -- -- -- -- -- -- -- -- -- -- -- -- -- -- -- -- -- --\n",
        " -- -- -- -- -- -- -- -- -- -- -- -- -- -- -- -- -- -- -- -- -- -- -- -- --\n",
        " -- -- -- -- -- -- -- -- -- -- -- -- -- -- -- -- -- -- -- -- -- -- -- -- --\n",
        " -- -- -- -- -- -- -- -- -- -- -- -- -- -- -- -- -- -- -- -- -- -- -- -- --\n",
        " -- -- -- -- -- -- -- -- -- -- -- -- -- -- -- -- -- -- -- --]"
       ]
      },
      {
       "output_type": "stream",
       "stream": "stdout",
       "text": [
        "\n",
        "[-- -- -- -- -- -- -- -- -- -- -- -- -- -- -- -- -- -- -- -- -- -- -- -- --\n",
        " -- -- -- -- -- -- -- -- -- -- -- -- -- -- -- -- -- -- -- -- -- -- -- -- --\n",
        " -- -- -- -- -- -- -- -- -- -- -- -- -- -- -- -- -- -- -- -- -- -- -- -- --\n",
        " -- -- -- -- -- -- -- -- -- -- -- -- -- -- -- -- -- -- -- -- -- -- -- -- --\n",
        " -- -- -- -- -- -- -- -- -- -- -- -- -- -- -- -- -- -- -- --]"
       ]
      },
      {
       "output_type": "stream",
       "stream": "stdout",
       "text": [
        "\n",
        "[-- -- -- -- -- -- -- -- -- -- -- -- -- -- -- -- -- -- -- -- -- -- -- -- --\n",
        " -- -- -- -- -- -- -- -- -- -- -- -- -- -- -- -- -- -- -- -- -- -- -- -- --\n",
        " -- -- -- -- -- -- -- -- -- -- -- -- -- -- -- -- -- -- -- -- -- -- -- -- --\n",
        " -- -- -- -- -- -- -- -- -- -- -- -- -- -- -- -- -- -- -- -- -- -- -- -- --\n",
        " -- -- -- -- -- -- -- -- -- -- -- -- -- -- -- -- -- -- -- --]"
       ]
      },
      {
       "output_type": "stream",
       "stream": "stdout",
       "text": [
        "\n",
        "[-- -- -- -- -- -- -- -- -- -- -- -- -- -- -- -- -- -- -- -- -- -- -- -- --\n",
        " -- -- -- -- -- -- -- -- -- -- -- -- -- -- -- -- -- -- -- -- -- -- -- -- --\n",
        " -- -- -- -- -- -- -- -- -- -- -- -- -- -- -- -- -- -- -- -- -- -- -- -- --\n",
        " -- -- -- -- -- -- -- -- -- -- -- -- -- -- -- -- -- -- -- -- -- -- -- -- --\n",
        " -- -- -- -- -- -- -- -- -- -- -- -- -- -- -- -- -- -- -- --]"
       ]
      },
      {
       "output_type": "stream",
       "stream": "stdout",
       "text": [
        "\n",
        "[-- -- -- -- -- -- -- -- -- -- -- -- -- -- -- -- -- -- -- -- -- -- -- -- --\n",
        " -- -- -- -- -- -- -- -- -- -- -- -- -- -- -- -- -- -- -- -- -- -- -- -- --\n",
        " -- -- -- -- -- -- -- -- -- -- -- -- -- -- -- -- -- -- -- -- -- -- -- -- --\n",
        " -- -- -- -- -- -- -- -- -- -- -- -- -- -- -- -- -- -- -- -- -- -- -- -- --\n",
        " -- -- -- -- -- -- -- -- -- -- -- -- -- -- -- -- -- -- -- --]"
       ]
      },
      {
       "output_type": "stream",
       "stream": "stdout",
       "text": [
        "\n",
        "[-- -- -- -- -- -- -- -- -- -- -- -- -- -- -- -- -- -- -- -- -- -- -- -- --\n",
        " -- -- -- -- -- -- -- -- -- -- -- -- -- -- -- -- -- -- -- -- -- -- -- -- --\n",
        " -- -- -- -- -- -- -- -- -- -- -- -- -- -- -- -- -- -- -- -- -- -- -- -- --\n",
        " -- -- -- -- -- -- -- -- -- -- -- -- -- -- -- -- -- -- -- -- -- -- -- -- --\n",
        " -- -- -- -- -- -- -- -- -- -- -- -- -- -- -- -- -- -- -- --]"
       ]
      },
      {
       "output_type": "stream",
       "stream": "stdout",
       "text": [
        "\n",
        "[-- -- -- -- -- -- -- -- -- -- -- -- -- -- -- -- -- -- -- -- -- -- -- -- --\n",
        " -- -- -- -- -- -- -- -- -- -- -- -- -- -- -- -- -- -- -- -- -- -- -- -- --\n",
        " -- -- -- -- -- -- -- -- -- -- -- -- -- -- -- -- -- -- -- -- -- -- -- -- --\n",
        " -- -- -- -- -- -- -- -- -- -- -- -- -- -- -- -- -- -- -- -- -- -- -- -- --\n",
        " -- -- -- -- -- -- -- -- -- -- -- -- -- -- -- -- -- -- -- --]"
       ]
      },
      {
       "output_type": "stream",
       "stream": "stdout",
       "text": [
        "\n",
        "http://hfrnet.ucsd.edu/thredds/dodsC/HFRNet/USWC/2km/hourly/GNOME\n",
        "Near-Real Time Surfa"
       ]
      },
      {
       "output_type": "stream",
       "stream": "stdout",
       "text": [
        "\n",
        "('[Structured grid model]:', 'http://hfrnet.ucsd.edu/thredds/dodsC/HFRNet/USWC/2km/hourly/GNOME')"
       ]
      },
      {
       "output_type": "stream",
       "stream": "stdout",
       "text": [
        "\n",
        "[-- -- -- -- -- -- -- -- -- -- -- -- -- -- -- -- -- -- -- -- -- -- -- -- --\n",
        " -- -- -- -- -- -- -- -- -- -- -- -- -- -- -- -- -- -- -- -- -- -- -- -- --\n",
        " -- -- -- -- -- -- -- -- -- -- -- -- -- -- -- -- -- -- -- -- -- -- -- -- --\n",
        " -- -- -- -- -- -- -- -- -- -- -- -- -- -- -- -- -- -- -- -- -- -- -- -- --\n",
        " -- -- -- -- -- -- -- -- -- -- -- -- -- -- --]"
       ]
      },
      {
       "output_type": "stream",
       "stream": "stdout",
       "text": [
        "\n",
        "[-- -- -- -- -- -- -- -- -- -- -- -- -- -- -- -- -- -- -- -- -- -- -- -- --\n",
        " -- -- -- -- -- -- -- -- -- -- -- -- -- -- -- -- -- -- -- -- -- -- -- -- --\n",
        " -- -- -- -- -- -- -- -- -- -- -- -- -- -- -- -- -- -- -- -- -- -- -- -- --\n",
        " -- -- -- -- -- -- -- -- -- -- -- -- -- -- -- -- -- -- -- -- -- -- -- -- --\n",
        " -- -- -- -- -- -- -- -- -- -- -- -- -- -- --]"
       ]
      },
      {
       "output_type": "stream",
       "stream": "stdout",
       "text": [
        "\n",
        "[-- -- -- -- -- -- -- -- -- -- -- -- -- -- -- -- -- -- -- -- -- -- -- -- --\n",
        " -- -- -- -- -- -- -- -- -- -- -- -- -- -- -- -- -- -- -- -- -- -- -- -- --\n",
        " -- -- -- -- -- -- -- -- -- -- -- -- -- -- -- -- -- -- -- -- -- -- -- -- --\n",
        " -- -- -- -- -- -- -- -- -- -- -- -- -- -- -- -- -- -- -- -- -- -- -- -- --\n",
        " -- -- -- -- -- -- -- -- -- -- -- -- -- -- --]"
       ]
      },
      {
       "output_type": "stream",
       "stream": "stdout",
       "text": [
        "\n",
        "[-- -- -- -- -- -- -- -- -- -- -- -- -- -- -- -- -- -- -- -- -- -- -- -- --\n",
        " -- -- -- -- -- -- -- -- -- -- -- -- -- -- -- -- -- -- -- -- -- -- -- -- --\n",
        " -- -- -- -- -- -- -- -- -- -- -- -- -- -- -- -- -- -- -- -- -- -- -- -- --\n",
        " -- -- -- -- -- -- -- -- -- -- -- -- -- -- -- -- -- -- -- -- -- -- -- -- --\n",
        " -- -- -- -- -- -- -- -- -- -- -- -- -- -- --]"
       ]
      },
      {
       "output_type": "stream",
       "stream": "stdout",
       "text": [
        "\n",
        "[-- -- -- -- -- -- -- -- -- -- -- -- -- -- -- -- -- -- -- -- -- -- -- -- --\n",
        " -- -- -- -- -- -- -- -- -- -- -- -- -- -- -- -- -- -- -- -- -- -- -- -- --\n",
        " -- -- -- -- -- -- -- -- -- -- -- -- -- -- -- -- -- -- -- -- -- -- -- -- --\n",
        " -- -- -- -- -- -- -- -- -- -- -- -- -- -- -- -- -- -- -- -- -- -- -- -- --\n",
        " -- -- -- -- -- -- -- -- -- -- -- -- -- -- --]"
       ]
      },
      {
       "output_type": "stream",
       "stream": "stdout",
       "text": [
        "\n",
        "[-- -- -- -- -- -- -- -- -- -- -- -- -- -- -- -- -- -- -- -- -- -- -- -- --\n",
        " -- -- -- -- -- -- -- -- -- -- -- -- -- -- -- -- -- -- -- -- -- -- -- -- --\n",
        " -- -- -- -- -- -- -- -- -- -- -- -- -- -- -- -- -- -- -- -- -- -- -- -- --\n",
        " -- -- -- -- -- -- -- -- -- -- -- -- -- -- -- -- -- -- -- -- -- -- -- -- --\n",
        " -- -- -- -- -- -- -- -- -- -- -- -- -- -- --]"
       ]
      },
      {
       "output_type": "stream",
       "stream": "stdout",
       "text": [
        "\n",
        "[0.05999999865889549 0.04999999701976776 0.10999999940395355\n",
        " 0.07999999821186066 0.14000000059604645 0.09999999403953552\n",
        " 0.11999999731779099 0.09999999403953552 0.09999999403953552\n",
        " 0.05999999865889549 0.009999999776482582 -0.07000000029802322\n",
        " -0.07999999821186066 -0.03999999910593033 -0.019999999552965164\n",
        " -0.019999999552965164 0.019999999552965164 0.03999999910593033\n",
        " -0.009999999776482582 0.009999999776482582 0.029999999329447746\n",
        " 0.009999999776482582 0.03999999910593033 0.07999999821186066\n",
        " 0.07999999821186066 0.12999999523162842 0.1599999964237213\n",
        " 0.17000000178813934 0.17999999225139618 0.17000000178813934\n",
        " 0.11999999731779099 0.1899999976158142 0.14000000059604645\n",
        " 0.09999999403953552 0.07000000029802322 0.04999999701976776 --\n",
        " -0.08999999612569809 -0.05999999865889549 0.03999999910593033\n",
        " 0.03999999910593033 0.05999999865889549 -0.029999999329447746\n",
        " 0.08999999612569809 0.07999999821186066 0.17000000178813934\n",
        " 0.1899999976158142 0.20999999344348907 0.19999998807907104\n",
        " 0.1899999976158142 0.28999999165534973 0.26999998092651367\n",
        " 0.22999998927116394 0.1899999976158142 0.17999999225139618 -- -- --\n",
        " 0.11999999731779099 0.0 0.04999999701976776 0.04999999701976776\n",
        " 0.03999999910593033 0.09999999403953552 0.14999999105930328\n",
        " 0.11999999731779099 0.1599999964237213 0.17000000178813934\n",
        " 0.1899999976158142 0.19999998807907104 0.17000000178813934\n",
        " 0.17999999225139618 0.14999999105930328 0.17000000178813934\n",
        " 0.17000000178813934 0.14000000059604645 0.14999999105930328\n",
        " 0.14999999105930328 0.09999999403953552 0.14999999105930328\n",
        " 0.05999999865889549 0.08999999612569809 -0.029999999329447746\n",
        " -0.009999999776482582 -0.03999999910593033 0.0 -0.03999999910593033\n",
        " 0.009999999776482582 0.05999999865889549 0.14999999105930328\n",
        " 0.17999999225139618 0.1599999964237213 0.17999999225139618\n",
        " 0.14000000059604645 0.14000000059604645 0.03999999910593033\n",
        " 0.03999999910593033 -0.019999999552965164 -0.009999999776482582\n",
        " -0.029999999329447746 0.03999999910593033 0.03999999910593033\n",
        " 0.07000000029802322 0.03999999910593033 0.05999999865889549\n",
        " 0.009999999776482582 0.0 0.009999999776482582 -0.04999999701976776\n",
        " -0.04999999701976776 -0.11999999731779099 -0.04999999701976776\n",
        " -0.009999999776482582 0.07000000029802322 0.009999999776482582]"
       ]
      },
      {
       "output_type": "stream",
       "stream": "stdout",
       "text": [
        "\n",
        "http://hfrnet.ucsd.edu/thredds/dodsC/HFRNet/USWC/2km/hourly/RTV\n",
        "Near-Real Time Surfa"
       ]
      },
      {
       "output_type": "stream",
       "stream": "stdout",
       "text": [
        "\n",
        "('[Structured grid model]:', 'http://hfrnet.ucsd.edu/thredds/dodsC/HFRNet/USWC/2km/hourly/RTV')"
       ]
      },
      {
       "output_type": "stream",
       "stream": "stdout",
       "text": [
        "\n",
        "[-- -- -- -- -- -- -- -- -- -- -- -- -- -- -- -- -- -- -- -- -- -- -- -- --\n",
        " -- -- -- -- -- -- -- -- -- -- -- -- -- -- -- -- -- -- -- -- -- -- -- -- --\n",
        " -- -- -- -- -- -- -- -- -- -- -- -- -- -- -- -- -- -- -- -- -- -- -- -- --\n",
        " -- -- -- -- -- -- -- -- -- -- -- -- -- -- -- -- -- -- -- -- -- -- -- -- --\n",
        " -- -- -- -- -- -- -- -- -- -- -- -- -- -- --]"
       ]
      },
      {
       "output_type": "stream",
       "stream": "stdout",
       "text": [
        "\n",
        "[-- -- -- -- -- -- -- -- -- -- -- -- -- -- -- -- -- -- -- -- -- -- -- -- --\n",
        " -- -- -- -- -- -- -- -- -- -- -- -- -- -- -- -- -- -- -- -- -- -- -- -- --\n",
        " -- -- -- -- -- -- -- -- -- -- -- -- -- -- -- -- -- -- -- -- -- -- -- -- --\n",
        " -- -- -- -- -- -- -- -- -- -- -- -- -- -- -- -- -- -- -- -- -- -- -- -- --\n",
        " -- -- -- -- -- -- -- -- -- -- -- -- -- -- --]"
       ]
      },
      {
       "output_type": "stream",
       "stream": "stdout",
       "text": [
        "\n",
        "[-- -- -- -- -- -- -- -- -- -- -- -- -- -- -- -- -- -- -- -- -- -- -- -- --\n",
        " -- -- -- -- -- -- -- -- -- -- -- -- -- -- -- -- -- -- -- -- -- -- -- -- --\n",
        " -- -- -- -- -- -- -- -- -- -- -- -- -- -- -- -- -- -- -- -- -- -- -- -- --\n",
        " -- -- -- -- -- -- -- -- -- -- -- -- -- -- -- -- -- -- -- -- -- -- -- -- --\n",
        " -- -- -- -- -- -- -- -- -- -- -- -- -- -- --]"
       ]
      },
      {
       "output_type": "stream",
       "stream": "stdout",
       "text": [
        "\n",
        "[-- -- -- -- -- -- -- -- -- -- -- -- -- -- -- -- -- -- -- -- -- -- -- -- --\n",
        " -- -- -- -- -- -- -- -- -- -- -- -- -- -- -- -- -- -- -- -- -- -- -- -- --\n",
        " -- -- -- -- -- -- -- -- -- -- -- -- -- -- -- -- -- -- -- -- -- -- -- -- --\n",
        " -- -- -- -- -- -- -- -- -- -- -- -- -- -- -- -- -- -- -- -- -- -- -- -- --\n",
        " -- -- -- -- -- -- -- -- -- -- -- -- -- -- --]"
       ]
      },
      {
       "output_type": "stream",
       "stream": "stdout",
       "text": [
        "\n",
        "[-- -- -- -- -- -- -- -- -- -- -- -- -- -- -- -- -- -- -- -- -- -- -- -- --\n",
        " -- -- -- -- -- -- -- -- -- -- -- -- -- -- -- -- -- -- -- -- -- -- -- -- --\n",
        " -- -- -- -- -- -- -- -- -- -- -- -- -- -- -- -- -- -- -- -- -- -- -- -- --\n",
        " -- -- -- -- -- -- -- -- -- -- -- -- -- -- -- -- -- -- -- -- -- -- -- -- --\n",
        " -- -- -- -- -- -- -- -- -- -- -- -- -- -- --]"
       ]
      },
      {
       "output_type": "stream",
       "stream": "stdout",
       "text": [
        "\n",
        "[-- -- -- -- -- -- -- -- -- -- -- -- -- -- -- -- -- -- -- -- -- -- -- -- --\n",
        " -- -- -- -- -- -- -- -- -- -- -- -- -- -- -- -- -- -- -- -- -- -- -- -- --\n",
        " -- -- -- -- -- -- -- -- -- -- -- -- -- -- -- -- -- -- -- -- -- -- -- -- --\n",
        " -- -- -- -- -- -- -- -- -- -- -- -- -- -- -- -- -- -- -- -- -- -- -- -- --\n",
        " -- -- -- -- -- -- -- -- -- -- -- -- -- -- --]"
       ]
      },
      {
       "output_type": "stream",
       "stream": "stdout",
       "text": [
        "\n",
        "[0.05999999865889549 0.04999999701976776 0.10999999940395355\n",
        " 0.07999999821186066 0.14000000059604645 0.09999999403953552\n",
        " 0.11999999731779099 0.09999999403953552 0.09999999403953552\n",
        " 0.05999999865889549 0.009999999776482582 -0.07000000029802322\n",
        " -0.07999999821186066 -0.03999999910593033 -0.019999999552965164\n",
        " -0.019999999552965164 0.019999999552965164 0.03999999910593033\n",
        " -0.009999999776482582 0.009999999776482582 0.029999999329447746\n",
        " 0.009999999776482582 0.03999999910593033 0.07999999821186066\n",
        " 0.07999999821186066 0.12999999523162842 0.1599999964237213\n",
        " 0.17000000178813934 0.17999999225139618 0.17000000178813934\n",
        " 0.11999999731779099 0.1899999976158142 0.14000000059604645\n",
        " 0.09999999403953552 0.07000000029802322 0.04999999701976776 --\n",
        " -0.08999999612569809 -0.05999999865889549 0.03999999910593033\n",
        " 0.03999999910593033 0.05999999865889549 -0.029999999329447746\n",
        " 0.08999999612569809 0.07999999821186066 0.17000000178813934\n",
        " 0.1899999976158142 0.20999999344348907 0.19999998807907104\n",
        " 0.1899999976158142 0.28999999165534973 0.26999998092651367\n",
        " 0.22999998927116394 0.1899999976158142 0.17999999225139618 -- -- --\n",
        " 0.11999999731779099 0.0 0.04999999701976776 0.04999999701976776\n",
        " 0.03999999910593033 0.09999999403953552 0.14999999105930328\n",
        " 0.11999999731779099 0.1599999964237213 0.17000000178813934\n",
        " 0.1899999976158142 0.19999998807907104 0.17000000178813934\n",
        " 0.17999999225139618 0.14999999105930328 0.17000000178813934\n",
        " 0.17000000178813934 0.14000000059604645 0.14999999105930328\n",
        " 0.14999999105930328 0.09999999403953552 0.14999999105930328\n",
        " 0.05999999865889549 0.08999999612569809 -0.029999999329447746\n",
        " -0.009999999776482582 -0.03999999910593033 0.0 -0.03999999910593033\n",
        " 0.009999999776482582 0.05999999865889549 0.14999999105930328\n",
        " 0.17999999225139618 0.1599999964237213 0.17999999225139618\n",
        " 0.14000000059604645 0.14000000059604645 0.03999999910593033\n",
        " 0.03999999910593033 -0.019999999552965164 -0.009999999776482582\n",
        " -0.029999999329447746 0.03999999910593033 0.03999999910593033\n",
        " 0.07000000029802322 0.03999999910593033 0.05999999865889549\n",
        " 0.009999999776482582 0.0 0.009999999776482582 -0.04999999701976776\n",
        " -0.04999999701976776 -0.11999999731779099 -0.04999999701976776\n",
        " -0.009999999776482582 0.07000000029802322 0.009999999776482582]"
       ]
      },
      {
       "output_type": "stream",
       "stream": "stdout",
       "text": [
        "\n",
        "http://hfrnet.ucsd.edu/thredds/dodsC/HFRNet/USWC/500m/hourly/GNOME\n",
        "Near-Real Time Surfa"
       ]
      },
      {
       "output_type": "stream",
       "stream": "stdout",
       "text": [
        "\n",
        "('[Structured grid model]:', 'http://hfrnet.ucsd.edu/thredds/dodsC/HFRNet/USWC/500m/hourly/GNOME')"
       ]
      },
      {
       "output_type": "stream",
       "stream": "stdout",
       "text": [
        "\n",
        "[-- -- -- -- -- -- -- -- -- -- -- -- -- -- -- -- -- -- -- -- -- -- -- -- --\n",
        " -- -- -- -- -- -- -- -- -- -- -- -- -- -- -- -- -- -- -- -- -- -- -- -- --\n",
        " -- -- -- -- -- -- -- -- -- -- -- -- -- -- -- -- -- -- -- -- -- -- -- -- --\n",
        " -- -- -- -- -- -- -- -- -- -- -- -- -- -- -- -- -- -- -- -- -- -- -- -- --\n",
        " -- -- -- -- -- -- -- -- -- -- -- -- -- -- -- -- -- -- -- --]"
       ]
      },
      {
       "output_type": "stream",
       "stream": "stdout",
       "text": [
        "\n",
        "http://hfrnet.ucsd.edu/thredds/dodsC/HFRNet/USWC/500m/hourly/RTV\n",
        "Near-Real Time Surfa"
       ]
      },
      {
       "output_type": "stream",
       "stream": "stdout",
       "text": [
        "\n",
        "('[Structured grid model]:', 'http://hfrnet.ucsd.edu/thredds/dodsC/HFRNet/USWC/500m/hourly/RTV')"
       ]
      },
      {
       "output_type": "stream",
       "stream": "stdout",
       "text": [
        "\n",
        "[-- -- -- -- -- -- -- -- -- -- -- -- -- -- -- -- -- -- -- -- -- -- -- -- --\n",
        " -- -- -- -- -- -- -- -- -- -- -- -- -- -- -- -- -- -- -- -- -- -- -- -- --\n",
        " -- -- -- -- -- -- -- -- -- -- -- -- -- -- -- -- -- -- -- -- -- -- -- -- --\n",
        " -- -- -- -- -- -- -- -- -- -- -- -- -- -- -- -- -- -- -- -- -- -- -- -- --\n",
        " -- -- -- -- -- -- -- -- -- -- -- -- -- -- -- -- -- -- -- --]"
       ]
      },
      {
       "output_type": "stream",
       "stream": "stdout",
       "text": [
        "\n",
        "http://hfrnet.ucsd.edu/thredds/dodsC/HFRNet/USWC/6km/hourly/GNOME\n",
        "Near-Real Time Surfa"
       ]
      },
      {
       "output_type": "stream",
       "stream": "stdout",
       "text": [
        "\n",
        "('[Structured grid model]:', 'http://hfrnet.ucsd.edu/thredds/dodsC/HFRNet/USWC/6km/hourly/GNOME')"
       ]
      },
      {
       "output_type": "stream",
       "stream": "stdout",
       "text": [
        "\n",
        "[-- -- -- -- -- -- -- -- -- -- -- -- -- -- -- -- -- -- -- -- -- -- -- -- --\n",
        " -- -- -- -- -- -- -- -- -- -- -- -- -- -- -- -- -- -- -- -- -- -- -- -- --\n",
        " -- -- -- -- -- -- -- -- -- -- -- -- -- -- -- -- -- -- -- -- -- -- -- -- --\n",
        " -- -- -- -- -- -- -- -- -- -- -- -- -- -- -- -- -- -- -- -- -- -- -- -- --\n",
        " -- -- -- -- -- -- -- -- -- -- -- -- -- -- -- -- -- -- -- --]"
       ]
      },
      {
       "output_type": "stream",
       "stream": "stdout",
       "text": [
        "\n",
        "[-0.6499999761581421 -0.5 -0.5199999809265137 -0.38999998569488525\n",
        " -0.4099999964237213 -0.3799999952316284 -0.019999999552965164\n",
        " -0.1899999976158142 0.19999998807907104 -- 0.23999999463558197 -- -- -- --\n",
        " -- -- -- -- -- -0.6899999976158142 -- -- -- -- -- -- -- --\n",
        " -0.04999999701976776 -0.03999999910593033 -- -- -- -- -- -- -- -- -- -- --\n",
        " -- -- -- -- -- -- -- -- -- -- -- -0.3100000023841858 --\n",
        " -0.35999998450279236 -- -- -- -- -- -- -- -- -- -- -- -- -- -- -- -- -- --\n",
        " -- -0.19999998807907104 -0.029999999329447746 -0.11999999731779099\n",
        " -0.08999999612569809 0.08999999612569809 0.29999998211860657 -- -- -- --\n",
        " -- -- -- -- -- 0.11999999731779099 0.2800000011920929 --\n",
        " 0.1599999964237213 0.4599999785423279 0.3100000023841858\n",
        " 0.2800000011920929 0.19999998807907104 0.12999999523162842\n",
        " 0.12999999523162842 0.25999999046325684 0.09999999403953552\n",
        " 0.07999999821186066 0.07000000029802322 0.1899999976158142\n",
        " 0.3100000023841858 0.32999998331069946 -- 0.10999999940395355 --\n",
        " 0.32999998331069946 -- -- -- -- -0.03999999910593033 0.019999999552965164\n",
        " 0.17000000178813934 0.1899999976158142 --]"
       ]
      },
      {
       "output_type": "stream",
       "stream": "stdout",
       "text": [
        "\n",
        "http://hfrnet.ucsd.edu/thredds/dodsC/HFRNet/USWC/6km/hourly/RTV\n",
        "Near-Real Time Surfa"
       ]
      },
      {
       "output_type": "stream",
       "stream": "stdout",
       "text": [
        "\n",
        "('[Structured grid model]:', 'http://hfrnet.ucsd.edu/thredds/dodsC/HFRNet/USWC/6km/hourly/RTV')"
       ]
      },
      {
       "output_type": "stream",
       "stream": "stdout",
       "text": [
        "\n",
        "[-- -- -- -- -- -- -- -- -- -- -- -- -- -- -- -- -- -- -- -- -- -- -- -- --\n",
        " -- -- -- -- -- -- -- -- -- -- -- -- -- -- -- -- -- -- -- -- -- -- -- -- --\n",
        " -- -- -- -- -- -- -- -- -- -- -- -- -- -- -- -- -- -- -- -- -- -- -- -- --\n",
        " -- -- -- -- -- -- -- -- -- -- -- -- -- -- -- -- -- -- -- -- -- -- -- -- --\n",
        " -- -- -- -- -- -- -- -- -- -- -- -- -- -- -- -- -- -- -- --]"
       ]
      },
      {
       "output_type": "stream",
       "stream": "stdout",
       "text": [
        "\n",
        "[-0.6499999761581421 -0.5 -0.5199999809265137 -0.38999998569488525\n",
        " -0.4099999964237213 -0.3799999952316284 -0.019999999552965164\n",
        " -0.1899999976158142 0.19999998807907104 -- 0.23999999463558197 -- -- -- --\n",
        " -- -- -- -- -- -0.6899999976158142 -- -- -- -- -- -- -- --\n",
        " -0.04999999701976776 -0.03999999910593033 -- -- -- -- -- -- -- -- -- -- --\n",
        " -- -- -- -- -- -- -- -- -- -- -- -0.3100000023841858 --\n",
        " -0.35999998450279236 -- -- -- -- -- -- -- -- -- -- -- -- -- -- -- -- -- --\n",
        " -- -0.19999998807907104 -0.029999999329447746 -0.11999999731779099\n",
        " -0.08999999612569809 0.08999999612569809 0.29999998211860657 -- -- -- --\n",
        " -- -- -- -- -- 0.11999999731779099 0.2800000011920929 --\n",
        " 0.1599999964237213 0.4599999785423279 0.3100000023841858\n",
        " 0.2800000011920929 0.19999998807907104 0.12999999523162842\n",
        " 0.12999999523162842 0.25999999046325684 0.09999999403953552\n",
        " 0.07999999821186066 0.07000000029802322 0.1899999976158142\n",
        " 0.3100000023841858 0.32999998331069946 -- 0.10999999940395355 --\n",
        " 0.32999998331069946 -- -- -- -- -0.03999999910593033 0.019999999552965164\n",
        " 0.17000000178813934 0.1899999976158142 --]"
       ]
      },
      {
       "output_type": "stream",
       "stream": "stdout",
       "text": [
        "\n",
        "http://oos.soest.hawaii.edu/thredds/dodsC/hioos/tide_pac\n",
        "http://oos.soest.hawaii.edu/thredds/dodsC/pacioos/hycom/global"
       ]
      },
      {
       "output_type": "stream",
       "stream": "stderr",
       "text": [
        "-c:91: UserWarning: \n",
        "no cubes found\n",
        "\n",
        "-c:91: UserWarning: \n",
        "NetCDF: Malformed or inaccessible DAP DDS\n",
        "\n"
       ]
      },
      {
       "output_type": "stream",
       "stream": "stdout",
       "text": [
        "\n",
        "http://oos.soest.hawaii.edu/thredds/dodsC/pacioos/scud/pac"
       ]
      },
      {
       "output_type": "stream",
       "stream": "stdout",
       "text": [
        "\n"
       ]
      },
      {
       "output_type": "stream",
       "stream": "stderr",
       "text": [
        "Exception AttributeError: \"'CFReader' object has no attribute '_dataset'\" in <bound method CFReader.__del__ of CFReader('http://oos.soest.hawaii.edu/thredds/dodsC/pacioos/hycom/global')> ignored\n"
       ]
      }
     ],
     "prompt_number": 262
    },
    {
     "cell_type": "markdown",
     "metadata": {},
     "source": [
      "#### Map"
     ]
    },
    {
     "cell_type": "code",
     "collapsed": false,
     "input": [
      "station =  st_list[st_list.keys()[0]]\n",
      "map = folium.Map(location=[station[\"lat\"], station[\"lon\"]], zoom_start=5)\n",
      "map.line(get_coordinates(bounding_box, bounding_box_type), line_color='#FF0000', line_weight=5)\n",
      "for st in st_list:\n",
      "    map.simple_marker([st_list[st][\"lat\"], st_list[st][\"lon\"]], popup=st)"
     ],
     "language": "python",
     "metadata": {},
     "outputs": [],
     "prompt_number": 257
    },
    {
     "cell_type": "code",
     "collapsed": false,
     "input": [
      "inline_map(map)"
     ],
     "language": "python",
     "metadata": {},
     "outputs": [
      {
       "html": [
        "<iframe srcdoc=\"<!DOCTYPE html>\n",
        "<head>\n",
        "   <meta http-equiv=&quot;content-type&quot; content=&quot;text/html; charset=UTF-8&quot; />\n",
        "   <link rel=&quot;stylesheet&quot; href=&quot;http://cdn.leafletjs.com/leaflet-0.7.2/leaflet.css&quot; />\n",
        "   <script src=&quot;http://cdn.leafletjs.com/leaflet-0.7.2/leaflet.js&quot;></script>\n",
        "\n",
        "   \n",
        "   \n",
        "   \n",
        "   \n",
        "\n",
        "\n",
        "   <style>\n",
        "\n",
        "      #map {\n",
        "        position:absolute;\n",
        "        top:0;\n",
        "        bottom:0;\n",
        "        right:0;\n",
        "        left:0;\n",
        "      }\n",
        "\n",
        "   </style>\n",
        "</head>\n",
        "\n",
        "<body>\n",
        "\n",
        "   <div class=&quot;folium-map&quot; id=&quot;folium_22311585bb674493aecbd09cc2af5ce7&quot; style=&quot;width: 960px; height: 500px&quot;></div>\n",
        "\n",
        "   <script>\n",
        "\n",
        "      \n",
        "\n",
        "      var map = L.map('folium_22311585bb674493aecbd09cc2af5ce7').setView([49.89, -124.73], 5);\n",
        "\n",
        "      L.tileLayer('http://{s}.tile.openstreetmap.org/{z}/{x}/{y}.png', {\n",
        "          maxZoom: 18,\n",
        "          attribution: 'Map data (c) <a href=&quot;http://openstreetmap.org&quot;>OpenStreetMap</a> contributors'\n",
        "      }).addTo(map);\n",
        "\n",
        "      \n",
        "      var marker_1 = L.marker([49.89, -124.73]);\n",
        "      marker_1.bindPopup(&quot;urn:ioos:station:wmo:46087&quot;);\n",
        "      map.addLayer(marker_1)\n",
        "      \n",
        "      var marker_2 = L.marker([40.78, -124.54]);\n",
        "      marker_2.bindPopup(&quot;urn:ioos:station:wmo:46022&quot;);\n",
        "      map.addLayer(marker_2)\n",
        "      \n",
        "      var marker_3 = L.marker([42.76, -124.83]);\n",
        "      marker_3.bindPopup(&quot;urn:ioos:station:wmo:46015&quot;);\n",
        "      map.addLayer(marker_3)\n",
        "      \n",
        "      var marker_4 = L.marker([46.14, -124.51]);\n",
        "      marker_4.bindPopup(&quot;urn:ioos:station:wmo:46029&quot;);\n",
        "      map.addLayer(marker_4)\n",
        "      \n",
        "      var marker_5 = L.marker([48.33, -123.17]);\n",
        "      marker_5.bindPopup(&quot;urn:ioos:station:wmo:46088&quot;);\n",
        "      map.addLayer(marker_5)\n",
        "      \n",
        "      var marker_6 = L.marker([45.91, -125.76]);\n",
        "      marker_6.bindPopup(&quot;urn:ioos:station:wmo:46089&quot;);\n",
        "      map.addLayer(marker_6)\n",
        "      \n",
        "      var marker_7 = L.marker([38.23, -123.32]);\n",
        "      marker_7.bindPopup(&quot;urn:ioos:station:wmo:46013&quot;);\n",
        "      map.addLayer(marker_7)\n",
        "      \n",
        "\n",
        "      \n",
        "      var latLngs = [ [38, -130],  [38, -121],  [50, -121],  [50, -130],  [38, -130], ];\n",
        "var line_1 = L.polyline(latLngs,{\n",
        "color: '#FF0000',\n",
        "weight: 5,\n",
        "\n",
        "});\n",
        "      map.addLayer(line_1);\n",
        "      \n",
        "\n",
        "      \n",
        "\n",
        "      \n",
        "\n",
        "   </script>\n",
        "\n",
        "</body>\" style=\"width: 100%; height: 500px; border: none\"></iframe>"
       ],
       "metadata": {},
       "output_type": "pyout",
       "prompt_number": 258,
       "text": [
        "<IPython.core.display.HTML at 0x10b921050>"
       ]
      }
     ],
     "prompt_number": 258
    },
    {
     "cell_type": "code",
     "collapsed": false,
     "input": [],
     "language": "python",
     "metadata": {},
     "outputs": [],
     "prompt_number": 205
    }
   ],
   "metadata": {}
  }
 ]
}