{
 "metadata": {
  "name": "",
  "signature": "sha256:fde68a13864c4450923a9a9e519bd041df1076b966d07bfab403329f3b64e4f4"
 },
 "nbformat": 3,
 "nbformat_minor": 0,
 "worksheets": [
  {
   "cells": [
    {
     "cell_type": "markdown",
     "metadata": {},
     "source": [
      "# IOOS System Test: [Extreme Events Theme]\n",
      "(https://github.com/ioos/system-test/wiki/Development-of-Test-Themes#\n",
      "wiki-theme-2-extreme-events):  Inundation\n",
      "\n",
      "### Compare modeled water levels with observations for a specified bounding box\n",
      "and time period using IOOS recommended service standards for catalog search\n",
      "(CSW) and data retrieval (OPeNDAP & SOS).\n",
      "\n",
      "* Query CSW to find datasets that match criteria\n",
      "* Extract OPeNDAP data endpoints from model datasets and SOS endpoints from\n",
      "  observational datasets\n",
      "* OPeNDAP model datasets will be granules\n",
      "* SOS endpoints may be datasets (from ncSOS) or collections of datasets (from\n",
      "  NDBC, CO-OPS SOS servers)\n",
      "* Filter SOS services to obtain datasets\n",
      "* Extract data from SOS datasets\n",
      "* Extract data from model datasets at locations of observations\n",
      "* Compare time series data on same vertical datum"
     ]
    },
    {
     "cell_type": "code",
     "collapsed": false,
     "input": [
      "# Standard Library.\n",
      "from warnings import warn\n",
      "from datetime import datetime, timedelta\n",
      "\n",
      "# Scientific stack.\n",
      "import iris\n",
      "import numpy as np\n",
      "import cartopy.crs as ccrs\n",
      "import matplotlib.pyplot as plt\n",
      "from matplotlib.transforms import offset_copy\n",
      "from cartopy.io.img_tiles import MapQuestOpenAerial\n",
      "from pandas import DataFrame, date_range, read_csv, concat\n",
      "\n",
      "from iris.exceptions import CoordinateNotFoundError, ConstraintMismatchError\n",
      "\n",
      "# Custom IOOS/ASA modules (available at PyPI).\n",
      "from owslib import fes\n",
      "from owslib.csw import CatalogueServiceWeb\n",
      "from pyoos.collectors.coops.coops_sos import CoopsSos\n",
      "\n",
      "# Local imports\n",
      "from utilities import name_list, sos_name\n",
      "from utilities import (dateRange, coops2df, find_timevar, find_ij, nearxy,\n",
      "                       service_urls, mod_df)"
     ],
     "language": "python",
     "metadata": {
      "input_collapsed": false
     },
     "outputs": [],
     "prompt_number": 4
    },
    {
     "cell_type": "markdown",
     "metadata": {},
     "source": [
      "### Specify a time range and bounding box of interest:"
     ]
    },
    {
     "cell_type": "code",
     "collapsed": false,
     "input": [
      "dates = {'Hurricane sandy':\n",
      "         [datetime(2012, 10, 26), datetime(2012, 11, 2)],\n",
      "         '2014 Feb 10-15 Storm':\n",
      "         [datetime(2014, 2, 10), datetime(2014, 2, 15)],\n",
      "         '2014 Recent': [datetime(2014, 3, 8), datetime(2014, 3, 11)],\n",
      "         '2011': [datetime(2013, 4, 20), datetime(2013, 4, 24)]}\n",
      "\n",
      "jd_now = datetime.utcnow()\n",
      "jd_start,  jd_stop = jd_now - timedelta(days=3), jd_now + timedelta(days=3)\n",
      "\n",
      "start_date = jd_start.strftime('%Y-%m-%d %H:00')\n",
      "stop_date = jd_stop.strftime('%Y-%m-%d %H:00')\n",
      "\n",
      "jd_start = datetime.strptime(start_date, '%Y-%m-%d %H:%M')\n",
      "jd_stop = datetime.strptime(stop_date, '%Y-%m-%d %H:%M')\n",
      "\n",
      "print('%s to %s' % (start_date, stop_date))"
     ],
     "language": "python",
     "metadata": {
      "code_folding": []
     },
     "outputs": [
      {
       "output_type": "stream",
       "stream": "stdout",
       "text": [
        "2014-05-18 15:00 to 2014-05-24 15:00\n"
       ]
      }
     ],
     "prompt_number": 5
    },
    {
     "cell_type": "code",
     "collapsed": false,
     "input": [
      "# Bounding Box [lon_min, lat_min, lon_max, lat_max]\n",
      "area = {'Hawaii': [-160.0, 18.0, -154., 23.0],\n",
      "        'Gulf of Maine': [-72.0, 41.0, -69.0, 43.0],\n",
      "        'New York harbor region': [-75., 39., -71., 41.5]}\n",
      "\n",
      "box = area['New York harbor region']"
     ],
     "language": "python",
     "metadata": {
      "code_folding": []
     },
     "outputs": [],
     "prompt_number": 6
    },
    {
     "cell_type": "markdown",
     "metadata": {},
     "source": [
      "### Search CSW for datasets of interest"
     ]
    },
    {
     "cell_type": "code",
     "collapsed": false,
     "input": [
      "if False:\n",
      "    from IPython.core.display import HTML\n",
      "    url = 'http://www.ngdc.noaa.gov/geoportal/'\n",
      "    HTML('<iframe src=%s width=950 height=400></iframe>' % url)"
     ],
     "language": "python",
     "metadata": {
      "code_folding": []
     },
     "outputs": [],
     "prompt_number": 7
    },
    {
     "cell_type": "code",
     "collapsed": false,
     "input": [
      "# Connect to CSW, explore it's properties.\n",
      "CSW = {'NGDC Geoportal':\n",
      "       'http://www.ngdc.noaa.gov/geoportal/csw',\n",
      "       'USGS WHSC Geoportal':\n",
      "       'http://geoport.whoi.edu/geoportal/csw',\n",
      "       'NODC Geoportal: granule level':\n",
      "       'http://www.nodc.noaa.gov/geoportal/csw',\n",
      "       'NODC Geoportal: collection level':\n",
      "       'http://data.nodc.noaa.gov/geoportal/csw',\n",
      "       'NRCAN CUSTOM':\n",
      "       'http://geodiscover.cgdi.ca/wes/serviceManagerCSW/csw',\n",
      "       'USGS Woods Hole GI_CAT':\n",
      "       'http://geoport.whoi.edu/gi-cat/services/cswiso',\n",
      "       'USGS CIDA Geonetwork':\n",
      "       'http://cida.usgs.gov/gdp/geonetwork/srv/en/csw',\n",
      "       'USGS Coastal and Marine Program':\n",
      "       'http://cmgds.marine.usgs.gov/geonetwork/srv/en/csw',\n",
      "       'USGS Woods Hole Geoportal':\n",
      "       'http://geoport.whoi.edu/geoportal/csw',\n",
      "       'CKAN testing site for new Data.gov':\n",
      "       'http://geo.gov.ckan.org/csw',\n",
      "       'EPA':\n",
      "       'https://edg.epa.gov/metadata/csw',\n",
      "       'CWIC':\n",
      "       'http://cwic.csiss.gmu.edu/cwicv1/discovery'}\n",
      "\n",
      "endpoint = CSW['NGDC Geoportal']\n",
      "csw = CatalogueServiceWeb(endpoint, timeout=60)\n",
      "csw.version"
     ],
     "language": "python",
     "metadata": {
      "code_folding": [
       1
      ]
     },
     "outputs": [
      {
       "metadata": {},
       "output_type": "pyout",
       "prompt_number": 8,
       "text": [
        "'2.0.2'"
       ]
      }
     ],
     "prompt_number": 8
    },
    {
     "cell_type": "code",
     "collapsed": false,
     "input": [
      "for oper in csw.operations:\n",
      "    if oper.name == 'GetRecords':\n",
      "        cnstr = oper.constraints['SupportedISOQueryables']['values']\n",
      "        print('\\nISO Queryables:%s\\n' % '\\n'.join(cnstr))"
     ],
     "language": "python",
     "metadata": {
      "code_folding": []
     },
     "outputs": [
      {
       "output_type": "stream",
       "stream": "stdout",
       "text": [
        "\n",
        "ISO Queryables:apiso:Subject\n",
        "apiso:Title\n",
        "apiso:Abstract\n",
        "apiso:AnyText\n",
        "apiso:Format\n",
        "apiso:Identifier\n",
        "apiso:Modified\n",
        "apiso:Type\n",
        "apiso:BoundingBox\n",
        "apiso:CRS.Authority\n",
        "apiso:CRS.ID\n",
        "apiso:CRS.Version\n",
        "apiso:RevisionDate\n",
        "apiso:AlternateTitle\n",
        "apiso:CreationDate\n",
        "apiso:PublicationDate\n",
        "apiso:OrganizationName\n",
        "apiso:HasSecurityConstraints\n",
        "apiso:Language\n",
        "apiso:ResourceIdentifier\n",
        "apiso:ParentIdentifier\n",
        "apiso:KeywordType\n",
        "apiso:TopicCategory\n",
        "apiso:ResourceLanguage\n",
        "apiso:GeographicDescriptionCode\n",
        "apiso:Denominator\n",
        "apiso:DistanceValue\n",
        "apiso:DistanceUOM\n",
        "apiso:TempExtent_begin\n",
        "apiso:TempExtent_end\n",
        "apiso:ServiceType\n",
        "apiso:ServiceTypeVersion\n",
        "apiso:Operation\n",
        "apiso:OperatesOn\n",
        "apiso:OperatesOnIdentifier\n",
        "apiso:OperatesOnName\n",
        "apiso:CouplingType\n",
        "\n"
       ]
      }
     ],
     "prompt_number": 9
    },
    {
     "cell_type": "markdown",
     "metadata": {},
     "source": [
      "### Convert User Input into FES filters."
     ]
    },
    {
     "cell_type": "code",
     "collapsed": false,
     "input": [
      "start, stop = dateRange(start_date, stop_date)\n",
      "bbox = fes.BBox(box)"
     ],
     "language": "python",
     "metadata": {
      "code_folding": []
     },
     "outputs": [],
     "prompt_number": 10
    },
    {
     "cell_type": "code",
     "collapsed": false,
     "input": [
      "or_filt = fes.Or([fes.PropertyIsLike(propertyname='apiso:AnyText',\n",
      "                                     literal=('*%s*' % val),\n",
      "                                     escapeChar='\\\\',\n",
      "                                     wildCard='*',\n",
      "                                     singleChar='?') for val in name_list])"
     ],
     "language": "python",
     "metadata": {
      "code_folding": []
     },
     "outputs": [],
     "prompt_number": 11
    },
    {
     "cell_type": "markdown",
     "metadata": {},
     "source": [
      "ROMS model output often has Averages and History files.  The Averages files are usually averaged over a tidal cycle or more, while the History files are snapshots at that time instant.  We are not interested in averaged data for this test, so in the cell below we remove any Averages files here by removing any datasets that have the term \"Averages\" in the metadata text.  A better approach would be to look at the `cell_methods` attributes propagated through to some term in the ISO metadata, but this is not implemented yet, as far as I know"
     ]
    },
    {
     "cell_type": "code",
     "collapsed": false,
     "input": [
      "val = 'Averages'\n",
      "not_filt = fes.Not([fes.PropertyIsLike(propertyname='apiso:AnyText',\n",
      "                                       literal=('*%s*' % val),\n",
      "                                       escapeChar='\\\\',\n",
      "                                       wildCard='*',\n",
      "                                       singleChar='?')])\n",
      "\n",
      "filter_list = [fes.And([bbox, start, stop, or_filt, not_filt])]"
     ],
     "language": "python",
     "metadata": {
      "code_folding": []
     },
     "outputs": [],
     "prompt_number": 12
    },
    {
     "cell_type": "markdown",
     "metadata": {},
     "source": [
      "Try request using multiple filters \"and\" syntax: [[filter1,filter2]]."
     ]
    },
    {
     "cell_type": "code",
     "collapsed": false,
     "input": [
      "csw.getrecords2(constraints=filter_list, maxrecords=1000, esn='full')\n",
      "print(len(csw.records.keys()))"
     ],
     "language": "python",
     "metadata": {},
     "outputs": [
      {
       "output_type": "stream",
       "stream": "stdout",
       "text": [
        "19\n"
       ]
      }
     ],
     "prompt_number": 13
    },
    {
     "cell_type": "markdown",
     "metadata": {},
     "source": [
      "Now print out some titles"
     ]
    },
    {
     "cell_type": "code",
     "collapsed": false,
     "input": [
      "for rec, item in csw.records.items():\n",
      "    print(item.title)"
     ],
     "language": "python",
     "metadata": {
      "code_folding": []
     },
     "outputs": [
      {
       "output_type": "stream",
       "stream": "stdout",
       "text": [
        "NYHOPS Forecast Model Results\n",
        "ROMS ESPRESSO Real-Time Operational IS4DVAR Forecast System Version 2 (NEW) 2013-present FMRC History (Best)\n",
        "NECOFS GOM3 (FVCOM) - Northeast US - Latest Forecast\n",
        "NECOFS GOM3 Wave - Northeast US - Latest Forecast\n",
        "DBOFS - Delaware Bay Operational Forecast System - NOAA CO-OPS - POM\n",
        "NYOFS - New York and New Jersey Operational Forecast System - NOAA CO-OPS - POM\n",
        "COAWST Forecast System : USGS : US East Coast and Gulf of Mexico (Experimental)\n",
        "Barotropic Tide Model for the Pacific Basin\n",
        "CBOFS - Chesapeake Bay Operational Forecast System - NOAA CO-OPS - POM\n",
        "ESTOFS Storm Surge Model - Atlantic - v1.0.0 - NOAA - NCEP - ADCIRC\n",
        "NECOFS Massachusetts (FVCOM) - Massachusetts Coastal - Latest Forecast\n",
        "NDBC Standard Meteorological Buoy Data\n",
        "HYbrid Coordinate Ocean Model (HYCOM): Global\n",
        "TEMPESTS NJ101 Water Level - CINAR\n",
        "HRECOS Aggregated Station HRWSTPTH Data\n",
        "TEMPESTS NJ101 Met - CINAR\n",
        "TEMPESTS NJ101 Waves - CINAR\n",
        "HRECOS Aggregated Station HRPIER84 Data\n",
        "HRECOS Aggregated Station HRPMNTH Data\n"
       ]
      }
     ],
     "prompt_number": 14
    },
    {
     "cell_type": "markdown",
     "metadata": {},
     "source": [
      "Print out all the OPeNDAP Data URL endpoints"
     ]
    },
    {
     "cell_type": "code",
     "collapsed": false,
     "input": [
      "dap_urls = service_urls(csw.records,\n",
      "                        service='odp:url')\n",
      "print(\"\\n\".join(dap_urls))"
     ],
     "language": "python",
     "metadata": {},
     "outputs": [
      {
       "output_type": "stream",
       "stream": "stdout",
       "text": [
        "http://colossus.dl.stevens-tech.edu/thredds/dodsC/latest/Complete_gcmplt.nc\n",
        "http://tds.marine.rutgers.edu/thredds/dodsC/roms/espresso/2013_da/his_Best/ESPRESSO_Real-Time_v2_History_Best_Available_best.ncd\n",
        "http://www.smast.umassd.edu:8080/thredds/dodsC/FVCOM/NECOFS/Forecasts/NECOFS_GOM3_FORECAST.nc\n",
        "http://www.smast.umassd.edu:8080/thredds/dodsC/FVCOM/NECOFS/Forecasts/NECOFS_WAVE_FORECAST.nc\n",
        "http://opendap.co-ops.nos.noaa.gov/thredds/dodsC/DBOFS/fmrc/Aggregated_7_day_DBOFS_Fields_Forecast_best.ncd\n",
        "http://opendap.co-ops.nos.noaa.gov/thredds/dodsC/NYOFS/fmrc/Aggregated_7_day_NYOFS_Fields_Forecast_best.ncd\n",
        "http://geoport.whoi.edu/thredds/dodsC/coawst_4/use/fmrc/coawst_4_use_best.ncd\n",
        "http://oos.soest.hawaii.edu/thredds/dodsC/hioos/tide_pac\n",
        "http://opendap.co-ops.nos.noaa.gov/thredds/dodsC/CBOFS/fmrc/Aggregated_7_day_CBOFS_Fields_Forecast_best.ncd\n",
        "http://geoport-dev.whoi.edu/thredds/dodsC/estofs/atlantic\n",
        "http://www.smast.umassd.edu:8080/thredds/dodsC/FVCOM/NECOFS/Forecasts/NECOFS_FVCOM_OCEAN_MASSBAY_FORECAST.nc\n",
        "http://oos.soest.hawaii.edu/thredds/dodsC/pacioos/hycom/global\n",
        "http://sos.maracoos.org/stable/dodsC/stationHRWSTPTH-agg.ncml\n",
        "http://sos.maracoos.org/stable/dodsC/stationHRPIER84-agg.ncml\n",
        "http://sos.maracoos.org/stable/dodsC/stationHRPMNTH-agg.ncml\n"
       ]
      }
     ],
     "prompt_number": 15
    },
    {
     "cell_type": "markdown",
     "metadata": {},
     "source": [
      "Print out all the SOS Data URL endpoints"
     ]
    },
    {
     "cell_type": "code",
     "collapsed": false,
     "input": [
      "sos_urls = service_urls(csw.records,\n",
      "                        service='sos:url')\n",
      "print(\"\\n\".join(sos_urls))"
     ],
     "language": "python",
     "metadata": {},
     "outputs": [
      {
       "output_type": "stream",
       "stream": "stdout",
       "text": [
        "\n"
       ]
      }
     ],
     "prompt_number": 16
    },
    {
     "cell_type": "markdown",
     "metadata": {},
     "source": [
      "## 1. Get observations from SOS\n",
      "Here we are using a custom class from pyoos to read the CO-OPS SOS.  This is definitely unsavory, as the whole point of using a standard is avoid the need for custom classes for each service.  Need to examine the consequences of removing this and just going with straight SOS service using OWSLib. "
     ]
    },
    {
     "cell_type": "code",
     "collapsed": false,
     "input": [
      "collector = CoopsSos()\n",
      "\n",
      "collector.set_datum('NAVD')  # MSL\n",
      "collector.server.identification.title\n",
      "collector.start_time = jd_start\n",
      "collector.end_time = jd_stop\n",
      "collector.variables = [sos_name]"
     ],
     "language": "python",
     "metadata": {},
     "outputs": [],
     "prompt_number": 17
    },
    {
     "cell_type": "code",
     "collapsed": false,
     "input": [
      "ofrs = collector.server.offerings\n",
      "print(len(ofrs))\n",
      "for p in ofrs[700:710]:\n",
      "    print(p)"
     ],
     "language": "python",
     "metadata": {},
     "outputs": [
      {
       "output_type": "stream",
       "stream": "stdout",
       "text": [
        "1025\n",
        "Offering id: station-8411060, name: urn:ioos:station:NOAA.NOS.CO-OPS:8411060\n",
        "Offering id: station-8413320, name: urn:ioos:station:NOAA.NOS.CO-OPS:8413320\n",
        "Offering id: station-8418150, name: urn:ioos:station:NOAA.NOS.CO-OPS:8418150\n",
        "Offering id: station-8419317, name: urn:ioos:station:NOAA.NOS.CO-OPS:8419317\n",
        "Offering id: station-8423898, name: urn:ioos:station:NOAA.NOS.CO-OPS:8423898\n",
        "Offering id: station-8443970, name: urn:ioos:station:NOAA.NOS.CO-OPS:8443970\n",
        "Offering id: station-8447386, name: urn:ioos:station:NOAA.NOS.CO-OPS:8447386\n",
        "Offering id: station-8447387, name: urn:ioos:station:NOAA.NOS.CO-OPS:8447387\n",
        "Offering id: station-8447435, name: urn:ioos:station:NOAA.NOS.CO-OPS:8447435\n",
        "Offering id: station-8447930, name: urn:ioos:station:NOAA.NOS.CO-OPS:8447930\n"
       ]
      }
     ],
     "prompt_number": 18
    },
    {
     "cell_type": "markdown",
     "metadata": {},
     "source": [
      "### Find the SOS stations within our bounding box and time extent\n",
      "We would like to just use a filter on a collection to get a new collection, but PYOOS doesn't do that yet. So we do a GetObservation request for a collection, including a bounding box, and asking for one value at the start of the time period of interest.   We use that to do a bounding box filter on the SOS server, which returns 1 point for each station found.  So for 3 stations, we get back 3 records, in CSV format.  We can strip the station ids from the CSV, and then we have a list of stations we can use with pyoos.  The template for the GetObservation query for the bounding box filtered collection was generated using the GUI at http://opendap.co-ops.nos.noaa.gov/ioos-dif-sos/"
     ]
    },
    {
     "cell_type": "code",
     "collapsed": false,
     "input": [
      "iso_start = jd_start.strftime('%Y-%m-%dT%H:%M:%SZ')\n",
      "print(iso_start)\n",
      "box_str = ','.join(str(e) for e in box)\n",
      "print(box_str)"
     ],
     "language": "python",
     "metadata": {},
     "outputs": [
      {
       "output_type": "stream",
       "stream": "stdout",
       "text": [
        "2014-05-18T15:00:00Z\n",
        "-75.0,39.0,-71.0,41.5\n"
       ]
      }
     ],
     "prompt_number": 19
    },
    {
     "cell_type": "code",
     "collapsed": false,
     "input": [
      "url = ('http://opendap.co-ops.nos.noaa.gov/ioos-dif-sos/SOS?'\n",
      "       'service=SOS&request=GetObservation&version=1.0.0&'\n",
      "       'observedProperty=%s&offering=urn:ioos:network:NOAA.NOS.CO-OPS:'\n",
      "       'WaterLevelActive&featureOfInterest=BBOX:%s&responseFormat='\n",
      "       'text/csv&eventTime=%s' % (sos_name, box_str, iso_start))\n",
      "\n",
      "print(url)\n",
      "obs_loc_df = read_csv(url)"
     ],
     "language": "python",
     "metadata": {
      "code_folding": []
     },
     "outputs": [
      {
       "output_type": "stream",
       "stream": "stdout",
       "text": [
        "http://opendap.co-ops.nos.noaa.gov/ioos-dif-sos/SOS?service=SOS&request=GetObservation&version=1.0.0&observedProperty=water_surface_height_above_reference_datum&offering=urn:ioos:network:NOAA.NOS.CO-OPS:WaterLevelActive&featureOfInterest=BBOX:-75.0,39.0,-71.0,41.5&responseFormat=text/csv&eventTime=2014-05-18T15:00:00Z\n"
       ]
      }
     ],
     "prompt_number": 20
    },
    {
     "cell_type": "code",
     "collapsed": false,
     "input": [
      "obs_loc_df.head()"
     ],
     "language": "python",
     "metadata": {},
     "outputs": [
      {
       "html": [
        "<div style=\"max-height:1000px;max-width:1500px;overflow:auto;\">\n",
        "<table border=\"1\" class=\"dataframe\">\n",
        "  <thead>\n",
        "    <tr style=\"text-align: right;\">\n",
        "      <th></th>\n",
        "      <th>station_id</th>\n",
        "      <th>sensor_id</th>\n",
        "      <th>latitude (degree)</th>\n",
        "      <th>longitude (degree)</th>\n",
        "      <th>date_time</th>\n",
        "      <th>water_surface_height_above_reference_datum (m)</th>\n",
        "      <th>datum_id</th>\n",
        "      <th>vertical_position (m)</th>\n",
        "    </tr>\n",
        "  </thead>\n",
        "  <tbody>\n",
        "    <tr>\n",
        "      <th>0</th>\n",
        "      <td> urn:ioos:station:NOAA.NOS.CO-OPS:8461490</td>\n",
        "      <td> urn:ioos:sensor:NOAA.NOS.CO-OPS:8461490:A1</td>\n",
        "      <td> 41.3614</td>\n",
        "      <td>-72.0900</td>\n",
        "      <td> 2014-05-18T15:00:00Z</td>\n",
        "      <td> 0.657</td>\n",
        "      <td> urn:ioos:def:datum:noaa::MLLW</td>\n",
        "      <td> 1.074</td>\n",
        "    </tr>\n",
        "    <tr>\n",
        "      <th>1</th>\n",
        "      <td> urn:ioos:station:NOAA.NOS.CO-OPS:8465705</td>\n",
        "      <td> urn:ioos:sensor:NOAA.NOS.CO-OPS:8465705:A1</td>\n",
        "      <td> 41.2833</td>\n",
        "      <td>-72.9083</td>\n",
        "      <td> 2014-05-18T15:00:00Z</td>\n",
        "      <td> 0.608</td>\n",
        "      <td> urn:ioos:def:datum:noaa::MLLW</td>\n",
        "      <td> 5.618</td>\n",
        "    </tr>\n",
        "    <tr>\n",
        "      <th>2</th>\n",
        "      <td> urn:ioos:station:NOAA.NOS.CO-OPS:8467150</td>\n",
        "      <td> urn:ioos:sensor:NOAA.NOS.CO-OPS:8467150:A1</td>\n",
        "      <td> 41.1733</td>\n",
        "      <td>-73.1817</td>\n",
        "      <td> 2014-05-18T15:00:00Z</td>\n",
        "      <td> 0.532</td>\n",
        "      <td> urn:ioos:def:datum:noaa::MLLW</td>\n",
        "      <td> 0.604</td>\n",
        "    </tr>\n",
        "    <tr>\n",
        "      <th>3</th>\n",
        "      <td> urn:ioos:station:NOAA.NOS.CO-OPS:8510560</td>\n",
        "      <td> urn:ioos:sensor:NOAA.NOS.CO-OPS:8510560:A1</td>\n",
        "      <td> 41.0483</td>\n",
        "      <td>-71.9600</td>\n",
        "      <td> 2014-05-18T15:00:00Z</td>\n",
        "      <td> 0.586</td>\n",
        "      <td> urn:ioos:def:datum:noaa::MLLW</td>\n",
        "      <td> 1.177</td>\n",
        "    </tr>\n",
        "    <tr>\n",
        "      <th>4</th>\n",
        "      <td> urn:ioos:station:NOAA.NOS.CO-OPS:8516945</td>\n",
        "      <td> urn:ioos:sensor:NOAA.NOS.CO-OPS:8516945:A1</td>\n",
        "      <td> 40.8103</td>\n",
        "      <td>-73.7649</td>\n",
        "      <td> 2014-05-18T15:00:00Z</td>\n",
        "      <td> 0.145</td>\n",
        "      <td> urn:ioos:def:datum:noaa::MLLW</td>\n",
        "      <td> 3.928</td>\n",
        "    </tr>\n",
        "  </tbody>\n",
        "</table>\n",
        "<p>5 rows \u00d7 8 columns</p>\n",
        "</div>"
       ],
       "metadata": {},
       "output_type": "pyout",
       "prompt_number": 21,
       "text": [
        "                                 station_id  \\\n",
        "0  urn:ioos:station:NOAA.NOS.CO-OPS:8461490   \n",
        "1  urn:ioos:station:NOAA.NOS.CO-OPS:8465705   \n",
        "2  urn:ioos:station:NOAA.NOS.CO-OPS:8467150   \n",
        "3  urn:ioos:station:NOAA.NOS.CO-OPS:8510560   \n",
        "4  urn:ioos:station:NOAA.NOS.CO-OPS:8516945   \n",
        "\n",
        "                                    sensor_id  latitude (degree)  \\\n",
        "0  urn:ioos:sensor:NOAA.NOS.CO-OPS:8461490:A1            41.3614   \n",
        "1  urn:ioos:sensor:NOAA.NOS.CO-OPS:8465705:A1            41.2833   \n",
        "2  urn:ioos:sensor:NOAA.NOS.CO-OPS:8467150:A1            41.1733   \n",
        "3  urn:ioos:sensor:NOAA.NOS.CO-OPS:8510560:A1            41.0483   \n",
        "4  urn:ioos:sensor:NOAA.NOS.CO-OPS:8516945:A1            40.8103   \n",
        "\n",
        "   longitude (degree)             date_time  \\\n",
        "0            -72.0900  2014-05-18T15:00:00Z   \n",
        "1            -72.9083  2014-05-18T15:00:00Z   \n",
        "2            -73.1817  2014-05-18T15:00:00Z   \n",
        "3            -71.9600  2014-05-18T15:00:00Z   \n",
        "4            -73.7649  2014-05-18T15:00:00Z   \n",
        "\n",
        "   water_surface_height_above_reference_datum (m)  \\\n",
        "0                                           0.657   \n",
        "1                                           0.608   \n",
        "2                                           0.532   \n",
        "3                                           0.586   \n",
        "4                                           0.145   \n",
        "\n",
        "                        datum_id  vertical_position (m)  \n",
        "0  urn:ioos:def:datum:noaa::MLLW                  1.074  \n",
        "1  urn:ioos:def:datum:noaa::MLLW                  5.618  \n",
        "2  urn:ioos:def:datum:noaa::MLLW                  0.604  \n",
        "3  urn:ioos:def:datum:noaa::MLLW                  1.177  \n",
        "4  urn:ioos:def:datum:noaa::MLLW                  3.928  \n",
        "\n",
        "[5 rows x 8 columns]"
       ]
      }
     ],
     "prompt_number": 21
    },
    {
     "cell_type": "code",
     "collapsed": false,
     "input": [
      "stations = [sta.split(':')[-1] for sta in obs_loc_df['station_id']]\n",
      "obs_lon = [sta for sta in obs_loc_df['longitude (degree)']]\n",
      "obs_lat = [sta for sta in obs_loc_df['latitude (degree)']]\n",
      "print(stations)"
     ],
     "language": "python",
     "metadata": {},
     "outputs": [
      {
       "output_type": "stream",
       "stream": "stdout",
       "text": [
        "['8461490', '8465705', '8467150', '8510560', '8516945', '8518750', '8519483', '8531680', '8534720', '8539094', '8548989']\n"
       ]
      }
     ],
     "prompt_number": 22
    },
    {
     "cell_type": "markdown",
     "metadata": {},
     "source": [
      "Generate a uniform 6-min time base for model/data comparison:"
     ]
    },
    {
     "cell_type": "code",
     "collapsed": false,
     "input": [
      "ts_rng = date_range(start=jd_start, end=jd_stop, freq='6Min')\n",
      "ts = DataFrame(index=ts_rng)\n",
      "print(jd_start, jd_stop)\n",
      "print(len(ts))"
     ],
     "language": "python",
     "metadata": {},
     "outputs": [
      {
       "output_type": "stream",
       "stream": "stdout",
       "text": [
        "(datetime.datetime(2014, 5, 18, 15, 0), datetime.datetime(2014, 5, 24, 15, 0))\n",
        "1441\n"
       ]
      }
     ],
     "prompt_number": 23
    },
    {
     "cell_type": "markdown",
     "metadata": {},
     "source": [
      "Create a list of obs dataframes, one for each station:"
     ]
    },
    {
     "cell_type": "code",
     "collapsed": false,
     "input": [
      "obs_df = []\n",
      "sta_names = []\n",
      "sta_failed = []\n",
      "for sta in stations:\n",
      "    b = coops2df(collector, sta, sos_name)\n",
      "    name = b.name\n",
      "    sta_names.append(name)\n",
      "    print(name)\n",
      "    if b.empty:\n",
      "        sta_failed.append(name)\n",
      "        b = DataFrame(np.arange(len(ts)) * np.NaN, index=ts.index, columns=['Observed Data'])\n",
      "        b.name = name\n",
      "    # Limit interpolation to 10 points (10 @ 6min = 1 hour).\n",
      "    col = 'Observed Data'\n",
      "    concatenated = concat([b, ts], axis=1).interpolate(limit=10)[col]\n",
      "    obs_df.append(DataFrame(concatenated))\n",
      "    obs_df[-1].name = b.name"
     ],
     "language": "python",
     "metadata": {},
     "outputs": [
      {
       "output_type": "stream",
       "stream": "stdout",
       "text": [
        "New London, CT\n",
        "New Haven, CT"
       ]
      },
      {
       "output_type": "stream",
       "stream": "stdout",
       "text": [
        "\n",
        "Bridgeport, CT"
       ]
      },
      {
       "output_type": "stream",
       "stream": "stdout",
       "text": [
        "\n",
        "Montauk, NY"
       ]
      },
      {
       "output_type": "stream",
       "stream": "stderr",
       "text": [
        "utilities.py:92: UserWarning: Station New Haven, CT is not NAVD datum. 'Wrong Datum for this station: The correct Datum values are: MHHW, MHW, MTL, MSL, MLW, MLLW, STND'\n",
        "  warn(\"Station %s is not NAVD datum. %s\" % (long_name, e))\n",
        "utilities.py:92: UserWarning: Station Kings Point, NY is not NAVD datum. 'Wrong Datum for this station: The correct Datum values are: MHHW, MHW, MTL, MSL, MLW, MLLW, STND'\n",
        "  warn(\"Station %s is not NAVD datum. %s\" % (long_name, e))\n"
       ]
      },
      {
       "output_type": "stream",
       "stream": "stdout",
       "text": [
        "\n",
        "Kings Point, NY"
       ]
      },
      {
       "output_type": "stream",
       "stream": "stdout",
       "text": [
        "\n",
        "The Battery, NY"
       ]
      },
      {
       "output_type": "stream",
       "stream": "stdout",
       "text": [
        "\n",
        "Bergen Point West Reach, NY"
       ]
      },
      {
       "output_type": "stream",
       "stream": "stdout",
       "text": [
        "\n",
        "Sandy Hook, NJ"
       ]
      },
      {
       "output_type": "stream",
       "stream": "stdout",
       "text": [
        "\n",
        "Atlantic City, NJ"
       ]
      },
      {
       "output_type": "stream",
       "stream": "stderr",
       "text": [
        "utilities.py:92: UserWarning: Station Bergen Point West Reach, NY is not NAVD datum. 'Wrong Datum for this station: The correct Datum values are: MHHW, MHW, MTL, MSL, MLW, MLLW, STND'\n",
        "  warn(\"Station %s is not NAVD datum. %s\" % (long_name, e))\n",
        "utilities.py:92: UserWarning: Station Burlington, Delaware River, NJ is not NAVD datum. 'Wrong Datum for this station: The correct Datum values are: MHHW, MHW, MTL, MSL, MLW, MLLW, STND'\n",
        "  warn(\"Station %s is not NAVD datum. %s\" % (long_name, e))\n"
       ]
      },
      {
       "output_type": "stream",
       "stream": "stdout",
       "text": [
        "\n",
        "Burlington, Delaware River, NJ"
       ]
      },
      {
       "output_type": "stream",
       "stream": "stdout",
       "text": [
        "\n",
        "Newbold, PA"
       ]
      },
      {
       "output_type": "stream",
       "stream": "stdout",
       "text": [
        "\n"
       ]
      },
      {
       "output_type": "stream",
       "stream": "stderr",
       "text": [
        "utilities.py:92: UserWarning: Station Newbold, PA is not NAVD datum. 'Wrong Datum for this station: The correct Datum values are: MHHW, MHW, MTL, MSL, MLW, MLLW, STND'\n",
        "  warn(\"Station %s is not NAVD datum. %s\" % (long_name, e))\n"
       ]
      }
     ]
    },
    {
     "cell_type": "code",
     "collapsed": false,
     "input": [
      "geodetic = ccrs.Geodetic(globe=ccrs.Globe(datum='WGS84'))\n",
      "tiler = MapQuestOpenAerial()\n",
      "fig, ax = plt.subplots(figsize=(8, 8), subplot_kw=dict(projection=tiler.crs))\n",
      "# Open Source Imagery from MapQuest (max zoom = 16?)\n",
      "zoom = 8\n",
      "extent = [box[0], box[2], box[1], box[3]]\n",
      "ax.set_extent(extent, geodetic)\n",
      "ax.add_image(tiler, zoom)"
     ],
     "language": "python",
     "metadata": {},
     "outputs": []
    },
    {
     "cell_type": "code",
     "collapsed": false,
     "input": [
      "ax.scatter(obs_lon, obs_lat, marker='o', s=30,\n",
      "           color='cyan', transform=ccrs.PlateCarree())\n",
      "geodetic_transform = ccrs.Geodetic()._as_mpl_transform(ax)\n",
      "text_transform = offset_copy(geodetic_transform, units='dots', x=-7, y=+7)\n",
      "\n",
      "for x, y, label in zip(obs_lon, obs_lat, sta_names):\n",
      "    ax.text(x, y, label, horizontalalignment='left',\n",
      "            transform=text_transform, color='white')\n",
      "gl = ax.gridlines(draw_labels=True)\n",
      "gl.xlabels_top = gl.ylabels_right = False\n",
      "ax.set_title('Water Level Gauge Locations')"
     ],
     "language": "python",
     "metadata": {
      "code_folding": [
       18
      ]
     },
     "outputs": []
    },
    {
     "cell_type": "markdown",
     "metadata": {},
     "source": [
      "### Get model output from OPeNDAP URLS\n",
      "Try to open all the OPeNDAP URLS using Iris from the British Met Office.  If 1D, assume dataset is data, if 2D assume dataset is an unstructured grid model, and if 3D, assume it's a structured grid model."
     ]
    },
    {
     "cell_type": "markdown",
     "metadata": {},
     "source": [
      "Construct an Iris contraint to load only cubes that match the std_name_list:"
     ]
    },
    {
     "cell_type": "code",
     "collapsed": false,
     "input": [
      "print(name_list)\n",
      "name_in_list = lambda cube: cube.standard_name in name_list\n",
      "constraint = iris.Constraint(cube_func=name_in_list)"
     ],
     "language": "python",
     "metadata": {},
     "outputs": []
    },
    {
     "cell_type": "markdown",
     "metadata": {},
     "source": [
      "Use only data within 0.04 degrees (about 4 km)."
     ]
    },
    {
     "cell_type": "code",
     "collapsed": false,
     "input": [
      "max_dist = 0.04"
     ],
     "language": "python",
     "metadata": {},
     "outputs": []
    },
    {
     "cell_type": "markdown",
     "metadata": {},
     "source": [
      "Use only data where the standard deviation of the time series exceeds 0.01 m\n",
      "(1 cm) this eliminates flat line model time series that come from land\n",
      "points that should have had missing values."
     ]
    },
    {
     "cell_type": "code",
     "collapsed": false,
     "input": [
      "min_var = 0.01"
     ],
     "language": "python",
     "metadata": {},
     "outputs": []
    },
    {
     "cell_type": "code",
     "collapsed": false,
     "input": [
      "for url in dap_urls:\n",
      "    try:\n",
      "        a = iris.load_cube(url, constraint)\n",
      "        # convert to units of meters\n",
      "        # a.convert_units('m')     # this isn't working for unstructured data\n",
      "        # take first 20 chars for model name\n",
      "        mod_name = a.attributes['title'][0:20]\n",
      "        r = a.shape\n",
      "        timevar = find_timevar(a)\n",
      "        lat = a.coord(axis='Y').points\n",
      "        lon = a.coord(axis='X').points\n",
      "        jd = timevar.units.num2date(timevar.points)\n",
      "        start = timevar.units.date2num(jd_start)\n",
      "        istart = timevar.nearest_neighbour_index(start)\n",
      "        stop = timevar.units.date2num(jd_stop)\n",
      "        istop = timevar.nearest_neighbour_index(stop)\n",
      "\n",
      "        # Only proceed if we have data in the range requested.\n",
      "        if istart != istop:\n",
      "            nsta = len(obs_lon)\n",
      "            if len(r) == 3:\n",
      "                print('[Structured grid model]:', url)\n",
      "                d = a[0, :, :].data\n",
      "                # Find the closest non-land point from a structured grid model.\n",
      "                if len(lon.shape) == 1:\n",
      "                    lon, lat = np.meshgrid(lon, lat)\n",
      "                j, i, dd = find_ij(lon, lat, d, obs_lon, obs_lat)\n",
      "                for n in range(nsta):\n",
      "                    # Only use if model cell is within 0.1 degree of requested\n",
      "                    # location.\n",
      "                    if dd[n] <= max_dist:\n",
      "                        arr = a[istart:istop, j[n], i[n]].data\n",
      "                        if arr.std() >= min_var:\n",
      "                            c = mod_df(arr, timevar, istart, istop,\n",
      "                                       mod_name, ts)\n",
      "                            name = obs_df[n].name\n",
      "                            obs_df[n] = concat([obs_df[n], c], axis=1)\n",
      "                            obs_df[n].name = name\n",
      "            elif len(r) == 2:\n",
      "                print('[Unstructured grid model]:', url)\n",
      "                # Find the closest point from an unstructured grid model.\n",
      "                index, dd = nearxy(lon.flatten(), lat.flatten(),\n",
      "                                   obs_lon, obs_lat)\n",
      "                for n in range(nsta):\n",
      "                    # Only use if model cell is within 0.1 degree of requested\n",
      "                    # location.\n",
      "                    if dd[n] <= max_dist:\n",
      "                        arr = a[istart:istop, index[n]].data\n",
      "                        if arr.std() >= min_var:\n",
      "                            c = mod_df(arr, timevar, istart, istop,\n",
      "                                       mod_name, ts)\n",
      "                            name = obs_df[n].name\n",
      "                            obs_df[n] = concat([obs_df[n], c], axis=1)\n",
      "                            obs_df[n].name = name\n",
      "            elif len(r) == 1:\n",
      "                print('[Data]:', url)\n",
      "    except (ValueError, RuntimeError, CoordinateNotFoundError,\n",
      "            ConstraintMismatchError) as e:\n",
      "        warn(\"\\n%s\\n\" % e)\n",
      "        pass"
     ],
     "language": "python",
     "metadata": {
      "code_folding": [
       1
      ]
     },
     "outputs": []
    },
    {
     "cell_type": "code",
     "collapsed": false,
     "input": [
      "for df in obs_df:\n",
      "    ax = df.plot(figsize=(14, 6), title=df.name, legend=False)\n",
      "    plt.setp(ax.lines[0], linewidth=4.0, color='0.7', zorder=1)\n",
      "    ax.legend()\n",
      "    ax.set_ylabel('m')"
     ],
     "language": "python",
     "metadata": {
      "code_folding": []
     },
     "outputs": []
    },
    {
     "cell_type": "markdown",
     "metadata": {},
     "source": [
      "Plot again, but now remove the mean offset (relative to data) from all plots."
     ]
    },
    {
     "cell_type": "code",
     "collapsed": false,
     "input": [
      "if True:\n",
      "    for df in obs_df:\n",
      "        amean = df[jd_start:jd_now].mean()\n",
      "        name = df.name\n",
      "        df = df - amean + amean.ix[0]\n",
      "        df.name = name\n",
      "        ax = df.plot(figsize=(14, 6), title=df.name, legend=False)\n",
      "        plt.setp(ax.lines[0], linewidth=4.0, color='0.7', zorder=1)\n",
      "        ax.legend()\n",
      "        ax.set_ylabel('m')\n",
      "        print(amean.ix[0] - amean)"
     ],
     "language": "python",
     "metadata": {},
     "outputs": []
    },
    {
     "cell_type": "code",
     "collapsed": false,
     "input": [],
     "language": "python",
     "metadata": {},
     "outputs": []
    }
   ],
   "metadata": {}
  }
 ]
}