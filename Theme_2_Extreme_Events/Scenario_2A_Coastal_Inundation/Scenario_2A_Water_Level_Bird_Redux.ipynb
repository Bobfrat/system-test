{
 "metadata": {
  "name": "",
  "signature": "sha256:57e558f6a0ceb43d8b9b3052d41200a8b8da4e61365f5e1a6b7367309ecc1139"
 },
 "nbformat": 3,
 "nbformat_minor": 0,
 "worksheets": [
  {
   "cells": [
    {
     "cell_type": "markdown",
     "metadata": {},
     "source": [
      "># IOOS System Test: [Extreme Events Theme:](https://github.com/ioos/system-test/wiki/Development-of-Test-Themes#theme-2-extreme-events) Inundation"
     ]
    },
    {
     "cell_type": "markdown",
     "metadata": {},
     "source": [
      "### Can we estimate the return period of a water level by comparing modeled and/or observed water levels with NOAA exceedance probability plots?"
     ]
    },
    {
     "cell_type": "markdown",
     "metadata": {},
     "source": [
      "Methodology:\n",
      "\n",
      "* Define temporal and spatial bounds of interest, as well as parameters of interest\n",
      "* Search for availavle service endpoints in the NGDC CSW catalog, then inform the user of the DAP (model) and SOS (observation) services endpoints available\n",
      "* Obtain the stations in the spatial boundaries, and processed to obtain observation data for temporal contraints, identifying the yearly max\n",
      "* Plot observation stations on a map and indicate to the user if the minimum number of years has been met for extreme value analysis (red marker if condition is false)\n",
      "* Using DAP (model) endpoints find all available models data sets that fall in the area of interest, for the specified time range, and extract a model grid cell closest to all the given station locations (<b>Still in Development</b>)\n",
      "* Plot the extracted model grid cell from each available model on to the map\n",
      "* Plot the annual max for each station as a timeseries plot\n",
      "* Perform extreme value analysis for a selected station identifying the return period and compare to NOAA tides and currents plot for one of the same stations\n",
      "\n",
      "Esimated Time To Process Notebook: --.--"
     ]
    },
    {
     "cell_type": "heading",
     "level": 4,
     "metadata": {},
     "source": [
      "import required libraries"
     ]
    },
    {
     "cell_type": "code",
     "collapsed": false,
     "input": [
      "import matplotlib.pyplot as plt\n",
      "from pylab import *\n",
      "import sys\n",
      "import csv\n",
      "import json\n",
      "from scipy.stats import genextreme\n",
      "import scipy.stats as ss\n",
      "import numpy as np\n",
      "\n",
      "from owslib.csw import CatalogueServiceWeb\n",
      "from owslib import fes\n",
      "import random\n",
      "import netCDF4\n",
      "import pandas as pd\n",
      "import datetime as dt\n",
      "from pyoos.collectors.coops.coops_sos import CoopsSos\n",
      "import cStringIO\n",
      "import iris\n",
      "import urllib2\n",
      "import parser\n",
      "from lxml import etree       #TODO suggest using bs4 instead for ease of access to XML objects\n",
      "\n",
      "#generated for csw interface\n",
      "#from date_range_formatter import dateRange  #date formatter (R.Signell)\n",
      "import requests              #required for the processing of requests\n",
      "from utilities import * \n",
      "\n",
      "from IPython.display import HTML, Image\n",
      "from shapely.geometry import Polygon,Point,LineString  #used for lat lon points\n",
      "import folium #required for leaflet mapping\n",
      "from pydap.client import open_url #pypdap\n",
      "\n",
      "import datetime as dt\n",
      "from datetime import datetime\n",
      "from datetime import timedelta\n",
      "%matplotlib inline  "
     ],
     "language": "python",
     "metadata": {},
     "outputs": [],
     "prompt_number": 629
    },
    {
     "cell_type": "markdown",
     "metadata": {},
     "source": [
      "some functions from [Rich Signell Notebook](http://nbviewer.ipython.org/github/rsignell-usgs/notebook/blob/fef9438303b49a923024892db1ef3115e34d8271/CSW/IOOS_inundation.ipynb)"
     ]
    },
    {
     "cell_type": "heading",
     "level": 4,
     "metadata": {},
     "source": [
      "Speficy Temporal and Spatial conditions"
     ]
    },
    {
     "cell_type": "code",
     "collapsed": false,
     "input": [
      "#bounding box of interest,[bottom right[lat,lon], top left[lat,lon]]\n",
      "bounding_box_type = \"box\" \n",
      "bounding_box = [[-75.94,38.67],[-66.94,41.5]]\n",
      "\n",
      "#temporal range\n",
      "start_date = dt.datetime(1980,5,1).strftime('%Y-%m-%d %H:00')\n",
      "end_date = dt.datetime(2014,5,1).strftime('%Y-%m-%d %H:00')\n",
      "time_date_range = [start_date,end_date]  #start_date_end_date\n",
      "\n",
      "print start_date,'to',end_date\n",
      "\n",
      "#number of years required for analysis, obs and model data\n",
      "num_years_required = 30"
     ],
     "language": "python",
     "metadata": {},
     "outputs": [
      {
       "output_type": "stream",
       "stream": "stdout",
       "text": [
        "1980-05-01 00:00 to 2014-05-01 00:00\n"
       ]
      }
     ],
     "prompt_number": 697
    },
    {
     "cell_type": "code",
     "collapsed": false,
     "input": [
      "name_list=['water_surface_height_above_reference_datum',\n",
      "    'sea_surface_height_above_geoid','sea_surface_elevation',\n",
      "    'sea_surface_height_above_reference_ellipsoid','sea_surface_height_above_sea_level',\n",
      "    'sea_surface_height','water level']\n",
      "\n",
      "sos_name = 'water_surface_height_above_reference_datum'"
     ],
     "language": "python",
     "metadata": {},
     "outputs": [],
     "prompt_number": 698
    },
    {
     "cell_type": "code",
     "collapsed": false,
     "input": [
      "endpoint = 'http://www.ngdc.noaa.gov/geoportal/csw' # NGDC Geoportal\n",
      "csw = CatalogueServiceWeb(endpoint,timeout=60)\n",
      "\n",
      "for oper in csw.operations:\n",
      "    if oper.name == 'GetRecords':\n",
      "        print '\\nISO Queryables:\\n',oper.constraints['SupportedISOQueryables']['values']\n",
      "        #pass\n",
      "        \n",
      "#put the names in a dict for ease of access \n",
      "data_dict = {}\n",
      "data_dict[\"water\"] = {\"names\":['water_surface_height_above_reference_datum',\n",
      "    'sea_surface_height_above_geoid','sea_surface_elevation',\n",
      "    'sea_surface_height_above_reference_ellipsoid','sea_surface_height_above_sea_level',\n",
      "    'sea_surface_height','water level'], \"sos_name\":['water_surface_height_above_reference_datum']}      "
     ],
     "language": "python",
     "metadata": {},
     "outputs": [
      {
       "output_type": "stream",
       "stream": "stdout",
       "text": [
        "\n",
        "ISO Queryables:\n",
        "['apiso:Subject', 'apiso:Title', 'apiso:Abstract', 'apiso:AnyText', 'apiso:Format', 'apiso:Identifier', 'apiso:Modified', 'apiso:Type', 'apiso:BoundingBox', 'apiso:CRS.Authority', 'apiso:CRS.ID', 'apiso:CRS.Version', 'apiso:RevisionDate', 'apiso:AlternateTitle', 'apiso:CreationDate', 'apiso:PublicationDate', 'apiso:OrganizationName', 'apiso:HasSecurityConstraints', 'apiso:Language', 'apiso:ResourceIdentifier', 'apiso:ParentIdentifier', 'apiso:KeywordType', 'apiso:TopicCategory', 'apiso:ResourceLanguage', 'apiso:GeographicDescriptionCode', 'apiso:Denominator', 'apiso:DistanceValue', 'apiso:DistanceUOM', 'apiso:TempExtent_begin', 'apiso:TempExtent_end', 'apiso:ServiceType', 'apiso:ServiceTypeVersion', 'apiso:Operation', 'apiso:OperatesOn', 'apiso:OperatesOnIdentifier', 'apiso:OperatesOnName', 'apiso:CouplingType']\n"
       ]
      }
     ],
     "prompt_number": 699
    },
    {
     "cell_type": "code",
     "collapsed": false,
     "input": [
      "def dateRange(start_date='1900-01-01',stop_date='2100-01-01',constraint='overlaps'):\n",
      "    if constraint == 'overlaps':\n",
      "        start = fes.PropertyIsLessThanOrEqualTo(propertyname='apiso:TempExtent_begin', literal=stop_date)\n",
      "        stop = fes.PropertyIsGreaterThanOrEqualTo(propertyname='apiso:TempExtent_end', literal=start_date)\n",
      "    elif constraint == 'within':\n",
      "        start = fes.PropertyIsGreaterThanOrEqualTo(propertyname='apiso:TempExtent_begin', literal=start_date)\n",
      "        stop = fes.PropertyIsLessThanOrEqualTo(propertyname='apiso:TempExtent_end', literal=stop_date)\n",
      "    return start,stop"
     ],
     "language": "python",
     "metadata": {},
     "outputs": [],
     "prompt_number": 700
    },
    {
     "cell_type": "code",
     "collapsed": false,
     "input": [
      "# convert User Input into FES filters\n",
      "start,stop = dateRange(start_date,end_date)\n",
      "box = []\n",
      "box.append(bounding_box[0][0])\n",
      "box.append(bounding_box[0][1])\n",
      "box.append(bounding_box[1][0])\n",
      "box.append(bounding_box[1][1])\n",
      "bbox = fes.BBox(box)\n",
      "\n",
      "or_filt = fes.Or([fes.PropertyIsLike(propertyname='apiso:AnyText',literal=('*%s*' % val),\n",
      "                    escapeChar='\\\\',wildCard='*',singleChar='?') for val in name_list])\n",
      "val = 'Averages'\n",
      "not_filt = fes.Not([fes.PropertyIsLike(propertyname='apiso:AnyText',literal=('*%s*' % val),\n",
      "                        escapeChar='\\\\',wildCard='*',singleChar='?')])"
     ],
     "language": "python",
     "metadata": {},
     "outputs": [],
     "prompt_number": 701
    },
    {
     "cell_type": "code",
     "collapsed": false,
     "input": [
      "filter_list = [fes.And([ bbox, start, stop, or_filt, not_filt]) ]\n",
      "# connect to CSW, explore it's properties\n",
      "# try request using multiple filters \"and\" syntax: [[filter1,filter2]]\n",
      "csw.getrecords2(constraints=filter_list,maxrecords=1000,esn='full')"
     ],
     "language": "python",
     "metadata": {},
     "outputs": [],
     "prompt_number": 702
    },
    {
     "cell_type": "code",
     "collapsed": false,
     "input": [
      "def service_urls(records,service_string='urn:x-esri:specification:ServiceType:odp:url'):\n",
      "    \"\"\"\n",
      "    extract service_urls of a specific type (DAP, SOS) from records\n",
      "    \"\"\"\n",
      "    urls=[]\n",
      "    for key,rec in records.iteritems():\n",
      "        #create a generator object, and iterate through it until the match is found\n",
      "        #if not found, gets the default value (here \"none\")\n",
      "        url = next((d['url'] for d in rec.references if d['scheme'] == service_string), None)\n",
      "        if url is not None:\n",
      "            urls.append(url)\n",
      "    return urls"
     ],
     "language": "python",
     "metadata": {},
     "outputs": [],
     "prompt_number": 703
    },
    {
     "cell_type": "code",
     "collapsed": false,
     "input": [
      "#print records that are available\n",
      "print \"number of datasets available: \",len(csw.records.keys())"
     ],
     "language": "python",
     "metadata": {},
     "outputs": [
      {
       "output_type": "stream",
       "stream": "stdout",
       "text": [
        "number of datasets available:  375\n"
       ]
      }
     ],
     "prompt_number": 704
    },
    {
     "cell_type": "markdown",
     "metadata": {},
     "source": [
      "Print all the records (should you want too)"
     ]
    },
    {
     "cell_type": "code",
     "collapsed": false,
     "input": [
      "#print \"\\n\".join(csw.records)"
     ],
     "language": "python",
     "metadata": {},
     "outputs": [],
     "prompt_number": 705
    },
    {
     "cell_type": "markdown",
     "metadata": {},
     "source": [
      "Dap URLS"
     ]
    },
    {
     "cell_type": "code",
     "collapsed": false,
     "input": [
      "dap_urls = service_urls(csw.records,service_string='urn:x-esri:specification:ServiceType:odp:url')\n",
      "#remove duplicates and organize\n",
      "dap_urls = sorted(set(dap_urls))\n",
      "print \"Total DAP:\",len(dap_urls)\n",
      "#print the first 5...\n",
      "print \"\\n\".join(dap_urls[:])"
     ],
     "language": "python",
     "metadata": {},
     "outputs": [
      {
       "output_type": "stream",
       "stream": "stdout",
       "text": [
        "Total DAP: 26\n",
        "http://colossus.dl.stevens-tech.edu/thredds/dodsC/latest/Complete_gcmplt.nc\n",
        "http://comt.sura.org/thredds/dodsC/data/comt_1_archive/inundation_tropical/VIMS_SELFE/Hurricane_Ike_2D_final_run_wave_only\n",
        "http://comt.sura.org/thredds/dodsC/data/comt_1_archive/inundation_tropical/VIMS_SELFE/Hurricane_Ike_2D_final_run_with_waves\n",
        "http://comt.sura.org/thredds/dodsC/data/comt_1_archive/inundation_tropical/VIMS_SELFE/Hurricane_Ike_2D_final_run_without_waves\n",
        "http://comt.sura.org/thredds/dodsC/data/comt_1_archive/inundation_tropical/VIMS_SELFE/Hurricane_Ike_3D_final_run_with_waves\n",
        "http://comt.sura.org/thredds/dodsC/data/comt_1_archive/inundation_tropical/VIMS_SELFE/Hurricane_Ike_3D_final_run_without_waves\n",
        "http://comt.sura.org/thredds/dodsC/data/comt_1_archive/inundation_tropical/VIMS_SELFE/Hurricane_Rita_2D_final_run_with_waves\n",
        "http://comt.sura.org/thredds/dodsC/data/comt_1_archive/inundation_tropical/VIMS_SELFE/Hurricane_Rita_2D_final_run_without_waves\n",
        "http://comt.sura.org/thredds/dodsC/data/comt_1_archive/inundation_tropical/VIMS_SELFE/Hurricane_Rita_3D_final_run_with_waves\n",
        "http://comt.sura.org/thredds/dodsC/data/comt_1_archive/inundation_tropical/VIMS_SELFE/Hurricane_Rita_3D_final_run_without_waves\n",
        "http://geoport-dev.whoi.edu/thredds/dodsC/estofs/atlantic\n",
        "http://geoport.whoi.edu/thredds/dodsC/coawst_4/use/fmrc/coawst_4_use_best.ncd\n",
        "http://oos.soest.hawaii.edu/thredds/dodsC/dist2coast_1deg\n",
        "http://oos.soest.hawaii.edu/thredds/dodsC/dist2coast_4deg\n",
        "http://oos.soest.hawaii.edu/thredds/dodsC/hioos/tide_pac\n",
        "http://oos.soest.hawaii.edu/thredds/dodsC/pacioos/hycom/global\n",
        "http://opendap.co-ops.nos.noaa.gov/thredds/dodsC/CBOFS/fmrc/Aggregated_7_day_CBOFS_Fields_Forecast_best.ncd\n",
        "http://opendap.co-ops.nos.noaa.gov/thredds/dodsC/DBOFS/fmrc/Aggregated_7_day_DBOFS_Fields_Forecast_best.ncd\n",
        "http://opendap.co-ops.nos.noaa.gov/thredds/dodsC/NYOFS/fmrc/Aggregated_7_day_NYOFS_Fields_Forecast_best.ncd\n",
        "http://sos.maracoos.org/stable/dodsC/stationHRPIER84-agg.ncml\n",
        "http://sos.maracoos.org/stable/dodsC/stationHRPMNTH-agg.ncml\n",
        "http://sos.maracoos.org/stable/dodsC/stationHRWSTPTH-agg.ncml\n",
        "http://tds.marine.rutgers.edu/thredds/dodsC/roms/espresso/2013_da/his_Best/ESPRESSO_Real-Time_v2_History_Best_Available_best.ncd\n",
        "http://www.smast.umassd.edu:8080/thredds/dodsC/FVCOM/NECOFS/Forecasts/NECOFS_FVCOM_OCEAN_MASSBAY_FORECAST.nc\n",
        "http://www.smast.umassd.edu:8080/thredds/dodsC/FVCOM/NECOFS/Forecasts/NECOFS_GOM3_FORECAST.nc\n",
        "http://www.smast.umassd.edu:8080/thredds/dodsC/FVCOM/NECOFS/Forecasts/NECOFS_WAVE_FORECAST.nc\n"
       ]
      }
     ],
     "prompt_number": 706
    },
    {
     "cell_type": "markdown",
     "metadata": {},
     "source": [
      "SOS URLs"
     ]
    },
    {
     "cell_type": "code",
     "collapsed": false,
     "input": [
      "sos_urls = service_urls(csw.records,service_string='urn:x-esri:specification:ServiceType:sos:url')\n",
      "#remove duplicates and organize\n",
      "sos_urls = sorted(set(sos_urls))\n",
      "print \"Total SOS:\",len(sos_urls)\n",
      "print \"\\n\".join(sos_urls)"
     ],
     "language": "python",
     "metadata": {},
     "outputs": [
      {
       "output_type": "stream",
       "stream": "stdout",
       "text": [
        "Total SOS: 1\n",
        "http://opendap.co-ops.nos.noaa.gov/ioos-dif-sos/SOS?service=SOS&request=GetCapabilities\n"
       ]
      }
     ],
     "prompt_number": 707
    },
    {
     "cell_type": "markdown",
     "metadata": {},
     "source": [
      "### SOS Requirements\n",
      "#### Use Pyoos SOS collector to obtain Observation data from COOPS"
     ]
    },
    {
     "cell_type": "code",
     "collapsed": false,
     "input": [
      "#use the get caps to get station start and get time"
     ],
     "language": "python",
     "metadata": {},
     "outputs": [],
     "prompt_number": 708
    },
    {
     "cell_type": "code",
     "collapsed": false,
     "input": [
      "start_time = dt.datetime.strptime(start_date,'%Y-%m-%d %H:%M')\n",
      "end_time = dt.datetime.strptime(end_date,'%Y-%m-%d %H:%M')"
     ],
     "language": "python",
     "metadata": {},
     "outputs": [],
     "prompt_number": 709
    },
    {
     "cell_type": "code",
     "collapsed": false,
     "input": [
      "iso_start = start_time.strftime('%Y-%m-%dT%H:%M:%SZ')\n",
      "iso_end = end_time.strftime('%Y-%m-%dT%H:%M:%SZ')\n",
      "\n",
      "collector = CoopsSos()\n",
      "collector.set_datum('NAVD')\n",
      "collector.server.identification.title\n",
      "collector.start_time = start_time\n",
      "collector.end_time = end_time\n",
      "collector.variables = [data_dict[\"water\"][\"sos_name\"]]"
     ],
     "language": "python",
     "metadata": {},
     "outputs": [],
     "prompt_number": 710
    },
    {
     "cell_type": "code",
     "collapsed": false,
     "input": [
      "print \"Date: \",iso_start,\" to \", iso_end\n",
      "box_str=','.join(str(e) for e in box)\n",
      "print \"Lat/Lon Box: \",box_str\n",
      "#grab the sos url and use it for the service\n",
      "url=(sos_urls[0].split(\"?\")[0]+'?'\n",
      "     'service=SOS&request=GetObservation&version=1.0.0&'\n",
      "     'observedProperty=%s&offering=urn:ioos:network:NOAA.NOS.CO-OPS:WaterLevelActive&'\n",
      "     'featureOfInterest=BBOX:%s&responseFormat=text/tab-separated-values&eventTime=%s') % (sos_name,box_str,iso_end)\n",
      "\n",
      "r = requests.get(url)\n",
      "data = r.text\n",
      "#get the headers for the cols\n",
      "data = data.split(\"\\n\")\n",
      "headers =  data[0]\n",
      "station_list_dict = dict()\n",
      "#parse the headers so i can create a dict\n",
      "c = 0\n",
      "for h in headers.split(\"\\t\"):\n",
      "    field = h.split(\":\")[0].split(\" \")[0]\n",
      "    station_list_dict[field] = {\"id\":c}\n",
      "    c+=1"
     ],
     "language": "python",
     "metadata": {},
     "outputs": [
      {
       "output_type": "stream",
       "stream": "stdout",
       "text": [
        "Date:  1980-05-01T00:00:00Z  to  2014-05-01T00:00:00Z\n",
        "Lat/Lon Box:  -75.94,38.67,-66.94,41.5\n"
       ]
      }
     ],
     "prompt_number": 711
    },
    {
     "cell_type": "code",
     "collapsed": false,
     "input": [
      "def get_coops_longName(sta):\n",
      "    \"\"\"\n",
      "    get longName for specific station from COOPS SOS using DescribeSensor request\n",
      "    \"\"\"\n",
      "    url=(sos_urls[0].split(\"?\")[0]+'?service=SOS&'\n",
      "        'request=DescribeSensor&version=1.0.0&outputFormat=text/xml;subtype=\"sensorML/1.0.1\"&'\n",
      "        'procedure=%s') % sta\n",
      "    tree = etree.parse(urllib2.urlopen(url))\n",
      "    root = tree.getroot()\n",
      "    longName=root.xpath(\"//sml:identifier[@name='longName']/sml:Term/sml:value/text()\", namespaces={'sml':\"http://www.opengis.net/sensorML/1.0.1\"})\n",
      "    return longName"
     ],
     "language": "python",
     "metadata": {},
     "outputs": [],
     "prompt_number": 712
    },
    {
     "cell_type": "code",
     "collapsed": false,
     "input": [
      "#finds the max value given a json object\n",
      "def findMaxVal(data):\n",
      "    dates_array = []\n",
      "    vals_array = []\n",
      "    for x in data:\n",
      "        dates_array.append(str(x[\"t\"]))\n",
      "        vals_array.append(x[\"v\"])\n",
      "    \n",
      "    p = np.array(vals_array,dtype=np.float)\n",
      "    x = np.arange(len(p))\n",
      "    max_val = np.amax(p)\n",
      "    max_idx = np.argmax(p)\n",
      "    return (max_val,len(p),dates_array[max_idx])"
     ],
     "language": "python",
     "metadata": {},
     "outputs": [],
     "prompt_number": 713
    },
    {
     "cell_type": "markdown",
     "metadata": {},
     "source": [
      "#### Extract the Observation Data from the collector"
     ]
    },
    {
     "cell_type": "code",
     "collapsed": false,
     "input": [
      "def coops2data(collector,station_id,sos_name):\n",
      "    collector.features = [station_id]\n",
      "    collector.variables = [sos_name]\n",
      "    station_data = dict()\n",
      "    #loop through the years and get the data needed\n",
      "    for year_station in range(int(collector.start_time.year),collector.end_time.year+1):      \n",
      "        link = \"http://tidesandcurrents.noaa.gov/api/datagetter?product=\"+sos_name+\"&application=NOS.COOPS.TAC.WL&\"\n",
      "        date1 = \"begin_date=\"+str(year_station)+\"0101\"\n",
      "        date2 = \"&end_date=\"+str(year_station)+\"1231\"\n",
      "        datum = \"&datum=MHHW\"\n",
      "        units = \"&units=metric\"\n",
      "        station_request = \"&station=\"+station_id+\"&time_zone=GMT&units=english&format=json\"\n",
      "        http_request = link+date1+date2+units+datum+station_request\n",
      "        #print http_request\n",
      "        d_r = requests.get(http_request,timeout=20)\n",
      "        if \"Great Lake station\" in d_r.text:\n",
      "            pass\n",
      "        else:\n",
      "            key_list =  d_r.json().keys()\n",
      "            if \"data\" in key_list:\n",
      "                data = d_r.json()['data']\n",
      "                max_value,num_samples,date_string = findMaxVal(data)\n",
      "                station_data[str(year_station)] =  {\"max\":max_value,\"num_samples\":num_samples,\"date_string\":date_string,\"raw\":data}\n",
      "                #print \"\\tyear:\",year_station,\" MaxValue:\",max_value\n",
      "    return station_data"
     ],
     "language": "python",
     "metadata": {},
     "outputs": [],
     "prompt_number": 714
    },
    {
     "cell_type": "code",
     "collapsed": false,
     "input": [
      "#create dict of stations\n",
      "station_list = []\n",
      "for i in range(1,len(data)):\n",
      "    station_info = data[i].split(\"\\t\")\n",
      "    station = dict()\n",
      "    for field in station_list_dict.keys():        \n",
      "        col = station_list_dict[field][\"id\"]\n",
      "        if col < len(station_info):\n",
      "            station[field] = station_info[col]\n",
      "    station[\"type\"] = \"obs\"        \n",
      "    station_list.append(station)        "
     ],
     "language": "python",
     "metadata": {},
     "outputs": [],
     "prompt_number": 715
    },
    {
     "cell_type": "code",
     "collapsed": false,
     "input": [
      "def add_invalid_marker(map,s,popup_string):\n",
      "    map.circle_marker(location=[s[\"latitude\"],s[\"longitude\"]], popup=popup_string, fill_color='#ff0000', radius=10000, line_color='#ff0000')"
     ],
     "language": "python",
     "metadata": {},
     "outputs": [],
     "prompt_number": 716
    },
    {
     "cell_type": "markdown",
     "metadata": {},
     "source": [
      "TODO: Add check before extracting the data to see if the required number of years will be met, i.e use SOS GetCaps and begin and end time"
     ]
    },
    {
     "cell_type": "code",
     "collapsed": false,
     "input": [
      "def does_station_have_enough_times():\n",
      "    return True"
     ],
     "language": "python",
     "metadata": {},
     "outputs": [],
     "prompt_number": 717
    },
    {
     "cell_type": "code",
     "collapsed": false,
     "input": [
      "#Embeds the HTML source of the map directly into the IPython notebook.\n",
      "def inline_map(map):   \n",
      "    map._build_map()\n",
      "    return HTML('<iframe srcdoc=\"{srcdoc}\" style=\"width: 100%; height: 500px; border: none\"></iframe>'.format(srcdoc=map.HTML.replace('\"', '&quot;')))\n",
      "\n",
      "\n",
      "#print bounding_box[0]\n",
      "map = folium.Map(location=[bounding_box[0][1], bounding_box[0][0]], zoom_start=6)\n",
      "\n",
      "station_yearly_max = []\n",
      "for s in station_list:\n",
      "    if s[\"type\"] is \"obs\": #if its an obs station\n",
      "        #get the long name\n",
      "        s[\"long_name\"] =get_coops_longName(s['station_id'])\n",
      "        s[\"station_num\"] = str(s['station_id']).split(':')[-1]\n",
      "        #this is different than sos name, hourly height is hourly water level\n",
      "        s[\"data\"] = coops2data(collector,s[\"station_num\"],\"high_low\")    \n",
      "        #verifies that there is the required amount of data at the station\n",
      "        if \"latitude\" in s:\n",
      "            if len(s[\"data\"].keys()) >= num_years_required:                        \n",
      "                popup_string = '<b>Station:</b><br>'+str(s['station_id']) + \"<br><b>Long Name:</b><br>\"+str(s[\"long_name\"])\n",
      "                map.simple_marker([s[\"latitude\"],s[\"longitude\"]],popup=popup_string)\n",
      "            else:\n",
      "                popup_string = '<b>Not Enough Station Data for number of years requested</b><br><br>Num requested:'+str(num_years_required)+'<br>Num Available:'+str(len(s[\"data\"].keys()))+'<br><b>Station:</b><br>'+str(s['station_id']) + \"<br><b>Long Name:</b><br>\"+str(s[\"long_name\"])\n",
      "                add_invalid_marker(map,s,popup_string)\n",
      "    else: #if its a model station\n",
      "        if \"latitude\" in s:        \n",
      "            popup_string = '<b>Station:</b><br>'+str(s['station_id']) + \"<br><b>Long Name:</b><br>\"+str(s[\"long_name\"])\n",
      "            map.simple_marker([s[\"latitude\"],s[\"longitude\"]],popup=popup_string)\n",
      "   \n",
      "# Create the map and add the bounding box line\n",
      "map.line(get_coordinates(bounding_box,bounding_box_type), line_color='#FF0000', line_weight=5)\n",
      "#show map of results\n",
      "inline_map(map)"
     ],
     "language": "python",
     "metadata": {},
     "outputs": [
      {
       "html": [
        "<iframe srcdoc=\"<!DOCTYPE html>\n",
        "<head>\n",
        "   <meta http-equiv=&quot;content-type&quot; content=&quot;text/html; charset=UTF-8&quot; />\n",
        "   <link rel=&quot;stylesheet&quot; href=&quot;http://cdn.leafletjs.com/leaflet-0.7.2/leaflet.css&quot; />\n",
        "   <script src=&quot;http://cdn.leafletjs.com/leaflet-0.7.2/leaflet.js&quot;></script>\n",
        "\n",
        "   \n",
        "   \n",
        "   \n",
        "   \n",
        "\n",
        "\n",
        "   <style>\n",
        "\n",
        "      #map {\n",
        "        position:absolute;\n",
        "        top:0;\n",
        "        bottom:0;\n",
        "        right:0;\n",
        "        left:0;\n",
        "      }\n",
        "\n",
        "   </style>\n",
        "</head>\n",
        "\n",
        "<body>\n",
        "\n",
        "   <div class=&quot;folium-map&quot; id=&quot;folium_2b767ff0009e4610a9753e93ed8c957b&quot; style=&quot;width: 960px; height: 500px&quot;></div>\n",
        "\n",
        "   <script>\n",
        "\n",
        "      \n",
        "\n",
        "      var map = L.map('folium_2b767ff0009e4610a9753e93ed8c957b').setView([38.67, -75.94], 6);\n",
        "\n",
        "      L.tileLayer('http://{s}.tile.openstreetmap.org/{z}/{x}/{y}.png', {\n",
        "          maxZoom: 18,\n",
        "          attribution: 'Map data (c) <a href=&quot;http://openstreetmap.org&quot;>OpenStreetMap</a> contributors'\n",
        "      }).addTo(map);\n",
        "\n",
        "      \n",
        "      var marker_1 = L.marker([41.2850, -70.0967]);\n",
        "      marker_1.bindPopup(&quot;<b>Station:</b><br>urn:ioos:station:NOAA.NOS.CO-OPS:8449130<br><b>Long Name:</b><br>['Nantucket Island, MA']&quot;);\n",
        "      map.addLayer(marker_1)\n",
        "      \n",
        "      var marker_2 = L.marker([41.3614, -72.0900]);\n",
        "      marker_2.bindPopup(&quot;<b>Station:</b><br>urn:ioos:station:NOAA.NOS.CO-OPS:8461490<br><b>Long Name:</b><br>['New London, CT']&quot;);\n",
        "      map.addLayer(marker_2)\n",
        "      \n",
        "      var circle_1 = L.circle([41.2833, -72.9083], 10000, {\n",
        "                            color: '#ff0000',\n",
        "                            fillColor: '#ff0000',\n",
        "                            fillOpacity: 0.6\n",
        "                            });\n",
        "      circle_1.bindPopup(&quot;<b>Not Enough Station Data for number of years requested</b><br><br>Num requested:30<br>Num Available:16<br><b>Station:</b><br>urn:ioos:station:NOAA.NOS.CO-OPS:8465705<br><b>Long Name:</b><br>['New Haven, CT']&quot;);\n",
        "      map.addLayer(circle_1)\n",
        "      \n",
        "      var circle_2 = L.circle([41.1733, -73.1817], 10000, {\n",
        "                            color: '#ff0000',\n",
        "                            fillColor: '#ff0000',\n",
        "                            fillOpacity: 0.6\n",
        "                            });\n",
        "      circle_2.bindPopup(&quot;<b>Not Enough Station Data for number of years requested</b><br><br>Num requested:30<br>Num Available:19<br><b>Station:</b><br>urn:ioos:station:NOAA.NOS.CO-OPS:8467150<br><b>Long Name:</b><br>['Bridgeport, CT']&quot;);\n",
        "      map.addLayer(circle_2)\n",
        "      \n",
        "      var circle_3 = L.circle([41.0483, -71.9600], 10000, {\n",
        "                            color: '#ff0000',\n",
        "                            fillColor: '#ff0000',\n",
        "                            fillOpacity: 0.6\n",
        "                            });\n",
        "      circle_3.bindPopup(&quot;<b>Not Enough Station Data for number of years requested</b><br><br>Num requested:30<br>Num Available:29<br><b>Station:</b><br>urn:ioos:station:NOAA.NOS.CO-OPS:8510560<br><b>Long Name:</b><br>['Montauk, NY']&quot;);\n",
        "      map.addLayer(circle_3)\n",
        "      \n",
        "      var circle_4 = L.circle([40.8103, -73.7649], 10000, {\n",
        "                            color: '#ff0000',\n",
        "                            fillColor: '#ff0000',\n",
        "                            fillOpacity: 0.6\n",
        "                            });\n",
        "      circle_4.bindPopup(&quot;<b>Not Enough Station Data for number of years requested</b><br><br>Num requested:30<br>Num Available:17<br><b>Station:</b><br>urn:ioos:station:NOAA.NOS.CO-OPS:8516945<br><b>Long Name:</b><br>['Kings Point, NY']&quot;);\n",
        "      map.addLayer(circle_4)\n",
        "      \n",
        "      var marker_3 = L.marker([40.7006, -74.0142]);\n",
        "      marker_3.bindPopup(&quot;<b>Station:</b><br>urn:ioos:station:NOAA.NOS.CO-OPS:8518750<br><b>Long Name:</b><br>['The Battery, NY']&quot;);\n",
        "      map.addLayer(marker_3)\n",
        "      \n",
        "      var marker_4 = L.marker([40.6367, -74.1417]);\n",
        "      marker_4.bindPopup(&quot;<b>Station:</b><br>urn:ioos:station:NOAA.NOS.CO-OPS:8519483<br><b>Long Name:</b><br>['Bergen Point West Reach, NY']&quot;);\n",
        "      map.addLayer(marker_4)\n",
        "      \n",
        "      var marker_5 = L.marker([40.4669, -74.0094]);\n",
        "      marker_5.bindPopup(&quot;<b>Station:</b><br>urn:ioos:station:NOAA.NOS.CO-OPS:8531680<br><b>Long Name:</b><br>['Sandy Hook, NJ']&quot;);\n",
        "      map.addLayer(marker_5)\n",
        "      \n",
        "      var circle_5 = L.circle([39.3550, -74.4183], 10000, {\n",
        "                            color: '#ff0000',\n",
        "                            fillColor: '#ff0000',\n",
        "                            fillOpacity: 0.6\n",
        "                            });\n",
        "      circle_5.bindPopup(&quot;<b>Not Enough Station Data for number of years requested</b><br><br>Num requested:30<br>Num Available:22<br><b>Station:</b><br>urn:ioos:station:NOAA.NOS.CO-OPS:8534720<br><b>Long Name:</b><br>['Atlantic City, NJ']&quot;);\n",
        "      map.addLayer(circle_5)\n",
        "      \n",
        "      var marker_6 = L.marker([38.9683, -74.9600]);\n",
        "      marker_6.bindPopup(&quot;<b>Station:</b><br>urn:ioos:station:NOAA.NOS.CO-OPS:8536110<br><b>Long Name:</b><br>['Cape May, NJ']&quot;);\n",
        "      map.addLayer(marker_6)\n",
        "      \n",
        "      var circle_6 = L.circle([39.3050, -75.3750], 10000, {\n",
        "                            color: '#ff0000',\n",
        "                            fillColor: '#ff0000',\n",
        "                            fillOpacity: 0.6\n",
        "                            });\n",
        "      circle_6.bindPopup(&quot;<b>Not Enough Station Data for number of years requested</b><br><br>Num requested:30<br>Num Available:13<br><b>Station:</b><br>urn:ioos:station:NOAA.NOS.CO-OPS:8537121<br><b>Long Name:</b><br>['Ship John Shoal, NJ']&quot;);\n",
        "      map.addLayer(circle_6)\n",
        "      \n",
        "      var circle_7 = L.circle([40.0817, -74.8697], 10000, {\n",
        "                            color: '#ff0000',\n",
        "                            fillColor: '#ff0000',\n",
        "                            fillOpacity: 0.6\n",
        "                            });\n",
        "      circle_7.bindPopup(&quot;<b>Not Enough Station Data for number of years requested</b><br><br>Num requested:30<br>Num Available:13<br><b>Station:</b><br>urn:ioos:station:NOAA.NOS.CO-OPS:8539094<br><b>Long Name:</b><br>['Burlington, Delaware River, NJ']&quot;);\n",
        "      map.addLayer(circle_7)\n",
        "      \n",
        "      var circle_8 = L.circle([39.8117, -75.4100], 10000, {\n",
        "                            color: '#ff0000',\n",
        "                            fillColor: '#ff0000',\n",
        "                            fillOpacity: 0.6\n",
        "                            });\n",
        "      circle_8.bindPopup(&quot;<b>Not Enough Station Data for number of years requested</b><br><br>Num requested:30<br>Num Available:13<br><b>Station:</b><br>urn:ioos:station:NOAA.NOS.CO-OPS:8540433<br><b>Long Name:</b><br>['Marcus Hook, PA']&quot;);\n",
        "      map.addLayer(circle_8)\n",
        "      \n",
        "      var circle_9 = L.circle([39.9333, -75.1417], 10000, {\n",
        "                            color: '#ff0000',\n",
        "                            fillColor: '#ff0000',\n",
        "                            fillOpacity: 0.6\n",
        "                            });\n",
        "      circle_9.bindPopup(&quot;<b>Not Enough Station Data for number of years requested</b><br><br>Num requested:30<br>Num Available:19<br><b>Station:</b><br>urn:ioos:station:NOAA.NOS.CO-OPS:8545240<br><b>Long Name:</b><br>['Philadelphia, PA']&quot;);\n",
        "      map.addLayer(circle_9)\n",
        "      \n",
        "      var circle_10 = L.circle([40.1367, -74.7517], 10000, {\n",
        "                            color: '#ff0000',\n",
        "                            fillColor: '#ff0000',\n",
        "                            fillOpacity: 0.6\n",
        "                            });\n",
        "      circle_10.bindPopup(&quot;<b>Not Enough Station Data for number of years requested</b><br><br>Num requested:30<br>Num Available:14<br><b>Station:</b><br>urn:ioos:station:NOAA.NOS.CO-OPS:8548989<br><b>Long Name:</b><br>['Newbold, PA']&quot;);\n",
        "      map.addLayer(circle_10)\n",
        "      \n",
        "      var circle_11 = L.circle([39.5817, -75.5883], 10000, {\n",
        "                            color: '#ff0000',\n",
        "                            fillColor: '#ff0000',\n",
        "                            fillOpacity: 0.6\n",
        "                            });\n",
        "      circle_11.bindPopup(&quot;<b>Not Enough Station Data for number of years requested</b><br><br>Num requested:30<br>Num Available:14<br><b>Station:</b><br>urn:ioos:station:NOAA.NOS.CO-OPS:8551762<br><b>Long Name:</b><br>['Delaware City, DE']&quot;);\n",
        "      map.addLayer(circle_11)\n",
        "      \n",
        "      var circle_12 = L.circle([39.5583, -75.5733], 10000, {\n",
        "                            color: '#ff0000',\n",
        "                            fillColor: '#ff0000',\n",
        "                            fillOpacity: 0.6\n",
        "                            });\n",
        "      circle_12.bindPopup(&quot;<b>Not Enough Station Data for number of years requested</b><br><br>Num requested:30<br>Num Available:19<br><b>Station:</b><br>urn:ioos:station:NOAA.NOS.CO-OPS:8551910<br><b>Long Name:</b><br>['Reedy Point, DE']&quot;);\n",
        "      map.addLayer(circle_12)\n",
        "      \n",
        "      var marker_7 = L.marker([38.7817, -75.1200]);\n",
        "      marker_7.bindPopup(&quot;<b>Station:</b><br>urn:ioos:station:NOAA.NOS.CO-OPS:8557380<br><b>Long Name:</b><br>['Lewes, DE']&quot;);\n",
        "      map.addLayer(marker_7)\n",
        "      \n",
        "      var circle_13 = L.circle([39.5267, -75.8100], 10000, {\n",
        "                            color: '#ff0000',\n",
        "                            fillColor: '#ff0000',\n",
        "                            fillOpacity: 0.6\n",
        "                            });\n",
        "      circle_13.bindPopup(&quot;<b>Not Enough Station Data for number of years requested</b><br><br>Num requested:30<br>Num Available:13<br><b>Station:</b><br>urn:ioos:station:NOAA.NOS.CO-OPS:8573927<br><b>Long Name:</b><br>['Chesapeake City, MD']&quot;);\n",
        "      map.addLayer(circle_13)\n",
        "      \n",
        "\n",
        "      \n",
        "      var latLngs = [ [38.67, -75.94],  [38.67, -66.94],  [41.5, -66.94],  [41.5, -75.94],  [38.67, -75.94], ];\n",
        "var line_1 = L.polyline(latLngs,{\n",
        "color: '#FF0000',\n",
        "weight: 5,\n",
        "\n",
        "});\n",
        "      map.addLayer(line_1);\n",
        "      \n",
        "\n",
        "      \n",
        "\n",
        "      \n",
        "\n",
        "   </script>\n",
        "\n",
        "</body>\" style=\"width: 100%; height: 500px; border: none\"></iframe>"
       ],
       "metadata": {},
       "output_type": "pyout",
       "prompt_number": 718,
       "text": [
        "<IPython.core.display.HTML at 0x1100c8110>"
       ]
      }
     ],
     "prompt_number": 718
    },
    {
     "cell_type": "markdown",
     "metadata": {},
     "source": [
      "### Creates a time series plot only showing those stations that have enough data"
     ]
    },
    {
     "cell_type": "code",
     "collapsed": false,
     "input": [
      "import prettyplotlib as ppl\n",
      "\n",
      "# Set the random seed for consistency\n",
      "np.random.seed(12)\n",
      "\n",
      "fig, ax = plt.subplots(1)\n",
      "\n",
      "# Show the whole color range\n",
      "for s in station_list:\n",
      "    if \"data\" in s:\n",
      "        years = s[\"data\"].keys()\n",
      "        #only show the stations with enough data\n",
      "        if len(s[\"data\"].keys()) >= num_years_required:  \n",
      "            xx = []\n",
      "            yx = []\n",
      "            for y in years:    \n",
      "                xx.append(int(y))\n",
      "                val = s[\"data\"][y][\"max\"]\n",
      "                yx.append(val)  \n",
      "            \n",
      "            ax.scatter(xx,yx,marker='o')\n",
      "            ppl.scatter(ax, xx, yx, alpha=0.8, edgecolor='black', linewidth=0.15, label=str(s[\"station_num\"]))\n",
      "            #ax.scatter(xx, yx, label=str(s[\"station_num\"]))\n",
      "    \n",
      "            ppl.legend(ax, loc='right', ncol=1)\n",
      "            #legend = ax.legend(loc='best')\n",
      "            \n",
      "            # The frame is matplotlib.patches.Rectangle instance surrounding the legend.\n",
      "            #frame  = legend.get_frame()\n",
      "            \n",
      "            title = s[\"long_name\"][0] + ' water level'           \n",
      "            ax.set_xlabel('Year')\n",
      "            ax.set_ylabel('water level (m)')\n",
      "ax.set_title(\"Stations exceeding \"+str(num_years_required)+ \" years worth of water level data (MHHW)\")\n",
      "fig.set_size_inches(14,8)"
     ],
     "language": "python",
     "metadata": {},
     "outputs": [
      {
       "metadata": {},
       "output_type": "display_data",
       "png": "[encoded data removed]",
       "text": [
        "<matplotlib.figure.Figure at 0x11089edd0>"
       ]
      }
     ],
     "prompt_number": 720
    },
    {
     "cell_type": "markdown",
     "metadata": {},
     "source": [
      "### Number of stations available by number of years"
     ]
    },
    {
     "cell_type": "code",
     "collapsed": false,
     "input": [
      "fig, ax = plt.subplots(1)\n",
      "year_list_map = []\n",
      "for s in station_list:\n",
      "    if \"data\" in s:\n",
      "        years = s[\"data\"].keys()        \n",
      "        year_list_map.append(len(years))\n",
      "        \n",
      "ppl.hist(ax,np.array(year_list_map), grid='y')\n",
      "plt.plot([num_years_required, num_years_required], [0, 8], 'r-', lw=2)\n",
      "ax.set_ylabel(\"Number of Stations\")\n",
      "ax.set_xlabel(\"Number of Years Available\")\n",
      "ax.set_title(\"Number of available stations vs available years\\n(for bounding box) - red is minimum requested years\")\n",
      "#"
     ],
     "language": "python",
     "metadata": {},
     "outputs": [
      {
       "metadata": {},
       "output_type": "pyout",
       "prompt_number": 766,
       "text": [
        "<matplotlib.text.Text at 0x1197efa90>"
       ]
      },
      {
       "metadata": {},
       "output_type": "display_data",
       "png": "[encoded data removed]",
       "text": [
        "<matplotlib.figure.Figure at 0x1196f19d0>"
       ]
      }
     ],
     "prompt_number": 766
    },
    {
     "cell_type": "markdown",
     "metadata": {},
     "source": [
      "### Get Model Data, uses the netcdf4 library to get the model data (<b>Still in Development</b>)\n",
      "#### Obtains the model data from a given dap url, for a given location\n",
      "#### TODO: Temporal extraction based on temporal contraints"
     ]
    },
    {
     "cell_type": "code",
     "collapsed": false,
     "input": [
      "#### IJ GRID READER\n",
      "#use the simple grid to find the data requested\n",
      "#lat_var,lon_var are pointers to the data\n",
      "def find_closest_pts_ij(lat_var,lon_var,f_lat,f_lon):    \n",
      "    x = lat_var[:]\n",
      "    y = lon_var[:]\n",
      "    dist = -1\n",
      "    xidx = -1\n",
      "    yidx = -1\n",
      "    \n",
      "    for i in range(0,len(x)):\n",
      "        for j in range(0,len(y)):\n",
      "            distance = Point(x[i],y[j]).distance(Point(f_lat,f_lon))\n",
      "            if dist == -1:\n",
      "                dist = distance\n",
      "                xidx = i\n",
      "                yidx = j\n",
      "            elif distance < dist:\n",
      "                dist = distance\n",
      "                xidx = i\n",
      "                yidx = j\n",
      "\n",
      "    lat = x[xidx]\n",
      "    lon = y[yidx]\n",
      "    #lat lon index of point\n",
      "    vals = [lat,lon,xidx,yidx]\n",
      "    return vals\n",
      "#### NCELL GRID READER\n",
      "#use the simple grid to find the data requested\n",
      "#lat_var,lon_var are pointers to the data\n",
      "def find_closest_pts_ncell(map1,lat_var,lon_var,f_lat,f_lon,spacing):\n",
      "    x = lat_var[::spacing]\n",
      "    y = lon_var[::spacing]\n",
      "    idx = get_dist(x,y,f_lat,f_lon,'#666699','#666699',map1,False)\n",
      "    #find the idx that is closest        \n",
      "    print spacing,\" :index: \",idx\n",
      "    idx = idx[0]*spacing\n",
      "    st_idx = idx-(2*spacing)\n",
      "    ed_idx = idx+(2*spacing)\n",
      "    \n",
      "    x = lat_var[st_idx:ed_idx]\n",
      "    y = lon_var[st_idx:ed_idx]\n",
      "    ret = get_dist(x,y,f_lat,f_lon,'#00FFFF','#33CCFF',map1,False)\n",
      "    lat = x[ret[0]]\n",
      "    lon = y[ret[0]]\n",
      "    #lat lon index of point distance between points\n",
      "    vals = [lat,lon,ret[0],ret[1]]\n",
      "    return vals\n",
      "def get_dist(x,y,f_lat,f_lon,color1,color2,map1,show_pts):\n",
      "    dist = -1\n",
      "    idx = -1\n",
      "    for i in range(0,len(x)):\n",
      "        distance = Point(x[i],y[i]).distance(Point(f_lat,f_lon))\n",
      "        if dist == -1:\n",
      "            dist = distance\n",
      "            idx = i\n",
      "        elif distance < dist:\n",
      "            dist = distance\n",
      "            idx = i\n",
      "        if show_pts:\n",
      "            map1.circle_marker(location=[x[i], y[i]], radius=500,popup=\"idx:\"+str(i), line_color=color2,fill_color=color1, fill_opacity=0.3)\n",
      "            \n",
      "      \n",
      "    return [idx,dist]\n",
      "#### VERIFIES THAT THE GRID IS VALID\n",
      "def check_grid_is_valid(time_var,lat_var,lon_var,interest_var):\n",
      "    grid_type = None\n",
      "    \n",
      "    # there is data with the fields of interest, now lets check the fields for validity\n",
      "    valid_grid = False\n",
      "    #they are both the same length\n",
      "    if len(lon_var.shape) == len(lat_var.shape):\n",
      "        if lon_var.shape[0] == lat_var.shape[0]:\n",
      "            #both the same size\n",
      "            #print \"gridded data...\"\n",
      "            valid_grid = True\n",
      "        else:\n",
      "            #both different, possibly meaning i,j grid field\n",
      "            #print \"gridded data...\"\n",
      "            valid_grid = True\n",
      "    else:\n",
      "        print \"shapes are different?...moving on...\"\n",
      "        valid_grid = False\n",
      "        \n",
      "    if valid_grid:\n",
      "        #find out what the grid is structured\n",
      "        if (len(interest_var.dimensions) == 2) and (interest_var.dimensions[0] == \"time\") and (interest_var.dimensions[1] == \"node\"):\n",
      "            #ncell\n",
      "            grid_type = \"ncell\"\n",
      "            pass\n",
      "        elif (len(interest_var.dimensions) == 3) and (interest_var.dimensions[0] == \"time\") and (interest_var.dimensions[1] == \"lat\") and (interest_var.dimensions[2] == \"lon\"):\n",
      "            #ij \n",
      "            grid_type = \"ij\"\n",
      "            pass\n",
      "        else:\n",
      "            #make sure it stays none\n",
      "            grid_type =  None\n",
      "        \n",
      "        if grid_type is not None:\n",
      "            #can be used to print some info\n",
      "            #print \"dims: \",interest_var.dimensions\n",
      "            #print \"lat: \", lat_var.shape\n",
      "            #print \"lon: \", lon_var.shape\n",
      "            pass\n",
      "            \n",
      "    return grid_type    \n",
      "def is_model_in_time_range(time_var):\n",
      "    return True\n",
      "# use only data where the standard deviation of the time series exceeds 0.01 m (1 cm)\n",
      "# this eliminates flat line model time series that come from land points that \n",
      "# should have had missing values.\n",
      "# min_var_value = 0.01\n",
      "def data_min_value_met(min_var_value,data):\n",
      "    std_value = np.std(data)\n",
      "    \n",
      "    if np.isinf(std_value):\n",
      "        print \"... value is inf\"\n",
      "        return False\n",
      "    if np.isnan(std_value):\n",
      "        print \"... value is nan\"\n",
      "        return False\n",
      "    \n",
      "    if np.amax(data) < min_var_value:\n",
      "        print \"...max value to low\"\n",
      "        return False\n",
      "    if np.amax(data) >999:\n",
      "        print \"...max value to high\"\n",
      "        return False\n",
      "    if std_value > min_var_value:\n",
      "        return True \n",
      "    else:\n",
      "        print \"...std value to low\"\n",
      "        return False\n",
      "    \n",
      "    return False\n",
      "def get_model_data(map1,dap_urls,st_lat,st_lon,start_dt,end_dt,name_list):\n",
      "    # use only data within 0.04 degrees (about 4 km)\n",
      "    max_dist=0.04 \n",
      "    \n",
      "    min_var_value = 0.01\n",
      "    \n",
      "    # set the lat,lon and time fields\n",
      "    lon_list =[\"degrees_east\"]\n",
      "    lat_list = [\"degrees_north\"]\n",
      "    time_list = [\"time\"]\n",
      "    \n",
      "    model_data_store = []\n",
      "    \n",
      "    for url in dap_urls:\n",
      "        try:\n",
      "            #open the url\n",
      "            nc = netCDF4.Dataset(url, 'r')\n",
      "\n",
      "            #get the list of variables\n",
      "            lon_var = None\n",
      "            lat_var = None\n",
      "            time_var = None\n",
      "            interest_var = None\n",
      "            #get the var\n",
      "            var_list = nc.variables.keys()\n",
      "            for var in var_list:\n",
      "                v = nc.variables[var]                    \n",
      "                try:                    \n",
      "                    #lon\n",
      "                    if (v.units in lon_list or v.long_name in lon_list) and \"zonal\" not in v.long_name:             \n",
      "                        lon_var = v\n",
      "                    #lat\n",
      "                    elif (v.units in lat_list or v.long_name in lat_list) and \"zonal\" not in v.long_name:    \n",
      "                        lat_var = v \n",
      "                    #make sure there is time in there    \n",
      "                    elif v.long_name in time_list or v.standard_name in time_list:    \n",
      "                        time_var = v                                             \n",
      "                    #get the data of interest\n",
      "                    elif v.long_name in name_list or v.standard_name in name_list:            \n",
      "                        interest_var = v\n",
      "                    #it was something else i dont know or care about\n",
      "                    else:\n",
      "                        pass\n",
      "                except Exception, e:\n",
      "                    #print \"\\t\", e\n",
      "                    pass\n",
      "            \n",
      "            #is time in range?\n",
      "            if is_model_in_time_range(time_var):\n",
      "                #all the variables should be set\n",
      "                if (lon_var is None) and (lat_var is None) and (time_var is None) and (interest_var is None):\n",
      "                    pass\n",
      "                else:    \n",
      "                    #check the grid is valid and of a type\n",
      "                    grid_type = check_grid_is_valid(time_var,lat_var,lon_var,interest_var)\n",
      "                    try:\n",
      "                        if grid_type == \"ncell\":\n",
      "                            #\n",
      "                            #usually ncell grids are massive so lets slice the grid\n",
      "                            #\n",
      "                            print \"processing the grid...\"                                                        \n",
      "                            spacing = 10\n",
      "                            '''\n",
      "                            the distance is the Euclidean Distance \n",
      "                            or Linear distance between two points on a plane \n",
      "                            and not the Great-circle distance between two points on a sphere\n",
      "                            TODO convert dist to m \n",
      "                            see (http://gis.stackexchange.com/questions/80881/what-is-the-unit-the-shapely-length-attribute)\n",
      "                            '''\n",
      "                            # vals = lat lon index of point distance between points\n",
      "                            vals = find_closest_pts_ncell(map1,lat_var,lon_var,st_lat,st_lon,spacing) \n",
      "                            \n",
      "                            if vals[3] < 1:                        \n",
      "                                #if the dist to the cell is small enough\n",
      "                                time_vals = time_var[:]\n",
      "                                data = interest_var[:,vals[2]]\n",
      "                                data = np.array(data)\n",
      "                                bool_a = data_min_value_met(min_var_value,data)  \n",
      "                                print bool_a    \n",
      "                                if bool_a: \n",
      "                                    #add a marker\n",
      "                                    map1.circle_marker(location=[vals[0], vals[1]], radius=500,popup=\"dist:\"+str(vals[3]), line_color='#33CC33',fill_color='#00FF00', fill_opacity=0.6)                                \n",
      "                                    print vals\n",
      "                                    print url\n",
      "                                    print \"distance To Station:\",vals[3]\n",
      "                                    print \"num time values:\",len(time_vals)\n",
      "                                    print \"units: \",interest_var.units\n",
      "                                    x = np.arange(len(time_vals))                                    \n",
      "                                    plt.figure()\n",
      "                                    plt.plot(x, data)\n",
      "                                    plt.title('Water Level');\n",
      "                                    plt.xlabel('time index')\n",
      "                                    plt.ylabel(interest_var.units)\n",
      "                                    #set maxs\n",
      "                                    plt.ylim([np.amin(data),np.amax(data)])\n",
      "                                    plt.show()\n",
      "                                    print \"---------------------\"\n",
      "                                    \n",
      "                            pass\n",
      "                        \n",
      "                        \n",
      "                        \n",
      "                        elif grid_type == \"ij\":\n",
      "                            #\n",
      "                            # IJ \n",
      "                            #\n",
      "                            pass\n",
      "                    except Exception, e:\n",
      "                        print e\n",
      "            else:\n",
      "                print \"model not in time range...\"\n",
      "                \n",
      "                \n",
      "                \n",
      "        #something went wrong trying to access the grids        \n",
      "        except RuntimeError, e:\n",
      "            print \"possible connection error for url\"\n",
      "            pass\n",
      "        except:\n",
      "            pass\n",
      "        \n",
      "def inline_map(map1):   \n",
      "    map1._build_map()\n",
      "    return HTML('<iframe srcdoc=\"{srcdoc}\" style=\"width: 95%; height: 550px; border: none\"></iframe>'.format(srcdoc=map1.HTML.replace('\"', '&quot;')))\n",
      "\n",
      "pt_lat = 41.501\n",
      "pt_lon = -71\n",
      "\n",
      "map1 = folium.Map(location=[pt_lat, pt_lon], zoom_start=9)\n",
      "\n",
      "map1.simple_marker([pt_lat, pt_lon],popup=\"\")\n",
      "#EXAMPLE get model data for a station\n",
      "start_time = dt.datetime(2008, 9, 10, 5, 1, 1)\n",
      "end_time = dt.datetime(2008, 9, 11, 5, 1, 1)\n",
      "sample_data = get_model_data(map1,dap_urls,pt_lat,pt_lon,start_time,end_time,data_dict[\"water\"][\"names\"])"
     ],
     "language": "python",
     "metadata": {},
     "outputs": [
      {
       "output_type": "stream",
       "stream": "stdout",
       "text": [
        "shapes are different?...moving on...\n",
        "processing the grid..."
       ]
      },
      {
       "output_type": "stream",
       "stream": "stdout",
       "text": [
        "\n",
        "10"
       ]
      },
      {
       "output_type": "stream",
       "stream": "stdout",
       "text": [
        "  :index:  [5467, 0.03188990476982834]\n",
        "... value is inf"
       ]
      },
      {
       "output_type": "stream",
       "stream": "stdout",
       "text": [
        "\n",
        "False\n",
        "processing the grid..."
       ]
      },
      {
       "output_type": "stream",
       "stream": "stdout",
       "text": [
        "\n",
        "10"
       ]
      },
      {
       "output_type": "stream",
       "stream": "stdout",
       "text": [
        "  :index:  [5467, 0.03188990476982834]\n",
        "...max value to low"
       ]
      },
      {
       "output_type": "stream",
       "stream": "stdout",
       "text": [
        "\n",
        "False\n",
        "processing the grid..."
       ]
      },
      {
       "output_type": "stream",
       "stream": "stdout",
       "text": [
        "\n",
        "10"
       ]
      },
      {
       "output_type": "stream",
       "stream": "stdout",
       "text": [
        "  :index:  [5467, 0.03188990476982834]\n",
        "...max value to low"
       ]
      },
      {
       "output_type": "stream",
       "stream": "stdout",
       "text": [
        "\n",
        "False\n",
        "processing the grid..."
       ]
      },
      {
       "output_type": "stream",
       "stream": "stdout",
       "text": [
        "\n",
        "10"
       ]
      },
      {
       "output_type": "stream",
       "stream": "stdout",
       "text": [
        "  :index:  [5467, 0.03188990476982834]\n",
        "...max value to low"
       ]
      },
      {
       "output_type": "stream",
       "stream": "stdout",
       "text": [
        "\n",
        "False\n",
        "processing the grid..."
       ]
      },
      {
       "output_type": "stream",
       "stream": "stdout",
       "text": [
        "\n",
        "10"
       ]
      },
      {
       "output_type": "stream",
       "stream": "stdout",
       "text": [
        "  :index:  [5467, 0.03188990476982834]\n",
        "...max value to low"
       ]
      },
      {
       "output_type": "stream",
       "stream": "stdout",
       "text": [
        "\n",
        "False\n",
        "processing the grid..."
       ]
      },
      {
       "output_type": "stream",
       "stream": "stdout",
       "text": [
        "\n",
        "10"
       ]
      },
      {
       "output_type": "stream",
       "stream": "stdout",
       "text": [
        "  :index:  [24089, 0.052865464341099136]\n",
        "True"
       ]
      },
      {
       "output_type": "stream",
       "stream": "stdout",
       "text": [
        "\n",
        "[41.454498000000001, -71.025146000000007, 20, 0.052865464341099136]\n",
        "http://geoport-dev.whoi.edu/thredds/dodsC/estofs/atlantic\n",
        "distance To Station: 0.0528654643411\n",
        "num time values: 1986\n",
        "units:  m\n"
       ]
      },
      {
       "metadata": {},
       "output_type": "display_data",
       "png": "[encoded data removed]",
       "text": [
        "<matplotlib.figure.Figure at 0x109fb7bd0>"
       ]
      },
      {
       "output_type": "stream",
       "stream": "stdout",
       "text": [
        "---------------------\n",
        "possible connection error for url"
       ]
      },
      {
       "output_type": "stream",
       "stream": "stdout",
       "text": [
        "\n",
        "possible connection error for url"
       ]
      },
      {
       "output_type": "stream",
       "stream": "stdout",
       "text": [
        "\n",
        "possible connection error for url"
       ]
      },
      {
       "output_type": "stream",
       "stream": "stdout",
       "text": [
        "\n",
        "processing the grid..."
       ]
      },
      {
       "output_type": "stream",
       "stream": "stdout",
       "text": [
        "\n",
        "10"
       ]
      },
      {
       "output_type": "stream",
       "stream": "stdout",
       "text": [
        "  :index:  [781, 0.007044445399814609]\n",
        "True"
       ]
      },
      {
       "output_type": "stream",
       "stream": "stdout",
       "text": [
        "\n",
        "[41.504032, -71.001465, 22, 0.003367433730509716]\n",
        "http://www.smast.umassd.edu:8080/thredds/dodsC/FVCOM/NECOFS/Forecasts/NECOFS_FVCOM_OCEAN_MASSBAY_FORECAST.nc\n",
        "distance To Station: 0.00336743373051\n",
        "num time values: 145\n",
        "units:  meters\n"
       ]
      },
      {
       "metadata": {},
       "output_type": "display_data",
       "png": "[encoded data removed]",
       "text": [
        "<matplotlib.figure.Figure at 0x10a8e4250>"
       ]
      },
      {
       "output_type": "stream",
       "stream": "stdout",
       "text": [
        "---------------------\n",
        "processing the grid..."
       ]
      },
      {
       "output_type": "stream",
       "stream": "stdout",
       "text": [
        "\n",
        "10"
       ]
      },
      {
       "output_type": "stream",
       "stream": "stdout",
       "text": [
        "  :index:  [3725, 0.009580860082891334]\n",
        "True"
       ]
      },
      {
       "output_type": "stream",
       "stream": "stdout",
       "text": [
        "\n",
        "[41.508965, -71.005325, 20, 0.009580860082891334]\n",
        "http://www.smast.umassd.edu:8080/thredds/dodsC/FVCOM/NECOFS/Forecasts/NECOFS_GOM3_FORECAST.nc\n",
        "distance To Station: 0.00958086008289\n",
        "num time values: 145\n",
        "units:  meters\n"
       ]
      },
      {
       "metadata": {},
       "output_type": "display_data",
       "png": "[encoded data removed]",
       "text": [
        "<matplotlib.figure.Figure at 0x1103f8f90>"
       ]
      },
      {
       "output_type": "stream",
       "stream": "stdout",
       "text": [
        "---------------------\n",
        "processing the grid..."
       ]
      },
      {
       "output_type": "stream",
       "stream": "stdout",
       "text": [
        "\n",
        "10"
       ]
      },
      {
       "output_type": "stream",
       "stream": "stdout",
       "text": [
        "  :index:  [3627, 0.00541574865839582]\n",
        "...max value to low"
       ]
      },
      {
       "output_type": "stream",
       "stream": "stdout",
       "text": [
        "\n",
        "False\n"
       ]
      }
     ],
     "prompt_number": 599
    },
    {
     "cell_type": "markdown",
     "metadata": {},
     "source": [
      "#### Show model results on a map"
     ]
    },
    {
     "cell_type": "code",
     "collapsed": false,
     "input": [
      "inline_map(map1)"
     ],
     "language": "python",
     "metadata": {},
     "outputs": [
      {
       "html": [
        "<iframe srcdoc=\"<!DOCTYPE html>\n",
        "<head>\n",
        "   <meta http-equiv=&quot;content-type&quot; content=&quot;text/html; charset=UTF-8&quot; />\n",
        "   <link rel=&quot;stylesheet&quot; href=&quot;http://cdn.leafletjs.com/leaflet-0.7.2/leaflet.css&quot; />\n",
        "   <script src=&quot;http://cdn.leafletjs.com/leaflet-0.7.2/leaflet.js&quot;></script>\n",
        "\n",
        "   \n",
        "   \n",
        "   \n",
        "   \n",
        "\n",
        "\n",
        "   <style>\n",
        "\n",
        "      #map {\n",
        "        position:absolute;\n",
        "        top:0;\n",
        "        bottom:0;\n",
        "        right:0;\n",
        "        left:0;\n",
        "      }\n",
        "\n",
        "   </style>\n",
        "</head>\n",
        "\n",
        "<body>\n",
        "\n",
        "   <div class=&quot;folium-map&quot; id=&quot;folium_21494953e4474e3098119bb8693481a0&quot; style=&quot;width: 960px; height: 500px&quot;></div>\n",
        "\n",
        "   <script>\n",
        "\n",
        "      \n",
        "\n",
        "      var map = L.map('folium_21494953e4474e3098119bb8693481a0').setView([41.501, -71], 9);\n",
        "\n",
        "      L.tileLayer('http://{s}.tile.openstreetmap.org/{z}/{x}/{y}.png', {\n",
        "          maxZoom: 18,\n",
        "          attribution: 'Map data (c) <a href=&quot;http://openstreetmap.org&quot;>OpenStreetMap</a> contributors'\n",
        "      }).addTo(map);\n",
        "\n",
        "      \n",
        "      var marker_1 = L.marker([41.501, -71]);\n",
        "      marker_1.bindPopup(&quot;&quot;);\n",
        "      map.addLayer(marker_1)\n",
        "      \n",
        "      var circle_1 = L.circle([41.454498, -71.025146], 500, {\n",
        "                            color: '#33CC33',\n",
        "                            fillColor: '#00FF00',\n",
        "                            fillOpacity: 0.6\n",
        "                            });\n",
        "      circle_1.bindPopup(&quot;dist:0.0528654643411&quot;);\n",
        "      map.addLayer(circle_1)\n",
        "      \n",
        "      var circle_2 = L.circle([41.504, -71.0015], 500, {\n",
        "                            color: '#33CC33',\n",
        "                            fillColor: '#00FF00',\n",
        "                            fillOpacity: 0.6\n",
        "                            });\n",
        "      circle_2.bindPopup(&quot;dist:0.00336743373051&quot;);\n",
        "      map.addLayer(circle_2)\n",
        "      \n",
        "      var circle_3 = L.circle([41.509, -71.0053], 500, {\n",
        "                            color: '#33CC33',\n",
        "                            fillColor: '#00FF00',\n",
        "                            fillOpacity: 0.6\n",
        "                            });\n",
        "      circle_3.bindPopup(&quot;dist:0.00958086008289&quot;);\n",
        "      map.addLayer(circle_3)\n",
        "      \n",
        "\n",
        "      \n",
        "\n",
        "      \n",
        "\n",
        "      \n",
        "\n",
        "   </script>\n",
        "\n",
        "</body>\" style=\"width: 95%; height: 550px; border: none\"></iframe>"
       ],
       "metadata": {},
       "output_type": "pyout",
       "prompt_number": 600,
       "text": [
        "<IPython.core.display.HTML at 0x10a80cd90>"
       ]
      }
     ],
     "prompt_number": 600
    },
    {
     "cell_type": "heading",
     "level": 3,
     "metadata": {},
     "source": [
      "Extreme Value Analysis:"
     ]
    },
    {
     "cell_type": "code",
     "collapsed": false,
     "input": [
      "# Show the whole color range\n",
      "for s in station_list:\n",
      "    if \"data\" in s:\n",
      "        years = s[\"data\"].keys()\n",
      "        #only show the stations with enough data\n",
      "        if len(s[\"data\"].keys()) >= num_years_required:  \n",
      "            xx = []\n",
      "            yx = []\n",
      "            for y in years:    \n",
      "                xx.append(int(y))\n",
      "                val = s[\"data\"][y][\"max\"]\n",
      "                yx.append(val)  \n",
      "            \n",
      "            break"
     ],
     "language": "python",
     "metadata": {},
     "outputs": [],
     "prompt_number": 721
    },
    {
     "cell_type": "code",
     "collapsed": false,
     "input": [
      "annual_max_levels = yx"
     ],
     "language": "python",
     "metadata": {},
     "outputs": [],
     "prompt_number": 722
    },
    {
     "cell_type": "heading",
     "level": 4,
     "metadata": {},
     "source": [
      "Fit data to GEV distribution"
     ]
    },
    {
     "cell_type": "code",
     "collapsed": false,
     "input": [
      "def sea_levels_gev_pdf(x):\n",
      "    return genextreme.pdf(x, xi, loc=mu, scale=sigma)"
     ],
     "language": "python",
     "metadata": {},
     "outputs": [],
     "prompt_number": 723
    },
    {
     "cell_type": "code",
     "collapsed": false,
     "input": [
      "mle = genextreme.fit(sorted(annual_max_levels), 0)\n",
      "mu = mle[1]\n",
      "sigma = mle[2]\n",
      "xi = mle[0]\n",
      "print \"The mean, sigma, and shape parameters are %s, %s, and %s, resp.\" % (mu, sigma, xi)"
     ],
     "language": "python",
     "metadata": {},
     "outputs": [
      {
       "output_type": "stream",
       "stream": "stdout",
       "text": [
        "The mean, sigma, and shape parameters are 0.536747818328, 0.150074678247, and 0.00121088811397, resp.\n"
       ]
      }
     ],
     "prompt_number": 724
    },
    {
     "cell_type": "heading",
     "level": 4,
     "metadata": {},
     "source": [
      "Probability Density Plot"
     ]
    },
    {
     "cell_type": "code",
     "collapsed": false,
     "input": [
      "min_x = min(annual_max_levels)-0.5\n",
      "max_x = max(annual_max_levels)+0.5\n",
      "x = np.linspace(min_x, max_x, num=100)\n",
      "y = [sea_levels_gev_pdf(z) for z in x]\n",
      "\n",
      "fig = plt.figure(figsize=(12,6))\n",
      "axes = fig.add_axes([0.1, 0.1, 0.8, 0.8])\n",
      "xlabel = (s[\"long_name\"][0] + \" - Annual max water level (m)\")\n",
      "axes.set_title(\"Probability Density & Normalized Histogram\")\n",
      "axes.set_xlabel(xlabel)\n",
      "axes.plot(x, y, color='Red')\n",
      "axes.hist(annual_max_levels, bins=arange(min_x, max_x, abs((max_x-min_x)/10)), normed=1, color='Yellow')\n",
      "#"
     ],
     "language": "python",
     "metadata": {},
     "outputs": [
      {
       "metadata": {},
       "output_type": "pyout",
       "prompt_number": 730,
       "text": [
        "(array([ 0.        ,  0.        ,  0.86931324,  1.88351203,  1.59374094,\n",
        "        0.57954216,  0.        ,  0.14488554,  0.        ]),\n",
        " array([-0.163 ,  0.0342,  0.2314,  0.4286,  0.6258,  0.823 ,  1.0202,\n",
        "        1.2174,  1.4146,  1.6118]),\n",
        " <a list of 9 Patch objects>)"
       ]
      },
      {
       "metadata": {},
       "output_type": "display_data",
       "png": "[encoded data removed]",
       "text": [
        "<matplotlib.figure.Figure at 0x14195c150>"
       ]
      }
     ],
     "prompt_number": 730
    },
    {
     "cell_type": "heading",
     "level": 4,
     "metadata": {},
     "source": [
      "Return Value Plot"
     ]
    },
    {
     "cell_type": "markdown",
     "metadata": {},
     "source": [
      "This plot should match NOAA's [Annual Exceedance Probability Curves for station 8449130](http://tidesandcurrents.noaa.gov/est/curves.shtml?stnid=8449130)"
     ]
    },
    {
     "cell_type": "code",
     "collapsed": false,
     "input": [
      "noaa_station_id = 8449130\n",
      "Image(url='http://tidesandcurrents.noaa.gov/est/curves/high/'+str(noaa_station_id)+'.png')"
     ],
     "language": "python",
     "metadata": {},
     "outputs": [
      {
       "html": [
        "<img src=\"http://tidesandcurrents.noaa.gov/est/curves/high/8449130.png\"/>"
       ],
       "metadata": {},
       "output_type": "pyout",
       "prompt_number": 726,
       "text": [
        "<IPython.core.display.Image at 0x141946710>"
       ]
      }
     ],
     "prompt_number": 726
    },
    {
     "cell_type": "code",
     "collapsed": false,
     "input": [
      "Image(url='http://tidesandcurrents.noaa.gov/est/images/color_legend.png')"
     ],
     "language": "python",
     "metadata": {},
     "outputs": [
      {
       "html": [
        "<img src=\"http://tidesandcurrents.noaa.gov/est/images/color_legend.png\"/>"
       ],
       "metadata": {},
       "output_type": "pyout",
       "prompt_number": 727,
       "text": [
        "<IPython.core.display.Image at 0x1419463d0>"
       ]
      }
     ],
     "prompt_number": 727
    },
    {
     "cell_type": "markdown",
     "metadata": {},
     "source": [
      "<script type=\"text/javascript\">\n",
      "    $('div.input').show();       \n",
      "</script>"
     ]
    },
    {
     "cell_type": "code",
     "collapsed": false,
     "input": [
      "fig = plt.figure(figsize=(20,6))\n",
      "axes = fig.add_axes([0.1, 0.1, 0.8, 0.8])\n",
      "T=np.r_[1:250]\n",
      "sT = genextreme.isf(1./T, 0, mu, sigma)\n",
      "axes.semilogx(T, sT, 'r'), hold\n",
      "N=np.r_[1:len(annual_max_levels)+1]; \n",
      "Nmax=max(N);\n",
      "axes.plot(Nmax/N, sorted(annual_max_levels)[::-1], 'bo')\n",
      "title = s[\"long_name\"][0] \n",
      "axes.set_title(title)\n",
      "axes.set_xlabel('Return Period (yrs)')\n",
      "axes.set_ylabel('Meters above MHHW') \n",
      "axes.set_xticklabels([0,1,10,100,1000])\n",
      "axes.set_xlim([0,260])\n",
      "axes.set_ylim([0,1.8])\n",
      "axes.grid(True)"
     ],
     "language": "python",
     "metadata": {},
     "outputs": [
      {
       "metadata": {},
       "output_type": "display_data",
       "png": "[encoded data removed]",
       "text": [
        "<matplotlib.figure.Figure at 0x10ab2afd0>"
       ]
      }
     ],
     "prompt_number": 728
    },
    {
     "cell_type": "markdown",
     "metadata": {},
     "source": [
      "This plot does not match exactly. NOAA's curves were calculated using the Extremes Toolkit software package in R whereas this notebook uses scipy. There is a python package based on the Extremes Toolkit called pywafo but this is experimental and isn't building properly on Mac OS X"
     ]
    }
   ],
   "metadata": {}
  }
 ]
}