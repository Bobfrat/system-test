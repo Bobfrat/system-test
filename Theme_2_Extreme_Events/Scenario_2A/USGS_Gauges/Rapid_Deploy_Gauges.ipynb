{
 "metadata": {
  "name": "",
  "signature": "sha256:7675d827ff59140b01edc8afcc46c07b4b3ef06fde1c772719204423ce632a74"
 },
 "nbformat": 3,
 "nbformat_minor": 0,
 "worksheets": [
  {
   "cells": [
    {
     "cell_type": "markdown",
     "metadata": {},
     "source": [
      "># IOOS System Test: Rapid Deployment gages from USGS\n",
      "\n",
      "###Can we obtain water level data from the rapid deployment gages, deployment for Hurricane Irene? \n",
      "This notebook is based on IOOS System Test: Inundation\n",
      "\n",
      "#### Methodology:\n",
      "\n",
      "* USGS gage data (ASCII Text Files) obtained from http://ga.water.usgs.gov/flood/hurricane/irene/sites/datafiles/ and 90% of data zipped up for use in the notebook (large files were removed for efficiency)\n",
      "* Data Automatically gets unzipped\n",
      "* Process data files, and store data in dictionary for access\n",
      "* Plot Water level data for the New Jersey area\n",
      "* Plot Barometric pressure data for the New Jersey area\n",
      "* Plot Gage Locations on a map, overlaid with the Hurricane Irene track line\n",
      "* Plot time series of maximum waterlevel\n",
      "* Plot locations of maximum waterlevel"
     ]
    },
    {
     "cell_type": "markdown",
     "metadata": {},
     "source": [
      "### import required libraries"
     ]
    },
    {
     "cell_type": "code",
     "collapsed": false,
     "input": [
      "import re\n",
      "import os\n",
      "import csv\n",
      "import uuid\n",
      "import zipfile\n",
      "\n",
      "from datetime import datetime\n",
      "\n",
      "import folium\n",
      "import numpy as np\n",
      "import pandas as pd\n",
      "import matplotlib as mpl\n",
      "import matplotlib.dates as md\n",
      "import matplotlib.pyplot as plt\n",
      "\n",
      "from IPython.display import HTML, Javascript, display\n",
      "\n",
      "from utilities import css_styles, inline_map\n",
      "css_styles()\n",
      "\n",
      "%matplotlib inline"
     ],
     "language": "python",
     "metadata": {},
     "outputs": [],
     "prompt_number": 1
    },
    {
     "cell_type": "markdown",
     "metadata": {},
     "source": [
      "<div class=\"success\"><strong>Extract Data </strong> - Does the data dir exist, if not extract it </div>\n",
      "\n"
     ]
    },
    {
     "cell_type": "code",
     "collapsed": false,
     "input": [
      "def unzip(source_filename, dest_dir):\n",
      "    with zipfile.ZipFile(source_filename) as zf:\n",
      "        zf.extractall(dest_dir)"
     ],
     "language": "python",
     "metadata": {},
     "outputs": [],
     "prompt_number": 2
    },
    {
     "cell_type": "code",
     "collapsed": false,
     "input": [
      "if os.path.isdir(\"data_files\"):\n",
      "    pass\n",
      "else:\n",
      "    print(\"Data Dir does not exist... Extracting.\")\n",
      "    unzip('sample_data_files.zip', os.getcwd())"
     ],
     "language": "python",
     "metadata": {},
     "outputs": [],
     "prompt_number": 3
    },
    {
     "cell_type": "code",
     "collapsed": false,
     "input": [
      "files = os.listdir('data_files') \n",
      "print(\"Water Level Files: %s\" % len(files))"
     ],
     "language": "python",
     "metadata": {},
     "outputs": [
      {
       "output_type": "stream",
       "stream": "stdout",
       "text": [
        "Water Level Files: 195\n"
       ]
      }
     ],
     "prompt_number": 4
    },
    {
     "cell_type": "markdown",
     "metadata": {},
     "source": [
      "<div class=\"info\"><strong>Process Data </strong> - Read the data files and create a dict of the fields </div>"
     ]
    },
    {
     "cell_type": "code",
     "collapsed": false,
     "input": [
      "def parse_metadata(fname):\n",
      "    meta_data = {}\n",
      "    non_decimal = re.compile(r'[^\\d.]+')\n",
      "    fields = {'Sensor location latitude': 'lat',\n",
      "              'Sensor location longitude': 'lon',\n",
      "              'Site id =': 'name',\n",
      "              'Sensor elevation above NAVD 88 =': 'elevation',\n",
      "              'Barometric sensor site (source of bp) =': 'bp_source',\n",
      "              'Lowest recordable water elevation is': 'lowest_wl'}\n",
      "    with open(os.path.join('data_files', fname)) as f:\n",
      "        content = f.readlines()\n",
      "        for k, ln in enumerate(content):\n",
      "            content[k] = ln.strip()\n",
      "            if content[k].startswith('#'):\n",
      "                for fd in fields:\n",
      "                    if fd in content[k]:\n",
      "                        if fields[fd] == 'name':\n",
      "                            meta_data[fields[fd]] = content[k].split(fd)[-1]\n",
      "                        else:\n",
      "                            val = (content[k].split(fd)[-1])\n",
      "                            val = float(non_decimal.sub('', val))\n",
      "                            meta_data[fields[fd]] = val\n",
      "                        if fields[fd] == 'lon':\n",
      "                            meta_data[fields[fd]] = -meta_data[fields[fd]]\n",
      "    return meta_data"
     ],
     "language": "python",
     "metadata": {},
     "outputs": [],
     "prompt_number": 5
    },
    {
     "cell_type": "code",
     "collapsed": false,
     "input": [
      "divid = str(uuid.uuid4())\n",
      "\n",
      "pb = HTML(\"\"\"\n",
      "<div style=\"border: 1px solid black; width:500px\">\n",
      "  <div id=\"%s\" style=\"background-color:blue; width:0%%\">&nbsp;</div>\n",
      "</div> \n",
      "\"\"\" % divid)\n",
      "\n",
      "display(pb)\n",
      "full_data = {}\n",
      "for count, fname in enumerate(files):\n",
      "    meta_data = parse_metadata(fname)\n",
      "    kw = dict(parse_dates=True, sep='\\t', skiprows=29, index_col=0)\n",
      "    actual_data = pd.read_csv(os.path.join('data_files', fname), **kw)\n",
      "    full_data[fname] = {'meta': meta_data,\n",
      "                        'data': actual_data}\n",
      "    \n",
      "    percent_complete = ((float(count+1) / float(len(files))) * 100.)\n",
      "    display(Javascript(\"$('div#%s').width('%i%%')\" %\n",
      "                       (divid, int(percent_complete))))"
     ],
     "language": "python",
     "metadata": {},
     "outputs": [
      {
       "html": [
        "\n",
        "<div style=\"border: 1px solid black; width:500px\">\n",
        "  <div id=\"aec66622-dda9-4abb-8f42-b9c459ab39c2\" style=\"background-color:blue; width:0%\">&nbsp;</div>\n",
        "</div> \n"
       ],
       "metadata": {},
       "output_type": "display_data",
       "text": [
        "<IPython.core.display.HTML at 0x7f4dbb921ad0>"
       ]
      },
      {
       "javascript": [
        "$('div#aec66622-dda9-4abb-8f42-b9c459ab39c2').width('0%')"
       ],
       "metadata": {},
       "output_type": "display_data",
       "text": [
        "<IPython.core.display.Javascript at 0x7f4ddc4cc990>"
       ]
      },
      {
       "javascript": [
        "$('div#aec66622-dda9-4abb-8f42-b9c459ab39c2').width('1%')"
       ],
       "metadata": {},
       "output_type": "display_data",
       "text": [
        "<IPython.core.display.Javascript at 0x7f4dbb921b50>"
       ]
      },
      {
       "javascript": [
        "$('div#aec66622-dda9-4abb-8f42-b9c459ab39c2').width('1%')"
       ],
       "metadata": {},
       "output_type": "display_data",
       "text": [
        "<IPython.core.display.Javascript at 0x7f4dbb921b90>"
       ]
      },
      {
       "javascript": [
        "$('div#aec66622-dda9-4abb-8f42-b9c459ab39c2').width('2%')"
       ],
       "metadata": {},
       "output_type": "display_data",
       "text": [
        "<IPython.core.display.Javascript at 0x7f4dbb921cd0>"
       ]
      },
      {
       "javascript": [
        "$('div#aec66622-dda9-4abb-8f42-b9c459ab39c2').width('2%')"
       ],
       "metadata": {},
       "output_type": "display_data",
       "text": [
        "<IPython.core.display.Javascript at 0x7f4dbb921e10>"
       ]
      },
      {
       "javascript": [
        "$('div#aec66622-dda9-4abb-8f42-b9c459ab39c2').width('3%')"
       ],
       "metadata": {},
       "output_type": "display_data",
       "text": [
        "<IPython.core.display.Javascript at 0x7f4dbb921b10>"
       ]
      },
      {
       "javascript": [
        "$('div#aec66622-dda9-4abb-8f42-b9c459ab39c2').width('3%')"
       ],
       "metadata": {},
       "output_type": "display_data",
       "text": [
        "<IPython.core.display.Javascript at 0x7f4dbb921f10>"
       ]
      },
      {
       "javascript": [
        "$('div#aec66622-dda9-4abb-8f42-b9c459ab39c2').width('4%')"
       ],
       "metadata": {},
       "output_type": "display_data",
       "text": [
        "<IPython.core.display.Javascript at 0x7f4dbb111150>"
       ]
      },
      {
       "javascript": [
        "$('div#aec66622-dda9-4abb-8f42-b9c459ab39c2').width('4%')"
       ],
       "metadata": {},
       "output_type": "display_data",
       "text": [
        "<IPython.core.display.Javascript at 0x7f4dbb921cd0>"
       ]
      },
      {
       "javascript": [
        "$('div#aec66622-dda9-4abb-8f42-b9c459ab39c2').width('5%')"
       ],
       "metadata": {},
       "output_type": "display_data",
       "text": [
        "<IPython.core.display.Javascript at 0x7f4ddc4cc990>"
       ]
      },
      {
       "javascript": [
        "$('div#aec66622-dda9-4abb-8f42-b9c459ab39c2').width('5%')"
       ],
       "metadata": {},
       "output_type": "display_data",
       "text": [
        "<IPython.core.display.Javascript at 0x7f4dbb921b50>"
       ]
      },
      {
       "javascript": [
        "$('div#aec66622-dda9-4abb-8f42-b9c459ab39c2').width('6%')"
       ],
       "metadata": {},
       "output_type": "display_data",
       "text": [
        "<IPython.core.display.Javascript at 0x7f4dbb921b90>"
       ]
      },
      {
       "javascript": [
        "$('div#aec66622-dda9-4abb-8f42-b9c459ab39c2').width('6%')"
       ],
       "metadata": {},
       "output_type": "display_data",
       "text": [
        "<IPython.core.display.Javascript at 0x7f4dbb111450>"
       ]
      },
      {
       "javascript": [
        "$('div#aec66622-dda9-4abb-8f42-b9c459ab39c2').width('7%')"
       ],
       "metadata": {},
       "output_type": "display_data",
       "text": [
        "<IPython.core.display.Javascript at 0x7f4dbb111550>"
       ]
      },
      {
       "javascript": [
        "$('div#aec66622-dda9-4abb-8f42-b9c459ab39c2').width('7%')"
       ],
       "metadata": {},
       "output_type": "display_data",
       "text": [
        "<IPython.core.display.Javascript at 0x7f4dbb111650>"
       ]
      },
      {
       "javascript": [
        "$('div#aec66622-dda9-4abb-8f42-b9c459ab39c2').width('8%')"
       ],
       "metadata": {},
       "output_type": "display_data",
       "text": [
        "<IPython.core.display.Javascript at 0x7f4dbb111750>"
       ]
      },
      {
       "javascript": [
        "$('div#aec66622-dda9-4abb-8f42-b9c459ab39c2').width('8%')"
       ],
       "metadata": {},
       "output_type": "display_data",
       "text": [
        "<IPython.core.display.Javascript at 0x7f4dbb111850>"
       ]
      },
      {
       "javascript": [
        "$('div#aec66622-dda9-4abb-8f42-b9c459ab39c2').width('9%')"
       ],
       "metadata": {},
       "output_type": "display_data",
       "text": [
        "<IPython.core.display.Javascript at 0x7f4dbb111950>"
       ]
      },
      {
       "javascript": [
        "$('div#aec66622-dda9-4abb-8f42-b9c459ab39c2').width('9%')"
       ],
       "metadata": {},
       "output_type": "display_data",
       "text": [
        "<IPython.core.display.Javascript at 0x7f4dbb111390>"
       ]
      },
      {
       "javascript": [
        "$('div#aec66622-dda9-4abb-8f42-b9c459ab39c2').width('10%')"
       ],
       "metadata": {},
       "output_type": "display_data",
       "text": [
        "<IPython.core.display.Javascript at 0x7f4dbb111bd0>"
       ]
      },
      {
       "javascript": [
        "$('div#aec66622-dda9-4abb-8f42-b9c459ab39c2').width('10%')"
       ],
       "metadata": {},
       "output_type": "display_data",
       "text": [
        "<IPython.core.display.Javascript at 0x7f4dbb111c50>"
       ]
      },
      {
       "javascript": [
        "$('div#aec66622-dda9-4abb-8f42-b9c459ab39c2').width('11%')"
       ],
       "metadata": {},
       "output_type": "display_data",
       "text": [
        "<IPython.core.display.Javascript at 0x7f4dbb111d50>"
       ]
      },
      {
       "javascript": [
        "$('div#aec66622-dda9-4abb-8f42-b9c459ab39c2').width('11%')"
       ],
       "metadata": {},
       "output_type": "display_data",
       "text": [
        "<IPython.core.display.Javascript at 0x7f4dbb111e50>"
       ]
      },
      {
       "javascript": [
        "$('div#aec66622-dda9-4abb-8f42-b9c459ab39c2').width('12%')"
       ],
       "metadata": {},
       "output_type": "display_data",
       "text": [
        "<IPython.core.display.Javascript at 0x7f4dbb111b50>"
       ]
      },
      {
       "javascript": [
        "$('div#aec66622-dda9-4abb-8f42-b9c459ab39c2').width('12%')"
       ],
       "metadata": {},
       "output_type": "display_data",
       "text": [
        "<IPython.core.display.Javascript at 0x7f4dbb111f50>"
       ]
      },
      {
       "javascript": [
        "$('div#aec66622-dda9-4abb-8f42-b9c459ab39c2').width('13%')"
       ],
       "metadata": {},
       "output_type": "display_data",
       "text": [
        "<IPython.core.display.Javascript at 0x7f4dbb0ba190>"
       ]
      },
      {
       "javascript": [
        "$('div#aec66622-dda9-4abb-8f42-b9c459ab39c2').width('13%')"
       ],
       "metadata": {},
       "output_type": "display_data",
       "text": [
        "<IPython.core.display.Javascript at 0x7f4dbb0ba110>"
       ]
      },
      {
       "javascript": [
        "$('div#aec66622-dda9-4abb-8f42-b9c459ab39c2').width('14%')"
       ],
       "metadata": {},
       "output_type": "display_data",
       "text": [
        "<IPython.core.display.Javascript at 0x7f4dbb0ba410>"
       ]
      },
      {
       "javascript": [
        "$('div#aec66622-dda9-4abb-8f42-b9c459ab39c2').width('14%')"
       ],
       "metadata": {},
       "output_type": "display_data",
       "text": [
        "<IPython.core.display.Javascript at 0x7f4dbb111e50>"
       ]
      },
      {
       "javascript": [
        "$('div#aec66622-dda9-4abb-8f42-b9c459ab39c2').width('15%')"
       ],
       "metadata": {},
       "output_type": "display_data",
       "text": [
        "<IPython.core.display.Javascript at 0x7f4dbb111c50>"
       ]
      },
      {
       "javascript": [
        "$('div#aec66622-dda9-4abb-8f42-b9c459ab39c2').width('15%')"
       ],
       "metadata": {},
       "output_type": "display_data",
       "text": [
        "<IPython.core.display.Javascript at 0x7f4ddc4cc990>"
       ]
      },
      {
       "javascript": [
        "$('div#aec66622-dda9-4abb-8f42-b9c459ab39c2').width('16%')"
       ],
       "metadata": {},
       "output_type": "display_data",
       "text": [
        "<IPython.core.display.Javascript at 0x7f4dbb111750>"
       ]
      },
      {
       "javascript": [
        "$('div#aec66622-dda9-4abb-8f42-b9c459ab39c2').width('16%')"
       ],
       "metadata": {},
       "output_type": "display_data",
       "text": [
        "<IPython.core.display.Javascript at 0x7f4dbb111d50>"
       ]
      },
      {
       "javascript": [
        "$('div#aec66622-dda9-4abb-8f42-b9c459ab39c2').width('17%')"
       ],
       "metadata": {},
       "output_type": "display_data",
       "text": [
        "<IPython.core.display.Javascript at 0x7f4dbb921b50>"
       ]
      },
      {
       "javascript": [
        "$('div#aec66622-dda9-4abb-8f42-b9c459ab39c2').width('17%')"
       ],
       "metadata": {},
       "output_type": "display_data",
       "text": [
        "<IPython.core.display.Javascript at 0x7f4dbb0ba610>"
       ]
      },
      {
       "javascript": [
        "$('div#aec66622-dda9-4abb-8f42-b9c459ab39c2').width('18%')"
       ],
       "metadata": {},
       "output_type": "display_data",
       "text": [
        "<IPython.core.display.Javascript at 0x7f4dbb0ba710>"
       ]
      },
      {
       "javascript": [
        "$('div#aec66622-dda9-4abb-8f42-b9c459ab39c2').width('18%')"
       ],
       "metadata": {},
       "output_type": "display_data",
       "text": [
        "<IPython.core.display.Javascript at 0x7f4dbb0ba790>"
       ]
      },
      {
       "javascript": [
        "$('div#aec66622-dda9-4abb-8f42-b9c459ab39c2').width('19%')"
       ],
       "metadata": {},
       "output_type": "display_data",
       "text": [
        "<IPython.core.display.Javascript at 0x7f4dbb0ba890>"
       ]
      },
      {
       "javascript": [
        "$('div#aec66622-dda9-4abb-8f42-b9c459ab39c2').width('20%')"
       ],
       "metadata": {},
       "output_type": "display_data",
       "text": [
        "<IPython.core.display.Javascript at 0x7f4dbb0ba990>"
       ]
      },
      {
       "javascript": [
        "$('div#aec66622-dda9-4abb-8f42-b9c459ab39c2').width('20%')"
       ],
       "metadata": {},
       "output_type": "display_data",
       "text": [
        "<IPython.core.display.Javascript at 0x7f4dbb0baa90>"
       ]
      },
      {
       "javascript": [
        "$('div#aec66622-dda9-4abb-8f42-b9c459ab39c2').width('21%')"
       ],
       "metadata": {},
       "output_type": "display_data",
       "text": [
        "<IPython.core.display.Javascript at 0x7f4dbb0ba690>"
       ]
      },
      {
       "javascript": [
        "$('div#aec66622-dda9-4abb-8f42-b9c459ab39c2').width('21%')"
       ],
       "metadata": {},
       "output_type": "display_data",
       "text": [
        "<IPython.core.display.Javascript at 0x7f4dbb0bad10>"
       ]
      },
      {
       "javascript": [
        "$('div#aec66622-dda9-4abb-8f42-b9c459ab39c2').width('22%')"
       ],
       "metadata": {},
       "output_type": "display_data",
       "text": [
        "<IPython.core.display.Javascript at 0x7f4dbb0bad90>"
       ]
      },
      {
       "javascript": [
        "$('div#aec66622-dda9-4abb-8f42-b9c459ab39c2').width('22%')"
       ],
       "metadata": {},
       "output_type": "display_data",
       "text": [
        "<IPython.core.display.Javascript at 0x7f4dbb0bae90>"
       ]
      },
      {
       "javascript": [
        "$('div#aec66622-dda9-4abb-8f42-b9c459ab39c2').width('23%')"
       ],
       "metadata": {},
       "output_type": "display_data",
       "text": [
        "<IPython.core.display.Javascript at 0x7f4dbb0bac90>"
       ]
      },
      {
       "javascript": [
        "$('div#aec66622-dda9-4abb-8f42-b9c459ab39c2').width('23%')"
       ],
       "metadata": {},
       "output_type": "display_data",
       "text": [
        "<IPython.core.display.Javascript at 0x7f4dbb0baf90>"
       ]
      },
      {
       "javascript": [
        "$('div#aec66622-dda9-4abb-8f42-b9c459ab39c2').width('24%')"
       ],
       "metadata": {},
       "output_type": "display_data",
       "text": [
        "<IPython.core.display.Javascript at 0x7f4dbb0dc1d0>"
       ]
      },
      {
       "javascript": [
        "$('div#aec66622-dda9-4abb-8f42-b9c459ab39c2').width('24%')"
       ],
       "metadata": {},
       "output_type": "display_data",
       "text": [
        "<IPython.core.display.Javascript at 0x7f4dbb0dc2d0>"
       ]
      },
      {
       "javascript": [
        "$('div#aec66622-dda9-4abb-8f42-b9c459ab39c2').width('25%')"
       ],
       "metadata": {},
       "output_type": "display_data",
       "text": [
        "<IPython.core.display.Javascript at 0x7f4dbb0dc3d0>"
       ]
      },
      {
       "javascript": [
        "$('div#aec66622-dda9-4abb-8f42-b9c459ab39c2').width('25%')"
       ],
       "metadata": {},
       "output_type": "display_data",
       "text": [
        "<IPython.core.display.Javascript at 0x7f4dbb0bae90>"
       ]
      },
      {
       "javascript": [
        "$('div#aec66622-dda9-4abb-8f42-b9c459ab39c2').width('26%')"
       ],
       "metadata": {},
       "output_type": "display_data",
       "text": [
        "<IPython.core.display.Javascript at 0x7f4dbb0bad10>"
       ]
      },
      {
       "javascript": [
        "$('div#aec66622-dda9-4abb-8f42-b9c459ab39c2').width('26%')"
       ],
       "metadata": {},
       "output_type": "display_data",
       "text": [
        "<IPython.core.display.Javascript at 0x7f4ddc4cc990>"
       ]
      },
      {
       "javascript": [
        "$('div#aec66622-dda9-4abb-8f42-b9c459ab39c2').width('27%')"
       ],
       "metadata": {},
       "output_type": "display_data",
       "text": [
        "<IPython.core.display.Javascript at 0x7f4dbb0ba790>"
       ]
      },
      {
       "javascript": [
        "$('div#aec66622-dda9-4abb-8f42-b9c459ab39c2').width('27%')"
       ],
       "metadata": {},
       "output_type": "display_data",
       "text": [
        "<IPython.core.display.Javascript at 0x7f4dbb0bad90>"
       ]
      },
      {
       "javascript": [
        "$('div#aec66622-dda9-4abb-8f42-b9c459ab39c2').width('28%')"
       ],
       "metadata": {},
       "output_type": "display_data",
       "text": [
        "<IPython.core.display.Javascript at 0x7f4dbb111750>"
       ]
      },
      {
       "javascript": [
        "$('div#aec66622-dda9-4abb-8f42-b9c459ab39c2').width('28%')"
       ],
       "metadata": {},
       "output_type": "display_data",
       "text": [
        "<IPython.core.display.Javascript at 0x7f4dbb0dc3d0>"
       ]
      },
      {
       "javascript": [
        "$('div#aec66622-dda9-4abb-8f42-b9c459ab39c2').width('29%')"
       ],
       "metadata": {},
       "output_type": "display_data",
       "text": [
        "<IPython.core.display.Javascript at 0x7f4dbb0dc690>"
       ]
      },
      {
       "javascript": [
        "$('div#aec66622-dda9-4abb-8f42-b9c459ab39c2').width('29%')"
       ],
       "metadata": {},
       "output_type": "display_data",
       "text": [
        "<IPython.core.display.Javascript at 0x7f4dbb0dc790>"
       ]
      },
      {
       "javascript": [
        "$('div#aec66622-dda9-4abb-8f42-b9c459ab39c2').width('30%')"
       ],
       "metadata": {},
       "output_type": "display_data",
       "text": [
        "<IPython.core.display.Javascript at 0x7f4dbb0dc890>"
       ]
      },
      {
       "javascript": [
        "$('div#aec66622-dda9-4abb-8f42-b9c459ab39c2').width('30%')"
       ],
       "metadata": {},
       "output_type": "display_data",
       "text": [
        "<IPython.core.display.Javascript at 0x7f4dbb0dc990>"
       ]
      },
      {
       "javascript": [
        "$('div#aec66622-dda9-4abb-8f42-b9c459ab39c2').width('31%')"
       ],
       "metadata": {},
       "output_type": "display_data",
       "text": [
        "<IPython.core.display.Javascript at 0x7f4dbb0dca90>"
       ]
      },
      {
       "javascript": [
        "$('div#aec66622-dda9-4abb-8f42-b9c459ab39c2').width('31%')"
       ],
       "metadata": {},
       "output_type": "display_data",
       "text": [
        "<IPython.core.display.Javascript at 0x7f4dbb0dcb90>"
       ]
      },
      {
       "javascript": [
        "$('div#aec66622-dda9-4abb-8f42-b9c459ab39c2').width('32%')"
       ],
       "metadata": {},
       "output_type": "display_data",
       "text": [
        "<IPython.core.display.Javascript at 0x7f4dbb0dcc90>"
       ]
      },
      {
       "javascript": [
        "$('div#aec66622-dda9-4abb-8f42-b9c459ab39c2').width('32%')"
       ],
       "metadata": {},
       "output_type": "display_data",
       "text": [
        "<IPython.core.display.Javascript at 0x7f4dbb0dc150>"
       ]
      },
      {
       "javascript": [
        "$('div#aec66622-dda9-4abb-8f42-b9c459ab39c2').width('33%')"
       ],
       "metadata": {},
       "output_type": "display_data",
       "text": [
        "<IPython.core.display.Javascript at 0x7f4dbb0dce90>"
       ]
      },
      {
       "javascript": [
        "$('div#aec66622-dda9-4abb-8f42-b9c459ab39c2').width('33%')"
       ],
       "metadata": {},
       "output_type": "display_data",
       "text": [
        "<IPython.core.display.Javascript at 0x7f4dbb0dcf90>"
       ]
      },
      {
       "javascript": [
        "$('div#aec66622-dda9-4abb-8f42-b9c459ab39c2').width('34%')"
       ],
       "metadata": {},
       "output_type": "display_data",
       "text": [
        "<IPython.core.display.Javascript at 0x7f4dbb0dcfd0>"
       ]
      },
      {
       "javascript": [
        "$('div#aec66622-dda9-4abb-8f42-b9c459ab39c2').width('34%')"
       ],
       "metadata": {},
       "output_type": "display_data",
       "text": [
        "<IPython.core.display.Javascript at 0x7f4dbb0c11d0>"
       ]
      },
      {
       "javascript": [
        "$('div#aec66622-dda9-4abb-8f42-b9c459ab39c2').width('35%')"
       ],
       "metadata": {},
       "output_type": "display_data",
       "text": [
        "<IPython.core.display.Javascript at 0x7f4dbb0c12d0>"
       ]
      },
      {
       "javascript": [
        "$('div#aec66622-dda9-4abb-8f42-b9c459ab39c2').width('35%')"
       ],
       "metadata": {},
       "output_type": "display_data",
       "text": [
        "<IPython.core.display.Javascript at 0x7f4dbb0c13d0>"
       ]
      },
      {
       "javascript": [
        "$('div#aec66622-dda9-4abb-8f42-b9c459ab39c2').width('36%')"
       ],
       "metadata": {},
       "output_type": "display_data",
       "text": [
        "<IPython.core.display.Javascript at 0x7f4dbb0dce90>"
       ]
      },
      {
       "javascript": [
        "$('div#aec66622-dda9-4abb-8f42-b9c459ab39c2').width('36%')"
       ],
       "metadata": {},
       "output_type": "display_data",
       "text": [
        "<IPython.core.display.Javascript at 0x7f4dbb0dcc90>"
       ]
      },
      {
       "javascript": [
        "$('div#aec66622-dda9-4abb-8f42-b9c459ab39c2').width('37%')"
       ],
       "metadata": {},
       "output_type": "display_data",
       "text": [
        "<IPython.core.display.Javascript at 0x7f4ddc4cc990>"
       ]
      },
      {
       "javascript": [
        "$('div#aec66622-dda9-4abb-8f42-b9c459ab39c2').width('37%')"
       ],
       "metadata": {},
       "output_type": "display_data",
       "text": [
        "<IPython.core.display.Javascript at 0x7f4dbb0dc790>"
       ]
      },
      {
       "javascript": [
        "$('div#aec66622-dda9-4abb-8f42-b9c459ab39c2').width('38%')"
       ],
       "metadata": {},
       "output_type": "display_data",
       "text": [
        "<IPython.core.display.Javascript at 0x7f4dbb0dc150>"
       ]
      },
      {
       "javascript": [
        "$('div#aec66622-dda9-4abb-8f42-b9c459ab39c2').width('38%')"
       ],
       "metadata": {},
       "output_type": "display_data",
       "text": [
        "<IPython.core.display.Javascript at 0x7f4dbb0ba790>"
       ]
      },
      {
       "javascript": [
        "$('div#aec66622-dda9-4abb-8f42-b9c459ab39c2').width('39%')"
       ],
       "metadata": {},
       "output_type": "display_data",
       "text": [
        "<IPython.core.display.Javascript at 0x7f4dbb0c12d0>"
       ]
      },
      {
       "javascript": [
        "$('div#aec66622-dda9-4abb-8f42-b9c459ab39c2').width('40%')"
       ],
       "metadata": {},
       "output_type": "display_data",
       "text": [
        "<IPython.core.display.Javascript at 0x7f4dbb0c1690>"
       ]
      },
      {
       "javascript": [
        "$('div#aec66622-dda9-4abb-8f42-b9c459ab39c2').width('40%')"
       ],
       "metadata": {},
       "output_type": "display_data",
       "text": [
        "<IPython.core.display.Javascript at 0x7f4dbb0c1790>"
       ]
      },
      {
       "javascript": [
        "$('div#aec66622-dda9-4abb-8f42-b9c459ab39c2').width('41%')"
       ],
       "metadata": {},
       "output_type": "display_data",
       "text": [
        "<IPython.core.display.Javascript at 0x7f4dbb0c1890>"
       ]
      },
      {
       "javascript": [
        "$('div#aec66622-dda9-4abb-8f42-b9c459ab39c2').width('41%')"
       ],
       "metadata": {},
       "output_type": "display_data",
       "text": [
        "<IPython.core.display.Javascript at 0x7f4dbb0c1990>"
       ]
      },
      {
       "javascript": [
        "$('div#aec66622-dda9-4abb-8f42-b9c459ab39c2').width('42%')"
       ],
       "metadata": {},
       "output_type": "display_data",
       "text": [
        "<IPython.core.display.Javascript at 0x7f4dbb0c1a90>"
       ]
      },
      {
       "javascript": [
        "$('div#aec66622-dda9-4abb-8f42-b9c459ab39c2').width('42%')"
       ],
       "metadata": {},
       "output_type": "display_data",
       "text": [
        "<IPython.core.display.Javascript at 0x7f4dbb0c1b90>"
       ]
      },
      {
       "javascript": [
        "$('div#aec66622-dda9-4abb-8f42-b9c459ab39c2').width('43%')"
       ],
       "metadata": {},
       "output_type": "display_data",
       "text": [
        "<IPython.core.display.Javascript at 0x7f4dbb0c1c90>"
       ]
      },
      {
       "javascript": [
        "$('div#aec66622-dda9-4abb-8f42-b9c459ab39c2').width('43%')"
       ],
       "metadata": {},
       "output_type": "display_data",
       "text": [
        "<IPython.core.display.Javascript at 0x7f4dbb0c1d90>"
       ]
      },
      {
       "javascript": [
        "$('div#aec66622-dda9-4abb-8f42-b9c459ab39c2').width('44%')"
       ],
       "metadata": {},
       "output_type": "display_data",
       "text": [
        "<IPython.core.display.Javascript at 0x7f4dbb0c1e90>"
       ]
      },
      {
       "javascript": [
        "$('div#aec66622-dda9-4abb-8f42-b9c459ab39c2').width('44%')"
       ],
       "metadata": {},
       "output_type": "display_data",
       "text": [
        "<IPython.core.display.Javascript at 0x7f4dbb0c15d0>"
       ]
      },
      {
       "javascript": [
        "$('div#aec66622-dda9-4abb-8f42-b9c459ab39c2').width('45%')"
       ],
       "metadata": {},
       "output_type": "display_data",
       "text": [
        "<IPython.core.display.Javascript at 0x7f4dbb0c1f90>"
       ]
      },
      {
       "javascript": [
        "$('div#aec66622-dda9-4abb-8f42-b9c459ab39c2').width('45%')"
       ],
       "metadata": {},
       "output_type": "display_data",
       "text": [
        "<IPython.core.display.Javascript at 0x7f4dbb78b1d0>"
       ]
      },
      {
       "javascript": [
        "$('div#aec66622-dda9-4abb-8f42-b9c459ab39c2').width('46%')"
       ],
       "metadata": {},
       "output_type": "display_data",
       "text": [
        "<IPython.core.display.Javascript at 0x7f4dbb78b2d0>"
       ]
      },
      {
       "javascript": [
        "$('div#aec66622-dda9-4abb-8f42-b9c459ab39c2').width('46%')"
       ],
       "metadata": {},
       "output_type": "display_data",
       "text": [
        "<IPython.core.display.Javascript at 0x7f4dbb78b3d0>"
       ]
      },
      {
       "javascript": [
        "$('div#aec66622-dda9-4abb-8f42-b9c459ab39c2').width('47%')"
       ],
       "metadata": {},
       "output_type": "display_data",
       "text": [
        "<IPython.core.display.Javascript at 0x7f4dbb0c1e90>"
       ]
      },
      {
       "javascript": [
        "$('div#aec66622-dda9-4abb-8f42-b9c459ab39c2').width('47%')"
       ],
       "metadata": {},
       "output_type": "display_data",
       "text": [
        "<IPython.core.display.Javascript at 0x7f4dbb0c1c90>"
       ]
      },
      {
       "javascript": [
        "$('div#aec66622-dda9-4abb-8f42-b9c459ab39c2').width('48%')"
       ],
       "metadata": {},
       "output_type": "display_data",
       "text": [
        "<IPython.core.display.Javascript at 0x7f4ddc4cc990>"
       ]
      },
      {
       "javascript": [
        "$('div#aec66622-dda9-4abb-8f42-b9c459ab39c2').width('48%')"
       ],
       "metadata": {},
       "output_type": "display_data",
       "text": [
        "<IPython.core.display.Javascript at 0x7f4dbb0c1790>"
       ]
      },
      {
       "javascript": [
        "$('div#aec66622-dda9-4abb-8f42-b9c459ab39c2').width('49%')"
       ],
       "metadata": {},
       "output_type": "display_data",
       "text": [
        "<IPython.core.display.Javascript at 0x7f4dbb0c1d90>"
       ]
      },
      {
       "javascript": [
        "$('div#aec66622-dda9-4abb-8f42-b9c459ab39c2').width('49%')"
       ],
       "metadata": {},
       "output_type": "display_data",
       "text": [
        "<IPython.core.display.Javascript at 0x7f4dbb0dc790>"
       ]
      },
      {
       "javascript": [
        "$('div#aec66622-dda9-4abb-8f42-b9c459ab39c2').width('50%')"
       ],
       "metadata": {},
       "output_type": "display_data",
       "text": [
        "<IPython.core.display.Javascript at 0x7f4dbb78b5d0>"
       ]
      },
      {
       "javascript": [
        "$('div#aec66622-dda9-4abb-8f42-b9c459ab39c2').width('50%')"
       ],
       "metadata": {},
       "output_type": "display_data",
       "text": [
        "<IPython.core.display.Javascript at 0x7f4dbb78b690>"
       ]
      },
      {
       "javascript": [
        "$('div#aec66622-dda9-4abb-8f42-b9c459ab39c2').width('51%')"
       ],
       "metadata": {},
       "output_type": "display_data",
       "text": [
        "<IPython.core.display.Javascript at 0x7f4dbb78b790>"
       ]
      },
      {
       "javascript": [
        "$('div#aec66622-dda9-4abb-8f42-b9c459ab39c2').width('51%')"
       ],
       "metadata": {},
       "output_type": "display_data",
       "text": [
        "<IPython.core.display.Javascript at 0x7f4dbb78b890>"
       ]
      },
      {
       "javascript": [
        "$('div#aec66622-dda9-4abb-8f42-b9c459ab39c2').width('52%')"
       ],
       "metadata": {},
       "output_type": "display_data",
       "text": [
        "<IPython.core.display.Javascript at 0x7f4dbb78b990>"
       ]
      },
      {
       "javascript": [
        "$('div#aec66622-dda9-4abb-8f42-b9c459ab39c2').width('52%')"
       ],
       "metadata": {},
       "output_type": "display_data",
       "text": [
        "<IPython.core.display.Javascript at 0x7f4dbb78ba90>"
       ]
      },
      {
       "javascript": [
        "$('div#aec66622-dda9-4abb-8f42-b9c459ab39c2').width('53%')"
       ],
       "metadata": {},
       "output_type": "display_data",
       "text": [
        "<IPython.core.display.Javascript at 0x7f4dbb78bb90>"
       ]
      },
      {
       "javascript": [
        "$('div#aec66622-dda9-4abb-8f42-b9c459ab39c2').width('53%')"
       ],
       "metadata": {},
       "output_type": "display_data",
       "text": [
        "<IPython.core.display.Javascript at 0x7f4dbb78bc90>"
       ]
      },
      {
       "javascript": [
        "$('div#aec66622-dda9-4abb-8f42-b9c459ab39c2').width('54%')"
       ],
       "metadata": {},
       "output_type": "display_data",
       "text": [
        "<IPython.core.display.Javascript at 0x7f4dbb78bd90>"
       ]
      },
      {
       "javascript": [
        "$('div#aec66622-dda9-4abb-8f42-b9c459ab39c2').width('54%')"
       ],
       "metadata": {},
       "output_type": "display_data",
       "text": [
        "<IPython.core.display.Javascript at 0x7f4dbb78be90>"
       ]
      },
      {
       "javascript": [
        "$('div#aec66622-dda9-4abb-8f42-b9c459ab39c2').width('55%')"
       ],
       "metadata": {},
       "output_type": "display_data",
       "text": [
        "<IPython.core.display.Javascript at 0x7f4dbb78b150>"
       ]
      },
      {
       "javascript": [
        "$('div#aec66622-dda9-4abb-8f42-b9c459ab39c2').width('55%')"
       ],
       "metadata": {},
       "output_type": "display_data",
       "text": [
        "<IPython.core.display.Javascript at 0x7f4dbb78bf90>"
       ]
      },
      {
       "javascript": [
        "$('div#aec66622-dda9-4abb-8f42-b9c459ab39c2').width('56%')"
       ],
       "metadata": {},
       "output_type": "display_data",
       "text": [
        "<IPython.core.display.Javascript at 0x7f4dbb1301d0>"
       ]
      },
      {
       "javascript": [
        "$('div#aec66622-dda9-4abb-8f42-b9c459ab39c2').width('56%')"
       ],
       "metadata": {},
       "output_type": "display_data",
       "text": [
        "<IPython.core.display.Javascript at 0x7f4dbb130150>"
       ]
      },
      {
       "javascript": [
        "$('div#aec66622-dda9-4abb-8f42-b9c459ab39c2').width('57%')"
       ],
       "metadata": {},
       "output_type": "display_data",
       "text": [
        "<IPython.core.display.Javascript at 0x7f4dbb130450>"
       ]
      },
      {
       "javascript": [
        "$('div#aec66622-dda9-4abb-8f42-b9c459ab39c2').width('57%')"
       ],
       "metadata": {},
       "output_type": "display_data",
       "text": [
        "<IPython.core.display.Javascript at 0x7f4dbb78be90>"
       ]
      },
      {
       "javascript": [
        "$('div#aec66622-dda9-4abb-8f42-b9c459ab39c2').width('58%')"
       ],
       "metadata": {},
       "output_type": "display_data",
       "text": [
        "<IPython.core.display.Javascript at 0x7f4dbb78bc90>"
       ]
      },
      {
       "javascript": [
        "$('div#aec66622-dda9-4abb-8f42-b9c459ab39c2').width('58%')"
       ],
       "metadata": {},
       "output_type": "display_data",
       "text": [
        "<IPython.core.display.Javascript at 0x7f4ddc4cc990>"
       ]
      },
      {
       "javascript": [
        "$('div#aec66622-dda9-4abb-8f42-b9c459ab39c2').width('59%')"
       ],
       "metadata": {},
       "output_type": "display_data",
       "text": [
        "<IPython.core.display.Javascript at 0x7f4dbb78b790>"
       ]
      },
      {
       "javascript": [
        "$('div#aec66622-dda9-4abb-8f42-b9c459ab39c2').width('60%')"
       ],
       "metadata": {},
       "output_type": "display_data",
       "text": [
        "<IPython.core.display.Javascript at 0x7f4dbb78bd90>"
       ]
      },
      {
       "javascript": [
        "$('div#aec66622-dda9-4abb-8f42-b9c459ab39c2').width('60%')"
       ],
       "metadata": {},
       "output_type": "display_data",
       "text": [
        "<IPython.core.display.Javascript at 0x7f4dbb0c1e90>"
       ]
      },
      {
       "javascript": [
        "$('div#aec66622-dda9-4abb-8f42-b9c459ab39c2').width('61%')"
       ],
       "metadata": {},
       "output_type": "display_data",
       "text": [
        "<IPython.core.display.Javascript at 0x7f4dbb1305d0>"
       ]
      },
      {
       "javascript": [
        "$('div#aec66622-dda9-4abb-8f42-b9c459ab39c2').width('61%')"
       ],
       "metadata": {},
       "output_type": "display_data",
       "text": [
        "<IPython.core.display.Javascript at 0x7f4dbb130690>"
       ]
      },
      {
       "javascript": [
        "$('div#aec66622-dda9-4abb-8f42-b9c459ab39c2').width('62%')"
       ],
       "metadata": {},
       "output_type": "display_data",
       "text": [
        "<IPython.core.display.Javascript at 0x7f4dbb130790>"
       ]
      },
      {
       "javascript": [
        "$('div#aec66622-dda9-4abb-8f42-b9c459ab39c2').width('62%')"
       ],
       "metadata": {},
       "output_type": "display_data",
       "text": [
        "<IPython.core.display.Javascript at 0x7f4dbb130890>"
       ]
      },
      {
       "javascript": [
        "$('div#aec66622-dda9-4abb-8f42-b9c459ab39c2').width('63%')"
       ],
       "metadata": {},
       "output_type": "display_data",
       "text": [
        "<IPython.core.display.Javascript at 0x7f4dbb130990>"
       ]
      },
      {
       "javascript": [
        "$('div#aec66622-dda9-4abb-8f42-b9c459ab39c2').width('63%')"
       ],
       "metadata": {},
       "output_type": "display_data",
       "text": [
        "<IPython.core.display.Javascript at 0x7f4dbb130a90>"
       ]
      },
      {
       "javascript": [
        "$('div#aec66622-dda9-4abb-8f42-b9c459ab39c2').width('64%')"
       ],
       "metadata": {},
       "output_type": "display_data",
       "text": [
        "<IPython.core.display.Javascript at 0x7f4dbb130b90>"
       ]
      },
      {
       "javascript": [
        "$('div#aec66622-dda9-4abb-8f42-b9c459ab39c2').width('64%')"
       ],
       "metadata": {},
       "output_type": "display_data",
       "text": [
        "<IPython.core.display.Javascript at 0x7f4dbb130c90>"
       ]
      },
      {
       "javascript": [
        "$('div#aec66622-dda9-4abb-8f42-b9c459ab39c2').width('65%')"
       ],
       "metadata": {},
       "output_type": "display_data",
       "text": [
        "<IPython.core.display.Javascript at 0x7f4dbb130d90>"
       ]
      },
      {
       "javascript": [
        "$('div#aec66622-dda9-4abb-8f42-b9c459ab39c2').width('65%')"
       ],
       "metadata": {},
       "output_type": "display_data",
       "text": [
        "<IPython.core.display.Javascript at 0x7f4dbb130e90>"
       ]
      },
      {
       "javascript": [
        "$('div#aec66622-dda9-4abb-8f42-b9c459ab39c2').width('66%')"
       ],
       "metadata": {},
       "output_type": "display_data",
       "text": [
        "<IPython.core.display.Javascript at 0x7f4dbb1303d0>"
       ]
      },
      {
       "javascript": [
        "$('div#aec66622-dda9-4abb-8f42-b9c459ab39c2').width('66%')"
       ],
       "metadata": {},
       "output_type": "display_data",
       "text": [
        "<IPython.core.display.Javascript at 0x7f4dbb130f90>"
       ]
      },
      {
       "javascript": [
        "$('div#aec66622-dda9-4abb-8f42-b9c459ab39c2').width('67%')"
       ],
       "metadata": {},
       "output_type": "display_data",
       "text": [
        "<IPython.core.display.Javascript at 0x7f4dbb11f1d0>"
       ]
      },
      {
       "javascript": [
        "$('div#aec66622-dda9-4abb-8f42-b9c459ab39c2').width('67%')"
       ],
       "metadata": {},
       "output_type": "display_data",
       "text": [
        "<IPython.core.display.Javascript at 0x7f4dbb11f2d0>"
       ]
      },
      {
       "javascript": [
        "$('div#aec66622-dda9-4abb-8f42-b9c459ab39c2').width('68%')"
       ],
       "metadata": {},
       "output_type": "display_data",
       "text": [
        "<IPython.core.display.Javascript at 0x7f4dbb11f3d0>"
       ]
      },
      {
       "javascript": [
        "$('div#aec66622-dda9-4abb-8f42-b9c459ab39c2').width('68%')"
       ],
       "metadata": {},
       "output_type": "display_data",
       "text": [
        "<IPython.core.display.Javascript at 0x7f4dbb130e90>"
       ]
      },
      {
       "javascript": [
        "$('div#aec66622-dda9-4abb-8f42-b9c459ab39c2').width('69%')"
       ],
       "metadata": {},
       "output_type": "display_data",
       "text": [
        "<IPython.core.display.Javascript at 0x7f4dbb130c90>"
       ]
      },
      {
       "javascript": [
        "$('div#aec66622-dda9-4abb-8f42-b9c459ab39c2').width('69%')"
       ],
       "metadata": {},
       "output_type": "display_data",
       "text": [
        "<IPython.core.display.Javascript at 0x7f4ddc4cc990>"
       ]
      },
      {
       "javascript": [
        "$('div#aec66622-dda9-4abb-8f42-b9c459ab39c2').width('70%')"
       ],
       "metadata": {},
       "output_type": "display_data",
       "text": [
        "<IPython.core.display.Javascript at 0x7f4dbb1305d0>"
       ]
      },
      {
       "javascript": [
        "$('div#aec66622-dda9-4abb-8f42-b9c459ab39c2').width('70%')"
       ],
       "metadata": {},
       "output_type": "display_data",
       "text": [
        "<IPython.core.display.Javascript at 0x7f4dbb1303d0>"
       ]
      },
      {
       "javascript": [
        "$('div#aec66622-dda9-4abb-8f42-b9c459ab39c2').width('71%')"
       ],
       "metadata": {},
       "output_type": "display_data",
       "text": [
        "<IPython.core.display.Javascript at 0x7f4dbb78b790>"
       ]
      },
      {
       "javascript": [
        "$('div#aec66622-dda9-4abb-8f42-b9c459ab39c2').width('71%')"
       ],
       "metadata": {},
       "output_type": "display_data",
       "text": [
        "<IPython.core.display.Javascript at 0x7f4dbb11f5d0>"
       ]
      },
      {
       "javascript": [
        "$('div#aec66622-dda9-4abb-8f42-b9c459ab39c2').width('72%')"
       ],
       "metadata": {},
       "output_type": "display_data",
       "text": [
        "<IPython.core.display.Javascript at 0x7f4dbb11f690>"
       ]
      },
      {
       "javascript": [
        "$('div#aec66622-dda9-4abb-8f42-b9c459ab39c2').width('72%')"
       ],
       "metadata": {},
       "output_type": "display_data",
       "text": [
        "<IPython.core.display.Javascript at 0x7f4dbb11f790>"
       ]
      },
      {
       "javascript": [
        "$('div#aec66622-dda9-4abb-8f42-b9c459ab39c2').width('73%')"
       ],
       "metadata": {},
       "output_type": "display_data",
       "text": [
        "<IPython.core.display.Javascript at 0x7f4dbb11f890>"
       ]
      },
      {
       "javascript": [
        "$('div#aec66622-dda9-4abb-8f42-b9c459ab39c2').width('73%')"
       ],
       "metadata": {},
       "output_type": "display_data",
       "text": [
        "<IPython.core.display.Javascript at 0x7f4dbb11f990>"
       ]
      },
      {
       "javascript": [
        "$('div#aec66622-dda9-4abb-8f42-b9c459ab39c2').width('74%')"
       ],
       "metadata": {},
       "output_type": "display_data",
       "text": [
        "<IPython.core.display.Javascript at 0x7f4dbb11fa90>"
       ]
      },
      {
       "javascript": [
        "$('div#aec66622-dda9-4abb-8f42-b9c459ab39c2').width('74%')"
       ],
       "metadata": {},
       "output_type": "display_data",
       "text": [
        "<IPython.core.display.Javascript at 0x7f4dbb11fb90>"
       ]
      },
      {
       "javascript": [
        "$('div#aec66622-dda9-4abb-8f42-b9c459ab39c2').width('75%')"
       ],
       "metadata": {},
       "output_type": "display_data",
       "text": [
        "<IPython.core.display.Javascript at 0x7f4dbb11fc90>"
       ]
      },
      {
       "javascript": [
        "$('div#aec66622-dda9-4abb-8f42-b9c459ab39c2').width('75%')"
       ],
       "metadata": {},
       "output_type": "display_data",
       "text": [
        "<IPython.core.display.Javascript at 0x7f4dbb11fd90>"
       ]
      },
      {
       "javascript": [
        "$('div#aec66622-dda9-4abb-8f42-b9c459ab39c2').width('76%')"
       ],
       "metadata": {},
       "output_type": "display_data",
       "text": [
        "<IPython.core.display.Javascript at 0x7f4dbb11fe90>"
       ]
      },
      {
       "javascript": [
        "$('div#aec66622-dda9-4abb-8f42-b9c459ab39c2').width('76%')"
       ],
       "metadata": {},
       "output_type": "display_data",
       "text": [
        "<IPython.core.display.Javascript at 0x7f4dbb11f150>"
       ]
      },
      {
       "javascript": [
        "$('div#aec66622-dda9-4abb-8f42-b9c459ab39c2').width('77%')"
       ],
       "metadata": {},
       "output_type": "display_data",
       "text": [
        "<IPython.core.display.Javascript at 0x7f4dbb11ff90>"
       ]
      },
      {
       "javascript": [
        "$('div#aec66622-dda9-4abb-8f42-b9c459ab39c2').width('77%')"
       ],
       "metadata": {},
       "output_type": "display_data",
       "text": [
        "<IPython.core.display.Javascript at 0x7f4dbb1471d0>"
       ]
      },
      {
       "javascript": [
        "$('div#aec66622-dda9-4abb-8f42-b9c459ab39c2').width('78%')"
       ],
       "metadata": {},
       "output_type": "display_data",
       "text": [
        "<IPython.core.display.Javascript at 0x7f4dbb1472d0>"
       ]
      },
      {
       "javascript": [
        "$('div#aec66622-dda9-4abb-8f42-b9c459ab39c2').width('78%')"
       ],
       "metadata": {},
       "output_type": "display_data",
       "text": [
        "<IPython.core.display.Javascript at 0x7f4dbb1473d0>"
       ]
      },
      {
       "javascript": [
        "$('div#aec66622-dda9-4abb-8f42-b9c459ab39c2').width('79%')"
       ],
       "metadata": {},
       "output_type": "display_data",
       "text": [
        "<IPython.core.display.Javascript at 0x7f4dbb11fe90>"
       ]
      },
      {
       "javascript": [
        "$('div#aec66622-dda9-4abb-8f42-b9c459ab39c2').width('80%')"
       ],
       "metadata": {},
       "output_type": "display_data",
       "text": [
        "<IPython.core.display.Javascript at 0x7f4dbb11fc90>"
       ]
      },
      {
       "javascript": [
        "$('div#aec66622-dda9-4abb-8f42-b9c459ab39c2').width('80%')"
       ],
       "metadata": {},
       "output_type": "display_data",
       "text": [
        "<IPython.core.display.Javascript at 0x7f4ddc4cc990>"
       ]
      },
      {
       "javascript": [
        "$('div#aec66622-dda9-4abb-8f42-b9c459ab39c2').width('81%')"
       ],
       "metadata": {},
       "output_type": "display_data",
       "text": [
        "<IPython.core.display.Javascript at 0x7f4dbb11f790>"
       ]
      },
      {
       "javascript": [
        "$('div#aec66622-dda9-4abb-8f42-b9c459ab39c2').width('81%')"
       ],
       "metadata": {},
       "output_type": "display_data",
       "text": [
        "<IPython.core.display.Javascript at 0x7f4dbb11fd90>"
       ]
      },
      {
       "javascript": [
        "$('div#aec66622-dda9-4abb-8f42-b9c459ab39c2').width('82%')"
       ],
       "metadata": {},
       "output_type": "display_data",
       "text": [
        "<IPython.core.display.Javascript at 0x7f4dbb1305d0>"
       ]
      },
      {
       "javascript": [
        "$('div#aec66622-dda9-4abb-8f42-b9c459ab39c2').width('82%')"
       ],
       "metadata": {},
       "output_type": "display_data",
       "text": [
        "<IPython.core.display.Javascript at 0x7f4dbb1475d0>"
       ]
      },
      {
       "javascript": [
        "$('div#aec66622-dda9-4abb-8f42-b9c459ab39c2').width('83%')"
       ],
       "metadata": {},
       "output_type": "display_data",
       "text": [
        "<IPython.core.display.Javascript at 0x7f4dbb147690>"
       ]
      },
      {
       "javascript": [
        "$('div#aec66622-dda9-4abb-8f42-b9c459ab39c2').width('83%')"
       ],
       "metadata": {},
       "output_type": "display_data",
       "text": [
        "<IPython.core.display.Javascript at 0x7f4dbb147790>"
       ]
      },
      {
       "javascript": [
        "$('div#aec66622-dda9-4abb-8f42-b9c459ab39c2').width('84%')"
       ],
       "metadata": {},
       "output_type": "display_data",
       "text": [
        "<IPython.core.display.Javascript at 0x7f4dbb147890>"
       ]
      },
      {
       "javascript": [
        "$('div#aec66622-dda9-4abb-8f42-b9c459ab39c2').width('84%')"
       ],
       "metadata": {},
       "output_type": "display_data",
       "text": [
        "<IPython.core.display.Javascript at 0x7f4dbb147990>"
       ]
      },
      {
       "javascript": [
        "$('div#aec66622-dda9-4abb-8f42-b9c459ab39c2').width('85%')"
       ],
       "metadata": {},
       "output_type": "display_data",
       "text": [
        "<IPython.core.display.Javascript at 0x7f4dbb147a90>"
       ]
      },
      {
       "javascript": [
        "$('div#aec66622-dda9-4abb-8f42-b9c459ab39c2').width('85%')"
       ],
       "metadata": {},
       "output_type": "display_data",
       "text": [
        "<IPython.core.display.Javascript at 0x7f4dbb147b90>"
       ]
      },
      {
       "javascript": [
        "$('div#aec66622-dda9-4abb-8f42-b9c459ab39c2').width('86%')"
       ],
       "metadata": {},
       "output_type": "display_data",
       "text": [
        "<IPython.core.display.Javascript at 0x7f4dbb147c90>"
       ]
      },
      {
       "javascript": [
        "$('div#aec66622-dda9-4abb-8f42-b9c459ab39c2').width('86%')"
       ],
       "metadata": {},
       "output_type": "display_data",
       "text": [
        "<IPython.core.display.Javascript at 0x7f4dbb147d90>"
       ]
      },
      {
       "javascript": [
        "$('div#aec66622-dda9-4abb-8f42-b9c459ab39c2').width('87%')"
       ],
       "metadata": {},
       "output_type": "display_data",
       "text": [
        "<IPython.core.display.Javascript at 0x7f4dbb147e90>"
       ]
      },
      {
       "javascript": [
        "$('div#aec66622-dda9-4abb-8f42-b9c459ab39c2').width('87%')"
       ],
       "metadata": {},
       "output_type": "display_data",
       "text": [
        "<IPython.core.display.Javascript at 0x7f4dbb147150>"
       ]
      },
      {
       "javascript": [
        "$('div#aec66622-dda9-4abb-8f42-b9c459ab39c2').width('88%')"
       ],
       "metadata": {},
       "output_type": "display_data",
       "text": [
        "<IPython.core.display.Javascript at 0x7f4dbb147f90>"
       ]
      },
      {
       "javascript": [
        "$('div#aec66622-dda9-4abb-8f42-b9c459ab39c2').width('88%')"
       ],
       "metadata": {},
       "output_type": "display_data",
       "text": [
        "<IPython.core.display.Javascript at 0x7f4dbb8da1d0>"
       ]
      },
      {
       "javascript": [
        "$('div#aec66622-dda9-4abb-8f42-b9c459ab39c2').width('89%')"
       ],
       "metadata": {},
       "output_type": "display_data",
       "text": [
        "<IPython.core.display.Javascript at 0x7f4dbb8da2d0>"
       ]
      },
      {
       "javascript": [
        "$('div#aec66622-dda9-4abb-8f42-b9c459ab39c2').width('89%')"
       ],
       "metadata": {},
       "output_type": "display_data",
       "text": [
        "<IPython.core.display.Javascript at 0x7f4dbb8da150>"
       ]
      },
      {
       "javascript": [
        "$('div#aec66622-dda9-4abb-8f42-b9c459ab39c2').width('90%')"
       ],
       "metadata": {},
       "output_type": "display_data",
       "text": [
        "<IPython.core.display.Javascript at 0x7f4dbb147e90>"
       ]
      },
      {
       "javascript": [
        "$('div#aec66622-dda9-4abb-8f42-b9c459ab39c2').width('90%')"
       ],
       "metadata": {},
       "output_type": "display_data",
       "text": [
        "<IPython.core.display.Javascript at 0x7f4dbb147c90>"
       ]
      },
      {
       "javascript": [
        "$('div#aec66622-dda9-4abb-8f42-b9c459ab39c2').width('91%')"
       ],
       "metadata": {},
       "output_type": "display_data",
       "text": [
        "<IPython.core.display.Javascript at 0x7f4ddc4cc990>"
       ]
      },
      {
       "javascript": [
        "$('div#aec66622-dda9-4abb-8f42-b9c459ab39c2').width('91%')"
       ],
       "metadata": {},
       "output_type": "display_data",
       "text": [
        "<IPython.core.display.Javascript at 0x7f4dbb147790>"
       ]
      },
      {
       "javascript": [
        "$('div#aec66622-dda9-4abb-8f42-b9c459ab39c2').width('92%')"
       ],
       "metadata": {},
       "output_type": "display_data",
       "text": [
        "<IPython.core.display.Javascript at 0x7f4dbb147d90>"
       ]
      },
      {
       "javascript": [
        "$('div#aec66622-dda9-4abb-8f42-b9c459ab39c2').width('92%')"
       ],
       "metadata": {},
       "output_type": "display_data",
       "text": [
        "<IPython.core.display.Javascript at 0x7f4dbb11f790>"
       ]
      },
      {
       "javascript": [
        "$('div#aec66622-dda9-4abb-8f42-b9c459ab39c2').width('93%')"
       ],
       "metadata": {},
       "output_type": "display_data",
       "text": [
        "<IPython.core.display.Javascript at 0x7f4dbb8da5d0>"
       ]
      },
      {
       "javascript": [
        "$('div#aec66622-dda9-4abb-8f42-b9c459ab39c2').width('93%')"
       ],
       "metadata": {},
       "output_type": "display_data",
       "text": [
        "<IPython.core.display.Javascript at 0x7f4dbb8da690>"
       ]
      },
      {
       "javascript": [
        "$('div#aec66622-dda9-4abb-8f42-b9c459ab39c2').width('94%')"
       ],
       "metadata": {},
       "output_type": "display_data",
       "text": [
        "<IPython.core.display.Javascript at 0x7f4dbb8da790>"
       ]
      },
      {
       "javascript": [
        "$('div#aec66622-dda9-4abb-8f42-b9c459ab39c2').width('94%')"
       ],
       "metadata": {},
       "output_type": "display_data",
       "text": [
        "<IPython.core.display.Javascript at 0x7f4dbb8da890>"
       ]
      },
      {
       "javascript": [
        "$('div#aec66622-dda9-4abb-8f42-b9c459ab39c2').width('95%')"
       ],
       "metadata": {},
       "output_type": "display_data",
       "text": [
        "<IPython.core.display.Javascript at 0x7f4dbb8da990>"
       ]
      },
      {
       "javascript": [
        "$('div#aec66622-dda9-4abb-8f42-b9c459ab39c2').width('95%')"
       ],
       "metadata": {},
       "output_type": "display_data",
       "text": [
        "<IPython.core.display.Javascript at 0x7f4dbb8da4d0>"
       ]
      },
      {
       "javascript": [
        "$('div#aec66622-dda9-4abb-8f42-b9c459ab39c2').width('96%')"
       ],
       "metadata": {},
       "output_type": "display_data",
       "text": [
        "<IPython.core.display.Javascript at 0x7f4dbb8dac10>"
       ]
      },
      {
       "javascript": [
        "$('div#aec66622-dda9-4abb-8f42-b9c459ab39c2').width('96%')"
       ],
       "metadata": {},
       "output_type": "display_data",
       "text": [
        "<IPython.core.display.Javascript at 0x7f4dbb8dab90>"
       ]
      },
      {
       "javascript": [
        "$('div#aec66622-dda9-4abb-8f42-b9c459ab39c2').width('97%')"
       ],
       "metadata": {},
       "output_type": "display_data",
       "text": [
        "<IPython.core.display.Javascript at 0x7f4dbb8dae10>"
       ]
      },
      {
       "javascript": [
        "$('div#aec66622-dda9-4abb-8f42-b9c459ab39c2').width('97%')"
       ],
       "metadata": {},
       "output_type": "display_data",
       "text": [
        "<IPython.core.display.Javascript at 0x7f4dbb8dae90>"
       ]
      },
      {
       "javascript": [
        "$('div#aec66622-dda9-4abb-8f42-b9c459ab39c2').width('98%')"
       ],
       "metadata": {},
       "output_type": "display_data",
       "text": [
        "<IPython.core.display.Javascript at 0x7f4dbb8dad90>"
       ]
      },
      {
       "javascript": [
        "$('div#aec66622-dda9-4abb-8f42-b9c459ab39c2').width('98%')"
       ],
       "metadata": {},
       "output_type": "display_data",
       "text": [
        "<IPython.core.display.Javascript at 0x7f4dbb8daf90>"
       ]
      },
      {
       "javascript": [
        "$('div#aec66622-dda9-4abb-8f42-b9c459ab39c2').width('99%')"
       ],
       "metadata": {},
       "output_type": "display_data",
       "text": [
        "<IPython.core.display.Javascript at 0x7f4dbb0ad1d0>"
       ]
      },
      {
       "javascript": [
        "$('div#aec66622-dda9-4abb-8f42-b9c459ab39c2').width('100%')"
       ],
       "metadata": {},
       "output_type": "display_data",
       "text": [
        "<IPython.core.display.Javascript at 0x7f4dbb0ad2d0>"
       ]
      }
     ],
     "prompt_number": 6
    },
    {
     "cell_type": "markdown",
     "metadata": {},
     "source": [
      "#### Show the available fields from the processed data files"
     ]
    },
    {
     "cell_type": "code",
     "collapsed": false,
     "input": [
      "print(\"Data Fields: {}, {}, {}\".format(actual_data.index.name,\n",
      "                                       *actual_data.columns))"
     ],
     "language": "python",
     "metadata": {},
     "outputs": [
      {
       "output_type": "stream",
       "stream": "stdout",
       "text": [
        "Data Fields: date_time_GMT, elevation, nearest_barometric_sensor_psi\n"
       ]
      }
     ],
     "prompt_number": 7
    },
    {
     "cell_type": "markdown",
     "metadata": {},
     "source": [
      "# Remove 'Sensor elevation above NAVD 88 (ft)'"
     ]
    },
    {
     "cell_type": "code",
     "collapsed": false,
     "input": [
      "for key, value in full_data.iteritems():\n",
      "    offset = float(value['meta']['elevation'])\n",
      "    value['data']['elevation'] -= offset"
     ],
     "language": "python",
     "metadata": {},
     "outputs": [],
     "prompt_number": 8
    },
    {
     "cell_type": "markdown",
     "metadata": {},
     "source": [
      "## Plot all Water Level data in the NJ area"
     ]
    },
    {
     "cell_type": "code",
     "collapsed": false,
     "input": [
      "fig, ax = plt.subplots(figsize=(16, 3))\n",
      "\n",
      "fig.suptitle('Water Elevation', fontsize=14)\n",
      "\n",
      "for key, value in full_data.iteritems():\n",
      "    try:\n",
      "        if 'SSS-NJ' in key:\n",
      "            df = value['data']                     \n",
      "            ax.plot(df.index, df['elevation'])\n",
      "            ax.set_xlabel('Date', fontsize=14)\n",
      "            ax.set_ylabel('Elevation (ft)', fontsize=14) \n",
      "    except Exception as e:\n",
      "        print(e)"
     ],
     "language": "python",
     "metadata": {},
     "outputs": [
      {
       "metadata": {},
       "output_type": "display_data",
       "png": "[encoded data removed]",
       "text": [
        "<matplotlib.figure.Figure at 0x7f4dbb921050>"
       ]
      }
     ],
     "prompt_number": 9
    },
    {
     "cell_type": "markdown",
     "metadata": {},
     "source": [
      "## Plot all Pressure data in the NJ area"
     ]
    },
    {
     "cell_type": "code",
     "collapsed": false,
     "input": [
      "fig, ax = plt.subplots(figsize=(16, 3))\n",
      "\n",
      "fig.suptitle('nearest_barometric_sensor_psi', fontsize=14)\n",
      "\n",
      "for key, value in full_data.iteritems():\n",
      "    try:\n",
      "        if 'SSS-NJ' in key:\n",
      "            df = value['data']                     \n",
      "            ax.plot(df.index, df['nearest_barometric_sensor_psi'])\n",
      "            ax.set_xlabel('Date', fontsize=14)\n",
      "            ax.set_ylabel('Nearest barometric sensor (psi)', fontsize=14) \n",
      "    except Exception as e:\n",
      "        print(e)"
     ],
     "language": "python",
     "metadata": {},
     "outputs": [
      {
       "metadata": {},
       "output_type": "display_data",
       "png": "[encoded data removed]",
       "text": [
        "<matplotlib.figure.Figure at 0x7f4dbb90e450>"
       ]
      }
     ],
     "prompt_number": 10
    },
    {
     "cell_type": "markdown",
     "metadata": {},
     "source": [
      "## Map the Gage locations"
     ]
    },
    {
     "cell_type": "code",
     "collapsed": false,
     "input": [
      "map = folium.Map(width=800, height=500, location=[30, -73], zoom_start=4)\n",
      "\n",
      "# Generate the color map for the storms.\n",
      "color_list = {\"Tropical Storm\": '#4AD200',\n",
      "              \"Category 1 Hurricane\": '#CFD900',\n",
      "              \"Category 2 Hurricane\": '#E16400',\n",
      "              \"Category 3 Hurricane\": '#ff0000'}\n",
      "\n",
      "\n",
      "# Add the track line.\n",
      "with open('track.csv', 'rb') as csvfile:\n",
      "    spamreader = csv.reader(csvfile, delimiter=',', quotechar='|')\n",
      "    for row in spamreader:\n",
      "        lon, lat = row[3], row[2]\n",
      "        popup = \"{} : {} <br> {}\".format(row[0], row[1], row[6])\n",
      "        map.circle_marker([lat, lon], popup=popup,\n",
      "                          fill_color=color_list[row[6]],\n",
      "                          radius=10000, line_color='#000000')\n",
      "\n",
      "# Add the station.\n",
      "for st in full_data:\n",
      "    lat = full_data[st]['meta']['lat']\n",
      "    lon = full_data[st]['meta']['lon']\n",
      "    map.simple_marker([lat, lon], popup=st, clustered_marker=True)    \n",
      "\n",
      "map.add_layers_to_map()\n",
      "inline_map(map)"
     ],
     "language": "python",
     "metadata": {},
     "outputs": [
      {
       "html": [
        "<iframe srcdoc=\"<!DOCTYPE html>\n",
        "<head>\n",
        "   <meta http-equiv=&quot;content-type&quot; content=&quot;text/html; charset=UTF-8&quot; />\n",
        "   <link rel=&quot;stylesheet&quot; href=&quot;http://cdn.leafletjs.com/leaflet-0.7.3/leaflet.css&quot; />\n",
        "   <script src=&quot;http://cdn.leafletjs.com/leaflet-0.7.3/leaflet.js&quot;></script>\n",
        "\n",
        "   <script src=&quot;https://ajax.googleapis.com/ajax/libs/jquery/1.11.1/jquery.min.js&quot;></script>\n",
        "\n",
        "   <link rel=&quot;stylesheet&quot; href=&quot;//maxcdn.bootstrapcdn.com/bootstrap/3.2.0/css/bootstrap.min.css&quot;>\n",
        "   <link rel=&quot;stylesheet&quot; href=&quot;//maxcdn.bootstrapcdn.com/bootstrap/3.2.0/css/bootstrap-theme.min.css&quot;>\n",
        "   <script src=&quot;//maxcdn.bootstrapcdn.com/bootstrap/3.2.0/js/bootstrap.min.js&quot;></script>\n",
        "\n",
        "   <link href=&quot;//maxcdn.bootstrapcdn.com/font-awesome/4.1.0/css/font-awesome.min.css&quot; rel=&quot;stylesheet&quot;>\n",
        "\n",
        "   <link rel=&quot;stylesheet&quot; href=&quot;https://rawgit.com/lvoogdt/Leaflet.awesome-markers/2.0/develop/dist/leaflet.awesome-markers.css&quot;>\n",
        "   <script src=&quot;https://rawgithub.com/lvoogdt/Leaflet.awesome-markers/2.0/develop/dist/leaflet.awesome-markers.js&quot;></script>\n",
        "\n",
        "\n",
        "   <link rel=&quot;stylesheet&quot; href=&quot;//cdnjs.cloudflare.com/ajax/libs/leaflet.markercluster/0.4.0/MarkerCluster.Default.css&quot;>\n",
        "   <link rel=&quot;stylesheet&quot; href=&quot;//cdnjs.cloudflare.com/ajax/libs/leaflet.markercluster/0.4.0/MarkerCluster.css&quot;>\n",
        "   <script src=&quot;//cdnjs.cloudflare.com/ajax/libs/leaflet.markercluster/0.4.0/leaflet.markercluster-src.js&quot;></script>\n",
        "   <script src=&quot;//cdnjs.cloudflare.com/ajax/libs/leaflet.markercluster/0.4.0/leaflet.markercluster.js&quot;></script>\n",
        "\n",
        "   <link rel=&quot;stylesheet&quot; href=&quot;http://birdage.github.io/Leaflet.awesome-markers/dist/leaflet.awesome.rotate.css&quot;>\n",
        "\n",
        "   \n",
        "   \n",
        "   \n",
        "   \n",
        "\n",
        "   <style>\n",
        "\n",
        "      html, body {\n",
        "        width: 100%;\n",
        "        height: 100%;\n",
        "        margin: 0;\n",
        "        padding: 0;\n",
        "      }\n",
        "\n",
        "      #map {\n",
        "        position:absolute;\n",
        "        top:0;\n",
        "        bottom:0;\n",
        "        right:0;\n",
        "        left:0;\n",
        "      }\n",
        "\n",
        "   </style>\n",
        "</head>\n",
        "\n",
        "<body>\n",
        "\n",
        "   <div class=&quot;folium-map&quot; id=&quot;folium_be33035f42864969a281b4925b737209&quot; style=&quot;width: 800px; height: 500px&quot;></div>\n",
        "\n",
        "   <script>\n",
        "\n",
        "      \n",
        "\n",
        "      var base_tile = L.tileLayer('http://{s}.tile.openstreetmap.org/{z}/{x}/{y}.png', {\n",
        "          maxZoom: 18,\n",
        "          attribution: 'Map data (c) <a href=&quot;http://openstreetmap.org&quot;>OpenStreetMap</a> contributors'\n",
        "      });\n",
        "\n",
        "      var baseLayer = {        \n",
        "        &quot;Base Layer&quot;: base_tile\n",
        "      };\n",
        "\n",
        "      /*\n",
        "      addition of the wms layers\n",
        "      */ \n",
        "\n",
        "      \n",
        "      \n",
        "      /*\n",
        "      addition of the tile layers\n",
        "      */\n",
        "      \n",
        "\n",
        "      /*\n",
        "      list of layers to be added\n",
        "      */ \n",
        "      var layer_list = {\n",
        "      \n",
        "      \n",
        "      \n",
        "      };\n",
        "\n",
        "      /*\n",
        "      Creates the map and adds the selected layers\n",
        "      */\n",
        "      var map = L.map('folium_be33035f42864969a281b4925b737209', {\n",
        "                                       center:[30, -73],\n",
        "                                       zoom: 4,\n",
        "                                       layers: [base_tile]\n",
        "                                     });\n",
        "\n",
        "      L.control.layers(baseLayer, layer_list).addTo(map);\n",
        "\n",
        "      //cluster group\n",
        "      var clusteredmarkers = L.markerClusterGroup();\n",
        "      //section for adding clustered markers\n",
        "      \n",
        "      var marker_1_icon = L.AwesomeMarkers.icon({ icon: 'info-sign',markerColor: 'blue',prefix: 'glyphicon',extraClasses: 'fa-rotate-0'});\n",
        "      var marker_1 = L.marker([40.643161, \n",
        "\t\t\t\t\t\t\t-73.1575],\n",
        "\t\t\t\t\t\t\t{'icon':marker_1_icon}\n",
        "\t\t\t\t\t\t\t);\n",
        "      marker_1.bindPopup(&quot;SSS-NY-SUF-017WL.txt&quot;);\n",
        "      clusteredmarkers.addLayer(marker_1)\n",
        "      \n",
        "      var marker_2_icon = L.AwesomeMarkers.icon({ icon: 'info-sign',markerColor: 'blue',prefix: 'glyphicon',extraClasses: 'fa-rotate-0'});\n",
        "      var marker_2 = L.marker([41.59597, \n",
        "\t\t\t\t\t\t\t-70.84321],\n",
        "\t\t\t\t\t\t\t{'icon':marker_2_icon}\n",
        "\t\t\t\t\t\t\t);\n",
        "      marker_2.bindPopup(&quot;SSS-MA-BRI-017WL.txt&quot;);\n",
        "      clusteredmarkers.addLayer(marker_2)\n",
        "      \n",
        "      var marker_3_icon = L.AwesomeMarkers.icon({ icon: 'info-sign',markerColor: 'blue',prefix: 'glyphicon',extraClasses: 'fa-rotate-0'});\n",
        "      var marker_3 = L.marker([35.3763770523, \n",
        "\t\t\t\t\t\t\t-76.7478610821],\n",
        "\t\t\t\t\t\t\t{'icon':marker_3_icon}\n",
        "\t\t\t\t\t\t\t);\n",
        "      marker_3.bindPopup(&quot;SSS-NC-BEA-001WL.txt&quot;);\n",
        "      clusteredmarkers.addLayer(marker_3)\n",
        "      \n",
        "      var marker_4_icon = L.AwesomeMarkers.icon({ icon: 'info-sign',markerColor: 'blue',prefix: 'glyphicon',extraClasses: 'fa-rotate-0'});\n",
        "      var marker_4 = L.marker([35.2079126984, \n",
        "\t\t\t\t\t\t\t-75.7028357683],\n",
        "\t\t\t\t\t\t\t{'icon':marker_4_icon}\n",
        "\t\t\t\t\t\t\t);\n",
        "      marker_4.bindPopup(&quot;SSS-NC-DAR-001WL.txt&quot;);\n",
        "      clusteredmarkers.addLayer(marker_4)\n",
        "      \n",
        "      var marker_5_icon = L.AwesomeMarkers.icon({ icon: 'info-sign',markerColor: 'blue',prefix: 'glyphicon',extraClasses: 'fa-rotate-0'});\n",
        "      var marker_5 = L.marker([33.892438, \n",
        "\t\t\t\t\t\t\t-78.437876],\n",
        "\t\t\t\t\t\t\t{'icon':marker_5_icon}\n",
        "\t\t\t\t\t\t\t);\n",
        "      marker_5.bindPopup(&quot;SSS-NC-BRU-013WL.txt&quot;);\n",
        "      clusteredmarkers.addLayer(marker_5)\n",
        "      \n",
        "      var marker_6_icon = L.AwesomeMarkers.icon({ icon: 'info-sign',markerColor: 'blue',prefix: 'glyphicon',extraClasses: 'fa-rotate-0'});\n",
        "      var marker_6 = L.marker([37.1106111111, \n",
        "\t\t\t\t\t\t\t-76.3194444444],\n",
        "\t\t\t\t\t\t\t{'icon':marker_6_icon}\n",
        "\t\t\t\t\t\t\t);\n",
        "      marker_6.bindPopup(&quot;SSS-VA-YOR-003WL.txt&quot;);\n",
        "      clusteredmarkers.addLayer(marker_6)\n",
        "      \n",
        "      var marker_7_icon = L.AwesomeMarkers.icon({ icon: 'info-sign',markerColor: 'blue',prefix: 'glyphicon',extraClasses: 'fa-rotate-0'});\n",
        "      var marker_7 = L.marker([36.1930034548, \n",
        "\t\t\t\t\t\t\t-76.4545809855],\n",
        "\t\t\t\t\t\t\t{'icon':marker_7_icon}\n",
        "\t\t\t\t\t\t\t);\n",
        "      marker_7.bindPopup(&quot;SSS-NC-PER-001WL.txt&quot;);\n",
        "      clusteredmarkers.addLayer(marker_7)\n",
        "      \n",
        "      var marker_8_icon = L.AwesomeMarkers.icon({ icon: 'info-sign',markerColor: 'blue',prefix: 'glyphicon',extraClasses: 'fa-rotate-0'});\n",
        "      var marker_8 = L.marker([37.1783333333, \n",
        "\t\t\t\t\t\t\t-76.3969444444],\n",
        "\t\t\t\t\t\t\t{'icon':marker_8_icon}\n",
        "\t\t\t\t\t\t\t);\n",
        "      marker_8.bindPopup(&quot;SSS-VA-YOR-001WL.txt&quot;);\n",
        "      clusteredmarkers.addLayer(marker_8)\n",
        "      \n",
        "      var marker_9_icon = L.AwesomeMarkers.icon({ icon: 'info-sign',markerColor: 'blue',prefix: 'glyphicon',extraClasses: 'fa-rotate-0'});\n",
        "      var marker_9 = L.marker([38.6333055556, \n",
        "\t\t\t\t\t\t\t-75.6181388889],\n",
        "\t\t\t\t\t\t\t{'icon':marker_9_icon}\n",
        "\t\t\t\t\t\t\t);\n",
        "      marker_9.bindPopup(&quot;SSS-DE-SUS-038WL.txt&quot;);\n",
        "      clusteredmarkers.addLayer(marker_9)\n",
        "      \n",
        "      var marker_10_icon = L.AwesomeMarkers.icon({ icon: 'info-sign',markerColor: 'blue',prefix: 'glyphicon',extraClasses: 'fa-rotate-0'});\n",
        "      var marker_10 = L.marker([36.37192222, \n",
        "\t\t\t\t\t\t\t-75.82281944],\n",
        "\t\t\t\t\t\t\t{'icon':marker_10_icon}\n",
        "\t\t\t\t\t\t\t);\n",
        "      marker_10.bindPopup(&quot;SSS-NC-CUR-001WL.txt&quot;);\n",
        "      clusteredmarkers.addLayer(marker_10)\n",
        "      \n",
        "      var marker_11_icon = L.AwesomeMarkers.icon({ icon: 'info-sign',markerColor: 'blue',prefix: 'glyphicon',extraClasses: 'fa-rotate-0'});\n",
        "      var marker_11 = L.marker([38.4548888889, \n",
        "\t\t\t\t\t\t\t-75.0581388889],\n",
        "\t\t\t\t\t\t\t{'icon':marker_11_icon}\n",
        "\t\t\t\t\t\t\t);\n",
        "      marker_11.bindPopup(&quot;SSS-DE-SUS-015WL.txt&quot;);\n",
        "      clusteredmarkers.addLayer(marker_11)\n",
        "      \n",
        "      var marker_12_icon = L.AwesomeMarkers.icon({ icon: 'info-sign',markerColor: 'blue',prefix: 'glyphicon',extraClasses: 'fa-rotate-0'});\n",
        "      var marker_12 = L.marker([41.14762, \n",
        "\t\t\t\t\t\t\t-73.36481],\n",
        "\t\t\t\t\t\t\t{'icon':marker_12_icon}\n",
        "\t\t\t\t\t\t\t);\n",
        "      marker_12.bindPopup(&quot;SSS-CT-FFD-005WL.txt&quot;);\n",
        "      clusteredmarkers.addLayer(marker_12)\n",
        "      \n",
        "      var marker_13_icon = L.AwesomeMarkers.icon({ icon: 'info-sign',markerColor: 'blue',prefix: 'glyphicon',extraClasses: 'fa-rotate-0'});\n",
        "      var marker_13 = L.marker([41.09979, \n",
        "\t\t\t\t\t\t\t-73.41568],\n",
        "\t\t\t\t\t\t\t{'icon':marker_13_icon}\n",
        "\t\t\t\t\t\t\t);\n",
        "      marker_13.bindPopup(&quot;SSS-CT-FFD-003WL.txt&quot;);\n",
        "      clusteredmarkers.addLayer(marker_13)\n",
        "      \n",
        "      var marker_14_icon = L.AwesomeMarkers.icon({ icon: 'info-sign',markerColor: 'blue',prefix: 'glyphicon',extraClasses: 'fa-rotate-0'});\n",
        "      var marker_14 = L.marker([38.3005833333, \n",
        "\t\t\t\t\t\t\t-76.0054722222],\n",
        "\t\t\t\t\t\t\t{'icon':marker_14_icon}\n",
        "\t\t\t\t\t\t\t);\n",
        "      marker_14.bindPopup(&quot;SSS-MD-DOR-033WL.txt&quot;);\n",
        "      clusteredmarkers.addLayer(marker_14)\n",
        "      \n",
        "      var marker_15_icon = L.AwesomeMarkers.icon({ icon: 'info-sign',markerColor: 'blue',prefix: 'glyphicon',extraClasses: 'fa-rotate-0'});\n",
        "      var marker_15 = L.marker([40.647326, \n",
        "\t\t\t\t\t\t\t-73.462339],\n",
        "\t\t\t\t\t\t\t{'icon':marker_15_icon}\n",
        "\t\t\t\t\t\t\t);\n",
        "      marker_15.bindPopup(&quot;SSS-NY-NAS-005WL.txt&quot;);\n",
        "      clusteredmarkers.addLayer(marker_15)\n",
        "      \n",
        "      var marker_16_icon = L.AwesomeMarkers.icon({ icon: 'info-sign',markerColor: 'blue',prefix: 'glyphicon',extraClasses: 'fa-rotate-0'});\n",
        "      var marker_16 = L.marker([35.9588451566, \n",
        "\t\t\t\t\t\t\t-76.4915124735],\n",
        "\t\t\t\t\t\t\t{'icon':marker_16_icon}\n",
        "\t\t\t\t\t\t\t);\n",
        "      marker_16.bindPopup(&quot;SSS-NC-WAS-001WL.txt&quot;);\n",
        "      clusteredmarkers.addLayer(marker_16)\n",
        "      \n",
        "      var marker_17_icon = L.AwesomeMarkers.icon({ icon: 'info-sign',markerColor: 'blue',prefix: 'glyphicon',extraClasses: 'fa-rotate-0'});\n",
        "      var marker_17 = L.marker([39.4291666667, \n",
        "\t\t\t\t\t\t\t-75.2369444444],\n",
        "\t\t\t\t\t\t\t{'icon':marker_17_icon}\n",
        "\t\t\t\t\t\t\t);\n",
        "      marker_17.bindPopup(&quot;SSS-NJ-CUM-002WL.txt&quot;);\n",
        "      clusteredmarkers.addLayer(marker_17)\n",
        "      \n",
        "      var marker_18_icon = L.AwesomeMarkers.icon({ icon: 'info-sign',markerColor: 'blue',prefix: 'glyphicon',extraClasses: 'fa-rotate-0'});\n",
        "      var marker_18 = L.marker([38.6840277778, \n",
        "\t\t\t\t\t\t\t-75.9748333333],\n",
        "\t\t\t\t\t\t\t{'icon':marker_18_icon}\n",
        "\t\t\t\t\t\t\t);\n",
        "      marker_18.bindPopup(&quot;SSS-MD-TAL-006WL.txt&quot;);\n",
        "      clusteredmarkers.addLayer(marker_18)\n",
        "      \n",
        "      var marker_19_icon = L.AwesomeMarkers.icon({ icon: 'info-sign',markerColor: 'blue',prefix: 'glyphicon',extraClasses: 'fa-rotate-0'});\n",
        "      var marker_19 = L.marker([39.4486111, \n",
        "\t\t\t\t\t\t\t-74.7269444],\n",
        "\t\t\t\t\t\t\t{'icon':marker_19_icon}\n",
        "\t\t\t\t\t\t\t);\n",
        "      marker_19.bindPopup(&quot;SSS-NJ-ATL-002WL.txt&quot;);\n",
        "      clusteredmarkers.addLayer(marker_19)\n",
        "      \n",
        "      var marker_20_icon = L.AwesomeMarkers.icon({ icon: 'info-sign',markerColor: 'blue',prefix: 'glyphicon',extraClasses: 'fa-rotate-0'});\n",
        "      var marker_20 = L.marker([38.1511666667, \n",
        "\t\t\t\t\t\t\t-75.2859722222],\n",
        "\t\t\t\t\t\t\t{'icon':marker_20_icon}\n",
        "\t\t\t\t\t\t\t);\n",
        "      marker_20.bindPopup(&quot;SSS-MD-WOR-025WL.txt&quot;);\n",
        "      clusteredmarkers.addLayer(marker_20)\n",
        "      \n",
        "      var marker_21_icon = L.AwesomeMarkers.icon({ icon: 'info-sign',markerColor: 'blue',prefix: 'glyphicon',extraClasses: 'fa-rotate-0'});\n",
        "      var marker_21 = L.marker([38.3566388889, \n",
        "\t\t\t\t\t\t\t-75.1605277778],\n",
        "\t\t\t\t\t\t\t{'icon':marker_21_icon}\n",
        "\t\t\t\t\t\t\t);\n",
        "      marker_21.bindPopup(&quot;SSS-MD-WOR-018WL.txt&quot;);\n",
        "      clusteredmarkers.addLayer(marker_21)\n",
        "      \n",
        "      var marker_22_icon = L.AwesomeMarkers.icon({ icon: 'info-sign',markerColor: 'blue',prefix: 'glyphicon',extraClasses: 'fa-rotate-0'});\n",
        "      var marker_22 = L.marker([41.34789, \n",
        "\t\t\t\t\t\t\t-71.82788],\n",
        "\t\t\t\t\t\t\t{'icon':marker_22_icon}\n",
        "\t\t\t\t\t\t\t);\n",
        "      marker_22.bindPopup(&quot;SSS-RI-WAS-004WL.txt&quot;);\n",
        "      clusteredmarkers.addLayer(marker_22)\n",
        "      \n",
        "      var marker_23_icon = L.AwesomeMarkers.icon({ icon: 'info-sign',markerColor: 'blue',prefix: 'glyphicon',extraClasses: 'fa-rotate-0'});\n",
        "      var marker_23 = L.marker([38.1699722222, \n",
        "\t\t\t\t\t\t\t-75.9430833333],\n",
        "\t\t\t\t\t\t\t{'icon':marker_23_icon}\n",
        "\t\t\t\t\t\t\t);\n",
        "      marker_23.bindPopup(&quot;SSS-MD-SOM-032WL.txt&quot;);\n",
        "      clusteredmarkers.addLayer(marker_23)\n",
        "      \n",
        "      var marker_24_icon = L.AwesomeMarkers.icon({ icon: 'info-sign',markerColor: 'blue',prefix: 'glyphicon',extraClasses: 'fa-rotate-0'});\n",
        "      var marker_24 = L.marker([38.2945277778, \n",
        "\t\t\t\t\t\t\t-75.1625555556],\n",
        "\t\t\t\t\t\t\t{'icon':marker_24_icon}\n",
        "\t\t\t\t\t\t\t);\n",
        "      marker_24.bindPopup(&quot;SSS-MD-WOR-022WL.txt&quot;);\n",
        "      clusteredmarkers.addLayer(marker_24)\n",
        "      \n",
        "      var marker_25_icon = L.AwesomeMarkers.icon({ icon: 'info-sign',markerColor: 'blue',prefix: 'glyphicon',extraClasses: 'fa-rotate-0'});\n",
        "      var marker_25 = L.marker([41.367222, \n",
        "\t\t\t\t\t\t\t-72.875],\n",
        "\t\t\t\t\t\t\t{'icon':marker_25_icon}\n",
        "\t\t\t\t\t\t\t);\n",
        "      marker_25.bindPopup(&quot;SSS-CT-NHV-014WL.txt&quot;);\n",
        "      clusteredmarkers.addLayer(marker_25)\n",
        "      \n",
        "      var marker_26_icon = L.AwesomeMarkers.icon({ icon: 'info-sign',markerColor: 'blue',prefix: 'glyphicon',extraClasses: 'fa-rotate-0'});\n",
        "      var marker_26 = L.marker([38.5739166667, \n",
        "\t\t\t\t\t\t\t-76.0673333333],\n",
        "\t\t\t\t\t\t\t{'icon':marker_26_icon}\n",
        "\t\t\t\t\t\t\t);\n",
        "      marker_26.bindPopup(&quot;SSS-MD-DOR-007WL.txt&quot;);\n",
        "      clusteredmarkers.addLayer(marker_26)\n",
        "      \n",
        "      var marker_27_icon = L.AwesomeMarkers.icon({ icon: 'info-sign',markerColor: 'blue',prefix: 'glyphicon',extraClasses: 'fa-rotate-0'});\n",
        "      var marker_27 = L.marker([42.9218, \n",
        "\t\t\t\t\t\t\t-70.8233],\n",
        "\t\t\t\t\t\t\t{'icon':marker_27_icon}\n",
        "\t\t\t\t\t\t\t);\n",
        "      marker_27.bindPopup(&quot;SSS-NH-ROC-005WL.txt&quot;);\n",
        "      clusteredmarkers.addLayer(marker_27)\n",
        "      \n",
        "      var marker_28_icon = L.AwesomeMarkers.icon({ icon: 'info-sign',markerColor: 'blue',prefix: 'glyphicon',extraClasses: 'fa-rotate-0'});\n",
        "      var marker_28 = L.marker([38.2373333333, \n",
        "\t\t\t\t\t\t\t-75.2572222222],\n",
        "\t\t\t\t\t\t\t{'icon':marker_28_icon}\n",
        "\t\t\t\t\t\t\t);\n",
        "      marker_28.bindPopup(&quot;SSS-MD-WOR-024WL.txt&quot;);\n",
        "      clusteredmarkers.addLayer(marker_28)\n",
        "      \n",
        "      var marker_29_icon = L.AwesomeMarkers.icon({ icon: 'info-sign',markerColor: 'blue',prefix: 'glyphicon',extraClasses: 'fa-rotate-0'});\n",
        "      var marker_29 = L.marker([41.16316, \n",
        "\t\t\t\t\t\t\t-73.10901],\n",
        "\t\t\t\t\t\t\t{'icon':marker_29_icon}\n",
        "\t\t\t\t\t\t\t);\n",
        "      marker_29.bindPopup(&quot;SSS-CT-FFD-010WL.txt&quot;);\n",
        "      clusteredmarkers.addLayer(marker_29)\n",
        "      \n",
        "      var marker_30_icon = L.AwesomeMarkers.icon({ icon: 'info-sign',markerColor: 'blue',prefix: 'glyphicon',extraClasses: 'fa-rotate-0'});\n",
        "      var marker_30 = L.marker([38.3345555556, \n",
        "\t\t\t\t\t\t\t-75.0983611111],\n",
        "\t\t\t\t\t\t\t{'icon':marker_30_icon}\n",
        "\t\t\t\t\t\t\t);\n",
        "      marker_30.bindPopup(&quot;SSS-MD-WOR-020WL.txt&quot;);\n",
        "      clusteredmarkers.addLayer(marker_30)\n",
        "      \n",
        "      var marker_31_icon = L.AwesomeMarkers.icon({ icon: 'info-sign',markerColor: 'blue',prefix: 'glyphicon',extraClasses: 'fa-rotate-0'});\n",
        "      var marker_31 = L.marker([40.762294, \n",
        "\t\t\t\t\t\t\t-73.858278],\n",
        "\t\t\t\t\t\t\t{'icon':marker_31_icon}\n",
        "\t\t\t\t\t\t\t);\n",
        "      marker_31.bindPopup(&quot;SSS-NY-QUE-001WL.txt&quot;);\n",
        "      clusteredmarkers.addLayer(marker_31)\n",
        "      \n",
        "      var marker_32_icon = L.AwesomeMarkers.icon({ icon: 'info-sign',markerColor: 'blue',prefix: 'glyphicon',extraClasses: 'fa-rotate-0'});\n",
        "      var marker_32 = L.marker([39.5770833333, \n",
        "\t\t\t\t\t\t\t-75.6020555556],\n",
        "\t\t\t\t\t\t\t{'icon':marker_32_icon}\n",
        "\t\t\t\t\t\t\t);\n",
        "      marker_32.bindPopup(&quot;SSS-DE-NEW-006WL.txt&quot;);\n",
        "      clusteredmarkers.addLayer(marker_32)\n",
        "      \n",
        "      var marker_33_icon = L.AwesomeMarkers.icon({ icon: 'info-sign',markerColor: 'blue',prefix: 'glyphicon',extraClasses: 'fa-rotate-0'});\n",
        "      var marker_33 = L.marker([37.4452777778, \n",
        "\t\t\t\t\t\t\t-75.8418611111],\n",
        "\t\t\t\t\t\t\t{'icon':marker_33_icon}\n",
        "\t\t\t\t\t\t\t);\n",
        "      marker_33.bindPopup(&quot;SSS-VA-NOR-001WL.txt&quot;);\n",
        "      clusteredmarkers.addLayer(marker_33)\n",
        "      \n",
        "      var marker_34_icon = L.AwesomeMarkers.icon({ icon: 'info-sign',markerColor: 'blue',prefix: 'glyphicon',extraClasses: 'fa-rotate-0'});\n",
        "      var marker_34 = L.marker([38.8776944444, \n",
        "\t\t\t\t\t\t\t-75.3596388889],\n",
        "\t\t\t\t\t\t\t{'icon':marker_34_icon}\n",
        "\t\t\t\t\t\t\t);\n",
        "      marker_34.bindPopup(&quot;SSS-DE-SUS-004WL.txt&quot;);\n",
        "      clusteredmarkers.addLayer(marker_34)\n",
        "      \n",
        "      var marker_35_icon = L.AwesomeMarkers.icon({ icon: 'info-sign',markerColor: 'blue',prefix: 'glyphicon',extraClasses: 'fa-rotate-0'});\n",
        "      var marker_35 = L.marker([38.38775, \n",
        "\t\t\t\t\t\t\t-75.1035],\n",
        "\t\t\t\t\t\t\t{'icon':marker_35_icon}\n",
        "\t\t\t\t\t\t\t);\n",
        "      marker_35.bindPopup(&quot;SSS-MD-WOR-016WL.txt&quot;);\n",
        "      clusteredmarkers.addLayer(marker_35)\n",
        "      \n",
        "      var marker_36_icon = L.AwesomeMarkers.icon({ icon: 'info-sign',markerColor: 'blue',prefix: 'glyphicon',extraClasses: 'fa-rotate-0'});\n",
        "      var marker_36 = L.marker([38.5564722222, \n",
        "\t\t\t\t\t\t\t-75.2030555556],\n",
        "\t\t\t\t\t\t\t{'icon':marker_36_icon}\n",
        "\t\t\t\t\t\t\t);\n",
        "      marker_36.bindPopup(&quot;SSS-DE-SUS-036WL.txt&quot;);\n",
        "      clusteredmarkers.addLayer(marker_36)\n",
        "      \n",
        "      var marker_37_icon = L.AwesomeMarkers.icon({ icon: 'info-sign',markerColor: 'blue',prefix: 'glyphicon',extraClasses: 'fa-rotate-0'});\n",
        "      var marker_37 = L.marker([36.0558713913, \n",
        "\t\t\t\t\t\t\t-76.6094195051],\n",
        "\t\t\t\t\t\t\t{'icon':marker_37_icon}\n",
        "\t\t\t\t\t\t\t);\n",
        "      marker_37.bindPopup(&quot;SSS-NC-CHO-001WL.txt&quot;);\n",
        "      clusteredmarkers.addLayer(marker_37)\n",
        "      \n",
        "      var marker_38_icon = L.AwesomeMarkers.icon({ icon: 'info-sign',markerColor: 'blue',prefix: 'glyphicon',extraClasses: 'fa-rotate-0'});\n",
        "      var marker_38 = L.marker([34.6971505874, \n",
        "\t\t\t\t\t\t\t-76.6816058234],\n",
        "\t\t\t\t\t\t\t{'icon':marker_38_icon}\n",
        "\t\t\t\t\t\t\t);\n",
        "      marker_38.bindPopup(&quot;SSS-NC-CRT-007WL.txt&quot;);\n",
        "      clusteredmarkers.addLayer(marker_38)\n",
        "      \n",
        "      var marker_39_icon = L.AwesomeMarkers.icon({ icon: 'info-sign',markerColor: 'blue',prefix: 'glyphicon',extraClasses: 'fa-rotate-0'});\n",
        "      var marker_39 = L.marker([43.462222, \n",
        "\t\t\t\t\t\t\t-70.381944],\n",
        "\t\t\t\t\t\t\t{'icon':marker_39_icon}\n",
        "\t\t\t\t\t\t\t);\n",
        "      marker_39.bindPopup(&quot;SSS-ME-YOR-002WL.txt&quot;);\n",
        "      clusteredmarkers.addLayer(marker_39)\n",
        "      \n",
        "      var marker_40_icon = L.AwesomeMarkers.icon({ icon: 'info-sign',markerColor: 'blue',prefix: 'glyphicon',extraClasses: 'fa-rotate-0'});\n",
        "      var marker_40 = L.marker([38.6254166667, \n",
        "\t\t\t\t\t\t\t-75.0999166667],\n",
        "\t\t\t\t\t\t\t{'icon':marker_40_icon}\n",
        "\t\t\t\t\t\t\t);\n",
        "      marker_40.bindPopup(&quot;SSS-DE-SUS-032WL.txt&quot;);\n",
        "      clusteredmarkers.addLayer(marker_40)\n",
        "      \n",
        "      var marker_41_icon = L.AwesomeMarkers.icon({ icon: 'info-sign',markerColor: 'blue',prefix: 'glyphicon',extraClasses: 'fa-rotate-0'});\n",
        "      var marker_41 = L.marker([38.5136666667, \n",
        "\t\t\t\t\t\t\t-75.0625277778],\n",
        "\t\t\t\t\t\t\t{'icon':marker_41_icon}\n",
        "\t\t\t\t\t\t\t);\n",
        "      marker_41.bindPopup(&quot;SSS-DE-SUS-014WL.txt&quot;);\n",
        "      clusteredmarkers.addLayer(marker_41)\n",
        "      \n",
        "      var marker_42_icon = L.AwesomeMarkers.icon({ icon: 'info-sign',markerColor: 'blue',prefix: 'glyphicon',extraClasses: 'fa-rotate-0'});\n",
        "      var marker_42 = L.marker([37.0053611111, \n",
        "\t\t\t\t\t\t\t-76.6001666667],\n",
        "\t\t\t\t\t\t\t{'icon':marker_42_icon}\n",
        "\t\t\t\t\t\t\t);\n",
        "      marker_42.bindPopup(&quot;SSS-VA-IOW-001WL.txt&quot;);\n",
        "      clusteredmarkers.addLayer(marker_42)\n",
        "      \n",
        "      var marker_43_icon = L.AwesomeMarkers.icon({ icon: 'info-sign',markerColor: 'blue',prefix: 'glyphicon',extraClasses: 'fa-rotate-0'});\n",
        "      var marker_43 = L.marker([41.33231, \n",
        "\t\t\t\t\t\t\t-71.78789],\n",
        "\t\t\t\t\t\t\t{'icon':marker_43_icon}\n",
        "\t\t\t\t\t\t\t);\n",
        "      marker_43.bindPopup(&quot;SSS-RI-WAS-006WL.txt&quot;);\n",
        "      clusteredmarkers.addLayer(marker_43)\n",
        "      \n",
        "      var marker_44_icon = L.AwesomeMarkers.icon({ icon: 'info-sign',markerColor: 'blue',prefix: 'glyphicon',extraClasses: 'fa-rotate-0'});\n",
        "      var marker_44 = L.marker([37.1086111111, \n",
        "\t\t\t\t\t\t\t-76.3930555556],\n",
        "\t\t\t\t\t\t\t{'icon':marker_44_icon}\n",
        "\t\t\t\t\t\t\t);\n",
        "      marker_44.bindPopup(&quot;SSS-VA-HAM-001WL.txt&quot;);\n",
        "      clusteredmarkers.addLayer(marker_44)\n",
        "      \n",
        "      var marker_45_icon = L.AwesomeMarkers.icon({ icon: 'info-sign',markerColor: 'blue',prefix: 'glyphicon',extraClasses: 'fa-rotate-0'});\n",
        "      var marker_45 = L.marker([34.227715, \n",
        "\t\t\t\t\t\t\t-77.954042],\n",
        "\t\t\t\t\t\t\t{'icon':marker_45_icon}\n",
        "\t\t\t\t\t\t\t);\n",
        "      marker_45.bindPopup(&quot;SSS-NC-NHA-001WL.txt&quot;);\n",
        "      clusteredmarkers.addLayer(marker_45)\n",
        "      \n",
        "      var marker_46_icon = L.AwesomeMarkers.icon({ icon: 'info-sign',markerColor: 'blue',prefix: 'glyphicon',extraClasses: 'fa-rotate-0'});\n",
        "      var marker_46 = L.marker([35.2665519908, \n",
        "\t\t\t\t\t\t\t-75.5575777975],\n",
        "\t\t\t\t\t\t\t{'icon':marker_46_icon}\n",
        "\t\t\t\t\t\t\t);\n",
        "      marker_46.bindPopup(&quot;SSS-NC-DAR-002WL.txt&quot;);\n",
        "      clusteredmarkers.addLayer(marker_46)\n",
        "      \n",
        "      var marker_47_icon = L.AwesomeMarkers.icon({ icon: 'info-sign',markerColor: 'blue',prefix: 'glyphicon',extraClasses: 'fa-rotate-0'});\n",
        "      var marker_47 = L.marker([38.8316388889, \n",
        "\t\t\t\t\t\t\t-75.9144166667],\n",
        "\t\t\t\t\t\t\t{'icon':marker_47_icon}\n",
        "\t\t\t\t\t\t\t);\n",
        "      marker_47.bindPopup(&quot;SSS-MD-TAL-003WL.txt&quot;);\n",
        "      clusteredmarkers.addLayer(marker_47)\n",
        "      \n",
        "      var marker_48_icon = L.AwesomeMarkers.icon({ icon: 'info-sign',markerColor: 'blue',prefix: 'glyphicon',extraClasses: 'fa-rotate-0'});\n",
        "      var marker_48 = L.marker([39.084806, \n",
        "\t\t\t\t\t\t\t-75.4583],\n",
        "\t\t\t\t\t\t\t{'icon':marker_48_icon}\n",
        "\t\t\t\t\t\t\t);\n",
        "      marker_48.bindPopup(&quot;SSS-DE-KEN-001WL.txt&quot;);\n",
        "      clusteredmarkers.addLayer(marker_48)\n",
        "      \n",
        "      var marker_49_icon = L.AwesomeMarkers.icon({ icon: 'info-sign',markerColor: 'blue',prefix: 'glyphicon',extraClasses: 'fa-rotate-0'});\n",
        "      var marker_49 = L.marker([39.5533333333, \n",
        "\t\t\t\t\t\t\t-74.4627777778],\n",
        "\t\t\t\t\t\t\t{'icon':marker_49_icon}\n",
        "\t\t\t\t\t\t\t);\n",
        "      marker_49.bindPopup(&quot;SSS-NJ-ATL-001WL.txt&quot;);\n",
        "      clusteredmarkers.addLayer(marker_49)\n",
        "      \n",
        "      var marker_50_icon = L.AwesomeMarkers.icon({ icon: 'info-sign',markerColor: 'blue',prefix: 'glyphicon',extraClasses: 'fa-rotate-0'});\n",
        "      var marker_50 = L.marker([34.189056, \n",
        "\t\t\t\t\t\t\t-77.812632],\n",
        "\t\t\t\t\t\t\t{'icon':marker_50_icon}\n",
        "\t\t\t\t\t\t\t);\n",
        "      marker_50.bindPopup(&quot;SSS-NC-NHA-005WL.txt&quot;);\n",
        "      clusteredmarkers.addLayer(marker_50)\n",
        "      \n",
        "      var marker_51_icon = L.AwesomeMarkers.icon({ icon: 'info-sign',markerColor: 'blue',prefix: 'glyphicon',extraClasses: 'fa-rotate-0'});\n",
        "      var marker_51 = L.marker([37.2878888889, \n",
        "\t\t\t\t\t\t\t-75.9255555556],\n",
        "\t\t\t\t\t\t\t{'icon':marker_51_icon}\n",
        "\t\t\t\t\t\t\t);\n",
        "      marker_51.bindPopup(&quot;SSS-VA-NOR-002WL.txt&quot;);\n",
        "      clusteredmarkers.addLayer(marker_51)\n",
        "      \n",
        "      var marker_52_icon = L.AwesomeMarkers.icon({ icon: 'info-sign',markerColor: 'blue',prefix: 'glyphicon',extraClasses: 'fa-rotate-0'});\n",
        "      var marker_52 = L.marker([38.20375, \n",
        "\t\t\t\t\t\t\t-75.6999166667],\n",
        "\t\t\t\t\t\t\t{'icon':marker_52_icon}\n",
        "\t\t\t\t\t\t\t);\n",
        "      marker_52.bindPopup(&quot;SSS-MD-SOM-030WL.txt&quot;);\n",
        "      clusteredmarkers.addLayer(marker_52)\n",
        "      \n",
        "      var marker_53_icon = L.AwesomeMarkers.icon({ icon: 'info-sign',markerColor: 'blue',prefix: 'glyphicon',extraClasses: 'fa-rotate-0'});\n",
        "      var marker_53 = L.marker([40.787121, \n",
        "\t\t\t\t\t\t\t-72.750252],\n",
        "\t\t\t\t\t\t\t{'icon':marker_53_icon}\n",
        "\t\t\t\t\t\t\t);\n",
        "      marker_53.bindPopup(&quot;SSS-NY-SUF-004WL.txt&quot;);\n",
        "      clusteredmarkers.addLayer(marker_53)\n",
        "      \n",
        "      var marker_54_icon = L.AwesomeMarkers.icon({ icon: 'info-sign',markerColor: 'blue',prefix: 'glyphicon',extraClasses: 'fa-rotate-0'});\n",
        "      var marker_54 = L.marker([34.9381005856, \n",
        "\t\t\t\t\t\t\t-76.8104379195],\n",
        "\t\t\t\t\t\t\t{'icon':marker_54_icon}\n",
        "\t\t\t\t\t\t\t);\n",
        "      marker_54.bindPopup(&quot;SSS-NC-CRV-003WL.txt&quot;);\n",
        "      clusteredmarkers.addLayer(marker_54)\n",
        "      \n",
        "      var marker_55_icon = L.AwesomeMarkers.icon({ icon: 'info-sign',markerColor: 'blue',prefix: 'glyphicon',extraClasses: 'fa-rotate-0'});\n",
        "      var marker_55 = L.marker([40.964375, \n",
        "\t\t\t\t\t\t\t-72.863197],\n",
        "\t\t\t\t\t\t\t{'icon':marker_55_icon}\n",
        "\t\t\t\t\t\t\t);\n",
        "      marker_55.bindPopup(&quot;SSS-NY-SUF-002WL.txt&quot;);\n",
        "      clusteredmarkers.addLayer(marker_55)\n",
        "      \n",
        "      var marker_56_icon = L.AwesomeMarkers.icon({ icon: 'info-sign',markerColor: 'blue',prefix: 'glyphicon',extraClasses: 'fa-rotate-0'});\n",
        "      var marker_56 = L.marker([38.7902222222, \n",
        "\t\t\t\t\t\t\t-75.1636388889],\n",
        "\t\t\t\t\t\t\t{'icon':marker_56_icon}\n",
        "\t\t\t\t\t\t\t);\n",
        "      marker_56.bindPopup(&quot;SSS-DE-SUS-008WL.txt&quot;);\n",
        "      clusteredmarkers.addLayer(marker_56)\n",
        "      \n",
        "      var marker_57_icon = L.AwesomeMarkers.icon({ icon: 'info-sign',markerColor: 'blue',prefix: 'glyphicon',extraClasses: 'fa-rotate-0'});\n",
        "      var marker_57 = L.marker([41.65638, \n",
        "\t\t\t\t\t\t\t-70.62355],\n",
        "\t\t\t\t\t\t\t{'icon':marker_57_icon}\n",
        "\t\t\t\t\t\t\t);\n",
        "      marker_57.bindPopup(&quot;SSS-MA-BAR-023WL.txt&quot;);\n",
        "      clusteredmarkers.addLayer(marker_57)\n",
        "      \n",
        "      var marker_58_icon = L.AwesomeMarkers.icon({ icon: 'info-sign',markerColor: 'blue',prefix: 'glyphicon',extraClasses: 'fa-rotate-0'});\n",
        "      var marker_58 = L.marker([41.68673, \n",
        "\t\t\t\t\t\t\t-71.39166],\n",
        "\t\t\t\t\t\t\t{'icon':marker_58_icon}\n",
        "\t\t\t\t\t\t\t);\n",
        "      marker_58.bindPopup(&quot;SSS-RI-KEN-011WL.txt&quot;);\n",
        "      clusteredmarkers.addLayer(marker_58)\n",
        "      \n",
        "      var marker_59_icon = L.AwesomeMarkers.icon({ icon: 'info-sign',markerColor: 'blue',prefix: 'glyphicon',extraClasses: 'fa-rotate-0'});\n",
        "      var marker_59 = L.marker([40.64533, \n",
        "\t\t\t\t\t\t\t-73.836384],\n",
        "\t\t\t\t\t\t\t{'icon':marker_59_icon}\n",
        "\t\t\t\t\t\t\t);\n",
        "      marker_59.bindPopup(&quot;SSS-NY-QUE-002WL.txt&quot;);\n",
        "      clusteredmarkers.addLayer(marker_59)\n",
        "      \n",
        "      var marker_60_icon = L.AwesomeMarkers.icon({ icon: 'info-sign',markerColor: 'blue',prefix: 'glyphicon',extraClasses: 'fa-rotate-0'});\n",
        "      var marker_60 = L.marker([41.271778, \n",
        "\t\t\t\t\t\t\t-72.663611],\n",
        "\t\t\t\t\t\t\t{'icon':marker_60_icon}\n",
        "\t\t\t\t\t\t\t);\n",
        "      marker_60.bindPopup(&quot;SSS-CT-NHV-017WL.txt&quot;);\n",
        "      clusteredmarkers.addLayer(marker_60)\n",
        "      \n",
        "      var marker_61_icon = L.AwesomeMarkers.icon({ icon: 'info-sign',markerColor: 'blue',prefix: 'glyphicon',extraClasses: 'fa-rotate-0'});\n",
        "      var marker_61 = L.marker([40.848869, \n",
        "\t\t\t\t\t\t\t-72.502853],\n",
        "\t\t\t\t\t\t\t{'icon':marker_61_icon}\n",
        "\t\t\t\t\t\t\t);\n",
        "      marker_61.bindPopup(&quot;SSS-NY-SUF-006WL.txt&quot;);\n",
        "      clusteredmarkers.addLayer(marker_61)\n",
        "      \n",
        "      var marker_62_icon = L.AwesomeMarkers.icon({ icon: 'info-sign',markerColor: 'blue',prefix: 'glyphicon',extraClasses: 'fa-rotate-0'});\n",
        "      var marker_62 = L.marker([41.38102, \n",
        "\t\t\t\t\t\t\t-71.64473],\n",
        "\t\t\t\t\t\t\t{'icon':marker_62_icon}\n",
        "\t\t\t\t\t\t\t);\n",
        "      marker_62.bindPopup(&quot;SSS-RI-WAS-007WL.txt&quot;);\n",
        "      clusteredmarkers.addLayer(marker_62)\n",
        "      \n",
        "      var marker_63_icon = L.AwesomeMarkers.icon({ icon: 'info-sign',markerColor: 'blue',prefix: 'glyphicon',extraClasses: 'fa-rotate-0'});\n",
        "      var marker_63 = L.marker([38.6717777778, \n",
        "\t\t\t\t\t\t\t-75.1859444444],\n",
        "\t\t\t\t\t\t\t{'icon':marker_63_icon}\n",
        "\t\t\t\t\t\t\t);\n",
        "      marker_63.bindPopup(&quot;SSS-DE-SUS-031WL.txt&quot;);\n",
        "      clusteredmarkers.addLayer(marker_63)\n",
        "      \n",
        "      var marker_64_icon = L.AwesomeMarkers.icon({ icon: 'info-sign',markerColor: 'blue',prefix: 'glyphicon',extraClasses: 'fa-rotate-0'});\n",
        "      var marker_64 = L.marker([41.65608, \n",
        "\t\t\t\t\t\t\t-70.81283],\n",
        "\t\t\t\t\t\t\t{'icon':marker_64_icon}\n",
        "\t\t\t\t\t\t\t);\n",
        "      marker_64.bindPopup(&quot;SSS-MA-PLY-018WL.txt&quot;);\n",
        "      clusteredmarkers.addLayer(marker_64)\n",
        "      \n",
        "      var marker_65_icon = L.AwesomeMarkers.icon({ icon: 'info-sign',markerColor: 'blue',prefix: 'glyphicon',extraClasses: 'fa-rotate-0'});\n",
        "      var marker_65 = L.marker([41.10104, \n",
        "\t\t\t\t\t\t\t-72.361443],\n",
        "\t\t\t\t\t\t\t{'icon':marker_65_icon}\n",
        "\t\t\t\t\t\t\t);\n",
        "      marker_65.bindPopup(&quot;SSS-NY-SUF-015WL.txt&quot;);\n",
        "      clusteredmarkers.addLayer(marker_65)\n",
        "      \n",
        "      var marker_66_icon = L.AwesomeMarkers.icon({ icon: 'info-sign',markerColor: 'blue',prefix: 'glyphicon',extraClasses: 'fa-rotate-0'});\n",
        "      var marker_66 = L.marker([38.5945, \n",
        "\t\t\t\t\t\t\t-75.2891944444],\n",
        "\t\t\t\t\t\t\t{'icon':marker_66_icon}\n",
        "\t\t\t\t\t\t\t);\n",
        "      marker_66.bindPopup(&quot;SSS-DE-SUS-034WL.txt&quot;);\n",
        "      clusteredmarkers.addLayer(marker_66)\n",
        "      \n",
        "      var marker_67_icon = L.AwesomeMarkers.icon({ icon: 'info-sign',markerColor: 'blue',prefix: 'glyphicon',extraClasses: 'fa-rotate-0'});\n",
        "      var marker_67 = L.marker([39.3092777778, \n",
        "\t\t\t\t\t\t\t-75.6094722222],\n",
        "\t\t\t\t\t\t\t{'icon':marker_67_icon}\n",
        "\t\t\t\t\t\t\t);\n",
        "      marker_67.bindPopup(&quot;SSS-DE-NEW-001WL.txt&quot;);\n",
        "      clusteredmarkers.addLayer(marker_67)\n",
        "      \n",
        "      var marker_68_icon = L.AwesomeMarkers.icon({ icon: 'info-sign',markerColor: 'blue',prefix: 'glyphicon',extraClasses: 'fa-rotate-0'});\n",
        "      var marker_68 = L.marker([41.71257, \n",
        "\t\t\t\t\t\t\t-70.76535],\n",
        "\t\t\t\t\t\t\t{'icon':marker_68_icon}\n",
        "\t\t\t\t\t\t\t);\n",
        "      marker_68.bindPopup(&quot;SSS-MA-PLY-019WL.txt&quot;);\n",
        "      clusteredmarkers.addLayer(marker_68)\n",
        "      \n",
        "      var marker_69_icon = L.AwesomeMarkers.icon({ icon: 'info-sign',markerColor: 'blue',prefix: 'glyphicon',extraClasses: 'fa-rotate-0'});\n",
        "      var marker_69 = L.marker([37.97794444, \n",
        "\t\t\t\t\t\t\t-75.863],\n",
        "\t\t\t\t\t\t\t{'icon':marker_69_icon}\n",
        "\t\t\t\t\t\t\t);\n",
        "      marker_69.bindPopup(&quot;SSS-MD-SOM-031WL.txt&quot;);\n",
        "      clusteredmarkers.addLayer(marker_69)\n",
        "      \n",
        "      var marker_70_icon = L.AwesomeMarkers.icon({ icon: 'info-sign',markerColor: 'blue',prefix: 'glyphicon',extraClasses: 'fa-rotate-0'});\n",
        "      var marker_70 = L.marker([35.0190277778, \n",
        "\t\t\t\t\t\t\t-76.3147388889],\n",
        "\t\t\t\t\t\t\t{'icon':marker_70_icon}\n",
        "\t\t\t\t\t\t\t);\n",
        "      marker_70.bindPopup(&quot;SSS-NC-CRT-004WL.txt&quot;);\n",
        "      clusteredmarkers.addLayer(marker_70)\n",
        "      \n",
        "      var marker_71_icon = L.AwesomeMarkers.icon({ icon: 'info-sign',markerColor: 'blue',prefix: 'glyphicon',extraClasses: 'fa-rotate-0'});\n",
        "      var marker_71 = L.marker([44.429167, \n",
        "\t\t\t\t\t\t\t-69.005833],\n",
        "\t\t\t\t\t\t\t{'icon':marker_71_icon}\n",
        "\t\t\t\t\t\t\t);\n",
        "      marker_71.bindPopup(&quot;SSS-ME-WAL-001WL.txt&quot;);\n",
        "      clusteredmarkers.addLayer(marker_71)\n",
        "      \n",
        "      var marker_72_icon = L.AwesomeMarkers.icon({ icon: 'info-sign',markerColor: 'blue',prefix: 'glyphicon',extraClasses: 'fa-rotate-0'});\n",
        "      var marker_72 = L.marker([37.2649166667, \n",
        "\t\t\t\t\t\t\t-76.0162777778],\n",
        "\t\t\t\t\t\t\t{'icon':marker_72_icon}\n",
        "\t\t\t\t\t\t\t);\n",
        "      marker_72.bindPopup(&quot;SSS-VA-NOR-003WL.txt&quot;);\n",
        "      clusteredmarkers.addLayer(marker_72)\n",
        "      \n",
        "      var marker_73_icon = L.AwesomeMarkers.icon({ icon: 'info-sign',markerColor: 'blue',prefix: 'glyphicon',extraClasses: 'fa-rotate-0'});\n",
        "      var marker_73 = L.marker([41.012585, \n",
        "\t\t\t\t\t\t\t-72.558281],\n",
        "\t\t\t\t\t\t\t{'icon':marker_73_icon}\n",
        "\t\t\t\t\t\t\t);\n",
        "      marker_73.bindPopup(&quot;SSS-NY-SUF-001WL.txt&quot;);\n",
        "      clusteredmarkers.addLayer(marker_73)\n",
        "      \n",
        "      var marker_74_icon = L.AwesomeMarkers.icon({ icon: 'info-sign',markerColor: 'blue',prefix: 'glyphicon',extraClasses: 'fa-rotate-0'});\n",
        "      var marker_74 = L.marker([43.544722, \n",
        "\t\t\t\t\t\t\t-70.333889],\n",
        "\t\t\t\t\t\t\t{'icon':marker_74_icon}\n",
        "\t\t\t\t\t\t\t);\n",
        "      marker_74.bindPopup(&quot;SSS-ME-CUM-002WL.txt&quot;);\n",
        "      clusteredmarkers.addLayer(marker_74)\n",
        "      \n",
        "      var marker_75_icon = L.AwesomeMarkers.icon({ icon: 'info-sign',markerColor: 'blue',prefix: 'glyphicon',extraClasses: 'fa-rotate-0'});\n",
        "      var marker_75 = L.marker([38.4833888889, \n",
        "\t\t\t\t\t\t\t-75.8229166667],\n",
        "\t\t\t\t\t\t\t{'icon':marker_75_icon}\n",
        "\t\t\t\t\t\t\t);\n",
        "      marker_75.bindPopup(&quot;SSS-MD-DOR-010WL.txt&quot;);\n",
        "      clusteredmarkers.addLayer(marker_75)\n",
        "      \n",
        "      var marker_76_icon = L.AwesomeMarkers.icon({ icon: 'info-sign',markerColor: 'blue',prefix: 'glyphicon',extraClasses: 'fa-rotate-0'});\n",
        "      var marker_76 = L.marker([41.72614, \n",
        "\t\t\t\t\t\t\t-71.2859],\n",
        "\t\t\t\t\t\t\t{'icon':marker_76_icon}\n",
        "\t\t\t\t\t\t\t);\n",
        "      marker_76.bindPopup(&quot;SSS-RI-BRI-013WL.txt&quot;);\n",
        "      clusteredmarkers.addLayer(marker_76)\n",
        "      \n",
        "      var marker_77_icon = L.AwesomeMarkers.icon({ icon: 'info-sign',markerColor: 'blue',prefix: 'glyphicon',extraClasses: 'fa-rotate-0'});\n",
        "      var marker_77 = L.marker([41.7549, \n",
        "\t\t\t\t\t\t\t-70.70988],\n",
        "\t\t\t\t\t\t\t{'icon':marker_77_icon}\n",
        "\t\t\t\t\t\t\t);\n",
        "      marker_77.bindPopup(&quot;SSS-MA-PLY-020WL.txt&quot;);\n",
        "      clusteredmarkers.addLayer(marker_77)\n",
        "      \n",
        "      var marker_78_icon = L.AwesomeMarkers.icon({ icon: 'info-sign',markerColor: 'blue',prefix: 'glyphicon',extraClasses: 'fa-rotate-0'});\n",
        "      var marker_78 = L.marker([33.961356, \n",
        "\t\t\t\t\t\t\t-77.939732],\n",
        "\t\t\t\t\t\t\t{'icon':marker_78_icon}\n",
        "\t\t\t\t\t\t\t);\n",
        "      marker_78.bindPopup(&quot;SSS-NC-NHA-002WL.txt&quot;);\n",
        "      clusteredmarkers.addLayer(marker_78)\n",
        "      \n",
        "      var marker_79_icon = L.AwesomeMarkers.icon({ icon: 'info-sign',markerColor: 'blue',prefix: 'glyphicon',extraClasses: 'fa-rotate-0'});\n",
        "      var marker_79 = L.marker([38.1756388889, \n",
        "\t\t\t\t\t\t\t-75.3999166667],\n",
        "\t\t\t\t\t\t\t{'icon':marker_79_icon}\n",
        "\t\t\t\t\t\t\t);\n",
        "      marker_79.bindPopup(&quot;SSS-MD-WOR-014WL.txt&quot;);\n",
        "      clusteredmarkers.addLayer(marker_79)\n",
        "      \n",
        "      var marker_80_icon = L.AwesomeMarkers.icon({ icon: 'info-sign',markerColor: 'blue',prefix: 'glyphicon',extraClasses: 'fa-rotate-0'});\n",
        "      var marker_80 = L.marker([34.274988, \n",
        "\t\t\t\t\t\t\t-77.760714],\n",
        "\t\t\t\t\t\t\t{'icon':marker_80_icon}\n",
        "\t\t\t\t\t\t\t);\n",
        "      marker_80.bindPopup(&quot;SSS-NC-NHA-007WL.txt&quot;);\n",
        "      clusteredmarkers.addLayer(marker_80)\n",
        "      \n",
        "      var marker_81_icon = L.AwesomeMarkers.icon({ icon: 'info-sign',markerColor: 'blue',prefix: 'glyphicon',extraClasses: 'fa-rotate-0'});\n",
        "      var marker_81 = L.marker([42.8982, \n",
        "\t\t\t\t\t\t\t-70.817],\n",
        "\t\t\t\t\t\t\t{'icon':marker_81_icon}\n",
        "\t\t\t\t\t\t\t);\n",
        "      marker_81.bindPopup(&quot;SSS-NH-ROC-004WL.txt&quot;);\n",
        "      clusteredmarkers.addLayer(marker_81)\n",
        "      \n",
        "      var marker_82_icon = L.AwesomeMarkers.icon({ icon: 'info-sign',markerColor: 'blue',prefix: 'glyphicon',extraClasses: 'fa-rotate-0'});\n",
        "      var marker_82 = L.marker([39.4525833333, \n",
        "\t\t\t\t\t\t\t-75.6545277778],\n",
        "\t\t\t\t\t\t\t{'icon':marker_82_icon}\n",
        "\t\t\t\t\t\t\t);\n",
        "      marker_82.bindPopup(&quot;SSS-DE-NEW-004WL.txt&quot;);\n",
        "      clusteredmarkers.addLayer(marker_82)\n",
        "      \n",
        "      var marker_83_icon = L.AwesomeMarkers.icon({ icon: 'info-sign',markerColor: 'blue',prefix: 'glyphicon',extraClasses: 'fa-rotate-0'});\n",
        "      var marker_83 = L.marker([36.300528, \n",
        "\t\t\t\t\t\t\t-76.217973],\n",
        "\t\t\t\t\t\t\t{'icon':marker_83_icon}\n",
        "\t\t\t\t\t\t\t);\n",
        "      marker_83.bindPopup(&quot;SSS-NC-CAM-001WL.txt&quot;);\n",
        "      clusteredmarkers.addLayer(marker_83)\n",
        "      \n",
        "      var marker_84_icon = L.AwesomeMarkers.icon({ icon: 'info-sign',markerColor: 'blue',prefix: 'glyphicon',extraClasses: 'fa-rotate-0'});\n",
        "      var marker_84 = L.marker([43.0035, \n",
        "\t\t\t\t\t\t\t-70.7493],\n",
        "\t\t\t\t\t\t\t{'icon':marker_84_icon}\n",
        "\t\t\t\t\t\t\t);\n",
        "      marker_84.bindPopup(&quot;SSS-NH-ROC-003WL.txt&quot;);\n",
        "      clusteredmarkers.addLayer(marker_84)\n",
        "      \n",
        "      var marker_85_icon = L.AwesomeMarkers.icon({ icon: 'info-sign',markerColor: 'blue',prefix: 'glyphicon',extraClasses: 'fa-rotate-0'});\n",
        "      var marker_85 = L.marker([41.17593, \n",
        "\t\t\t\t\t\t\t-73.18581],\n",
        "\t\t\t\t\t\t\t{'icon':marker_85_icon}\n",
        "\t\t\t\t\t\t\t);\n",
        "      marker_85.bindPopup(&quot;SSS-CT-FFD-007WL.txt&quot;);\n",
        "      clusteredmarkers.addLayer(marker_85)\n",
        "      \n",
        "      var marker_86_icon = L.AwesomeMarkers.icon({ icon: 'info-sign',markerColor: 'blue',prefix: 'glyphicon',extraClasses: 'fa-rotate-0'});\n",
        "      var marker_86 = L.marker([38.9715, \n",
        "\t\t\t\t\t\t\t-76.2483888889],\n",
        "\t\t\t\t\t\t\t{'icon':marker_86_icon}\n",
        "\t\t\t\t\t\t\t);\n",
        "      marker_86.bindPopup(&quot;SSS-MD-QUA-001WL.txt&quot;);\n",
        "      clusteredmarkers.addLayer(marker_86)\n",
        "      \n",
        "      var marker_87_icon = L.AwesomeMarkers.icon({ icon: 'info-sign',markerColor: 'blue',prefix: 'glyphicon',extraClasses: 'fa-rotate-0'});\n",
        "      var marker_87 = L.marker([41.334972, \n",
        "\t\t\t\t\t\t\t-72.0355],\n",
        "\t\t\t\t\t\t\t{'icon':marker_87_icon}\n",
        "\t\t\t\t\t\t\t);\n",
        "      marker_87.bindPopup(&quot;SSS-CT-NLD-026WL.txt&quot;);\n",
        "      clusteredmarkers.addLayer(marker_87)\n",
        "      \n",
        "      var marker_88_icon = L.AwesomeMarkers.icon({ icon: 'info-sign',markerColor: 'blue',prefix: 'glyphicon',extraClasses: 'fa-rotate-0'});\n",
        "      var marker_88 = L.marker([40.994833, \n",
        "\t\t\t\t\t\t\t-73.659028],\n",
        "\t\t\t\t\t\t\t{'icon':marker_88_icon}\n",
        "\t\t\t\t\t\t\t);\n",
        "      marker_88.bindPopup(&quot;SSS-CT-FFD-002WL.txt&quot;);\n",
        "      clusteredmarkers.addLayer(marker_88)\n",
        "      \n",
        "      var marker_89_icon = L.AwesomeMarkers.icon({ icon: 'info-sign',markerColor: 'blue',prefix: 'glyphicon',extraClasses: 'fa-rotate-0'});\n",
        "      var marker_89 = L.marker([33.8864902909, \n",
        "\t\t\t\t\t\t\t-78.4358729329],\n",
        "\t\t\t\t\t\t\t{'icon':marker_89_icon}\n",
        "\t\t\t\t\t\t\t);\n",
        "      marker_89.bindPopup(&quot;SSS-NC-BRU-012WL.txt&quot;);\n",
        "      clusteredmarkers.addLayer(marker_89)\n",
        "      \n",
        "      var marker_90_icon = L.AwesomeMarkers.icon({ icon: 'info-sign',markerColor: 'blue',prefix: 'glyphicon',extraClasses: 'fa-rotate-0'});\n",
        "      var marker_90 = L.marker([34.5027551729, \n",
        "\t\t\t\t\t\t\t-77.396459083],\n",
        "\t\t\t\t\t\t\t{'icon':marker_90_icon}\n",
        "\t\t\t\t\t\t\t);\n",
        "      marker_90.bindPopup(&quot;SSS-NC-ONS-002WL.txt&quot;);\n",
        "      clusteredmarkers.addLayer(marker_90)\n",
        "      \n",
        "      var marker_91_icon = L.AwesomeMarkers.icon({ icon: 'info-sign',markerColor: 'blue',prefix: 'glyphicon',extraClasses: 'fa-rotate-0'});\n",
        "      var marker_91 = L.marker([33.85278, \n",
        "\t\t\t\t\t\t\t-78.59389],\n",
        "\t\t\t\t\t\t\t{'icon':marker_91_icon}\n",
        "\t\t\t\t\t\t\t);\n",
        "      marker_91.bindPopup(&quot;SSS-SC-HOR-001WL.txt&quot;);\n",
        "      clusteredmarkers.addLayer(marker_91)\n",
        "      \n",
        "      var marker_92_icon = L.AwesomeMarkers.icon({ icon: 'info-sign',markerColor: 'blue',prefix: 'glyphicon',extraClasses: 'fa-rotate-0'});\n",
        "      var marker_92 = L.marker([43.188611, \n",
        "\t\t\t\t\t\t\t-70.605556],\n",
        "\t\t\t\t\t\t\t{'icon':marker_92_icon}\n",
        "\t\t\t\t\t\t\t);\n",
        "      marker_92.bindPopup(&quot;SSS-ME-YOR-003WL.txt&quot;);\n",
        "      clusteredmarkers.addLayer(marker_92)\n",
        "      \n",
        "      var marker_93_icon = L.AwesomeMarkers.icon({ icon: 'info-sign',markerColor: 'blue',prefix: 'glyphicon',extraClasses: 'fa-rotate-0'});\n",
        "      var marker_93 = L.marker([34.6859775324, \n",
        "\t\t\t\t\t\t\t-76.5316894125],\n",
        "\t\t\t\t\t\t\t{'icon':marker_93_icon}\n",
        "\t\t\t\t\t\t\t);\n",
        "      marker_93.bindPopup(&quot;SSS-NC-CRT-001WL.txt&quot;);\n",
        "      clusteredmarkers.addLayer(marker_93)\n",
        "      \n",
        "      var marker_94_icon = L.AwesomeMarkers.icon({ icon: 'info-sign',markerColor: 'blue',prefix: 'glyphicon',extraClasses: 'fa-rotate-0'});\n",
        "      var marker_94 = L.marker([40.582752, \n",
        "\t\t\t\t\t\t\t-73.640682],\n",
        "\t\t\t\t\t\t\t{'icon':marker_94_icon}\n",
        "\t\t\t\t\t\t\t);\n",
        "      marker_94.bindPopup(&quot;SSS-NY-NAS-004WL.txt&quot;);\n",
        "      clusteredmarkers.addLayer(marker_94)\n",
        "      \n",
        "      var marker_95_icon = L.AwesomeMarkers.icon({ icon: 'info-sign',markerColor: 'blue',prefix: 'glyphicon',extraClasses: 'fa-rotate-0'});\n",
        "      var marker_95 = L.marker([35.9121659387, \n",
        "\t\t\t\t\t\t\t-75.7682790812],\n",
        "\t\t\t\t\t\t\t{'icon':marker_95_icon}\n",
        "\t\t\t\t\t\t\t);\n",
        "      marker_95.bindPopup(&quot;SSS-NC-DAR-011WL.txt&quot;);\n",
        "      clusteredmarkers.addLayer(marker_95)\n",
        "      \n",
        "      var marker_96_icon = L.AwesomeMarkers.icon({ icon: 'info-sign',markerColor: 'blue',prefix: 'glyphicon',extraClasses: 'fa-rotate-0'});\n",
        "      var marker_96 = L.marker([35.3502455984, \n",
        "\t\t\t\t\t\t\t-75.5119631184],\n",
        "\t\t\t\t\t\t\t{'icon':marker_96_icon}\n",
        "\t\t\t\t\t\t\t);\n",
        "      marker_96.bindPopup(&quot;SSS-NC-DAR-004WL.txt&quot;);\n",
        "      clusteredmarkers.addLayer(marker_96)\n",
        "      \n",
        "      var marker_97_icon = L.AwesomeMarkers.icon({ icon: 'info-sign',markerColor: 'blue',prefix: 'glyphicon',extraClasses: 'fa-rotate-0'});\n",
        "      var marker_97 = L.marker([39.6519722222, \n",
        "\t\t\t\t\t\t\t-75.5875555556],\n",
        "\t\t\t\t\t\t\t{'icon':marker_97_icon}\n",
        "\t\t\t\t\t\t\t);\n",
        "      marker_97.bindPopup(&quot;SSS-DE-NEW-008WL.txt&quot;);\n",
        "      clusteredmarkers.addLayer(marker_97)\n",
        "      \n",
        "      var marker_98_icon = L.AwesomeMarkers.icon({ icon: 'info-sign',markerColor: 'blue',prefix: 'glyphicon',extraClasses: 'fa-rotate-0'});\n",
        "      var marker_98 = L.marker([41.344333, \n",
        "\t\t\t\t\t\t\t-71.909472],\n",
        "\t\t\t\t\t\t\t{'icon':marker_98_icon}\n",
        "\t\t\t\t\t\t\t);\n",
        "      marker_98.bindPopup(&quot;SSS-CT-NLD-030WL.txt&quot;);\n",
        "      clusteredmarkers.addLayer(marker_98)\n",
        "      \n",
        "      var marker_99_icon = L.AwesomeMarkers.icon({ icon: 'info-sign',markerColor: 'blue',prefix: 'glyphicon',extraClasses: 'fa-rotate-0'});\n",
        "      var marker_99 = L.marker([41.31029, \n",
        "\t\t\t\t\t\t\t-71.85914],\n",
        "\t\t\t\t\t\t\t{'icon':marker_99_icon}\n",
        "\t\t\t\t\t\t\t);\n",
        "      marker_99.bindPopup(&quot;SSS-RI-WAS-001WL.txt&quot;);\n",
        "      clusteredmarkers.addLayer(marker_99)\n",
        "      \n",
        "      var marker_100_icon = L.AwesomeMarkers.icon({ icon: 'info-sign',markerColor: 'blue',prefix: 'glyphicon',extraClasses: 'fa-rotate-0'});\n",
        "      var marker_100 = L.marker([41.380806, \n",
        "\t\t\t\t\t\t\t-71.967917],\n",
        "\t\t\t\t\t\t\t{'icon':marker_100_icon}\n",
        "\t\t\t\t\t\t\t);\n",
        "      marker_100.bindPopup(&quot;SSS-CT-NLD-027WL.txt&quot;);\n",
        "      clusteredmarkers.addLayer(marker_100)\n",
        "      \n",
        "      var marker_101_icon = L.AwesomeMarkers.icon({ icon: 'info-sign',markerColor: 'blue',prefix: 'glyphicon',extraClasses: 'fa-rotate-0'});\n",
        "      var marker_101 = L.marker([40.685227, \n",
        "\t\t\t\t\t\t\t-73.279903],\n",
        "\t\t\t\t\t\t\t{'icon':marker_101_icon}\n",
        "\t\t\t\t\t\t\t);\n",
        "      marker_101.bindPopup(&quot;SSS-NY-SUF-022WL.txt&quot;);\n",
        "      clusteredmarkers.addLayer(marker_101)\n",
        "      \n",
        "      var marker_102_icon = L.AwesomeMarkers.icon({ icon: 'info-sign',markerColor: 'blue',prefix: 'glyphicon',extraClasses: 'fa-rotate-0'});\n",
        "      var marker_102 = L.marker([40.916077, \n",
        "\t\t\t\t\t\t\t-72.637741],\n",
        "\t\t\t\t\t\t\t{'icon':marker_102_icon}\n",
        "\t\t\t\t\t\t\t);\n",
        "      marker_102.bindPopup(&quot;SSS-NY-SUF-005WL.txt&quot;);\n",
        "      clusteredmarkers.addLayer(marker_102)\n",
        "      \n",
        "      var marker_103_icon = L.AwesomeMarkers.icon({ icon: 'info-sign',markerColor: 'blue',prefix: 'glyphicon',extraClasses: 'fa-rotate-0'});\n",
        "      var marker_103 = L.marker([35.796176594, \n",
        "\t\t\t\t\t\t\t-75.5494960735],\n",
        "\t\t\t\t\t\t\t{'icon':marker_103_icon}\n",
        "\t\t\t\t\t\t\t);\n",
        "      marker_103.bindPopup(&quot;SSS-NC-DAR-005WL.txt&quot;);\n",
        "      clusteredmarkers.addLayer(marker_103)\n",
        "      \n",
        "      var marker_104_icon = L.AwesomeMarkers.icon({ icon: 'info-sign',markerColor: 'blue',prefix: 'glyphicon',extraClasses: 'fa-rotate-0'});\n",
        "      var marker_104 = L.marker([38.7756388889, \n",
        "\t\t\t\t\t\t\t-75.13825],\n",
        "\t\t\t\t\t\t\t{'icon':marker_104_icon}\n",
        "\t\t\t\t\t\t\t);\n",
        "      marker_104.bindPopup(&quot;SSS-DE-SUS-009WL.txt&quot;);\n",
        "      clusteredmarkers.addLayer(marker_104)\n",
        "      \n",
        "      var marker_105_icon = L.AwesomeMarkers.icon({ icon: 'info-sign',markerColor: 'blue',prefix: 'glyphicon',extraClasses: 'fa-rotate-0'});\n",
        "      var marker_105 = L.marker([41.3125, \n",
        "\t\t\t\t\t\t\t-72.346083],\n",
        "\t\t\t\t\t\t\t{'icon':marker_105_icon}\n",
        "\t\t\t\t\t\t\t);\n",
        "      marker_105.bindPopup(&quot;SSS-CT-NLD-022WL.txt&quot;);\n",
        "      clusteredmarkers.addLayer(marker_105)\n",
        "      \n",
        "      var marker_106_icon = L.AwesomeMarkers.icon({ icon: 'info-sign',markerColor: 'blue',prefix: 'glyphicon',extraClasses: 'fa-rotate-0'});\n",
        "      var marker_106 = L.marker([41.281111, \n",
        "\t\t\t\t\t\t\t-72.352222],\n",
        "\t\t\t\t\t\t\t{'icon':marker_106_icon}\n",
        "\t\t\t\t\t\t\t);\n",
        "      marker_106.bindPopup(&quot;SSS-CT-MSX-019WL.txt&quot;);\n",
        "      clusteredmarkers.addLayer(marker_106)\n",
        "      \n",
        "      var marker_107_icon = L.AwesomeMarkers.icon({ icon: 'info-sign',markerColor: 'blue',prefix: 'glyphicon',extraClasses: 'fa-rotate-0'});\n",
        "      var marker_107 = L.marker([38.3388055556, \n",
        "\t\t\t\t\t\t\t-75.1298888889],\n",
        "\t\t\t\t\t\t\t{'icon':marker_107_icon}\n",
        "\t\t\t\t\t\t\t);\n",
        "      marker_107.bindPopup(&quot;SSS-MD-WOR-019WL.txt&quot;);\n",
        "      clusteredmarkers.addLayer(marker_107)\n",
        "      \n",
        "      var marker_108_icon = L.AwesomeMarkers.icon({ icon: 'info-sign',markerColor: 'blue',prefix: 'glyphicon',extraClasses: 'fa-rotate-0'});\n",
        "      var marker_108 = L.marker([33.997885, \n",
        "\t\t\t\t\t\t\t-77.905353],\n",
        "\t\t\t\t\t\t\t{'icon':marker_108_icon}\n",
        "\t\t\t\t\t\t\t);\n",
        "      marker_108.bindPopup(&quot;SSS-NC-NHA-003WL.txt&quot;);\n",
        "      clusteredmarkers.addLayer(marker_108)\n",
        "      \n",
        "      var marker_109_icon = L.AwesomeMarkers.icon({ icon: 'info-sign',markerColor: 'blue',prefix: 'glyphicon',extraClasses: 'fa-rotate-0'});\n",
        "      var marker_109 = L.marker([38.7026944444, \n",
        "\t\t\t\t\t\t\t-75.1618333333],\n",
        "\t\t\t\t\t\t\t{'icon':marker_109_icon}\n",
        "\t\t\t\t\t\t\t);\n",
        "      marker_109.bindPopup(&quot;SSS-DE-SUS-030WL.txt&quot;);\n",
        "      clusteredmarkers.addLayer(marker_109)\n",
        "      \n",
        "      var marker_110_icon = L.AwesomeMarkers.icon({ icon: 'info-sign',markerColor: 'blue',prefix: 'glyphicon',extraClasses: 'fa-rotate-0'});\n",
        "      var marker_110 = L.marker([41.001972, \n",
        "\t\t\t\t\t\t\t-72.290298],\n",
        "\t\t\t\t\t\t\t{'icon':marker_110_icon}\n",
        "\t\t\t\t\t\t\t);\n",
        "      marker_110.bindPopup(&quot;SSS-NY-SUF-009WL.txt&quot;);\n",
        "      clusteredmarkers.addLayer(marker_110)\n",
        "      \n",
        "      var marker_111_icon = L.AwesomeMarkers.icon({ icon: 'info-sign',markerColor: 'blue',prefix: 'glyphicon',extraClasses: 'fa-rotate-0'});\n",
        "      var marker_111 = L.marker([34.6873349756, \n",
        "\t\t\t\t\t\t\t-77.1172292159],\n",
        "\t\t\t\t\t\t\t{'icon':marker_111_icon}\n",
        "\t\t\t\t\t\t\t);\n",
        "      marker_111.bindPopup(&quot;SSS-NC-ONS-001WL.txt&quot;);\n",
        "      clusteredmarkers.addLayer(marker_111)\n",
        "      \n",
        "      var marker_112_icon = L.AwesomeMarkers.icon({ icon: 'info-sign',markerColor: 'blue',prefix: 'glyphicon',extraClasses: 'fa-rotate-0'});\n",
        "      var marker_112 = L.marker([36.8588055556, \n",
        "\t\t\t\t\t\t\t-76.2986388889],\n",
        "\t\t\t\t\t\t\t{'icon':marker_112_icon}\n",
        "\t\t\t\t\t\t\t);\n",
        "      marker_112.bindPopup(&quot;SSS-VA-NFK-001WL.txt&quot;);\n",
        "      clusteredmarkers.addLayer(marker_112)\n",
        "      \n",
        "      var marker_113_icon = L.AwesomeMarkers.icon({ icon: 'info-sign',markerColor: 'blue',prefix: 'glyphicon',extraClasses: 'fa-rotate-0'});\n",
        "      var marker_113 = L.marker([39.2883333, \n",
        "\t\t\t\t\t\t\t-74.6275],\n",
        "\t\t\t\t\t\t\t{'icon':marker_113_icon}\n",
        "\t\t\t\t\t\t\t);\n",
        "      marker_113.bindPopup(&quot;SSS-NJ-CPM-001WL.txt&quot;);\n",
        "      clusteredmarkers.addLayer(marker_113)\n",
        "      \n",
        "      var marker_114_icon = L.AwesomeMarkers.icon({ icon: 'info-sign',markerColor: 'blue',prefix: 'glyphicon',extraClasses: 'fa-rotate-0'});\n",
        "      var marker_114 = L.marker([33.934929, \n",
        "\t\t\t\t\t\t\t-77.993386],\n",
        "\t\t\t\t\t\t\t{'icon':marker_114_icon}\n",
        "\t\t\t\t\t\t\t);\n",
        "      marker_114.bindPopup(&quot;SSS-NC-BRU-010WL.txt&quot;);\n",
        "      clusteredmarkers.addLayer(marker_114)\n",
        "      \n",
        "      var marker_115_icon = L.AwesomeMarkers.icon({ icon: 'info-sign',markerColor: 'blue',prefix: 'glyphicon',extraClasses: 'fa-rotate-0'});\n",
        "      var marker_115 = L.marker([35.393453292, \n",
        "\t\t\t\t\t\t\t-76.3284708405],\n",
        "\t\t\t\t\t\t\t{'icon':marker_115_icon}\n",
        "\t\t\t\t\t\t\t);\n",
        "      marker_115.bindPopup(&quot;SSS-NC-HYD-001WL.txt&quot;);\n",
        "      clusteredmarkers.addLayer(marker_115)\n",
        "      \n",
        "      var marker_116_icon = L.AwesomeMarkers.icon({ icon: 'info-sign',markerColor: 'blue',prefix: 'glyphicon',extraClasses: 'fa-rotate-0'});\n",
        "      var marker_116 = L.marker([34.6966755404, \n",
        "\t\t\t\t\t\t\t-76.7812232742],\n",
        "\t\t\t\t\t\t\t{'icon':marker_116_icon}\n",
        "\t\t\t\t\t\t\t);\n",
        "      marker_116.bindPopup(&quot;SSS-NC-CRT-006WL.txt&quot;);\n",
        "      clusteredmarkers.addLayer(marker_116)\n",
        "      \n",
        "      var marker_117_icon = L.AwesomeMarkers.icon({ icon: 'info-sign',markerColor: 'blue',prefix: 'glyphicon',extraClasses: 'fa-rotate-0'});\n",
        "      var marker_117 = L.marker([41.269194, \n",
        "\t\t\t\t\t\t\t-72.529361],\n",
        "\t\t\t\t\t\t\t{'icon':marker_117_icon}\n",
        "\t\t\t\t\t\t\t);\n",
        "      marker_117.bindPopup(&quot;SSS-CT-MSX-018WL.txt&quot;);\n",
        "      clusteredmarkers.addLayer(marker_117)\n",
        "      \n",
        "      var marker_118_icon = L.AwesomeMarkers.icon({ icon: 'info-sign',markerColor: 'blue',prefix: 'glyphicon',extraClasses: 'fa-rotate-0'});\n",
        "      var marker_118 = L.marker([41.360278, \n",
        "\t\t\t\t\t\t\t-71.964667],\n",
        "\t\t\t\t\t\t\t{'icon':marker_118_icon}\n",
        "\t\t\t\t\t\t\t);\n",
        "      marker_118.bindPopup(&quot;SSS-CT-NLD-028WL.txt&quot;);\n",
        "      clusteredmarkers.addLayer(marker_118)\n",
        "      \n",
        "      var marker_119_icon = L.AwesomeMarkers.icon({ icon: 'info-sign',markerColor: 'blue',prefix: 'glyphicon',extraClasses: 'fa-rotate-0'});\n",
        "      var marker_119 = L.marker([36.8312777778, \n",
        "\t\t\t\t\t\t\t-75.9778333333],\n",
        "\t\t\t\t\t\t\t{'icon':marker_119_icon}\n",
        "\t\t\t\t\t\t\t);\n",
        "      marker_119.bindPopup(&quot;SSS-VA-VAB-003WL.txt&quot;);\n",
        "      clusteredmarkers.addLayer(marker_119)\n",
        "      \n",
        "      var marker_120_icon = L.AwesomeMarkers.icon({ icon: 'info-sign',markerColor: 'blue',prefix: 'glyphicon',extraClasses: 'fa-rotate-0'});\n",
        "      var marker_120 = L.marker([34.056854, \n",
        "\t\t\t\t\t\t\t-77.880971],\n",
        "\t\t\t\t\t\t\t{'icon':marker_120_icon}\n",
        "\t\t\t\t\t\t\t);\n",
        "      marker_120.bindPopup(&quot;SSS-NC-NHA-004WL.txt&quot;);\n",
        "      clusteredmarkers.addLayer(marker_120)\n",
        "      \n",
        "      var marker_121_icon = L.AwesomeMarkers.icon({ icon: 'info-sign',markerColor: 'blue',prefix: 'glyphicon',extraClasses: 'fa-rotate-0'});\n",
        "      var marker_121 = L.marker([38.9894444444, \n",
        "\t\t\t\t\t\t\t-75.4943055556],\n",
        "\t\t\t\t\t\t\t{'icon':marker_121_icon}\n",
        "\t\t\t\t\t\t\t);\n",
        "      marker_121.bindPopup(&quot;SSS-DE-KEN-003WL.txt&quot;);\n",
        "      clusteredmarkers.addLayer(marker_121)\n",
        "      \n",
        "      var marker_122_icon = L.AwesomeMarkers.icon({ icon: 'info-sign',markerColor: 'blue',prefix: 'glyphicon',extraClasses: 'fa-rotate-0'});\n",
        "      var marker_122 = L.marker([38.5413055556, \n",
        "\t\t\t\t\t\t\t-75.0598333333],\n",
        "\t\t\t\t\t\t\t{'icon':marker_122_icon}\n",
        "\t\t\t\t\t\t\t);\n",
        "      marker_122.bindPopup(&quot;SSS-DE-SUS-012WL.txt&quot;);\n",
        "      clusteredmarkers.addLayer(marker_122)\n",
        "      \n",
        "      var marker_123_icon = L.AwesomeMarkers.icon({ icon: 'info-sign',markerColor: 'blue',prefix: 'glyphicon',extraClasses: 'fa-rotate-0'});\n",
        "      var marker_123 = L.marker([37.1281111111, \n",
        "\t\t\t\t\t\t\t-75.9494444444],\n",
        "\t\t\t\t\t\t\t{'icon':marker_123_icon}\n",
        "\t\t\t\t\t\t\t);\n",
        "      marker_123.bindPopup(&quot;SSS-VA-NOR-004WL.txt&quot;);\n",
        "      clusteredmarkers.addLayer(marker_123)\n",
        "      \n",
        "      var marker_124_icon = L.AwesomeMarkers.icon({ icon: 'info-sign',markerColor: 'blue',prefix: 'glyphicon',extraClasses: 'fa-rotate-0'});\n",
        "      var marker_124 = L.marker([35.0992183671, \n",
        "\t\t\t\t\t\t\t-77.0395796963],\n",
        "\t\t\t\t\t\t\t{'icon':marker_124_icon}\n",
        "\t\t\t\t\t\t\t);\n",
        "      marker_124.bindPopup(&quot;SSS-NC-CRV-005WL.txt&quot;);\n",
        "      clusteredmarkers.addLayer(marker_124)\n",
        "      \n",
        "      var marker_125_icon = L.AwesomeMarkers.icon({ icon: 'info-sign',markerColor: 'blue',prefix: 'glyphicon',extraClasses: 'fa-rotate-0'});\n",
        "      var marker_125 = L.marker([39.5049444444, \n",
        "\t\t\t\t\t\t\t-75.58025],\n",
        "\t\t\t\t\t\t\t{'icon':marker_125_icon}\n",
        "\t\t\t\t\t\t\t);\n",
        "      marker_125.bindPopup(&quot;SSS-DE-NEW-005WL.txt&quot;);\n",
        "      clusteredmarkers.addLayer(marker_125)\n",
        "      \n",
        "      var marker_126_icon = L.AwesomeMarkers.icon({ icon: 'info-sign',markerColor: 'blue',prefix: 'glyphicon',extraClasses: 'fa-rotate-0'});\n",
        "      var marker_126 = L.marker([38.4241111111, \n",
        "\t\t\t\t\t\t\t-75.1876944444],\n",
        "\t\t\t\t\t\t\t{'icon':marker_126_icon}\n",
        "\t\t\t\t\t\t\t);\n",
        "      marker_126.bindPopup(&quot;SSS-MD-WOR-030WL.txt&quot;);\n",
        "      clusteredmarkers.addLayer(marker_126)\n",
        "      \n",
        "      var marker_127_icon = L.AwesomeMarkers.icon({ icon: 'info-sign',markerColor: 'blue',prefix: 'glyphicon',extraClasses: 'fa-rotate-0'});\n",
        "      var marker_127 = L.marker([38.3630833333, \n",
        "\t\t\t\t\t\t\t-75.6071111111],\n",
        "\t\t\t\t\t\t\t{'icon':marker_127_icon}\n",
        "\t\t\t\t\t\t\t);\n",
        "      marker_127.bindPopup(&quot;SSS-MD-WIC-011WL.txt&quot;);\n",
        "      clusteredmarkers.addLayer(marker_127)\n",
        "      \n",
        "      var marker_128_icon = L.AwesomeMarkers.icon({ icon: 'info-sign',markerColor: 'blue',prefix: 'glyphicon',extraClasses: 'fa-rotate-0'});\n",
        "      var marker_128 = L.marker([38.7769722222, \n",
        "\t\t\t\t\t\t\t-75.3124722222],\n",
        "\t\t\t\t\t\t\t{'icon':marker_128_icon}\n",
        "\t\t\t\t\t\t\t);\n",
        "      marker_128.bindPopup(&quot;SSS-DE-SUS-006WL.txt&quot;);\n",
        "      clusteredmarkers.addLayer(marker_128)\n",
        "      \n",
        "      var marker_129_icon = L.AwesomeMarkers.icon({ icon: 'info-sign',markerColor: 'blue',prefix: 'glyphicon',extraClasses: 'fa-rotate-0'});\n",
        "      var marker_129 = L.marker([41.60618, \n",
        "\t\t\t\t\t\t\t-70.65186],\n",
        "\t\t\t\t\t\t\t{'icon':marker_129_icon}\n",
        "\t\t\t\t\t\t\t);\n",
        "      marker_129.bindPopup(&quot;SSS-MA-BAR-024WL.txt&quot;);\n",
        "      clusteredmarkers.addLayer(marker_129)\n",
        "      \n",
        "      var marker_130_icon = L.AwesomeMarkers.icon({ icon: 'info-sign',markerColor: 'blue',prefix: 'glyphicon',extraClasses: 'fa-rotate-0'});\n",
        "      var marker_130 = L.marker([41.33236, \n",
        "\t\t\t\t\t\t\t-71.71779],\n",
        "\t\t\t\t\t\t\t{'icon':marker_130_icon}\n",
        "\t\t\t\t\t\t\t);\n",
        "      marker_130.bindPopup(&quot;SSS-RI-WAS-002WL.txt&quot;);\n",
        "      clusteredmarkers.addLayer(marker_130)\n",
        "      \n",
        "      var marker_131_icon = L.AwesomeMarkers.icon({ icon: 'info-sign',markerColor: 'blue',prefix: 'glyphicon',extraClasses: 'fa-rotate-0'});\n",
        "      var marker_131 = L.marker([36.3735698054, \n",
        "\t\t\t\t\t\t\t-75.8335119462],\n",
        "\t\t\t\t\t\t\t{'icon':marker_131_icon}\n",
        "\t\t\t\t\t\t\t);\n",
        "      marker_131.bindPopup(&quot;SSS-NC-CUR-002WL.txt&quot;);\n",
        "      clusteredmarkers.addLayer(marker_131)\n",
        "      \n",
        "      var marker_132_icon = L.AwesomeMarkers.icon({ icon: 'info-sign',markerColor: 'blue',prefix: 'glyphicon',extraClasses: 'fa-rotate-0'});\n",
        "      var marker_132 = L.marker([41.33482, \n",
        "\t\t\t\t\t\t\t-71.76663],\n",
        "\t\t\t\t\t\t\t{'icon':marker_132_icon}\n",
        "\t\t\t\t\t\t\t);\n",
        "      marker_132.bindPopup(&quot;SSS-RI-WAS-005WL.txt&quot;);\n",
        "      clusteredmarkers.addLayer(marker_132)\n",
        "      \n",
        "      var marker_133_icon = L.AwesomeMarkers.icon({ icon: 'info-sign',markerColor: 'blue',prefix: 'glyphicon',extraClasses: 'fa-rotate-0'});\n",
        "      var marker_133 = L.marker([41.1231, \n",
        "\t\t\t\t\t\t\t-73.36998],\n",
        "\t\t\t\t\t\t\t{'icon':marker_133_icon}\n",
        "\t\t\t\t\t\t\t);\n",
        "      marker_133.bindPopup(&quot;SSS-CT-FFD-006WL.txt&quot;);\n",
        "      clusteredmarkers.addLayer(marker_133)\n",
        "      \n",
        "      var marker_134_icon = L.AwesomeMarkers.icon({ icon: 'info-sign',markerColor: 'blue',prefix: 'glyphicon',extraClasses: 'fa-rotate-0'});\n",
        "      var marker_134 = L.marker([33.893704, \n",
        "\t\t\t\t\t\t\t-78.033472],\n",
        "\t\t\t\t\t\t\t{'icon':marker_134_icon}\n",
        "\t\t\t\t\t\t\t);\n",
        "      marker_134.bindPopup(&quot;SSS-NC-BRU-011WL.txt&quot;);\n",
        "      clusteredmarkers.addLayer(marker_134)\n",
        "      \n",
        "      var marker_135_icon = L.AwesomeMarkers.icon({ icon: 'info-sign',markerColor: 'blue',prefix: 'glyphicon',extraClasses: 'fa-rotate-0'});\n",
        "      var marker_135 = L.marker([39.4053055556, \n",
        "\t\t\t\t\t\t\t-75.5986111111],\n",
        "\t\t\t\t\t\t\t{'icon':marker_135_icon}\n",
        "\t\t\t\t\t\t\t);\n",
        "      marker_135.bindPopup(&quot;SSS-DE-NEW-002WL.txt&quot;);\n",
        "      clusteredmarkers.addLayer(marker_135)\n",
        "      \n",
        "      var marker_136_icon = L.AwesomeMarkers.icon({ icon: 'info-sign',markerColor: 'blue',prefix: 'glyphicon',extraClasses: 'fa-rotate-0'});\n",
        "      var marker_136 = L.marker([38.5916388889, \n",
        "\t\t\t\t\t\t\t-75.2119722222],\n",
        "\t\t\t\t\t\t\t{'icon':marker_136_icon}\n",
        "\t\t\t\t\t\t\t);\n",
        "      marker_136.bindPopup(&quot;SSS-DE-SUS-033WL.txt&quot;);\n",
        "      clusteredmarkers.addLayer(marker_136)\n",
        "      \n",
        "      var marker_137_icon = L.AwesomeMarkers.icon({ icon: 'info-sign',markerColor: 'blue',prefix: 'glyphicon',extraClasses: 'fa-rotate-0'});\n",
        "      var marker_137 = L.marker([34.365421116, \n",
        "\t\t\t\t\t\t\t-77.6281531135],\n",
        "\t\t\t\t\t\t\t{'icon':marker_137_icon}\n",
        "\t\t\t\t\t\t\t);\n",
        "      marker_137.bindPopup(&quot;SSS-NC-PEN-003WL.txt&quot;);\n",
        "      clusteredmarkers.addLayer(marker_137)\n",
        "      \n",
        "      var marker_138_icon = L.AwesomeMarkers.icon({ icon: 'info-sign',markerColor: 'blue',prefix: 'glyphicon',extraClasses: 'fa-rotate-0'});\n",
        "      var marker_138 = L.marker([38.6938055556, \n",
        "\t\t\t\t\t\t\t-76.1740555556],\n",
        "\t\t\t\t\t\t\t{'icon':marker_138_icon}\n",
        "\t\t\t\t\t\t\t);\n",
        "      marker_138.bindPopup(&quot;SSS-MD-TAL-005WL.txt&quot;);\n",
        "      clusteredmarkers.addLayer(marker_138)\n",
        "      \n",
        "      var marker_139_icon = L.AwesomeMarkers.icon({ icon: 'info-sign',markerColor: 'blue',prefix: 'glyphicon',extraClasses: 'fa-rotate-0'});\n",
        "      var marker_139 = L.marker([41.25325, \n",
        "\t\t\t\t\t\t\t-73.08843],\n",
        "\t\t\t\t\t\t\t{'icon':marker_139_icon}\n",
        "\t\t\t\t\t\t\t);\n",
        "      marker_139.bindPopup(&quot;SSS-CT-FFD-009WL.txt&quot;);\n",
        "      clusteredmarkers.addLayer(marker_139)\n",
        "      \n",
        "      var marker_140_icon = L.AwesomeMarkers.icon({ icon: 'info-sign',markerColor: 'blue',prefix: 'glyphicon',extraClasses: 'fa-rotate-0'});\n",
        "      var marker_140 = L.marker([38.0764166667, \n",
        "\t\t\t\t\t\t\t-75.5706111111],\n",
        "\t\t\t\t\t\t\t{'icon':marker_140_icon}\n",
        "\t\t\t\t\t\t\t);\n",
        "      marker_140.bindPopup(&quot;SSS-MD-WOR-013WL.txt&quot;);\n",
        "      clusteredmarkers.addLayer(marker_140)\n",
        "      \n",
        "      var marker_141_icon = L.AwesomeMarkers.icon({ icon: 'info-sign',markerColor: 'blue',prefix: 'glyphicon',extraClasses: 'fa-rotate-0'});\n",
        "      var marker_141 = L.marker([41.7629, \n",
        "\t\t\t\t\t\t\t-71.38529],\n",
        "\t\t\t\t\t\t\t{'icon':marker_141_icon}\n",
        "\t\t\t\t\t\t\t);\n",
        "      marker_141.bindPopup(&quot;SSS-RI-PRO-010WL.txt&quot;);\n",
        "      clusteredmarkers.addLayer(marker_141)\n",
        "      \n",
        "      var marker_142_icon = L.AwesomeMarkers.icon({ icon: 'info-sign',markerColor: 'blue',prefix: 'glyphicon',extraClasses: 'fa-rotate-0'});\n",
        "      var marker_142 = L.marker([41.81314, \n",
        "\t\t\t\t\t\t\t-71.11641],\n",
        "\t\t\t\t\t\t\t{'icon':marker_142_icon}\n",
        "\t\t\t\t\t\t\t);\n",
        "      marker_142.bindPopup(&quot;SSS-MA-BRI-029WL.txt&quot;);\n",
        "      clusteredmarkers.addLayer(marker_142)\n",
        "      \n",
        "      var marker_143_icon = L.AwesomeMarkers.icon({ icon: 'info-sign',markerColor: 'blue',prefix: 'glyphicon',extraClasses: 'fa-rotate-0'});\n",
        "      var marker_143 = L.marker([38.7197777778, \n",
        "\t\t\t\t\t\t\t-76.3325833333],\n",
        "\t\t\t\t\t\t\t{'icon':marker_143_icon}\n",
        "\t\t\t\t\t\t\t);\n",
        "      marker_143.bindPopup(&quot;SSS-MD-TAL-002WL.txt&quot;);\n",
        "      clusteredmarkers.addLayer(marker_143)\n",
        "      \n",
        "      var marker_144_icon = L.AwesomeMarkers.icon({ icon: 'info-sign',markerColor: 'blue',prefix: 'glyphicon',extraClasses: 'fa-rotate-0'});\n",
        "      var marker_144 = L.marker([41.46496, \n",
        "\t\t\t\t\t\t\t-71.19241],\n",
        "\t\t\t\t\t\t\t{'icon':marker_144_icon}\n",
        "\t\t\t\t\t\t\t);\n",
        "      marker_144.bindPopup(&quot;SSS-RI-NEW-015WL.txt&quot;);\n",
        "      clusteredmarkers.addLayer(marker_144)\n",
        "      \n",
        "      var marker_145_icon = L.AwesomeMarkers.icon({ icon: 'info-sign',markerColor: 'blue',prefix: 'glyphicon',extraClasses: 'fa-rotate-0'});\n",
        "      var marker_145 = L.marker([40.659318, \n",
        "\t\t\t\t\t\t\t-73.264861],\n",
        "\t\t\t\t\t\t\t{'icon':marker_145_icon}\n",
        "\t\t\t\t\t\t\t);\n",
        "      marker_145.bindPopup(&quot;SSS-NY-SUF-019WL.txt&quot;);\n",
        "      clusteredmarkers.addLayer(marker_145)\n",
        "      \n",
        "      var marker_146_icon = L.AwesomeMarkers.icon({ icon: 'info-sign',markerColor: 'blue',prefix: 'glyphicon',extraClasses: 'fa-rotate-0'});\n",
        "      var marker_146 = L.marker([43.446667, \n",
        "\t\t\t\t\t\t\t-70.356111],\n",
        "\t\t\t\t\t\t\t{'icon':marker_146_icon}\n",
        "\t\t\t\t\t\t\t);\n",
        "      marker_146.bindPopup(&quot;SSS-ME-YOR-001WL.txt&quot;);\n",
        "      clusteredmarkers.addLayer(marker_146)\n",
        "      \n",
        "      var marker_147_icon = L.AwesomeMarkers.icon({ icon: 'info-sign',markerColor: 'blue',prefix: 'glyphicon',extraClasses: 'fa-rotate-0'});\n",
        "      var marker_147 = L.marker([35.6983118475, \n",
        "\t\t\t\t\t\t\t-75.7704350037],\n",
        "\t\t\t\t\t\t\t{'icon':marker_147_icon}\n",
        "\t\t\t\t\t\t\t);\n",
        "      marker_147.bindPopup(&quot;SSS-NC-DAR-010WL.txt&quot;);\n",
        "      clusteredmarkers.addLayer(marker_147)\n",
        "      \n",
        "      var marker_148_icon = L.AwesomeMarkers.icon({ icon: 'info-sign',markerColor: 'blue',prefix: 'glyphicon',extraClasses: 'fa-rotate-0'});\n",
        "      var marker_148 = L.marker([40.749179, \n",
        "\t\t\t\t\t\t\t-73.01338],\n",
        "\t\t\t\t\t\t\t{'icon':marker_148_icon}\n",
        "\t\t\t\t\t\t\t);\n",
        "      marker_148.bindPopup(&quot;SSS-NY-SUF-021WL.txt&quot;);\n",
        "      clusteredmarkers.addLayer(marker_148)\n",
        "      \n",
        "      var marker_149_icon = L.AwesomeMarkers.icon({ icon: 'info-sign',markerColor: 'blue',prefix: 'glyphicon',extraClasses: 'fa-rotate-0'});\n",
        "      var marker_149 = L.marker([34.6480564264, \n",
        "\t\t\t\t\t\t\t-77.0955559738],\n",
        "\t\t\t\t\t\t\t{'icon':marker_149_icon}\n",
        "\t\t\t\t\t\t\t);\n",
        "      marker_149.bindPopup(&quot;SSS-NC-CRT-005WL.txt&quot;);\n",
        "      clusteredmarkers.addLayer(marker_149)\n",
        "      \n",
        "      var marker_150_icon = L.AwesomeMarkers.icon({ icon: 'info-sign',markerColor: 'blue',prefix: 'glyphicon',extraClasses: 'fa-rotate-0'});\n",
        "      var marker_150 = L.marker([41.52809, \n",
        "\t\t\t\t\t\t\t-71.41637],\n",
        "\t\t\t\t\t\t\t{'icon':marker_150_icon}\n",
        "\t\t\t\t\t\t\t);\n",
        "      marker_150.bindPopup(&quot;SSS-RI-WAS-012WL.txt&quot;);\n",
        "      clusteredmarkers.addLayer(marker_150)\n",
        "      \n",
        "      var marker_151_icon = L.AwesomeMarkers.icon({ icon: 'info-sign',markerColor: 'blue',prefix: 'glyphicon',extraClasses: 'fa-rotate-0'});\n",
        "      var marker_151 = L.marker([41.51626, \n",
        "\t\t\t\t\t\t\t-71.07168],\n",
        "\t\t\t\t\t\t\t{'icon':marker_151_icon}\n",
        "\t\t\t\t\t\t\t);\n",
        "      marker_151.bindPopup(&quot;SSS-MA-BRI-016WL.txt&quot;);\n",
        "      clusteredmarkers.addLayer(marker_151)\n",
        "      \n",
        "      var marker_152_icon = L.AwesomeMarkers.icon({ icon: 'info-sign',markerColor: 'blue',prefix: 'glyphicon',extraClasses: 'fa-rotate-0'});\n",
        "      var marker_152 = L.marker([41.37726, \n",
        "\t\t\t\t\t\t\t-71.51472],\n",
        "\t\t\t\t\t\t\t{'icon':marker_152_icon}\n",
        "\t\t\t\t\t\t\t);\n",
        "      marker_152.bindPopup(&quot;SSS-RI-WAS-008WL.txt&quot;);\n",
        "      clusteredmarkers.addLayer(marker_152)\n",
        "      \n",
        "      var marker_153_icon = L.AwesomeMarkers.icon({ icon: 'info-sign',markerColor: 'blue',prefix: 'glyphicon',extraClasses: 'fa-rotate-0'});\n",
        "      var marker_153 = L.marker([41.63949, \n",
        "\t\t\t\t\t\t\t-70.27664],\n",
        "\t\t\t\t\t\t\t{'icon':marker_153_icon}\n",
        "\t\t\t\t\t\t\t);\n",
        "      marker_153.bindPopup(&quot;SSS-MA-BAR-028WL.txt&quot;);\n",
        "      clusteredmarkers.addLayer(marker_153)\n",
        "      \n",
        "      var marker_154_icon = L.AwesomeMarkers.icon({ icon: 'info-sign',markerColor: 'blue',prefix: 'glyphicon',extraClasses: 'fa-rotate-0'});\n",
        "      var marker_154 = L.marker([39.9502777778, \n",
        "\t\t\t\t\t\t\t-74.1988888889],\n",
        "\t\t\t\t\t\t\t{'icon':marker_154_icon}\n",
        "\t\t\t\t\t\t\t);\n",
        "      marker_154.bindPopup(&quot;SSS-NJ-OCN-001WL.txt&quot;);\n",
        "      clusteredmarkers.addLayer(marker_154)\n",
        "      \n",
        "      var marker_155_icon = L.AwesomeMarkers.icon({ icon: 'info-sign',markerColor: 'blue',prefix: 'glyphicon',extraClasses: 'fa-rotate-0'});\n",
        "      var marker_155 = L.marker([34.3651956759, \n",
        "\t\t\t\t\t\t\t-77.6317705246],\n",
        "\t\t\t\t\t\t\t{'icon':marker_155_icon}\n",
        "\t\t\t\t\t\t\t);\n",
        "      marker_155.bindPopup(&quot;SSS-NC-PEN-002WL.txt&quot;);\n",
        "      clusteredmarkers.addLayer(marker_155)\n",
        "      \n",
        "      var marker_156_icon = L.AwesomeMarkers.icon({ icon: 'info-sign',markerColor: 'blue',prefix: 'glyphicon',extraClasses: 'fa-rotate-0'});\n",
        "      var marker_156 = L.marker([41.31675, \n",
        "\t\t\t\t\t\t\t-72.060917],\n",
        "\t\t\t\t\t\t\t{'icon':marker_156_icon}\n",
        "\t\t\t\t\t\t\t);\n",
        "      marker_156.bindPopup(&quot;SSS-CT-NLD-025WL.txt&quot;);\n",
        "      clusteredmarkers.addLayer(marker_156)\n",
        "      \n",
        "      var marker_157_icon = L.AwesomeMarkers.icon({ icon: 'info-sign',markerColor: 'blue',prefix: 'glyphicon',extraClasses: 'fa-rotate-0'});\n",
        "      var marker_157 = L.marker([41.42775, \n",
        "\t\t\t\t\t\t\t-71.49559],\n",
        "\t\t\t\t\t\t\t{'icon':marker_157_icon}\n",
        "\t\t\t\t\t\t\t);\n",
        "      marker_157.bindPopup(&quot;SSS-RI-WAS-009WL.txt&quot;);\n",
        "      clusteredmarkers.addLayer(marker_157)\n",
        "      \n",
        "      var marker_158_icon = L.AwesomeMarkers.icon({ icon: 'info-sign',markerColor: 'blue',prefix: 'glyphicon',extraClasses: 'fa-rotate-0'});\n",
        "      var marker_158 = L.marker([38.4836944444, \n",
        "\t\t\t\t\t\t\t-75.1191111111],\n",
        "\t\t\t\t\t\t\t{'icon':marker_158_icon}\n",
        "\t\t\t\t\t\t\t);\n",
        "      marker_158.bindPopup(&quot;SSS-DE-SUS-037WL.txt&quot;);\n",
        "      clusteredmarkers.addLayer(marker_158)\n",
        "      \n",
        "      var marker_159_icon = L.AwesomeMarkers.icon({ icon: 'info-sign',markerColor: 'blue',prefix: 'glyphicon',extraClasses: 'fa-rotate-0'});\n",
        "      var marker_159 = L.marker([42.9996, \n",
        "\t\t\t\t\t\t\t-70.748],\n",
        "\t\t\t\t\t\t\t{'icon':marker_159_icon}\n",
        "\t\t\t\t\t\t\t);\n",
        "      marker_159.bindPopup(&quot;SSS-NH-ROC-002WL.txt&quot;);\n",
        "      clusteredmarkers.addLayer(marker_159)\n",
        "      \n",
        "      var marker_160_icon = L.AwesomeMarkers.icon({ icon: 'info-sign',markerColor: 'blue',prefix: 'glyphicon',extraClasses: 'fa-rotate-0'});\n",
        "      var marker_160 = L.marker([38.6945277778, \n",
        "\t\t\t\t\t\t\t-75.0841944444],\n",
        "\t\t\t\t\t\t\t{'icon':marker_160_icon}\n",
        "\t\t\t\t\t\t\t);\n",
        "      marker_160.bindPopup(&quot;SSS-DE-SUS-010WL.txt&quot;);\n",
        "      clusteredmarkers.addLayer(marker_160)\n",
        "      \n",
        "      var marker_161_icon = L.AwesomeMarkers.icon({ icon: 'info-sign',markerColor: 'blue',prefix: 'glyphicon',extraClasses: 'fa-rotate-0'});\n",
        "      var marker_161 = L.marker([34.235001, \n",
        "\t\t\t\t\t\t\t-77.776922],\n",
        "\t\t\t\t\t\t\t{'icon':marker_161_icon}\n",
        "\t\t\t\t\t\t\t);\n",
        "      marker_161.bindPopup(&quot;SSS-NC-NHA-008WL.txt&quot;);\n",
        "      clusteredmarkers.addLayer(marker_161)\n",
        "      \n",
        "      var marker_162_icon = L.AwesomeMarkers.icon({ icon: 'info-sign',markerColor: 'blue',prefix: 'glyphicon',extraClasses: 'fa-rotate-0'});\n",
        "      var marker_162 = L.marker([41.27221, \n",
        "\t\t\t\t\t\t\t-72.90479],\n",
        "\t\t\t\t\t\t\t{'icon':marker_162_icon}\n",
        "\t\t\t\t\t\t\t);\n",
        "      marker_162.bindPopup(&quot;SSS-CT-NHV-013WL.txt&quot;);\n",
        "      clusteredmarkers.addLayer(marker_162)\n",
        "      \n",
        "      var marker_163_icon = L.AwesomeMarkers.icon({ icon: 'info-sign',markerColor: 'blue',prefix: 'glyphicon',extraClasses: 'fa-rotate-0'});\n",
        "      var marker_163 = L.marker([36.9068333333, \n",
        "\t\t\t\t\t\t\t-76.08825],\n",
        "\t\t\t\t\t\t\t{'icon':marker_163_icon}\n",
        "\t\t\t\t\t\t\t);\n",
        "      marker_163.bindPopup(&quot;SSS-VA-VAB-001WL.txt&quot;);\n",
        "      clusteredmarkers.addLayer(marker_163)\n",
        "      \n",
        "      var marker_164_icon = L.AwesomeMarkers.icon({ icon: 'info-sign',markerColor: 'blue',prefix: 'glyphicon',extraClasses: 'fa-rotate-0'});\n",
        "      var marker_164 = L.marker([33.8951398662, \n",
        "\t\t\t\t\t\t\t-78.4393944758],\n",
        "\t\t\t\t\t\t\t{'icon':marker_164_icon}\n",
        "\t\t\t\t\t\t\t);\n",
        "      marker_164.bindPopup(&quot;SSS-NC-BRU-014WL.txt&quot;);\n",
        "      clusteredmarkers.addLayer(marker_164)\n",
        "      \n",
        "      var marker_165_icon = L.AwesomeMarkers.icon({ icon: 'info-sign',markerColor: 'blue',prefix: 'glyphicon',extraClasses: 'fa-rotate-0'});\n",
        "      var marker_165 = L.marker([40.893311, \n",
        "\t\t\t\t\t\t\t-72.502998],\n",
        "\t\t\t\t\t\t\t{'icon':marker_165_icon}\n",
        "\t\t\t\t\t\t\t);\n",
        "      marker_165.bindPopup(&quot;SSS-NY-SUF-008WL.txt&quot;);\n",
        "      clusteredmarkers.addLayer(marker_165)\n",
        "      \n",
        "      var marker_166_icon = L.AwesomeMarkers.icon({ icon: 'info-sign',markerColor: 'blue',prefix: 'glyphicon',extraClasses: 'fa-rotate-0'});\n",
        "      var marker_166 = L.marker([41.346667, \n",
        "\t\t\t\t\t\t\t-71.967667],\n",
        "\t\t\t\t\t\t\t{'icon':marker_166_icon}\n",
        "\t\t\t\t\t\t\t);\n",
        "      marker_166.bindPopup(&quot;SSS-CT-NLD-029WL.txt&quot;);\n",
        "      clusteredmarkers.addLayer(marker_166)\n",
        "      \n",
        "      var marker_167_icon = L.AwesomeMarkers.icon({ icon: 'info-sign',markerColor: 'blue',prefix: 'glyphicon',extraClasses: 'fa-rotate-0'});\n",
        "      var marker_167 = L.marker([39.3952777778, \n",
        "\t\t\t\t\t\t\t-75.0408333333],\n",
        "\t\t\t\t\t\t\t{'icon':marker_167_icon}\n",
        "\t\t\t\t\t\t\t);\n",
        "      marker_167.bindPopup(&quot;SSS-NJ-CUM-001WL.txt&quot;);\n",
        "      clusteredmarkers.addLayer(marker_167)\n",
        "      \n",
        "      var marker_168_icon = L.AwesomeMarkers.icon({ icon: 'info-sign',markerColor: 'blue',prefix: 'glyphicon',extraClasses: 'fa-rotate-0'});\n",
        "      var marker_168 = L.marker([41.74369, \n",
        "\t\t\t\t\t\t\t-70.62779],\n",
        "\t\t\t\t\t\t\t{'icon':marker_168_icon}\n",
        "\t\t\t\t\t\t\t);\n",
        "      marker_168.bindPopup(&quot;SSS-MA-PLY-021WL.txt&quot;);\n",
        "      clusteredmarkers.addLayer(marker_168)\n",
        "      \n",
        "      var marker_169_icon = L.AwesomeMarkers.icon({ icon: 'info-sign',markerColor: 'blue',prefix: 'glyphicon',extraClasses: 'fa-rotate-0'});\n",
        "      var marker_169 = L.marker([41.86923, \n",
        "\t\t\t\t\t\t\t-71.38023],\n",
        "\t\t\t\t\t\t\t{'icon':marker_169_icon}\n",
        "\t\t\t\t\t\t\t);\n",
        "      marker_169.bindPopup(&quot;SSS-RI-PRO-030WL.txt&quot;);\n",
        "      clusteredmarkers.addLayer(marker_169)\n",
        "      \n",
        "      var marker_170_icon = L.AwesomeMarkers.icon({ icon: 'info-sign',markerColor: 'blue',prefix: 'glyphicon',extraClasses: 'fa-rotate-0'});\n",
        "      var marker_170 = L.marker([39.6553888889, \n",
        "\t\t\t\t\t\t\t-75.6693611111],\n",
        "\t\t\t\t\t\t\t{'icon':marker_170_icon}\n",
        "\t\t\t\t\t\t\t);\n",
        "      marker_170.bindPopup(&quot;SSS-DE-NEW-009WL.txt&quot;);\n",
        "      clusteredmarkers.addLayer(marker_170)\n",
        "      \n",
        "      var marker_171_icon = L.AwesomeMarkers.icon({ icon: 'info-sign',markerColor: 'blue',prefix: 'glyphicon',extraClasses: 'fa-rotate-0'});\n",
        "      var marker_171 = L.marker([38.5568888889, \n",
        "\t\t\t\t\t\t\t-76.2713333333],\n",
        "\t\t\t\t\t\t\t{'icon':marker_171_icon}\n",
        "\t\t\t\t\t\t\t);\n",
        "      marker_171.bindPopup(&quot;SSS-MD-DOR-009WL.txt&quot;);\n",
        "      clusteredmarkers.addLayer(marker_171)\n",
        "      \n",
        "      var marker_172_icon = L.AwesomeMarkers.icon({ icon: 'info-sign',markerColor: 'blue',prefix: 'glyphicon',extraClasses: 'fa-rotate-0'});\n",
        "      var marker_172 = L.marker([43.653611, \n",
        "\t\t\t\t\t\t\t-70.236389],\n",
        "\t\t\t\t\t\t\t{'icon':marker_172_icon}\n",
        "\t\t\t\t\t\t\t);\n",
        "      marker_172.bindPopup(&quot;SSS-ME-CUM-001WL.txt&quot;);\n",
        "      clusteredmarkers.addLayer(marker_172)\n",
        "      \n",
        "      var marker_173_icon = L.AwesomeMarkers.icon({ icon: 'info-sign',markerColor: 'blue',prefix: 'glyphicon',extraClasses: 'fa-rotate-0'});\n",
        "      var marker_173 = L.marker([38.7604722222, \n",
        "\t\t\t\t\t\t\t-75.2027777778],\n",
        "\t\t\t\t\t\t\t{'icon':marker_173_icon}\n",
        "\t\t\t\t\t\t\t);\n",
        "      marker_173.bindPopup(&quot;SSS-DE-SUS-007WL.txt&quot;);\n",
        "      clusteredmarkers.addLayer(marker_173)\n",
        "      \n",
        "      var marker_174_icon = L.AwesomeMarkers.icon({ icon: 'info-sign',markerColor: 'blue',prefix: 'glyphicon',extraClasses: 'fa-rotate-0'});\n",
        "      var marker_174 = L.marker([41.61965, \n",
        "\t\t\t\t\t\t\t-71.24],\n",
        "\t\t\t\t\t\t\t{'icon':marker_174_icon}\n",
        "\t\t\t\t\t\t\t);\n",
        "      marker_174.bindPopup(&quot;SSS-RI-NEW-014WL.txt&quot;);\n",
        "      clusteredmarkers.addLayer(marker_174)\n",
        "      \n",
        "      var marker_175_icon = L.AwesomeMarkers.icon({ icon: 'info-sign',markerColor: 'blue',prefix: 'glyphicon',extraClasses: 'fa-rotate-0'});\n",
        "      var marker_175 = L.marker([34.3113067975, \n",
        "\t\t\t\t\t\t\t-77.732288228],\n",
        "\t\t\t\t\t\t\t{'icon':marker_175_icon}\n",
        "\t\t\t\t\t\t\t);\n",
        "      marker_175.bindPopup(&quot;SSS-NC-PEN-001WL.txt&quot;);\n",
        "      clusteredmarkers.addLayer(marker_175)\n",
        "      \n",
        "      var marker_176_icon = L.AwesomeMarkers.icon({ icon: 'info-sign',markerColor: 'blue',prefix: 'glyphicon',extraClasses: 'fa-rotate-0'});\n",
        "      var marker_176 = L.marker([40.579998, \n",
        "\t\t\t\t\t\t\t-74.011612],\n",
        "\t\t\t\t\t\t\t{'icon':marker_176_icon}\n",
        "\t\t\t\t\t\t\t);\n",
        "      marker_176.bindPopup(&quot;SSS-NY-KIN-001WL.txt&quot;);\n",
        "      clusteredmarkers.addLayer(marker_176)\n",
        "      \n",
        "      var marker_177_icon = L.AwesomeMarkers.icon({ icon: 'info-sign',markerColor: 'blue',prefix: 'glyphicon',extraClasses: 'fa-rotate-0'});\n",
        "      var marker_177 = L.marker([41.66752, \n",
        "\t\t\t\t\t\t\t-70.08976],\n",
        "\t\t\t\t\t\t\t{'icon':marker_177_icon}\n",
        "\t\t\t\t\t\t\t);\n",
        "      marker_177.bindPopup(&quot;SSS-MA-BAR-027WL.txt&quot;);\n",
        "      clusteredmarkers.addLayer(marker_177)\n",
        "      \n",
        "      var marker_178_icon = L.AwesomeMarkers.icon({ icon: 'info-sign',markerColor: 'blue',prefix: 'glyphicon',extraClasses: 'fa-rotate-0'});\n",
        "      var marker_178 = L.marker([44.422778, \n",
        "\t\t\t\t\t\t\t-68.364167],\n",
        "\t\t\t\t\t\t\t{'icon':marker_178_icon}\n",
        "\t\t\t\t\t\t\t);\n",
        "      marker_178.bindPopup(&quot;SSS-ME-HAN-001WL.txt&quot;);\n",
        "      clusteredmarkers.addLayer(marker_178)\n",
        "      \n",
        "      var marker_179_icon = L.AwesomeMarkers.icon({ icon: 'info-sign',markerColor: 'blue',prefix: 'glyphicon',extraClasses: 'fa-rotate-0'});\n",
        "      var marker_179 = L.marker([41.284278, \n",
        "\t\t\t\t\t\t\t-72.277583],\n",
        "\t\t\t\t\t\t\t{'icon':marker_179_icon}\n",
        "\t\t\t\t\t\t\t);\n",
        "      marker_179.bindPopup(&quot;SSS-CT-NLD-023WL.txt&quot;);\n",
        "      clusteredmarkers.addLayer(marker_179)\n",
        "      \n",
        "      var marker_180_icon = L.AwesomeMarkers.icon({ icon: 'info-sign',markerColor: 'blue',prefix: 'glyphicon',extraClasses: 'fa-rotate-0'});\n",
        "      var marker_180 = L.marker([36.22331111, \n",
        "\t\t\t\t\t\t\t-75.77247778],\n",
        "\t\t\t\t\t\t\t{'icon':marker_180_icon}\n",
        "\t\t\t\t\t\t\t);\n",
        "      marker_180.bindPopup(&quot;SSS-NC-DAR-008WL.txt&quot;);\n",
        "      clusteredmarkers.addLayer(marker_180)\n",
        "      \n",
        "      var marker_181_icon = L.AwesomeMarkers.icon({ icon: 'info-sign',markerColor: 'blue',prefix: 'glyphicon',extraClasses: 'fa-rotate-0'});\n",
        "      var marker_181 = L.marker([35.3473103227, \n",
        "\t\t\t\t\t\t\t-75.5007190495],\n",
        "\t\t\t\t\t\t\t{'icon':marker_181_icon}\n",
        "\t\t\t\t\t\t\t);\n",
        "      marker_181.bindPopup(&quot;SSS-NC-DAR-003WL.txt&quot;);\n",
        "      clusteredmarkers.addLayer(marker_181)\n",
        "      \n",
        "      var marker_182_icon = L.AwesomeMarkers.icon({ icon: 'info-sign',markerColor: 'blue',prefix: 'glyphicon',extraClasses: 'fa-rotate-0'});\n",
        "      var marker_182 = L.marker([40.990695, \n",
        "\t\t\t\t\t\t\t-72.470741],\n",
        "\t\t\t\t\t\t\t{'icon':marker_182_icon}\n",
        "\t\t\t\t\t\t\t);\n",
        "      marker_182.bindPopup(&quot;SSS-NY-SUF-014WL.txt&quot;);\n",
        "      clusteredmarkers.addLayer(marker_182)\n",
        "      \n",
        "      var marker_183_icon = L.AwesomeMarkers.icon({ icon: 'info-sign',markerColor: 'blue',prefix: 'glyphicon',extraClasses: 'fa-rotate-0'});\n",
        "      var marker_183 = L.marker([40.704581, \n",
        "\t\t\t\t\t\t\t-73.988317],\n",
        "\t\t\t\t\t\t\t{'icon':marker_183_icon}\n",
        "\t\t\t\t\t\t\t);\n",
        "      marker_183.bindPopup(&quot;SSS-NY-KIN-002WL.txt&quot;);\n",
        "      clusteredmarkers.addLayer(marker_183)\n",
        "      \n",
        "      var marker_184_icon = L.AwesomeMarkers.icon({ icon: 'info-sign',markerColor: 'blue',prefix: 'glyphicon',extraClasses: 'fa-rotate-0'});\n",
        "      var marker_184 = L.marker([41.55283, \n",
        "\t\t\t\t\t\t\t-70.54864],\n",
        "\t\t\t\t\t\t\t{'icon':marker_184_icon}\n",
        "\t\t\t\t\t\t\t);\n",
        "      marker_184.bindPopup(&quot;SSS-MA-BAR-025WL.txt&quot;);\n",
        "      clusteredmarkers.addLayer(marker_184)\n",
        "      \n",
        "      var marker_185_icon = L.AwesomeMarkers.icon({ icon: 'info-sign',markerColor: 'blue',prefix: 'glyphicon',extraClasses: 'fa-rotate-0'});\n",
        "      var marker_185 = L.marker([40.501881, \n",
        "\t\t\t\t\t\t\t-74.230339],\n",
        "\t\t\t\t\t\t\t{'icon':marker_185_icon}\n",
        "\t\t\t\t\t\t\t);\n",
        "      marker_185.bindPopup(&quot;SSS-NY-RIC-003WL.txt&quot;);\n",
        "      clusteredmarkers.addLayer(marker_185)\n",
        "      \n",
        "      var marker_186_icon = L.AwesomeMarkers.icon({ icon: 'info-sign',markerColor: 'blue',prefix: 'glyphicon',extraClasses: 'fa-rotate-0'});\n",
        "      var marker_186 = L.marker([40.9991, \n",
        "\t\t\t\t\t\t\t-73.65944],\n",
        "\t\t\t\t\t\t\t{'icon':marker_186_icon}\n",
        "\t\t\t\t\t\t\t);\n",
        "      marker_186.bindPopup(&quot;SSS-CT-FFD-001WL.txt&quot;);\n",
        "      clusteredmarkers.addLayer(marker_186)\n",
        "      \n",
        "      var marker_187_icon = L.AwesomeMarkers.icon({ icon: 'info-sign',markerColor: 'blue',prefix: 'glyphicon',extraClasses: 'fa-rotate-0'});\n",
        "      var marker_187 = L.marker([40.900482, \n",
        "\t\t\t\t\t\t\t-73.353035],\n",
        "\t\t\t\t\t\t\t{'icon':marker_187_icon}\n",
        "\t\t\t\t\t\t\t);\n",
        "      marker_187.bindPopup(&quot;SSS-NY-SUF-011WL.txt&quot;);\n",
        "      clusteredmarkers.addLayer(marker_187)\n",
        "      \n",
        "      var marker_188_icon = L.AwesomeMarkers.icon({ icon: 'info-sign',markerColor: 'blue',prefix: 'glyphicon',extraClasses: 'fa-rotate-0'});\n",
        "      var marker_188 = L.marker([38.0764166667, \n",
        "\t\t\t\t\t\t\t-75.3643888889],\n",
        "\t\t\t\t\t\t\t{'icon':marker_188_icon}\n",
        "\t\t\t\t\t\t\t);\n",
        "      marker_188.bindPopup(&quot;SSS-MD-WOR-026WL.txt&quot;);\n",
        "      clusteredmarkers.addLayer(marker_188)\n",
        "      \n",
        "      var marker_189_icon = L.AwesomeMarkers.icon({ icon: 'info-sign',markerColor: 'blue',prefix: 'glyphicon',extraClasses: 'fa-rotate-0'});\n",
        "      var marker_189 = L.marker([40.593884, \n",
        "\t\t\t\t\t\t\t-74.059845],\n",
        "\t\t\t\t\t\t\t{'icon':marker_189_icon}\n",
        "\t\t\t\t\t\t\t);\n",
        "      marker_189.bindPopup(&quot;SSS-NY-RIC-001WL.txt&quot;);\n",
        "      clusteredmarkers.addLayer(marker_189)\n",
        "      \n",
        "      var marker_190_icon = L.AwesomeMarkers.icon({ icon: 'info-sign',markerColor: 'blue',prefix: 'glyphicon',extraClasses: 'fa-rotate-0'});\n",
        "      var marker_190 = L.marker([41.62131, \n",
        "\t\t\t\t\t\t\t-70.39557],\n",
        "\t\t\t\t\t\t\t{'icon':marker_190_icon}\n",
        "\t\t\t\t\t\t\t);\n",
        "      marker_190.bindPopup(&quot;SSS-MA-BAR-026WL.txt&quot;);\n",
        "      clusteredmarkers.addLayer(marker_190)\n",
        "      \n",
        "      var marker_191_icon = L.AwesomeMarkers.icon({ icon: 'info-sign',markerColor: 'blue',prefix: 'glyphicon',extraClasses: 'fa-rotate-0'});\n",
        "      var marker_191 = L.marker([41.71486, \n",
        "\t\t\t\t\t\t\t-70.6168],\n",
        "\t\t\t\t\t\t\t{'icon':marker_191_icon}\n",
        "\t\t\t\t\t\t\t);\n",
        "      marker_191.bindPopup(&quot;SSS-MA-BAR-022WL.txt&quot;);\n",
        "      clusteredmarkers.addLayer(marker_191)\n",
        "      \n",
        "      var marker_192_icon = L.AwesomeMarkers.icon({ icon: 'info-sign',markerColor: 'blue',prefix: 'glyphicon',extraClasses: 'fa-rotate-0'});\n",
        "      var marker_192 = L.marker([40.877911, \n",
        "\t\t\t\t\t\t\t-73.530571],\n",
        "\t\t\t\t\t\t\t{'icon':marker_192_icon}\n",
        "\t\t\t\t\t\t\t);\n",
        "      marker_192.bindPopup(&quot;SSS-NY-NAS-001WL.txt&quot;);\n",
        "      clusteredmarkers.addLayer(marker_192)\n",
        "      \n",
        "      var marker_193_icon = L.AwesomeMarkers.icon({ icon: 'info-sign',markerColor: 'blue',prefix: 'glyphicon',extraClasses: 'fa-rotate-0'});\n",
        "      var marker_193 = L.marker([40.946167, \n",
        "\t\t\t\t\t\t\t-73.072273],\n",
        "\t\t\t\t\t\t\t{'icon':marker_193_icon}\n",
        "\t\t\t\t\t\t\t);\n",
        "      marker_193.bindPopup(&quot;SSS-NY-SUF-003WL.txt&quot;);\n",
        "      clusteredmarkers.addLayer(marker_193)\n",
        "      \n",
        "      var marker_194_icon = L.AwesomeMarkers.icon({ icon: 'info-sign',markerColor: 'blue',prefix: 'glyphicon',extraClasses: 'fa-rotate-0'});\n",
        "      var marker_194 = L.marker([38.4695555556, \n",
        "\t\t\t\t\t\t\t-76.2933333333],\n",
        "\t\t\t\t\t\t\t{'icon':marker_194_icon}\n",
        "\t\t\t\t\t\t\t);\n",
        "      marker_194.bindPopup(&quot;SSS-MD-DOR-034WL.txt&quot;);\n",
        "      clusteredmarkers.addLayer(marker_194)\n",
        "      \n",
        "      var marker_195_icon = L.AwesomeMarkers.icon({ icon: 'info-sign',markerColor: 'blue',prefix: 'glyphicon',extraClasses: 'fa-rotate-0'});\n",
        "      var marker_195 = L.marker([34.2141797537, \n",
        "\t\t\t\t\t\t\t-77.7883392334],\n",
        "\t\t\t\t\t\t\t{'icon':marker_195_icon}\n",
        "\t\t\t\t\t\t\t);\n",
        "      marker_195.bindPopup(&quot;SSS-NC-NHA-006WL.txt&quot;);\n",
        "      clusteredmarkers.addLayer(marker_195)\n",
        "      \n",
        "      //add the clustered markers to the group anyway\n",
        "      map.addLayer(clusteredmarkers);\n",
        "\n",
        "      \n",
        "\n",
        "      \n",
        "      var circle_1 = L.circle([14.90, -58.50], 10000, {\n",
        "                            color: '#000000',\n",
        "                            fillColor: '#4AD200',\n",
        "                            fillOpacity: 0.6\n",
        "                            });\n",
        "      circle_1.bindPopup(&quot;08/20/2011 : 23 GMT <br> Tropical Storm&quot;);\n",
        "      map.addLayer(circle_1)\n",
        "      \n",
        "      var circle_2 = L.circle([15.30, -59.90], 10000, {\n",
        "                            color: '#000000',\n",
        "                            fillColor: '#4AD200',\n",
        "                            fillOpacity: 0.6\n",
        "                            });\n",
        "      circle_2.bindPopup(&quot;08/21/2011 : 3 GMT <br> Tropical Storm&quot;);\n",
        "      map.addLayer(circle_2)\n",
        "      \n",
        "      var circle_3 = L.circle([16.40, -61.30], 10000, {\n",
        "                            color: '#000000',\n",
        "                            fillColor: '#4AD200',\n",
        "                            fillOpacity: 0.6\n",
        "                            });\n",
        "      circle_3.bindPopup(&quot;08/21/2011 : 9 GMT <br> Tropical Storm&quot;);\n",
        "      map.addLayer(circle_3)\n",
        "      \n",
        "      var circle_4 = L.circle([17.00, -63.20], 10000, {\n",
        "                            color: '#000000',\n",
        "                            fillColor: '#4AD200',\n",
        "                            fillOpacity: 0.6\n",
        "                            });\n",
        "      circle_4.bindPopup(&quot;08/21/2011 : 15 GMT <br> Tropical Storm&quot;);\n",
        "      map.addLayer(circle_4)\n",
        "      \n",
        "      var circle_5 = L.circle([17.70, -64.40], 10000, {\n",
        "                            color: '#000000',\n",
        "                            fillColor: '#4AD200',\n",
        "                            fillOpacity: 0.6\n",
        "                            });\n",
        "      circle_5.bindPopup(&quot;08/21/2011 : 21 GMT <br> Tropical Storm&quot;);\n",
        "      map.addLayer(circle_5)\n",
        "      \n",
        "      var circle_6 = L.circle([17.90, -65.50], 10000, {\n",
        "                            color: '#000000',\n",
        "                            fillColor: '#4AD200',\n",
        "                            fillOpacity: 0.6\n",
        "                            });\n",
        "      circle_6.bindPopup(&quot;08/22/2011 : 3 GMT <br> Tropical Storm&quot;);\n",
        "      map.addLayer(circle_6)\n",
        "      \n",
        "      var circle_7 = L.circle([18.40, -66.40], 10000, {\n",
        "                            color: '#000000',\n",
        "                            fillColor: '#CFD900',\n",
        "                            fillOpacity: 0.6\n",
        "                            });\n",
        "      circle_7.bindPopup(&quot;08/22/2011 : 9 GMT <br> Category 1 Hurricane&quot;);\n",
        "      map.addLayer(circle_7)\n",
        "      \n",
        "      var circle_8 = L.circle([19.20, -67.50], 10000, {\n",
        "                            color: '#000000',\n",
        "                            fillColor: '#CFD900',\n",
        "                            fillOpacity: 0.6\n",
        "                            });\n",
        "      circle_8.bindPopup(&quot;08/22/2011 : 15 GMT <br> Category 1 Hurricane&quot;);\n",
        "      map.addLayer(circle_8)\n",
        "      \n",
        "      var circle_9 = L.circle([19.50, -68.60], 10000, {\n",
        "                            color: '#000000',\n",
        "                            fillColor: '#CFD900',\n",
        "                            fillOpacity: 0.6\n",
        "                            });\n",
        "      circle_9.bindPopup(&quot;08/22/2011 : 21 GMT <br> Category 1 Hurricane&quot;);\n",
        "      map.addLayer(circle_9)\n",
        "      \n",
        "      var circle_10 = L.circle([19.70, -68.70], 10000, {\n",
        "                            color: '#000000',\n",
        "                            fillColor: '#E16400',\n",
        "                            fillOpacity: 0.6\n",
        "                            });\n",
        "      circle_10.bindPopup(&quot;08/23/2011 : 0 GMT <br> Category 2 Hurricane&quot;);\n",
        "      map.addLayer(circle_10)\n",
        "      \n",
        "      var circle_11 = L.circle([19.90, -69.20], 10000, {\n",
        "                            color: '#000000',\n",
        "                            fillColor: '#E16400',\n",
        "                            fillOpacity: 0.6\n",
        "                            });\n",
        "      circle_11.bindPopup(&quot;08/23/2011 : 3 GMT <br> Category 2 Hurricane&quot;);\n",
        "      map.addLayer(circle_11)\n",
        "      \n",
        "      var circle_12 = L.circle([20.30, -70.10], 10000, {\n",
        "                            color: '#000000',\n",
        "                            fillColor: '#E16400',\n",
        "                            fillOpacity: 0.6\n",
        "                            });\n",
        "      circle_12.bindPopup(&quot;08/23/2011 : 9 GMT <br> Category 2 Hurricane&quot;);\n",
        "      map.addLayer(circle_12)\n",
        "      \n",
        "      var circle_13 = L.circle([20.50, -71.00], 10000, {\n",
        "                            color: '#000000',\n",
        "                            fillColor: '#E16400',\n",
        "                            fillOpacity: 0.6\n",
        "                            });\n",
        "      circle_13.bindPopup(&quot;08/23/2011 : 15 GMT <br> Category 2 Hurricane&quot;);\n",
        "      map.addLayer(circle_13)\n",
        "      \n",
        "      var circle_14 = L.circle([20.90, -71.50], 10000, {\n",
        "                            color: '#000000',\n",
        "                            fillColor: '#CFD900',\n",
        "                            fillOpacity: 0.6\n",
        "                            });\n",
        "      circle_14.bindPopup(&quot;08/23/2011 : 21 GMT <br> Category 1 Hurricane&quot;);\n",
        "      map.addLayer(circle_14)\n",
        "      \n",
        "      var circle_15 = L.circle([21.30, -72.40], 10000, {\n",
        "                            color: '#000000',\n",
        "                            fillColor: '#CFD900',\n",
        "                            fillOpacity: 0.6\n",
        "                            });\n",
        "      circle_15.bindPopup(&quot;08/24/2011 : 3 GMT <br> Category 1 Hurricane&quot;);\n",
        "      map.addLayer(circle_15)\n",
        "      \n",
        "      var circle_16 = L.circle([21.60, -72.90], 10000, {\n",
        "                            color: '#000000',\n",
        "                            fillColor: '#E16400',\n",
        "                            fillOpacity: 0.6\n",
        "                            });\n",
        "      circle_16.bindPopup(&quot;08/24/2011 : 9 GMT <br> Category 2 Hurricane&quot;);\n",
        "      map.addLayer(circle_16)\n",
        "      \n",
        "      var circle_17 = L.circle([22.40, -73.90], 10000, {\n",
        "                            color: '#000000',\n",
        "                            fillColor: '#ff0000',\n",
        "                            fillOpacity: 0.6\n",
        "                            });\n",
        "      circle_17.bindPopup(&quot;08/24/2011 : 15 GMT <br> Category 3 Hurricane&quot;);\n",
        "      map.addLayer(circle_17)\n",
        "      \n",
        "      var circle_18 = L.circle([23.10, -74.70], 10000, {\n",
        "                            color: '#000000',\n",
        "                            fillColor: '#ff0000',\n",
        "                            fillOpacity: 0.6\n",
        "                            });\n",
        "      circle_18.bindPopup(&quot;08/24/2011 : 21 GMT <br> Category 3 Hurricane&quot;);\n",
        "      map.addLayer(circle_18)\n",
        "      \n",
        "      var circle_19 = L.circle([23.80, -75.40], 10000, {\n",
        "                            color: '#000000',\n",
        "                            fillColor: '#ff0000',\n",
        "                            fillOpacity: 0.6\n",
        "                            });\n",
        "      circle_19.bindPopup(&quot;08/25/2011 : 3 GMT <br> Category 3 Hurricane&quot;);\n",
        "      map.addLayer(circle_19)\n",
        "      \n",
        "      var circle_20 = L.circle([24.60, -76.20], 10000, {\n",
        "                            color: '#000000',\n",
        "                            fillColor: '#ff0000',\n",
        "                            fillOpacity: 0.6\n",
        "                            });\n",
        "      circle_20.bindPopup(&quot;08/25/2011 : 9 GMT <br> Category 3 Hurricane&quot;);\n",
        "      map.addLayer(circle_20)\n",
        "      \n",
        "      var circle_21 = L.circle([25.90, -76.80], 10000, {\n",
        "                            color: '#000000',\n",
        "                            fillColor: '#ff0000',\n",
        "                            fillOpacity: 0.6\n",
        "                            });\n",
        "      circle_21.bindPopup(&quot;08/25/2011 : 15 GMT <br> Category 3 Hurricane&quot;);\n",
        "      map.addLayer(circle_21)\n",
        "      \n",
        "      var circle_22 = L.circle([27.00, -77.30], 10000, {\n",
        "                            color: '#000000',\n",
        "                            fillColor: '#ff0000',\n",
        "                            fillOpacity: 0.6\n",
        "                            });\n",
        "      circle_22.bindPopup(&quot;08/25/2011 : 21 GMT <br> Category 3 Hurricane&quot;);\n",
        "      map.addLayer(circle_22)\n",
        "      \n",
        "      var circle_23 = L.circle([28.30, -77.30], 10000, {\n",
        "                            color: '#000000',\n",
        "                            fillColor: '#ff0000',\n",
        "                            fillOpacity: 0.6\n",
        "                            });\n",
        "      circle_23.bindPopup(&quot;08/26/2011 : 3 GMT <br> Category 3 Hurricane&quot;);\n",
        "      map.addLayer(circle_23)\n",
        "      \n",
        "      var circle_24 = L.circle([29.30, -77.20], 10000, {\n",
        "                            color: '#000000',\n",
        "                            fillColor: '#E16400',\n",
        "                            fillOpacity: 0.6\n",
        "                            });\n",
        "      circle_24.bindPopup(&quot;08/26/2011 : 9 GMT <br> Category 2 Hurricane&quot;);\n",
        "      map.addLayer(circle_24)\n",
        "      \n",
        "      var circle_25 = L.circle([30.70, -77.30], 10000, {\n",
        "                            color: '#000000',\n",
        "                            fillColor: '#E16400',\n",
        "                            fillOpacity: 0.6\n",
        "                            });\n",
        "      circle_25.bindPopup(&quot;08/26/2011 : 15 GMT <br> Category 2 Hurricane&quot;);\n",
        "      map.addLayer(circle_25)\n",
        "      \n",
        "      var circle_26 = L.circle([31.70, -77.40], 10000, {\n",
        "                            color: '#000000',\n",
        "                            fillColor: '#E16400',\n",
        "                            fillOpacity: 0.6\n",
        "                            });\n",
        "      circle_26.bindPopup(&quot;08/26/2011 : 21 GMT <br> Category 2 Hurricane&quot;);\n",
        "      map.addLayer(circle_26)\n",
        "      \n",
        "      var circle_27 = L.circle([32.60, -76.90], 10000, {\n",
        "                            color: '#000000',\n",
        "                            fillColor: '#E16400',\n",
        "                            fillOpacity: 0.6\n",
        "                            });\n",
        "      circle_27.bindPopup(&quot;08/27/2011 : 3 GMT <br> Category 2 Hurricane&quot;);\n",
        "      map.addLayer(circle_27)\n",
        "      \n",
        "      var circle_28 = L.circle([34.10, -76.50], 10000, {\n",
        "                            color: '#000000',\n",
        "                            fillColor: '#CFD900',\n",
        "                            fillOpacity: 0.6\n",
        "                            });\n",
        "      circle_28.bindPopup(&quot;08/27/2011 : 9 GMT <br> Category 1 Hurricane&quot;);\n",
        "      map.addLayer(circle_28)\n",
        "      \n",
        "      var circle_29 = L.circle([35.20, -76.40], 10000, {\n",
        "                            color: '#000000',\n",
        "                            fillColor: '#CFD900',\n",
        "                            fillOpacity: 0.6\n",
        "                            });\n",
        "      circle_29.bindPopup(&quot;08/27/2011 : 15 GMT <br> Category 1 Hurricane&quot;);\n",
        "      map.addLayer(circle_29)\n",
        "      \n",
        "      var circle_30 = L.circle([36.20, -76.00], 10000, {\n",
        "                            color: '#000000',\n",
        "                            fillColor: '#CFD900',\n",
        "                            fillOpacity: 0.6\n",
        "                            });\n",
        "      circle_30.bindPopup(&quot;08/27/2011 : 21 GMT <br> Category 1 Hurricane&quot;);\n",
        "      map.addLayer(circle_30)\n",
        "      \n",
        "      var circle_31 = L.circle([37.30, -75.40], 10000, {\n",
        "                            color: '#000000',\n",
        "                            fillColor: '#CFD900',\n",
        "                            fillOpacity: 0.6\n",
        "                            });\n",
        "      circle_31.bindPopup(&quot;08/28/2011 : 3 GMT <br> Category 1 Hurricane&quot;);\n",
        "      map.addLayer(circle_31)\n",
        "      \n",
        "      var circle_32 = L.circle([39.20, -74.50], 10000, {\n",
        "                            color: '#000000',\n",
        "                            fillColor: '#CFD900',\n",
        "                            fillOpacity: 0.6\n",
        "                            });\n",
        "      circle_32.bindPopup(&quot;08/28/2011 : 9 GMT <br> Category 1 Hurricane&quot;);\n",
        "      map.addLayer(circle_32)\n",
        "      \n",
        "      var circle_33 = L.circle([41.40, -73.70], 10000, {\n",
        "                            color: '#000000',\n",
        "                            fillColor: '#4AD200',\n",
        "                            fillOpacity: 0.6\n",
        "                            });\n",
        "      circle_33.bindPopup(&quot;08/28/2011 : 15 GMT <br> Tropical Storm&quot;);\n",
        "      map.addLayer(circle_33)\n",
        "      \n",
        "      var circle_34 = L.circle([42.70, -72.80], 10000, {\n",
        "                            color: '#000000',\n",
        "                            fillColor: '#4AD200',\n",
        "                            fillOpacity: 0.6\n",
        "                            });\n",
        "      circle_34.bindPopup(&quot;08/28/2011 : 21 GMT <br> Tropical Storm&quot;);\n",
        "      map.addLayer(circle_34)\n",
        "      \n",
        "      var circle_35 = L.circle([45.30, -71.30], 10000, {\n",
        "                            color: '#000000',\n",
        "                            fillColor: '#4AD200',\n",
        "                            fillOpacity: 0.6\n",
        "                            });\n",
        "      circle_35.bindPopup(&quot;08/29/2011 : 3 GMT <br> Tropical Storm&quot;);\n",
        "      map.addLayer(circle_35)\n",
        "      \n",
        "\n",
        "      \n",
        "\n",
        "      \n",
        "\n",
        "      \n",
        "\n",
        "   </script>\n",
        "\n",
        "</body>\" style=\"width: 100%; height: 500px; border: none\"></iframe>"
       ],
       "metadata": {},
       "output_type": "pyout",
       "prompt_number": 11,
       "text": [
        "<IPython.core.display.HTML at 0x7f4dbb6c90d0>"
       ]
      }
     ],
     "prompt_number": 11
    },
    {
     "cell_type": "markdown",
     "metadata": {},
     "source": [
      "## Generate Plot Of Maximum Water Levels from each gage"
     ]
    },
    {
     "cell_type": "code",
     "collapsed": false,
     "input": [
      "dt, dv = [], []\n",
      "\n",
      "fig, ax = plt.subplots(figsize=(16, 3))\n",
      "fig.suptitle('Max Water Level (ft), 2011', fontsize=14)\n",
      "\n",
      "for key, value in full_data.iteritems():\n",
      "    df = value['data']                     \n",
      "    z = df['elevation'].values\n",
      "    \n",
      "    idx = np.argmax(z)\n",
      "    val = z[idx]\n",
      "    t = df.index[idx]\n",
      "    \n",
      "    dt.append(t)\n",
      "    dv.append(val)\n",
      "    \n",
      "    data_dict = {'elevation': dv,\n",
      "                 'dates': dt}\n",
      "    \n",
      "    df = pd.DataFrame(data=data_dict, index=dt, columns=['elevation', 'dates'])   \n",
      "    \n",
      "    ax.scatter(df.index, df['elevation'])\n",
      "    ax.set_xlabel('Date', fontsize=14)\n",
      "    ax.set_ylabel('Water Level (ft)', fontsize=14) \n",
      "\n",
      "\n",
      "ax.set_ylim(0, 20)\n",
      "ax.set_xlim(md.date2num(datetime(2011, 8, 25, 20)),\n",
      "            md.date2num(datetime(2011, 8, 30)))\n",
      "ax.xaxis.set_major_formatter(md.DateFormatter('%B,%d\\n%H:%M'))"
     ],
     "language": "python",
     "metadata": {},
     "outputs": [
      {
       "metadata": {},
       "output_type": "display_data",
       "png": "[encoded data removed]",
       "text": [
        "<matplotlib.figure.Figure at 0x7f4dbb6c93d0>"
       ]
      }
     ],
     "prompt_number": 12
    },
    {
     "cell_type": "markdown",
     "metadata": {},
     "source": [
      "## Generate Plot of maximum water level and its location"
     ]
    },
    {
     "cell_type": "code",
     "collapsed": false,
     "input": [
      "mpl.rcParams['legend.fontsize'] = 10\n",
      "\n",
      "x, y, zz, bpz = [], [], [], []\n",
      "\n",
      "fig, ax = plt.subplots(figsize=(10, 10))\n",
      "\n",
      "for key, value in full_data.iteritems():\n",
      "    df = value['data']\n",
      "    z = df['elevation'].values\n",
      "    bp = df['nearest_barometric_sensor_psi'].values\n",
      "    lon = value['meta']['lon']\n",
      "    lat = value['meta']['lat']\n",
      "    \n",
      "    idx = np.argmax(z)\n",
      "    bpz.append(bp[idx])\n",
      "    zz.append(z[idx])\n",
      "    x.append(lon)\n",
      "    y.append(lat)\n",
      "\n",
      "bpz = np.array(bpz) * 10.\n",
      "pts = ax.scatter(x, y, c=zz, s=bpz)\n",
      "ax.set_xlabel('Lon')\n",
      "ax.set_ylabel('Lat')\n",
      "title = (\"Plot Showing Locations of Maximum Water Level\\n\"\n",
      "         \"Color coded by Maximum water level (ft)\\n\"\n",
      "         \"Sized by barometric pressure (psi)\")\n",
      "ax.set_title(title)\n",
      "cb = fig.colorbar(pts)"
     ],
     "language": "python",
     "metadata": {},
     "outputs": [
      {
       "metadata": {},
       "output_type": "display_data",
       "png": "[encoded data removed]",
       "text": [
        "<matplotlib.figure.Figure at 0x7f4dbb3c38d0>"
       ]
      }
     ],
     "prompt_number": 13
    }
   ],
   "metadata": {}
  }
 ]
}