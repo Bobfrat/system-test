{
 "metadata": {
  "name": "",
  "signature": "sha256:1ab937703161022d4154c6d379e74c0d1ff190ff0bd9e8acf875d742b62f93f9"
 },
 "nbformat": 3,
 "nbformat_minor": 0,
 "worksheets": [
  {
   "cells": [
    {
     "cell_type": "markdown",
     "metadata": {},
     "source": [
      "># IOOS System Test: Rapid Deployment gages from USGS\n",
      "\n",
      "###Can we obtain water level data from the rapid deployment gages, deployment for Hurricane Irene? \n",
      "This notebook is based on IOOS System Test: Inundation\n",
      "\n",
      "#### Methodology:\n",
      "\n",
      "* USGS gage data (ASCII Text Files) obtained from http://ga.water.usgs.gov/flood/hurricane/irene/sites/datafiles/ and 90% of data zipped up for use in the notebook (large files were removed for efficiency)\n",
      "* Station data Automatically gets unzipped\n",
      "* Process data files (195 stations), and store data in dictionary for access\n",
      "* Plot Water level data for the New Jersey area\n",
      "* Plot Barometric pressure data for the New Jersey area\n",
      "* Plot Gage Locations on a map, overlaid with the Hurricane Irene track line\n",
      "* Plot time series of maximum waterlevel\n",
      "* Plot locations of maximum waterlevel"
     ]
    },
    {
     "cell_type": "markdown",
     "metadata": {},
     "source": [
      "### import required libraries"
     ]
    },
    {
     "cell_type": "code",
     "collapsed": false,
     "input": [
      "import re\n",
      "import os\n",
      "import csv\n",
      "import uuid\n",
      "import zipfile\n",
      "\n",
      "from datetime import datetime\n",
      "\n",
      "import folium\n",
      "import numpy as np\n",
      "import pandas as pd\n",
      "import matplotlib as mpl\n",
      "import matplotlib.dates as md\n",
      "import matplotlib.pyplot as plt\n",
      "\n",
      "from IPython.display import HTML, Javascript, display\n",
      "\n",
      "from utilities import css_styles, inline_map\n",
      "css_styles()"
     ],
     "language": "python",
     "metadata": {},
     "outputs": [],
     "prompt_number": 115
    },
    {
     "cell_type": "markdown",
     "metadata": {},
     "source": [
      "<div class=\"success\"><strong>Extract Data </strong> - Does the data dir exist, if not extract it </div>"
     ]
    },
    {
     "cell_type": "code",
     "collapsed": false,
     "input": [
      "def unzip(source_filename, dest_dir):\n",
      "    with zipfile.ZipFile(source_filename) as zf:\n",
      "        zf.extractall(dest_dir)"
     ],
     "language": "python",
     "metadata": {},
     "outputs": [],
     "prompt_number": 116
    },
    {
     "cell_type": "code",
     "collapsed": false,
     "input": [
      "if os.path.isdir(\"data_files\"):\n",
      "    pass\n",
      "else:\n",
      "    print(\"Data Dir does not exist... Extracting.\")\n",
      "    unzip('sample_data_files.zip', os.getcwd())"
     ],
     "language": "python",
     "metadata": {},
     "outputs": [],
     "prompt_number": 117
    },
    {
     "cell_type": "code",
     "collapsed": false,
     "input": [
      "files = os.listdir('data_files') \n",
      "print(\"Water Level Files: %s\" % len(files))"
     ],
     "language": "python",
     "metadata": {},
     "outputs": [
      {
       "output_type": "stream",
       "stream": "stdout",
       "text": [
        "Water Level Files: 195\n"
       ]
      }
     ],
     "prompt_number": 118
    },
    {
     "cell_type": "markdown",
     "metadata": {},
     "source": [
      "<div class=\"info\"><strong>Process Data </strong> - Read the data files and create a dict of the fields </div>"
     ]
    },
    {
     "cell_type": "code",
     "collapsed": false,
     "input": [
      "def parse_metadata(fname):\n",
      "    meta_data = {}\n",
      "    non_decimal = re.compile(r'[^\\d.]+')\n",
      "    fields = {'Sensor location latitude': 'lat',\n",
      "              'Sensor location longitude': 'lon',\n",
      "              'Site id =': 'name',\n",
      "              'Sensor elevation above NAVD 88 =': 'elevation',\n",
      "              'Barometric sensor site (source of bp) =': 'bp_source',\n",
      "              'Lowest recordable water elevation is': 'lowest_wl'}\n",
      "    with open(os.path.join('data_files', fname)) as f:\n",
      "        content = f.readlines()\n",
      "        for k, ln in enumerate(content):\n",
      "            content[k] = ln.strip()\n",
      "            if content[k].startswith('#'):\n",
      "                for fd in fields:\n",
      "                    if fd in content[k]:\n",
      "                        if fields[fd] == 'name':\n",
      "                            meta_data[fields[fd]] = content[k].split(fd)[-1]\n",
      "                        else:\n",
      "                            val = (content[k].split(fd)[-1])\n",
      "                            val = float(non_decimal.sub('', val))\n",
      "                            meta_data[fields[fd]] = val\n",
      "                        if fields[fd] == 'lon':\n",
      "                            meta_data[fields[fd]] = -meta_data[fields[fd]]\n",
      "    return meta_data"
     ],
     "language": "python",
     "metadata": {},
     "outputs": []
    },
    {
     "cell_type": "code",
     "collapsed": false,
     "input": [
      "divid = str(uuid.uuid4())\n",
      "\n",
      "pb = HTML(\"\"\"\n",
      "<div style=\"border: 1px solid black; width:500px\">\n",
      "  <div id=\"%s\" style=\"background-color:blue; width:0%%\">&nbsp;</div>\n",
      "</div> \n",
      "\"\"\" % divid)\n",
      "\n",
      "display(pb)\n",
      "full_data = {}\n",
      "for count, fname in enumerate(files):\n",
      "    meta_data = parse_metadata(fname)\n",
      "    kw = dict(parse_dates=True, sep='\\t', skiprows=29, index_col=0)\n",
      "    actual_data = pd.read_csv(os.path.join('data_files', fname), **kw)\n",
      "    full_data[fname] = {'meta': meta_data,\n",
      "                        'data': actual_data}\n",
      "    \n",
      "    percent_complete = ((float(count+1) / float(len(files))) * 100.)\n",
      "    display(Javascript(\"$('div#%s').width('%i%%')\" %\n",
      "                       (divid, int(percent_complete))))"
     ],
     "language": "python",
     "metadata": {},
     "outputs": [
      {
       "html": [
        "\n",
        "<div style=\"border: 1px solid black; width:500px\">\n",
        "  <div id=\"4094f337-272d-4da6-a4d9-17231f3de08a\" style=\"background-color:blue; width:0%\">&nbsp;</div>\n",
        "</div> \n"
       ],
       "metadata": {},
       "output_type": "display_data",
       "text": [
        "<IPython.core.display.HTML at 0x118fdb710>"
       ]
      },
      {
       "javascript": [
        "$('div#4094f337-272d-4da6-a4d9-17231f3de08a').width('0%')"
       ],
       "metadata": {},
       "output_type": "display_data",
       "text": [
        "<IPython.core.display.Javascript at 0x10e3b38d0>"
       ]
      },
      {
       "javascript": [
        "$('div#4094f337-272d-4da6-a4d9-17231f3de08a').width('1%')"
       ],
       "metadata": {},
       "output_type": "display_data",
       "text": [
        "<IPython.core.display.Javascript at 0x115dca810>"
       ]
      },
      {
       "javascript": [
        "$('div#4094f337-272d-4da6-a4d9-17231f3de08a').width('1%')"
       ],
       "metadata": {},
       "output_type": "display_data",
       "text": [
        "<IPython.core.display.Javascript at 0x116bd9650>"
       ]
      },
      {
       "javascript": [
        "$('div#4094f337-272d-4da6-a4d9-17231f3de08a').width('2%')"
       ],
       "metadata": {},
       "output_type": "display_data",
       "text": [
        "<IPython.core.display.Javascript at 0x118a2df10>"
       ]
      },
      {
       "javascript": [
        "$('div#4094f337-272d-4da6-a4d9-17231f3de08a').width('2%')"
       ],
       "metadata": {},
       "output_type": "display_data",
       "text": [
        "<IPython.core.display.Javascript at 0x1189dd090>"
       ]
      },
      {
       "javascript": [
        "$('div#4094f337-272d-4da6-a4d9-17231f3de08a').width('3%')"
       ],
       "metadata": {},
       "output_type": "display_data",
       "text": [
        "<IPython.core.display.Javascript at 0x100532a50>"
       ]
      },
      {
       "javascript": [
        "$('div#4094f337-272d-4da6-a4d9-17231f3de08a').width('3%')"
       ],
       "metadata": {},
       "output_type": "display_data",
       "text": [
        "<IPython.core.display.Javascript at 0x118709c90>"
       ]
      },
      {
       "javascript": [
        "$('div#4094f337-272d-4da6-a4d9-17231f3de08a').width('4%')"
       ],
       "metadata": {},
       "output_type": "display_data",
       "text": [
        "<IPython.core.display.Javascript at 0x118709e50>"
       ]
      },
      {
       "javascript": [
        "$('div#4094f337-272d-4da6-a4d9-17231f3de08a').width('4%')"
       ],
       "metadata": {},
       "output_type": "display_data",
       "text": [
        "<IPython.core.display.Javascript at 0x118709d90>"
       ]
      },
      {
       "javascript": [
        "$('div#4094f337-272d-4da6-a4d9-17231f3de08a').width('5%')"
       ],
       "metadata": {},
       "output_type": "display_data",
       "text": [
        "<IPython.core.display.Javascript at 0x118709e10>"
       ]
      },
      {
       "javascript": [
        "$('div#4094f337-272d-4da6-a4d9-17231f3de08a').width('5%')"
       ],
       "metadata": {},
       "output_type": "display_data",
       "text": [
        "<IPython.core.display.Javascript at 0x116e1f690>"
       ]
      },
      {
       "javascript": [
        "$('div#4094f337-272d-4da6-a4d9-17231f3de08a').width('6%')"
       ],
       "metadata": {},
       "output_type": "display_data",
       "text": [
        "<IPython.core.display.Javascript at 0x116e1f090>"
       ]
      },
      {
       "javascript": [
        "$('div#4094f337-272d-4da6-a4d9-17231f3de08a').width('6%')"
       ],
       "metadata": {},
       "output_type": "display_data",
       "text": [
        "<IPython.core.display.Javascript at 0x10d6de950>"
       ]
      },
      {
       "javascript": [
        "$('div#4094f337-272d-4da6-a4d9-17231f3de08a').width('7%')"
       ],
       "metadata": {},
       "output_type": "display_data",
       "text": [
        "<IPython.core.display.Javascript at 0x10d6de0d0>"
       ]
      },
      {
       "javascript": [
        "$('div#4094f337-272d-4da6-a4d9-17231f3de08a').width('7%')"
       ],
       "metadata": {},
       "output_type": "display_data",
       "text": [
        "<IPython.core.display.Javascript at 0x10d6de810>"
       ]
      },
      {
       "javascript": [
        "$('div#4094f337-272d-4da6-a4d9-17231f3de08a').width('8%')"
       ],
       "metadata": {},
       "output_type": "display_data",
       "text": [
        "<IPython.core.display.Javascript at 0x10d6de1d0>"
       ]
      },
      {
       "javascript": [
        "$('div#4094f337-272d-4da6-a4d9-17231f3de08a').width('8%')"
       ],
       "metadata": {},
       "output_type": "display_data",
       "text": [
        "<IPython.core.display.Javascript at 0x10d6dec50>"
       ]
      },
      {
       "javascript": [
        "$('div#4094f337-272d-4da6-a4d9-17231f3de08a').width('9%')"
       ],
       "metadata": {},
       "output_type": "display_data",
       "text": [
        "<IPython.core.display.Javascript at 0x10d6de9d0>"
       ]
      },
      {
       "javascript": [
        "$('div#4094f337-272d-4da6-a4d9-17231f3de08a').width('9%')"
       ],
       "metadata": {},
       "output_type": "display_data",
       "text": [
        "<IPython.core.display.Javascript at 0x10d6de350>"
       ]
      },
      {
       "javascript": [
        "$('div#4094f337-272d-4da6-a4d9-17231f3de08a').width('10%')"
       ],
       "metadata": {},
       "output_type": "display_data",
       "text": [
        "<IPython.core.display.Javascript at 0x118709e50>"
       ]
      },
      {
       "javascript": [
        "$('div#4094f337-272d-4da6-a4d9-17231f3de08a').width('10%')"
       ],
       "metadata": {},
       "output_type": "display_data",
       "text": [
        "<IPython.core.display.Javascript at 0x100532a50>"
       ]
      },
      {
       "javascript": [
        "$('div#4094f337-272d-4da6-a4d9-17231f3de08a').width('11%')"
       ],
       "metadata": {},
       "output_type": "display_data",
       "text": [
        "<IPython.core.display.Javascript at 0x118709c90>"
       ]
      },
      {
       "javascript": [
        "$('div#4094f337-272d-4da6-a4d9-17231f3de08a').width('11%')"
       ],
       "metadata": {},
       "output_type": "display_data",
       "text": [
        "<IPython.core.display.Javascript at 0x118a2df10>"
       ]
      },
      {
       "javascript": [
        "$('div#4094f337-272d-4da6-a4d9-17231f3de08a').width('12%')"
       ],
       "metadata": {},
       "output_type": "display_data",
       "text": [
        "<IPython.core.display.Javascript at 0x115dca810>"
       ]
      },
      {
       "javascript": [
        "$('div#4094f337-272d-4da6-a4d9-17231f3de08a').width('12%')"
       ],
       "metadata": {},
       "output_type": "display_data",
       "text": [
        "<IPython.core.display.Javascript at 0x10d6de1d0>"
       ]
      },
      {
       "javascript": [
        "$('div#4094f337-272d-4da6-a4d9-17231f3de08a').width('13%')"
       ],
       "metadata": {},
       "output_type": "display_data",
       "text": [
        "<IPython.core.display.Javascript at 0x10d6de390>"
       ]
      },
      {
       "javascript": [
        "$('div#4094f337-272d-4da6-a4d9-17231f3de08a').width('13%')"
       ],
       "metadata": {},
       "output_type": "display_data",
       "text": [
        "<IPython.core.display.Javascript at 0x10d6debd0>"
       ]
      },
      {
       "javascript": [
        "$('div#4094f337-272d-4da6-a4d9-17231f3de08a').width('14%')"
       ],
       "metadata": {},
       "output_type": "display_data",
       "text": [
        "<IPython.core.display.Javascript at 0x10d6dea90>"
       ]
      },
      {
       "javascript": [
        "$('div#4094f337-272d-4da6-a4d9-17231f3de08a').width('14%')"
       ],
       "metadata": {},
       "output_type": "display_data",
       "text": [
        "<IPython.core.display.Javascript at 0x1187269d0>"
       ]
      },
      {
       "javascript": [
        "$('div#4094f337-272d-4da6-a4d9-17231f3de08a').width('15%')"
       ],
       "metadata": {},
       "output_type": "display_data",
       "text": [
        "<IPython.core.display.Javascript at 0x10d6de490>"
       ]
      },
      {
       "javascript": [
        "$('div#4094f337-272d-4da6-a4d9-17231f3de08a').width('15%')"
       ],
       "metadata": {},
       "output_type": "display_data",
       "text": [
        "<IPython.core.display.Javascript at 0x10d6de150>"
       ]
      },
      {
       "javascript": [
        "$('div#4094f337-272d-4da6-a4d9-17231f3de08a').width('16%')"
       ],
       "metadata": {},
       "output_type": "display_data",
       "text": [
        "<IPython.core.display.Javascript at 0x1186470d0>"
       ]
      },
      {
       "javascript": [
        "$('div#4094f337-272d-4da6-a4d9-17231f3de08a').width('16%')"
       ],
       "metadata": {},
       "output_type": "display_data",
       "text": [
        "<IPython.core.display.Javascript at 0x118647210>"
       ]
      },
      {
       "javascript": [
        "$('div#4094f337-272d-4da6-a4d9-17231f3de08a').width('17%')"
       ],
       "metadata": {},
       "output_type": "display_data",
       "text": [
        "<IPython.core.display.Javascript at 0x118923090>"
       ]
      },
      {
       "javascript": [
        "$('div#4094f337-272d-4da6-a4d9-17231f3de08a').width('17%')"
       ],
       "metadata": {},
       "output_type": "display_data",
       "text": [
        "<IPython.core.display.Javascript at 0x118923910>"
       ]
      },
      {
       "javascript": [
        "$('div#4094f337-272d-4da6-a4d9-17231f3de08a').width('18%')"
       ],
       "metadata": {},
       "output_type": "display_data",
       "text": [
        "<IPython.core.display.Javascript at 0x1189236d0>"
       ]
      },
      {
       "javascript": [
        "$('div#4094f337-272d-4da6-a4d9-17231f3de08a').width('18%')"
       ],
       "metadata": {},
       "output_type": "display_data",
       "text": [
        "<IPython.core.display.Javascript at 0x11848bdd0>"
       ]
      },
      {
       "javascript": [
        "$('div#4094f337-272d-4da6-a4d9-17231f3de08a').width('19%')"
       ],
       "metadata": {},
       "output_type": "display_data",
       "text": [
        "<IPython.core.display.Javascript at 0x11848be50>"
       ]
      },
      {
       "javascript": [
        "$('div#4094f337-272d-4da6-a4d9-17231f3de08a').width('20%')"
       ],
       "metadata": {},
       "output_type": "display_data",
       "text": [
        "<IPython.core.display.Javascript at 0x11848bd90>"
       ]
      },
      {
       "javascript": [
        "$('div#4094f337-272d-4da6-a4d9-17231f3de08a').width('20%')"
       ],
       "metadata": {},
       "output_type": "display_data",
       "text": [
        "<IPython.core.display.Javascript at 0x11848b590>"
       ]
      },
      {
       "javascript": [
        "$('div#4094f337-272d-4da6-a4d9-17231f3de08a').width('21%')"
       ],
       "metadata": {},
       "output_type": "display_data",
       "text": [
        "<IPython.core.display.Javascript at 0x11848b150>"
       ]
      },
      {
       "javascript": [
        "$('div#4094f337-272d-4da6-a4d9-17231f3de08a').width('21%')"
       ],
       "metadata": {},
       "output_type": "display_data",
       "text": [
        "<IPython.core.display.Javascript at 0x11848bdd0>"
       ]
      },
      {
       "javascript": [
        "$('div#4094f337-272d-4da6-a4d9-17231f3de08a').width('22%')"
       ],
       "metadata": {},
       "output_type": "display_data",
       "text": [
        "<IPython.core.display.Javascript at 0x11848b590>"
       ]
      },
      {
       "javascript": [
        "$('div#4094f337-272d-4da6-a4d9-17231f3de08a').width('22%')"
       ],
       "metadata": {},
       "output_type": "display_data",
       "text": [
        "<IPython.core.display.Javascript at 0x1187269d0>"
       ]
      },
      {
       "javascript": [
        "$('div#4094f337-272d-4da6-a4d9-17231f3de08a').width('23%')"
       ],
       "metadata": {},
       "output_type": "display_data",
       "text": [
        "<IPython.core.display.Javascript at 0x1189236d0>"
       ]
      },
      {
       "javascript": [
        "$('div#4094f337-272d-4da6-a4d9-17231f3de08a').width('23%')"
       ],
       "metadata": {},
       "output_type": "display_data",
       "text": [
        "<IPython.core.display.Javascript at 0x118a2df10>"
       ]
      },
      {
       "javascript": [
        "$('div#4094f337-272d-4da6-a4d9-17231f3de08a').width('24%')"
       ],
       "metadata": {},
       "output_type": "display_data",
       "text": [
        "<IPython.core.display.Javascript at 0x100532a50>"
       ]
      },
      {
       "javascript": [
        "$('div#4094f337-272d-4da6-a4d9-17231f3de08a').width('24%')"
       ],
       "metadata": {},
       "output_type": "display_data",
       "text": [
        "<IPython.core.display.Javascript at 0x10d6de490>"
       ]
      },
      {
       "javascript": [
        "$('div#4094f337-272d-4da6-a4d9-17231f3de08a').width('25%')"
       ],
       "metadata": {},
       "output_type": "display_data",
       "text": [
        "<IPython.core.display.Javascript at 0x116a45a90>"
       ]
      },
      {
       "javascript": [
        "$('div#4094f337-272d-4da6-a4d9-17231f3de08a').width('25%')"
       ],
       "metadata": {},
       "output_type": "display_data",
       "text": [
        "<IPython.core.display.Javascript at 0x116a45f50>"
       ]
      },
      {
       "javascript": [
        "$('div#4094f337-272d-4da6-a4d9-17231f3de08a').width('26%')"
       ],
       "metadata": {},
       "output_type": "display_data",
       "text": [
        "<IPython.core.display.Javascript at 0x116a45d10>"
       ]
      },
      {
       "javascript": [
        "$('div#4094f337-272d-4da6-a4d9-17231f3de08a').width('26%')"
       ],
       "metadata": {},
       "output_type": "display_data",
       "text": [
        "<IPython.core.display.Javascript at 0x116a45350>"
       ]
      },
      {
       "javascript": [
        "$('div#4094f337-272d-4da6-a4d9-17231f3de08a').width('27%')"
       ],
       "metadata": {},
       "output_type": "display_data",
       "text": [
        "<IPython.core.display.Javascript at 0x116a45690>"
       ]
      },
      {
       "javascript": [
        "$('div#4094f337-272d-4da6-a4d9-17231f3de08a').width('27%')"
       ],
       "metadata": {},
       "output_type": "display_data",
       "text": [
        "<IPython.core.display.Javascript at 0x116a45590>"
       ]
      },
      {
       "javascript": [
        "$('div#4094f337-272d-4da6-a4d9-17231f3de08a').width('28%')"
       ],
       "metadata": {},
       "output_type": "display_data",
       "text": [
        "<IPython.core.display.Javascript at 0x116a45110>"
       ]
      },
      {
       "javascript": [
        "$('div#4094f337-272d-4da6-a4d9-17231f3de08a').width('28%')"
       ],
       "metadata": {},
       "output_type": "display_data",
       "text": [
        "<IPython.core.display.Javascript at 0x116a45750>"
       ]
      },
      {
       "javascript": [
        "$('div#4094f337-272d-4da6-a4d9-17231f3de08a').width('29%')"
       ],
       "metadata": {},
       "output_type": "display_data",
       "text": [
        "<IPython.core.display.Javascript at 0x116a45f90>"
       ]
      },
      {
       "javascript": [
        "$('div#4094f337-272d-4da6-a4d9-17231f3de08a').width('29%')"
       ],
       "metadata": {},
       "output_type": "display_data",
       "text": [
        "<IPython.core.display.Javascript at 0x116a45b50>"
       ]
      },
      {
       "javascript": [
        "$('div#4094f337-272d-4da6-a4d9-17231f3de08a').width('30%')"
       ],
       "metadata": {},
       "output_type": "display_data",
       "text": [
        "<IPython.core.display.Javascript at 0x116a45390>"
       ]
      },
      {
       "javascript": [
        "$('div#4094f337-272d-4da6-a4d9-17231f3de08a').width('30%')"
       ],
       "metadata": {},
       "output_type": "display_data",
       "text": [
        "<IPython.core.display.Javascript at 0x116a45e10>"
       ]
      },
      {
       "javascript": [
        "$('div#4094f337-272d-4da6-a4d9-17231f3de08a').width('31%')"
       ],
       "metadata": {},
       "output_type": "display_data",
       "text": [
        "<IPython.core.display.Javascript at 0x11a63b050>"
       ]
      },
      {
       "javascript": [
        "$('div#4094f337-272d-4da6-a4d9-17231f3de08a').width('31%')"
       ],
       "metadata": {},
       "output_type": "display_data",
       "text": [
        "<IPython.core.display.Javascript at 0x11a5fbb90>"
       ]
      },
      {
       "javascript": [
        "$('div#4094f337-272d-4da6-a4d9-17231f3de08a').width('32%')"
       ],
       "metadata": {},
       "output_type": "display_data",
       "text": [
        "<IPython.core.display.Javascript at 0x11a609890>"
       ]
      },
      {
       "javascript": [
        "$('div#4094f337-272d-4da6-a4d9-17231f3de08a').width('32%')"
       ],
       "metadata": {},
       "output_type": "display_data",
       "text": [
        "<IPython.core.display.Javascript at 0x11a63b050>"
       ]
      },
      {
       "javascript": [
        "$('div#4094f337-272d-4da6-a4d9-17231f3de08a').width('33%')"
       ],
       "metadata": {},
       "output_type": "display_data",
       "text": [
        "<IPython.core.display.Javascript at 0x116a458d0>"
       ]
      },
      {
       "javascript": [
        "$('div#4094f337-272d-4da6-a4d9-17231f3de08a').width('33%')"
       ],
       "metadata": {},
       "output_type": "display_data",
       "text": [
        "<IPython.core.display.Javascript at 0x10d6de490>"
       ]
      },
      {
       "javascript": [
        "$('div#4094f337-272d-4da6-a4d9-17231f3de08a').width('34%')"
       ],
       "metadata": {},
       "output_type": "display_data",
       "text": [
        "<IPython.core.display.Javascript at 0x118a2df10>"
       ]
      },
      {
       "javascript": [
        "$('div#4094f337-272d-4da6-a4d9-17231f3de08a').width('34%')"
       ],
       "metadata": {},
       "output_type": "display_data",
       "text": [
        "<IPython.core.display.Javascript at 0x1187269d0>"
       ]
      },
      {
       "javascript": [
        "$('div#4094f337-272d-4da6-a4d9-17231f3de08a').width('35%')"
       ],
       "metadata": {},
       "output_type": "display_data",
       "text": [
        "<IPython.core.display.Javascript at 0x116a45e10>"
       ]
      },
      {
       "javascript": [
        "$('div#4094f337-272d-4da6-a4d9-17231f3de08a').width('35%')"
       ],
       "metadata": {},
       "output_type": "display_data",
       "text": [
        "<IPython.core.display.Javascript at 0x11848bdd0>"
       ]
      },
      {
       "javascript": [
        "$('div#4094f337-272d-4da6-a4d9-17231f3de08a').width('36%')"
       ],
       "metadata": {},
       "output_type": "display_data",
       "text": [
        "<IPython.core.display.Javascript at 0x1189fead0>"
       ]
      },
      {
       "javascript": [
        "$('div#4094f337-272d-4da6-a4d9-17231f3de08a').width('36%')"
       ],
       "metadata": {},
       "output_type": "display_data",
       "text": [
        "<IPython.core.display.Javascript at 0x1189fe590>"
       ]
      },
      {
       "javascript": [
        "$('div#4094f337-272d-4da6-a4d9-17231f3de08a').width('37%')"
       ],
       "metadata": {},
       "output_type": "display_data",
       "text": [
        "<IPython.core.display.Javascript at 0x1189fe810>"
       ]
      },
      {
       "javascript": [
        "$('div#4094f337-272d-4da6-a4d9-17231f3de08a').width('37%')"
       ],
       "metadata": {},
       "output_type": "display_data",
       "text": [
        "<IPython.core.display.Javascript at 0x1189febd0>"
       ]
      },
      {
       "javascript": [
        "$('div#4094f337-272d-4da6-a4d9-17231f3de08a').width('38%')"
       ],
       "metadata": {},
       "output_type": "display_data",
       "text": [
        "<IPython.core.display.Javascript at 0x1189fe990>"
       ]
      },
      {
       "javascript": [
        "$('div#4094f337-272d-4da6-a4d9-17231f3de08a').width('38%')"
       ],
       "metadata": {},
       "output_type": "display_data",
       "text": [
        "<IPython.core.display.Javascript at 0x1189feb90>"
       ]
      },
      {
       "javascript": [
        "$('div#4094f337-272d-4da6-a4d9-17231f3de08a').width('39%')"
       ],
       "metadata": {},
       "output_type": "display_data",
       "text": [
        "<IPython.core.display.Javascript at 0x1189feed0>"
       ]
      },
      {
       "javascript": [
        "$('div#4094f337-272d-4da6-a4d9-17231f3de08a').width('40%')"
       ],
       "metadata": {},
       "output_type": "display_data",
       "text": [
        "<IPython.core.display.Javascript at 0x1189fea90>"
       ]
      },
      {
       "javascript": [
        "$('div#4094f337-272d-4da6-a4d9-17231f3de08a').width('40%')"
       ],
       "metadata": {},
       "output_type": "display_data",
       "text": [
        "<IPython.core.display.Javascript at 0x1189fec50>"
       ]
      },
      {
       "javascript": [
        "$('div#4094f337-272d-4da6-a4d9-17231f3de08a').width('41%')"
       ],
       "metadata": {},
       "output_type": "display_data",
       "text": [
        "<IPython.core.display.Javascript at 0x110447cd0>"
       ]
      },
      {
       "javascript": [
        "$('div#4094f337-272d-4da6-a4d9-17231f3de08a').width('41%')"
       ],
       "metadata": {},
       "output_type": "display_data",
       "text": [
        "<IPython.core.display.Javascript at 0x110447b50>"
       ]
      },
      {
       "javascript": [
        "$('div#4094f337-272d-4da6-a4d9-17231f3de08a').width('42%')"
       ],
       "metadata": {},
       "output_type": "display_data",
       "text": [
        "<IPython.core.display.Javascript at 0x1104470d0>"
       ]
      },
      {
       "javascript": [
        "$('div#4094f337-272d-4da6-a4d9-17231f3de08a').width('42%')"
       ],
       "metadata": {},
       "output_type": "display_data",
       "text": [
        "<IPython.core.display.Javascript at 0x110447190>"
       ]
      },
      {
       "javascript": [
        "$('div#4094f337-272d-4da6-a4d9-17231f3de08a').width('43%')"
       ],
       "metadata": {},
       "output_type": "display_data",
       "text": [
        "<IPython.core.display.Javascript at 0x1189feed0>"
       ]
      },
      {
       "javascript": [
        "$('div#4094f337-272d-4da6-a4d9-17231f3de08a').width('43%')"
       ],
       "metadata": {},
       "output_type": "display_data",
       "text": [
        "<IPython.core.display.Javascript at 0x1189fe990>"
       ]
      },
      {
       "javascript": [
        "$('div#4094f337-272d-4da6-a4d9-17231f3de08a').width('44%')"
       ],
       "metadata": {},
       "output_type": "display_data",
       "text": [
        "<IPython.core.display.Javascript at 0x1187269d0>"
       ]
      },
      {
       "javascript": [
        "$('div#4094f337-272d-4da6-a4d9-17231f3de08a').width('44%')"
       ],
       "metadata": {},
       "output_type": "display_data",
       "text": [
        "<IPython.core.display.Javascript at 0x10d6de490>"
       ]
      },
      {
       "javascript": [
        "$('div#4094f337-272d-4da6-a4d9-17231f3de08a').width('45%')"
       ],
       "metadata": {},
       "output_type": "display_data",
       "text": [
        "<IPython.core.display.Javascript at 0x116a458d0>"
       ]
      },
      {
       "javascript": [
        "$('div#4094f337-272d-4da6-a4d9-17231f3de08a').width('45%')"
       ],
       "metadata": {},
       "output_type": "display_data",
       "text": [
        "<IPython.core.display.Javascript at 0x1189fead0>"
       ]
      },
      {
       "javascript": [
        "$('div#4094f337-272d-4da6-a4d9-17231f3de08a').width('46%')"
       ],
       "metadata": {},
       "output_type": "display_data",
       "text": [
        "<IPython.core.display.Javascript at 0x110447750>"
       ]
      },
      {
       "javascript": [
        "$('div#4094f337-272d-4da6-a4d9-17231f3de08a').width('46%')"
       ],
       "metadata": {},
       "output_type": "display_data",
       "text": [
        "<IPython.core.display.Javascript at 0x110447cd0>"
       ]
      },
      {
       "javascript": [
        "$('div#4094f337-272d-4da6-a4d9-17231f3de08a').width('47%')"
       ],
       "metadata": {},
       "output_type": "display_data",
       "text": [
        "<IPython.core.display.Javascript at 0x110447b90>"
       ]
      },
      {
       "javascript": [
        "$('div#4094f337-272d-4da6-a4d9-17231f3de08a').width('47%')"
       ],
       "metadata": {},
       "output_type": "display_data",
       "text": [
        "<IPython.core.display.Javascript at 0x110447450>"
       ]
      },
      {
       "javascript": [
        "$('div#4094f337-272d-4da6-a4d9-17231f3de08a').width('48%')"
       ],
       "metadata": {},
       "output_type": "display_data",
       "text": [
        "<IPython.core.display.Javascript at 0x110447dd0>"
       ]
      },
      {
       "javascript": [
        "$('div#4094f337-272d-4da6-a4d9-17231f3de08a').width('48%')"
       ],
       "metadata": {},
       "output_type": "display_data",
       "text": [
        "<IPython.core.display.Javascript at 0x110447290>"
       ]
      },
      {
       "javascript": [
        "$('div#4094f337-272d-4da6-a4d9-17231f3de08a').width('49%')"
       ],
       "metadata": {},
       "output_type": "display_data",
       "text": [
        "<IPython.core.display.Javascript at 0x110447650>"
       ]
      },
      {
       "javascript": [
        "$('div#4094f337-272d-4da6-a4d9-17231f3de08a').width('49%')"
       ],
       "metadata": {},
       "output_type": "display_data",
       "text": [
        "<IPython.core.display.Javascript at 0x1104472d0>"
       ]
      },
      {
       "javascript": [
        "$('div#4094f337-272d-4da6-a4d9-17231f3de08a').width('50%')"
       ],
       "metadata": {},
       "output_type": "display_data",
       "text": [
        "<IPython.core.display.Javascript at 0x110447490>"
       ]
      },
      {
       "javascript": [
        "$('div#4094f337-272d-4da6-a4d9-17231f3de08a').width('50%')"
       ],
       "metadata": {},
       "output_type": "display_data",
       "text": [
        "<IPython.core.display.Javascript at 0x110447950>"
       ]
      },
      {
       "javascript": [
        "$('div#4094f337-272d-4da6-a4d9-17231f3de08a').width('51%')"
       ],
       "metadata": {},
       "output_type": "display_data",
       "text": [
        "<IPython.core.display.Javascript at 0x118c9bc90>"
       ]
      },
      {
       "javascript": [
        "$('div#4094f337-272d-4da6-a4d9-17231f3de08a').width('51%')"
       ],
       "metadata": {},
       "output_type": "display_data",
       "text": [
        "<IPython.core.display.Javascript at 0x118c9b290>"
       ]
      },
      {
       "javascript": [
        "$('div#4094f337-272d-4da6-a4d9-17231f3de08a').width('52%')"
       ],
       "metadata": {},
       "output_type": "display_data",
       "text": [
        "<IPython.core.display.Javascript at 0x118c9ba50>"
       ]
      },
      {
       "javascript": [
        "$('div#4094f337-272d-4da6-a4d9-17231f3de08a').width('52%')"
       ],
       "metadata": {},
       "output_type": "display_data",
       "text": [
        "<IPython.core.display.Javascript at 0x118c9b790>"
       ]
      },
      {
       "javascript": [
        "$('div#4094f337-272d-4da6-a4d9-17231f3de08a').width('53%')"
       ],
       "metadata": {},
       "output_type": "display_data",
       "text": [
        "<IPython.core.display.Javascript at 0x118c9b8d0>"
       ]
      },
      {
       "javascript": [
        "$('div#4094f337-272d-4da6-a4d9-17231f3de08a').width('53%')"
       ],
       "metadata": {},
       "output_type": "display_data",
       "text": [
        "<IPython.core.display.Javascript at 0x1104472d0>"
       ]
      },
      {
       "javascript": [
        "$('div#4094f337-272d-4da6-a4d9-17231f3de08a').width('54%')"
       ],
       "metadata": {},
       "output_type": "display_data",
       "text": [
        "<IPython.core.display.Javascript at 0x110447290>"
       ]
      },
      {
       "javascript": [
        "$('div#4094f337-272d-4da6-a4d9-17231f3de08a').width('54%')"
       ],
       "metadata": {},
       "output_type": "display_data",
       "text": [
        "<IPython.core.display.Javascript at 0x116a458d0>"
       ]
      },
      {
       "javascript": [
        "$('div#4094f337-272d-4da6-a4d9-17231f3de08a').width('55%')"
       ],
       "metadata": {},
       "output_type": "display_data",
       "text": [
        "<IPython.core.display.Javascript at 0x1187269d0>"
       ]
      },
      {
       "javascript": [
        "$('div#4094f337-272d-4da6-a4d9-17231f3de08a').width('55%')"
       ],
       "metadata": {},
       "output_type": "display_data",
       "text": [
        "<IPython.core.display.Javascript at 0x110447490>"
       ]
      },
      {
       "javascript": [
        "$('div#4094f337-272d-4da6-a4d9-17231f3de08a').width('56%')"
       ],
       "metadata": {},
       "output_type": "display_data",
       "text": [
        "<IPython.core.display.Javascript at 0x1189fe990>"
       ]
      },
      {
       "javascript": [
        "$('div#4094f337-272d-4da6-a4d9-17231f3de08a').width('56%')"
       ],
       "metadata": {},
       "output_type": "display_data",
       "text": [
        "<IPython.core.display.Javascript at 0x118c9b8d0>"
       ]
      },
      {
       "javascript": [
        "$('div#4094f337-272d-4da6-a4d9-17231f3de08a').width('57%')"
       ],
       "metadata": {},
       "output_type": "display_data",
       "text": [
        "<IPython.core.display.Javascript at 0x118c9bc90>"
       ]
      },
      {
       "javascript": [
        "$('div#4094f337-272d-4da6-a4d9-17231f3de08a').width('57%')"
       ],
       "metadata": {},
       "output_type": "display_data",
       "text": [
        "<IPython.core.display.Javascript at 0x118c9b490>"
       ]
      },
      {
       "javascript": [
        "$('div#4094f337-272d-4da6-a4d9-17231f3de08a').width('58%')"
       ],
       "metadata": {},
       "output_type": "display_data",
       "text": [
        "<IPython.core.display.Javascript at 0x118c9be10>"
       ]
      },
      {
       "javascript": [
        "$('div#4094f337-272d-4da6-a4d9-17231f3de08a').width('58%')"
       ],
       "metadata": {},
       "output_type": "display_data",
       "text": [
        "<IPython.core.display.Javascript at 0x118c9bdd0>"
       ]
      },
      {
       "javascript": [
        "$('div#4094f337-272d-4da6-a4d9-17231f3de08a').width('59%')"
       ],
       "metadata": {},
       "output_type": "display_data",
       "text": [
        "<IPython.core.display.Javascript at 0x118c9bb10>"
       ]
      },
      {
       "javascript": [
        "$('div#4094f337-272d-4da6-a4d9-17231f3de08a').width('60%')"
       ],
       "metadata": {},
       "output_type": "display_data",
       "text": [
        "<IPython.core.display.Javascript at 0x118c9b390>"
       ]
      },
      {
       "javascript": [
        "$('div#4094f337-272d-4da6-a4d9-17231f3de08a').width('60%')"
       ],
       "metadata": {},
       "output_type": "display_data",
       "text": [
        "<IPython.core.display.Javascript at 0x118c9b050>"
       ]
      },
      {
       "javascript": [
        "$('div#4094f337-272d-4da6-a4d9-17231f3de08a').width('61%')"
       ],
       "metadata": {},
       "output_type": "display_data",
       "text": [
        "<IPython.core.display.Javascript at 0x11044fa90>"
       ]
      },
      {
       "javascript": [
        "$('div#4094f337-272d-4da6-a4d9-17231f3de08a').width('61%')"
       ],
       "metadata": {},
       "output_type": "display_data",
       "text": [
        "<IPython.core.display.Javascript at 0x11044fc10>"
       ]
      },
      {
       "javascript": [
        "$('div#4094f337-272d-4da6-a4d9-17231f3de08a').width('62%')"
       ],
       "metadata": {},
       "output_type": "display_data",
       "text": [
        "<IPython.core.display.Javascript at 0x11044f450>"
       ]
      },
      {
       "javascript": [
        "$('div#4094f337-272d-4da6-a4d9-17231f3de08a').width('62%')"
       ],
       "metadata": {},
       "output_type": "display_data",
       "text": [
        "<IPython.core.display.Javascript at 0x11044f2d0>"
       ]
      },
      {
       "javascript": [
        "$('div#4094f337-272d-4da6-a4d9-17231f3de08a').width('63%')"
       ],
       "metadata": {},
       "output_type": "display_data",
       "text": [
        "<IPython.core.display.Javascript at 0x11044f550>"
       ]
      },
      {
       "javascript": [
        "$('div#4094f337-272d-4da6-a4d9-17231f3de08a').width('63%')"
       ],
       "metadata": {},
       "output_type": "display_data",
       "text": [
        "<IPython.core.display.Javascript at 0x11044f850>"
       ]
      },
      {
       "javascript": [
        "$('div#4094f337-272d-4da6-a4d9-17231f3de08a').width('64%')"
       ],
       "metadata": {},
       "output_type": "display_data",
       "text": [
        "<IPython.core.display.Javascript at 0x11044fe50>"
       ]
      },
      {
       "javascript": [
        "$('div#4094f337-272d-4da6-a4d9-17231f3de08a').width('64%')"
       ],
       "metadata": {},
       "output_type": "display_data",
       "text": [
        "<IPython.core.display.Javascript at 0x118c9bb10>"
       ]
      },
      {
       "javascript": [
        "$('div#4094f337-272d-4da6-a4d9-17231f3de08a').width('65%')"
       ],
       "metadata": {},
       "output_type": "display_data",
       "text": [
        "<IPython.core.display.Javascript at 0x1189fe990>"
       ]
      },
      {
       "javascript": [
        "$('div#4094f337-272d-4da6-a4d9-17231f3de08a').width('65%')"
       ],
       "metadata": {},
       "output_type": "display_data",
       "text": [
        "<IPython.core.display.Javascript at 0x116a458d0>"
       ]
      },
      {
       "javascript": [
        "$('div#4094f337-272d-4da6-a4d9-17231f3de08a').width('66%')"
       ],
       "metadata": {},
       "output_type": "display_data",
       "text": [
        "<IPython.core.display.Javascript at 0x118c9bc90>"
       ]
      },
      {
       "javascript": [
        "$('div#4094f337-272d-4da6-a4d9-17231f3de08a').width('66%')"
       ],
       "metadata": {},
       "output_type": "display_data",
       "text": [
        "<IPython.core.display.Javascript at 0x118c9bdd0>"
       ]
      },
      {
       "javascript": [
        "$('div#4094f337-272d-4da6-a4d9-17231f3de08a').width('67%')"
       ],
       "metadata": {},
       "output_type": "display_data",
       "text": [
        "<IPython.core.display.Javascript at 0x1104472d0>"
       ]
      },
      {
       "javascript": [
        "$('div#4094f337-272d-4da6-a4d9-17231f3de08a').width('67%')"
       ],
       "metadata": {},
       "output_type": "display_data",
       "text": [
        "<IPython.core.display.Javascript at 0x11044f550>"
       ]
      },
      {
       "javascript": [
        "$('div#4094f337-272d-4da6-a4d9-17231f3de08a').width('68%')"
       ],
       "metadata": {},
       "output_type": "display_data",
       "text": [
        "<IPython.core.display.Javascript at 0x11044fa90>"
       ]
      },
      {
       "javascript": [
        "$('div#4094f337-272d-4da6-a4d9-17231f3de08a').width('68%')"
       ],
       "metadata": {},
       "output_type": "display_data",
       "text": [
        "<IPython.core.display.Javascript at 0x11044f650>"
       ]
      },
      {
       "javascript": [
        "$('div#4094f337-272d-4da6-a4d9-17231f3de08a').width('69%')"
       ],
       "metadata": {},
       "output_type": "display_data",
       "text": [
        "<IPython.core.display.Javascript at 0x11044f090>"
       ]
      },
      {
       "javascript": [
        "$('div#4094f337-272d-4da6-a4d9-17231f3de08a').width('69%')"
       ],
       "metadata": {},
       "output_type": "display_data",
       "text": [
        "<IPython.core.display.Javascript at 0x11044fcd0>"
       ]
      },
      {
       "javascript": [
        "$('div#4094f337-272d-4da6-a4d9-17231f3de08a').width('70%')"
       ],
       "metadata": {},
       "output_type": "display_data",
       "text": [
        "<IPython.core.display.Javascript at 0x11044fe50>"
       ]
      },
      {
       "javascript": [
        "$('div#4094f337-272d-4da6-a4d9-17231f3de08a').width('70%')"
       ],
       "metadata": {},
       "output_type": "display_data",
       "text": [
        "<IPython.core.display.Javascript at 0x11044f390>"
       ]
      },
      {
       "javascript": [
        "$('div#4094f337-272d-4da6-a4d9-17231f3de08a').width('71%')"
       ],
       "metadata": {},
       "output_type": "display_data",
       "text": [
        "<IPython.core.display.Javascript at 0x11a2d6210>"
       ]
      },
      {
       "javascript": [
        "$('div#4094f337-272d-4da6-a4d9-17231f3de08a').width('71%')"
       ],
       "metadata": {},
       "output_type": "display_data",
       "text": [
        "<IPython.core.display.Javascript at 0x11a2d61d0>"
       ]
      },
      {
       "javascript": [
        "$('div#4094f337-272d-4da6-a4d9-17231f3de08a').width('72%')"
       ],
       "metadata": {},
       "output_type": "display_data",
       "text": [
        "<IPython.core.display.Javascript at 0x10b9172d0>"
       ]
      },
      {
       "javascript": [
        "$('div#4094f337-272d-4da6-a4d9-17231f3de08a').width('72%')"
       ],
       "metadata": {},
       "output_type": "display_data",
       "text": [
        "<IPython.core.display.Javascript at 0x10b917e50>"
       ]
      },
      {
       "javascript": [
        "$('div#4094f337-272d-4da6-a4d9-17231f3de08a').width('73%')"
       ],
       "metadata": {},
       "output_type": "display_data",
       "text": [
        "<IPython.core.display.Javascript at 0x1177d3490>"
       ]
      },
      {
       "javascript": [
        "$('div#4094f337-272d-4da6-a4d9-17231f3de08a').width('73%')"
       ],
       "metadata": {},
       "output_type": "display_data",
       "text": [
        "<IPython.core.display.Javascript at 0x1177d3810>"
       ]
      },
      {
       "javascript": [
        "$('div#4094f337-272d-4da6-a4d9-17231f3de08a').width('74%')"
       ],
       "metadata": {},
       "output_type": "display_data",
       "text": [
        "<IPython.core.display.Javascript at 0x1177d3290>"
       ]
      },
      {
       "javascript": [
        "$('div#4094f337-272d-4da6-a4d9-17231f3de08a').width('74%')"
       ],
       "metadata": {},
       "output_type": "display_data",
       "text": [
        "<IPython.core.display.Javascript at 0x1177d3b10>"
       ]
      },
      {
       "javascript": [
        "$('div#4094f337-272d-4da6-a4d9-17231f3de08a').width('75%')"
       ],
       "metadata": {},
       "output_type": "display_data",
       "text": [
        "<IPython.core.display.Javascript at 0x10b9172d0>"
       ]
      },
      {
       "javascript": [
        "$('div#4094f337-272d-4da6-a4d9-17231f3de08a').width('75%')"
       ],
       "metadata": {},
       "output_type": "display_data",
       "text": [
        "<IPython.core.display.Javascript at 0x11a2d61d0>"
       ]
      },
      {
       "javascript": [
        "$('div#4094f337-272d-4da6-a4d9-17231f3de08a').width('76%')"
       ],
       "metadata": {},
       "output_type": "display_data",
       "text": [
        "<IPython.core.display.Javascript at 0x11a2d6210>"
       ]
      },
      {
       "javascript": [
        "$('div#4094f337-272d-4da6-a4d9-17231f3de08a').width('76%')"
       ],
       "metadata": {},
       "output_type": "display_data",
       "text": [
        "<IPython.core.display.Javascript at 0x116a458d0>"
       ]
      },
      {
       "javascript": [
        "$('div#4094f337-272d-4da6-a4d9-17231f3de08a').width('77%')"
       ],
       "metadata": {},
       "output_type": "display_data",
       "text": [
        "<IPython.core.display.Javascript at 0x11044fcd0>"
       ]
      },
      {
       "javascript": [
        "$('div#4094f337-272d-4da6-a4d9-17231f3de08a').width('77%')"
       ],
       "metadata": {},
       "output_type": "display_data",
       "text": [
        "<IPython.core.display.Javascript at 0x1189fe990>"
       ]
      },
      {
       "javascript": [
        "$('div#4094f337-272d-4da6-a4d9-17231f3de08a').width('78%')"
       ],
       "metadata": {},
       "output_type": "display_data",
       "text": [
        "<IPython.core.display.Javascript at 0x1177d3fd0>"
       ]
      },
      {
       "javascript": [
        "$('div#4094f337-272d-4da6-a4d9-17231f3de08a').width('78%')"
       ],
       "metadata": {},
       "output_type": "display_data",
       "text": [
        "<IPython.core.display.Javascript at 0x1177d3490>"
       ]
      },
      {
       "javascript": [
        "$('div#4094f337-272d-4da6-a4d9-17231f3de08a').width('79%')"
       ],
       "metadata": {},
       "output_type": "display_data",
       "text": [
        "<IPython.core.display.Javascript at 0x1177d3150>"
       ]
      },
      {
       "javascript": [
        "$('div#4094f337-272d-4da6-a4d9-17231f3de08a').width('80%')"
       ],
       "metadata": {},
       "output_type": "display_data",
       "text": [
        "<IPython.core.display.Javascript at 0x1177d3090>"
       ]
      },
      {
       "javascript": [
        "$('div#4094f337-272d-4da6-a4d9-17231f3de08a').width('80%')"
       ],
       "metadata": {},
       "output_type": "display_data",
       "text": [
        "<IPython.core.display.Javascript at 0x1177d3350>"
       ]
      },
      {
       "javascript": [
        "$('div#4094f337-272d-4da6-a4d9-17231f3de08a').width('81%')"
       ],
       "metadata": {},
       "output_type": "display_data",
       "text": [
        "<IPython.core.display.Javascript at 0x1177d32d0>"
       ]
      },
      {
       "javascript": [
        "$('div#4094f337-272d-4da6-a4d9-17231f3de08a').width('81%')"
       ],
       "metadata": {},
       "output_type": "display_data",
       "text": [
        "<IPython.core.display.Javascript at 0x1177d3c50>"
       ]
      },
      {
       "javascript": [
        "$('div#4094f337-272d-4da6-a4d9-17231f3de08a').width('82%')"
       ],
       "metadata": {},
       "output_type": "display_data",
       "text": [
        "<IPython.core.display.Javascript at 0x1177d3ed0>"
       ]
      },
      {
       "javascript": [
        "$('div#4094f337-272d-4da6-a4d9-17231f3de08a').width('82%')"
       ],
       "metadata": {},
       "output_type": "display_data",
       "text": [
        "<IPython.core.display.Javascript at 0x10eea4190>"
       ]
      },
      {
       "javascript": [
        "$('div#4094f337-272d-4da6-a4d9-17231f3de08a').width('83%')"
       ],
       "metadata": {},
       "output_type": "display_data",
       "text": [
        "<IPython.core.display.Javascript at 0x10eea4790>"
       ]
      },
      {
       "javascript": [
        "$('div#4094f337-272d-4da6-a4d9-17231f3de08a').width('83%')"
       ],
       "metadata": {},
       "output_type": "display_data",
       "text": [
        "<IPython.core.display.Javascript at 0x10eea4c50>"
       ]
      },
      {
       "javascript": [
        "$('div#4094f337-272d-4da6-a4d9-17231f3de08a').width('84%')"
       ],
       "metadata": {},
       "output_type": "display_data",
       "text": [
        "<IPython.core.display.Javascript at 0x10eea49d0>"
       ]
      },
      {
       "javascript": [
        "$('div#4094f337-272d-4da6-a4d9-17231f3de08a').width('84%')"
       ],
       "metadata": {},
       "output_type": "display_data",
       "text": [
        "<IPython.core.display.Javascript at 0x10eea4510>"
       ]
      },
      {
       "javascript": [
        "$('div#4094f337-272d-4da6-a4d9-17231f3de08a').width('85%')"
       ],
       "metadata": {},
       "output_type": "display_data",
       "text": [
        "<IPython.core.display.Javascript at 0x10eea4d50>"
       ]
      },
      {
       "javascript": [
        "$('div#4094f337-272d-4da6-a4d9-17231f3de08a').width('85%')"
       ],
       "metadata": {},
       "output_type": "display_data",
       "text": [
        "<IPython.core.display.Javascript at 0x10eea4650>"
       ]
      },
      {
       "javascript": [
        "$('div#4094f337-272d-4da6-a4d9-17231f3de08a').width('86%')"
       ],
       "metadata": {},
       "output_type": "display_data",
       "text": [
        "<IPython.core.display.Javascript at 0x1177d32d0>"
       ]
      },
      {
       "javascript": [
        "$('div#4094f337-272d-4da6-a4d9-17231f3de08a').width('86%')"
       ],
       "metadata": {},
       "output_type": "display_data",
       "text": [
        "<IPython.core.display.Javascript at 0x1189fe990>"
       ]
      },
      {
       "javascript": [
        "$('div#4094f337-272d-4da6-a4d9-17231f3de08a').width('87%')"
       ],
       "metadata": {},
       "output_type": "display_data",
       "text": [
        "<IPython.core.display.Javascript at 0x116a458d0>"
       ]
      },
      {
       "javascript": [
        "$('div#4094f337-272d-4da6-a4d9-17231f3de08a').width('87%')"
       ],
       "metadata": {},
       "output_type": "display_data",
       "text": [
        "<IPython.core.display.Javascript at 0x11a2d61d0>"
       ]
      },
      {
       "javascript": [
        "$('div#4094f337-272d-4da6-a4d9-17231f3de08a').width('88%')"
       ],
       "metadata": {},
       "output_type": "display_data",
       "text": [
        "<IPython.core.display.Javascript at 0x10b9172d0>"
       ]
      },
      {
       "javascript": [
        "$('div#4094f337-272d-4da6-a4d9-17231f3de08a').width('88%')"
       ],
       "metadata": {},
       "output_type": "display_data",
       "text": [
        "<IPython.core.display.Javascript at 0x1177d3350>"
       ]
      },
      {
       "javascript": [
        "$('div#4094f337-272d-4da6-a4d9-17231f3de08a').width('89%')"
       ],
       "metadata": {},
       "output_type": "display_data",
       "text": [
        "<IPython.core.display.Javascript at 0x10eea4510>"
       ]
      },
      {
       "javascript": [
        "$('div#4094f337-272d-4da6-a4d9-17231f3de08a').width('89%')"
       ],
       "metadata": {},
       "output_type": "display_data",
       "text": [
        "<IPython.core.display.Javascript at 0x10eea4190>"
       ]
      },
      {
       "javascript": [
        "$('div#4094f337-272d-4da6-a4d9-17231f3de08a').width('90%')"
       ],
       "metadata": {},
       "output_type": "display_data",
       "text": [
        "<IPython.core.display.Javascript at 0x10eea4110>"
       ]
      },
      {
       "javascript": [
        "$('div#4094f337-272d-4da6-a4d9-17231f3de08a').width('90%')"
       ],
       "metadata": {},
       "output_type": "display_data",
       "text": [
        "<IPython.core.display.Javascript at 0x10eea4650>"
       ]
      },
      {
       "javascript": [
        "$('div#4094f337-272d-4da6-a4d9-17231f3de08a').width('91%')"
       ],
       "metadata": {},
       "output_type": "display_data",
       "text": [
        "<IPython.core.display.Javascript at 0x10dad0810>"
       ]
      },
      {
       "javascript": [
        "$('div#4094f337-272d-4da6-a4d9-17231f3de08a').width('91%')"
       ],
       "metadata": {},
       "output_type": "display_data",
       "text": [
        "<IPython.core.display.Javascript at 0x10dad0a10>"
       ]
      },
      {
       "javascript": [
        "$('div#4094f337-272d-4da6-a4d9-17231f3de08a').width('92%')"
       ],
       "metadata": {},
       "output_type": "display_data",
       "text": [
        "<IPython.core.display.Javascript at 0x10dad0bd0>"
       ]
      },
      {
       "javascript": [
        "$('div#4094f337-272d-4da6-a4d9-17231f3de08a').width('92%')"
       ],
       "metadata": {},
       "output_type": "display_data",
       "text": [
        "<IPython.core.display.Javascript at 0x10dad0610>"
       ]
      },
      {
       "javascript": [
        "$('div#4094f337-272d-4da6-a4d9-17231f3de08a').width('93%')"
       ],
       "metadata": {},
       "output_type": "display_data",
       "text": [
        "<IPython.core.display.Javascript at 0x10dad06d0>"
       ]
      },
      {
       "javascript": [
        "$('div#4094f337-272d-4da6-a4d9-17231f3de08a').width('93%')"
       ],
       "metadata": {},
       "output_type": "display_data",
       "text": [
        "<IPython.core.display.Javascript at 0x10dad0290>"
       ]
      },
      {
       "javascript": [
        "$('div#4094f337-272d-4da6-a4d9-17231f3de08a').width('94%')"
       ],
       "metadata": {},
       "output_type": "display_data",
       "text": [
        "<IPython.core.display.Javascript at 0x10dad0710>"
       ]
      },
      {
       "javascript": [
        "$('div#4094f337-272d-4da6-a4d9-17231f3de08a').width('94%')"
       ],
       "metadata": {},
       "output_type": "display_data",
       "text": [
        "<IPython.core.display.Javascript at 0x10dad0b10>"
       ]
      },
      {
       "javascript": [
        "$('div#4094f337-272d-4da6-a4d9-17231f3de08a').width('95%')"
       ],
       "metadata": {},
       "output_type": "display_data",
       "text": [
        "<IPython.core.display.Javascript at 0x10dad0250>"
       ]
      }
     ]
    },
    {
     "cell_type": "markdown",
     "metadata": {},
     "source": [
      "#### Show the available fields from the processed data files"
     ]
    },
    {
     "cell_type": "code",
     "collapsed": false,
     "input": [
      "print(\"Data Fields: {}, {}, {}\".format(actual_data.index.name,\n",
      "                                       *actual_data.columns))"
     ],
     "language": "python",
     "metadata": {},
     "outputs": []
    },
    {
     "cell_type": "markdown",
     "metadata": {},
     "source": [
      "# Remove 'Sensor elevation above NAVD 88 (ft)'"
     ]
    },
    {
     "cell_type": "code",
     "collapsed": false,
     "input": [
      "for key, value in full_data.iteritems():\n",
      "    offset = float(value['meta']['elevation'])\n",
      "    value['data']['elevation'] -= offset"
     ],
     "language": "python",
     "metadata": {},
     "outputs": []
    },
    {
     "cell_type": "markdown",
     "metadata": {},
     "source": [
      "## Plot all Water Level data in the NJ area"
     ]
    },
    {
     "cell_type": "code",
     "collapsed": false,
     "input": [
      "fig, ax = plt.subplots(figsize=(16, 3))\n",
      "\n",
      "fig.suptitle('Water Elevation', fontsize=14)\n",
      "\n",
      "for key, value in full_data.iteritems():\n",
      "    try:\n",
      "        if 'SSS-NJ' in key:\n",
      "            df = value['data']                     \n",
      "            ax.plot(df.index, df['elevation'])\n",
      "            ax.set_xlabel('Date', fontsize=14)\n",
      "            ax.set_ylabel('Elevation (ft)', fontsize=14) \n",
      "    except Exception as e:\n",
      "        print(e)"
     ],
     "language": "python",
     "metadata": {},
     "outputs": []
    },
    {
     "cell_type": "markdown",
     "metadata": {},
     "source": [
      "## Plot all Pressure data in the NJ area"
     ]
    },
    {
     "cell_type": "code",
     "collapsed": false,
     "input": [
      "fig, ax = plt.subplots(figsize=(16, 3))\n",
      "\n",
      "fig.suptitle('nearest_barometric_sensor_psi', fontsize=14)\n",
      "\n",
      "for key, value in full_data.iteritems():\n",
      "    try:\n",
      "        if 'SSS-NJ' in key:\n",
      "            df = value['data']                     \n",
      "            ax.plot(df.index, df['nearest_barometric_sensor_psi'])\n",
      "            ax.set_xlabel('Date', fontsize=14)\n",
      "            ax.set_ylabel('Nearest barometric sensor (psi)', fontsize=14) \n",
      "    except Exception as e:\n",
      "        print(e)"
     ],
     "language": "python",
     "metadata": {},
     "outputs": []
    },
    {
     "cell_type": "markdown",
     "metadata": {},
     "source": [
      "## Map the Gage locations"
     ]
    },
    {
     "cell_type": "code",
     "collapsed": false,
     "input": [
      "map = folium.Map(width=800, height=500, location=[30, -73], zoom_start=4)\n",
      "\n",
      "# Generate the color map for the storms.\n",
      "color_list = {\"Tropical Storm\": '#4AD200',\n",
      "              \"Category 1 Hurricane\": '#CFD900',\n",
      "              \"Category 2 Hurricane\": '#E16400',\n",
      "              \"Category 3 Hurricane\": '#ff0000'}\n",
      "\n",
      "\n",
      "# Add the track line.\n",
      "with open('track.csv', 'rb') as csvfile:\n",
      "    spamreader = csv.reader(csvfile, delimiter=',', quotechar='|')\n",
      "    for row in spamreader:\n",
      "        lon, lat = row[3], row[2]\n",
      "        popup = \"{} : {} <br> {}\".format(row[0], row[1], row[6])\n",
      "        map.circle_marker([lat, lon], popup=popup,\n",
      "                          fill_color=color_list[row[6]],\n",
      "                          radius=10000, line_color='#000000')\n",
      "\n",
      "# Add the station.\n",
      "for st in full_data:\n",
      "    lat = full_data[st]['meta']['lat']\n",
      "    lon = full_data[st]['meta']['lon']\n",
      "    map.simple_marker([lat, lon], popup=st, clustered_marker=True)    \n",
      "\n",
      "map.add_layers_to_map()\n",
      "inline_map(map)"
     ],
     "language": "python",
     "metadata": {},
     "outputs": []
    },
    {
     "cell_type": "markdown",
     "metadata": {},
     "source": [
      "## Generate Plot Of Maximum Water Levels from each gage"
     ]
    },
    {
     "cell_type": "code",
     "collapsed": false,
     "input": [
      "dt, dv = [], []\n",
      "\n",
      "fig, ax = plt.subplots(figsize=(16, 3))\n",
      "fig.suptitle('Max Water Level (ft), 2011', fontsize=14)\n",
      "\n",
      "for key, value in full_data.iteritems():\n",
      "    df = value['data']                     \n",
      "    z = df['elevation'].values\n",
      "    \n",
      "    idx = np.argmax(z)\n",
      "    val = z[idx]\n",
      "    t = df.index[idx]\n",
      "    \n",
      "    dt.append(t)\n",
      "    dv.append(val)\n",
      "    \n",
      "    data_dict = {'elevation': dv,\n",
      "                 'dates': dt}\n",
      "    \n",
      "    df = pd.DataFrame(data=data_dict, index=dt, columns=['elevation', 'dates'])   \n",
      "    \n",
      "    ax.scatter(df.index, df['elevation'])\n",
      "    ax.set_xlabel('Date', fontsize=14)\n",
      "    ax.set_ylabel('Water Level (ft)', fontsize=14) \n",
      "\n",
      "\n",
      "ax.set_ylim(0, 20)\n",
      "ax.set_xlim(md.date2num(datetime(2011, 8, 25, 20)),\n",
      "            md.date2num(datetime(2011, 8, 30)))\n",
      "ax.xaxis.set_major_formatter(md.DateFormatter('%B,%d\\n%H:%M'))"
     ],
     "language": "python",
     "metadata": {},
     "outputs": []
    },
    {
     "cell_type": "markdown",
     "metadata": {},
     "source": [
      "## Generate Plot of maximum water level and its location"
     ]
    },
    {
     "cell_type": "code",
     "collapsed": false,
     "input": [
      "mpl.rcParams['legend.fontsize'] = 10\n",
      "\n",
      "x, y, zz, bpz = [], [], [], []\n",
      "\n",
      "fig, ax = plt.subplots(figsize=(10, 10))\n",
      "\n",
      "for key, value in full_data.iteritems():\n",
      "    df = value['data']\n",
      "    z = df['elevation'].values\n",
      "    bp = df['nearest_barometric_sensor_psi'].values\n",
      "    lon = value['meta']['lon']\n",
      "    lat = value['meta']['lat']\n",
      "    \n",
      "    idx = np.argmax(z)\n",
      "    bpz.append(bp[idx])\n",
      "    zz.append(z[idx])\n",
      "    x.append(lon)\n",
      "    y.append(lat)\n",
      "\n",
      "bpz = np.array(bpz) * 10.\n",
      "pts = ax.scatter(x, y, c=zz, s=bpz)\n",
      "ax.set_xlabel('Lon')\n",
      "ax.set_ylabel('Lat')\n",
      "title = (\"Plot Showing Locations of Maximum Water Level\\n\"\n",
      "         \"Color coded by Maximum water level (ft)\\n\"\n",
      "         \"Sized by barometric pressure (psi)\")\n",
      "ax.set_title(title)\n",
      "cb = fig.colorbar(pts)"
     ],
     "language": "python",
     "metadata": {},
     "outputs": []
    }
   ],
   "metadata": {}
  }
 ]
}