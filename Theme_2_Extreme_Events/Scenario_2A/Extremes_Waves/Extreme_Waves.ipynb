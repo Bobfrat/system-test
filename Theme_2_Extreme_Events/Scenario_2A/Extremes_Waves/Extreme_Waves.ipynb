{
 "metadata": {
  "name": "",
  "signature": "sha256:32ab320b344cb93bd8f9e83838c40f5c0b679934b42c7675df7c52ddbb9db1bd"
 },
 "nbformat": 3,
 "nbformat_minor": 0,
 "worksheets": [
  {
   "cells": [
    {
     "cell_type": "markdown",
     "metadata": {},
     "source": [
      "># IOOS System Test: [Extreme Events Theme:](https://github.com/ioos/system-test/wiki/Development-of-Test-Themes#theme-2-extreme-events) Inundation"
     ]
    },
    {
     "cell_type": "markdown",
     "metadata": {},
     "source": [
      "### Can we estimate the return period of a wave height by obtaining long term wave height records from observed and modeled datasets?\n",
      "####Methodology:\n",
      "\n",
      "* Define temporal and spatial bounds of interest\n",
      "* Define standard names of variable of interest to search for in data sets\n",
      "* Search for available service endpoints in the NGDC CSW catalog meeting search criteria\n",
      "* Extract OPeNDAP data endpoints from model datasets and SOS endpoints from station observation datasets\n",
      "* Obtain long term observation data sets from a station within bounding box (10+ years)\n",
      "* Define a new temporal range to search for a particular event (Hurricane Sandy)\n",
      "* Using DAP (model) endpoints find all available model data sets in the bounding box, for the specified time range, and extract a model grid cell closest to the observation station\n",
      "* Show observation stations and model grid points on a map (red marker for model grid points) \n",
      "* Find the maximum wave height during the event.\n",
      "* Perform return period analysis on the long time series observation data and see where the modeled data falls\n",
      "* Extract the annual maximum wave heights from the nearest WIS hindcast location (Over 20 Years!)\n",
      "* Perform return period analysis on the long time series WIS hindcast"
     ]
    },
    {
     "cell_type": "markdown",
     "metadata": {},
     "source": [
      "### import required libraries"
     ]
    },
    {
     "cell_type": "code",
     "collapsed": false,
     "input": [
      "import matplotlib.pyplot as plt\n",
      "from warnings import warn\n",
      "from io import BytesIO\n",
      "import sys\n",
      "import csv\n",
      "import json\n",
      "import time\n",
      "from scipy.stats import genextreme\n",
      "import scipy.stats as ss\n",
      "import numpy as np\n",
      "\n",
      "from owslib.csw import CatalogueServiceWeb\n",
      "from owslib import fes\n",
      "from IPython.display import HTML\n",
      "import folium #required for leaflet mapping\n",
      "import random\n",
      "import netCDF4\n",
      "from netCDF4 import num2date\n",
      "import pandas as pd\n",
      "import datetime as dt\n",
      "from pyoos.collectors.ndbc.ndbc_sos import NdbcSos\n",
      "import iris\n",
      "from collections import OrderedDict\n",
      "#generated for csw interface\n",
      "#from date_range_formatter import dateRange  #date formatter (R.Signell)\n",
      "import requests              #required for the processing of requests\n",
      "from utilities import (fes_date_filter, get_station_data, find_timevar, find_ij, nearxy, service_urls, mod_df, \n",
      "                       get_coordinates, inline_map, get_station_longName, css_styles)\n",
      "css_styles()"
     ],
     "language": "python",
     "metadata": {},
     "outputs": [
      {
       "html": [
        "\n",
        "        <style>\n",
        "        .info {\n",
        "            background-color: #fcf8e3; border-color: #faebcc; border-left: 5px solid #8a6d3b; padding: 0.5em; color: #8a6d3b;\n",
        "        }\n",
        "        .success {\n",
        "            background-color: #d9edf7; border-color: #bce8f1; border-left: 5px solid #31708f; padding: 0.5em; color: #31708f;\n",
        "        }\n",
        "        .error {\n",
        "            background-color: #f2dede; border-color: #ebccd1; border-left: 5px solid #a94442; padding: 0.5em; color: #a94442;\n",
        "        }\n",
        "        .warning {\n",
        "            background-color: #fcf8e3; border-color: #faebcc; border-left: 5px solid #8a6d3b; padding: 0.5em; color: #8a6d3b;\n",
        "        }\n",
        "        </style>\n",
        "    "
       ],
       "metadata": {},
       "output_type": "pyout",
       "prompt_number": 1,
       "text": [
        "<IPython.core.display.HTML at 0x10d821e50>"
       ]
      }
     ],
     "prompt_number": 1
    },
    {
     "cell_type": "markdown",
     "metadata": {},
     "source": [
      "### Define temporal and spatial bounds of interest"
     ]
    },
    {
     "cell_type": "code",
     "collapsed": false,
     "input": [
      "bounding_box_type = \"box\" \n",
      "\n",
      "# Bounding Box [lon_min, lat_min, lon_max, lat_max]\n",
      "area = {'Hawaii': [-160.0, 18.0, -154., 23.0],\n",
      "        'Gulf of Maine': [-72.0, 41.0, -69.0, 43.0],\n",
      "        'New York harbor region': [-75., 39., -71., 41.5],\n",
      "        'Puerto Rico': [-75, 12, -55, 26],\n",
      "        'East Coast': [-77, 36, -73, 38],\n",
      "        'North West': [-130, 38, -121, 50],\n",
      "        'Gulf of Mexico': [-92, 28, -84, 31],\n",
      "        'Arctic': [-179, 63, -140, 80],\n",
      "        'North East': [-74, 40, -69, 42],\n",
      "        'Virginia Beach': [-76, 34, -74, 38]}\n",
      "\n",
      "bounding_box = area['Virginia Beach']\n",
      "\n",
      "#temporal range\n",
      "start_date = dt.datetime(1994,8,1).strftime('%Y-%m-%d %H:00')\n",
      "end_date = dt.datetime(2014,8,1).strftime('%Y-%m-%d %H:00')\n",
      "\n",
      "print start_date,'to',end_date"
     ],
     "language": "python",
     "metadata": {},
     "outputs": [
      {
       "output_type": "stream",
       "stream": "stdout",
       "text": [
        "1994-08-01 00:00 to 2014-08-01 00:00\n"
       ]
      }
     ],
     "prompt_number": 2
    },
    {
     "cell_type": "markdown",
     "metadata": {},
     "source": [
      "### Define standard names of variable of interest to search for in data sets"
     ]
    },
    {
     "cell_type": "code",
     "collapsed": false,
     "input": [
      "# put the names in a dict for ease of access \n",
      "data_dict = {}\n",
      "sos_name = 'waves'\n",
      "data_dict[\"waves\"] = {\"names\":['sea_surface_wave_significant_height',\n",
      "                               'significant_wave_height',\n",
      "                               'significant_height_of_wave',\n",
      "                               'sea_surface_wave_significant_height(m)',\n",
      "                               'sea_surface_wave_significant_height (m)',\n",
      "                               'water_surface_height'], \n",
      "                      \"sos_name\":[\"waves\"]} "
     ],
     "language": "python",
     "metadata": {},
     "outputs": [],
     "prompt_number": 3
    },
    {
     "cell_type": "markdown",
     "metadata": {},
     "source": [
      "### Search for available service endpoints in the NGDC CSW catalog meeting search criteria"
     ]
    },
    {
     "cell_type": "code",
     "collapsed": false,
     "input": [
      "endpoint = 'http://www.ngdc.noaa.gov/geoportal/csw' # NGDC Geoportal\n",
      "csw = CatalogueServiceWeb(endpoint,timeout=60)\n",
      "\n",
      "# convert User Input into FES filters\n",
      "start,stop = fes_date_filter(start_date, end_date)\n",
      "bbox = fes.BBox(bounding_box)\n",
      "\n",
      "#use the search name to create search filter\n",
      "or_filt = fes.Or([fes.PropertyIsLike(propertyname='apiso:AnyText',literal='*%s*' % val,\n",
      "                    escapeChar='\\\\',wildCard='*',singleChar='?') for val in data_dict['waves']['names']])\n",
      "\n",
      "filter_list = [fes.And([ bbox, start, stop, or_filt]) ]\n",
      "# connect to CSW, explore it's properties\n",
      "# try request using multiple filters \"and\" syntax: [[filter1,filter2]]\n",
      "try:\n",
      "    csw.getrecords2(constraints=filter_list, maxrecords=1000, esn='full')\n",
      "except Exception as e:\n",
      "    print 'ERROR - ' + str(e)\n",
      "else:\n",
      "    print str(len(csw.records)) + \" csw records found\""
     ],
     "language": "python",
     "metadata": {},
     "outputs": [
      {
       "output_type": "stream",
       "stream": "stdout",
       "text": [
        "462 csw records found\n"
       ]
      }
     ],
     "prompt_number": 4
    },
    {
     "cell_type": "markdown",
     "metadata": {},
     "source": [
      "#### Dap URLS"
     ]
    },
    {
     "cell_type": "code",
     "collapsed": false,
     "input": [
      "dap_urls = service_urls(csw.records)\n",
      "\n",
      "#remove duplicates and sort\n",
      "dap_urls = sorted(set(dap_urls))\n",
      "print \"Total DAP:\",len(dap_urls)\n",
      "#print the first 10...\n",
      "print \"\\n\".join(dap_urls[:])"
     ],
     "language": "python",
     "metadata": {},
     "outputs": [
      {
       "output_type": "stream",
       "stream": "stdout",
       "text": [
        "Total DAP: 198\n",
        "http://colossus.dl.stevens-tech.edu/thredds/dodsC/latest/Complete_gcmplt.nc\n",
        "http://comt.sura.org/thredds/dodsC/data/comt_1_archive/inundation_tropical/VIMS_SELFE/Hurricane_Ike_2D_final_run_wave_only\n",
        "http://comt.sura.org/thredds/dodsC/data/comt_1_archive/inundation_tropical/VIMS_SELFE/Hurricane_Ike_2D_final_run_with_waves\n",
        "http://comt.sura.org/thredds/dodsC/data/comt_1_archive/inundation_tropical/VIMS_SELFE/Hurricane_Ike_2D_final_run_without_waves\n",
        "http://comt.sura.org/thredds/dodsC/data/comt_1_archive/inundation_tropical/VIMS_SELFE/Hurricane_Ike_3D_final_run_with_waves\n",
        "http://comt.sura.org/thredds/dodsC/data/comt_1_archive/inundation_tropical/VIMS_SELFE/Hurricane_Ike_3D_final_run_without_waves\n",
        "http://comt.sura.org/thredds/dodsC/data/comt_1_archive/inundation_tropical/VIMS_SELFE/Hurricane_Rita_2D_final_run_waves_only\n",
        "http://comt.sura.org/thredds/dodsC/data/comt_1_archive/inundation_tropical/VIMS_SELFE/Hurricane_Rita_2D_final_run_with_waves\n",
        "http://comt.sura.org/thredds/dodsC/data/comt_1_archive/inundation_tropical/VIMS_SELFE/Hurricane_Rita_2D_final_run_without_waves\n",
        "http://comt.sura.org/thredds/dodsC/data/comt_1_archive/inundation_tropical/VIMS_SELFE/Hurricane_Rita_3D_final_run_with_waves\n",
        "http://comt.sura.org/thredds/dodsC/data/comt_1_archive/inundation_tropical/VIMS_SELFE/Hurricane_Rita_3D_final_run_without_waves\n",
        "http://data.ioos.us/thredds/dodsC/deployments/rutgers/ru22-20130924T2010/ru22-20130924T2010.nc3.nc\n",
        "http://data.ioos.us/thredds/dodsC/deployments/rutgers/ru23-20130305T2004/ru23-20130305T2004.nc3.nc\n",
        "http://ecowatch.ncddc.noaa.gov/thredds/dodsC/ncom/ncom_reg1_agg/NCOM_Region_1_Aggregation_best.ncd\n",
        "http://ecowatch.ncddc.noaa.gov/thredds/dodsC/onomads/rtofs/rtofs_surface_agg/best\n",
        "http://ecowatch.ncddc.noaa.gov/thredds/dodsC/onomads/rtofs/rtofs_volume_agg/best\n",
        "http://geoport-dev.whoi.edu/thredds/dodsC/estofs/atlantic\n",
        "http://geoport.whoi.edu/thredds/dodsC/coawst_4/use/fmrc/coawst_4_use_best.ncd\n",
        "http://hfrnet.ucsd.edu/thredds/dodsC/HFRNet/USEGC/1km/hourly/GNOME\n",
        "http://hfrnet.ucsd.edu/thredds/dodsC/HFRNet/USEGC/1km/hourly/RTV\n",
        "http://hfrnet.ucsd.edu/thredds/dodsC/HFRNet/USEGC/2km/hourly/GNOME\n",
        "http://hfrnet.ucsd.edu/thredds/dodsC/HFRNet/USEGC/2km/hourly/RTV\n",
        "http://hfrnet.ucsd.edu/thredds/dodsC/HFRNet/USEGC/6km/hourly/GNOME\n",
        "http://hfrnet.ucsd.edu/thredds/dodsC/HFRNet/USEGC/6km/hourly/RTV\n",
        "http://omgsrv1.meas.ncsu.edu:8080/thredds/dodsC/fmrc/sabgom/SABGOM_Forecast_Model_Run_Collection_best.ncd\n",
        "http://omgsrv1.meas.ncsu.edu:8080/thredds/dodsC/fmrc/us_east/US_East_Forecast_Model_Run_Collection_best.ncd\n",
        "http://oos.soest.hawaii.edu/thredds/dodsC/dist2coast_1deg\n",
        "http://oos.soest.hawaii.edu/thredds/dodsC/dist2coast_1deg_land\n",
        "http://oos.soest.hawaii.edu/thredds/dodsC/dist2coast_1deg_ocean\n",
        "http://oos.soest.hawaii.edu/thredds/dodsC/dist2coast_4deg\n",
        "http://oos.soest.hawaii.edu/thredds/dodsC/dist2coast_4deg_land\n",
        "http://oos.soest.hawaii.edu/thredds/dodsC/dist2coast_4deg_ocean\n",
        "http://oos.soest.hawaii.edu/thredds/dodsC/hioos/model/atm/ncep_global/NCEP_Global_Atmospheric_Model_best.ncd\n",
        "http://oos.soest.hawaii.edu/thredds/dodsC/hioos/model/wav/ww3/WaveWatch_III_Global_Wave_Model_best.ncd\n",
        "http://oos.soest.hawaii.edu/thredds/dodsC/hioos/satellite/dhw\n",
        "http://oos.soest.hawaii.edu/thredds/dodsC/hioos/tide_pac\n",
        "http://oos.soest.hawaii.edu/thredds/dodsC/pacioos/hycom/global\n",
        "http://oos.soest.hawaii.edu/thredds/dodsC/pacioos/scud/pac\n",
        "http://sos.maracoos.org/stable/dodsC/sldmb/buoy38796-agg.ncml\n",
        "http://sos.maracoos.org/stable/dodsC/sldmb/buoy38846-agg.ncml\n",
        "http://sos.maracoos.org/stable/dodsC/wflow697-agg.ncml\n",
        "http://sos.maracoos.org/stable/dodsC/wflow700-agg.ncml\n",
        "http://sos.maracoos.org/thredds/dodsC/agg/codarstps/agg.nc\n",
        "http://sos.maracoos.org/thredds/dodsC/agg/hfradar/agg.nc\n",
        "http://sos.maracoos.org/thredds/dodsC/agg/nam/agg.nc\n",
        "http://sos.maracoos.org/thredds/dodsC/agg/stevensnyhops/agg.nc\n",
        "http://sos.maracoos.org/thredds/dodsC/agg/umasshops/agg.nc\n",
        "http://tds.maracoos.org/thredds/dodsC/MODIS-2009-Agg.nc\n",
        "http://tds.maracoos.org/thredds/dodsC/MODIS-2010-Agg.nc\n",
        "http://tds.maracoos.org/thredds/dodsC/MODIS-2011-Agg.nc\n",
        "http://tds.maracoos.org/thredds/dodsC/MODIS-2012-Agg.nc\n",
        "http://tds.maracoos.org/thredds/dodsC/MODIS-2013-Agg.nc\n",
        "http://tds.marine.rutgers.edu/thredds/dodsC/roms/espresso/2013_da/avg_Best/ESPRESSO_Real-Time_v2_Averages_Best_Available_best.ncd\n",
        "http://tds.marine.rutgers.edu/thredds/dodsC/roms/espresso/2013_da/his_Best/ESPRESSO_Real-Time_v2_History_Best_Available_best.ncd\n",
        "http://thredds.axiomalaska.com/thredds/dodsC/Aquarius_SSS_Daily.nc\n",
        "http://thredds.axiomalaska.com/thredds/dodsC/Aquarius_SSS_Monthly.nc\n",
        "http://thredds.axiomalaska.com/thredds/dodsC/Aquarius_SSS_Trimonthly.nc\n",
        "http://thredds.axiomalaska.com/thredds/dodsC/Aquarius_SSS_Weekly.nc\n",
        "http://thredds.axiomalaska.com/thredds/dodsC/Aquarius_V3_SSS_Daily.nc\n",
        "http://thredds.axiomalaska.com/thredds/dodsC/Aquarius_V3_SSS_Monthly.nc\n",
        "http://thredds.axiomalaska.com/thredds/dodsC/Aquarius_V3_SSS_Weekly.nc\n",
        "http://thredds.axiomalaska.com/thredds/dodsC/Aquarius_V3_scat_wind_speed_Daily.nc\n",
        "http://thredds.axiomalaska.com/thredds/dodsC/Aquarius_V3_scat_wind_speed_Monthly.nc\n",
        "http://thredds.axiomalaska.com/thredds/dodsC/Aquarius_V3_scat_wind_speed_Weekly.nc\n",
        "http://thredds.axiomalaska.com/thredds/dodsC/Aquarius_scat_wind_speed_Daily.nc\n",
        "http://thredds.axiomalaska.com/thredds/dodsC/Aquarius_scat_wind_speed_Monthly.nc\n",
        "http://thredds.axiomalaska.com/thredds/dodsC/Aquarius_scat_wind_speed_Trimonthly.nc\n",
        "http://thredds.axiomalaska.com/thredds/dodsC/Aquarius_scat_wind_speed_Weekly.nc\n",
        "http://thredds.axiomalaska.com/thredds/dodsC/NSIDC_SEA_ICE_CON.nc\n",
        "http://thredds.cdip.ucsd.edu/thredds/dodsC/cdip/archive/028p1/028p1_d03.nc\n",
        "http://thredds.cdip.ucsd.edu/thredds/dodsC/cdip/archive/028p1/028p1_d07.nc\n",
        "http://thredds.cdip.ucsd.edu/thredds/dodsC/cdip/archive/028p1/028p1_d08.nc\n",
        "http://thredds.cdip.ucsd.edu/thredds/dodsC/cdip/archive/028p1/028p1_d10.nc\n",
        "http://thredds.cdip.ucsd.edu/thredds/dodsC/cdip/archive/028p1/028p1_historic.nc\n",
        "http://thredds.cdip.ucsd.edu/thredds/dodsC/cdip/archive/029p1/029p1_d02.nc\n",
        "http://thredds.cdip.ucsd.edu/thredds/dodsC/cdip/archive/029p1/029p1_d06.nc\n",
        "http://thredds.cdip.ucsd.edu/thredds/dodsC/cdip/archive/029p1/029p1_d08.nc\n",
        "http://thredds.cdip.ucsd.edu/thredds/dodsC/cdip/archive/029p1/029p1_d13.nc\n",
        "http://thredds.cdip.ucsd.edu/thredds/dodsC/cdip/archive/029p1/029p1_d17.nc\n",
        "http://thredds.cdip.ucsd.edu/thredds/dodsC/cdip/archive/029p1/029p1_d18.nc\n",
        "http://thredds.cdip.ucsd.edu/thredds/dodsC/cdip/archive/029p1/029p1_d19.nc\n",
        "http://thredds.cdip.ucsd.edu/thredds/dodsC/cdip/archive/029p1/029p1_historic.nc\n",
        "http://thredds.cdip.ucsd.edu/thredds/dodsC/cdip/archive/036p1/036p1_d32.nc\n",
        "http://thredds.cdip.ucsd.edu/thredds/dodsC/cdip/archive/045p1/045p1_d12.nc\n",
        "http://thredds.cdip.ucsd.edu/thredds/dodsC/cdip/archive/067p1/067p1_d16.nc\n",
        "http://thredds.cdip.ucsd.edu/thredds/dodsC/cdip/archive/067p1/067p1_historic.nc\n",
        "http://thredds.cdip.ucsd.edu/thredds/dodsC/cdip/archive/071p1/071p1_d05.nc\n",
        "http://thredds.cdip.ucsd.edu/thredds/dodsC/cdip/archive/071p1/071p1_d06.nc\n",
        "http://thredds.cdip.ucsd.edu/thredds/dodsC/cdip/archive/071p1/071p1_d07.nc\n",
        "http://thredds.cdip.ucsd.edu/thredds/dodsC/cdip/archive/071p1/071p1_d08.nc\n",
        "http://thredds.cdip.ucsd.edu/thredds/dodsC/cdip/archive/071p1/071p1_d09.nc\n",
        "http://thredds.cdip.ucsd.edu/thredds/dodsC/cdip/archive/071p1/071p1_d17.nc\n",
        "http://thredds.cdip.ucsd.edu/thredds/dodsC/cdip/archive/071p1/071p1_historic.nc\n",
        "http://thredds.cdip.ucsd.edu/thredds/dodsC/cdip/archive/076p1/076p1_d26.nc\n",
        "http://thredds.cdip.ucsd.edu/thredds/dodsC/cdip/archive/076p1/076p1_d27.nc\n",
        "http://thredds.cdip.ucsd.edu/thredds/dodsC/cdip/archive/091p1/091p1_d13.nc\n",
        "http://thredds.cdip.ucsd.edu/thredds/dodsC/cdip/archive/091p1/091p1_d14.nc\n",
        "http://thredds.cdip.ucsd.edu/thredds/dodsC/cdip/archive/092p1/092p1_d05.nc\n",
        "http://thredds.cdip.ucsd.edu/thredds/dodsC/cdip/archive/092p1/092p1_d12.nc\n",
        "http://thredds.cdip.ucsd.edu/thredds/dodsC/cdip/archive/094p1/094p1_d01.nc\n",
        "http://thredds.cdip.ucsd.edu/thredds/dodsC/cdip/archive/094p1/094p1_d04.nc\n",
        "http://thredds.cdip.ucsd.edu/thredds/dodsC/cdip/archive/094p1/094p1_d05.nc\n",
        "http://thredds.cdip.ucsd.edu/thredds/dodsC/cdip/archive/094p1/094p1_d06.nc\n",
        "http://thredds.cdip.ucsd.edu/thredds/dodsC/cdip/archive/094p1/094p1_d07.nc\n",
        "http://thredds.cdip.ucsd.edu/thredds/dodsC/cdip/archive/094p1/094p1_d10.nc\n",
        "http://thredds.cdip.ucsd.edu/thredds/dodsC/cdip/archive/094p1/094p1_d11.nc\n",
        "http://thredds.cdip.ucsd.edu/thredds/dodsC/cdip/archive/094p1/094p1_d12.nc\n",
        "http://thredds.cdip.ucsd.edu/thredds/dodsC/cdip/archive/094p1/094p1_historic.nc\n",
        "http://thredds.cdip.ucsd.edu/thredds/dodsC/cdip/archive/095p1/095p1_d05.nc\n",
        "http://thredds.cdip.ucsd.edu/thredds/dodsC/cdip/archive/095p1/095p1_d06.nc\n",
        "http://thredds.cdip.ucsd.edu/thredds/dodsC/cdip/archive/096p1/096p1_d08.nc\n",
        "http://thredds.cdip.ucsd.edu/thredds/dodsC/cdip/archive/096p1/096p1_d09.nc\n",
        "http://thredds.cdip.ucsd.edu/thredds/dodsC/cdip/archive/096p1/096p1_historic.nc\n",
        "http://thredds.cdip.ucsd.edu/thredds/dodsC/cdip/archive/098p1/098p1_d06.nc\n",
        "http://thredds.cdip.ucsd.edu/thredds/dodsC/cdip/archive/098p1/098p1_d08.nc\n",
        "http://thredds.cdip.ucsd.edu/thredds/dodsC/cdip/archive/098p1/098p1_d12.nc\n",
        "http://thredds.cdip.ucsd.edu/thredds/dodsC/cdip/archive/100p1/100p1_d02.nc\n",
        "http://thredds.cdip.ucsd.edu/thredds/dodsC/cdip/archive/100p1/100p1_d03.nc\n",
        "http://thredds.cdip.ucsd.edu/thredds/dodsC/cdip/archive/100p1/100p1_d05.nc\n",
        "http://thredds.cdip.ucsd.edu/thredds/dodsC/cdip/archive/100p1/100p1_historic.nc\n",
        "http://thredds.cdip.ucsd.edu/thredds/dodsC/cdip/archive/101p1/101p1_d01.nc\n",
        "http://thredds.cdip.ucsd.edu/thredds/dodsC/cdip/archive/102p1/102p1_d01.nc\n",
        "http://thredds.cdip.ucsd.edu/thredds/dodsC/cdip/archive/102p1/102p1_historic.nc\n",
        "http://thredds.cdip.ucsd.edu/thredds/dodsC/cdip/archive/111p1/111p1_d01.nc\n",
        "http://thredds.cdip.ucsd.edu/thredds/dodsC/cdip/archive/111p1/111p1_d02.nc\n",
        "http://thredds.cdip.ucsd.edu/thredds/dodsC/cdip/archive/111p1/111p1_d03.nc\n",
        "http://thredds.cdip.ucsd.edu/thredds/dodsC/cdip/archive/111p1/111p1_d05.nc\n",
        "http://thredds.cdip.ucsd.edu/thredds/dodsC/cdip/archive/111p1/111p1_d07.nc\n",
        "http://thredds.cdip.ucsd.edu/thredds/dodsC/cdip/archive/114p1/114p1_d04.nc\n",
        "http://thredds.cdip.ucsd.edu/thredds/dodsC/cdip/archive/118p1/118p1_d01.nc\n",
        "http://thredds.cdip.ucsd.edu/thredds/dodsC/cdip/archive/125p1/125p1_d01.nc\n",
        "http://thredds.cdip.ucsd.edu/thredds/dodsC/cdip/archive/126p1/126p1_d02.nc\n",
        "http://thredds.cdip.ucsd.edu/thredds/dodsC/cdip/archive/128p1/128p1_d07.nc\n",
        "http://thredds.cdip.ucsd.edu/thredds/dodsC/cdip/archive/139p1/139p1_d02.nc\n",
        "http://thredds.cdip.ucsd.edu/thredds/dodsC/cdip/archive/139p1/139p1_d06.nc\n",
        "http://thredds.cdip.ucsd.edu/thredds/dodsC/cdip/archive/139p1/139p1_historic.nc\n",
        "http://thredds.cdip.ucsd.edu/thredds/dodsC/cdip/archive/141p1/141p1_d04.nc\n",
        "http://thredds.cdip.ucsd.edu/thredds/dodsC/cdip/archive/141p1/141p1_historic.nc\n",
        "http://thredds.cdip.ucsd.edu/thredds/dodsC/cdip/archive/142p1/142p1_d04.nc\n",
        "http://thredds.cdip.ucsd.edu/thredds/dodsC/cdip/archive/142p1/142p1_d06.nc\n",
        "http://thredds.cdip.ucsd.edu/thredds/dodsC/cdip/archive/142p1/142p1_d11.nc\n",
        "http://thredds.cdip.ucsd.edu/thredds/dodsC/cdip/archive/142p1/142p1_d13.nc\n",
        "http://thredds.cdip.ucsd.edu/thredds/dodsC/cdip/archive/142p1/142p1_d14.nc\n",
        "http://thredds.cdip.ucsd.edu/thredds/dodsC/cdip/archive/142p1/142p1_historic.nc\n",
        "http://thredds.cdip.ucsd.edu/thredds/dodsC/cdip/archive/147p1/147p1_d01.nc\n",
        "http://thredds.cdip.ucsd.edu/thredds/dodsC/cdip/archive/147p1/147p1_d02.nc\n",
        "http://thredds.cdip.ucsd.edu/thredds/dodsC/cdip/archive/147p1/147p1_d03.nc\n",
        "http://thredds.cdip.ucsd.edu/thredds/dodsC/cdip/archive/147p1/147p1_d04.nc\n",
        "http://thredds.cdip.ucsd.edu/thredds/dodsC/cdip/archive/147p1/147p1_d05.nc\n",
        "http://thredds.cdip.ucsd.edu/thredds/dodsC/cdip/archive/147p1/147p1_d06.nc\n",
        "http://thredds.cdip.ucsd.edu/thredds/dodsC/cdip/archive/147p1/147p1_d07.nc\n",
        "http://thredds.cdip.ucsd.edu/thredds/dodsC/cdip/archive/147p1/147p1_d08.nc\n",
        "http://thredds.cdip.ucsd.edu/thredds/dodsC/cdip/archive/147p1/147p1_d09.nc\n",
        "http://thredds.cdip.ucsd.edu/thredds/dodsC/cdip/archive/147p1/147p1_d10.nc\n",
        "http://thredds.cdip.ucsd.edu/thredds/dodsC/cdip/archive/147p1/147p1_historic.nc\n",
        "http://thredds.cdip.ucsd.edu/thredds/dodsC/cdip/archive/156p1/156p1_d02.nc\n",
        "http://thredds.cdip.ucsd.edu/thredds/dodsC/cdip/archive/156p1/156p1_d04.nc\n",
        "http://thredds.cdip.ucsd.edu/thredds/dodsC/cdip/archive/156p1/156p1_d05.nc\n",
        "http://thredds.cdip.ucsd.edu/thredds/dodsC/cdip/archive/156p1/156p1_d07.nc\n",
        "http://thredds.cdip.ucsd.edu/thredds/dodsC/cdip/archive/157p1/157p1_d03.nc\n",
        "http://thredds.cdip.ucsd.edu/thredds/dodsC/cdip/archive/157p1/157p1_d04.nc\n",
        "http://thredds.cdip.ucsd.edu/thredds/dodsC/cdip/archive/161p1/161p1_d02.nc\n",
        "http://thredds.cdip.ucsd.edu/thredds/dodsC/cdip/archive/162p1/162p1_d02.nc\n",
        "http://thredds.cdip.ucsd.edu/thredds/dodsC/cdip/archive/162p1/162p1_d03.nc\n",
        "http://thredds.cdip.ucsd.edu/thredds/dodsC/cdip/archive/166p1/166p1_d01.nc\n",
        "http://thredds.cdip.ucsd.edu/thredds/dodsC/cdip/archive/168p1/168p1_d05.nc\n",
        "http://thredds.cdip.ucsd.edu/thredds/dodsC/cdip/archive/172p1/172p1_d01.nc\n",
        "http://thredds.cdip.ucsd.edu/thredds/dodsC/cdip/archive/174p1/174p1_d01.nc\n",
        "http://thredds.cdip.ucsd.edu/thredds/dodsC/cdip/archive/175p1/175p1_d01.nc\n",
        "http://thredds.cdip.ucsd.edu/thredds/dodsC/cdip/archive/175p1/175p1_d02.nc\n",
        "http://thredds.cdip.ucsd.edu/thredds/dodsC/cdip/archive/175p1/175p1_d03.nc\n",
        "http://thredds.cdip.ucsd.edu/thredds/dodsC/cdip/archive/175p1/175p1_d04.nc\n",
        "http://thredds.cdip.ucsd.edu/thredds/dodsC/cdip/archive/179p1/179p1_combo_tmp.nc\n",
        "http://thredds.cdip.ucsd.edu/thredds/dodsC/cdip/archive/179p1/179p1_d01.nc\n",
        "http://thredds.cdip.ucsd.edu/thredds/dodsC/cdip/archive/179p1/179p1_d02.nc\n",
        "http://thredds.cdip.ucsd.edu/thredds/dodsC/cdip/archive/179p1/179p1_d03.nc\n",
        "http://thredds.cdip.ucsd.edu/thredds/dodsC/cdip/archive/179p1/179p1_d04.nc\n",
        "http://thredds.cdip.ucsd.edu/thredds/dodsC/cdip/archive/185p1/185p1_d01.nc\n",
        "http://thredds.cdip.ucsd.edu/thredds/dodsC/cdip/archive/185p1/185p1_d02.nc\n",
        "http://thredds.cdip.ucsd.edu/thredds/dodsC/cdip/archive/185p1/185p1_d03.nc\n",
        "http://thredds.cdip.ucsd.edu/thredds/dodsC/cdip/archive/186p1/186p1_d01.nc\n",
        "http://thredds.cdip.ucsd.edu/thredds/dodsC/cdip/archive/186p1/186p1_d02.nc\n",
        "http://thredds.cdip.ucsd.edu/thredds/dodsC/cdip/archive/186p1/186p1_historic.nc\n",
        "http://thredds.cdip.ucsd.edu/thredds/dodsC/cdip/archive/190p1/190p1_d01.nc\n",
        "http://thredds.cdip.ucsd.edu/thredds/dodsC/cdip/archive/191p1/191p1_d03.nc\n",
        "http://thredds.cdip.ucsd.edu/thredds/dodsC/cdip/archive/192p1/192p1_d01.nc\n",
        "http://thredds.cdip.ucsd.edu/thredds/dodsC/cdip/archive/192p1/192p1_historic.nc\n",
        "http://thredds.cdip.ucsd.edu/thredds/dodsC/cdip/archive/195p1/195p1_d01.nc\n",
        "http://thredds.cdip.ucsd.edu/thredds/dodsC/cdip/archive/204p1/204p1_d01.nc\n",
        "http://thredds.cdip.ucsd.edu/thredds/dodsC/cdip/archive/430p1/430p1_d01.nc\n",
        "http://thredds.cdip.ucsd.edu/thredds/dodsC/cdip/archive/430p1/430p1_d02.nc\n",
        "http://thredds.cdip.ucsd.edu/thredds/dodsC/cdip/archive/430p1/430p1_d03.nc\n",
        "http://thredds.cdip.ucsd.edu/thredds/dodsC/cdip/archive/430p1/430p1_d04.nc\n",
        "http://thredds.cdip.ucsd.edu/thredds/dodsC/cdip/archive/430p1/430p1_d05.nc\n",
        "http://thredds.cdip.ucsd.edu/thredds/dodsC/cdip/archive/430p1/430p1_d06.nc\n",
        "http://thredds.cdip.ucsd.edu/thredds/dodsC/cdip/archive/430p1/430p1_d07.nc\n",
        "http://thredds.cdip.ucsd.edu/thredds/dodsC/cdip/archive/430p1/430p1_historic.nc\n",
        "http://www.smast.umassd.edu:8080/thredds/dodsC/FVCOM/NECOFS/Forecasts/NECOFS_WAVE_FORECAST.nc\n"
       ]
      }
     ],
     "prompt_number": 5
    },
    {
     "cell_type": "markdown",
     "metadata": {},
     "source": [
      "#### SOS URLs"
     ]
    },
    {
     "cell_type": "code",
     "collapsed": false,
     "input": [
      "sos_urls = service_urls(csw.records,service='sos:url')\n",
      "\n",
      "#remove duplicates and sort\n",
      "sos_urls = sorted(set(sos_urls))\n",
      "print \"Total SOS:\",len(sos_urls)\n",
      "print \"\\n\".join(sos_urls[:])"
     ],
     "language": "python",
     "metadata": {},
     "outputs": [
      {
       "output_type": "stream",
       "stream": "stdout",
       "text": [
        "Total SOS: 135\n",
        "http://data.ioos.us/thredds/sos/deployments/rutgers/ru22-20130924T2010/ru22-20130924T2010.nc3.nc?service=SOS&version=1.0.0&request=GetCapabilities\n",
        "http://data.ioos.us/thredds/sos/deployments/rutgers/ru23-20130305T2004/ru23-20130305T2004.nc3.nc?service=SOS&version=1.0.0&request=GetCapabilities\n",
        "http://opendap.co-ops.nos.noaa.gov/ioos-dif-sos/SOS?service=SOS&request=GetCapabilities\n",
        "http://sdf.ndbc.noaa.gov/sos/server.php?service=SOS&request=GetCapabilities&acceptVersions=1.0.0\n",
        "http://sos.maracoos.org/stable/sos/sldmb/buoy38796-agg.ncml?service=SOS&version=1.0.0&request=GetCapabilities\n",
        "http://sos.maracoos.org/stable/sos/sldmb/buoy38846-agg.ncml?service=SOS&version=1.0.0&request=GetCapabilities\n",
        "http://thredds.cdip.ucsd.edu/thredds/sos/cdip/archive/028p1/028p1_d03.nc?service=SOS&version=1.0.0&request=GetCapabilities\n",
        "http://thredds.cdip.ucsd.edu/thredds/sos/cdip/archive/028p1/028p1_d07.nc?service=SOS&version=1.0.0&request=GetCapabilities\n",
        "http://thredds.cdip.ucsd.edu/thredds/sos/cdip/archive/028p1/028p1_d08.nc?service=SOS&version=1.0.0&request=GetCapabilities\n",
        "http://thredds.cdip.ucsd.edu/thredds/sos/cdip/archive/028p1/028p1_d10.nc?service=SOS&version=1.0.0&request=GetCapabilities\n",
        "http://thredds.cdip.ucsd.edu/thredds/sos/cdip/archive/028p1/028p1_historic.nc?service=SOS&version=1.0.0&request=GetCapabilities\n",
        "http://thredds.cdip.ucsd.edu/thredds/sos/cdip/archive/029p1/029p1_d02.nc?service=SOS&version=1.0.0&request=GetCapabilities\n",
        "http://thredds.cdip.ucsd.edu/thredds/sos/cdip/archive/029p1/029p1_d06.nc?service=SOS&version=1.0.0&request=GetCapabilities\n",
        "http://thredds.cdip.ucsd.edu/thredds/sos/cdip/archive/029p1/029p1_d08.nc?service=SOS&version=1.0.0&request=GetCapabilities\n",
        "http://thredds.cdip.ucsd.edu/thredds/sos/cdip/archive/029p1/029p1_d13.nc?service=SOS&version=1.0.0&request=GetCapabilities\n",
        "http://thredds.cdip.ucsd.edu/thredds/sos/cdip/archive/029p1/029p1_d17.nc?service=SOS&version=1.0.0&request=GetCapabilities\n",
        "http://thredds.cdip.ucsd.edu/thredds/sos/cdip/archive/029p1/029p1_d18.nc?service=SOS&version=1.0.0&request=GetCapabilities\n",
        "http://thredds.cdip.ucsd.edu/thredds/sos/cdip/archive/029p1/029p1_d19.nc?service=SOS&version=1.0.0&request=GetCapabilities\n",
        "http://thredds.cdip.ucsd.edu/thredds/sos/cdip/archive/029p1/029p1_historic.nc?service=SOS&version=1.0.0&request=GetCapabilities\n",
        "http://thredds.cdip.ucsd.edu/thredds/sos/cdip/archive/036p1/036p1_d32.nc?service=SOS&version=1.0.0&request=GetCapabilities\n",
        "http://thredds.cdip.ucsd.edu/thredds/sos/cdip/archive/045p1/045p1_d12.nc?service=SOS&version=1.0.0&request=GetCapabilities\n",
        "http://thredds.cdip.ucsd.edu/thredds/sos/cdip/archive/067p1/067p1_d16.nc?service=SOS&version=1.0.0&request=GetCapabilities\n",
        "http://thredds.cdip.ucsd.edu/thredds/sos/cdip/archive/067p1/067p1_historic.nc?service=SOS&version=1.0.0&request=GetCapabilities\n",
        "http://thredds.cdip.ucsd.edu/thredds/sos/cdip/archive/071p1/071p1_d05.nc?service=SOS&version=1.0.0&request=GetCapabilities\n",
        "http://thredds.cdip.ucsd.edu/thredds/sos/cdip/archive/071p1/071p1_d06.nc?service=SOS&version=1.0.0&request=GetCapabilities\n",
        "http://thredds.cdip.ucsd.edu/thredds/sos/cdip/archive/071p1/071p1_d07.nc?service=SOS&version=1.0.0&request=GetCapabilities\n",
        "http://thredds.cdip.ucsd.edu/thredds/sos/cdip/archive/071p1/071p1_d08.nc?service=SOS&version=1.0.0&request=GetCapabilities\n",
        "http://thredds.cdip.ucsd.edu/thredds/sos/cdip/archive/071p1/071p1_d09.nc?service=SOS&version=1.0.0&request=GetCapabilities\n",
        "http://thredds.cdip.ucsd.edu/thredds/sos/cdip/archive/071p1/071p1_d17.nc?service=SOS&version=1.0.0&request=GetCapabilities\n",
        "http://thredds.cdip.ucsd.edu/thredds/sos/cdip/archive/071p1/071p1_historic.nc?service=SOS&version=1.0.0&request=GetCapabilities\n",
        "http://thredds.cdip.ucsd.edu/thredds/sos/cdip/archive/076p1/076p1_d26.nc?service=SOS&version=1.0.0&request=GetCapabilities\n",
        "http://thredds.cdip.ucsd.edu/thredds/sos/cdip/archive/076p1/076p1_d27.nc?service=SOS&version=1.0.0&request=GetCapabilities\n",
        "http://thredds.cdip.ucsd.edu/thredds/sos/cdip/archive/091p1/091p1_d13.nc?service=SOS&version=1.0.0&request=GetCapabilities\n",
        "http://thredds.cdip.ucsd.edu/thredds/sos/cdip/archive/091p1/091p1_d14.nc?service=SOS&version=1.0.0&request=GetCapabilities\n",
        "http://thredds.cdip.ucsd.edu/thredds/sos/cdip/archive/092p1/092p1_d05.nc?service=SOS&version=1.0.0&request=GetCapabilities\n",
        "http://thredds.cdip.ucsd.edu/thredds/sos/cdip/archive/092p1/092p1_d12.nc?service=SOS&version=1.0.0&request=GetCapabilities\n",
        "http://thredds.cdip.ucsd.edu/thredds/sos/cdip/archive/094p1/094p1_d01.nc?service=SOS&version=1.0.0&request=GetCapabilities\n",
        "http://thredds.cdip.ucsd.edu/thredds/sos/cdip/archive/094p1/094p1_d04.nc?service=SOS&version=1.0.0&request=GetCapabilities\n",
        "http://thredds.cdip.ucsd.edu/thredds/sos/cdip/archive/094p1/094p1_d05.nc?service=SOS&version=1.0.0&request=GetCapabilities\n",
        "http://thredds.cdip.ucsd.edu/thredds/sos/cdip/archive/094p1/094p1_d06.nc?service=SOS&version=1.0.0&request=GetCapabilities\n",
        "http://thredds.cdip.ucsd.edu/thredds/sos/cdip/archive/094p1/094p1_d07.nc?service=SOS&version=1.0.0&request=GetCapabilities\n",
        "http://thredds.cdip.ucsd.edu/thredds/sos/cdip/archive/094p1/094p1_d10.nc?service=SOS&version=1.0.0&request=GetCapabilities\n",
        "http://thredds.cdip.ucsd.edu/thredds/sos/cdip/archive/094p1/094p1_d11.nc?service=SOS&version=1.0.0&request=GetCapabilities\n",
        "http://thredds.cdip.ucsd.edu/thredds/sos/cdip/archive/094p1/094p1_d12.nc?service=SOS&version=1.0.0&request=GetCapabilities\n",
        "http://thredds.cdip.ucsd.edu/thredds/sos/cdip/archive/094p1/094p1_historic.nc?service=SOS&version=1.0.0&request=GetCapabilities\n",
        "http://thredds.cdip.ucsd.edu/thredds/sos/cdip/archive/095p1/095p1_d05.nc?service=SOS&version=1.0.0&request=GetCapabilities\n",
        "http://thredds.cdip.ucsd.edu/thredds/sos/cdip/archive/095p1/095p1_d06.nc?service=SOS&version=1.0.0&request=GetCapabilities\n",
        "http://thredds.cdip.ucsd.edu/thredds/sos/cdip/archive/096p1/096p1_d08.nc?service=SOS&version=1.0.0&request=GetCapabilities\n",
        "http://thredds.cdip.ucsd.edu/thredds/sos/cdip/archive/096p1/096p1_d09.nc?service=SOS&version=1.0.0&request=GetCapabilities\n",
        "http://thredds.cdip.ucsd.edu/thredds/sos/cdip/archive/096p1/096p1_historic.nc?service=SOS&version=1.0.0&request=GetCapabilities\n",
        "http://thredds.cdip.ucsd.edu/thredds/sos/cdip/archive/098p1/098p1_d06.nc?service=SOS&version=1.0.0&request=GetCapabilities\n",
        "http://thredds.cdip.ucsd.edu/thredds/sos/cdip/archive/098p1/098p1_d08.nc?service=SOS&version=1.0.0&request=GetCapabilities\n",
        "http://thredds.cdip.ucsd.edu/thredds/sos/cdip/archive/098p1/098p1_d12.nc?service=SOS&version=1.0.0&request=GetCapabilities\n",
        "http://thredds.cdip.ucsd.edu/thredds/sos/cdip/archive/100p1/100p1_d02.nc?service=SOS&version=1.0.0&request=GetCapabilities\n",
        "http://thredds.cdip.ucsd.edu/thredds/sos/cdip/archive/100p1/100p1_d03.nc?service=SOS&version=1.0.0&request=GetCapabilities\n",
        "http://thredds.cdip.ucsd.edu/thredds/sos/cdip/archive/100p1/100p1_d05.nc?service=SOS&version=1.0.0&request=GetCapabilities\n",
        "http://thredds.cdip.ucsd.edu/thredds/sos/cdip/archive/100p1/100p1_historic.nc?service=SOS&version=1.0.0&request=GetCapabilities\n",
        "http://thredds.cdip.ucsd.edu/thredds/sos/cdip/archive/101p1/101p1_d01.nc?service=SOS&version=1.0.0&request=GetCapabilities\n",
        "http://thredds.cdip.ucsd.edu/thredds/sos/cdip/archive/102p1/102p1_d01.nc?service=SOS&version=1.0.0&request=GetCapabilities\n",
        "http://thredds.cdip.ucsd.edu/thredds/sos/cdip/archive/102p1/102p1_historic.nc?service=SOS&version=1.0.0&request=GetCapabilities\n",
        "http://thredds.cdip.ucsd.edu/thredds/sos/cdip/archive/111p1/111p1_d01.nc?service=SOS&version=1.0.0&request=GetCapabilities\n",
        "http://thredds.cdip.ucsd.edu/thredds/sos/cdip/archive/111p1/111p1_d02.nc?service=SOS&version=1.0.0&request=GetCapabilities\n",
        "http://thredds.cdip.ucsd.edu/thredds/sos/cdip/archive/111p1/111p1_d03.nc?service=SOS&version=1.0.0&request=GetCapabilities\n",
        "http://thredds.cdip.ucsd.edu/thredds/sos/cdip/archive/111p1/111p1_d05.nc?service=SOS&version=1.0.0&request=GetCapabilities\n",
        "http://thredds.cdip.ucsd.edu/thredds/sos/cdip/archive/111p1/111p1_d07.nc?service=SOS&version=1.0.0&request=GetCapabilities\n",
        "http://thredds.cdip.ucsd.edu/thredds/sos/cdip/archive/114p1/114p1_d04.nc?service=SOS&version=1.0.0&request=GetCapabilities\n",
        "http://thredds.cdip.ucsd.edu/thredds/sos/cdip/archive/118p1/118p1_d01.nc?service=SOS&version=1.0.0&request=GetCapabilities\n",
        "http://thredds.cdip.ucsd.edu/thredds/sos/cdip/archive/125p1/125p1_d01.nc?service=SOS&version=1.0.0&request=GetCapabilities\n",
        "http://thredds.cdip.ucsd.edu/thredds/sos/cdip/archive/126p1/126p1_d02.nc?service=SOS&version=1.0.0&request=GetCapabilities\n",
        "http://thredds.cdip.ucsd.edu/thredds/sos/cdip/archive/128p1/128p1_d07.nc?service=SOS&version=1.0.0&request=GetCapabilities\n",
        "http://thredds.cdip.ucsd.edu/thredds/sos/cdip/archive/139p1/139p1_d02.nc?service=SOS&version=1.0.0&request=GetCapabilities\n",
        "http://thredds.cdip.ucsd.edu/thredds/sos/cdip/archive/139p1/139p1_d06.nc?service=SOS&version=1.0.0&request=GetCapabilities\n",
        "http://thredds.cdip.ucsd.edu/thredds/sos/cdip/archive/139p1/139p1_historic.nc?service=SOS&version=1.0.0&request=GetCapabilities\n",
        "http://thredds.cdip.ucsd.edu/thredds/sos/cdip/archive/141p1/141p1_d04.nc?service=SOS&version=1.0.0&request=GetCapabilities\n",
        "http://thredds.cdip.ucsd.edu/thredds/sos/cdip/archive/141p1/141p1_historic.nc?service=SOS&version=1.0.0&request=GetCapabilities\n",
        "http://thredds.cdip.ucsd.edu/thredds/sos/cdip/archive/142p1/142p1_d04.nc?service=SOS&version=1.0.0&request=GetCapabilities\n",
        "http://thredds.cdip.ucsd.edu/thredds/sos/cdip/archive/142p1/142p1_d06.nc?service=SOS&version=1.0.0&request=GetCapabilities\n",
        "http://thredds.cdip.ucsd.edu/thredds/sos/cdip/archive/142p1/142p1_d11.nc?service=SOS&version=1.0.0&request=GetCapabilities\n",
        "http://thredds.cdip.ucsd.edu/thredds/sos/cdip/archive/142p1/142p1_d13.nc?service=SOS&version=1.0.0&request=GetCapabilities\n",
        "http://thredds.cdip.ucsd.edu/thredds/sos/cdip/archive/142p1/142p1_d14.nc?service=SOS&version=1.0.0&request=GetCapabilities\n",
        "http://thredds.cdip.ucsd.edu/thredds/sos/cdip/archive/142p1/142p1_historic.nc?service=SOS&version=1.0.0&request=GetCapabilities\n",
        "http://thredds.cdip.ucsd.edu/thredds/sos/cdip/archive/147p1/147p1_d01.nc?service=SOS&version=1.0.0&request=GetCapabilities\n",
        "http://thredds.cdip.ucsd.edu/thredds/sos/cdip/archive/147p1/147p1_d02.nc?service=SOS&version=1.0.0&request=GetCapabilities\n",
        "http://thredds.cdip.ucsd.edu/thredds/sos/cdip/archive/147p1/147p1_d03.nc?service=SOS&version=1.0.0&request=GetCapabilities\n",
        "http://thredds.cdip.ucsd.edu/thredds/sos/cdip/archive/147p1/147p1_d04.nc?service=SOS&version=1.0.0&request=GetCapabilities\n",
        "http://thredds.cdip.ucsd.edu/thredds/sos/cdip/archive/147p1/147p1_d05.nc?service=SOS&version=1.0.0&request=GetCapabilities\n",
        "http://thredds.cdip.ucsd.edu/thredds/sos/cdip/archive/147p1/147p1_d06.nc?service=SOS&version=1.0.0&request=GetCapabilities\n",
        "http://thredds.cdip.ucsd.edu/thredds/sos/cdip/archive/147p1/147p1_d07.nc?service=SOS&version=1.0.0&request=GetCapabilities\n",
        "http://thredds.cdip.ucsd.edu/thredds/sos/cdip/archive/147p1/147p1_d08.nc?service=SOS&version=1.0.0&request=GetCapabilities\n",
        "http://thredds.cdip.ucsd.edu/thredds/sos/cdip/archive/147p1/147p1_d09.nc?service=SOS&version=1.0.0&request=GetCapabilities\n",
        "http://thredds.cdip.ucsd.edu/thredds/sos/cdip/archive/147p1/147p1_d10.nc?service=SOS&version=1.0.0&request=GetCapabilities\n",
        "http://thredds.cdip.ucsd.edu/thredds/sos/cdip/archive/147p1/147p1_historic.nc?service=SOS&version=1.0.0&request=GetCapabilities\n",
        "http://thredds.cdip.ucsd.edu/thredds/sos/cdip/archive/156p1/156p1_d02.nc?service=SOS&version=1.0.0&request=GetCapabilities\n",
        "http://thredds.cdip.ucsd.edu/thredds/sos/cdip/archive/156p1/156p1_d04.nc?service=SOS&version=1.0.0&request=GetCapabilities\n",
        "http://thredds.cdip.ucsd.edu/thredds/sos/cdip/archive/156p1/156p1_d05.nc?service=SOS&version=1.0.0&request=GetCapabilities\n",
        "http://thredds.cdip.ucsd.edu/thredds/sos/cdip/archive/156p1/156p1_d07.nc?service=SOS&version=1.0.0&request=GetCapabilities\n",
        "http://thredds.cdip.ucsd.edu/thredds/sos/cdip/archive/157p1/157p1_d03.nc?service=SOS&version=1.0.0&request=GetCapabilities\n",
        "http://thredds.cdip.ucsd.edu/thredds/sos/cdip/archive/157p1/157p1_d04.nc?service=SOS&version=1.0.0&request=GetCapabilities\n",
        "http://thredds.cdip.ucsd.edu/thredds/sos/cdip/archive/161p1/161p1_d02.nc?service=SOS&version=1.0.0&request=GetCapabilities\n",
        "http://thredds.cdip.ucsd.edu/thredds/sos/cdip/archive/162p1/162p1_d02.nc?service=SOS&version=1.0.0&request=GetCapabilities\n",
        "http://thredds.cdip.ucsd.edu/thredds/sos/cdip/archive/162p1/162p1_d03.nc?service=SOS&version=1.0.0&request=GetCapabilities\n",
        "http://thredds.cdip.ucsd.edu/thredds/sos/cdip/archive/166p1/166p1_d01.nc?service=SOS&version=1.0.0&request=GetCapabilities\n",
        "http://thredds.cdip.ucsd.edu/thredds/sos/cdip/archive/168p1/168p1_d05.nc?service=SOS&version=1.0.0&request=GetCapabilities\n",
        "http://thredds.cdip.ucsd.edu/thredds/sos/cdip/archive/172p1/172p1_d01.nc?service=SOS&version=1.0.0&request=GetCapabilities\n",
        "http://thredds.cdip.ucsd.edu/thredds/sos/cdip/archive/174p1/174p1_d01.nc?service=SOS&version=1.0.0&request=GetCapabilities\n",
        "http://thredds.cdip.ucsd.edu/thredds/sos/cdip/archive/175p1/175p1_d01.nc?service=SOS&version=1.0.0&request=GetCapabilities\n",
        "http://thredds.cdip.ucsd.edu/thredds/sos/cdip/archive/175p1/175p1_d02.nc?service=SOS&version=1.0.0&request=GetCapabilities\n",
        "http://thredds.cdip.ucsd.edu/thredds/sos/cdip/archive/175p1/175p1_d03.nc?service=SOS&version=1.0.0&request=GetCapabilities\n",
        "http://thredds.cdip.ucsd.edu/thredds/sos/cdip/archive/175p1/175p1_d04.nc?service=SOS&version=1.0.0&request=GetCapabilities\n",
        "http://thredds.cdip.ucsd.edu/thredds/sos/cdip/archive/179p1/179p1_combo_tmp.nc?service=SOS&version=1.0.0&request=GetCapabilities\n",
        "http://thredds.cdip.ucsd.edu/thredds/sos/cdip/archive/179p1/179p1_d01.nc?service=SOS&version=1.0.0&request=GetCapabilities\n",
        "http://thredds.cdip.ucsd.edu/thredds/sos/cdip/archive/179p1/179p1_d02.nc?service=SOS&version=1.0.0&request=GetCapabilities\n",
        "http://thredds.cdip.ucsd.edu/thredds/sos/cdip/archive/179p1/179p1_d03.nc?service=SOS&version=1.0.0&request=GetCapabilities\n",
        "http://thredds.cdip.ucsd.edu/thredds/sos/cdip/archive/179p1/179p1_d04.nc?service=SOS&version=1.0.0&request=GetCapabilities\n",
        "http://thredds.cdip.ucsd.edu/thredds/sos/cdip/archive/185p1/185p1_d01.nc?service=SOS&version=1.0.0&request=GetCapabilities\n",
        "http://thredds.cdip.ucsd.edu/thredds/sos/cdip/archive/185p1/185p1_d02.nc?service=SOS&version=1.0.0&request=GetCapabilities\n",
        "http://thredds.cdip.ucsd.edu/thredds/sos/cdip/archive/185p1/185p1_d03.nc?service=SOS&version=1.0.0&request=GetCapabilities\n",
        "http://thredds.cdip.ucsd.edu/thredds/sos/cdip/archive/186p1/186p1_d01.nc?service=SOS&version=1.0.0&request=GetCapabilities\n",
        "http://thredds.cdip.ucsd.edu/thredds/sos/cdip/archive/186p1/186p1_d02.nc?service=SOS&version=1.0.0&request=GetCapabilities\n",
        "http://thredds.cdip.ucsd.edu/thredds/sos/cdip/archive/186p1/186p1_historic.nc?service=SOS&version=1.0.0&request=GetCapabilities\n",
        "http://thredds.cdip.ucsd.edu/thredds/sos/cdip/archive/190p1/190p1_d01.nc?service=SOS&version=1.0.0&request=GetCapabilities\n",
        "http://thredds.cdip.ucsd.edu/thredds/sos/cdip/archive/191p1/191p1_d03.nc?service=SOS&version=1.0.0&request=GetCapabilities\n",
        "http://thredds.cdip.ucsd.edu/thredds/sos/cdip/archive/192p1/192p1_d01.nc?service=SOS&version=1.0.0&request=GetCapabilities\n",
        "http://thredds.cdip.ucsd.edu/thredds/sos/cdip/archive/192p1/192p1_historic.nc?service=SOS&version=1.0.0&request=GetCapabilities\n",
        "http://thredds.cdip.ucsd.edu/thredds/sos/cdip/archive/195p1/195p1_d01.nc?service=SOS&version=1.0.0&request=GetCapabilities\n",
        "http://thredds.cdip.ucsd.edu/thredds/sos/cdip/archive/204p1/204p1_d01.nc?service=SOS&version=1.0.0&request=GetCapabilities\n",
        "http://thredds.cdip.ucsd.edu/thredds/sos/cdip/archive/430p1/430p1_d01.nc?service=SOS&version=1.0.0&request=GetCapabilities\n",
        "http://thredds.cdip.ucsd.edu/thredds/sos/cdip/archive/430p1/430p1_d02.nc?service=SOS&version=1.0.0&request=GetCapabilities\n",
        "http://thredds.cdip.ucsd.edu/thredds/sos/cdip/archive/430p1/430p1_d03.nc?service=SOS&version=1.0.0&request=GetCapabilities\n",
        "http://thredds.cdip.ucsd.edu/thredds/sos/cdip/archive/430p1/430p1_d04.nc?service=SOS&version=1.0.0&request=GetCapabilities\n",
        "http://thredds.cdip.ucsd.edu/thredds/sos/cdip/archive/430p1/430p1_d05.nc?service=SOS&version=1.0.0&request=GetCapabilities\n",
        "http://thredds.cdip.ucsd.edu/thredds/sos/cdip/archive/430p1/430p1_d06.nc?service=SOS&version=1.0.0&request=GetCapabilities\n",
        "http://thredds.cdip.ucsd.edu/thredds/sos/cdip/archive/430p1/430p1_d07.nc?service=SOS&version=1.0.0&request=GetCapabilities\n",
        "http://thredds.cdip.ucsd.edu/thredds/sos/cdip/archive/430p1/430p1_historic.nc?service=SOS&version=1.0.0&request=GetCapabilities\n",
        "http://www.weatherflow.com/sos.pl?service=SOS&request=GetCapabilities\n"
       ]
      }
     ],
     "prompt_number": 6
    },
    {
     "cell_type": "markdown",
     "metadata": {},
     "source": [
      "#### SOS - Get most recent observations from all stations in bounding box"
     ]
    },
    {
     "cell_type": "code",
     "collapsed": false,
     "input": [
      "start_time = dt.datetime.strptime(start_date,'%Y-%m-%d %H:%M')\n",
      "end_time = dt.datetime.strptime(end_date,'%Y-%m-%d %H:%M')\n",
      "\n",
      "iso_start = start_time.strftime('%Y-%m-%dT%H:%M:%SZ')\n",
      "iso_end = end_time.strftime('%Y-%m-%dT%H:%M:%SZ')\n",
      "\n",
      "print \"Date: \",iso_start,\" to \", iso_end\n",
      "box_str=','.join(str(e) for e in bounding_box)\n",
      "\n",
      "collector = NdbcSos()\n",
      "collector.variables = data_dict[\"waves\"][\"sos_name\"]\n",
      "collector.server.identification.title  \n",
      "\n",
      "# Don't specify start and end date in the filter and the most recent observation will be returned\n",
      "collector.filter(bbox=bounding_box,\n",
      "                 variables=data_dict[\"waves\"][\"sos_name\"])\n",
      "\n",
      "response = collector.raw(responseFormat=\"text/csv\")\n",
      "obs_loc_df = pd.read_csv(BytesIO(response.encode('utf-8')),\n",
      "                         parse_dates=True,\n",
      "                         index_col='date_time')"
     ],
     "language": "python",
     "metadata": {},
     "outputs": [
      {
       "output_type": "stream",
       "stream": "stdout",
       "text": [
        "Date:  1994-08-01T00:00:00Z  to  2014-08-01T00:00:00Z\n"
       ]
      }
     ],
     "prompt_number": 7
    },
    {
     "cell_type": "code",
     "collapsed": false,
     "input": [
      "obs_loc_df.head()"
     ],
     "language": "python",
     "metadata": {},
     "outputs": [
      {
       "html": [
        "<div style=\"max-height:1000px;max-width:1500px;overflow:auto;\">\n",
        "<table border=\"1\" class=\"dataframe\">\n",
        "  <thead>\n",
        "    <tr style=\"text-align: right;\">\n",
        "      <th></th>\n",
        "      <th>station_id</th>\n",
        "      <th>sensor_id</th>\n",
        "      <th>latitude (degree)</th>\n",
        "      <th>longitude (degree)</th>\n",
        "      <th>sea_surface_wave_significant_height (m)</th>\n",
        "      <th>sea_surface_wave_peak_period (s)</th>\n",
        "      <th>sea_surface_wave_mean_period (s)</th>\n",
        "      <th>sea_surface_swell_wave_significant_height (m)</th>\n",
        "      <th>sea_surface_swell_wave_period (s)</th>\n",
        "      <th>sea_surface_wind_wave_significant_height (m)</th>\n",
        "      <th>...</th>\n",
        "      <th>number_of_frequencies (count)</th>\n",
        "      <th>center_frequencies (Hz)</th>\n",
        "      <th>bandwidths (Hz)</th>\n",
        "      <th>spectral_energy (m**2/Hz)</th>\n",
        "      <th>mean_wave_direction (degree)</th>\n",
        "      <th>principal_wave_direction (degree)</th>\n",
        "      <th>polar_coordinate_r1 (1)</th>\n",
        "      <th>polar_coordinate_r2 (1)</th>\n",
        "      <th>calculation_method</th>\n",
        "      <th>sampling_rate (Hz)</th>\n",
        "    </tr>\n",
        "    <tr>\n",
        "      <th>date_time</th>\n",
        "      <th></th>\n",
        "      <th></th>\n",
        "      <th></th>\n",
        "      <th></th>\n",
        "      <th></th>\n",
        "      <th></th>\n",
        "      <th></th>\n",
        "      <th></th>\n",
        "      <th></th>\n",
        "      <th></th>\n",
        "      <th></th>\n",
        "      <th></th>\n",
        "      <th></th>\n",
        "      <th></th>\n",
        "      <th></th>\n",
        "      <th></th>\n",
        "      <th></th>\n",
        "      <th></th>\n",
        "      <th></th>\n",
        "      <th></th>\n",
        "      <th></th>\n",
        "    </tr>\n",
        "  </thead>\n",
        "  <tbody>\n",
        "    <tr>\n",
        "      <th>2014-12-19 19:50:00</th>\n",
        "      <td> urn:ioos:station:wmo:41025</td>\n",
        "      <td>        urn:ioos:sensor:wmo:41025::wpm1</td>\n",
        "      <td> 35.010</td>\n",
        "      <td>-75.400</td>\n",
        "      <td> 0.79</td>\n",
        "      <td> 7.69</td>\n",
        "      <td> 4.52</td>\n",
        "      <td>  NaN</td>\n",
        "      <td>NaN</td>\n",
        "      <td>  NaN</td>\n",
        "      <td>...</td>\n",
        "      <td> 46</td>\n",
        "      <td> 0.0325;0.0375;0.0425;0.0475;0.0525;0.0575;0.06...</td>\n",
        "      <td> 0.0050;0.0050;0.0050;0.0050;0.0050;0.0050;0.00...</td>\n",
        "      <td> 0;0;0;0;0;0;0;0;0.0115642;0.0392926;0.107139;0...</td>\n",
        "      <td> 212.0;56.0;73.0;26.0;75.0;81.0;75.0;71.0;102.0...</td>\n",
        "      <td> 204.0;328.0;131.0;13.0;22.0;15.0;359.0;350.0;1...</td>\n",
        "      <td> 0.442251;0.252101;0.178636;0.26141;0.307744;0....</td>\n",
        "      <td> 0.612917;0.0559798;0.103693;0.708588;0.38254;0...</td>\n",
        "      <td> Longuet-Higgins (1964)</td>\n",
        "      <td>NaN</td>\n",
        "    </tr>\n",
        "    <tr>\n",
        "      <th>2014-12-19 19:50:00</th>\n",
        "      <td> urn:ioos:station:wmo:44014</td>\n",
        "      <td>        urn:ioos:sensor:wmo:44014::wpm1</td>\n",
        "      <td> 36.610</td>\n",
        "      <td>-74.840</td>\n",
        "      <td> 1.13</td>\n",
        "      <td> 5.26</td>\n",
        "      <td> 4.12</td>\n",
        "      <td> 0.23</td>\n",
        "      <td>NaN</td>\n",
        "      <td> 1.10</td>\n",
        "      <td>...</td>\n",
        "      <td> 46</td>\n",
        "      <td> 0.0325;0.0375;0.0425;0.0475;0.0525;0.0575;0.06...</td>\n",
        "      <td> 0.0050;0.0050;0.0050;0.0050;0.0050;0.0050;0.00...</td>\n",
        "      <td> 0;0;0;0;0;0;0;0;0;0;0.0398613;0.0894034;0.0580...</td>\n",
        "      <td> 217.0;131.0;140.0;299.0;326.0;317.0;326.0;335....</td>\n",
        "      <td> 152.0;153.0;132.0;305.0;307.0;322.0;327.0;324....</td>\n",
        "      <td> 0.222053;0.218063;0.35578;0.210298;0.307744;0....</td>\n",
        "      <td> 0.035578;0.330891;0.59109;0.624131;0.559798;0....</td>\n",
        "      <td> Longuet-Higgins (1964)</td>\n",
        "      <td>NaN</td>\n",
        "    </tr>\n",
        "    <tr>\n",
        "      <th>2014-12-19 20:11:00</th>\n",
        "      <td> urn:ioos:station:wmo:44056</td>\n",
        "      <td> urn:ioos:sensor:wmo:44056::summarywav1</td>\n",
        "      <td> 36.200</td>\n",
        "      <td>-75.714</td>\n",
        "      <td> 1.03</td>\n",
        "      <td> 5.00</td>\n",
        "      <td> 4.04</td>\n",
        "      <td> 0.23</td>\n",
        "      <td>NaN</td>\n",
        "      <td> 1.00</td>\n",
        "      <td>...</td>\n",
        "      <td>  0</td>\n",
        "      <td>                                               NaN</td>\n",
        "      <td>                                               NaN</td>\n",
        "      <td>                                               NaN</td>\n",
        "      <td>                                               NaN</td>\n",
        "      <td>                                               NaN</td>\n",
        "      <td>                                               NaN</td>\n",
        "      <td>                                               NaN</td>\n",
        "      <td>                UNKNOWN</td>\n",
        "      <td>NaN</td>\n",
        "    </tr>\n",
        "    <tr>\n",
        "      <th>2014-10-06 19:21:00</th>\n",
        "      <td> urn:ioos:station:wmo:44093</td>\n",
        "      <td> urn:ioos:sensor:wmo:44093::summarywav1</td>\n",
        "      <td> 36.872</td>\n",
        "      <td>-75.492</td>\n",
        "      <td> 0.95</td>\n",
        "      <td> 9.88</td>\n",
        "      <td> 4.39</td>\n",
        "      <td> 0.69</td>\n",
        "      <td>NaN</td>\n",
        "      <td> 0.66</td>\n",
        "      <td>...</td>\n",
        "      <td>  0</td>\n",
        "      <td>                                               NaN</td>\n",
        "      <td>                                               NaN</td>\n",
        "      <td>                                               NaN</td>\n",
        "      <td>                                               NaN</td>\n",
        "      <td>                                               NaN</td>\n",
        "      <td>                                               NaN</td>\n",
        "      <td>                                               NaN</td>\n",
        "      <td>                UNKNOWN</td>\n",
        "      <td>NaN</td>\n",
        "    </tr>\n",
        "    <tr>\n",
        "      <th>2014-12-19 20:17:00</th>\n",
        "      <td> urn:ioos:station:wmo:44095</td>\n",
        "      <td> urn:ioos:sensor:wmo:44095::summarywav1</td>\n",
        "      <td> 35.583</td>\n",
        "      <td>-75.317</td>\n",
        "      <td> 1.00</td>\n",
        "      <td> 5.26</td>\n",
        "      <td> 4.09</td>\n",
        "      <td> 0.23</td>\n",
        "      <td>NaN</td>\n",
        "      <td> 0.97</td>\n",
        "      <td>...</td>\n",
        "      <td>  0</td>\n",
        "      <td>                                               NaN</td>\n",
        "      <td>                                               NaN</td>\n",
        "      <td>                                               NaN</td>\n",
        "      <td>                                               NaN</td>\n",
        "      <td>                                               NaN</td>\n",
        "      <td>                                               NaN</td>\n",
        "      <td>                                               NaN</td>\n",
        "      <td>                UNKNOWN</td>\n",
        "      <td>NaN</td>\n",
        "    </tr>\n",
        "  </tbody>\n",
        "</table>\n",
        "<p>5 rows \u00d7 25 columns</p>\n",
        "</div>"
       ],
       "metadata": {},
       "output_type": "pyout",
       "prompt_number": 8,
       "text": [
        "                                     station_id  \\\n",
        "date_time                                         \n",
        "2014-12-19 19:50:00  urn:ioos:station:wmo:41025   \n",
        "2014-12-19 19:50:00  urn:ioos:station:wmo:44014   \n",
        "2014-12-19 20:11:00  urn:ioos:station:wmo:44056   \n",
        "2014-10-06 19:21:00  urn:ioos:station:wmo:44093   \n",
        "2014-12-19 20:17:00  urn:ioos:station:wmo:44095   \n",
        "\n",
        "                                                  sensor_id  \\\n",
        "date_time                                                     \n",
        "2014-12-19 19:50:00         urn:ioos:sensor:wmo:41025::wpm1   \n",
        "2014-12-19 19:50:00         urn:ioos:sensor:wmo:44014::wpm1   \n",
        "2014-12-19 20:11:00  urn:ioos:sensor:wmo:44056::summarywav1   \n",
        "2014-10-06 19:21:00  urn:ioos:sensor:wmo:44093::summarywav1   \n",
        "2014-12-19 20:17:00  urn:ioos:sensor:wmo:44095::summarywav1   \n",
        "\n",
        "                     latitude (degree)  longitude (degree)  \\\n",
        "date_time                                                    \n",
        "2014-12-19 19:50:00             35.010             -75.400   \n",
        "2014-12-19 19:50:00             36.610             -74.840   \n",
        "2014-12-19 20:11:00             36.200             -75.714   \n",
        "2014-10-06 19:21:00             36.872             -75.492   \n",
        "2014-12-19 20:17:00             35.583             -75.317   \n",
        "\n",
        "                     sea_surface_wave_significant_height (m)  \\\n",
        "date_time                                                      \n",
        "2014-12-19 19:50:00                                     0.79   \n",
        "2014-12-19 19:50:00                                     1.13   \n",
        "2014-12-19 20:11:00                                     1.03   \n",
        "2014-10-06 19:21:00                                     0.95   \n",
        "2014-12-19 20:17:00                                     1.00   \n",
        "\n",
        "                     sea_surface_wave_peak_period (s)  \\\n",
        "date_time                                               \n",
        "2014-12-19 19:50:00                              7.69   \n",
        "2014-12-19 19:50:00                              5.26   \n",
        "2014-12-19 20:11:00                              5.00   \n",
        "2014-10-06 19:21:00                              9.88   \n",
        "2014-12-19 20:17:00                              5.26   \n",
        "\n",
        "                     sea_surface_wave_mean_period (s)  \\\n",
        "date_time                                               \n",
        "2014-12-19 19:50:00                              4.52   \n",
        "2014-12-19 19:50:00                              4.12   \n",
        "2014-12-19 20:11:00                              4.04   \n",
        "2014-10-06 19:21:00                              4.39   \n",
        "2014-12-19 20:17:00                              4.09   \n",
        "\n",
        "                     sea_surface_swell_wave_significant_height (m)  \\\n",
        "date_time                                                            \n",
        "2014-12-19 19:50:00                                            NaN   \n",
        "2014-12-19 19:50:00                                           0.23   \n",
        "2014-12-19 20:11:00                                           0.23   \n",
        "2014-10-06 19:21:00                                           0.69   \n",
        "2014-12-19 20:17:00                                           0.23   \n",
        "\n",
        "                     sea_surface_swell_wave_period (s)  \\\n",
        "date_time                                                \n",
        "2014-12-19 19:50:00                                NaN   \n",
        "2014-12-19 19:50:00                                NaN   \n",
        "2014-12-19 20:11:00                                NaN   \n",
        "2014-10-06 19:21:00                                NaN   \n",
        "2014-12-19 20:17:00                                NaN   \n",
        "\n",
        "                     sea_surface_wind_wave_significant_height (m)  \\\n",
        "date_time                                                           \n",
        "2014-12-19 19:50:00                                           NaN   \n",
        "2014-12-19 19:50:00                                          1.10   \n",
        "2014-12-19 20:11:00                                          1.00   \n",
        "2014-10-06 19:21:00                                          0.66   \n",
        "2014-12-19 20:17:00                                          0.97   \n",
        "\n",
        "                                         ...                       \\\n",
        "date_time                                ...                        \n",
        "2014-12-19 19:50:00                      ...                        \n",
        "2014-12-19 19:50:00                      ...                        \n",
        "2014-12-19 20:11:00                      ...                        \n",
        "2014-10-06 19:21:00                      ...                        \n",
        "2014-12-19 20:17:00                      ...                        \n",
        "\n",
        "                     number_of_frequencies (count)  \\\n",
        "date_time                                            \n",
        "2014-12-19 19:50:00                             46   \n",
        "2014-12-19 19:50:00                             46   \n",
        "2014-12-19 20:11:00                              0   \n",
        "2014-10-06 19:21:00                              0   \n",
        "2014-12-19 20:17:00                              0   \n",
        "\n",
        "                                               center_frequencies (Hz)  \\\n",
        "date_time                                                                \n",
        "2014-12-19 19:50:00  0.0325;0.0375;0.0425;0.0475;0.0525;0.0575;0.06...   \n",
        "2014-12-19 19:50:00  0.0325;0.0375;0.0425;0.0475;0.0525;0.0575;0.06...   \n",
        "2014-12-19 20:11:00                                                NaN   \n",
        "2014-10-06 19:21:00                                                NaN   \n",
        "2014-12-19 20:17:00                                                NaN   \n",
        "\n",
        "                                                       bandwidths (Hz)  \\\n",
        "date_time                                                                \n",
        "2014-12-19 19:50:00  0.0050;0.0050;0.0050;0.0050;0.0050;0.0050;0.00...   \n",
        "2014-12-19 19:50:00  0.0050;0.0050;0.0050;0.0050;0.0050;0.0050;0.00...   \n",
        "2014-12-19 20:11:00                                                NaN   \n",
        "2014-10-06 19:21:00                                                NaN   \n",
        "2014-12-19 20:17:00                                                NaN   \n",
        "\n",
        "                                             spectral_energy (m**2/Hz)  \\\n",
        "date_time                                                                \n",
        "2014-12-19 19:50:00  0;0;0;0;0;0;0;0;0.0115642;0.0392926;0.107139;0...   \n",
        "2014-12-19 19:50:00  0;0;0;0;0;0;0;0;0;0;0.0398613;0.0894034;0.0580...   \n",
        "2014-12-19 20:11:00                                                NaN   \n",
        "2014-10-06 19:21:00                                                NaN   \n",
        "2014-12-19 20:17:00                                                NaN   \n",
        "\n",
        "                                          mean_wave_direction (degree)  \\\n",
        "date_time                                                                \n",
        "2014-12-19 19:50:00  212.0;56.0;73.0;26.0;75.0;81.0;75.0;71.0;102.0...   \n",
        "2014-12-19 19:50:00  217.0;131.0;140.0;299.0;326.0;317.0;326.0;335....   \n",
        "2014-12-19 20:11:00                                                NaN   \n",
        "2014-10-06 19:21:00                                                NaN   \n",
        "2014-12-19 20:17:00                                                NaN   \n",
        "\n",
        "                                     principal_wave_direction (degree)  \\\n",
        "date_time                                                                \n",
        "2014-12-19 19:50:00  204.0;328.0;131.0;13.0;22.0;15.0;359.0;350.0;1...   \n",
        "2014-12-19 19:50:00  152.0;153.0;132.0;305.0;307.0;322.0;327.0;324....   \n",
        "2014-12-19 20:11:00                                                NaN   \n",
        "2014-10-06 19:21:00                                                NaN   \n",
        "2014-12-19 20:17:00                                                NaN   \n",
        "\n",
        "                                               polar_coordinate_r1 (1)  \\\n",
        "date_time                                                                \n",
        "2014-12-19 19:50:00  0.442251;0.252101;0.178636;0.26141;0.307744;0....   \n",
        "2014-12-19 19:50:00  0.222053;0.218063;0.35578;0.210298;0.307744;0....   \n",
        "2014-12-19 20:11:00                                                NaN   \n",
        "2014-10-06 19:21:00                                                NaN   \n",
        "2014-12-19 20:17:00                                                NaN   \n",
        "\n",
        "                                               polar_coordinate_r2 (1)  \\\n",
        "date_time                                                                \n",
        "2014-12-19 19:50:00  0.612917;0.0559798;0.103693;0.708588;0.38254;0...   \n",
        "2014-12-19 19:50:00  0.035578;0.330891;0.59109;0.624131;0.559798;0....   \n",
        "2014-12-19 20:11:00                                                NaN   \n",
        "2014-10-06 19:21:00                                                NaN   \n",
        "2014-12-19 20:17:00                                                NaN   \n",
        "\n",
        "                         calculation_method sampling_rate (Hz)  \n",
        "date_time                                                       \n",
        "2014-12-19 19:50:00  Longuet-Higgins (1964)                NaN  \n",
        "2014-12-19 19:50:00  Longuet-Higgins (1964)                NaN  \n",
        "2014-12-19 20:11:00                 UNKNOWN                NaN  \n",
        "2014-10-06 19:21:00                 UNKNOWN                NaN  \n",
        "2014-12-19 20:17:00                 UNKNOWN                NaN  \n",
        "\n",
        "[5 rows x 25 columns]"
       ]
      }
     ],
     "prompt_number": 8
    },
    {
     "cell_type": "markdown",
     "metadata": {},
     "source": [
      "#### Parse the data frame for station names"
     ]
    },
    {
     "cell_type": "code",
     "collapsed": false,
     "input": [
      "stations = [sta.split(':')[-1] for sta in obs_loc_df['station_id']]\n",
      "obs_lon = [sta for sta in obs_loc_df['longitude (degree)']]\n",
      "obs_lat = [sta for sta in obs_loc_df['latitude (degree)']]"
     ],
     "language": "python",
     "metadata": {},
     "outputs": [],
     "prompt_number": 9
    },
    {
     "cell_type": "markdown",
     "metadata": {},
     "source": [
      "## Obtain long term observation data sets from a station within bounding box (10+ years)\n",
      "### For simplicity let's pick a station and get all the data"
     ]
    },
    {
     "cell_type": "markdown",
     "metadata": {},
     "source": [
      "<div class=\"error\"><strong>Lack of long time series wave data at NDBC</strong> - NDBC SOS doesn't serve all of the historical data sets. See issue [here] (https://github.com/ioos/system-test/issues/137) </div>"
     ]
    },
    {
     "cell_type": "code",
     "collapsed": false,
     "input": [
      "# Let's pick one station for simplicity - Virginia Beach (44014)\n",
      "\n",
      "# Time cell execution\n",
      "tic = time.time()\n",
      "\n",
      "station = ['44014']\n",
      "station_id = station[0]\n",
      "\n",
      "station_lon = obs_loc_df.loc[obs_loc_df['station_id']==('urn:ioos:station:wmo:44014')]['longitude (degree)'].values\n",
      "station_lat = obs_loc_df.loc[obs_loc_df['station_id']==('urn:ioos:station:wmo:44014')]['latitude (degree)'].values\n",
      "\n",
      "sos_name = 'waves'\n",
      "collector = NdbcSos()\n",
      "collector.start_time = start_time\n",
      "collector.end_time = end_time\n",
      "field_of_interest = \"sea_surface_wave_significant_height (m)\"\n",
      "\n",
      "# Get all of the data into a list of yearly dataframes\n",
      "yearly_df = get_station_data(collector, station_id, sos_name, field_of_interest)\n",
      "\n",
      "toc = time.time()\n",
      "sos_elapsed = toc-tic"
     ],
     "language": "python",
     "metadata": {},
     "outputs": [
      {
       "output_type": "stream",
       "stream": "stdout",
       "text": [
        "Processing 1994 now...\n",
        "\t No Data"
       ]
      },
      {
       "output_type": "stream",
       "stream": "stdout",
       "text": [
        "\n",
        "Processing 1995 now...\n",
        "\t No Data"
       ]
      },
      {
       "output_type": "stream",
       "stream": "stdout",
       "text": [
        "\n",
        "Processing 1996 now...\n",
        "\t No Data"
       ]
      },
      {
       "output_type": "stream",
       "stream": "stdout",
       "text": [
        "\n",
        "Processing 1997 now...\n",
        "\t No Data"
       ]
      },
      {
       "output_type": "stream",
       "stream": "stdout",
       "text": [
        "\n",
        "Processing 1998 now...\n",
        "\t No Data"
       ]
      },
      {
       "output_type": "stream",
       "stream": "stdout",
       "text": [
        "\n",
        "Processing 1999 now...\n",
        "\t No Data"
       ]
      },
      {
       "output_type": "stream",
       "stream": "stdout",
       "text": [
        "\n",
        "Processing 2000 now...\n",
        "\t No Data"
       ]
      },
      {
       "output_type": "stream",
       "stream": "stdout",
       "text": [
        "\n",
        "Processing 2001 now...\n",
        "\t No Data"
       ]
      },
      {
       "output_type": "stream",
       "stream": "stdout",
       "text": [
        "\n",
        "Processing 2002 now...\n",
        "\t No Data"
       ]
      },
      {
       "output_type": "stream",
       "stream": "stdout",
       "text": [
        "\n",
        "Processing 2003 now...\n",
        "\t No Data"
       ]
      },
      {
       "output_type": "stream",
       "stream": "stdout",
       "text": [
        "\n",
        "Processing 2004 now...\n",
        "\t No Data"
       ]
      },
      {
       "output_type": "stream",
       "stream": "stdout",
       "text": [
        "\n",
        "Processing 2005 now...\n",
        "\t No Data"
       ]
      },
      {
       "output_type": "stream",
       "stream": "stdout",
       "text": [
        "\n",
        "Processing 2006 now...\n",
        "\t No Data"
       ]
      },
      {
       "output_type": "stream",
       "stream": "stdout",
       "text": [
        "\n",
        "Processing 2007 now...\n",
        "\t No Data"
       ]
      },
      {
       "output_type": "stream",
       "stream": "stdout",
       "text": [
        "\n",
        "Processing 2008 now...\n",
        "Processing 2009 now..."
       ]
      },
      {
       "output_type": "stream",
       "stream": "stdout",
       "text": [
        "\n",
        "Processing 2010 now..."
       ]
      },
      {
       "output_type": "stream",
       "stream": "stdout",
       "text": [
        "\n",
        "Processing 2011 now..."
       ]
      },
      {
       "output_type": "stream",
       "stream": "stdout",
       "text": [
        "\n",
        "Processing 2012 now..."
       ]
      },
      {
       "output_type": "stream",
       "stream": "stdout",
       "text": [
        "\n",
        "Processing 2013 now..."
       ]
      },
      {
       "output_type": "stream",
       "stream": "stdout",
       "text": [
        "\n",
        "\t No Data"
       ]
      },
      {
       "output_type": "stream",
       "stream": "stdout",
       "text": [
        "\n",
        "Processing 2014 now...\n"
       ]
      }
     ],
     "prompt_number": 10
    },
    {
     "cell_type": "code",
     "collapsed": false,
     "input": [
      "print 'Execution time through SOS - %0.2f mins' % (sos_elapsed/60)"
     ],
     "language": "python",
     "metadata": {},
     "outputs": [
      {
       "output_type": "stream",
       "stream": "stdout",
       "text": [
        "Execution time through SOS - 12.00 mins\n"
       ]
      }
     ],
     "prompt_number": 11
    },
    {
     "cell_type": "markdown",
     "metadata": {},
     "source": [
      "<div class=\"error\"><strong>SOS server is REALLY slow and sometimes times out! </strong> Let's just go straight to the DAP endpoint instead. It's faster and has all of the data</div>"
     ]
    },
    {
     "cell_type": "markdown",
     "metadata": {},
     "source": [
      "### Get the data directly from the DAP endpoint"
     ]
    },
    {
     "cell_type": "markdown",
     "metadata": {},
     "source": [
      "<div class=\"info\"><strong></strong>Data can be retrieved directly from http://dods.ndbc.noaa.gov/thredds/dodsC/data/stdmet/44014/</div>"
     ]
    },
    {
     "cell_type": "code",
     "collapsed": false,
     "input": [
      "tic = time.time()\n",
      "years = range(1990,2013)\n",
      "yearly_df = []\n",
      "for year in years:\n",
      "    # Build URL\n",
      "    url = 'http://dods.ndbc.noaa.gov/thredds/dodsC/data/stdmet/{0}/{1}h{2}.nc'.format(station_id, station_id, year)\n",
      "    nc = netCDF4.Dataset(url, 'r')\n",
      "    nc_time = nc.variables['time']\n",
      "    hs = nc.variables['wave_height']\n",
      "    hs_data = np.array(nc.variables['wave_height'][:,0,0])\n",
      "    # Replace fill values with NaN\n",
      "    hs_data[hs_data==hs._FillValue] = np.nan\n",
      "    \n",
      "    dates = num2date(nc_time[:],units=nc_time.units,calendar='gregorian')\n",
      "    timestamp = np.array(dates)\n",
      "\n",
      "    data = {}\n",
      "    data['Wave Height (m)'] = hs_data\n",
      "    df = pd.DataFrame(data, index=timestamp)\n",
      "    yearly_df.append(df)\n",
      "\n",
      "toc = time.time()\n",
      "dap_elapsed = toc-tic\n",
      "print 'Execution time through DAP - %0.2f mins' % (dap_elapsed/60)"
     ],
     "language": "python",
     "metadata": {},
     "outputs": [
      {
       "output_type": "stream",
       "stream": "stdout",
       "text": [
        "Execution time through DAP - 0.44 mins\n"
       ]
      }
     ],
     "prompt_number": 12
    },
    {
     "cell_type": "markdown",
     "metadata": {},
     "source": [
      "### Get the observed annual maximums into a dictionary"
     ]
    },
    {
     "cell_type": "code",
     "collapsed": false,
     "input": [
      "annual_max_dict = OrderedDict()\n",
      "for df in yearly_df:\n",
      "    year = pd.to_datetime(df['Wave Height (m)'].argmax()).date().year\n",
      "    annual_max_dict[str(year)] = df['Wave Height (m)'].max()"
     ],
     "language": "python",
     "metadata": {},
     "outputs": [],
     "prompt_number": 13
    },
    {
     "cell_type": "markdown",
     "metadata": {},
     "source": [
      "## Get WIS Hindcast data"
     ]
    },
    {
     "cell_type": "markdown",
     "metadata": {},
     "source": [
      "### All of the [WIS](http://wis.usace.army.mil/) stations annual maximum data was downloaded and saved to a json file (WIS_extremes.txt)"
     ]
    },
    {
     "cell_type": "markdown",
     "metadata": {},
     "source": [
      "The Wave Information Studies (WIS) is a US Army Corps of Engineers (USACE)   sponsored project that generates consistent, hourly, long-term (20+ years) wave climatologies along all US coastlines, including the Great Lakes and US island territories.  The WIS program originated in the Great Lakes in the mid 1970\u2019s and migrated to the Atlantic, Gulf of Mexico and Pacific Oceans. "
     ]
    },
    {
     "cell_type": "markdown",
     "metadata": {},
     "source": [
      "#### Get the closest WIS station and extract all of the annual max wave height data as another source of long term wave heights to compare"
     ]
    },
    {
     "cell_type": "code",
     "collapsed": false,
     "input": [
      "with open(\"./WIS_stations.txt\") as json_file:\n",
      "    location_data = json.load(json_file)\n",
      "    \n",
      "wis_lats = []\n",
      "wis_lons = []\n",
      "wis_stations = []\n",
      "for station in location_data:\n",
      "    wis_lats.append(location_data[station]['lat'])\n",
      "    wis_lons.append(location_data[station]['lon'])\n",
      "    wis_stations.append(station)\n",
      "    \n",
      "# Get index of closest WIS station to obs station\n",
      "ind, dd = nearxy(wis_lons, wis_lats, station_lon, station_lat)\n",
      "\n",
      "# Now get read the wis data\n",
      "with open(\"./WIS_extremes.txt\") as extremes_file:\n",
      "    wis_extremes = json.load(extremes_file)\n",
      "\n",
      "# Get the extremes from the closest station\n",
      "wis_station_id = wis_stations[ind]\n",
      "wis_lat = wis_lats[ind]\n",
      "wis_lon = wis_lons[ind]\n",
      "\n",
      "wis_maximums = []\n",
      "for year in wis_extremes[wis_station_id].keys():\n",
      "    wis_maximums.append(wis_extremes[wis_station_id][year]['height_max'])"
     ],
     "language": "python",
     "metadata": {},
     "outputs": [],
     "prompt_number": 14
    },
    {
     "cell_type": "markdown",
     "metadata": {},
     "source": [
      "## Extreme Value Analysis: Perform on both the observed and WIS hindcast data"
     ]
    },
    {
     "cell_type": "code",
     "collapsed": false,
     "input": [
      "annual_max = list(annual_max_dict.values()) "
     ],
     "language": "python",
     "metadata": {},
     "outputs": [],
     "prompt_number": 15
    },
    {
     "cell_type": "markdown",
     "metadata": {},
     "source": [
      "### Fit observation data to GEV distribution"
     ]
    },
    {
     "cell_type": "code",
     "collapsed": false,
     "input": [
      "def gev_pdf(x):\n",
      "    return genextreme.pdf(x, xi, loc=mu, scale=sigma)"
     ],
     "language": "python",
     "metadata": {},
     "outputs": [],
     "prompt_number": 16
    },
    {
     "cell_type": "code",
     "collapsed": false,
     "input": [
      "mle = genextreme.fit(sorted(annual_max), 0)\n",
      "mu = mle[1]\n",
      "sigma = mle[2]\n",
      "xi = mle[0]\n",
      "print \"The mean, sigma, and shape parameters are %s, %s, and %s, resp.\" % (mu, sigma, xi)"
     ],
     "language": "python",
     "metadata": {},
     "outputs": [
      {
       "output_type": "stream",
       "stream": "stdout",
       "text": [
        "The mean, sigma, and shape parameters are 6.30934360644, 0.869250663727, and 0.122446866236, resp.\n"
       ]
      }
     ],
     "prompt_number": 17
    },
    {
     "cell_type": "markdown",
     "metadata": {},
     "source": [
      "### Probability Density Plot"
     ]
    },
    {
     "cell_type": "code",
     "collapsed": false,
     "input": [
      "min_x = min(annual_max)-0.5\n",
      "max_x = max(annual_max)+0.5\n",
      "x = np.linspace(min_x, max_x, num=100)\n",
      "y = [gev_pdf(z) for z in x]\n",
      "\n",
      "fig = plt.figure(figsize=(12,6))\n",
      "axes = fig.add_axes([0.1, 0.1, 0.8, 0.8])\n",
      "station_longName = get_station_longName(station_id)\n",
      "xlabel = (station_longName + \" - Annual max Wave Height (m)\")\n",
      "axes.set_title(\"Probability Density & Normalized Histogram\")\n",
      "axes.set_xlabel(xlabel)\n",
      "axes.plot(x, y, color='Red')\n",
      "axes.hist(annual_max, bins=arange(min_x, max_x, abs((max_x-min_x)/10)), normed=1, color='Yellow')"
     ],
     "language": "python",
     "metadata": {},
     "outputs": [
      {
       "metadata": {},
       "output_type": "pyout",
       "prompt_number": 18,
       "text": [
        "(array([ 0.08674532,  0.08674532,  0.26023596,  0.60721724,  0.34698128,\n",
        "         0.17349064,  0.34698128,  0.        ,  0.        ]),\n",
        " array([ 4.46000004,  4.98400002,  5.50799999,  6.03199997,  6.55599995,\n",
        "         7.07999992,  7.6039999 ,  8.12799988,  8.65199986,  9.17599983]),\n",
        " <a list of 9 Patch objects>)"
       ]
      },
      {
       "metadata": {},
       "output_type": "display_data",
       "png": "[encoded data removed]",
       "text": [
        "<matplotlib.figure.Figure at 0x10da4e6d0>"
       ]
      }
     ],
     "prompt_number": 18
    },
    {
     "cell_type": "markdown",
     "metadata": {},
     "source": [
      "### Fit WIS data to GEV distribution"
     ]
    },
    {
     "cell_type": "code",
     "collapsed": false,
     "input": [
      "mle_wis = genextreme.fit(sorted(wis_maximums), 0)\n",
      "mu_wis = mle_wis[1]\n",
      "sigma_wis = mle_wis[2]\n",
      "xi_wis = mle_wis[0]\n",
      "print \"The mean, sigma, and shape parameters are %s, %s, and %s, resp.\" % (mu_wis, sigma_wis, xi_wis)"
     ],
     "language": "python",
     "metadata": {},
     "outputs": [
      {
       "output_type": "stream",
       "stream": "stdout",
       "text": [
        "The mean, sigma, and shape parameters are 6.56967228507, 1.28478064652, and -0.0376454753639, resp.\n"
       ]
      }
     ],
     "prompt_number": 19
    },
    {
     "cell_type": "markdown",
     "metadata": {},
     "source": [
      "### Return Value Plot"
     ]
    },
    {
     "cell_type": "code",
     "collapsed": false,
     "input": [
      "fig, axes = plt.subplots(2, 1, figsize=(20,12))\n",
      "# fig = plt.figure()\n",
      "# axes = fig.add_axes([0.1, 0.1, 0.8, 0.8])\n",
      "T=np.r_[1:500]\n",
      "sT = genextreme.isf(1./T, 0, mu, sigma)\n",
      "axes[0].semilogx(T, sT, 'r'), hold\n",
      "N=np.r_[1:len(annual_max)+1]; \n",
      "Nmax=max(N);\n",
      "axes[0].plot(Nmax/N, sorted(annual_max)[::-1], 'bo')\n",
      "title = station_longName\n",
      "axes[0].set_title(title)\n",
      "axes[0].set_xlabel('Return Period (yrs)')\n",
      "axes[0].set_ylabel('Significant Wave Height (m)') \n",
      "axes[0].grid(True)\n",
      "\n",
      "sT_wis = genextreme.isf(1./T, 0, mu_wis, sigma_wis)\n",
      "axes[1].semilogx(T, sT_wis, 'r'), hold\n",
      "N=np.r_[1:len(wis_maximums)+1]; \n",
      "Nmax=max(N);\n",
      "axes[1].plot(Nmax/N, sorted(wis_maximums)[::-1], 'bo')\n",
      "title = 'WIS ' + wis_station_id\n",
      "axes[1].set_title(title)\n",
      "axes[1].set_xlabel('Return Period (yrs)')\n",
      "axes[1].set_ylabel('Significant Wave Height (m)') \n",
      "axes[1].grid(True)\n",
      "\n",
      "ymax = max(list(sT_wis)+list(sT))\n",
      "axes[0].set_ylim([0, ymax+0.5])\n",
      "axes[1].set_ylim([0, ymax+0.5])\n",
      "# Now plot the max height from the event onto this plot\n",
      "# event = np.ones(len(T))*model_max\n",
      "# axes.plot(T, event, 'g--')"
     ],
     "language": "python",
     "metadata": {},
     "outputs": [
      {
       "metadata": {},
       "output_type": "pyout",
       "prompt_number": 20,
       "text": [
        "(0, 15.050219929748634)"
       ]
      },
      {
       "metadata": {},
       "output_type": "display_data",
       "png": "[encoded data removed]",
       "text": [
        "<matplotlib.figure.Figure at 0x108593c10>"
       ]
      }
     ],
     "prompt_number": 20
    },
    {
     "cell_type": "markdown",
     "metadata": {},
     "source": [
      "## Get some modeled wave data for an event to estimate it's characteristic return period"
     ]
    },
    {
     "cell_type": "markdown",
     "metadata": {},
     "source": [
      "### Define a new temporal range to search for a particular event (Hurricane Sandy) and get available DAP endpoints"
     ]
    },
    {
     "cell_type": "code",
     "collapsed": false,
     "input": [
      "#temporal range (Hurricane Sandy Oct 25 2014 - Nov 2 2014)\n",
      "start_date = dt.datetime(2012,10,25).strftime('%Y-%m-%d %H:00')\n",
      "end_date = dt.datetime(2012,11,2).strftime('%Y-%m-%d %H:00')\n",
      "\n",
      "jd_start = dt.datetime.strptime(start_date, '%Y-%m-%d %H:%M')\n",
      "jd_stop = dt.datetime.strptime(end_date, '%Y-%m-%d %H:%M')\n",
      "\n",
      "# convert User Input into FES filters\n",
      "start, stop = fes_date_filter(start_date, end_date)\n",
      "\n",
      "filter_list = [fes.And([ bbox, start, stop, or_filt])]\n",
      "# connect to CSW, explore it's properties\n",
      "# try request using multiple filters \"and\" syntax: [[filter1,filter2]]\n",
      "try:\n",
      "    csw.getrecords2(constraints=filter_list, maxrecords=1000, esn='full')\n",
      "except Exception as e:\n",
      "    print 'ERROR - ' + str(e)\n",
      "    \n",
      "dap_urls = service_urls(csw.records)\n",
      "\n",
      "#remove duplicates and sort\n",
      "dap_urls = sorted(set(dap_urls))\n",
      "print \"Total DAP:\",len(dap_urls)\n",
      "#print the first 5...\n",
      "print \"\\n\".join(dap_urls[10:15])"
     ],
     "language": "python",
     "metadata": {},
     "outputs": [
      {
       "output_type": "stream",
       "stream": "stdout",
       "text": [
        "Total DAP: 60\n",
        "http://oos.soest.hawaii.edu/thredds/dodsC/hioos/model/atm/ncep_global/NCEP_Global_Atmospheric_Model_best.ncd\n",
        "http://oos.soest.hawaii.edu/thredds/dodsC/hioos/model/wav/ww3/WaveWatch_III_Global_Wave_Model_best.ncd\n",
        "http://oos.soest.hawaii.edu/thredds/dodsC/hioos/satellite/dhw\n",
        "http://oos.soest.hawaii.edu/thredds/dodsC/hioos/tide_pac\n",
        "http://oos.soest.hawaii.edu/thredds/dodsC/pacioos/hycom/global\n"
       ]
      }
     ],
     "prompt_number": 21
    },
    {
     "cell_type": "code",
     "collapsed": false,
     "input": [
      "name_in_list = lambda cube: cube.standard_name in data_dict['waves']['names']\n",
      "constraint = iris.Constraint(cube_func=name_in_list)"
     ],
     "language": "python",
     "metadata": {},
     "outputs": [],
     "prompt_number": 22
    },
    {
     "cell_type": "code",
     "collapsed": false,
     "input": [
      "# Create time index for model DataFrame\n",
      "ts_rng = pd.date_range(start=jd_start, end=jd_stop, freq='H')\n",
      "ts = pd.DataFrame(index=ts_rng)\n",
      "\n",
      "# Create list of model DataFrames for each station\n",
      "model_df = pd.DataFrame(index=ts.index)\n",
      "\n",
      "model_lat = []\n",
      "model_lon = []\n",
      "\n",
      "# Use only data within 0.4 degrees.\n",
      "max_dist = 0.4\n",
      "\n",
      "# Use only data where the standard deviation of the time series exceeds 0.01 m (1 cm).\n",
      "# This eliminates flat line model time series that come from land points that should have had missing values.\n",
      "min_var = 0.01\n",
      "\n",
      "#Try the WaveWatchIII global model\n",
      "url = 'http://oos.soest.hawaii.edu/thredds/dodsC/hioos/model/wav/ww3/WaveWatch_III_Global_Wave_Model_best.ncd'\n",
      "try:\n",
      "    print 'Attemping to load {0}'.format(url)\n",
      "    cube = iris.load_cube(url, constraint)\n",
      "\n",
      "    # take first 20 chars for model name\n",
      "    mod_name = cube.attributes['title'][0:30]\n",
      "    r = cube.shape\n",
      "    timevar = find_timevar(cube)\n",
      "    lat = cube.coord(axis='Y').points\n",
      "    lon = cube.coord(axis='X').points\n",
      "    # Convert longitude to [-180 180]\n",
      "    if max(lon) > 180:\n",
      "        lon[lon>180] = lon[lon>180]-360\n",
      "    jd = timevar.units.num2date(timevar.points)\n",
      "    start = timevar.units.date2num(jd_start)\n",
      "    istart = timevar.nearest_neighbour_index(start)\n",
      "    stop = timevar.units.date2num(jd_stop)\n",
      "    istop = timevar.nearest_neighbour_index(stop)\n",
      "\n",
      "    # Only proceed if we have data in the range requested.\n",
      "    if istart != istop:\n",
      "        # Wave Watch III uses a 4D grid (time, z, lat, lon)\n",
      "        d = cube[0, 0, :, :].data\n",
      "        if len(lon.shape) == 1:\n",
      "            new_lon, new_lat = np.meshgrid(lon, lat)\n",
      "        else:\n",
      "            new_lon, new_lat = lon, lat\n",
      "\n",
      "        # Find the closest non-land point from a structured grid model.\n",
      "        j, i, dd = find_ij(new_lon, new_lat, d, station_lon, station_lat)\n",
      "\n",
      "        # Keep the lat lon of the grid point\n",
      "        model_lat = lat[j].tolist()\n",
      "        model_lon = lon[i].tolist()\n",
      "\n",
      "        # Only use if model cell is within max_dist of station\n",
      "        if dd <= max_dist:\n",
      "            arr = cube[istart:istop, 0, j, i].data\n",
      "            if arr.std() >= min_var:\n",
      "                c = mod_df(arr, timevar, istart, istop,\n",
      "                           mod_name, ts)\n",
      "                model_df = pd.concat([model_df, c], axis=1)\n",
      "                model_df.name = get_station_longName(str(station_id))\n",
      "            else:\n",
      "                print 'Min variance error'\n",
      "        else:\n",
      "            print 'Max dist error'\n",
      "    else:\n",
      "        print 'No data in range'\n",
      "except Exception as e:\n",
      "    warn(\"\\n%s\\n\" % e)\n",
      "    pass\n",
      "        \n",
      "        "
     ],
     "language": "python",
     "metadata": {},
     "outputs": [
      {
       "output_type": "stream",
       "stream": "stdout",
       "text": [
        "Attemping to load http://oos.soest.hawaii.edu/thredds/dodsC/hioos/model/wav/ww3/WaveWatch_III_Global_Wave_Model_best.ncd\n"
       ]
      },
      {
       "output_type": "stream",
       "stream": "stderr",
       "text": [
        "/Users/bobfratantonio/anaconda/envs/waves_notebook/lib/python2.7/site-packages/Iris-1.8.0_DEV-py2.7.egg/iris/fileformats/_pyke_rules/compiled_krb/fc_rules_cf_fc.py:1291: UserWarning: Gracefully filling 'time' dimension coordinate masked points\n",
        "  warnings.warn(msg.format(str(cf_coord_var.cf_name)))\n"
       ]
      }
     ],
     "prompt_number": 23
    },
    {
     "cell_type": "markdown",
     "metadata": {},
     "source": [
      "### Plot the model data for the event"
     ]
    },
    {
     "cell_type": "code",
     "collapsed": false,
     "input": [
      "model_df.plot(figsize=(14, 6), title=model_df.name, legend=False)\n",
      "model_max = list(set(model_df.max().values))\n",
      "print 'Max Value is {0}'.format(model_max)"
     ],
     "language": "python",
     "metadata": {},
     "outputs": [
      {
       "output_type": "stream",
       "stream": "stdout",
       "text": [
        "Max Value is [7.23]\n"
       ]
      },
      {
       "metadata": {},
       "output_type": "display_data",
       "png": "[encoded data removed]",
       "text": [
        "<matplotlib.figure.Figure at 0x108506110>"
       ]
      }
     ],
     "prompt_number": 24
    },
    {
     "cell_type": "markdown",
     "metadata": {},
     "source": [
      "### Plot the Observation Stations and Model Points on Map"
     ]
    },
    {
     "cell_type": "code",
     "collapsed": false,
     "input": [
      "# Find center of bounding box\n",
      "lat_center = abs(bounding_box[3]-bounding_box[1])/2 + bounding_box[1]\n",
      "lon_center = abs(bounding_box[0]-bounding_box[2])/2 + bounding_box[0]\n",
      "m = folium.Map(location=[lat_center, lon_center], zoom_start=8)\n",
      "\n",
      "# Now loop through stations and plot markers\n",
      "for n in range(len(stations)):\n",
      "    # Get the station name\n",
      "    name = stations[n]\n",
      "    longname = get_station_longName(str(name))\n",
      "\n",
      "    # Get obs station lat/lon\n",
      "    olat = obs_lat[n]\n",
      "    olon = obs_lon[n]\n",
      "    popup_string = ('<b>Station:</b><br>'+ longname)\n",
      "    \n",
      "    # Create obs station marker|\n",
      "    if olat != station_lat:\n",
      "        m.simple_marker([olat, olon], popup=popup_string, marker_color = 'red')\n",
      "    else:\n",
      "        m.simple_marker([olat, olon], popup=popup_string)\n",
      "\n",
      "# Add the model data point\n",
      "if model_lat:\n",
      "    # Get model grid points lat/lon\n",
      "    mlat = model_lat\n",
      "    mlon = model_lon\n",
      "    # Plot a line from obs station to corresponding model grid point\n",
      "    data_1=[station_lat, station_lon]\n",
      "    data_2=[model_lat, model_lon]\n",
      "    m.line([data_1,data_2],line_color='#00FF00', line_weight=5)\n",
      "\n",
      "    # Create model grid point marker\n",
      "    popup_string = ('<b>WW3 Model Grid Point</b>')\n",
      "    m.simple_marker([mlat, mlon], popup=popup_string, marker_color='purple')\n",
      "    \n",
      "    # Add WIS station\n",
      "    popup_string = ('<b>WIS station</b>')\n",
      "    m.simple_marker([wis_lat, wis_lon], popup=popup_string, marker_color='green')\n",
      "\n",
      "m.line(get_coordinates(bounding_box, bounding_box_type), line_color='#ff0000', line_weight=5)\n",
      "\n",
      "inline_map(m)"
     ],
     "language": "python",
     "metadata": {},
     "outputs": [
      {
       "html": [
        "<iframe srcdoc=\"<!DOCTYPE html>\n",
        "<head>\n",
        "   <meta http-equiv=&quot;content-type&quot; content=&quot;text/html; charset=UTF-8&quot; />\n",
        "   <link rel=&quot;stylesheet&quot; href=&quot;http://cdn.leafletjs.com/leaflet-0.7.3/leaflet.css&quot; />\n",
        "   <script src=&quot;http://cdn.leafletjs.com/leaflet-0.7.3/leaflet.js&quot;></script>\n",
        "\n",
        "   <script src=&quot;https://ajax.googleapis.com/ajax/libs/jquery/1.11.1/jquery.min.js&quot;></script>\n",
        "\n",
        "   <link rel=&quot;stylesheet&quot; href=&quot;//maxcdn.bootstrapcdn.com/bootstrap/3.2.0/css/bootstrap.min.css&quot;>\n",
        "   <link rel=&quot;stylesheet&quot; href=&quot;//maxcdn.bootstrapcdn.com/bootstrap/3.2.0/css/bootstrap-theme.min.css&quot;>\n",
        "   <script src=&quot;//maxcdn.bootstrapcdn.com/bootstrap/3.2.0/js/bootstrap.min.js&quot;></script>\n",
        "\n",
        "   <link href=&quot;//maxcdn.bootstrapcdn.com/font-awesome/4.1.0/css/font-awesome.min.css&quot; rel=&quot;stylesheet&quot;>\n",
        "\n",
        "   <link rel=&quot;stylesheet&quot; href=&quot;https://rawgit.com/lvoogdt/Leaflet.awesome-markers/2.0/develop/dist/leaflet.awesome-markers.css&quot;>\n",
        "   <script src=&quot;https://rawgithub.com/lvoogdt/Leaflet.awesome-markers/2.0/develop/dist/leaflet.awesome-markers.js&quot;></script>\n",
        "\n",
        "\n",
        "   <link rel=&quot;stylesheet&quot; href=&quot;//cdnjs.cloudflare.com/ajax/libs/leaflet.markercluster/0.4.0/MarkerCluster.Default.css&quot;>\n",
        "   <link rel=&quot;stylesheet&quot; href=&quot;//cdnjs.cloudflare.com/ajax/libs/leaflet.markercluster/0.4.0/MarkerCluster.css&quot;>\n",
        "   <script src=&quot;//cdnjs.cloudflare.com/ajax/libs/leaflet.markercluster/0.4.0/leaflet.markercluster-src.js&quot;></script>\n",
        "   <script src=&quot;//cdnjs.cloudflare.com/ajax/libs/leaflet.markercluster/0.4.0/leaflet.markercluster.js&quot;></script>\n",
        "\n",
        "   <link rel=&quot;stylesheet&quot; href=&quot;http://birdage.github.io/Leaflet.awesome-markers/dist/leaflet.awesome.rotate.css&quot;>\n",
        "\n",
        "   \n",
        "   \n",
        "   \n",
        "   \n",
        "\n",
        "   <style>\n",
        "\n",
        "      #map {\n",
        "        position:absolute;\n",
        "        top:0;\n",
        "        bottom:0;\n",
        "        right:0;\n",
        "        left:0;\n",
        "      }\n",
        "\n",
        "   </style>\n",
        "</head>\n",
        "\n",
        "<body>\n",
        "\n",
        "   <div class=&quot;folium-map&quot; id=&quot;folium_41a5d61a43e44aeca81fda6be106c681&quot; style=&quot;width: 960px; height: 500px&quot;></div>\n",
        "\n",
        "   <script>\n",
        "\n",
        "      \n",
        "\n",
        "      var base_tile = L.tileLayer('http://{s}.tile.openstreetmap.org/{z}/{x}/{y}.png', {\n",
        "          maxZoom: 18,\n",
        "          attribution: 'Map data (c) <a href=&quot;http://openstreetmap.org&quot;>OpenStreetMap</a> contributors'\n",
        "      });\n",
        "\n",
        "      var baseLayer = {        \n",
        "        &quot;Base Layer&quot;: base_tile\n",
        "      };\n",
        "\n",
        "      /*\n",
        "      addition of the wms layers\n",
        "      */ \n",
        "\n",
        "      \n",
        "      \n",
        "      /*\n",
        "      addition of the tile layers\n",
        "      */\n",
        "      \n",
        "\n",
        "      /*\n",
        "      list of layers to be added\n",
        "      */ \n",
        "      var layer_list = {\n",
        "      \n",
        "      };\n",
        "\n",
        "      /*\n",
        "      Creates the map and adds the selected layers\n",
        "      */\n",
        "      var map = L.map('folium_41a5d61a43e44aeca81fda6be106c681', {\n",
        "                                       center:[36, -75],\n",
        "                                       zoom: 8,\n",
        "                                       layers: [base_tile]\n",
        "                                     });\n",
        "\n",
        "      L.control.layers(baseLayer, layer_list).addTo(map);\n",
        "\n",
        "      //cluster group\n",
        "      var clusteredmarkers = L.markerClusterGroup();\n",
        "      //section for adding clustered markers\n",
        "      \n",
        "      //add the clustered markers to the group anyway\n",
        "      map.addLayer(clusteredmarkers);\n",
        "\n",
        "      \n",
        "      var marker_1_icon = L.AwesomeMarkers.icon({ icon: 'info-sign',markerColor: 'red',prefix: 'glyphicon',extraClasses: 'fa-rotate-0'});\n",
        "      var marker_1 = L.marker([35.01, \n",
        "\t\t\t\t\t\t\t-75.4],\n",
        "\t\t\t\t\t\t\t{'icon':marker_1_icon}\n",
        "\t\t\t\t\t\t\t);\n",
        "      marker_1.bindPopup(&quot;<b>Station:</b><br>Diamond Shoals&quot;);\n",
        "      map.addLayer(marker_1)\n",
        "      \n",
        "      var marker_2_icon = L.AwesomeMarkers.icon({ icon: 'info-sign',markerColor: 'blue',prefix: 'glyphicon',extraClasses: 'fa-rotate-0'});\n",
        "      var marker_2 = L.marker([36.61, \n",
        "\t\t\t\t\t\t\t-74.84],\n",
        "\t\t\t\t\t\t\t{'icon':marker_2_icon}\n",
        "\t\t\t\t\t\t\t);\n",
        "      marker_2.bindPopup(&quot;<b>Station:</b><br>64 NM East of Virginia Beach, VA&quot;);\n",
        "      map.addLayer(marker_2)\n",
        "      \n",
        "      var marker_3_icon = L.AwesomeMarkers.icon({ icon: 'info-sign',markerColor: 'red',prefix: 'glyphicon',extraClasses: 'fa-rotate-0'});\n",
        "      var marker_3 = L.marker([36.2, \n",
        "\t\t\t\t\t\t\t-75.714],\n",
        "\t\t\t\t\t\t\t{'icon':marker_3_icon}\n",
        "\t\t\t\t\t\t\t);\n",
        "      marker_3.bindPopup(&quot;<b>Station:</b><br>Duck FRF, NC&quot;);\n",
        "      map.addLayer(marker_3)\n",
        "      \n",
        "      var marker_4_icon = L.AwesomeMarkers.icon({ icon: 'info-sign',markerColor: 'red',prefix: 'glyphicon',extraClasses: 'fa-rotate-0'});\n",
        "      var marker_4 = L.marker([36.872, \n",
        "\t\t\t\t\t\t\t-75.492],\n",
        "\t\t\t\t\t\t\t{'icon':marker_4_icon}\n",
        "\t\t\t\t\t\t\t);\n",
        "      marker_4.bindPopup(&quot;<b>Station:</b><br>Offshore Wind Energy Area, VA - 211&quot;);\n",
        "      map.addLayer(marker_4)\n",
        "      \n",
        "      var marker_5_icon = L.AwesomeMarkers.icon({ icon: 'info-sign',markerColor: 'red',prefix: 'glyphicon',extraClasses: 'fa-rotate-0'});\n",
        "      var marker_5 = L.marker([35.583, \n",
        "\t\t\t\t\t\t\t-75.317],\n",
        "\t\t\t\t\t\t\t{'icon':marker_5_icon}\n",
        "\t\t\t\t\t\t\t);\n",
        "      marker_5.bindPopup(&quot;<b>Station:</b><br>Oregon Inlet, NC  - 192&quot;);\n",
        "      map.addLayer(marker_5)\n",
        "      \n",
        "      var marker_6_icon = L.AwesomeMarkers.icon({ icon: 'info-sign',markerColor: 'red',prefix: 'glyphicon',extraClasses: 'fa-rotate-0'});\n",
        "      var marker_6 = L.marker([37.023, \n",
        "\t\t\t\t\t\t\t-75.81],\n",
        "\t\t\t\t\t\t\t{'icon':marker_6_icon}\n",
        "\t\t\t\t\t\t\t);\n",
        "      marker_6.bindPopup(&quot;<b>Station:</b><br>Cape Charles, VA - 186&quot;);\n",
        "      map.addLayer(marker_6)\n",
        "      \n",
        "      var marker_7_icon = L.AwesomeMarkers.icon({ icon: 'info-sign',markerColor: 'red',prefix: 'glyphicon',extraClasses: 'fa-rotate-0'});\n",
        "      var marker_7 = L.marker([36.908, \n",
        "\t\t\t\t\t\t\t-75.775],\n",
        "\t\t\t\t\t\t\t{'icon':marker_7_icon}\n",
        "\t\t\t\t\t\t\t);\n",
        "      marker_7.bindPopup(&quot;<b>Station:</b><br>Cape Henry, VA (147)&quot;);\n",
        "      map.addLayer(marker_7)\n",
        "      \n",
        "      var marker_8_icon = L.AwesomeMarkers.icon({ icon: 'info-sign',markerColor: 'red',prefix: 'glyphicon',extraClasses: 'fa-rotate-0'});\n",
        "      var marker_8 = L.marker([36.258, \n",
        "\t\t\t\t\t\t\t-75.591],\n",
        "\t\t\t\t\t\t\t{'icon':marker_8_icon}\n",
        "\t\t\t\t\t\t\t);\n",
        "      marker_8.bindPopup(&quot;<b>Station:</b><br>Duck FRF 26m, NC (430)&quot;);\n",
        "      map.addLayer(marker_8)\n",
        "      \n",
        "      var marker_9_icon = L.AwesomeMarkers.icon({ icon: 'info-sign',markerColor: 'red',prefix: 'glyphicon',extraClasses: 'fa-rotate-0'});\n",
        "      var marker_9 = L.marker([36.189, \n",
        "\t\t\t\t\t\t\t-75.587],\n",
        "\t\t\t\t\t\t\t{'icon':marker_9_icon}\n",
        "\t\t\t\t\t\t\t);\n",
        "      marker_9.bindPopup(&quot;<b>Station:</b><br>USACE-CHL Field Research Facility, Duck, NC&quot;);\n",
        "      map.addLayer(marker_9)\n",
        "      \n",
        "      var marker_10_icon = L.AwesomeMarkers.icon({ icon: 'info-sign',markerColor: 'red',prefix: 'glyphicon',extraClasses: 'fa-rotate-0'});\n",
        "      var marker_10 = L.marker([35.912, \n",
        "\t\t\t\t\t\t\t-75.587],\n",
        "\t\t\t\t\t\t\t{'icon':marker_10_icon}\n",
        "\t\t\t\t\t\t\t);\n",
        "      marker_10.bindPopup(&quot;<b>Station:</b><br>Jennette's Pier, Nags Head, NC&quot;);\n",
        "      map.addLayer(marker_10)\n",
        "      \n",
        "      var marker_11_icon = L.AwesomeMarkers.icon({ icon: 'info-sign',markerColor: 'purple',prefix: 'glyphicon',extraClasses: 'fa-rotate-0'});\n",
        "      var marker_11 = L.marker([36.5, \n",
        "\t\t\t\t\t\t\t[-75.0]],\n",
        "\t\t\t\t\t\t\t{'icon':marker_11_icon}\n",
        "\t\t\t\t\t\t\t);\n",
        "      marker_11.bindPopup(&quot;<b>WW3 Model Grid Point</b>&quot;);\n",
        "      map.addLayer(marker_11)\n",
        "      \n",
        "      var marker_12_icon = L.AwesomeMarkers.icon({ icon: 'info-sign',markerColor: 'green',prefix: 'glyphicon',extraClasses: 'fa-rotate-0'});\n",
        "      var marker_12 = L.marker([36.5, \n",
        "\t\t\t\t\t\t\t-74.75],\n",
        "\t\t\t\t\t\t\t{'icon':marker_12_icon}\n",
        "\t\t\t\t\t\t\t);\n",
        "      marker_12.bindPopup(&quot;<b>WIS station</b>&quot;);\n",
        "      map.addLayer(marker_12)\n",
        "      \n",
        "\n",
        "      \n",
        "\n",
        "      \n",
        "      var latLngs = [ [[ 36.61], [-74.84]],  [36.5, [-75.0]], ];\n",
        "var line_1 = L.polyline(latLngs,{\n",
        "color: '#00FF00',\n",
        "weight: 5,\n",
        "\n",
        "});\n",
        "      map.addLayer(line_1);\n",
        "      \n",
        "      var latLngs = [ [34, -76],  [34, -74],  [38, -74],  [38, -76],  [34, -76], ];\n",
        "var line_2 = L.polyline(latLngs,{\n",
        "color: '#ff0000',\n",
        "weight: 5,\n",
        "\n",
        "});\n",
        "      map.addLayer(line_2);\n",
        "      \n",
        "\n",
        "      \n",
        "\n",
        "      \n",
        "\n",
        "   </script>\n",
        "\n",
        "</body>\" style=\"width: 100%; height: 500px; border: none\"></iframe>"
       ],
       "metadata": {},
       "output_type": "pyout",
       "prompt_number": 25,
       "text": [
        "<IPython.core.display.HTML at 0x10dcc7bd0>"
       ]
      }
     ],
     "prompt_number": 25
    },
    {
     "cell_type": "markdown",
     "metadata": {},
     "source": [
      "### Return value plot with event max overlayed as dashed line"
     ]
    },
    {
     "cell_type": "code",
     "collapsed": false,
     "input": [
      "fig, axes = plt.subplots(2, 1, figsize=(20,12))\n",
      "# fig = plt.figure()\n",
      "# axes = fig.add_axes([0.1, 0.1, 0.8, 0.8])\n",
      "T=np.r_[1:500]\n",
      "sT = genextreme.isf(1./T, 0, mu, sigma)\n",
      "axes[0].semilogx(T, sT, 'r'), hold\n",
      "N=np.r_[1:len(annual_max)+1]; \n",
      "Nmax=max(N);\n",
      "axes[0].plot(Nmax/N, sorted(annual_max)[::-1], 'bo')\n",
      "title = station_longName\n",
      "axes[0].set_title(title)\n",
      "axes[0].set_xlabel('Return Period (yrs)')\n",
      "axes[0].set_ylabel('Significant Wave Height (m)') \n",
      "axes[0].grid(True)\n",
      "# Now plot the max height from the event onto this plot\n",
      "event = np.ones(len(T))*model_max\n",
      "axes[0].plot(T, event, 'g--')\n",
      "\n",
      "sT_wis = genextreme.isf(1./T, 0, mu_wis, sigma_wis)\n",
      "axes[1].semilogx(T, sT_wis, 'r'), hold\n",
      "N=np.r_[1:len(wis_maximums)+1]; \n",
      "Nmax=max(N);\n",
      "axes[1].plot(Nmax/N, sorted(wis_maximums)[::-1], 'bo')\n",
      "title = 'WIS ' + wis_station_id\n",
      "axes[1].set_title(title)\n",
      "axes[1].set_xlabel('Return Period (yrs)')\n",
      "axes[1].set_ylabel('Significant Wave Height (m)') \n",
      "axes[1].grid(True)\n",
      "\n",
      "ymax = max(list(sT_wis)+list(sT))\n",
      "axes[0].set_ylim([0, ymax+0.5])\n",
      "axes[1].set_ylim([0, ymax+0.5])\n",
      "\n",
      "# Now plot the max height from the event onto this plot\n",
      "axes[1].plot(T, event, 'g--')"
     ],
     "language": "python",
     "metadata": {},
     "outputs": [
      {
       "metadata": {},
       "output_type": "pyout",
       "prompt_number": 26,
       "text": [
        "[<matplotlib.lines.Line2D at 0x108141a10>]"
       ]
      },
      {
       "metadata": {},
       "output_type": "display_data",
       "png": "[encoded data removed]",
       "text": [
        "<matplotlib.figure.Figure at 0x11469d250>"
       ]
      }
     ],
     "prompt_number": 26
    }
   ],
   "metadata": {}
  }
 ]
}